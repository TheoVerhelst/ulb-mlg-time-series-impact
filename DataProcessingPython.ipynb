{
 "cells": [
  {
   "cell_type": "code",
   "execution_count": 1,
   "metadata": {},
   "outputs": [],
   "source": [
    "import numpy as np\n",
    "import pandas as pd"
   ]
  },
  {
   "cell_type": "code",
   "execution_count": 2,
   "metadata": {},
   "outputs": [],
   "source": [
    "lockdown_data = pd.read_csv('data/lockdown_dates.csv').fillna(\"\")"
   ]
  },
  {
   "cell_type": "code",
   "execution_count": 3,
   "metadata": {},
   "outputs": [],
   "source": [
    "restrictions_df = pd.read_csv('data/Kaggle_CountryInfo/restrictions.csv').fillna(\"\")"
   ]
  },
  {
   "cell_type": "code",
   "execution_count": 4,
   "metadata": {},
   "outputs": [],
   "source": [
    "restrictions_df.loc[:,'type'] = 'Date.' + restrictions_df.loc[:,'type'].astype(str)"
   ]
  },
  {
   "cell_type": "code",
   "execution_count": 6,
   "metadata": {},
   "outputs": [],
   "source": [
    "restrictions_df.date = pd.to_datetime(restrictions_df.date)"
   ]
  },
  {
   "cell_type": "code",
   "execution_count": 15,
   "metadata": {},
   "outputs": [],
   "source": [
    "countries = restrictions_df.country_region.unique()\n",
    "dates = restrictions_df.type.unique()"
   ]
  },
  {
   "cell_type": "code",
   "execution_count": 28,
   "metadata": {},
   "outputs": [],
   "source": [
    "cols = np.append(dates, [\"limit\", \"mandatory\", \"notes\"])"
   ]
  },
  {
   "cell_type": "code",
   "execution_count": 29,
   "metadata": {},
   "outputs": [],
   "source": [
    "# Create new dataframe\n",
    "df = pd.DataFrame(index=countries, columns=cols)"
   ]
  },
  {
   "cell_type": "code",
   "execution_count": 35,
   "metadata": {},
   "outputs": [],
   "source": [
    "tmp_dates = restrictions_df.pivot_table(index=\"country_region\", columns=\"type\", values=\"date\", aggfunc=lambda x: x)"
   ]
  },
  {
   "cell_type": "code",
   "execution_count": 37,
   "metadata": {},
   "outputs": [],
   "source": [
    "df.loc[:, tmp_dates.columns] = tmp_dates.values"
   ]
  },
  {
   "cell_type": "code",
   "execution_count": 63,
   "metadata": {},
   "outputs": [],
   "source": [
    "# rename columns\n",
    "restrictions_df.columns = ['country_region', 'date', 'type', 'limit', 'mandatory', 'notes']"
   ]
  },
  {
   "cell_type": "code",
   "execution_count": 64,
   "metadata": {},
   "outputs": [],
   "source": [
    "notes = restrictions_df.groupby(\"country_region\").notes.agg(lambda x: \",\".join(x))"
   ]
  },
  {
   "cell_type": "code",
   "execution_count": 72,
   "metadata": {},
   "outputs": [],
   "source": [
    "df.columns = ['Date.Schools', 'Date.Public Places', 'Date.Gatherings',\n",
    "       'Date.Stay at Home', 'Date.Lockdown', 'Date.Non-essential', 'Gatherings.limit',\n",
    "       'mandatory', 'notes']"
   ]
  },
  {
   "cell_type": "code",
   "execution_count": 67,
   "metadata": {},
   "outputs": [],
   "source": [
    "df.loc[:, \"notes\"] = notes.values"
   ]
  },
  {
   "cell_type": "code",
   "execution_count": 71,
   "metadata": {},
   "outputs": [],
   "source": [
    "df = df.fillna(\"\")"
   ]
  },
  {
   "cell_type": "code",
   "execution_count": 74,
   "metadata": {},
   "outputs": [],
   "source": [
    "df = df.reset_index()"
   ]
  },
  {
   "cell_type": "code",
   "execution_count": 77,
   "metadata": {},
   "outputs": [],
   "source": [
    "df.columns = ['Country.Region', 'Date.Schools', 'Date.Public Places', 'Date.Gatherings',\n",
    "       'Date.Stay at Home', 'Date.Lockdown', 'Date.Non-essential',\n",
    "       'Gatherings.limit', 'mandatory', 'notes']"
   ]
  },
  {
   "cell_type": "code",
   "execution_count": 79,
   "metadata": {},
   "outputs": [],
   "source": [
    "df['Province.State'] = \"\""
   ]
  },
  {
   "cell_type": "code",
   "execution_count": 81,
   "metadata": {},
   "outputs": [
    {
     "data": {
      "text/plain": [
       "Index(['Country.Region', 'Date.Schools', 'Date.Public Places',\n",
       "       'Date.Gatherings', 'Date.Stay at Home', 'Date.Lockdown',\n",
       "       'Date.Non-essential', 'Gatherings.limit', 'mandatory', 'notes',\n",
       "       'Province.State'],\n",
       "      dtype='object')"
      ]
     },
     "execution_count": 81,
     "metadata": {},
     "output_type": "execute_result"
    }
   ],
   "source": [
    "df.columns"
   ]
  },
  {
   "cell_type": "code",
   "execution_count": 83,
   "metadata": {},
   "outputs": [],
   "source": [
    "# Rearange columns\n",
    "df = df.loc[:, ['Province.State','Country.Region', 'Date.Schools', 'Date.Public Places',\n",
    "       'Date.Gatherings', 'Date.Stay at Home', 'Date.Lockdown',\n",
    "       'Date.Non-essential', 'Gatherings.limit', 'mandatory', 'notes']]"
   ]
  },
  {
   "cell_type": "code",
   "execution_count": 84,
   "metadata": {},
   "outputs": [],
   "source": [
    "df.to_csv(\"restrictions_columnwise.csv\")"
   ]
  },
  {
   "cell_type": "markdown",
   "metadata": {},
   "source": [
    "### Now let's add the extra data"
   ]
  },
  {
   "cell_type": "code",
   "execution_count": 106,
   "metadata": {},
   "outputs": [],
   "source": [
    "df['Country.Continent'] = \"\""
   ]
  },
  {
   "cell_type": "code",
   "execution_count": 114,
   "metadata": {},
   "outputs": [],
   "source": [
    "df = df.loc[:, ['Country.Continent', 'Country.Region', 'Province.State', 'Date.Schools',\n",
    "       'Date.Public Places', 'Date.Gatherings', 'Date.Stay at Home',\n",
    "       'Date.Lockdown', 'Date.Non-essential', 'Gatherings.limit', 'mandatory',\n",
    "       'notes']]"
   ]
  },
  {
   "cell_type": "code",
   "execution_count": 291,
   "metadata": {},
   "outputs": [
    {
     "data": {
      "text/html": [
       "<div>\n",
       "<style scoped>\n",
       "    .dataframe tbody tr th:only-of-type {\n",
       "        vertical-align: middle;\n",
       "    }\n",
       "\n",
       "    .dataframe tbody tr th {\n",
       "        vertical-align: top;\n",
       "    }\n",
       "\n",
       "    .dataframe thead th {\n",
       "        text-align: right;\n",
       "    }\n",
       "</style>\n",
       "<table border=\"1\" class=\"dataframe\">\n",
       "  <thead>\n",
       "    <tr style=\"text-align: right;\">\n",
       "      <th></th>\n",
       "      <th>Country.Continent</th>\n",
       "      <th>Country.Region</th>\n",
       "      <th>Province.State</th>\n",
       "      <th>Date.Schools</th>\n",
       "      <th>Date.Public Places</th>\n",
       "      <th>Date.Gatherings</th>\n",
       "      <th>Date.Stay at Home</th>\n",
       "      <th>Date.Lockdown</th>\n",
       "      <th>Date.Non-essential</th>\n",
       "      <th>Gatherings.limit</th>\n",
       "      <th>mandatory</th>\n",
       "      <th>notes</th>\n",
       "    </tr>\n",
       "  </thead>\n",
       "  <tbody>\n",
       "    <tr>\n",
       "      <th>69</th>\n",
       "      <td></td>\n",
       "      <td>Portugal</td>\n",
       "      <td>Portugal</td>\n",
       "      <td>2020-03-19T00:00:00.000000000</td>\n",
       "      <td>2020-03-19T00:00:00.000000000</td>\n",
       "      <td></td>\n",
       "      <td></td>\n",
       "      <td></td>\n",
       "      <td></td>\n",
       "      <td>0</td>\n",
       "      <td>Yes,Yes</td>\n",
       "      <td>Fairlly substantial restrictions,</td>\n",
       "    </tr>\n",
       "  </tbody>\n",
       "</table>\n",
       "</div>"
      ],
      "text/plain": [
       "   Country.Continent Country.Region Province.State  \\\n",
       "69                         Portugal       Portugal   \n",
       "\n",
       "                     Date.Schools             Date.Public Places  \\\n",
       "69  2020-03-19T00:00:00.000000000  2020-03-19T00:00:00.000000000   \n",
       "\n",
       "   Date.Gatherings Date.Stay at Home Date.Lockdown Date.Non-essential  \\\n",
       "69                                                                      \n",
       "\n",
       "    Gatherings.limit mandatory                              notes  \n",
       "69                 0   Yes,Yes  Fairlly substantial restrictions,  "
      ]
     },
     "execution_count": 291,
     "metadata": {},
     "output_type": "execute_result"
    }
   ],
   "source": [
    "df[df['Country.Region'].str.contains('Portugal')]"
   ]
  },
  {
   "cell_type": "code",
   "execution_count": 292,
   "metadata": {},
   "outputs": [],
   "source": [
    "index = 69"
   ]
  },
  {
   "cell_type": "code",
   "execution_count": 293,
   "metadata": {
    "scrolled": true
   },
   "outputs": [
    {
     "data": {
      "text/plain": [
       "Country.Continent                                      \n",
       "Country.Region                                 Portugal\n",
       "Province.State                                 Portugal\n",
       "Date.Schools              2020-03-19T00:00:00.000000000\n",
       "Date.Public Places        2020-03-19T00:00:00.000000000\n",
       "Date.Gatherings                                        \n",
       "Date.Stay at Home                                      \n",
       "Date.Lockdown                                          \n",
       "Date.Non-essential                                     \n",
       "Gatherings.limit                                      0\n",
       "mandatory                                       Yes,Yes\n",
       "notes                 Fairlly substantial restrictions,\n",
       "Name: 69, dtype: object"
      ]
     },
     "execution_count": 293,
     "metadata": {},
     "output_type": "execute_result"
    }
   ],
   "source": [
    "df.loc[index, :]"
   ]
  },
  {
   "cell_type": "code",
   "execution_count": 294,
   "metadata": {},
   "outputs": [],
   "source": [
    "df.loc[index, 'Country.Continent'] = '2020-03-18'"
   ]
  },
  {
   "cell_type": "code",
   "execution_count": 219,
   "metadata": {},
   "outputs": [],
   "source": [
    "df = df.append({'Country.Continent':'Europe', \n",
    "           'Country.Region':'Italy', \n",
    "           'Province.State':'Northen Italy', \n",
    "           'Date.Schools':'', \n",
    "           'Date.Public Places':'', \n",
    "           'Date.Gatherings':'', \n",
    "           'Date.Stay at Home':'', \n",
    "           'Date.Lockdown':'', \n",
    "           'Date.Non-essential':'2020-03-14', \n",
    "           'Gatherings.limit':0, \n",
    "           'mandatory':'Yes', \n",
    "           'notes':'affecting over sixteen million people, restricting travel from, to or within the affected areas, banning funerals and cultural events, and requiring people to keep at least one metre of distance from one another in public locations such as restaurants, churches and supermarkets'}, ignore_index=True)"
   ]
  },
  {
   "cell_type": "code",
   "execution_count": 86,
   "metadata": {},
   "outputs": [
    {
     "data": {
      "text/html": [
       "<div>\n",
       "<style scoped>\n",
       "    .dataframe tbody tr th:only-of-type {\n",
       "        vertical-align: middle;\n",
       "    }\n",
       "\n",
       "    .dataframe tbody tr th {\n",
       "        vertical-align: top;\n",
       "    }\n",
       "\n",
       "    .dataframe thead th {\n",
       "        text-align: right;\n",
       "    }\n",
       "</style>\n",
       "<table border=\"1\" class=\"dataframe\">\n",
       "  <thead>\n",
       "    <tr style=\"text-align: right;\">\n",
       "      <th></th>\n",
       "      <th>Country.Continent</th>\n",
       "      <th>Country</th>\n",
       "      <th>Country.Region</th>\n",
       "      <th>Date.LockdownBeginning</th>\n",
       "    </tr>\n",
       "  </thead>\n",
       "  <tbody>\n",
       "    <tr>\n",
       "      <th>0</th>\n",
       "      <td>Africa</td>\n",
       "      <td>Democratic Republic of the Congo</td>\n",
       "      <td>KINSHASA (DRC)</td>\n",
       "      <td>2020-3-28</td>\n",
       "    </tr>\n",
       "    <tr>\n",
       "      <th>1</th>\n",
       "      <td>Africa</td>\n",
       "      <td>IVORY COAST</td>\n",
       "      <td></td>\n",
       "      <td>2020-3-23</td>\n",
       "    </tr>\n",
       "    <tr>\n",
       "      <th>2</th>\n",
       "      <td>Africa</td>\n",
       "      <td>SOUTH AFRICA</td>\n",
       "      <td></td>\n",
       "      <td>2020-3-27</td>\n",
       "    </tr>\n",
       "    <tr>\n",
       "      <th>3</th>\n",
       "      <td>Africa</td>\n",
       "      <td>MAROCCO</td>\n",
       "      <td></td>\n",
       "      <td>2020-3-23</td>\n",
       "    </tr>\n",
       "    <tr>\n",
       "      <th>4</th>\n",
       "      <td>Africa</td>\n",
       "      <td>ALGERIA</td>\n",
       "      <td></td>\n",
       "      <td>2020-3-28</td>\n",
       "    </tr>\n",
       "    <tr>\n",
       "      <th>5</th>\n",
       "      <td>Africa</td>\n",
       "      <td>TUNISIA</td>\n",
       "      <td></td>\n",
       "      <td>2020-3-22</td>\n",
       "    </tr>\n",
       "    <tr>\n",
       "      <th>6</th>\n",
       "      <td>Africa</td>\n",
       "      <td>MAURITIUS ISLANDS</td>\n",
       "      <td></td>\n",
       "      <td>2020-3-24</td>\n",
       "    </tr>\n",
       "    <tr>\n",
       "      <th>7</th>\n",
       "      <td>Europe</td>\n",
       "      <td>UK</td>\n",
       "      <td></td>\n",
       "      <td>2020-3-23</td>\n",
       "    </tr>\n",
       "    <tr>\n",
       "      <th>8</th>\n",
       "      <td>Europe</td>\n",
       "      <td>BULGARIA</td>\n",
       "      <td></td>\n",
       "      <td>2020-3-19</td>\n",
       "    </tr>\n",
       "    <tr>\n",
       "      <th>9</th>\n",
       "      <td>Europe</td>\n",
       "      <td>DENMARK</td>\n",
       "      <td></td>\n",
       "      <td>2020-3-11</td>\n",
       "    </tr>\n",
       "    <tr>\n",
       "      <th>10</th>\n",
       "      <td>Europe</td>\n",
       "      <td>GREECE</td>\n",
       "      <td></td>\n",
       "      <td>2020-3-23</td>\n",
       "    </tr>\n",
       "    <tr>\n",
       "      <th>11</th>\n",
       "      <td>Europe</td>\n",
       "      <td>ITALY</td>\n",
       "      <td></td>\n",
       "      <td>2020-3-10</td>\n",
       "    </tr>\n",
       "    <tr>\n",
       "      <th>12</th>\n",
       "      <td>Europe</td>\n",
       "      <td>SPAIN</td>\n",
       "      <td></td>\n",
       "      <td>2020-3-14</td>\n",
       "    </tr>\n",
       "    <tr>\n",
       "      <th>13</th>\n",
       "      <td>Europe</td>\n",
       "      <td>CZECH REPUBLIC</td>\n",
       "      <td></td>\n",
       "      <td>2020-3-16</td>\n",
       "    </tr>\n",
       "    <tr>\n",
       "      <th>14</th>\n",
       "      <td>Europe</td>\n",
       "      <td>FRANCE</td>\n",
       "      <td></td>\n",
       "      <td>2020-3-17</td>\n",
       "    </tr>\n",
       "    <tr>\n",
       "      <th>15</th>\n",
       "      <td>Europe</td>\n",
       "      <td>BELGIUM</td>\n",
       "      <td></td>\n",
       "      <td>2020-3-18</td>\n",
       "    </tr>\n",
       "    <tr>\n",
       "      <th>16</th>\n",
       "      <td>Europe</td>\n",
       "      <td>AUSTRIA</td>\n",
       "      <td></td>\n",
       "      <td>2020-3-16</td>\n",
       "    </tr>\n",
       "    <tr>\n",
       "      <th>17</th>\n",
       "      <td>Europe</td>\n",
       "      <td>GERMANY</td>\n",
       "      <td></td>\n",
       "      <td>2020-3-22</td>\n",
       "    </tr>\n",
       "    <tr>\n",
       "      <th>18</th>\n",
       "      <td>Europe</td>\n",
       "      <td>PORTUGAL</td>\n",
       "      <td></td>\n",
       "      <td>2020-3-18</td>\n",
       "    </tr>\n",
       "    <tr>\n",
       "      <th>19</th>\n",
       "      <td>Europe</td>\n",
       "      <td>HUNGARY</td>\n",
       "      <td></td>\n",
       "      <td>2020-3-27</td>\n",
       "    </tr>\n",
       "    <tr>\n",
       "      <th>20</th>\n",
       "      <td>Europe</td>\n",
       "      <td>IRELAND</td>\n",
       "      <td></td>\n",
       "      <td>2020-3-24</td>\n",
       "    </tr>\n",
       "    <tr>\n",
       "      <th>21</th>\n",
       "      <td>Europe</td>\n",
       "      <td>SWITZERLAND</td>\n",
       "      <td></td>\n",
       "      <td>2020-3-24</td>\n",
       "    </tr>\n",
       "    <tr>\n",
       "      <th>22</th>\n",
       "      <td>South America</td>\n",
       "      <td>VENEZUELA</td>\n",
       "      <td></td>\n",
       "      <td>2020-3-17</td>\n",
       "    </tr>\n",
       "    <tr>\n",
       "      <th>23</th>\n",
       "      <td>South America</td>\n",
       "      <td>Brazil</td>\n",
       "      <td>SAO PAULO</td>\n",
       "      <td>2020-3-24</td>\n",
       "    </tr>\n",
       "    <tr>\n",
       "      <th>24</th>\n",
       "      <td>South America</td>\n",
       "      <td>COLOMBIA</td>\n",
       "      <td></td>\n",
       "      <td>2020-3-24</td>\n",
       "    </tr>\n",
       "    <tr>\n",
       "      <th>25</th>\n",
       "      <td>South America</td>\n",
       "      <td>ARGENTINA</td>\n",
       "      <td></td>\n",
       "      <td>2020-3-19</td>\n",
       "    </tr>\n",
       "    <tr>\n",
       "      <th>26</th>\n",
       "      <td>Asia</td>\n",
       "      <td>INDIA</td>\n",
       "      <td></td>\n",
       "      <td>2020-3-24</td>\n",
       "    </tr>\n",
       "    <tr>\n",
       "      <th>27</th>\n",
       "      <td>Asia</td>\n",
       "      <td>China</td>\n",
       "      <td>WUHAN</td>\n",
       "      <td>2020-3-23</td>\n",
       "    </tr>\n",
       "    <tr>\n",
       "      <th>28</th>\n",
       "      <td>Asia</td>\n",
       "      <td>China</td>\n",
       "      <td>HUBEI PROVINCE</td>\n",
       "      <td>2020-3-13</td>\n",
       "    </tr>\n",
       "    <tr>\n",
       "      <th>29</th>\n",
       "      <td>Middle East</td>\n",
       "      <td>IRAQ</td>\n",
       "      <td></td>\n",
       "      <td>2020-3-28</td>\n",
       "    </tr>\n",
       "    <tr>\n",
       "      <th>30</th>\n",
       "      <td>Middle East</td>\n",
       "      <td>LEBANON</td>\n",
       "      <td></td>\n",
       "      <td>2020-3-15</td>\n",
       "    </tr>\n",
       "    <tr>\n",
       "      <th>31</th>\n",
       "      <td>Middle East</td>\n",
       "      <td>ISRAEL</td>\n",
       "      <td></td>\n",
       "      <td>2020-3-17</td>\n",
       "    </tr>\n",
       "    <tr>\n",
       "      <th>32</th>\n",
       "      <td>North America</td>\n",
       "      <td>United States of America</td>\n",
       "      <td>CALIFORNIA</td>\n",
       "      <td>2020-3-19</td>\n",
       "    </tr>\n",
       "    <tr>\n",
       "      <th>33</th>\n",
       "      <td>North America</td>\n",
       "      <td>United States of America</td>\n",
       "      <td>STATE OF NY</td>\n",
       "      <td>2020-3-22</td>\n",
       "    </tr>\n",
       "  </tbody>\n",
       "</table>\n",
       "</div>"
      ],
      "text/plain": [
       "   Country.Continent                           Country  Country.Region  \\\n",
       "0             Africa  Democratic Republic of the Congo  KINSHASA (DRC)   \n",
       "1             Africa                       IVORY COAST                   \n",
       "2             Africa                      SOUTH AFRICA                   \n",
       "3             Africa                           MAROCCO                   \n",
       "4             Africa                           ALGERIA                   \n",
       "5             Africa                           TUNISIA                   \n",
       "6             Africa                 MAURITIUS ISLANDS                   \n",
       "7             Europe                                UK                   \n",
       "8             Europe                          BULGARIA                   \n",
       "9             Europe                           DENMARK                   \n",
       "10            Europe                            GREECE                   \n",
       "11            Europe                             ITALY                   \n",
       "12            Europe                             SPAIN                   \n",
       "13            Europe                    CZECH REPUBLIC                   \n",
       "14            Europe                            FRANCE                   \n",
       "15            Europe                           BELGIUM                   \n",
       "16            Europe                           AUSTRIA                   \n",
       "17            Europe                           GERMANY                   \n",
       "18            Europe                          PORTUGAL                   \n",
       "19            Europe                           HUNGARY                   \n",
       "20            Europe                           IRELAND                   \n",
       "21            Europe                       SWITZERLAND                   \n",
       "22     South America                         VENEZUELA                   \n",
       "23     South America                            Brazil       SAO PAULO   \n",
       "24     South America                          COLOMBIA                   \n",
       "25     South America                         ARGENTINA                   \n",
       "26              Asia                             INDIA                   \n",
       "27              Asia                             China           WUHAN   \n",
       "28              Asia                             China  HUBEI PROVINCE   \n",
       "29       Middle East                              IRAQ                   \n",
       "30       Middle East                           LEBANON                   \n",
       "31       Middle East                            ISRAEL                   \n",
       "32     North America          United States of America      CALIFORNIA   \n",
       "33     North America          United States of America     STATE OF NY   \n",
       "\n",
       "   Date.LockdownBeginning  \n",
       "0               2020-3-28  \n",
       "1               2020-3-23  \n",
       "2               2020-3-27  \n",
       "3               2020-3-23  \n",
       "4               2020-3-28  \n",
       "5               2020-3-22  \n",
       "6               2020-3-24  \n",
       "7               2020-3-23  \n",
       "8               2020-3-19  \n",
       "9               2020-3-11  \n",
       "10              2020-3-23  \n",
       "11              2020-3-10  \n",
       "12              2020-3-14  \n",
       "13              2020-3-16  \n",
       "14              2020-3-17  \n",
       "15              2020-3-18  \n",
       "16              2020-3-16  \n",
       "17              2020-3-22  \n",
       "18              2020-3-18  \n",
       "19              2020-3-27  \n",
       "20              2020-3-24  \n",
       "21              2020-3-24  \n",
       "22              2020-3-17  \n",
       "23              2020-3-24  \n",
       "24              2020-3-24  \n",
       "25              2020-3-19  \n",
       "26              2020-3-24  \n",
       "27              2020-3-23  \n",
       "28              2020-3-13  \n",
       "29              2020-3-28  \n",
       "30              2020-3-15  \n",
       "31              2020-3-17  \n",
       "32              2020-3-19  \n",
       "33              2020-3-22  "
      ]
     },
     "execution_count": 86,
     "metadata": {},
     "output_type": "execute_result"
    }
   ],
   "source": [
    "lockdown_data"
   ]
  },
  {
   "cell_type": "code",
   "execution_count": null,
   "metadata": {},
   "outputs": [],
   "source": []
  }
 ],
 "metadata": {
  "kernelspec": {
   "display_name": "Python [conda env:djangoenv]",
   "language": "python",
   "name": "conda-env-djangoenv-py"
  },
  "language_info": {
   "codemirror_mode": {
    "name": "ipython",
    "version": 3
   },
   "file_extension": ".py",
   "mimetype": "text/x-python",
   "name": "python",
   "nbconvert_exporter": "python",
   "pygments_lexer": "ipython3",
   "version": "3.7.3"
  }
 },
 "nbformat": 4,
 "nbformat_minor": 2
}
