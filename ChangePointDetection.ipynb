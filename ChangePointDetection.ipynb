{
 "cells": [
  {
   "cell_type": "markdown",
   "metadata": {},
   "source": [
    "# Change Point Detection"
   ]
  },
  {
   "cell_type": "code",
   "execution_count": 40,
   "metadata": {
    "ExecuteTime": {
     "end_time": "2020-03-29T13:49:06.410506Z",
     "start_time": "2020-03-29T13:49:06.242Z"
    }
   },
   "outputs": [
    {
     "name": "stderr",
     "output_type": "stream",
     "text": [
      "Warning message:\n",
      "\"package 'changepoint.np' was built under R version 3.6.3\"\n"
     ]
    }
   ],
   "source": [
    "library(zoo)\n",
    "library(imputeTS)\n",
    "library(changepoint)\n",
    "library(changepoint.np)\n",
    "library(ggplot2)\n",
    "library(reshape)\n",
    "library(gridExtra)"
   ]
  },
  {
   "cell_type": "markdown",
   "metadata": {},
   "source": [
    "## Auxiliary functions"
   ]
  },
  {
   "cell_type": "markdown",
   "metadata": {},
   "source": [
    "Basic growth rate $r(t) = \\frac{x(t+1)}{x(t)}$"
   ]
  },
  {
   "cell_type": "code",
   "execution_count": null,
   "metadata": {
    "ExecuteTime": {
     "end_time": "2020-03-28T16:54:04.199830Z",
     "start_time": "2020-03-28T16:54:04.174Z"
    }
   },
   "outputs": [],
   "source": [
    "growthRate <- function(ts){\n",
    "    # x(t) = head(x,-1)\n",
    "    # x(t+1) = tail(x,-1)\n",
    "    return(c(NaN,tail(ts,-1)/head(ts,-1)))\n",
    "}"
   ]
  },
  {
   "cell_type": "markdown",
   "metadata": {},
   "source": [
    "Normalized growth rate $r_N(t) = \\frac{x(t+1)-x(t)}{x(t)}$"
   ]
  },
  {
   "cell_type": "code",
   "execution_count": null,
   "metadata": {
    "ExecuteTime": {
     "end_time": "2020-03-28T16:54:04.228756Z",
     "start_time": "2020-03-28T16:54:04.203Z"
    }
   },
   "outputs": [],
   "source": [
    "growthRateNormalized <- function(ts){\n",
    "    # x(t) = head(x,-1)\n",
    "    # x(t+1) = tail(x,-1)\n",
    "    return(c(NaN,(tail(ts,-1)-head(ts,-1))/head(ts,-1)))\n",
    "}\n"
   ]
  },
  {
   "cell_type": "code",
   "execution_count": null,
   "metadata": {},
   "outputs": [],
   "source": [
    "likelihoodCUSUM <- function(x_t,theta_0,theta_1){\n",
    "    return(log(dnorm(x_t,theta_0$mu,theta_0$sigma)/dnorm(x_t,theta_1$mu,theta_1$sigma)))\n",
    "}"
   ]
  },
  {
   "cell_type": "code",
   "execution_count": null,
   "metadata": {},
   "outputs": [],
   "source": [
    "adaptiveCUSUM <- function(ts,k,splitting_point){\n",
    "    # 1. Smooth the signal with a moving average of the k previous days (k being a parameter)\n",
    "    ts_smooth <- rollmean(ts,k)\n",
    "    # 2. Split into training/test data\n",
    "    ts_smooth_train <- ts_smooth[1:splitting_point]\n",
    "    ts_smooth_test <- ts_smooth[splitting_point:length(ts_smooth)]\n",
    "    # 3. Estimate average and standard deviation (by sample average and sample standard deviation) in order to obtain theta_0 and theta_1\n",
    "    theta_0 <- list(mu=mean(ts_smooth_train),sigma=sd(ts_smooth_train))\n",
    "    theta_1 <- list(mu=mean(ts_smooth_test),sigma=sd(ts_smooth_test))\n",
    "    # 4. Apply the CUSUM formulas (silde 61)\n",
    "    s_t <- rollapply(ts,likelihoodCUSUM)\n",
    "    S_t <- cumsum(s_t)\n",
    "    m_t <- rollmin(s_t) \n",
    "}"
   ]
  },
  {
   "cell_type": "code",
   "execution_count": 5,
   "metadata": {
    "ExecuteTime": {
     "end_time": "2020-03-29T11:18:18.080778Z",
     "start_time": "2020-03-29T11:18:18.061Z"
    }
   },
   "outputs": [],
   "source": [
    "splitData <- function(province_country_pair,data.df){\n",
    "    data.df[data.df$Country.Region == province_country_pair[1]&\n",
    "            data.df$Province.State == province_country_pair[2] \n",
    "            ,]\n",
    "}\n",
    "\n",
    "computeGrowthRate <- function(country.df,growth_rate_function){\n",
    "    country.df$ConfirmedGrowthRate <- growth_rate_function(country.df$Confirmed)\n",
    "    country.df$RecoveredGrowthRate <- growth_rate_function(country.df$Recovered)\n",
    "    country.df$DeathsGrowthRate <- growth_rate_function(country.df$Deaths)\n",
    "    return(country.df)\n",
    "}\n"
   ]
  },
  {
   "cell_type": "markdown",
   "metadata": {},
   "source": [
    "## Read data in"
   ]
  },
  {
   "cell_type": "code",
   "execution_count": 1,
   "metadata": {
    "ExecuteTime": {
     "end_time": "2020-03-29T11:18:08.700504Z",
     "start_time": "2020-03-29T11:18:08.671Z"
    }
   },
   "outputs": [],
   "source": [
    "data.df <- readRDS(\"data/COVID19_Global_Italy_wGrowth.Rdata\")"
   ]
  },
  {
   "cell_type": "code",
   "execution_count": 2,
   "metadata": {
    "ExecuteTime": {
     "end_time": "2020-03-29T11:18:10.128454Z",
     "start_time": "2020-03-29T11:18:09.711Z"
    }
   },
   "outputs": [
    {
     "data": {
      "text/html": [
       "<table>\n",
       "<caption>A data.frame: 6 × 22</caption>\n",
       "<thead>\n",
       "\t<tr><th></th><th scope=col>Province.State</th><th scope=col>Country.Region</th><th scope=col>Lat</th><th scope=col>Long</th><th scope=col>Date</th><th scope=col>Confirmed</th><th scope=col>Recovered</th><th scope=col>Deaths</th><th scope=col>HospitalizedWSymptoms</th><th scope=col>ICU</th><th scope=col>...</th><th scope=col>DailyConfirmed</th><th scope=col>Total</th><th scope=col>Tests</th><th scope=col>Lat.x</th><th scope=col>Long.x</th><th scope=col>Lat.y</th><th scope=col>Long.y</th><th scope=col>ConfirmedGrowthRate</th><th scope=col>RecoveredGrowthRate</th><th scope=col>DeathsGrowthRate</th></tr>\n",
       "\t<tr><th></th><th scope=col>&lt;chr&gt;</th><th scope=col>&lt;chr&gt;</th><th scope=col>&lt;dbl&gt;</th><th scope=col>&lt;dbl&gt;</th><th scope=col>&lt;date&gt;</th><th scope=col>&lt;int&gt;</th><th scope=col>&lt;int&gt;</th><th scope=col>&lt;int&gt;</th><th scope=col>&lt;int&gt;</th><th scope=col>&lt;int&gt;</th><th scope=col>...</th><th scope=col>&lt;int&gt;</th><th scope=col>&lt;int&gt;</th><th scope=col>&lt;int&gt;</th><th scope=col>&lt;dbl&gt;</th><th scope=col>&lt;dbl&gt;</th><th scope=col>&lt;dbl&gt;</th><th scope=col>&lt;dbl&gt;</th><th scope=col>&lt;dbl&gt;</th><th scope=col>&lt;dbl&gt;</th><th scope=col>&lt;dbl&gt;</th></tr>\n",
       "</thead>\n",
       "<tbody>\n",
       "\t<tr><th scope=row>715</th><td></td><td>Afghanistan</td><td>33</td><td>65</td><td>2020-01-22</td><td>0</td><td>0</td><td>0</td><td>NA</td><td>NA</td><td>...</td><td>NA</td><td>NA</td><td>NA</td><td>33</td><td>65</td><td>33</td><td>65</td><td>NaN</td><td>NaN</td><td>NaN</td></tr>\n",
       "\t<tr><th scope=row>716</th><td></td><td>Afghanistan</td><td>33</td><td>65</td><td>2020-01-23</td><td>0</td><td>0</td><td>0</td><td>NA</td><td>NA</td><td>...</td><td>NA</td><td>NA</td><td>NA</td><td>33</td><td>65</td><td>33</td><td>65</td><td>NaN</td><td>NaN</td><td>NaN</td></tr>\n",
       "\t<tr><th scope=row>717</th><td></td><td>Afghanistan</td><td>33</td><td>65</td><td>2020-01-24</td><td>0</td><td>0</td><td>0</td><td>NA</td><td>NA</td><td>...</td><td>NA</td><td>NA</td><td>NA</td><td>33</td><td>65</td><td>33</td><td>65</td><td>NaN</td><td>NaN</td><td>NaN</td></tr>\n",
       "\t<tr><th scope=row>718</th><td></td><td>Afghanistan</td><td>33</td><td>65</td><td>2020-01-25</td><td>0</td><td>0</td><td>0</td><td>NA</td><td>NA</td><td>...</td><td>NA</td><td>NA</td><td>NA</td><td>33</td><td>65</td><td>33</td><td>65</td><td>NaN</td><td>NaN</td><td>NaN</td></tr>\n",
       "\t<tr><th scope=row>719</th><td></td><td>Afghanistan</td><td>33</td><td>65</td><td>2020-01-26</td><td>0</td><td>0</td><td>0</td><td>NA</td><td>NA</td><td>...</td><td>NA</td><td>NA</td><td>NA</td><td>33</td><td>65</td><td>33</td><td>65</td><td>NaN</td><td>NaN</td><td>NaN</td></tr>\n",
       "\t<tr><th scope=row>720</th><td></td><td>Afghanistan</td><td>33</td><td>65</td><td>2020-01-27</td><td>0</td><td>0</td><td>0</td><td>NA</td><td>NA</td><td>...</td><td>NA</td><td>NA</td><td>NA</td><td>33</td><td>65</td><td>33</td><td>65</td><td>NaN</td><td>NaN</td><td>NaN</td></tr>\n",
       "</tbody>\n",
       "</table>\n"
      ],
      "text/latex": [
       "A data.frame: 6 × 22\n",
       "\\begin{tabular}{r|lllllllllllllllllllll}\n",
       "  & Province.State & Country.Region & Lat & Long & Date & Confirmed & Recovered & Deaths & HospitalizedWSymptoms & ICU & ... & DailyConfirmed & Total & Tests & Lat.x & Long.x & Lat.y & Long.y & ConfirmedGrowthRate & RecoveredGrowthRate & DeathsGrowthRate\\\\\n",
       "  & <chr> & <chr> & <dbl> & <dbl> & <date> & <int> & <int> & <int> & <int> & <int> & ... & <int> & <int> & <int> & <dbl> & <dbl> & <dbl> & <dbl> & <dbl> & <dbl> & <dbl>\\\\\n",
       "\\hline\n",
       "\t715 &  & Afghanistan & 33 & 65 & 2020-01-22 & 0 & 0 & 0 & NA & NA & ... & NA & NA & NA & 33 & 65 & 33 & 65 & NaN & NaN & NaN\\\\\n",
       "\t716 &  & Afghanistan & 33 & 65 & 2020-01-23 & 0 & 0 & 0 & NA & NA & ... & NA & NA & NA & 33 & 65 & 33 & 65 & NaN & NaN & NaN\\\\\n",
       "\t717 &  & Afghanistan & 33 & 65 & 2020-01-24 & 0 & 0 & 0 & NA & NA & ... & NA & NA & NA & 33 & 65 & 33 & 65 & NaN & NaN & NaN\\\\\n",
       "\t718 &  & Afghanistan & 33 & 65 & 2020-01-25 & 0 & 0 & 0 & NA & NA & ... & NA & NA & NA & 33 & 65 & 33 & 65 & NaN & NaN & NaN\\\\\n",
       "\t719 &  & Afghanistan & 33 & 65 & 2020-01-26 & 0 & 0 & 0 & NA & NA & ... & NA & NA & NA & 33 & 65 & 33 & 65 & NaN & NaN & NaN\\\\\n",
       "\t720 &  & Afghanistan & 33 & 65 & 2020-01-27 & 0 & 0 & 0 & NA & NA & ... & NA & NA & NA & 33 & 65 & 33 & 65 & NaN & NaN & NaN\\\\\n",
       "\\end{tabular}\n"
      ],
      "text/markdown": [
       "\n",
       "A data.frame: 6 × 22\n",
       "\n",
       "| <!--/--> | Province.State &lt;chr&gt; | Country.Region &lt;chr&gt; | Lat &lt;dbl&gt; | Long &lt;dbl&gt; | Date &lt;date&gt; | Confirmed &lt;int&gt; | Recovered &lt;int&gt; | Deaths &lt;int&gt; | HospitalizedWSymptoms &lt;int&gt; | ICU &lt;int&gt; | ... ... | DailyConfirmed &lt;int&gt; | Total &lt;int&gt; | Tests &lt;int&gt; | Lat.x &lt;dbl&gt; | Long.x &lt;dbl&gt; | Lat.y &lt;dbl&gt; | Long.y &lt;dbl&gt; | ConfirmedGrowthRate &lt;dbl&gt; | RecoveredGrowthRate &lt;dbl&gt; | DeathsGrowthRate &lt;dbl&gt; |\n",
       "|---|---|---|---|---|---|---|---|---|---|---|---|---|---|---|---|---|---|---|---|---|---|\n",
       "| 715 | <!----> | Afghanistan | 33 | 65 | 2020-01-22 | 0 | 0 | 0 | NA | NA | ... | NA | NA | NA | 33 | 65 | 33 | 65 | NaN | NaN | NaN |\n",
       "| 716 | <!----> | Afghanistan | 33 | 65 | 2020-01-23 | 0 | 0 | 0 | NA | NA | ... | NA | NA | NA | 33 | 65 | 33 | 65 | NaN | NaN | NaN |\n",
       "| 717 | <!----> | Afghanistan | 33 | 65 | 2020-01-24 | 0 | 0 | 0 | NA | NA | ... | NA | NA | NA | 33 | 65 | 33 | 65 | NaN | NaN | NaN |\n",
       "| 718 | <!----> | Afghanistan | 33 | 65 | 2020-01-25 | 0 | 0 | 0 | NA | NA | ... | NA | NA | NA | 33 | 65 | 33 | 65 | NaN | NaN | NaN |\n",
       "| 719 | <!----> | Afghanistan | 33 | 65 | 2020-01-26 | 0 | 0 | 0 | NA | NA | ... | NA | NA | NA | 33 | 65 | 33 | 65 | NaN | NaN | NaN |\n",
       "| 720 | <!----> | Afghanistan | 33 | 65 | 2020-01-27 | 0 | 0 | 0 | NA | NA | ... | NA | NA | NA | 33 | 65 | 33 | 65 | NaN | NaN | NaN |\n",
       "\n"
      ],
      "text/plain": [
       "    Province.State Country.Region Lat Long Date       Confirmed Recovered\n",
       "715                Afghanistan    33  65   2020-01-22 0         0        \n",
       "716                Afghanistan    33  65   2020-01-23 0         0        \n",
       "717                Afghanistan    33  65   2020-01-24 0         0        \n",
       "718                Afghanistan    33  65   2020-01-25 0         0        \n",
       "719                Afghanistan    33  65   2020-01-26 0         0        \n",
       "720                Afghanistan    33  65   2020-01-27 0         0        \n",
       "    Deaths HospitalizedWSymptoms ICU ... DailyConfirmed Total Tests Lat.x\n",
       "715 0      NA                    NA  ... NA             NA    NA    33   \n",
       "716 0      NA                    NA  ... NA             NA    NA    33   \n",
       "717 0      NA                    NA  ... NA             NA    NA    33   \n",
       "718 0      NA                    NA  ... NA             NA    NA    33   \n",
       "719 0      NA                    NA  ... NA             NA    NA    33   \n",
       "720 0      NA                    NA  ... NA             NA    NA    33   \n",
       "    Long.x Lat.y Long.y ConfirmedGrowthRate RecoveredGrowthRate\n",
       "715 65     33    65     NaN                 NaN                \n",
       "716 65     33    65     NaN                 NaN                \n",
       "717 65     33    65     NaN                 NaN                \n",
       "718 65     33    65     NaN                 NaN                \n",
       "719 65     33    65     NaN                 NaN                \n",
       "720 65     33    65     NaN                 NaN                \n",
       "    DeathsGrowthRate\n",
       "715 NaN             \n",
       "716 NaN             \n",
       "717 NaN             \n",
       "718 NaN             \n",
       "719 NaN             \n",
       "720 NaN             "
      ]
     },
     "metadata": {},
     "output_type": "display_data"
    }
   ],
   "source": [
    "head(data.df)"
   ]
  },
  {
   "cell_type": "markdown",
   "metadata": {},
   "source": [
    "## Split data accoring to unique Country-Province Pair"
   ]
  },
  {
   "cell_type": "code",
   "execution_count": 3,
   "metadata": {
    "ExecuteTime": {
     "end_time": "2020-03-29T11:18:11.824457Z",
     "start_time": "2020-03-29T11:18:11.778Z"
    }
   },
   "outputs": [],
   "source": [
    "unique_pairs.df <- unique(data.df[,c(\"Country.Region\",\"Province.State\")])\n",
    "unique_pairs.list <- mapply(c,unique_pairs.df$Country.Region,as.character(unique_pairs.df$Province.State), SIMPLIFY = FALSE)"
   ]
  },
  {
   "cell_type": "code",
   "execution_count": 6,
   "metadata": {
    "ExecuteTime": {
     "end_time": "2020-03-29T11:18:42.055809Z",
     "start_time": "2020-03-29T11:18:41.800Z"
    }
   },
   "outputs": [],
   "source": [
    "split_data.list <- lapply(unique_pairs.list,splitData,data.df)"
   ]
  },
  {
   "cell_type": "code",
   "execution_count": 7,
   "metadata": {
    "ExecuteTime": {
     "end_time": "2020-03-29T11:18:48.509579Z",
     "start_time": "2020-03-29T11:18:48.124Z"
    },
    "scrolled": true
   },
   "outputs": [
    {
     "data": {
      "text/html": [
       "<table>\n",
       "<caption>A data.frame: 6 × 22</caption>\n",
       "<thead>\n",
       "\t<tr><th></th><th scope=col>Province.State</th><th scope=col>Country.Region</th><th scope=col>Lat</th><th scope=col>Long</th><th scope=col>Date</th><th scope=col>Confirmed</th><th scope=col>Recovered</th><th scope=col>Deaths</th><th scope=col>HospitalizedWSymptoms</th><th scope=col>ICU</th><th scope=col>...</th><th scope=col>DailyConfirmed</th><th scope=col>Total</th><th scope=col>Tests</th><th scope=col>Lat.x</th><th scope=col>Long.x</th><th scope=col>Lat.y</th><th scope=col>Long.y</th><th scope=col>ConfirmedGrowthRate</th><th scope=col>RecoveredGrowthRate</th><th scope=col>DeathsGrowthRate</th></tr>\n",
       "\t<tr><th></th><th scope=col>&lt;chr&gt;</th><th scope=col>&lt;chr&gt;</th><th scope=col>&lt;dbl&gt;</th><th scope=col>&lt;dbl&gt;</th><th scope=col>&lt;date&gt;</th><th scope=col>&lt;int&gt;</th><th scope=col>&lt;int&gt;</th><th scope=col>&lt;int&gt;</th><th scope=col>&lt;int&gt;</th><th scope=col>&lt;int&gt;</th><th scope=col>...</th><th scope=col>&lt;int&gt;</th><th scope=col>&lt;int&gt;</th><th scope=col>&lt;int&gt;</th><th scope=col>&lt;dbl&gt;</th><th scope=col>&lt;dbl&gt;</th><th scope=col>&lt;dbl&gt;</th><th scope=col>&lt;dbl&gt;</th><th scope=col>&lt;dbl&gt;</th><th scope=col>&lt;dbl&gt;</th><th scope=col>&lt;dbl&gt;</th></tr>\n",
       "</thead>\n",
       "<tbody>\n",
       "\t<tr><th scope=row>715</th><td></td><td>Afghanistan</td><td>33</td><td>65</td><td>2020-01-22</td><td>0</td><td>0</td><td>0</td><td>NA</td><td>NA</td><td>...</td><td>NA</td><td>NA</td><td>NA</td><td>33</td><td>65</td><td>33</td><td>65</td><td>NaN</td><td>NaN</td><td>NaN</td></tr>\n",
       "\t<tr><th scope=row>716</th><td></td><td>Afghanistan</td><td>33</td><td>65</td><td>2020-01-23</td><td>0</td><td>0</td><td>0</td><td>NA</td><td>NA</td><td>...</td><td>NA</td><td>NA</td><td>NA</td><td>33</td><td>65</td><td>33</td><td>65</td><td>NaN</td><td>NaN</td><td>NaN</td></tr>\n",
       "\t<tr><th scope=row>717</th><td></td><td>Afghanistan</td><td>33</td><td>65</td><td>2020-01-24</td><td>0</td><td>0</td><td>0</td><td>NA</td><td>NA</td><td>...</td><td>NA</td><td>NA</td><td>NA</td><td>33</td><td>65</td><td>33</td><td>65</td><td>NaN</td><td>NaN</td><td>NaN</td></tr>\n",
       "\t<tr><th scope=row>718</th><td></td><td>Afghanistan</td><td>33</td><td>65</td><td>2020-01-25</td><td>0</td><td>0</td><td>0</td><td>NA</td><td>NA</td><td>...</td><td>NA</td><td>NA</td><td>NA</td><td>33</td><td>65</td><td>33</td><td>65</td><td>NaN</td><td>NaN</td><td>NaN</td></tr>\n",
       "\t<tr><th scope=row>719</th><td></td><td>Afghanistan</td><td>33</td><td>65</td><td>2020-01-26</td><td>0</td><td>0</td><td>0</td><td>NA</td><td>NA</td><td>...</td><td>NA</td><td>NA</td><td>NA</td><td>33</td><td>65</td><td>33</td><td>65</td><td>NaN</td><td>NaN</td><td>NaN</td></tr>\n",
       "\t<tr><th scope=row>720</th><td></td><td>Afghanistan</td><td>33</td><td>65</td><td>2020-01-27</td><td>0</td><td>0</td><td>0</td><td>NA</td><td>NA</td><td>...</td><td>NA</td><td>NA</td><td>NA</td><td>33</td><td>65</td><td>33</td><td>65</td><td>NaN</td><td>NaN</td><td>NaN</td></tr>\n",
       "</tbody>\n",
       "</table>\n"
      ],
      "text/latex": [
       "A data.frame: 6 × 22\n",
       "\\begin{tabular}{r|lllllllllllllllllllll}\n",
       "  & Province.State & Country.Region & Lat & Long & Date & Confirmed & Recovered & Deaths & HospitalizedWSymptoms & ICU & ... & DailyConfirmed & Total & Tests & Lat.x & Long.x & Lat.y & Long.y & ConfirmedGrowthRate & RecoveredGrowthRate & DeathsGrowthRate\\\\\n",
       "  & <chr> & <chr> & <dbl> & <dbl> & <date> & <int> & <int> & <int> & <int> & <int> & ... & <int> & <int> & <int> & <dbl> & <dbl> & <dbl> & <dbl> & <dbl> & <dbl> & <dbl>\\\\\n",
       "\\hline\n",
       "\t715 &  & Afghanistan & 33 & 65 & 2020-01-22 & 0 & 0 & 0 & NA & NA & ... & NA & NA & NA & 33 & 65 & 33 & 65 & NaN & NaN & NaN\\\\\n",
       "\t716 &  & Afghanistan & 33 & 65 & 2020-01-23 & 0 & 0 & 0 & NA & NA & ... & NA & NA & NA & 33 & 65 & 33 & 65 & NaN & NaN & NaN\\\\\n",
       "\t717 &  & Afghanistan & 33 & 65 & 2020-01-24 & 0 & 0 & 0 & NA & NA & ... & NA & NA & NA & 33 & 65 & 33 & 65 & NaN & NaN & NaN\\\\\n",
       "\t718 &  & Afghanistan & 33 & 65 & 2020-01-25 & 0 & 0 & 0 & NA & NA & ... & NA & NA & NA & 33 & 65 & 33 & 65 & NaN & NaN & NaN\\\\\n",
       "\t719 &  & Afghanistan & 33 & 65 & 2020-01-26 & 0 & 0 & 0 & NA & NA & ... & NA & NA & NA & 33 & 65 & 33 & 65 & NaN & NaN & NaN\\\\\n",
       "\t720 &  & Afghanistan & 33 & 65 & 2020-01-27 & 0 & 0 & 0 & NA & NA & ... & NA & NA & NA & 33 & 65 & 33 & 65 & NaN & NaN & NaN\\\\\n",
       "\\end{tabular}\n"
      ],
      "text/markdown": [
       "\n",
       "A data.frame: 6 × 22\n",
       "\n",
       "| <!--/--> | Province.State &lt;chr&gt; | Country.Region &lt;chr&gt; | Lat &lt;dbl&gt; | Long &lt;dbl&gt; | Date &lt;date&gt; | Confirmed &lt;int&gt; | Recovered &lt;int&gt; | Deaths &lt;int&gt; | HospitalizedWSymptoms &lt;int&gt; | ICU &lt;int&gt; | ... ... | DailyConfirmed &lt;int&gt; | Total &lt;int&gt; | Tests &lt;int&gt; | Lat.x &lt;dbl&gt; | Long.x &lt;dbl&gt; | Lat.y &lt;dbl&gt; | Long.y &lt;dbl&gt; | ConfirmedGrowthRate &lt;dbl&gt; | RecoveredGrowthRate &lt;dbl&gt; | DeathsGrowthRate &lt;dbl&gt; |\n",
       "|---|---|---|---|---|---|---|---|---|---|---|---|---|---|---|---|---|---|---|---|---|---|\n",
       "| 715 | <!----> | Afghanistan | 33 | 65 | 2020-01-22 | 0 | 0 | 0 | NA | NA | ... | NA | NA | NA | 33 | 65 | 33 | 65 | NaN | NaN | NaN |\n",
       "| 716 | <!----> | Afghanistan | 33 | 65 | 2020-01-23 | 0 | 0 | 0 | NA | NA | ... | NA | NA | NA | 33 | 65 | 33 | 65 | NaN | NaN | NaN |\n",
       "| 717 | <!----> | Afghanistan | 33 | 65 | 2020-01-24 | 0 | 0 | 0 | NA | NA | ... | NA | NA | NA | 33 | 65 | 33 | 65 | NaN | NaN | NaN |\n",
       "| 718 | <!----> | Afghanistan | 33 | 65 | 2020-01-25 | 0 | 0 | 0 | NA | NA | ... | NA | NA | NA | 33 | 65 | 33 | 65 | NaN | NaN | NaN |\n",
       "| 719 | <!----> | Afghanistan | 33 | 65 | 2020-01-26 | 0 | 0 | 0 | NA | NA | ... | NA | NA | NA | 33 | 65 | 33 | 65 | NaN | NaN | NaN |\n",
       "| 720 | <!----> | Afghanistan | 33 | 65 | 2020-01-27 | 0 | 0 | 0 | NA | NA | ... | NA | NA | NA | 33 | 65 | 33 | 65 | NaN | NaN | NaN |\n",
       "\n"
      ],
      "text/plain": [
       "    Province.State Country.Region Lat Long Date       Confirmed Recovered\n",
       "715                Afghanistan    33  65   2020-01-22 0         0        \n",
       "716                Afghanistan    33  65   2020-01-23 0         0        \n",
       "717                Afghanistan    33  65   2020-01-24 0         0        \n",
       "718                Afghanistan    33  65   2020-01-25 0         0        \n",
       "719                Afghanistan    33  65   2020-01-26 0         0        \n",
       "720                Afghanistan    33  65   2020-01-27 0         0        \n",
       "    Deaths HospitalizedWSymptoms ICU ... DailyConfirmed Total Tests Lat.x\n",
       "715 0      NA                    NA  ... NA             NA    NA    33   \n",
       "716 0      NA                    NA  ... NA             NA    NA    33   \n",
       "717 0      NA                    NA  ... NA             NA    NA    33   \n",
       "718 0      NA                    NA  ... NA             NA    NA    33   \n",
       "719 0      NA                    NA  ... NA             NA    NA    33   \n",
       "720 0      NA                    NA  ... NA             NA    NA    33   \n",
       "    Long.x Lat.y Long.y ConfirmedGrowthRate RecoveredGrowthRate\n",
       "715 65     33    65     NaN                 NaN                \n",
       "716 65     33    65     NaN                 NaN                \n",
       "717 65     33    65     NaN                 NaN                \n",
       "718 65     33    65     NaN                 NaN                \n",
       "719 65     33    65     NaN                 NaN                \n",
       "720 65     33    65     NaN                 NaN                \n",
       "    DeathsGrowthRate\n",
       "715 NaN             \n",
       "716 NaN             \n",
       "717 NaN             \n",
       "718 NaN             \n",
       "719 NaN             \n",
       "720 NaN             "
      ]
     },
     "metadata": {},
     "output_type": "display_data"
    }
   ],
   "source": [
    "head(split_data.list[[1]])"
   ]
  },
  {
   "cell_type": "markdown",
   "metadata": {},
   "source": [
    "## Create a multivariate time series dataset"
   ]
  },
  {
   "cell_type": "code",
   "execution_count": 16,
   "metadata": {
    "ExecuteTime": {
     "end_time": "2020-03-29T13:32:54.088636Z",
     "start_time": "2020-03-29T13:32:53.541Z"
    }
   },
   "outputs": [],
   "source": [
    "confirmed_gr_ts.list <- lapply(split_data.list,function(data.df){zoo(data.df[,c(\"ConfirmedGrowthRate\")],order.by=as.Date(data.df$Date))})\n",
    "confirmed_gr_ts.zoo <- Reduce(merge,confirmed_gr_ts.list)\n",
    "colnames(confirmed_gr_ts.zoo) <- lapply(unique_pairs.list,paste,collapse=\"_\")"
   ]
  },
  {
   "cell_type": "code",
   "execution_count": 17,
   "metadata": {
    "ExecuteTime": {
     "end_time": "2020-03-29T13:33:04.574335Z",
     "start_time": "2020-03-29T13:33:04.542Z"
    }
   },
   "outputs": [
    {
     "data": {
      "text/html": [
       "<style>\n",
       ".list-inline {list-style: none; margin:0; padding: 0}\n",
       ".list-inline>li {display: inline-block}\n",
       ".list-inline>li:not(:last-child)::after {content: \"\\00b7\"; padding: 0 .5ex}\n",
       "</style>\n",
       "<ol class=list-inline><li>67</li><li>256</li></ol>\n"
      ],
      "text/latex": [
       "\\begin{enumerate*}\n",
       "\\item 67\n",
       "\\item 256\n",
       "\\end{enumerate*}\n"
      ],
      "text/markdown": [
       "1. 67\n",
       "2. 256\n",
       "\n",
       "\n"
      ],
      "text/plain": [
       "[1]  67 256"
      ]
     },
     "metadata": {},
     "output_type": "display_data"
    }
   ],
   "source": [
    "dim(confirmed_gr_ts.zoo)"
   ]
  },
  {
   "cell_type": "code",
   "execution_count": 18,
   "metadata": {
    "ExecuteTime": {
     "end_time": "2020-03-29T13:33:12.182716Z",
     "start_time": "2020-03-29T13:33:06.543Z"
    }
   },
   "outputs": [
    {
     "data": {
      "text/plain": [
       "           Afghanistan_ Albania_ Algeria_ Andorra_ Angola_ Antigua and Barbuda_\n",
       "2020-01-22          NaN      NaN      NaN      NaN     NaN                  NaN\n",
       "2020-01-23          NaN      NaN      NaN      NaN     NaN                  NaN\n",
       "2020-01-24          NaN      NaN      NaN      NaN     NaN                  NaN\n",
       "2020-01-25          NaN      NaN      NaN      NaN     NaN                  NaN\n",
       "2020-01-26          NaN      NaN      NaN      NaN     NaN                  NaN\n",
       "2020-01-27          NaN      NaN      NaN      NaN     NaN                  NaN\n",
       "           Argentina_ Armenia_ Australia_Australian Capital Territory\n",
       "2020-01-22        NaN      NaN                                    NaN\n",
       "2020-01-23        NaN      NaN                                    NaN\n",
       "2020-01-24        NaN      NaN                                    NaN\n",
       "2020-01-25        NaN      NaN                                    NaN\n",
       "2020-01-26        NaN      NaN                                    NaN\n",
       "2020-01-27        NaN      NaN                                    NaN\n",
       "           Australia_New South Wales Australia_Northern Territory\n",
       "2020-01-22                       NaN                          NaN\n",
       "2020-01-23                       NaN                          NaN\n",
       "2020-01-24                       NaN                          NaN\n",
       "2020-01-25                       NaN                          NaN\n",
       "2020-01-26                       Inf                          NaN\n",
       "2020-01-27                 0.3333333                          NaN\n",
       "           Australia_Queensland Australia_South Australia Australia_Tasmania\n",
       "2020-01-22                  NaN                       NaN                NaN\n",
       "2020-01-23                  NaN                       NaN                NaN\n",
       "2020-01-24                  NaN                       NaN                NaN\n",
       "2020-01-25                  NaN                       NaN                NaN\n",
       "2020-01-26                  NaN                       NaN                NaN\n",
       "2020-01-27                  NaN                       NaN                NaN\n",
       "           Australia_Victoria Australia_Western Australia Austria_ Azerbaijan_\n",
       "2020-01-22                NaN                         NaN      NaN         NaN\n",
       "2020-01-23                NaN                         NaN      NaN         NaN\n",
       "2020-01-24                NaN                         NaN      NaN         NaN\n",
       "2020-01-25                NaN                         NaN      NaN         NaN\n",
       "2020-01-26                Inf                         NaN      NaN         NaN\n",
       "2020-01-27                  0                         NaN      NaN         NaN\n",
       "           Bahamas_ Bahrain_ Bangladesh_ Barbados_ Belarus_ Belgium_ Belize_\n",
       "2020-01-22      NaN      NaN         NaN       NaN      NaN      NaN     NaN\n",
       "2020-01-23      NaN      NaN         NaN       NaN      NaN      NaN     NaN\n",
       "2020-01-24      NaN      NaN         NaN       NaN      NaN      NaN     NaN\n",
       "2020-01-25      NaN      NaN         NaN       NaN      NaN      NaN     NaN\n",
       "2020-01-26      NaN      NaN         NaN       NaN      NaN      NaN     NaN\n",
       "2020-01-27      NaN      NaN         NaN       NaN      NaN      NaN     NaN\n",
       "           Benin_ Bhutan_ Bolivia_ Bosnia and Herzegovina_ Brazil_ Brunei_\n",
       "2020-01-22    NaN     NaN      NaN                     NaN     NaN     NaN\n",
       "2020-01-23    NaN     NaN      NaN                     NaN     NaN     NaN\n",
       "2020-01-24    NaN     NaN      NaN                     NaN     NaN     NaN\n",
       "2020-01-25    NaN     NaN      NaN                     NaN     NaN     NaN\n",
       "2020-01-26    NaN     NaN      NaN                     NaN     NaN     NaN\n",
       "2020-01-27    NaN     NaN      NaN                     NaN     NaN     NaN\n",
       "           Bulgaria_ Burkina Faso_ Burma_ Cabo Verde_ Cambodia_ Cameroon_\n",
       "2020-01-22       NaN           NaN    NaN         NaN       NaN       NaN\n",
       "2020-01-23       NaN           NaN    NaN         NaN       NaN       NaN\n",
       "2020-01-24       NaN           NaN    NaN         NaN       NaN       NaN\n",
       "2020-01-25       NaN           NaN    NaN         NaN       NaN       NaN\n",
       "2020-01-26       NaN           NaN    NaN         NaN       NaN       NaN\n",
       "2020-01-27       NaN           NaN    NaN         NaN       Inf       NaN\n",
       "           Canada_ Central African Republic_ Chad_ Chile_ China_Anhui\n",
       "2020-01-22     NaN                       NaN   NaN    NaN         NaN\n",
       "2020-01-23      NA                       NaN   NaN    NaN   8.0000000\n",
       "2020-01-24      NA                       NaN   NaN    NaN   0.6666667\n",
       "2020-01-25      NA                       NaN   NaN    NaN   1.6000000\n",
       "2020-01-26      NA                       NaN   NaN    NaN   0.5384615\n",
       "2020-01-27      NA                       NaN   NaN    NaN   0.1666667\n",
       "           China_Beijing China_Chongqing China_Fujian China_Gansu\n",
       "2020-01-22           NaN             NaN          NaN         NaN\n",
       "2020-01-23     0.5714286       0.5000000    4.0000000         Inf\n",
       "2020-01-24     0.6363636       2.0000000    1.0000000        0.00\n",
       "2020-01-25     0.1388889       1.1111111    0.8000000        1.00\n",
       "2020-01-26     0.6585366       0.3157895    0.9444444        0.75\n",
       "2020-01-27     0.1764706       0.4666667    0.6857143        1.00\n",
       "           China_Guangdong China_Guangxi China_Guizhou China_Hainan China_Hebei\n",
       "2020-01-22             NaN           NaN           NaN          NaN         NaN\n",
       "2020-01-23       0.2307692     1.5000000     2.0000000    0.2500000   0.0000000\n",
       "2020-01-24       0.6562500     3.6000000     0.0000000    0.6000000   1.0000000\n",
       "2020-01-25       0.4716981     0.0000000     0.3333333    1.3750000   3.0000000\n",
       "2020-01-26       0.4230769     0.5652174     0.2500000    0.1578947   0.6250000\n",
       "2020-01-27       0.3603604     0.2777778     0.4000000    0.5000000   0.3846154\n",
       "           China_Heilongjiang China_Henan China_Hong Kong China_Hubei\n",
       "2020-01-22                NaN         NaN             NaN         NaN\n",
       "2020-01-23                Inf   0.0000000             Inf   0.0000000\n",
       "2020-01-24          1.0000000   0.8000000             0.0   0.2364865\n",
       "2020-01-25          1.2500000   2.5555556             1.5   0.3861566\n",
       "2020-01-26          0.6666667   1.5937500             0.6   0.3902760\n",
       "2020-01-27          0.4000000   0.5421687             0.0   0.3449905\n",
       "           China_Hunan China_Inner Mongolia China_Jiangsu China_Jiangxi\n",
       "2020-01-22         NaN                  NaN           NaN           NaN\n",
       "2020-01-23   1.2500000                  NaN     4.0000000      2.500000\n",
       "2020-01-24   1.6666667                  Inf     0.8000000      1.571429\n",
       "2020-01-25   0.7916667            6.0000000     1.0000000      0.000000\n",
       "2020-01-26   0.6046512            0.0000000     0.8333333      1.000000\n",
       "2020-01-27   0.4492754            0.5714286     0.4242424      1.000000\n",
       "           China_Jilin China_Liaoning China_Macau China_Ningxia China_Qinghai\n",
       "2020-01-22         NaN            NaN         NaN           NaN           NaN\n",
       "2020-01-23         Inf      0.5000000         1.0     0.0000000           NaN\n",
       "2020-01-24   2.0000000      0.3333333         0.0     1.0000000           NaN\n",
       "2020-01-25   0.3333333      3.2500000         0.0     0.5000000           Inf\n",
       "2020-01-26   0.0000000      0.2352941         1.5     0.3333333             0\n",
       "2020-01-27   0.5000000      0.2857143         0.2     0.7500000             5\n",
       "           China_Shaanxi China_Shandong China_Shanghai China_Shanxi\n",
       "2020-01-22           NaN            NaN            NaN          NaN\n",
       "2020-01-23           Inf      2.0000000      0.7777778    0.0000000\n",
       "2020-01-24     0.6666667      1.5000000      0.2500000    0.0000000\n",
       "2020-01-25     2.0000000      0.8000000      0.6500000    5.0000000\n",
       "2020-01-26     0.4666667      0.7037037      0.2121212    0.5000000\n",
       "2020-01-27     0.5909091      0.6304348      0.3250000    0.4444444\n",
       "           China_Sichuan China_Tianjin China_Tibet China_Xinjiang China_Yunnan\n",
       "2020-01-22           NaN           NaN         NaN            NaN          NaN\n",
       "2020-01-23     0.6000000     0.0000000         NaN            Inf    1.0000000\n",
       "2020-01-24     0.8750000     1.0000000         NaN      0.0000000    1.5000000\n",
       "2020-01-25     0.8666667     0.2500000         NaN      0.5000000    1.2000000\n",
       "2020-01-26     0.5714286     0.4000000         NaN      0.3333333    0.4545455\n",
       "2020-01-27     0.5681818     0.6428571         NaN      0.2500000    0.6250000\n",
       "           China_Zhejiang Colombia_ Congo (Brazzaville)_ Congo (Kinshasa)_\n",
       "2020-01-22            NaN       NaN                  NaN               NaN\n",
       "2020-01-23      1.7000000       NaN                  NaN               NaN\n",
       "2020-01-24      0.5925926       NaN                  NaN               NaN\n",
       "2020-01-25      0.4418605       NaN                  NaN               NaN\n",
       "2020-01-26      0.6774194       NaN                  NaN               NaN\n",
       "2020-01-27      0.2307692       NaN                  NaN               NaN\n",
       "           Costa Rica_ Cote d'Ivoire_ Croatia_ Cuba_ Cyprus_ Czechia_ Denmark_\n",
       "2020-01-22         NaN            NaN      NaN   NaN     NaN      NaN      NaN\n",
       "2020-01-23         NaN            NaN      NaN   NaN     NaN      NaN      NaN\n",
       "2020-01-24         NaN            NaN      NaN   NaN     NaN      NaN      NaN\n",
       "2020-01-25         NaN            NaN      NaN   NaN     NaN      NaN      NaN\n",
       "2020-01-26         NaN            NaN      NaN   NaN     NaN      NaN      NaN\n",
       "2020-01-27         NaN            NaN      NaN   NaN     NaN      NaN      NaN\n",
       "           Denmark_Faroe Islands Denmark_Greenland Diamond Princess_ Djibouti_\n",
       "2020-01-22                   NaN               NaN               NaN       NaN\n",
       "2020-01-23                   NaN               NaN               NaN       NaN\n",
       "2020-01-24                   NaN               NaN               NaN       NaN\n",
       "2020-01-25                   NaN               NaN               NaN       NaN\n",
       "2020-01-26                   NaN               NaN               NaN       NaN\n",
       "2020-01-27                   NaN               NaN               NaN       NaN\n",
       "           Dominica_ Dominican Republic_ Ecuador_ Egypt_ El Salvador_\n",
       "2020-01-22       NaN                 NaN      NaN    NaN          NaN\n",
       "2020-01-23       NaN                 NaN      NaN    NaN          NaN\n",
       "2020-01-24       NaN                 NaN      NaN    NaN          NaN\n",
       "2020-01-25       NaN                 NaN      NaN    NaN          NaN\n",
       "2020-01-26       NaN                 NaN      NaN    NaN          NaN\n",
       "2020-01-27       NaN                 NaN      NaN    NaN          NaN\n",
       "           Equatorial Guinea_ Eritrea_ Estonia_ Eswatini_ Ethiopia_ Fiji_\n",
       "2020-01-22                NaN      NaN      NaN       NaN       NaN   NaN\n",
       "2020-01-23                NaN      NaN      NaN       NaN       NaN   NaN\n",
       "2020-01-24                NaN      NaN      NaN       NaN       NaN   NaN\n",
       "2020-01-25                NaN      NaN      NaN       NaN       NaN   NaN\n",
       "2020-01-26                NaN      NaN      NaN       NaN       NaN   NaN\n",
       "2020-01-27                NaN      NaN      NaN       NaN       NaN   NaN\n",
       "           Finland_ France_ France_French Guiana France_French Polynesia\n",
       "2020-01-22      NaN     NaN                  NaN                     NaN\n",
       "2020-01-23      NaN     NaN                  NaN                     NaN\n",
       "2020-01-24      NaN     Inf                  NaN                     NaN\n",
       "2020-01-25      NaN     0.5                  NaN                     NaN\n",
       "2020-01-26      NaN     0.0                  NaN                     NaN\n",
       "2020-01-27      NaN     0.0                  NaN                     NaN\n",
       "           France_Guadeloupe France_Martinique France_Mayotte\n",
       "2020-01-22               NaN               NaN            NaN\n",
       "2020-01-23               NaN               NaN            NaN\n",
       "2020-01-24               NaN               NaN            NaN\n",
       "2020-01-25               NaN               NaN            NaN\n",
       "2020-01-26               NaN               NaN            NaN\n",
       "2020-01-27               NaN               NaN            NaN\n",
       "           France_New Caledonia France_Reunion France_Saint Barthelemy\n",
       "2020-01-22                  NaN            NaN                     NaN\n",
       "2020-01-23                  NaN            NaN                     NaN\n",
       "2020-01-24                  NaN            NaN                     NaN\n",
       "2020-01-25                  NaN            NaN                     NaN\n",
       "2020-01-26                  NaN            NaN                     NaN\n",
       "2020-01-27                  NaN            NaN                     NaN\n",
       "           France_St Martin Gabon_ Gambia_ Georgia_ Germany_ Ghana_ Greece_\n",
       "2020-01-22              NaN    NaN     NaN      NaN      NaN    NaN     NaN\n",
       "2020-01-23              NaN    NaN     NaN      NaN      NaN    NaN     NaN\n",
       "2020-01-24              NaN    NaN     NaN      NaN      NaN    NaN     NaN\n",
       "2020-01-25              NaN    NaN     NaN      NaN      NaN    NaN     NaN\n",
       "2020-01-26              NaN    NaN     NaN      NaN      NaN    NaN     NaN\n",
       "2020-01-27              NaN    NaN     NaN      NaN      Inf    NaN     NaN\n",
       "           Grenada_ Guatemala_ Guinea_ Guinea-Bissau_ Guyana_ Haiti_ Holy See_\n",
       "2020-01-22      NaN        NaN     NaN            NaN     NaN    NaN       NaN\n",
       "2020-01-23      NaN        NaN     NaN            NaN     NaN    NaN       NaN\n",
       "2020-01-24      NaN        NaN     NaN            NaN     NaN    NaN       NaN\n",
       "2020-01-25      NaN        NaN     NaN            NaN     NaN    NaN       NaN\n",
       "2020-01-26      NaN        NaN     NaN            NaN     NaN    NaN       NaN\n",
       "2020-01-27      NaN        NaN     NaN            NaN     NaN    NaN       NaN\n",
       "           Honduras_ Hungary_ Iceland_ India_ Indonesia_ Iran_ Iraq_ Ireland_\n",
       "2020-01-22       NaN      NaN      NaN    NaN        NaN   NaN   NaN      NaN\n",
       "2020-01-23       NaN      NaN      NaN    NaN        NaN   NaN   NaN      NaN\n",
       "2020-01-24       NaN      NaN      NaN    NaN        NaN   NaN   NaN      NaN\n",
       "2020-01-25       NaN      NaN      NaN    NaN        NaN   NaN   NaN      NaN\n",
       "2020-01-26       NaN      NaN      NaN    NaN        NaN   NaN   NaN      NaN\n",
       "2020-01-27       NaN      NaN      NaN    NaN        NaN   NaN   NaN      NaN\n",
       "           Israel_ Italy_ Italy_Abruzzo Italy_Basilicata Italy_P.A. Bolzano\n",
       "2020-01-22     NaN    NaN            NA               NA                 NA\n",
       "2020-01-23     NaN    NaN            NA               NA                 NA\n",
       "2020-01-24     NaN    NaN            NA               NA                 NA\n",
       "2020-01-25     NaN    NaN            NA               NA                 NA\n",
       "2020-01-26     NaN    NaN            NA               NA                 NA\n",
       "2020-01-27     NaN    NaN            NA               NA                 NA\n",
       "           Italy_Calabria Italy_Campania Italy_Emilia Romagna\n",
       "2020-01-22             NA             NA                   NA\n",
       "2020-01-23             NA             NA                   NA\n",
       "2020-01-24             NA             NA                   NA\n",
       "2020-01-25             NA             NA                   NA\n",
       "2020-01-26             NA             NA                   NA\n",
       "2020-01-27             NA             NA                   NA\n",
       "           Italy_Friuli Venezia Giulia Italy_Lazio Italy_Liguria\n",
       "2020-01-22                          NA          NA            NA\n",
       "2020-01-23                          NA          NA            NA\n",
       "2020-01-24                          NA          NA            NA\n",
       "2020-01-25                          NA          NA            NA\n",
       "2020-01-26                          NA          NA            NA\n",
       "2020-01-27                          NA          NA            NA\n",
       "           Italy_Lombardia Italy_Marche Italy_Molise Italy_Piemonte\n",
       "2020-01-22              NA           NA           NA             NA\n",
       "2020-01-23              NA           NA           NA             NA\n",
       "2020-01-24              NA           NA           NA             NA\n",
       "2020-01-25              NA           NA           NA             NA\n",
       "2020-01-26              NA           NA           NA             NA\n",
       "2020-01-27              NA           NA           NA             NA\n",
       "           Italy_Puglia Italy_Sardegna Italy_Sicilia Italy_Toscana\n",
       "2020-01-22           NA             NA            NA            NA\n",
       "2020-01-23           NA             NA            NA            NA\n",
       "2020-01-24           NA             NA            NA            NA\n",
       "2020-01-25           NA             NA            NA            NA\n",
       "2020-01-26           NA             NA            NA            NA\n",
       "2020-01-27           NA             NA            NA            NA\n",
       "           Italy_P.A. Trento Italy_Umbria Italy_Valle d'Aosta Italy_Veneto\n",
       "2020-01-22                NA           NA                  NA           NA\n",
       "2020-01-23                NA           NA                  NA           NA\n",
       "2020-01-24                NA           NA                  NA           NA\n",
       "2020-01-25                NA           NA                  NA           NA\n",
       "2020-01-26                NA           NA                  NA           NA\n",
       "2020-01-27                NA           NA                  NA           NA\n",
       "           Jamaica_ Japan_ Jordan_ Kazakhstan_ Kenya_ Korea, South_ Kosovo_\n",
       "2020-01-22      NaN    NaN     NaN         NaN    NaN           NaN     NaN\n",
       "2020-01-23      NaN      0     NaN         NaN    NaN     0.0000000     NaN\n",
       "2020-01-24      NaN      0     NaN         NaN    NaN     1.0000000     NaN\n",
       "2020-01-25      NaN      0     NaN         NaN    NaN     0.0000000     NaN\n",
       "2020-01-26      NaN      1     NaN         NaN    NaN     0.5000000     NaN\n",
       "2020-01-27      NaN      0     NaN         NaN    NaN     0.3333333     NaN\n",
       "           Kuwait_ Kyrgyzstan_ Laos_ Latvia_ Lebanon_ Liberia_ Libya_\n",
       "2020-01-22     NaN         NaN   NaN     NaN      NaN      NaN    NaN\n",
       "2020-01-23     NaN         NaN   NaN     NaN      NaN      NaN    NaN\n",
       "2020-01-24     NaN         NaN   NaN     NaN      NaN      NaN    NaN\n",
       "2020-01-25     NaN         NaN   NaN     NaN      NaN      NaN    NaN\n",
       "2020-01-26     NaN         NaN   NaN     NaN      NaN      NaN    NaN\n",
       "2020-01-27     NaN         NaN   NaN     NaN      NaN      NaN    NaN\n",
       "           Liechtenstein_ Lithuania_ Luxembourg_ Madagascar_ Malaysia_\n",
       "2020-01-22            NaN        NaN         NaN         NaN       NaN\n",
       "2020-01-23            NaN        NaN         NaN         NaN       NaN\n",
       "2020-01-24            NaN        NaN         NaN         NaN       NaN\n",
       "2020-01-25            NaN        NaN         NaN         NaN       Inf\n",
       "2020-01-26            NaN        NaN         NaN         NaN 0.3333333\n",
       "2020-01-27            NaN        NaN         NaN         NaN 0.0000000\n",
       "           Maldives_ Mali_ Malta_ Mauritania_ Mauritius_ Mexico_ Moldova_\n",
       "2020-01-22       NaN   NaN    NaN         NaN        NaN     NaN      NaN\n",
       "2020-01-23       NaN   NaN    NaN         NaN        NaN     NaN      NaN\n",
       "2020-01-24       NaN   NaN    NaN         NaN        NaN     NaN      NaN\n",
       "2020-01-25       NaN   NaN    NaN         NaN        NaN     NaN      NaN\n",
       "2020-01-26       NaN   NaN    NaN         NaN        NaN     NaN      NaN\n",
       "2020-01-27       NaN   NaN    NaN         NaN        NaN     NaN      NaN\n",
       "           Monaco_ Mongolia_ Montenegro_ Morocco_ Mozambique_ Namibia_ Nepal_\n",
       "2020-01-22     NaN       NaN         NaN      NaN         NaN      NaN    NaN\n",
       "2020-01-23     NaN       NaN         NaN      NaN         NaN      NaN    NaN\n",
       "2020-01-24     NaN       NaN         NaN      NaN         NaN      NaN    NaN\n",
       "2020-01-25     NaN       NaN         NaN      NaN         NaN      NaN    Inf\n",
       "2020-01-26     NaN       NaN         NaN      NaN         NaN      NaN      0\n",
       "2020-01-27     NaN       NaN         NaN      NaN         NaN      NaN      0\n",
       "           Netherlands_ Netherlands_Aruba Netherlands_Curacao\n",
       "2020-01-22          NaN               NaN                 NaN\n",
       "2020-01-23          NaN               NaN                 NaN\n",
       "2020-01-24          NaN               NaN                 NaN\n",
       "2020-01-25          NaN               NaN                 NaN\n",
       "2020-01-26          NaN               NaN                 NaN\n",
       "2020-01-27          NaN               NaN                 NaN\n",
       "           Netherlands_Sint Maarten New Zealand_ Nicaragua_ Niger_ Nigeria_\n",
       "2020-01-22                      NaN          NaN        NaN    NaN      NaN\n",
       "2020-01-23                      NaN          NaN        NaN    NaN      NaN\n",
       "2020-01-24                      NaN          NaN        NaN    NaN      NaN\n",
       "2020-01-25                      NaN          NaN        NaN    NaN      NaN\n",
       "2020-01-26                      NaN          NaN        NaN    NaN      NaN\n",
       "2020-01-27                      NaN          NaN        NaN    NaN      NaN\n",
       "           North Macedonia_ Norway_ Oman_ Pakistan_ Panama_ Papua New Guinea_\n",
       "2020-01-22              NaN     NaN   NaN       NaN     NaN               NaN\n",
       "2020-01-23              NaN     NaN   NaN       NaN     NaN               NaN\n",
       "2020-01-24              NaN     NaN   NaN       NaN     NaN               NaN\n",
       "2020-01-25              NaN     NaN   NaN       NaN     NaN               NaN\n",
       "2020-01-26              NaN     NaN   NaN       NaN     NaN               NaN\n",
       "2020-01-27              NaN     NaN   NaN       NaN     NaN               NaN\n",
       "           Paraguay_ Peru_ Philippines_ Poland_ Portugal_ Qatar_ Romania_\n",
       "2020-01-22       NaN   NaN          NaN     NaN       NaN    NaN      NaN\n",
       "2020-01-23       NaN   NaN          NaN     NaN       NaN    NaN      NaN\n",
       "2020-01-24       NaN   NaN          NaN     NaN       NaN    NaN      NaN\n",
       "2020-01-25       NaN   NaN          NaN     NaN       NaN    NaN      NaN\n",
       "2020-01-26       NaN   NaN          NaN     NaN       NaN    NaN      NaN\n",
       "2020-01-27       NaN   NaN          NaN     NaN       NaN    NaN      NaN\n",
       "           Russia_ Rwanda_ Saint Kitts and Nevis_ Saint Lucia_\n",
       "2020-01-22     NaN     NaN                    NaN          NaN\n",
       "2020-01-23     NaN     NaN                    NaN          NaN\n",
       "2020-01-24     NaN     NaN                    NaN          NaN\n",
       "2020-01-25     NaN     NaN                    NaN          NaN\n",
       "2020-01-26     NaN     NaN                    NaN          NaN\n",
       "2020-01-27     NaN     NaN                    NaN          NaN\n",
       "           Saint Vincent and the Grenadines_ San Marino_ Saudi Arabia_ Senegal_\n",
       "2020-01-22                               NaN         NaN           NaN      NaN\n",
       "2020-01-23                               NaN         NaN           NaN      NaN\n",
       "2020-01-24                               NaN         NaN           NaN      NaN\n",
       "2020-01-25                               NaN         NaN           NaN      NaN\n",
       "2020-01-26                               NaN         NaN           NaN      NaN\n",
       "2020-01-27                               NaN         NaN           NaN      NaN\n",
       "           Serbia_ Seychelles_ Singapore_ Slovakia_ Slovenia_ Somalia_\n",
       "2020-01-22     NaN         NaN        NaN       NaN       NaN      NaN\n",
       "2020-01-23     NaN         NaN        Inf       NaN       NaN      NaN\n",
       "2020-01-24     NaN         NaN  2.0000000       NaN       NaN      NaN\n",
       "2020-01-25     NaN         NaN  0.0000000       NaN       NaN      NaN\n",
       "2020-01-26     NaN         NaN  0.3333333       NaN       NaN      NaN\n",
       "2020-01-27     NaN         NaN  0.2500000       NaN       NaN      NaN\n",
       "           South Africa_ Spain_ Sri Lanka_ Sudan_ Suriname_ Sweden_\n",
       "2020-01-22           NaN    NaN        NaN    NaN       NaN     NaN\n",
       "2020-01-23           NaN    NaN        NaN    NaN       NaN     NaN\n",
       "2020-01-24           NaN    NaN        NaN    NaN       NaN     NaN\n",
       "2020-01-25           NaN    NaN        NaN    NaN       NaN     NaN\n",
       "2020-01-26           NaN    NaN        NaN    NaN       NaN     NaN\n",
       "2020-01-27           NaN    NaN        Inf    NaN       NaN     NaN\n",
       "           Switzerland_ Syria_  Taiwan*_ Tanzania_ Thailand_ Timor-Leste_ Togo_\n",
       "2020-01-22          NaN    NaN       NaN       NaN       NaN          NaN   NaN\n",
       "2020-01-23          NaN    NaN 0.0000000       NaN 0.5000000          NaN   NaN\n",
       "2020-01-24          NaN    NaN 2.0000000       NaN 0.6666667          NaN   NaN\n",
       "2020-01-25          NaN    NaN 0.0000000       NaN 0.4000000          NaN   NaN\n",
       "2020-01-26          NaN    NaN 0.3333333       NaN 0.1428571          NaN   NaN\n",
       "2020-01-27          NaN    NaN 0.2500000       NaN 0.0000000          NaN   NaN\n",
       "           Trinidad and Tobago_ Tunisia_ Turkey_ Uganda_ Ukraine_\n",
       "2020-01-22                  NaN      NaN     NaN     NaN      NaN\n",
       "2020-01-23                  NaN      NaN     NaN     NaN      NaN\n",
       "2020-01-24                  NaN      NaN     NaN     NaN      NaN\n",
       "2020-01-25                  NaN      NaN     NaN     NaN      NaN\n",
       "2020-01-26                  NaN      NaN     NaN     NaN      NaN\n",
       "2020-01-27                  NaN      NaN     NaN     NaN      NaN\n",
       "           United Arab Emirates_ United Kingdom_ United Kingdom_Bermuda\n",
       "2020-01-22                   NaN             NaN                    NaN\n",
       "2020-01-23                   NaN             NaN                    NaN\n",
       "2020-01-24                   NaN             NaN                    NaN\n",
       "2020-01-25                   NaN             NaN                    NaN\n",
       "2020-01-26                   NaN             NaN                    NaN\n",
       "2020-01-27                   NaN             NaN                    NaN\n",
       "           United Kingdom_Cayman Islands United Kingdom_Channel Islands\n",
       "2020-01-22                           NaN                            NaN\n",
       "2020-01-23                           NaN                            NaN\n",
       "2020-01-24                           NaN                            NaN\n",
       "2020-01-25                           NaN                            NaN\n",
       "2020-01-26                           NaN                            NaN\n",
       "2020-01-27                           NaN                            NaN\n",
       "           United Kingdom_Gibraltar United Kingdom_Isle of Man\n",
       "2020-01-22                      NaN                        NaN\n",
       "2020-01-23                      NaN                        NaN\n",
       "2020-01-24                      NaN                        NaN\n",
       "2020-01-25                      NaN                        NaN\n",
       "2020-01-26                      NaN                        NaN\n",
       "2020-01-27                      NaN                        NaN\n",
       "           United Kingdom_Montserrat Uruguay_ US_ Uzbekistan_ Venezuela_\n",
       "2020-01-22                       NaN      NaN NaN         NaN        NaN\n",
       "2020-01-23                       NaN      NaN 0.0         NaN        NaN\n",
       "2020-01-24                       NaN      NaN 1.0         NaN        NaN\n",
       "2020-01-25                       NaN      NaN 0.0         NaN        NaN\n",
       "2020-01-26                       NaN      NaN 1.5         NaN        NaN\n",
       "2020-01-27                       NaN      NaN 0.0         NaN        NaN\n",
       "           Vietnam_ West Bank and Gaza_ Zambia_ Zimbabwe_\n",
       "2020-01-22      NaN                 NaN     NaN       NaN\n",
       "2020-01-23      Inf                 NaN     NaN       NaN\n",
       "2020-01-24        0                 NaN     NaN       NaN\n",
       "2020-01-25        0                 NaN     NaN       NaN\n",
       "2020-01-26        0                 NaN     NaN       NaN\n",
       "2020-01-27        0                 NaN     NaN       NaN"
      ]
     },
     "metadata": {},
     "output_type": "display_data"
    }
   ],
   "source": [
    "head(confirmed_gr_ts.zoo)"
   ]
  },
  {
   "cell_type": "markdown",
   "metadata": {},
   "source": [
    "## Explore data"
   ]
  },
  {
   "cell_type": "code",
   "execution_count": 35,
   "metadata": {
    "ExecuteTime": {
     "end_time": "2020-03-28T20:54:13.284679Z",
     "start_time": "2020-03-28T20:54:13.227Z"
    }
   },
   "outputs": [
    {
     "data": {
      "text/plain": [
       "           China_Anhui China_Beijing China_Chongqing China_Fujian China_Gansu\n",
       "2020-01-22           1            14               6            1           0\n",
       "2020-01-23           9            22               9            5           2\n",
       "2020-01-24          15            36              27           10           2\n",
       "2020-01-25          39            41              57           18           4\n",
       "2020-01-26          60            68              75           35           7\n",
       "2020-01-27          70            80             110           59          14\n",
       "2020-01-28         106            91             132           80          19\n",
       "2020-01-29         152           111             147           84          24\n",
       "2020-01-30         200           114             182          101          26\n",
       "2020-01-31         237           139             211          120          29\n",
       "2020-02-01         297           168             247          144          40\n",
       "2020-02-02         340           191             300          159          51\n",
       "2020-02-03         408           212             337          179          55\n",
       "2020-02-04         480           228             366          194          57\n",
       "2020-02-05         530           253             389          205          62\n",
       "2020-02-06         591           274             411          215          62\n",
       "2020-02-07         665           297             426          224          67\n",
       "2020-02-08         733           315             428          239          79\n",
       "2020-02-09         779           326             468          250          83\n",
       "2020-02-10         830           337             486          261          83\n",
       "2020-02-11         860           342             505          267          86\n",
       "2020-02-12         889           352             518          272          87\n",
       "2020-02-13         910           366             529          279          90\n",
       "2020-02-14         934           372             537          281          90\n",
       "2020-02-15         950           375             544          285          90\n",
       "2020-02-16         962           380             551          287          90\n",
       "2020-02-17         973           381             553          290          91\n",
       "2020-02-18         982           387             555          292          91\n",
       "2020-02-19         986           393             560          293          91\n",
       "2020-02-20         987           395             567          293          91\n",
       "2020-02-21         988           396             572          293          91\n",
       "2020-02-22         989           399             573          293          91\n",
       "2020-02-23         989           399             575          293          91\n",
       "2020-02-24         989           399             576          293          91\n",
       "2020-02-25         989           400             576          294          91\n",
       "2020-02-26         989           400             576          294          91\n",
       "2020-02-27         989           410             576          296          91\n",
       "2020-02-28         990           410             576          296          91\n",
       "2020-02-29         990           411             576          296          91\n",
       "2020-03-01         990           413             576          296          91\n",
       "2020-03-02         990           414             576          296          91\n",
       "2020-03-03         990           414             576          296          91\n",
       "2020-03-04         990           418             576          296          91\n",
       "2020-03-05         990           418             576          296         102\n",
       "2020-03-06         990           422             576          296         119\n",
       "2020-03-07         990           426             576          296         120\n",
       "2020-03-08         990           428             576          296         124\n",
       "2020-03-09         990           428             576          296         124\n",
       "2020-03-10         990           429             576          296         125\n",
       "2020-03-11         990           435             576          296         127\n",
       "2020-03-12         990           435             576          296         127\n",
       "2020-03-13         990           436             576          296         127\n",
       "2020-03-14         990           437             576          296         129\n",
       "2020-03-15         990           442             576          296         133\n",
       "2020-03-16         990           452             576          296         133\n",
       "2020-03-17         990           456             576          296         133\n",
       "2020-03-18         990           469             576          296         133\n",
       "2020-03-19         990           480             576          296         134\n",
       "2020-03-20         990           491             576          299         134\n",
       "2020-03-21         990           504             576          303         134\n",
       "2020-03-22         990           522             577          313         136\n",
       "2020-03-23         990           537             578          313         136\n",
       "2020-03-24         990           558             578          318         136\n",
       "2020-03-25         990           561             578          322         136\n",
       "2020-03-26         990           566             578          328         136\n",
       "2020-03-27         990           569             578          331         136\n",
       "2020-03-28          NA            NA              NA           NA          NA\n",
       "           China_Guangdong China_Guangxi China_Guizhou China_Hainan China_Hebei\n",
       "2020-01-22              26             2             1            4           1\n",
       "2020-01-23              32             5             3            5           1\n",
       "2020-01-24              53            23             3            8           2\n",
       "2020-01-25              78            23             4           19           8\n",
       "2020-01-26             111            36             5           22          13\n",
       "2020-01-27             151            46             7           33          18\n",
       "2020-01-28             207            51             9           40          33\n",
       "2020-01-29             277            58             9           43          48\n",
       "2020-01-30             354            78            12           46          65\n",
       "2020-01-31             436            87            29           52          82\n",
       "2020-02-01             535           100            29           62          96\n",
       "2020-02-02             632           111            38           64         104\n",
       "2020-02-03             725           127            46           72         113\n",
       "2020-02-04             813           139            58           80         126\n",
       "2020-02-05             895           150            64           99         135\n",
       "2020-02-06             970           168            71          106         157\n",
       "2020-02-07            1034           172            81          117         172\n",
       "2020-02-08            1095           183            89          124         195\n",
       "2020-02-09            1131           195            99          131         206\n",
       "2020-02-10            1159           210           109          138         218\n",
       "2020-02-11            1177           215           127          144         239\n",
       "2020-02-12            1219           222           133          157         251\n",
       "2020-02-13            1241           222           135          157         265\n",
       "2020-02-14            1261           226           140          159         283\n",
       "2020-02-15            1294           235           143          162         291\n",
       "2020-02-16            1316           237           144          162         300\n",
       "2020-02-17            1322           238           146          163         301\n",
       "2020-02-18            1328           242           146          163         306\n",
       "2020-02-19            1331           244           146          168         306\n",
       "2020-02-20            1332           245           146          168         307\n",
       "2020-02-21            1333           246           146          168         308\n",
       "2020-02-22            1339           249           146          168         309\n",
       "2020-02-23            1342           249           146          168         311\n",
       "2020-02-24            1345           251           146          168         311\n",
       "2020-02-25            1347           252           146          168         311\n",
       "2020-02-26            1347           252           146          168         312\n",
       "2020-02-27            1347           252           146          168         317\n",
       "2020-02-28            1348           252           146          168         318\n",
       "2020-02-29            1349           252           146          168         318\n",
       "2020-03-01            1349           252           146          168         318\n",
       "2020-03-02            1350           252           146          168         318\n",
       "2020-03-03            1350           252           146          168         318\n",
       "2020-03-04            1350           252           146          168         318\n",
       "2020-03-05            1351           252           146          168         318\n",
       "2020-03-06            1352           252           146          168         318\n",
       "2020-03-07            1352           252           146          168         318\n",
       "2020-03-08            1352           252           146          168         318\n",
       "2020-03-09            1352           252           146          168         318\n",
       "2020-03-10            1353           252           146          168         318\n",
       "2020-03-11            1356           252           146          168         318\n",
       "2020-03-12            1356           252           146          168         318\n",
       "2020-03-13            1356           252           146          168         318\n",
       "2020-03-14            1356           252           146          168         318\n",
       "2020-03-15            1360           252           146          168         318\n",
       "2020-03-16            1361           252           146          168         318\n",
       "2020-03-17            1364           253           147          168         318\n",
       "2020-03-18            1370           253           146          168         318\n",
       "2020-03-19            1378           253           146          168         318\n",
       "2020-03-20            1395           254           146          168         318\n",
       "2020-03-21            1400           254           146          168         318\n",
       "2020-03-22            1413           254           146          168         319\n",
       "2020-03-23            1415           254           146          168         319\n",
       "2020-03-24            1428           254           146          168         319\n",
       "2020-03-25            1433           254           146          168         319\n",
       "2020-03-26            1448           254           146          168         319\n",
       "2020-03-27            1456           254           146          168         319\n",
       "2020-03-28              NA            NA            NA           NA          NA\n",
       "           China_Heilongjiang China_Henan China_Hong Kong China_Hubei\n",
       "2020-01-22                  0           5               0         444\n",
       "2020-01-23                  2           5               2         444\n",
       "2020-01-24                  4           9               2         549\n",
       "2020-01-25                  9          32               5         761\n",
       "2020-01-26                 15          83               8        1058\n",
       "2020-01-27                 21         128               8        1423\n",
       "2020-01-28                 33         168               8        3554\n",
       "2020-01-29                 38         206              10        3554\n",
       "2020-01-30                 44         278              10        4903\n",
       "2020-01-31                 59         352              12        5806\n",
       "2020-02-01                 80         422              13        7153\n",
       "2020-02-02                 95         493              15       11177\n",
       "2020-02-03                121         566              15       13522\n",
       "2020-02-04                155         675              17       16678\n",
       "2020-02-05                190         764              21       19665\n",
       "2020-02-06                227         851              24       22112\n",
       "2020-02-07                277         914              25       24953\n",
       "2020-02-08                295         981              26       27100\n",
       "2020-02-09                307        1033              29       29631\n",
       "2020-02-10                331        1073              38       31728\n",
       "2020-02-11                360        1105              49       33366\n",
       "2020-02-12                378        1135              50       33366\n",
       "2020-02-13                395        1169              53       48206\n",
       "2020-02-14                419        1184              56       54406\n",
       "2020-02-15                425        1212              56       56249\n",
       "2020-02-16                445        1231              57       58182\n",
       "2020-02-17                457        1246              60       59989\n",
       "2020-02-18                464        1257              62       61682\n",
       "2020-02-19                470        1262              63       62031\n",
       "2020-02-20                476        1265              68       62442\n",
       "2020-02-21                479        1267              68       62662\n",
       "2020-02-22                479        1270              69       64084\n",
       "2020-02-23                480        1271              74       64084\n",
       "2020-02-24                480        1271              79       64287\n",
       "2020-02-25                480        1271              84       64786\n",
       "2020-02-26                480        1271              91       65187\n",
       "2020-02-27                480        1272              92       65596\n",
       "2020-02-28                480        1272              94       65914\n",
       "2020-02-29                480        1272              95       66337\n",
       "2020-03-01                480        1272              96       66907\n",
       "2020-03-02                480        1272             100       67103\n",
       "2020-03-03                480        1272             100       67217\n",
       "2020-03-04                480        1272             105       67332\n",
       "2020-03-05                481        1272             105       67466\n",
       "2020-03-06                481        1272             107       67592\n",
       "2020-03-07                481        1272             108       67666\n",
       "2020-03-08                481        1272             114       67707\n",
       "2020-03-09                481        1272             115       67743\n",
       "2020-03-10                481        1272             120       67760\n",
       "2020-03-11                482        1273             126       67773\n",
       "2020-03-12                482        1273             129       67781\n",
       "2020-03-13                482        1273             134       67786\n",
       "2020-03-14                482        1273             140       67790\n",
       "2020-03-15                482        1273             145       67794\n",
       "2020-03-16                482        1273             155       67798\n",
       "2020-03-17                482        1273             162       67799\n",
       "2020-03-18                482        1273             181       67800\n",
       "2020-03-19                483        1273             208       67800\n",
       "2020-03-20                484        1273             256       67800\n",
       "2020-03-21                484        1273             273       67800\n",
       "2020-03-22                484        1274             317       67800\n",
       "2020-03-23                484        1274             356       67800\n",
       "2020-03-24                484        1274             386       67801\n",
       "2020-03-25                484        1274             410       67801\n",
       "2020-03-26                484        1275             453       67801\n",
       "2020-03-27                484        1275             519       67801\n",
       "2020-03-28                 NA          NA              NA          NA\n",
       "           China_Hunan China_Inner Mongolia China_Jiangsu China_Jiangxi\n",
       "2020-01-22           4                    0             1             2\n",
       "2020-01-23           9                    0             5             7\n",
       "2020-01-24          24                    1             9            18\n",
       "2020-01-25          43                    7            18            18\n",
       "2020-01-26          69                    7            33            36\n",
       "2020-01-27         100                   11            47            72\n",
       "2020-01-28         143                   15            70           109\n",
       "2020-01-29         221                   16            99           109\n",
       "2020-01-30         277                   19           129           162\n",
       "2020-01-31         332                   20           168           240\n",
       "2020-02-01         389                   23           202           286\n",
       "2020-02-02         463                   27           236           333\n",
       "2020-02-03         521                   34           271           391\n",
       "2020-02-04         593                   35           308           476\n",
       "2020-02-05         661                   42           341           548\n",
       "2020-02-06         711                   46           373           600\n",
       "2020-02-07         772                   50           408           661\n",
       "2020-02-08         803                   52           439           698\n",
       "2020-02-09         838                   54           468           740\n",
       "2020-02-10         879                   58           492           771\n",
       "2020-02-11         912                   58           515           804\n",
       "2020-02-12         946                   60           543           844\n",
       "2020-02-13         968                   61           570           872\n",
       "2020-02-14         988                   65           593           900\n",
       "2020-02-15        1001                   68           604           913\n",
       "2020-02-16        1004                   70           617           925\n",
       "2020-02-17        1006                   72           626           930\n",
       "2020-02-18        1007                   73           629           933\n",
       "2020-02-19        1008                   75           631           934\n",
       "2020-02-20        1010                   75           631           934\n",
       "2020-02-21        1011                   75           631           934\n",
       "2020-02-22        1013                   75           631           934\n",
       "2020-02-23        1016                   75           631           934\n",
       "2020-02-24        1016                   75           631           934\n",
       "2020-02-25        1016                   75           631           934\n",
       "2020-02-26        1016                   75           631           934\n",
       "2020-02-27        1017                   75           631           934\n",
       "2020-02-28        1017                   75           631           935\n",
       "2020-02-29        1018                   75           631           935\n",
       "2020-03-01        1018                   75           631           935\n",
       "2020-03-02        1018                   75           631           935\n",
       "2020-03-03        1018                   75           631           935\n",
       "2020-03-04        1018                   75           631           935\n",
       "2020-03-05        1018                   75           631           935\n",
       "2020-03-06        1018                   75           631           935\n",
       "2020-03-07        1018                   75           631           935\n",
       "2020-03-08        1018                   75           631           935\n",
       "2020-03-09        1018                   75           631           935\n",
       "2020-03-10        1018                   75           631           935\n",
       "2020-03-11        1018                   75           631           935\n",
       "2020-03-12        1018                   75           631           935\n",
       "2020-03-13        1018                   75           631           935\n",
       "2020-03-14        1018                   75           631           935\n",
       "2020-03-15        1018                   75           631           935\n",
       "2020-03-16        1018                   75           631           935\n",
       "2020-03-17        1018                   75           631           935\n",
       "2020-03-18        1018                   75           631           935\n",
       "2020-03-19        1018                   75           631           935\n",
       "2020-03-20        1018                   75           631           935\n",
       "2020-03-21        1018                   75           631           935\n",
       "2020-03-22        1018                   75           633           936\n",
       "2020-03-23        1018                   75           633           936\n",
       "2020-03-24        1018                   75           636           936\n",
       "2020-03-25        1018                   77           638           936\n",
       "2020-03-26        1018                   89           640           936\n",
       "2020-03-27        1018                   92           641           936\n",
       "2020-03-28          NA                   NA            NA            NA\n",
       "           China_Jilin China_Liaoning China_Macau China_Ningxia China_Qinghai\n",
       "2020-01-22           0              2           1             1             0\n",
       "2020-01-23           1              3           2             1             0\n",
       "2020-01-24           3              4           2             2             0\n",
       "2020-01-25           4             17           2             3             1\n",
       "2020-01-26           4             21           5             4             1\n",
       "2020-01-27           6             27           6             7             6\n",
       "2020-01-28           8             34           7            11             6\n",
       "2020-01-29           9             39           7            12             6\n",
       "2020-01-30          14             41           7            17             8\n",
       "2020-01-31          14             48           7            21             8\n",
       "2020-02-01          17             64           7            26             9\n",
       "2020-02-02          23             70           8            28            11\n",
       "2020-02-03          31             74           8            31            13\n",
       "2020-02-04          42             81          10            34            15\n",
       "2020-02-05          54             89          10            34            17\n",
       "2020-02-06          59             94          10            40            18\n",
       "2020-02-07          65             99          10            43            18\n",
       "2020-02-08          69            105          10            45            18\n",
       "2020-02-09          78            107          10            45            18\n",
       "2020-02-10          80            108          10            49            18\n",
       "2020-02-11          81            111          10            53            18\n",
       "2020-02-12          83            116          10            58            18\n",
       "2020-02-13          84            117          10            64            18\n",
       "2020-02-14          86            119          10            67            18\n",
       "2020-02-15          88            119          10            70            18\n",
       "2020-02-16          89            121          10            70            18\n",
       "2020-02-17          89            121          10            70            18\n",
       "2020-02-18          89            121          10            70            18\n",
       "2020-02-19          90            121          10            71            18\n",
       "2020-02-20          91            121          10            71            18\n",
       "2020-02-21          91            121          10            71            18\n",
       "2020-02-22          91            121          10            71            18\n",
       "2020-02-23          91            121          10            71            18\n",
       "2020-02-24          93            121          10            71            18\n",
       "2020-02-25          93            121          10            71            18\n",
       "2020-02-26          93            121          10            71            18\n",
       "2020-02-27          93            121          10            72            18\n",
       "2020-02-28          93            121          10            72            18\n",
       "2020-02-29          93            121          10            73            18\n",
       "2020-03-01          93            122          10            73            18\n",
       "2020-03-02          93            122          10            74            18\n",
       "2020-03-03          93            125          10            74            18\n",
       "2020-03-04          93            125          10            75            18\n",
       "2020-03-05          93            125          10            75            18\n",
       "2020-03-06          93            125          10            75            18\n",
       "2020-03-07          93            125          10            75            18\n",
       "2020-03-08          93            125          10            75            18\n",
       "2020-03-09          93            125          10            75            18\n",
       "2020-03-10          93            125          10            75            18\n",
       "2020-03-11          93            125          10            75            18\n",
       "2020-03-12          93            125          10            75            18\n",
       "2020-03-13          93            125          10            75            18\n",
       "2020-03-14          93            125          10            75            18\n",
       "2020-03-15          93            125          10            75            18\n",
       "2020-03-16          93            125          11            75            18\n",
       "2020-03-17          93            125          12            75            18\n",
       "2020-03-18          93            125          15            75            18\n",
       "2020-03-19          93            125          17            75            18\n",
       "2020-03-20          93            126          17            75            18\n",
       "2020-03-21          93            126          18            75            18\n",
       "2020-03-22          93            127          24            75            18\n",
       "2020-03-23          93            127          24            75            18\n",
       "2020-03-24          93            127          25            75            18\n",
       "2020-03-25          94            127          30            75            18\n",
       "2020-03-26          95            128          31            75            18\n",
       "2020-03-27          95            128          33            75            18\n",
       "2020-03-28          NA             NA          NA            NA            NA\n",
       "           China_Shaanxi China_Shandong China_Shanghai China_Shanxi\n",
       "2020-01-22             0              2              9            1\n",
       "2020-01-23             3              6             16            1\n",
       "2020-01-24             5             15             20            1\n",
       "2020-01-25            15             27             33            6\n",
       "2020-01-26            22             46             40            9\n",
       "2020-01-27            35             75             53           13\n",
       "2020-01-28            46             95             66           27\n",
       "2020-01-29            56            130             96           27\n",
       "2020-01-30            63            158            112           35\n",
       "2020-01-31            87            184            135           39\n",
       "2020-02-01           101            206            169           47\n",
       "2020-02-02           116            230            182           66\n",
       "2020-02-03           128            259            203           74\n",
       "2020-02-04           142            275            219           81\n",
       "2020-02-05           165            307            243           81\n",
       "2020-02-06           173            347            257           96\n",
       "2020-02-07           184            386            277          104\n",
       "2020-02-08           195            416            286          115\n",
       "2020-02-09           208            444            293          119\n",
       "2020-02-10           213            466            299          119\n",
       "2020-02-11           219            487            303          124\n",
       "2020-02-12           225            497            311          126\n",
       "2020-02-13           229            509            315          126\n",
       "2020-02-14           230            523            318          127\n",
       "2020-02-15           232            532            326          128\n",
       "2020-02-16           236            537            328          129\n",
       "2020-02-17           240            541            333          130\n",
       "2020-02-18           240            543            333          131\n",
       "2020-02-19           242            544            333          131\n",
       "2020-02-20           245            546            334          132\n",
       "2020-02-21           245            749            334          132\n",
       "2020-02-22           245            750            335          132\n",
       "2020-02-23           245            754            335          132\n",
       "2020-02-24           245            755            335          133\n",
       "2020-02-25           245            756            336          133\n",
       "2020-02-26           245            756            337          133\n",
       "2020-02-27           245            756            337          133\n",
       "2020-02-28           245            756            337          133\n",
       "2020-02-29           245            756            337          133\n",
       "2020-03-01           245            758            337          133\n",
       "2020-03-02           245            758            337          133\n",
       "2020-03-03           245            758            338          133\n",
       "2020-03-04           245            758            338          133\n",
       "2020-03-05           245            758            339          133\n",
       "2020-03-06           245            758            342          133\n",
       "2020-03-07           245            758            342          133\n",
       "2020-03-08           245            758            342          133\n",
       "2020-03-09           245            758            342          133\n",
       "2020-03-10           245            758            344          133\n",
       "2020-03-11           245            760            344          133\n",
       "2020-03-12           245            760            344          133\n",
       "2020-03-13           245            760            346          133\n",
       "2020-03-14           245            760            353          133\n",
       "2020-03-15           245            760            353          133\n",
       "2020-03-16           245            760            355          133\n",
       "2020-03-17           246            761            358          133\n",
       "2020-03-18           246            761            361          133\n",
       "2020-03-19           246            761            363          133\n",
       "2020-03-20           247            762            371          133\n",
       "2020-03-21           248            764            380          133\n",
       "2020-03-22           248            767            404          133\n",
       "2020-03-23           248            768            404          134\n",
       "2020-03-24           249            768            414          134\n",
       "2020-03-25           250            769            433          134\n",
       "2020-03-26           253            771            451          135\n",
       "2020-03-27           253            772            468          135\n",
       "2020-03-28            NA             NA             NA           NA\n",
       "           China_Sichuan China_Tianjin China_Tibet China_Xinjiang China_Yunnan\n",
       "2020-01-22             5             4           0              0            1\n",
       "2020-01-23             8             4           0              2            2\n",
       "2020-01-24            15             8           0              2            5\n",
       "2020-01-25            28            10           0              3           11\n",
       "2020-01-26            44            14           0              4           16\n",
       "2020-01-27            69            23           0              5           26\n",
       "2020-01-28            90            24           0             10           44\n",
       "2020-01-29           108            27           0             13           55\n",
       "2020-01-30           142            31           1             14           70\n",
       "2020-01-31           177            32           1             17           83\n",
       "2020-02-01           207            41           1             18           93\n",
       "2020-02-02           231            48           1             21          105\n",
       "2020-02-03           254            60           1             24          117\n",
       "2020-02-04           282            67           1             29          122\n",
       "2020-02-05           301            69           1             32          128\n",
       "2020-02-06           321            79           1             36          133\n",
       "2020-02-07           344            81           1             39          138\n",
       "2020-02-08           364            88           1             42          138\n",
       "2020-02-09           386            91           1             45          141\n",
       "2020-02-10           405            95           1             49          149\n",
       "2020-02-11           417           106           1             55          153\n",
       "2020-02-12           436           112           1             59          154\n",
       "2020-02-13           451           119           1             63          156\n",
       "2020-02-14           463           120           1             65          162\n",
       "2020-02-15           470           122           1             70          168\n",
       "2020-02-16           481           124           1             71          171\n",
       "2020-02-17           495           125           1             75          171\n",
       "2020-02-18           508           128           1             76          172\n",
       "2020-02-19           514           130           1             76          172\n",
       "2020-02-20           520           131           1             76          174\n",
       "2020-02-21           525           132           1             76          174\n",
       "2020-02-22           526           135           1             76          174\n",
       "2020-02-23           526           135           1             76          174\n",
       "2020-02-24           527           135           1             76          174\n",
       "2020-02-25           529           135           1             76          174\n",
       "2020-02-26           531           135           1             76          174\n",
       "2020-02-27           534           136           1             76          174\n",
       "2020-02-28           538           136           1             76          174\n",
       "2020-02-29           538           136           1             76          174\n",
       "2020-03-01           538           136           1             76          174\n",
       "2020-03-02           538           136           1             76          174\n",
       "2020-03-03           538           136           1             76          174\n",
       "2020-03-04           538           136           1             76          174\n",
       "2020-03-05           539           136           1             76          174\n",
       "2020-03-06           539           136           1             76          174\n",
       "2020-03-07           539           136           1             76          174\n",
       "2020-03-08           539           136           1             76          174\n",
       "2020-03-09           539           136           1             76          174\n",
       "2020-03-10           539           136           1             76          174\n",
       "2020-03-11           539           136           1             76          174\n",
       "2020-03-12           539           136           1             76          174\n",
       "2020-03-13           539           136           1             76          174\n",
       "2020-03-14           539           136           1             76          174\n",
       "2020-03-15           539           136           1             76          174\n",
       "2020-03-16           539           136           1             76          176\n",
       "2020-03-17           540           136           1             76          176\n",
       "2020-03-18           540           136           1             76          176\n",
       "2020-03-19           540           137           1             76          176\n",
       "2020-03-20           541           137           1             76          176\n",
       "2020-03-21           542           137           1             76          176\n",
       "2020-03-22           543           137           1             76          176\n",
       "2020-03-23           543           141           1             76          176\n",
       "2020-03-24           545           145           1             76          176\n",
       "2020-03-25           547           145           1             76          176\n",
       "2020-03-26           547           151           1             76          178\n",
       "2020-03-27           548           155           1             76          180\n",
       "2020-03-28            NA            NA          NA             NA           NA\n",
       "           China_Zhejiang Italy_ Italy_Abruzzo Italy_Basilicata\n",
       "2020-01-22             10      0            NA               NA\n",
       "2020-01-23             27      0            NA               NA\n",
       "2020-01-24             43      0            NA               NA\n",
       "2020-01-25             62      0            NA               NA\n",
       "2020-01-26            104      0            NA               NA\n",
       "2020-01-27            128      0            NA               NA\n",
       "2020-01-28            173      0            NA               NA\n",
       "2020-01-29            296      0            NA               NA\n",
       "2020-01-30            428      0            NA               NA\n",
       "2020-01-31            538      2            NA               NA\n",
       "2020-02-01            599      2            NA               NA\n",
       "2020-02-02            661      2            NA               NA\n",
       "2020-02-03            724      2            NA               NA\n",
       "2020-02-04            829      2            NA               NA\n",
       "2020-02-05            895      2            NA               NA\n",
       "2020-02-06            954      2            NA               NA\n",
       "2020-02-07           1006      3            NA               NA\n",
       "2020-02-08           1048      3            NA               NA\n",
       "2020-02-09           1075      3            NA               NA\n",
       "2020-02-10           1092      3            NA               NA\n",
       "2020-02-11           1117      3            NA               NA\n",
       "2020-02-12           1131      3            NA               NA\n",
       "2020-02-13           1145      3            NA               NA\n",
       "2020-02-14           1155      3            NA               NA\n",
       "2020-02-15           1162      3            NA               NA\n",
       "2020-02-16           1167      3            NA               NA\n",
       "2020-02-17           1171      3            NA               NA\n",
       "2020-02-18           1172      3            NA               NA\n",
       "2020-02-19           1174      3            NA               NA\n",
       "2020-02-20           1175      3            NA               NA\n",
       "2020-02-21           1203     20            NA               NA\n",
       "2020-02-22           1205     62            NA               NA\n",
       "2020-02-23           1205    155            NA               NA\n",
       "2020-02-24           1205    229             0                0\n",
       "2020-02-25           1205    322             0                0\n",
       "2020-02-26           1205    453             0                0\n",
       "2020-02-27           1205    655             1                0\n",
       "2020-02-28           1205    888             1                0\n",
       "2020-02-29           1205   1128             2                0\n",
       "2020-03-01           1205   1694             5                0\n",
       "2020-03-02           1206   2036             5                0\n",
       "2020-03-03           1213   2502             6                1\n",
       "2020-03-04           1213   3089             7                1\n",
       "2020-03-05           1215   3858             8                1\n",
       "2020-03-06           1215   4636             9                3\n",
       "2020-03-07           1215   5883            11                3\n",
       "2020-03-08           1215   7375            17                4\n",
       "2020-03-09           1215   9172            30                5\n",
       "2020-03-10           1215  10149            37                7\n",
       "2020-03-11           1215  12462            37                8\n",
       "2020-03-12           1215  12462            78                8\n",
       "2020-03-13           1215  17660            83               10\n",
       "2020-03-14           1227  21157           106               10\n",
       "2020-03-15           1231  24747           128               11\n",
       "2020-03-16           1231  27980           165               12\n",
       "2020-03-17           1232  31506           216               20\n",
       "2020-03-18           1232  35713           249               27\n",
       "2020-03-19           1233  41035           366               37\n",
       "2020-03-20           1234  47021           422               52\n",
       "2020-03-21           1236  53578           494               66\n",
       "2020-03-22           1238  59138           539               81\n",
       "2020-03-23           1238  63927           605               89\n",
       "2020-03-24           1240  69176           622               91\n",
       "2020-03-25           1241  74386           738              112\n",
       "2020-03-26           1243  80589           860              133\n",
       "2020-03-27           1247  86498           925              147\n",
       "2020-03-28             NA     NA          1027              178\n",
       "           Italy_P.A. Bolzano Italy_Calabria Italy_Campania\n",
       "2020-01-22                 NA             NA             NA\n",
       "2020-01-23                 NA             NA             NA\n",
       "2020-01-24                 NA             NA             NA\n",
       "2020-01-25                 NA             NA             NA\n",
       "2020-01-26                 NA             NA             NA\n",
       "2020-01-27                 NA             NA             NA\n",
       "2020-01-28                 NA             NA             NA\n",
       "2020-01-29                 NA             NA             NA\n",
       "2020-01-30                 NA             NA             NA\n",
       "2020-01-31                 NA             NA             NA\n",
       "2020-02-01                 NA             NA             NA\n",
       "2020-02-02                 NA             NA             NA\n",
       "2020-02-03                 NA             NA             NA\n",
       "2020-02-04                 NA             NA             NA\n",
       "2020-02-05                 NA             NA             NA\n",
       "2020-02-06                 NA             NA             NA\n",
       "2020-02-07                 NA             NA             NA\n",
       "2020-02-08                 NA             NA             NA\n",
       "2020-02-09                 NA             NA             NA\n",
       "2020-02-10                 NA             NA             NA\n",
       "2020-02-11                 NA             NA             NA\n",
       "2020-02-12                 NA             NA             NA\n",
       "2020-02-13                 NA             NA             NA\n",
       "2020-02-14                 NA             NA             NA\n",
       "2020-02-15                 NA             NA             NA\n",
       "2020-02-16                 NA             NA             NA\n",
       "2020-02-17                 NA             NA             NA\n",
       "2020-02-18                 NA             NA             NA\n",
       "2020-02-19                 NA             NA             NA\n",
       "2020-02-20                 NA             NA             NA\n",
       "2020-02-21                 NA             NA             NA\n",
       "2020-02-22                 NA             NA             NA\n",
       "2020-02-23                 NA             NA             NA\n",
       "2020-02-24                  0              0              0\n",
       "2020-02-25                  1              0              0\n",
       "2020-02-26                  1              0              0\n",
       "2020-02-27                  1              0              3\n",
       "2020-02-28                  1              1              4\n",
       "2020-02-29                  1              1             13\n",
       "2020-03-01                  1              1             17\n",
       "2020-03-02                  1              1             17\n",
       "2020-03-03                  1              1             30\n",
       "2020-03-04                  1              1             31\n",
       "2020-03-05                  1              2             45\n",
       "2020-03-06                  4              4             57\n",
       "2020-03-07                  9              4             61\n",
       "2020-03-08                  9              9            100\n",
       "2020-03-09                  9              9            119\n",
       "2020-03-10                 38             11            126\n",
       "2020-03-11                 75             17            149\n",
       "2020-03-12                103             32            174\n",
       "2020-03-13                123             37            213\n",
       "2020-03-14                170             59            243\n",
       "2020-03-15                199             66            296\n",
       "2020-03-16                235             87            363\n",
       "2020-03-17                282            112            423\n",
       "2020-03-18                366            126            423\n",
       "2020-03-19                421            164            605\n",
       "2020-03-20                530            201            702\n",
       "2020-03-21                600            225            793\n",
       "2020-03-22                648            260            866\n",
       "2020-03-23                688            280            929\n",
       "2020-03-24                699            304            992\n",
       "2020-03-25                748            333           1072\n",
       "2020-03-26                791            372           1169\n",
       "2020-03-27                833            469           1292\n",
       "2020-03-28                929            523           1407\n",
       "           Italy_Emilia Romagna Italy_Friuli Venezia Giulia Italy_Lazio\n",
       "2020-01-22                   NA                          NA          NA\n",
       "2020-01-23                   NA                          NA          NA\n",
       "2020-01-24                   NA                          NA          NA\n",
       "2020-01-25                   NA                          NA          NA\n",
       "2020-01-26                   NA                          NA          NA\n",
       "2020-01-27                   NA                          NA          NA\n",
       "2020-01-28                   NA                          NA          NA\n",
       "2020-01-29                   NA                          NA          NA\n",
       "2020-01-30                   NA                          NA          NA\n",
       "2020-01-31                   NA                          NA          NA\n",
       "2020-02-01                   NA                          NA          NA\n",
       "2020-02-02                   NA                          NA          NA\n",
       "2020-02-03                   NA                          NA          NA\n",
       "2020-02-04                   NA                          NA          NA\n",
       "2020-02-05                   NA                          NA          NA\n",
       "2020-02-06                   NA                          NA          NA\n",
       "2020-02-07                   NA                          NA          NA\n",
       "2020-02-08                   NA                          NA          NA\n",
       "2020-02-09                   NA                          NA          NA\n",
       "2020-02-10                   NA                          NA          NA\n",
       "2020-02-11                   NA                          NA          NA\n",
       "2020-02-12                   NA                          NA          NA\n",
       "2020-02-13                   NA                          NA          NA\n",
       "2020-02-14                   NA                          NA          NA\n",
       "2020-02-15                   NA                          NA          NA\n",
       "2020-02-16                   NA                          NA          NA\n",
       "2020-02-17                   NA                          NA          NA\n",
       "2020-02-18                   NA                          NA          NA\n",
       "2020-02-19                   NA                          NA          NA\n",
       "2020-02-20                   NA                          NA          NA\n",
       "2020-02-21                   NA                          NA          NA\n",
       "2020-02-22                   NA                          NA          NA\n",
       "2020-02-23                   NA                          NA          NA\n",
       "2020-02-24                   18                           0           2\n",
       "2020-02-25                   26                           0           2\n",
       "2020-02-26                   46                           0           0\n",
       "2020-02-27                   96                           0           0\n",
       "2020-02-28                  143                           0           0\n",
       "2020-02-29                  213                           0           3\n",
       "2020-03-01                  277                           6           3\n",
       "2020-03-02                  324                           9           4\n",
       "2020-03-03                  398                          13          11\n",
       "2020-03-04                  516                          18          27\n",
       "2020-03-05                  658                          21          41\n",
       "2020-03-06                  816                          28          50\n",
       "2020-03-07                  937                          39          72\n",
       "2020-03-08                 1097                          53          81\n",
       "2020-03-09                 1286                          89          94\n",
       "2020-03-10                 1417                         110          99\n",
       "2020-03-11                 1588                         110         125\n",
       "2020-03-12                 1758                         148         172\n",
       "2020-03-13                 2011                         236         242\n",
       "2020-03-14                 2349                         271         320\n",
       "2020-03-15                 2741                         316         396\n",
       "2020-03-16                 3088                         346         472\n",
       "2020-03-17                 3404                         347         550\n",
       "2020-03-18                 3915                         416         650\n",
       "2020-03-19                 4506                         522         741\n",
       "2020-03-20                 5089                         555         912\n",
       "2020-03-21                 5661                         666        1086\n",
       "2020-03-22                 6390                         738        1272\n",
       "2020-03-23                 7220                         771        1414\n",
       "2020-03-24                 7711                         848        1545\n",
       "2020-03-25                 8256                         911        1675\n",
       "2020-03-26                 8850                         954        1835\n",
       "2020-03-27                 9361                        1027        2013\n",
       "2020-03-28                 9964                        1120        2181\n",
       "           Italy_Liguria Italy_Lombardia Italy_Marche Italy_Molise\n",
       "2020-01-22            NA              NA           NA           NA\n",
       "2020-01-23            NA              NA           NA           NA\n",
       "2020-01-24            NA              NA           NA           NA\n",
       "2020-01-25            NA              NA           NA           NA\n",
       "2020-01-26            NA              NA           NA           NA\n",
       "2020-01-27            NA              NA           NA           NA\n",
       "2020-01-28            NA              NA           NA           NA\n",
       "2020-01-29            NA              NA           NA           NA\n",
       "2020-01-30            NA              NA           NA           NA\n",
       "2020-01-31            NA              NA           NA           NA\n",
       "2020-02-01            NA              NA           NA           NA\n",
       "2020-02-02            NA              NA           NA           NA\n",
       "2020-02-03            NA              NA           NA           NA\n",
       "2020-02-04            NA              NA           NA           NA\n",
       "2020-02-05            NA              NA           NA           NA\n",
       "2020-02-06            NA              NA           NA           NA\n",
       "2020-02-07            NA              NA           NA           NA\n",
       "2020-02-08            NA              NA           NA           NA\n",
       "2020-02-09            NA              NA           NA           NA\n",
       "2020-02-10            NA              NA           NA           NA\n",
       "2020-02-11            NA              NA           NA           NA\n",
       "2020-02-12            NA              NA           NA           NA\n",
       "2020-02-13            NA              NA           NA           NA\n",
       "2020-02-14            NA              NA           NA           NA\n",
       "2020-02-15            NA              NA           NA           NA\n",
       "2020-02-16            NA              NA           NA           NA\n",
       "2020-02-17            NA              NA           NA           NA\n",
       "2020-02-18            NA              NA           NA           NA\n",
       "2020-02-19            NA              NA           NA           NA\n",
       "2020-02-20            NA              NA           NA           NA\n",
       "2020-02-21            NA              NA           NA           NA\n",
       "2020-02-22            NA              NA           NA           NA\n",
       "2020-02-23            NA              NA           NA           NA\n",
       "2020-02-24             0             166            0            0\n",
       "2020-02-25             1             231            0            0\n",
       "2020-02-26            11             249            1            0\n",
       "2020-02-27            19             349            3            0\n",
       "2020-02-28            19             474            6            0\n",
       "2020-02-29            38             552           11            0\n",
       "2020-03-01            21             887           25            0\n",
       "2020-03-02            18            1077           34            0\n",
       "2020-03-03            19            1326           59            3\n",
       "2020-03-04            21            1497           80            3\n",
       "2020-03-05            21            1777          120            7\n",
       "2020-03-06            24            2008          155           12\n",
       "2020-03-07            42            2742          201           14\n",
       "2020-03-08            67            3372          265           14\n",
       "2020-03-09            97            4490          313           14\n",
       "2020-03-10           128            4427          381           15\n",
       "2020-03-11           181            5763          461           16\n",
       "2020-03-12           243            6896          570           16\n",
       "2020-03-13           304            7732          698           17\n",
       "2020-03-14           384            9059          863           17\n",
       "2020-03-15           493           10043         1087           17\n",
       "2020-03-16           575           10861         1185           15\n",
       "2020-03-17           661           12095         1302           19\n",
       "2020-03-18           744           12266         1476           21\n",
       "2020-03-19           883           13938         1622           38\n",
       "2020-03-20          1001           15420         1844           39\n",
       "2020-03-21          1159           17370         1997           47\n",
       "2020-03-22          1351           17885         2231           52\n",
       "2020-03-23          1553           18910         2358           50\n",
       "2020-03-24          1692           19868         2497           55\n",
       "2020-03-25          1826           20591         2639           53\n",
       "2020-03-26          2027           22189         2795           81\n",
       "2020-03-27          2060           23895         2850           86\n",
       "2020-03-28          2086           24509         2999           98\n",
       "           Italy_Piemonte Italy_Puglia Italy_Sardegna Italy_Sicilia\n",
       "2020-01-22             NA           NA             NA            NA\n",
       "2020-01-23             NA           NA             NA            NA\n",
       "2020-01-24             NA           NA             NA            NA\n",
       "2020-01-25             NA           NA             NA            NA\n",
       "2020-01-26             NA           NA             NA            NA\n",
       "2020-01-27             NA           NA             NA            NA\n",
       "2020-01-28             NA           NA             NA            NA\n",
       "2020-01-29             NA           NA             NA            NA\n",
       "2020-01-30             NA           NA             NA            NA\n",
       "2020-01-31             NA           NA             NA            NA\n",
       "2020-02-01             NA           NA             NA            NA\n",
       "2020-02-02             NA           NA             NA            NA\n",
       "2020-02-03             NA           NA             NA            NA\n",
       "2020-02-04             NA           NA             NA            NA\n",
       "2020-02-05             NA           NA             NA            NA\n",
       "2020-02-06             NA           NA             NA            NA\n",
       "2020-02-07             NA           NA             NA            NA\n",
       "2020-02-08             NA           NA             NA            NA\n",
       "2020-02-09             NA           NA             NA            NA\n",
       "2020-02-10             NA           NA             NA            NA\n",
       "2020-02-11             NA           NA             NA            NA\n",
       "2020-02-12             NA           NA             NA            NA\n",
       "2020-02-13             NA           NA             NA            NA\n",
       "2020-02-14             NA           NA             NA            NA\n",
       "2020-02-15             NA           NA             NA            NA\n",
       "2020-02-16             NA           NA             NA            NA\n",
       "2020-02-17             NA           NA             NA            NA\n",
       "2020-02-18             NA           NA             NA            NA\n",
       "2020-02-19             NA           NA             NA            NA\n",
       "2020-02-20             NA           NA             NA            NA\n",
       "2020-02-21             NA           NA             NA            NA\n",
       "2020-02-22             NA           NA             NA            NA\n",
       "2020-02-23             NA           NA             NA            NA\n",
       "2020-02-24              3            0              0             0\n",
       "2020-02-25              3            0              0             3\n",
       "2020-02-26              3            0              0             3\n",
       "2020-02-27              2            1              0             2\n",
       "2020-02-28             11            3              0             2\n",
       "2020-02-29             11            3              0             2\n",
       "2020-03-01             49            3              0             7\n",
       "2020-03-02             51            4              0             5\n",
       "2020-03-03             56            6              1             5\n",
       "2020-03-04             82            7              2            16\n",
       "2020-03-05            106           12              2            16\n",
       "2020-03-06            139           15              5            22\n",
       "2020-03-07            202           23              5            33\n",
       "2020-03-08            355           36             11            51\n",
       "2020-03-09            337           46             19            52\n",
       "2020-03-10            436           55             20            60\n",
       "2020-03-11            480           71             37            81\n",
       "2020-03-12            554           98             39           111\n",
       "2020-03-13            794          121             43           126\n",
       "2020-03-14            814          156             47           150\n",
       "2020-03-15           1030          212             75           179\n",
       "2020-03-16           1405          212            105           203\n",
       "2020-03-17           1764          320            115           226\n",
       "2020-03-18           2187          362            132           267\n",
       "2020-03-19           2754          449            204           321\n",
       "2020-03-20           3244          551            288           379\n",
       "2020-03-21           3506          642            321           458\n",
       "2020-03-22           4127          748            327           596\n",
       "2020-03-23           4529          862            343           681\n",
       "2020-03-24           5124          940            395           799\n",
       "2020-03-25           5556         1023            412           936\n",
       "2020-03-26           5950         1095            462          1095\n",
       "2020-03-27           6347         1236            496          1158\n",
       "2020-03-28           6851         1358            569          1242\n",
       "           Italy_Toscana Italy_P.A. Trento Italy_Umbria Italy_Valle d'Aosta\n",
       "2020-01-22            NA                NA           NA                  NA\n",
       "2020-01-23            NA                NA           NA                  NA\n",
       "2020-01-24            NA                NA           NA                  NA\n",
       "2020-01-25            NA                NA           NA                  NA\n",
       "2020-01-26            NA                NA           NA                  NA\n",
       "2020-01-27            NA                NA           NA                  NA\n",
       "2020-01-28            NA                NA           NA                  NA\n",
       "2020-01-29            NA                NA           NA                  NA\n",
       "2020-01-30            NA                NA           NA                  NA\n",
       "2020-01-31            NA                NA           NA                  NA\n",
       "2020-02-01            NA                NA           NA                  NA\n",
       "2020-02-02            NA                NA           NA                  NA\n",
       "2020-02-03            NA                NA           NA                  NA\n",
       "2020-02-04            NA                NA           NA                  NA\n",
       "2020-02-05            NA                NA           NA                  NA\n",
       "2020-02-06            NA                NA           NA                  NA\n",
       "2020-02-07            NA                NA           NA                  NA\n",
       "2020-02-08            NA                NA           NA                  NA\n",
       "2020-02-09            NA                NA           NA                  NA\n",
       "2020-02-10            NA                NA           NA                  NA\n",
       "2020-02-11            NA                NA           NA                  NA\n",
       "2020-02-12            NA                NA           NA                  NA\n",
       "2020-02-13            NA                NA           NA                  NA\n",
       "2020-02-14            NA                NA           NA                  NA\n",
       "2020-02-15            NA                NA           NA                  NA\n",
       "2020-02-16            NA                NA           NA                  NA\n",
       "2020-02-17            NA                NA           NA                  NA\n",
       "2020-02-18            NA                NA           NA                  NA\n",
       "2020-02-19            NA                NA           NA                  NA\n",
       "2020-02-20            NA                NA           NA                  NA\n",
       "2020-02-21            NA                NA           NA                  NA\n",
       "2020-02-22            NA                NA           NA                  NA\n",
       "2020-02-23            NA                NA           NA                  NA\n",
       "2020-02-24             0                 0            0                   0\n",
       "2020-02-25             2                 0            0                   0\n",
       "2020-02-26             2                 0            0                   0\n",
       "2020-02-27             2                 0            0                   0\n",
       "2020-02-28             7                 0            0                   0\n",
       "2020-02-29            10                 0            0                   0\n",
       "2020-03-01            12                 0            2                   0\n",
       "2020-03-02            12                 0            2                   0\n",
       "2020-03-03            18                 4            8                   0\n",
       "2020-03-04            37                 5            9                   0\n",
       "2020-03-05            60                 7            9                   2\n",
       "2020-03-06            78                10           16                   7\n",
       "2020-03-07           112                14           24                   8\n",
       "2020-03-08           165                23           26                   9\n",
       "2020-03-09           206                33           28                  15\n",
       "2020-03-10           260                50           37                  17\n",
       "2020-03-11           314                74           44                  19\n",
       "2020-03-12           352               102           62                  26\n",
       "2020-03-13           455               157           73                  27\n",
       "2020-03-14           614               199          103                  41\n",
       "2020-03-15           763               367          139                  56\n",
       "2020-03-16           841               367          159                 103\n",
       "2020-03-17          1024               368          192                 134\n",
       "2020-03-18          1291               436          241                 162\n",
       "2020-03-19          1422               491          328                 209\n",
       "2020-03-20          1713               600          384                 257\n",
       "2020-03-21          1905               720          447                 304\n",
       "2020-03-22          2144               885          500                 354\n",
       "2020-03-23          2301               914          556                 379\n",
       "2020-03-24          2519               975          624                 379\n",
       "2020-03-25          2776              1058          686                 375\n",
       "2020-03-26          2973              1094          770                 378\n",
       "2020-03-27          3170              1164          824                 413\n",
       "2020-03-28          3511              1234          898                 468\n",
       "           Italy_Veneto\n",
       "2020-01-22           NA\n",
       "2020-01-23           NA\n",
       "2020-01-24           NA\n",
       "2020-01-25           NA\n",
       "2020-01-26           NA\n",
       "2020-01-27           NA\n",
       "2020-01-28           NA\n",
       "2020-01-29           NA\n",
       "2020-01-30           NA\n",
       "2020-01-31           NA\n",
       "2020-02-01           NA\n",
       "2020-02-02           NA\n",
       "2020-02-03           NA\n",
       "2020-02-04           NA\n",
       "2020-02-05           NA\n",
       "2020-02-06           NA\n",
       "2020-02-07           NA\n",
       "2020-02-08           NA\n",
       "2020-02-09           NA\n",
       "2020-02-10           NA\n",
       "2020-02-11           NA\n",
       "2020-02-12           NA\n",
       "2020-02-13           NA\n",
       "2020-02-14           NA\n",
       "2020-02-15           NA\n",
       "2020-02-16           NA\n",
       "2020-02-17           NA\n",
       "2020-02-18           NA\n",
       "2020-02-19           NA\n",
       "2020-02-20           NA\n",
       "2020-02-21           NA\n",
       "2020-02-22           NA\n",
       "2020-02-23           NA\n",
       "2020-02-24           32\n",
       "2020-02-25           42\n",
       "2020-02-26           69\n",
       "2020-02-27          109\n",
       "2020-02-28          149\n",
       "2020-02-29          189\n",
       "2020-03-01          261\n",
       "2020-03-02          271\n",
       "2020-03-03          297\n",
       "2020-03-04          345\n",
       "2020-03-05          380\n",
       "2020-03-06          454\n",
       "2020-03-07          505\n",
       "2020-03-08          623\n",
       "2020-03-09          694\n",
       "2020-03-10          783\n",
       "2020-03-11          940\n",
       "2020-03-12         1297\n",
       "2020-03-13         1453\n",
       "2020-03-14         1775\n",
       "2020-03-15         1989\n",
       "2020-03-16         2274\n",
       "2020-03-17         2488\n",
       "2020-03-18         2953\n",
       "2020-03-19         3169\n",
       "2020-03-20         3677\n",
       "2020-03-21         4214\n",
       "2020-03-22         4644\n",
       "2020-03-23         4986\n",
       "2020-03-24         5351\n",
       "2020-03-25         5745\n",
       "2020-03-26         6140\n",
       "2020-03-27         6648\n",
       "2020-03-28         6913"
      ]
     },
     "metadata": {},
     "output_type": "display_data"
    }
   ],
   "source": [
    "confirmed_ts.zoo[,grepl(\"Italy|China\",colnames(confirmed_ts.zoo))]"
   ]
  },
  {
   "cell_type": "code",
   "execution_count": 12,
   "metadata": {
    "ExecuteTime": {
     "end_time": "2020-03-29T13:29:51.916469Z",
     "start_time": "2020-03-29T13:29:51.806Z"
    }
   },
   "outputs": [
    {
     "data": {
      "text/html": [
       "<table>\n",
       "<caption>A data.frame: 34 × 22</caption>\n",
       "<thead>\n",
       "\t<tr><th></th><th scope=col>Province.State</th><th scope=col>Country.Region</th><th scope=col>Lat</th><th scope=col>Long</th><th scope=col>Date</th><th scope=col>Confirmed</th><th scope=col>Recovered</th><th scope=col>Deaths</th><th scope=col>HospitalizedWSymptoms</th><th scope=col>ICU</th><th scope=col>...</th><th scope=col>DailyConfirmed</th><th scope=col>Total</th><th scope=col>Tests</th><th scope=col>Lat.x</th><th scope=col>Long.x</th><th scope=col>Lat.y</th><th scope=col>Long.y</th><th scope=col>ConfirmedGrowthRate</th><th scope=col>RecoveredGrowthRate</th><th scope=col>DeathsGrowthRate</th></tr>\n",
       "\t<tr><th></th><th scope=col>&lt;chr&gt;</th><th scope=col>&lt;chr&gt;</th><th scope=col>&lt;dbl&gt;</th><th scope=col>&lt;dbl&gt;</th><th scope=col>&lt;date&gt;</th><th scope=col>&lt;int&gt;</th><th scope=col>&lt;int&gt;</th><th scope=col>&lt;int&gt;</th><th scope=col>&lt;int&gt;</th><th scope=col>&lt;int&gt;</th><th scope=col>...</th><th scope=col>&lt;int&gt;</th><th scope=col>&lt;int&gt;</th><th scope=col>&lt;int&gt;</th><th scope=col>&lt;dbl&gt;</th><th scope=col>&lt;dbl&gt;</th><th scope=col>&lt;dbl&gt;</th><th scope=col>&lt;dbl&gt;</th><th scope=col>&lt;dbl&gt;</th><th scope=col>&lt;dbl&gt;</th><th scope=col>&lt;dbl&gt;</th></tr>\n",
       "</thead>\n",
       "<tbody>\n",
       "\t<tr><th scope=row>10</th><td>Lombardia</td><td>Italy</td><td>45.46679</td><td>9.190347</td><td>2020-02-24</td><td>  166</td><td>   0</td><td>   6</td><td>   76</td><td>  19</td><td>...</td><td> 166</td><td>  172</td><td>  1463</td><td>NA</td><td>NA</td><td>NA</td><td>NA</td><td>        NaN</td><td>        NaN</td><td>       NaN</td></tr>\n",
       "\t<tr><th scope=row>31</th><td>Lombardia</td><td>Italy</td><td>45.46679</td><td>9.190347</td><td>2020-02-25</td><td>  231</td><td>   0</td><td>   9</td><td>   79</td><td>  25</td><td>...</td><td>  65</td><td>  240</td><td>  3700</td><td>NA</td><td>NA</td><td>NA</td><td>NA</td><td> 0.39156627</td><td>        NaN</td><td>0.50000000</td></tr>\n",
       "\t<tr><th scope=row>52</th><td>Lombardia</td><td>Italy</td><td>45.46679</td><td>9.190347</td><td>2020-02-26</td><td>  249</td><td>   0</td><td>   9</td><td>   79</td><td>  25</td><td>...</td><td>  18</td><td>  258</td><td>  3208</td><td>NA</td><td>NA</td><td>NA</td><td>NA</td><td> 0.07792208</td><td>        NaN</td><td>0.00000000</td></tr>\n",
       "\t<tr><th scope=row>73</th><td>Lombardia</td><td>Italy</td><td>45.46679</td><td>9.190347</td><td>2020-02-27</td><td>  349</td><td>  40</td><td>  14</td><td>  172</td><td>  41</td><td>...</td><td> 100</td><td>  403</td><td>  3320</td><td>NA</td><td>NA</td><td>NA</td><td>NA</td><td> 0.40160643</td><td>        Inf</td><td>0.55555556</td></tr>\n",
       "\t<tr><th scope=row>94</th><td>Lombardia</td><td>Italy</td><td>45.46679</td><td>9.190347</td><td>2020-02-28</td><td>  474</td><td>  40</td><td>  17</td><td>  235</td><td>  47</td><td>...</td><td> 125</td><td>  531</td><td>  4835</td><td>NA</td><td>NA</td><td>NA</td><td>NA</td><td> 0.35816619</td><td>0.000000000</td><td>0.21428571</td></tr>\n",
       "\t<tr><th scope=row>115</th><td>Lombardia</td><td>Italy</td><td>45.46679</td><td>9.190347</td><td>2020-02-29</td><td>  552</td><td>  40</td><td>  23</td><td>  256</td><td>  80</td><td>...</td><td>  78</td><td>  615</td><td>  5723</td><td>NA</td><td>NA</td><td>NA</td><td>NA</td><td> 0.16455696</td><td>0.000000000</td><td>0.35294118</td></tr>\n",
       "\t<tr><th scope=row>136</th><td>Lombardia</td><td>Italy</td><td>45.46679</td><td>9.190347</td><td>2020-03-01</td><td>  887</td><td>  73</td><td>  24</td><td>  406</td><td> 106</td><td>...</td><td> 335</td><td>  984</td><td>  6879</td><td>NA</td><td>NA</td><td>NA</td><td>NA</td><td> 0.60688406</td><td>0.825000000</td><td>0.04347826</td></tr>\n",
       "\t<tr><th scope=row>157</th><td>Lombardia</td><td>Italy</td><td>45.46679</td><td>9.190347</td><td>2020-03-02</td><td> 1077</td><td> 139</td><td>  38</td><td>  478</td><td> 127</td><td>...</td><td> 190</td><td> 1254</td><td>  7925</td><td>NA</td><td>NA</td><td>NA</td><td>NA</td><td> 0.21420519</td><td>0.904109589</td><td>0.58333333</td></tr>\n",
       "\t<tr><th scope=row>178</th><td>Lombardia</td><td>Italy</td><td>45.46679</td><td>9.190347</td><td>2020-03-03</td><td> 1326</td><td> 139</td><td>  55</td><td>  698</td><td> 167</td><td>...</td><td> 249</td><td> 1520</td><td>  9577</td><td>NA</td><td>NA</td><td>NA</td><td>NA</td><td> 0.23119777</td><td>0.000000000</td><td>0.44736842</td></tr>\n",
       "\t<tr><th scope=row>199</th><td>Lombardia</td><td>Italy</td><td>45.46679</td><td>9.190347</td><td>2020-03-04</td><td> 1497</td><td> 250</td><td>  73</td><td>  877</td><td> 209</td><td>...</td><td> 171</td><td> 1820</td><td> 12138</td><td>NA</td><td>NA</td><td>NA</td><td>NA</td><td> 0.12895928</td><td>0.798561151</td><td>0.32727273</td></tr>\n",
       "\t<tr><th scope=row>220</th><td>Lombardia</td><td>Italy</td><td>45.46679</td><td>9.190347</td><td>2020-03-05</td><td> 1777</td><td> 376</td><td>  98</td><td> 1169</td><td> 244</td><td>...</td><td> 280</td><td> 2251</td><td> 12354</td><td>NA</td><td>NA</td><td>NA</td><td>NA</td><td> 0.18704075</td><td>0.504000000</td><td>0.34246575</td></tr>\n",
       "\t<tr><th scope=row>241</th><td>Lombardia</td><td>Italy</td><td>45.46679</td><td>9.190347</td><td>2020-03-06</td><td> 2008</td><td> 469</td><td> 135</td><td> 1622</td><td> 309</td><td>...</td><td> 231</td><td> 2612</td><td> 13556</td><td>NA</td><td>NA</td><td>NA</td><td>NA</td><td> 0.12999437</td><td>0.247340426</td><td>0.37755102</td></tr>\n",
       "\t<tr><th scope=row>262</th><td>Lombardia</td><td>Italy</td><td>45.46679</td><td>9.190347</td><td>2020-03-07</td><td> 2742</td><td> 524</td><td> 154</td><td> 1661</td><td> 359</td><td>...</td><td> 734</td><td> 3420</td><td> 15778</td><td>NA</td><td>NA</td><td>NA</td><td>NA</td><td> 0.36553785</td><td>0.117270789</td><td>0.14074074</td></tr>\n",
       "\t<tr><th scope=row>283</th><td>Lombardia</td><td>Italy</td><td>45.46679</td><td>9.190347</td><td>2020-03-08</td><td> 3372</td><td> 550</td><td> 267</td><td> 2217</td><td> 399</td><td>...</td><td> 630</td><td> 4189</td><td> 18534</td><td>NA</td><td>NA</td><td>NA</td><td>NA</td><td> 0.22975930</td><td>0.049618321</td><td>0.73376623</td></tr>\n",
       "\t<tr><th scope=row>304</th><td>Lombardia</td><td>Italy</td><td>45.46679</td><td>9.190347</td><td>2020-03-09</td><td> 4490</td><td> 646</td><td> 333</td><td> 2802</td><td> 440</td><td>...</td><td>1118</td><td> 5469</td><td> 20135</td><td>NA</td><td>NA</td><td>NA</td><td>NA</td><td> 0.33155397</td><td>0.174545455</td><td>0.24719101</td></tr>\n",
       "\t<tr><th scope=row>325</th><td>Lombardia</td><td>Italy</td><td>45.46679</td><td>9.190347</td><td>2020-03-10</td><td> 4427</td><td> 896</td><td> 468</td><td> 3319</td><td> 466</td><td>...</td><td> -63</td><td> 5791</td><td> 21479</td><td>NA</td><td>NA</td><td>NA</td><td>NA</td><td>-0.01403118</td><td>0.386996904</td><td>0.40540541</td></tr>\n",
       "\t<tr><th scope=row>346</th><td>Lombardia</td><td>Italy</td><td>45.46679</td><td>9.190347</td><td>2020-03-11</td><td> 5763</td><td> 900</td><td> 617</td><td> 3852</td><td> 560</td><td>...</td><td>1336</td><td> 7280</td><td> 25629</td><td>NA</td><td>NA</td><td>NA</td><td>NA</td><td> 0.30178450</td><td>0.004464286</td><td>0.31837607</td></tr>\n",
       "\t<tr><th scope=row>367</th><td>Lombardia</td><td>Italy</td><td>45.46679</td><td>9.190347</td><td>2020-03-12</td><td> 6896</td><td>1085</td><td> 744</td><td> 4247</td><td> 605</td><td>...</td><td>1133</td><td> 8725</td><td> 29534</td><td>NA</td><td>NA</td><td>NA</td><td>NA</td><td> 0.19659899</td><td>0.205555556</td><td>0.20583468</td></tr>\n",
       "\t<tr><th scope=row>388</th><td>Lombardia</td><td>Italy</td><td>45.46679</td><td>9.190347</td><td>2020-03-13</td><td> 7732</td><td>1198</td><td> 890</td><td> 4435</td><td> 650</td><td>...</td><td> 836</td><td> 9820</td><td> 32700</td><td>NA</td><td>NA</td><td>NA</td><td>NA</td><td> 0.12122970</td><td>0.104147465</td><td>0.19623656</td></tr>\n",
       "\t<tr><th scope=row>409</th><td>Lombardia</td><td>Italy</td><td>45.46679</td><td>9.190347</td><td>2020-03-14</td><td> 9059</td><td>1660</td><td> 966</td><td> 4898</td><td> 732</td><td>...</td><td>1327</td><td>11685</td><td> 37138</td><td>NA</td><td>NA</td><td>NA</td><td>NA</td><td> 0.17162442</td><td>0.385642738</td><td>0.08539326</td></tr>\n",
       "\t<tr><th scope=row>430</th><td>Lombardia</td><td>Italy</td><td>45.46679</td><td>9.190347</td><td>2020-03-15</td><td>10043</td><td>2011</td><td>1218</td><td> 5500</td><td> 767</td><td>...</td><td> 984</td><td>13272</td><td> 40369</td><td>NA</td><td>NA</td><td>NA</td><td>NA</td><td> 0.10862126</td><td>0.211445783</td><td>0.26086957</td></tr>\n",
       "\t<tr><th scope=row>451</th><td>Lombardia</td><td>Italy</td><td>45.46679</td><td>9.190347</td><td>2020-03-16</td><td>10861</td><td>2368</td><td>1420</td><td> 6171</td><td> 823</td><td>...</td><td> 818</td><td>14649</td><td> 43565</td><td>NA</td><td>NA</td><td>NA</td><td>NA</td><td> 0.08144977</td><td>0.177523620</td><td>0.16584565</td></tr>\n",
       "\t<tr><th scope=row>472</th><td>Lombardia</td><td>Italy</td><td>45.46679</td><td>9.190347</td><td>2020-03-17</td><td>12095</td><td>2485</td><td>1640</td><td> 6953</td><td> 879</td><td>...</td><td>1234</td><td>16220</td><td> 46449</td><td>NA</td><td>NA</td><td>NA</td><td>NA</td><td> 0.11361753</td><td>0.049408784</td><td>0.15492958</td></tr>\n",
       "\t<tr><th scope=row>493</th><td>Lombardia</td><td>Italy</td><td>45.46679</td><td>9.190347</td><td>2020-03-18</td><td>12266</td><td>3488</td><td>1959</td><td> 7285</td><td> 924</td><td>...</td><td> 171</td><td>17713</td><td> 48983</td><td>NA</td><td>NA</td><td>NA</td><td>NA</td><td> 0.01413807</td><td>0.403621730</td><td>0.19451220</td></tr>\n",
       "\t<tr><th scope=row>514</th><td>Lombardia</td><td>Italy</td><td>45.46679</td><td>9.190347</td><td>2020-03-19</td><td>13938</td><td>3778</td><td>2168</td><td> 7387</td><td>1006</td><td>...</td><td>1672</td><td>19884</td><td> 52244</td><td>NA</td><td>NA</td><td>NA</td><td>NA</td><td> 0.13631176</td><td>0.083142202</td><td>0.10668709</td></tr>\n",
       "\t<tr><th scope=row>535</th><td>Lombardia</td><td>Italy</td><td>45.46679</td><td>9.190347</td><td>2020-03-20</td><td>15420</td><td>4295</td><td>2549</td><td> 7735</td><td>1050</td><td>...</td><td>1482</td><td>22264</td><td> 57174</td><td>NA</td><td>NA</td><td>NA</td><td>NA</td><td> 0.10632802</td><td>0.136844891</td><td>0.17573801</td></tr>\n",
       "\t<tr><th scope=row>556</th><td>Lombardia</td><td>Italy</td><td>45.46679</td><td>9.190347</td><td>2020-03-21</td><td>17370</td><td>5050</td><td>3095</td><td> 8258</td><td>1093</td><td>...</td><td>1950</td><td>25515</td><td> 66730</td><td>NA</td><td>NA</td><td>NA</td><td>NA</td><td> 0.12645914</td><td>0.175785797</td><td>0.21420165</td></tr>\n",
       "\t<tr><th scope=row>577</th><td>Lombardia</td><td>Italy</td><td>45.46679</td><td>9.190347</td><td>2020-03-22</td><td>17885</td><td>5865</td><td>3456</td><td> 9439</td><td>1142</td><td>...</td><td> 515</td><td>27206</td><td> 70598</td><td>NA</td><td>NA</td><td>NA</td><td>NA</td><td> 0.02964882</td><td>0.161386139</td><td>0.11663974</td></tr>\n",
       "\t<tr><th scope=row>598</th><td>Lombardia</td><td>Italy</td><td>45.46679</td><td>9.190347</td><td>2020-03-23</td><td>18910</td><td>6075</td><td>3776</td><td> 9266</td><td>1183</td><td>...</td><td>1025</td><td>28761</td><td> 73242</td><td>NA</td><td>NA</td><td>NA</td><td>NA</td><td> 0.05731060</td><td>0.035805627</td><td>0.09259259</td></tr>\n",
       "\t<tr><th scope=row>619</th><td>Lombardia</td><td>Italy</td><td>45.46679</td><td>9.190347</td><td>2020-03-24</td><td>19868</td><td>6657</td><td>4178</td><td> 9711</td><td>1194</td><td>...</td><td> 958</td><td>30703</td><td> 76695</td><td>NA</td><td>NA</td><td>NA</td><td>NA</td><td> 0.05066103</td><td>0.095802469</td><td>0.10646186</td></tr>\n",
       "\t<tr><th scope=row>640</th><td>Lombardia</td><td>Italy</td><td>45.46679</td><td>9.190347</td><td>2020-03-25</td><td>20591</td><td>7281</td><td>4474</td><td>10026</td><td>1236</td><td>...</td><td> 723</td><td>32346</td><td> 81666</td><td>NA</td><td>NA</td><td>NA</td><td>NA</td><td> 0.03639018</td><td>0.093735917</td><td>0.07084730</td></tr>\n",
       "\t<tr><th scope=row>661</th><td>Lombardia</td><td>Italy</td><td>45.46679</td><td>9.190347</td><td>2020-03-26</td><td>22189</td><td>7839</td><td>4861</td><td>10681</td><td>1263</td><td>...</td><td>1598</td><td>34889</td><td> 87713</td><td>NA</td><td>NA</td><td>NA</td><td>NA</td><td> 0.07760672</td><td>0.076637824</td><td>0.08649978</td></tr>\n",
       "\t<tr><th scope=row>682</th><td>Lombardia</td><td>Italy</td><td>45.46679</td><td>9.190347</td><td>2020-03-27</td><td>23895</td><td>8001</td><td>5402</td><td>11137</td><td>1292</td><td>...</td><td>1706</td><td>37298</td><td> 95860</td><td>NA</td><td>NA</td><td>NA</td><td>NA</td><td> 0.07688494</td><td>0.020665901</td><td>0.11129397</td></tr>\n",
       "\t<tr><th scope=row>703</th><td>Lombardia</td><td>Italy</td><td>45.46679</td><td>9.190347</td><td>2020-03-28</td><td>24509</td><td>8962</td><td>5944</td><td>11152</td><td>1319</td><td>...</td><td> 614</td><td>39415</td><td>102503</td><td>NA</td><td>NA</td><td>NA</td><td>NA</td><td> 0.02569575</td><td>0.120109986</td><td>0.10033321</td></tr>\n",
       "</tbody>\n",
       "</table>\n"
      ],
      "text/latex": [
       "A data.frame: 34 × 22\n",
       "\\begin{tabular}{r|lllllllllllllllllllll}\n",
       "  & Province.State & Country.Region & Lat & Long & Date & Confirmed & Recovered & Deaths & HospitalizedWSymptoms & ICU & ... & DailyConfirmed & Total & Tests & Lat.x & Long.x & Lat.y & Long.y & ConfirmedGrowthRate & RecoveredGrowthRate & DeathsGrowthRate\\\\\n",
       "  & <chr> & <chr> & <dbl> & <dbl> & <date> & <int> & <int> & <int> & <int> & <int> & ... & <int> & <int> & <int> & <dbl> & <dbl> & <dbl> & <dbl> & <dbl> & <dbl> & <dbl>\\\\\n",
       "\\hline\n",
       "\t10 & Lombardia & Italy & 45.46679 & 9.190347 & 2020-02-24 &   166 &    0 &    6 &    76 &   19 & ... &  166 &   172 &   1463 & NA & NA & NA & NA &         NaN &         NaN &        NaN\\\\\n",
       "\t31 & Lombardia & Italy & 45.46679 & 9.190347 & 2020-02-25 &   231 &    0 &    9 &    79 &   25 & ... &   65 &   240 &   3700 & NA & NA & NA & NA &  0.39156627 &         NaN & 0.50000000\\\\\n",
       "\t52 & Lombardia & Italy & 45.46679 & 9.190347 & 2020-02-26 &   249 &    0 &    9 &    79 &   25 & ... &   18 &   258 &   3208 & NA & NA & NA & NA &  0.07792208 &         NaN & 0.00000000\\\\\n",
       "\t73 & Lombardia & Italy & 45.46679 & 9.190347 & 2020-02-27 &   349 &   40 &   14 &   172 &   41 & ... &  100 &   403 &   3320 & NA & NA & NA & NA &  0.40160643 &         Inf & 0.55555556\\\\\n",
       "\t94 & Lombardia & Italy & 45.46679 & 9.190347 & 2020-02-28 &   474 &   40 &   17 &   235 &   47 & ... &  125 &   531 &   4835 & NA & NA & NA & NA &  0.35816619 & 0.000000000 & 0.21428571\\\\\n",
       "\t115 & Lombardia & Italy & 45.46679 & 9.190347 & 2020-02-29 &   552 &   40 &   23 &   256 &   80 & ... &   78 &   615 &   5723 & NA & NA & NA & NA &  0.16455696 & 0.000000000 & 0.35294118\\\\\n",
       "\t136 & Lombardia & Italy & 45.46679 & 9.190347 & 2020-03-01 &   887 &   73 &   24 &   406 &  106 & ... &  335 &   984 &   6879 & NA & NA & NA & NA &  0.60688406 & 0.825000000 & 0.04347826\\\\\n",
       "\t157 & Lombardia & Italy & 45.46679 & 9.190347 & 2020-03-02 &  1077 &  139 &   38 &   478 &  127 & ... &  190 &  1254 &   7925 & NA & NA & NA & NA &  0.21420519 & 0.904109589 & 0.58333333\\\\\n",
       "\t178 & Lombardia & Italy & 45.46679 & 9.190347 & 2020-03-03 &  1326 &  139 &   55 &   698 &  167 & ... &  249 &  1520 &   9577 & NA & NA & NA & NA &  0.23119777 & 0.000000000 & 0.44736842\\\\\n",
       "\t199 & Lombardia & Italy & 45.46679 & 9.190347 & 2020-03-04 &  1497 &  250 &   73 &   877 &  209 & ... &  171 &  1820 &  12138 & NA & NA & NA & NA &  0.12895928 & 0.798561151 & 0.32727273\\\\\n",
       "\t220 & Lombardia & Italy & 45.46679 & 9.190347 & 2020-03-05 &  1777 &  376 &   98 &  1169 &  244 & ... &  280 &  2251 &  12354 & NA & NA & NA & NA &  0.18704075 & 0.504000000 & 0.34246575\\\\\n",
       "\t241 & Lombardia & Italy & 45.46679 & 9.190347 & 2020-03-06 &  2008 &  469 &  135 &  1622 &  309 & ... &  231 &  2612 &  13556 & NA & NA & NA & NA &  0.12999437 & 0.247340426 & 0.37755102\\\\\n",
       "\t262 & Lombardia & Italy & 45.46679 & 9.190347 & 2020-03-07 &  2742 &  524 &  154 &  1661 &  359 & ... &  734 &  3420 &  15778 & NA & NA & NA & NA &  0.36553785 & 0.117270789 & 0.14074074\\\\\n",
       "\t283 & Lombardia & Italy & 45.46679 & 9.190347 & 2020-03-08 &  3372 &  550 &  267 &  2217 &  399 & ... &  630 &  4189 &  18534 & NA & NA & NA & NA &  0.22975930 & 0.049618321 & 0.73376623\\\\\n",
       "\t304 & Lombardia & Italy & 45.46679 & 9.190347 & 2020-03-09 &  4490 &  646 &  333 &  2802 &  440 & ... & 1118 &  5469 &  20135 & NA & NA & NA & NA &  0.33155397 & 0.174545455 & 0.24719101\\\\\n",
       "\t325 & Lombardia & Italy & 45.46679 & 9.190347 & 2020-03-10 &  4427 &  896 &  468 &  3319 &  466 & ... &  -63 &  5791 &  21479 & NA & NA & NA & NA & -0.01403118 & 0.386996904 & 0.40540541\\\\\n",
       "\t346 & Lombardia & Italy & 45.46679 & 9.190347 & 2020-03-11 &  5763 &  900 &  617 &  3852 &  560 & ... & 1336 &  7280 &  25629 & NA & NA & NA & NA &  0.30178450 & 0.004464286 & 0.31837607\\\\\n",
       "\t367 & Lombardia & Italy & 45.46679 & 9.190347 & 2020-03-12 &  6896 & 1085 &  744 &  4247 &  605 & ... & 1133 &  8725 &  29534 & NA & NA & NA & NA &  0.19659899 & 0.205555556 & 0.20583468\\\\\n",
       "\t388 & Lombardia & Italy & 45.46679 & 9.190347 & 2020-03-13 &  7732 & 1198 &  890 &  4435 &  650 & ... &  836 &  9820 &  32700 & NA & NA & NA & NA &  0.12122970 & 0.104147465 & 0.19623656\\\\\n",
       "\t409 & Lombardia & Italy & 45.46679 & 9.190347 & 2020-03-14 &  9059 & 1660 &  966 &  4898 &  732 & ... & 1327 & 11685 &  37138 & NA & NA & NA & NA &  0.17162442 & 0.385642738 & 0.08539326\\\\\n",
       "\t430 & Lombardia & Italy & 45.46679 & 9.190347 & 2020-03-15 & 10043 & 2011 & 1218 &  5500 &  767 & ... &  984 & 13272 &  40369 & NA & NA & NA & NA &  0.10862126 & 0.211445783 & 0.26086957\\\\\n",
       "\t451 & Lombardia & Italy & 45.46679 & 9.190347 & 2020-03-16 & 10861 & 2368 & 1420 &  6171 &  823 & ... &  818 & 14649 &  43565 & NA & NA & NA & NA &  0.08144977 & 0.177523620 & 0.16584565\\\\\n",
       "\t472 & Lombardia & Italy & 45.46679 & 9.190347 & 2020-03-17 & 12095 & 2485 & 1640 &  6953 &  879 & ... & 1234 & 16220 &  46449 & NA & NA & NA & NA &  0.11361753 & 0.049408784 & 0.15492958\\\\\n",
       "\t493 & Lombardia & Italy & 45.46679 & 9.190347 & 2020-03-18 & 12266 & 3488 & 1959 &  7285 &  924 & ... &  171 & 17713 &  48983 & NA & NA & NA & NA &  0.01413807 & 0.403621730 & 0.19451220\\\\\n",
       "\t514 & Lombardia & Italy & 45.46679 & 9.190347 & 2020-03-19 & 13938 & 3778 & 2168 &  7387 & 1006 & ... & 1672 & 19884 &  52244 & NA & NA & NA & NA &  0.13631176 & 0.083142202 & 0.10668709\\\\\n",
       "\t535 & Lombardia & Italy & 45.46679 & 9.190347 & 2020-03-20 & 15420 & 4295 & 2549 &  7735 & 1050 & ... & 1482 & 22264 &  57174 & NA & NA & NA & NA &  0.10632802 & 0.136844891 & 0.17573801\\\\\n",
       "\t556 & Lombardia & Italy & 45.46679 & 9.190347 & 2020-03-21 & 17370 & 5050 & 3095 &  8258 & 1093 & ... & 1950 & 25515 &  66730 & NA & NA & NA & NA &  0.12645914 & 0.175785797 & 0.21420165\\\\\n",
       "\t577 & Lombardia & Italy & 45.46679 & 9.190347 & 2020-03-22 & 17885 & 5865 & 3456 &  9439 & 1142 & ... &  515 & 27206 &  70598 & NA & NA & NA & NA &  0.02964882 & 0.161386139 & 0.11663974\\\\\n",
       "\t598 & Lombardia & Italy & 45.46679 & 9.190347 & 2020-03-23 & 18910 & 6075 & 3776 &  9266 & 1183 & ... & 1025 & 28761 &  73242 & NA & NA & NA & NA &  0.05731060 & 0.035805627 & 0.09259259\\\\\n",
       "\t619 & Lombardia & Italy & 45.46679 & 9.190347 & 2020-03-24 & 19868 & 6657 & 4178 &  9711 & 1194 & ... &  958 & 30703 &  76695 & NA & NA & NA & NA &  0.05066103 & 0.095802469 & 0.10646186\\\\\n",
       "\t640 & Lombardia & Italy & 45.46679 & 9.190347 & 2020-03-25 & 20591 & 7281 & 4474 & 10026 & 1236 & ... &  723 & 32346 &  81666 & NA & NA & NA & NA &  0.03639018 & 0.093735917 & 0.07084730\\\\\n",
       "\t661 & Lombardia & Italy & 45.46679 & 9.190347 & 2020-03-26 & 22189 & 7839 & 4861 & 10681 & 1263 & ... & 1598 & 34889 &  87713 & NA & NA & NA & NA &  0.07760672 & 0.076637824 & 0.08649978\\\\\n",
       "\t682 & Lombardia & Italy & 45.46679 & 9.190347 & 2020-03-27 & 23895 & 8001 & 5402 & 11137 & 1292 & ... & 1706 & 37298 &  95860 & NA & NA & NA & NA &  0.07688494 & 0.020665901 & 0.11129397\\\\\n",
       "\t703 & Lombardia & Italy & 45.46679 & 9.190347 & 2020-03-28 & 24509 & 8962 & 5944 & 11152 & 1319 & ... &  614 & 39415 & 102503 & NA & NA & NA & NA &  0.02569575 & 0.120109986 & 0.10033321\\\\\n",
       "\\end{tabular}\n"
      ],
      "text/markdown": [
       "\n",
       "A data.frame: 34 × 22\n",
       "\n",
       "| <!--/--> | Province.State &lt;chr&gt; | Country.Region &lt;chr&gt; | Lat &lt;dbl&gt; | Long &lt;dbl&gt; | Date &lt;date&gt; | Confirmed &lt;int&gt; | Recovered &lt;int&gt; | Deaths &lt;int&gt; | HospitalizedWSymptoms &lt;int&gt; | ICU &lt;int&gt; | ... ... | DailyConfirmed &lt;int&gt; | Total &lt;int&gt; | Tests &lt;int&gt; | Lat.x &lt;dbl&gt; | Long.x &lt;dbl&gt; | Lat.y &lt;dbl&gt; | Long.y &lt;dbl&gt; | ConfirmedGrowthRate &lt;dbl&gt; | RecoveredGrowthRate &lt;dbl&gt; | DeathsGrowthRate &lt;dbl&gt; |\n",
       "|---|---|---|---|---|---|---|---|---|---|---|---|---|---|---|---|---|---|---|---|---|---|\n",
       "| 10 | Lombardia | Italy | 45.46679 | 9.190347 | 2020-02-24 |   166 |    0 |    6 |    76 |   19 | ... |  166 |   172 |   1463 | NA | NA | NA | NA |         NaN |         NaN |        NaN |\n",
       "| 31 | Lombardia | Italy | 45.46679 | 9.190347 | 2020-02-25 |   231 |    0 |    9 |    79 |   25 | ... |   65 |   240 |   3700 | NA | NA | NA | NA |  0.39156627 |         NaN | 0.50000000 |\n",
       "| 52 | Lombardia | Italy | 45.46679 | 9.190347 | 2020-02-26 |   249 |    0 |    9 |    79 |   25 | ... |   18 |   258 |   3208 | NA | NA | NA | NA |  0.07792208 |         NaN | 0.00000000 |\n",
       "| 73 | Lombardia | Italy | 45.46679 | 9.190347 | 2020-02-27 |   349 |   40 |   14 |   172 |   41 | ... |  100 |   403 |   3320 | NA | NA | NA | NA |  0.40160643 |         Inf | 0.55555556 |\n",
       "| 94 | Lombardia | Italy | 45.46679 | 9.190347 | 2020-02-28 |   474 |   40 |   17 |   235 |   47 | ... |  125 |   531 |   4835 | NA | NA | NA | NA |  0.35816619 | 0.000000000 | 0.21428571 |\n",
       "| 115 | Lombardia | Italy | 45.46679 | 9.190347 | 2020-02-29 |   552 |   40 |   23 |   256 |   80 | ... |   78 |   615 |   5723 | NA | NA | NA | NA |  0.16455696 | 0.000000000 | 0.35294118 |\n",
       "| 136 | Lombardia | Italy | 45.46679 | 9.190347 | 2020-03-01 |   887 |   73 |   24 |   406 |  106 | ... |  335 |   984 |   6879 | NA | NA | NA | NA |  0.60688406 | 0.825000000 | 0.04347826 |\n",
       "| 157 | Lombardia | Italy | 45.46679 | 9.190347 | 2020-03-02 |  1077 |  139 |   38 |   478 |  127 | ... |  190 |  1254 |   7925 | NA | NA | NA | NA |  0.21420519 | 0.904109589 | 0.58333333 |\n",
       "| 178 | Lombardia | Italy | 45.46679 | 9.190347 | 2020-03-03 |  1326 |  139 |   55 |   698 |  167 | ... |  249 |  1520 |   9577 | NA | NA | NA | NA |  0.23119777 | 0.000000000 | 0.44736842 |\n",
       "| 199 | Lombardia | Italy | 45.46679 | 9.190347 | 2020-03-04 |  1497 |  250 |   73 |   877 |  209 | ... |  171 |  1820 |  12138 | NA | NA | NA | NA |  0.12895928 | 0.798561151 | 0.32727273 |\n",
       "| 220 | Lombardia | Italy | 45.46679 | 9.190347 | 2020-03-05 |  1777 |  376 |   98 |  1169 |  244 | ... |  280 |  2251 |  12354 | NA | NA | NA | NA |  0.18704075 | 0.504000000 | 0.34246575 |\n",
       "| 241 | Lombardia | Italy | 45.46679 | 9.190347 | 2020-03-06 |  2008 |  469 |  135 |  1622 |  309 | ... |  231 |  2612 |  13556 | NA | NA | NA | NA |  0.12999437 | 0.247340426 | 0.37755102 |\n",
       "| 262 | Lombardia | Italy | 45.46679 | 9.190347 | 2020-03-07 |  2742 |  524 |  154 |  1661 |  359 | ... |  734 |  3420 |  15778 | NA | NA | NA | NA |  0.36553785 | 0.117270789 | 0.14074074 |\n",
       "| 283 | Lombardia | Italy | 45.46679 | 9.190347 | 2020-03-08 |  3372 |  550 |  267 |  2217 |  399 | ... |  630 |  4189 |  18534 | NA | NA | NA | NA |  0.22975930 | 0.049618321 | 0.73376623 |\n",
       "| 304 | Lombardia | Italy | 45.46679 | 9.190347 | 2020-03-09 |  4490 |  646 |  333 |  2802 |  440 | ... | 1118 |  5469 |  20135 | NA | NA | NA | NA |  0.33155397 | 0.174545455 | 0.24719101 |\n",
       "| 325 | Lombardia | Italy | 45.46679 | 9.190347 | 2020-03-10 |  4427 |  896 |  468 |  3319 |  466 | ... |  -63 |  5791 |  21479 | NA | NA | NA | NA | -0.01403118 | 0.386996904 | 0.40540541 |\n",
       "| 346 | Lombardia | Italy | 45.46679 | 9.190347 | 2020-03-11 |  5763 |  900 |  617 |  3852 |  560 | ... | 1336 |  7280 |  25629 | NA | NA | NA | NA |  0.30178450 | 0.004464286 | 0.31837607 |\n",
       "| 367 | Lombardia | Italy | 45.46679 | 9.190347 | 2020-03-12 |  6896 | 1085 |  744 |  4247 |  605 | ... | 1133 |  8725 |  29534 | NA | NA | NA | NA |  0.19659899 | 0.205555556 | 0.20583468 |\n",
       "| 388 | Lombardia | Italy | 45.46679 | 9.190347 | 2020-03-13 |  7732 | 1198 |  890 |  4435 |  650 | ... |  836 |  9820 |  32700 | NA | NA | NA | NA |  0.12122970 | 0.104147465 | 0.19623656 |\n",
       "| 409 | Lombardia | Italy | 45.46679 | 9.190347 | 2020-03-14 |  9059 | 1660 |  966 |  4898 |  732 | ... | 1327 | 11685 |  37138 | NA | NA | NA | NA |  0.17162442 | 0.385642738 | 0.08539326 |\n",
       "| 430 | Lombardia | Italy | 45.46679 | 9.190347 | 2020-03-15 | 10043 | 2011 | 1218 |  5500 |  767 | ... |  984 | 13272 |  40369 | NA | NA | NA | NA |  0.10862126 | 0.211445783 | 0.26086957 |\n",
       "| 451 | Lombardia | Italy | 45.46679 | 9.190347 | 2020-03-16 | 10861 | 2368 | 1420 |  6171 |  823 | ... |  818 | 14649 |  43565 | NA | NA | NA | NA |  0.08144977 | 0.177523620 | 0.16584565 |\n",
       "| 472 | Lombardia | Italy | 45.46679 | 9.190347 | 2020-03-17 | 12095 | 2485 | 1640 |  6953 |  879 | ... | 1234 | 16220 |  46449 | NA | NA | NA | NA |  0.11361753 | 0.049408784 | 0.15492958 |\n",
       "| 493 | Lombardia | Italy | 45.46679 | 9.190347 | 2020-03-18 | 12266 | 3488 | 1959 |  7285 |  924 | ... |  171 | 17713 |  48983 | NA | NA | NA | NA |  0.01413807 | 0.403621730 | 0.19451220 |\n",
       "| 514 | Lombardia | Italy | 45.46679 | 9.190347 | 2020-03-19 | 13938 | 3778 | 2168 |  7387 | 1006 | ... | 1672 | 19884 |  52244 | NA | NA | NA | NA |  0.13631176 | 0.083142202 | 0.10668709 |\n",
       "| 535 | Lombardia | Italy | 45.46679 | 9.190347 | 2020-03-20 | 15420 | 4295 | 2549 |  7735 | 1050 | ... | 1482 | 22264 |  57174 | NA | NA | NA | NA |  0.10632802 | 0.136844891 | 0.17573801 |\n",
       "| 556 | Lombardia | Italy | 45.46679 | 9.190347 | 2020-03-21 | 17370 | 5050 | 3095 |  8258 | 1093 | ... | 1950 | 25515 |  66730 | NA | NA | NA | NA |  0.12645914 | 0.175785797 | 0.21420165 |\n",
       "| 577 | Lombardia | Italy | 45.46679 | 9.190347 | 2020-03-22 | 17885 | 5865 | 3456 |  9439 | 1142 | ... |  515 | 27206 |  70598 | NA | NA | NA | NA |  0.02964882 | 0.161386139 | 0.11663974 |\n",
       "| 598 | Lombardia | Italy | 45.46679 | 9.190347 | 2020-03-23 | 18910 | 6075 | 3776 |  9266 | 1183 | ... | 1025 | 28761 |  73242 | NA | NA | NA | NA |  0.05731060 | 0.035805627 | 0.09259259 |\n",
       "| 619 | Lombardia | Italy | 45.46679 | 9.190347 | 2020-03-24 | 19868 | 6657 | 4178 |  9711 | 1194 | ... |  958 | 30703 |  76695 | NA | NA | NA | NA |  0.05066103 | 0.095802469 | 0.10646186 |\n",
       "| 640 | Lombardia | Italy | 45.46679 | 9.190347 | 2020-03-25 | 20591 | 7281 | 4474 | 10026 | 1236 | ... |  723 | 32346 |  81666 | NA | NA | NA | NA |  0.03639018 | 0.093735917 | 0.07084730 |\n",
       "| 661 | Lombardia | Italy | 45.46679 | 9.190347 | 2020-03-26 | 22189 | 7839 | 4861 | 10681 | 1263 | ... | 1598 | 34889 |  87713 | NA | NA | NA | NA |  0.07760672 | 0.076637824 | 0.08649978 |\n",
       "| 682 | Lombardia | Italy | 45.46679 | 9.190347 | 2020-03-27 | 23895 | 8001 | 5402 | 11137 | 1292 | ... | 1706 | 37298 |  95860 | NA | NA | NA | NA |  0.07688494 | 0.020665901 | 0.11129397 |\n",
       "| 703 | Lombardia | Italy | 45.46679 | 9.190347 | 2020-03-28 | 24509 | 8962 | 5944 | 11152 | 1319 | ... |  614 | 39415 | 102503 | NA | NA | NA | NA |  0.02569575 | 0.120109986 | 0.10033321 |\n",
       "\n"
      ],
      "text/plain": [
       "    Province.State Country.Region Lat      Long     Date       Confirmed\n",
       "10  Lombardia      Italy          45.46679 9.190347 2020-02-24   166    \n",
       "31  Lombardia      Italy          45.46679 9.190347 2020-02-25   231    \n",
       "52  Lombardia      Italy          45.46679 9.190347 2020-02-26   249    \n",
       "73  Lombardia      Italy          45.46679 9.190347 2020-02-27   349    \n",
       "94  Lombardia      Italy          45.46679 9.190347 2020-02-28   474    \n",
       "115 Lombardia      Italy          45.46679 9.190347 2020-02-29   552    \n",
       "136 Lombardia      Italy          45.46679 9.190347 2020-03-01   887    \n",
       "157 Lombardia      Italy          45.46679 9.190347 2020-03-02  1077    \n",
       "178 Lombardia      Italy          45.46679 9.190347 2020-03-03  1326    \n",
       "199 Lombardia      Italy          45.46679 9.190347 2020-03-04  1497    \n",
       "220 Lombardia      Italy          45.46679 9.190347 2020-03-05  1777    \n",
       "241 Lombardia      Italy          45.46679 9.190347 2020-03-06  2008    \n",
       "262 Lombardia      Italy          45.46679 9.190347 2020-03-07  2742    \n",
       "283 Lombardia      Italy          45.46679 9.190347 2020-03-08  3372    \n",
       "304 Lombardia      Italy          45.46679 9.190347 2020-03-09  4490    \n",
       "325 Lombardia      Italy          45.46679 9.190347 2020-03-10  4427    \n",
       "346 Lombardia      Italy          45.46679 9.190347 2020-03-11  5763    \n",
       "367 Lombardia      Italy          45.46679 9.190347 2020-03-12  6896    \n",
       "388 Lombardia      Italy          45.46679 9.190347 2020-03-13  7732    \n",
       "409 Lombardia      Italy          45.46679 9.190347 2020-03-14  9059    \n",
       "430 Lombardia      Italy          45.46679 9.190347 2020-03-15 10043    \n",
       "451 Lombardia      Italy          45.46679 9.190347 2020-03-16 10861    \n",
       "472 Lombardia      Italy          45.46679 9.190347 2020-03-17 12095    \n",
       "493 Lombardia      Italy          45.46679 9.190347 2020-03-18 12266    \n",
       "514 Lombardia      Italy          45.46679 9.190347 2020-03-19 13938    \n",
       "535 Lombardia      Italy          45.46679 9.190347 2020-03-20 15420    \n",
       "556 Lombardia      Italy          45.46679 9.190347 2020-03-21 17370    \n",
       "577 Lombardia      Italy          45.46679 9.190347 2020-03-22 17885    \n",
       "598 Lombardia      Italy          45.46679 9.190347 2020-03-23 18910    \n",
       "619 Lombardia      Italy          45.46679 9.190347 2020-03-24 19868    \n",
       "640 Lombardia      Italy          45.46679 9.190347 2020-03-25 20591    \n",
       "661 Lombardia      Italy          45.46679 9.190347 2020-03-26 22189    \n",
       "682 Lombardia      Italy          45.46679 9.190347 2020-03-27 23895    \n",
       "703 Lombardia      Italy          45.46679 9.190347 2020-03-28 24509    \n",
       "    Recovered Deaths HospitalizedWSymptoms ICU  ... DailyConfirmed Total Tests \n",
       "10     0         6      76                   19 ...  166             172   1463\n",
       "31     0         9      79                   25 ...   65             240   3700\n",
       "52     0         9      79                   25 ...   18             258   3208\n",
       "73    40        14     172                   41 ...  100             403   3320\n",
       "94    40        17     235                   47 ...  125             531   4835\n",
       "115   40        23     256                   80 ...   78             615   5723\n",
       "136   73        24     406                  106 ...  335             984   6879\n",
       "157  139        38     478                  127 ...  190            1254   7925\n",
       "178  139        55     698                  167 ...  249            1520   9577\n",
       "199  250        73     877                  209 ...  171            1820  12138\n",
       "220  376        98    1169                  244 ...  280            2251  12354\n",
       "241  469       135    1622                  309 ...  231            2612  13556\n",
       "262  524       154    1661                  359 ...  734            3420  15778\n",
       "283  550       267    2217                  399 ...  630            4189  18534\n",
       "304  646       333    2802                  440 ... 1118            5469  20135\n",
       "325  896       468    3319                  466 ...  -63            5791  21479\n",
       "346  900       617    3852                  560 ... 1336            7280  25629\n",
       "367 1085       744    4247                  605 ... 1133            8725  29534\n",
       "388 1198       890    4435                  650 ...  836            9820  32700\n",
       "409 1660       966    4898                  732 ... 1327           11685  37138\n",
       "430 2011      1218    5500                  767 ...  984           13272  40369\n",
       "451 2368      1420    6171                  823 ...  818           14649  43565\n",
       "472 2485      1640    6953                  879 ... 1234           16220  46449\n",
       "493 3488      1959    7285                  924 ...  171           17713  48983\n",
       "514 3778      2168    7387                 1006 ... 1672           19884  52244\n",
       "535 4295      2549    7735                 1050 ... 1482           22264  57174\n",
       "556 5050      3095    8258                 1093 ... 1950           25515  66730\n",
       "577 5865      3456    9439                 1142 ...  515           27206  70598\n",
       "598 6075      3776    9266                 1183 ... 1025           28761  73242\n",
       "619 6657      4178    9711                 1194 ...  958           30703  76695\n",
       "640 7281      4474   10026                 1236 ...  723           32346  81666\n",
       "661 7839      4861   10681                 1263 ... 1598           34889  87713\n",
       "682 8001      5402   11137                 1292 ... 1706           37298  95860\n",
       "703 8962      5944   11152                 1319 ...  614           39415 102503\n",
       "    Lat.x Long.x Lat.y Long.y ConfirmedGrowthRate RecoveredGrowthRate\n",
       "10  NA    NA     NA    NA             NaN                 NaN        \n",
       "31  NA    NA     NA    NA      0.39156627                 NaN        \n",
       "52  NA    NA     NA    NA      0.07792208                 NaN        \n",
       "73  NA    NA     NA    NA      0.40160643                 Inf        \n",
       "94  NA    NA     NA    NA      0.35816619         0.000000000        \n",
       "115 NA    NA     NA    NA      0.16455696         0.000000000        \n",
       "136 NA    NA     NA    NA      0.60688406         0.825000000        \n",
       "157 NA    NA     NA    NA      0.21420519         0.904109589        \n",
       "178 NA    NA     NA    NA      0.23119777         0.000000000        \n",
       "199 NA    NA     NA    NA      0.12895928         0.798561151        \n",
       "220 NA    NA     NA    NA      0.18704075         0.504000000        \n",
       "241 NA    NA     NA    NA      0.12999437         0.247340426        \n",
       "262 NA    NA     NA    NA      0.36553785         0.117270789        \n",
       "283 NA    NA     NA    NA      0.22975930         0.049618321        \n",
       "304 NA    NA     NA    NA      0.33155397         0.174545455        \n",
       "325 NA    NA     NA    NA     -0.01403118         0.386996904        \n",
       "346 NA    NA     NA    NA      0.30178450         0.004464286        \n",
       "367 NA    NA     NA    NA      0.19659899         0.205555556        \n",
       "388 NA    NA     NA    NA      0.12122970         0.104147465        \n",
       "409 NA    NA     NA    NA      0.17162442         0.385642738        \n",
       "430 NA    NA     NA    NA      0.10862126         0.211445783        \n",
       "451 NA    NA     NA    NA      0.08144977         0.177523620        \n",
       "472 NA    NA     NA    NA      0.11361753         0.049408784        \n",
       "493 NA    NA     NA    NA      0.01413807         0.403621730        \n",
       "514 NA    NA     NA    NA      0.13631176         0.083142202        \n",
       "535 NA    NA     NA    NA      0.10632802         0.136844891        \n",
       "556 NA    NA     NA    NA      0.12645914         0.175785797        \n",
       "577 NA    NA     NA    NA      0.02964882         0.161386139        \n",
       "598 NA    NA     NA    NA      0.05731060         0.035805627        \n",
       "619 NA    NA     NA    NA      0.05066103         0.095802469        \n",
       "640 NA    NA     NA    NA      0.03639018         0.093735917        \n",
       "661 NA    NA     NA    NA      0.07760672         0.076637824        \n",
       "682 NA    NA     NA    NA      0.07688494         0.020665901        \n",
       "703 NA    NA     NA    NA      0.02569575         0.120109986        \n",
       "    DeathsGrowthRate\n",
       "10         NaN      \n",
       "31  0.50000000      \n",
       "52  0.00000000      \n",
       "73  0.55555556      \n",
       "94  0.21428571      \n",
       "115 0.35294118      \n",
       "136 0.04347826      \n",
       "157 0.58333333      \n",
       "178 0.44736842      \n",
       "199 0.32727273      \n",
       "220 0.34246575      \n",
       "241 0.37755102      \n",
       "262 0.14074074      \n",
       "283 0.73376623      \n",
       "304 0.24719101      \n",
       "325 0.40540541      \n",
       "346 0.31837607      \n",
       "367 0.20583468      \n",
       "388 0.19623656      \n",
       "409 0.08539326      \n",
       "430 0.26086957      \n",
       "451 0.16584565      \n",
       "472 0.15492958      \n",
       "493 0.19451220      \n",
       "514 0.10668709      \n",
       "535 0.17573801      \n",
       "556 0.21420165      \n",
       "577 0.11663974      \n",
       "598 0.09259259      \n",
       "619 0.10646186      \n",
       "640 0.07084730      \n",
       "661 0.08649978      \n",
       "682 0.11129397      \n",
       "703 0.10033321      "
      ]
     },
     "metadata": {},
     "output_type": "display_data"
    }
   ],
   "source": [
    "data.df[data.df$Province.State == \"Lombardia\",]"
   ]
  },
  {
   "cell_type": "markdown",
   "metadata": {},
   "source": [
    "## Changepoint detection"
   ]
  },
  {
   "cell_type": "code",
   "execution_count": null,
   "metadata": {},
   "outputs": [],
   "source": [
    "nations_with_missing_values <- which( apply(is.na(confirmed_gr_ts.zoo),2,sum) > 33, arr.ind = T)"
   ]
  },
  {
   "cell_type": "markdown",
   "metadata": {},
   "source": [
    "### Subset only relevant data"
   ]
  },
  {
   "cell_type": "code",
   "execution_count": 33,
   "metadata": {
    "ExecuteTime": {
     "end_time": "2020-03-29T13:41:26.095729Z",
     "start_time": "2020-03-29T13:41:26.068Z"
    }
   },
   "outputs": [],
   "source": [
    "start_date_Italy <- which(index(confirmed_gr_ts.zoo) == as.Date(\"2020-02-25\"),arr.ind=T)\n",
    "lombardy_gr.ts <- confirmed_gr_ts.zoo$Italy_Lombardia[start_date_Italy:length(confirmed_gr_ts.zoo$Italy_Lombardia)]"
   ]
  },
  {
   "cell_type": "code",
   "execution_count": 34,
   "metadata": {
    "ExecuteTime": {
     "end_time": "2020-03-29T13:41:39.590896Z",
     "start_time": "2020-03-29T13:41:39.499Z"
    }
   },
   "outputs": [
    {
     "data": {
      "image/png": "[encoded data removed]",
      "text/plain": [
       "Plot with title \"\""
      ]
     },
     "metadata": {
      "image/png": {
       "height": 420,
       "width": 420
      },
      "text/plain": {
       "height": 420,
       "width": 420
      }
     },
     "output_type": "display_data"
    }
   ],
   "source": [
    "plot(lombardy_gr.ts)"
   ]
  },
  {
   "cell_type": "markdown",
   "metadata": {},
   "source": [
    "### Mean-based change point detection"
   ]
  },
  {
   "cell_type": "code",
   "execution_count": 37,
   "metadata": {
    "ExecuteTime": {
     "end_time": "2020-03-29T13:43:34.691173Z",
     "start_time": "2020-03-29T13:43:34.664Z"
    }
   },
   "outputs": [
    {
     "data": {
      "text/html": [],
      "text/latex": [],
      "text/markdown": [],
      "text/plain": [
       "numeric(0)"
      ]
     },
     "metadata": {},
     "output_type": "display_data"
    }
   ],
   "source": [
    "lombardy_gr.cpt <- cpt.mean(lombardy_gr.ts)\n",
    "cpts(lombardy_gr.cpt)"
   ]
  },
  {
   "cell_type": "code",
   "execution_count": 38,
   "metadata": {
    "ExecuteTime": {
     "end_time": "2020-03-29T13:45:30.984791Z",
     "start_time": "2020-03-29T13:45:30.898Z"
    }
   },
   "outputs": [
    {
     "data": {
      "image/png": "[encoded data removed]",
      "text/plain": [
       "plot without title"
      ]
     },
     "metadata": {
      "image/png": {
       "height": 420,
       "width": 420
      },
      "text/plain": {
       "height": 420,
       "width": 420
      }
     },
     "output_type": "display_data"
    }
   ],
   "source": [
    "plot(lombardy_gr.cpt)"
   ]
  },
  {
   "cell_type": "markdown",
   "metadata": {},
   "source": [
    "### Non-parametric change point detection"
   ]
  },
  {
   "cell_type": "code",
   "execution_count": null,
   "metadata": {},
   "outputs": [],
   "source": [
    "lombardy_gr.cpt <- cpt.np(lombardy_gr.ts, method=\"PELT\",minseglen=2, nquantiles =4*log(length(data)))\n",
    "cpts(lombardy_gr.cpt)"
   ]
  },
  {
   "cell_type": "code",
   "execution_count": null,
   "metadata": {},
   "outputs": [],
   "source": [
    "plot(lombardy_gr.cpt)"
   ]
  },
  {
   "cell_type": "markdown",
   "metadata": {},
   "source": [
    "### Mean-var-vased change point detection"
   ]
  },
  {
   "cell_type": "code",
   "execution_count": 75,
   "metadata": {
    "ExecuteTime": {
     "end_time": "2020-03-29T14:43:54.316553Z",
     "start_time": "2020-03-29T14:43:54.284Z"
    }
   },
   "outputs": [],
   "source": [
    "lombardy_gr.cpt <- cpt.meanvar(lombardy_gr.ts,test.stat='Normal',method='BinSeg',Q=10,penalty=\"SIC\")\n",
    "lombardy_changepoint <- cpts(lombardy_gr.cpt)"
   ]
  },
  {
   "cell_type": "code",
   "execution_count": 76,
   "metadata": {
    "ExecuteTime": {
     "end_time": "2020-03-29T14:43:55.948983Z",
     "start_time": "2020-03-29T14:43:55.855Z"
    }
   },
   "outputs": [
    {
     "data": {
      "image/png": "[encoded data removed]",
      "text/plain": [
       "plot without title"
      ]
     },
     "metadata": {
      "image/png": {
       "height": 420,
       "width": 420
      },
      "text/plain": {
       "height": 420,
       "width": 420
      }
     },
     "output_type": "display_data"
    }
   ],
   "source": [
    "plot(lombardy_gr.cpt)"
   ]
  },
  {
   "cell_type": "markdown",
   "metadata": {},
   "source": [
    "#### Custom-made ggplot graph"
   ]
  },
  {
   "cell_type": "code",
   "execution_count": 79,
   "metadata": {
    "ExecuteTime": {
     "end_time": "2020-03-29T14:47:14.498613Z",
     "start_time": "2020-03-29T14:47:14.205Z"
    }
   },
   "outputs": [
    {
     "data": {
      "image/png": "[encoded data removed]",
      "text/plain": [
       "plot without title"
      ]
     },
     "metadata": {
      "image/png": {
       "height": 420,
       "width": 420
      },
      "text/plain": {
       "height": 420,
       "width": 420
      }
     },
     "output_type": "display_data"
    }
   ],
   "source": [
    "mean_before_cp <- mean(lombardy_gr.ts[1:lombardy_changepoint])\n",
    "mean_after_cp <- mean(lombardy_gr.ts[lombardy_changepoint:length(lombardy_gr.ts)])\n",
    "index_cp <- index(lombardy_gr.ts)[lombardy_changepoint]\n",
    "index_last <- tail(index(lombardy_gr.ts),1)\n",
    "                       \n",
    "ggplot(fortify(lombardy_gr.ts,melt=T),aes(x=Index,y=Value)) +\n",
    "    geom_line() +\n",
    "    geom_segment(x=1,\n",
    "                 xend=index_cp,\n",
    "                 y=mean_before_cp,\n",
    "                 yend=mean_before_cp,\n",
    "                 color=\"blue\") +\n",
    "   geom_segment(x=index_cp,\n",
    "                 xend=index_last,\n",
    "                 y=mean_after_cp,\n",
    "                 yend=mean_after_cp,\n",
    "                 color=\"red\") +\n",
    "  labs(x=\"Time\",y=\"Growth Rate Positive\")"
   ]
  },
  {
   "cell_type": "markdown",
   "metadata": {},
   "source": [
    "### Dataset wise changepoint detection"
   ]
  },
  {
   "cell_type": "code",
   "execution_count": 119,
   "metadata": {
    "ExecuteTime": {
     "end_time": "2020-03-29T17:11:58.130675Z",
     "start_time": "2020-03-29T17:11:58.106Z"
    }
   },
   "outputs": [],
   "source": [
    "european_countries <- c(\"Austria\",\"Belgium\",\"Bulgaria\",\"Croatia\",\"Cyprus\",\"Czechia\",\n",
    "                        \"Denmark\",\"Estonia\",\"Finland\",\"Germany\",\"Greece\",\n",
    "                        \"Hungary\",\"Ireland\",\"Italy\",\"Latvia\",\"Lithuania\",\"Luxembourg\",\"Malta\",\n",
    "                        \"Netherlands\",\"Poland\",\"Portugal\",\"Romania\",\"Slovakia\",\"Slovenia\",\"Spain\",\"Sweden\")\n",
    "\n",
    "selected_multivariate_ts.zoo <- confirmed_gr_ts.zoo[,grepl(paste0(european_countries,sep=\"_$\",collapse=\"|\"),\n",
    "                                                              colnames(confirmed_gr_ts.zoo))]"
   ]
  },
  {
   "cell_type": "code",
   "execution_count": 120,
   "metadata": {
    "ExecuteTime": {
     "end_time": "2020-03-29T17:12:00.028067Z",
     "start_time": "2020-03-29T17:11:59.996Z"
    }
   },
   "outputs": [],
   "source": [
    "splitting_index <- which(index(selected_multivariate_ts.zoo) == as.Date(\"2020-02-28\"),arr.ind=T)\n",
    "selected_multivariate_ts.zoo <- selected_multivariate_ts.zoo[splitting_index:nrow(selected_multivariate_ts.zoo),]"
   ]
  },
  {
   "cell_type": "code",
   "execution_count": 121,
   "metadata": {
    "ExecuteTime": {
     "end_time": "2020-03-29T17:12:02.315941Z",
     "start_time": "2020-03-29T17:12:02.284Z"
    }
   },
   "outputs": [],
   "source": [
    "selected_multivariate_ts.zoo[which(!is.finite(selected_multivariate_ts.zoo))] <- NA\n",
    "selected_multivariate_ts.zoo <- apply(selected_multivariate_ts.zoo,2,na_interpolation)"
   ]
  },
  {
   "cell_type": "code",
   "execution_count": 122,
   "metadata": {
    "ExecuteTime": {
     "end_time": "2020-03-29T17:12:04.205936Z",
     "start_time": "2020-03-29T17:12:04.133Z"
    }
   },
   "outputs": [],
   "source": [
    "confirmed_gr_ts.cpt <- apply(selected_multivariate_ts.zoo,2,function(ts){cpt.meanvar(ts,test.stat='Normal',method='BinSeg',Q=10,penalty=\"SIC\")})"
   ]
  },
  {
   "cell_type": "code",
   "execution_count": 126,
   "metadata": {
    "ExecuteTime": {
     "end_time": "2020-03-29T17:14:01.672586Z",
     "start_time": "2020-03-29T17:14:00.225Z"
    }
   },
   "outputs": [
    {
     "data": {
      "image/png": "[encoded data removed]",
      "text/plain": [
       "plot without title"
      ]
     },
     "metadata": {
      "image/png": {
       "height": 420,
       "width": 420
      },
      "text/plain": {
       "height": 420,
       "width": 420
      }
     },
     "output_type": "display_data"
    },
    {
     "data": {
      "image/png": "[encoded data removed]",
      "text/plain": [
       "plot without title"
      ]
     },
     "metadata": {
      "image/png": {
       "height": 420,
       "width": 420
      },
      "text/plain": {
       "height": 420,
       "width": 420
      }
     },
     "output_type": "display_data"
    },
    {
     "data": {
      "image/png": "[encoded data removed]",
      "text/plain": [
       "plot without title"
      ]
     },
     "metadata": {
      "image/png": {
       "height": 420,
       "width": 420
      },
      "text/plain": {
       "height": 420,
       "width": 420
      }
     },
     "output_type": "display_data"
    },
    {
     "data": {
      "image/png": "[encoded data removed]",
      "text/plain": [
       "plot without title"
      ]
     },
     "metadata": {
      "image/png": {
       "height": 420,
       "width": 420
      },
      "text/plain": {
       "height": 420,
       "width": 420
      }
     },
     "output_type": "display_data"
    },
    {
     "data": {
      "image/png": "[encoded data removed]",
      "text/plain": [
       "plot without title"
      ]
     },
     "metadata": {
      "image/png": {
       "height": 420,
       "width": 420
      },
      "text/plain": {
       "height": 420,
       "width": 420
      }
     },
     "output_type": "display_data"
    },
    {
     "data": {
      "image/png": "[encoded data removed]",
      "text/plain": [
       "plot without title"
      ]
     },
     "metadata": {
      "image/png": {
       "height": 420,
       "width": 420
      },
      "text/plain": {
       "height": 420,
       "width": 420
      }
     },
     "output_type": "display_data"
    },
    {
     "data": {
      "image/png": "[encoded data removed]",
      "text/plain": [
       "plot without title"
      ]
     },
     "metadata": {
      "image/png": {
       "height": 420,
       "width": 420
      },
      "text/plain": {
       "height": 420,
       "width": 420
      }
     },
     "output_type": "display_data"
    },
    {
     "data": {
      "image/png": "[encoded data removed]",
      "text/plain": [
       "plot without title"
      ]
     },
     "metadata": {
      "image/png": {
       "height": 420,
       "width": 420
      },
      "text/plain": {
       "height": 420,
       "width": 420
      }
     },
     "output_type": "display_data"
    },
    {
     "data": {
      "image/png": "[encoded data removed]",
      "text/plain": [
       "plot without title"
      ]
     },
     "metadata": {
      "image/png": {
       "height": 420,
       "width": 420
      },
      "text/plain": {
       "height": 420,
       "width": 420
      }
     },
     "output_type": "display_data"
    },
    {
     "data": {
      "image/png": "[encoded data removed]",
      "text/plain": [
       "plot without title"
      ]
     },
     "metadata": {
      "image/png": {
       "height": 420,
       "width": 420
      },
      "text/plain": {
       "height": 420,
       "width": 420
      }
     },
     "output_type": "display_data"
    },
    {
     "data": {
      "image/png": "[encoded data removed]",
      "text/plain": [
       "plot without title"
      ]
     },
     "metadata": {
      "image/png": {
       "height": 420,
       "width": 420
      },
      "text/plain": {
       "height": 420,
       "width": 420
      }
     },
     "output_type": "display_data"
    },
    {
     "data": {
      "image/png": "[encoded data removed]",
      "text/plain": [
       "plot without title"
      ]
     },
     "metadata": {
      "image/png": {
       "height": 420,
       "width": 420
      },
      "text/plain": {
       "height": 420,
       "width": 420
      }
     },
     "output_type": "display_data"
    },
    {
     "data": {
      "image/png": "[encoded data removed]",
      "text/plain": [
       "plot without title"
      ]
     },
     "metadata": {
      "image/png": {
       "height": 420,
       "width": 420
      },
      "text/plain": {
       "height": 420,
       "width": 420
      }
     },
     "output_type": "display_data"
    },
    {
     "data": {
      "image/png": "[encoded data removed]",
      "text/plain": [
       "plot without title"
      ]
     },
     "metadata": {
      "image/png": {
       "height": 420,
       "width": 420
      },
      "text/plain": {
       "height": 420,
       "width": 420
      }
     },
     "output_type": "display_data"
    },
    {
     "data": {
      "image/png": "[encoded data removed]",
      "text/plain": [
       "plot without title"
      ]
     },
     "metadata": {
      "image/png": {
       "height": 420,
       "width": 420
      },
      "text/plain": {
       "height": 420,
       "width": 420
      }
     },
     "output_type": "display_data"
    },
    {
     "data": {
      "image/png": "[encoded data removed]",
      "text/plain": [
       "plot without title"
      ]
     },
     "metadata": {
      "image/png": {
       "height": 420,
       "width": 420
      },
      "text/plain": {
       "height": 420,
       "width": 420
      }
     },
     "output_type": "display_data"
    },
    {
     "data": {
      "image/png": "[encoded data removed]",
      "text/plain": [
       "plot without title"
      ]
     },
     "metadata": {
      "image/png": {
       "height": 420,
       "width": 420
      },
      "text/plain": {
       "height": 420,
       "width": 420
      }
     },
     "output_type": "display_data"
    },
    {
     "data": {
      "image/png": "[encoded data removed]",
      "text/plain": [
       "plot without title"
      ]
     },
     "metadata": {
      "image/png": {
       "height": 420,
       "width": 420
      },
      "text/plain": {
       "height": 420,
       "width": 420
      }
     },
     "output_type": "display_data"
    },
    {
     "data": {
      "image/png": "[encoded data removed]",
      "text/plain": [
       "plot without title"
      ]
     },
     "metadata": {
      "image/png": {
       "height": 420,
       "width": 420
      },
      "text/plain": {
       "height": 420,
       "width": 420
      }
     },
     "output_type": "display_data"
    },
    {
     "data": {
      "image/png": "[encoded data removed]",
      "text/plain": [
       "plot without title"
      ]
     },
     "metadata": {
      "image/png": {
       "height": 420,
       "width": 420
      },
      "text/plain": {
       "height": 420,
       "width": 420
      }
     },
     "output_type": "display_data"
    },
    {
     "data": {
      "image/png": "[encoded data removed]",
      "text/plain": [
       "plot without title"
      ]
     },
     "metadata": {
      "image/png": {
       "height": 420,
       "width": 420
      },
      "text/plain": {
       "height": 420,
       "width": 420
      }
     },
     "output_type": "display_data"
    },
    {
     "data": {
      "image/png": "[encoded data removed]",
      "text/plain": [
       "plot without title"
      ]
     },
     "metadata": {
      "image/png": {
       "height": 420,
       "width": 420
      },
      "text/plain": {
       "height": 420,
       "width": 420
      }
     },
     "output_type": "display_data"
    },
    {
     "data": {
      "image/png": "[encoded data removed]",
      "text/plain": [
       "plot without title"
      ]
     },
     "metadata": {
      "image/png": {
       "height": 420,
       "width": 420
      },
      "text/plain": {
       "height": 420,
       "width": 420
      }
     },
     "output_type": "display_data"
    },
    {
     "data": {
      "image/png": "[encoded data removed]",
      "text/plain": [
       "plot without title"
      ]
     },
     "metadata": {
      "image/png": {
       "height": 420,
       "width": 420
      },
      "text/plain": {
       "height": 420,
       "width": 420
      }
     },
     "output_type": "display_data"
    },
    {
     "data": {
      "image/png": "[encoded data removed]",
      "text/plain": [
       "plot without title"
      ]
     },
     "metadata": {
      "image/png": {
       "height": 420,
       "width": 420
      },
      "text/plain": {
       "height": 420,
       "width": 420
      }
     },
     "output_type": "display_data"
    },
    {
     "data": {
      "text/html": [
       "<dl>\n",
       "\t<dt>$Austria_</dt>\n",
       "\t\t<dd>NULL</dd>\n",
       "\t<dt>$Belgium_</dt>\n",
       "\t\t<dd>NULL</dd>\n",
       "\t<dt>$Bulgaria_</dt>\n",
       "\t\t<dd>NULL</dd>\n",
       "\t<dt>$Croatia_</dt>\n",
       "\t\t<dd>NULL</dd>\n",
       "\t<dt>$Cyprus_</dt>\n",
       "\t\t<dd>NULL</dd>\n",
       "\t<dt>$Czechia_</dt>\n",
       "\t\t<dd>NULL</dd>\n",
       "\t<dt>$Denmark_</dt>\n",
       "\t\t<dd>NULL</dd>\n",
       "\t<dt>$Estonia_</dt>\n",
       "\t\t<dd>NULL</dd>\n",
       "\t<dt>$Finland_</dt>\n",
       "\t\t<dd>NULL</dd>\n",
       "\t<dt>$Germany_</dt>\n",
       "\t\t<dd>NULL</dd>\n",
       "\t<dt>$Greece_</dt>\n",
       "\t\t<dd>NULL</dd>\n",
       "\t<dt>$Hungary_</dt>\n",
       "\t\t<dd>NULL</dd>\n",
       "\t<dt>$Ireland_</dt>\n",
       "\t\t<dd>NULL</dd>\n",
       "\t<dt>$Italy_</dt>\n",
       "\t\t<dd>NULL</dd>\n",
       "\t<dt>$Latvia_</dt>\n",
       "\t\t<dd>NULL</dd>\n",
       "\t<dt>$Lithuania_</dt>\n",
       "\t\t<dd>NULL</dd>\n",
       "\t<dt>$Luxembourg_</dt>\n",
       "\t\t<dd>NULL</dd>\n",
       "\t<dt>$Malta_</dt>\n",
       "\t\t<dd>NULL</dd>\n",
       "\t<dt>$Netherlands_</dt>\n",
       "\t\t<dd>NULL</dd>\n",
       "\t<dt>$Poland_</dt>\n",
       "\t\t<dd>NULL</dd>\n",
       "\t<dt>$Portugal_</dt>\n",
       "\t\t<dd>NULL</dd>\n",
       "\t<dt>$Romania_</dt>\n",
       "\t\t<dd>NULL</dd>\n",
       "\t<dt>$Slovakia_</dt>\n",
       "\t\t<dd>NULL</dd>\n",
       "\t<dt>$Slovenia_</dt>\n",
       "\t\t<dd>NULL</dd>\n",
       "\t<dt>$Spain_</dt>\n",
       "\t\t<dd>NULL</dd>\n",
       "\t<dt>$Sweden_</dt>\n",
       "\t\t<dd>NULL</dd>\n",
       "</dl>\n"
      ],
      "text/latex": [
       "\\begin{description}\n",
       "\\item[\\$Austria\\_] NULL\n",
       "\\item[\\$Belgium\\_] NULL\n",
       "\\item[\\$Bulgaria\\_] NULL\n",
       "\\item[\\$Croatia\\_] NULL\n",
       "\\item[\\$Cyprus\\_] NULL\n",
       "\\item[\\$Czechia\\_] NULL\n",
       "\\item[\\$Denmark\\_] NULL\n",
       "\\item[\\$Estonia\\_] NULL\n",
       "\\item[\\$Finland\\_] NULL\n",
       "\\item[\\$Germany\\_] NULL\n",
       "\\item[\\$Greece\\_] NULL\n",
       "\\item[\\$Hungary\\_] NULL\n",
       "\\item[\\$Ireland\\_] NULL\n",
       "\\item[\\$Italy\\_] NULL\n",
       "\\item[\\$Latvia\\_] NULL\n",
       "\\item[\\$Lithuania\\_] NULL\n",
       "\\item[\\$Luxembourg\\_] NULL\n",
       "\\item[\\$Malta\\_] NULL\n",
       "\\item[\\$Netherlands\\_] NULL\n",
       "\\item[\\$Poland\\_] NULL\n",
       "\\item[\\$Portugal\\_] NULL\n",
       "\\item[\\$Romania\\_] NULL\n",
       "\\item[\\$Slovakia\\_] NULL\n",
       "\\item[\\$Slovenia\\_] NULL\n",
       "\\item[\\$Spain\\_] NULL\n",
       "\\item[\\$Sweden\\_] NULL\n",
       "\\end{description}\n"
      ],
      "text/markdown": [
       "$Austria_\n",
       ":   NULL\n",
       "$Belgium_\n",
       ":   NULL\n",
       "$Bulgaria_\n",
       ":   NULL\n",
       "$Croatia_\n",
       ":   NULL\n",
       "$Cyprus_\n",
       ":   NULL\n",
       "$Czechia_\n",
       ":   NULL\n",
       "$Denmark_\n",
       ":   NULL\n",
       "$Estonia_\n",
       ":   NULL\n",
       "$Finland_\n",
       ":   NULL\n",
       "$Germany_\n",
       ":   NULL\n",
       "$Greece_\n",
       ":   NULL\n",
       "$Hungary_\n",
       ":   NULL\n",
       "$Ireland_\n",
       ":   NULL\n",
       "$Italy_\n",
       ":   NULL\n",
       "$Latvia_\n",
       ":   NULL\n",
       "$Lithuania_\n",
       ":   NULL\n",
       "$Luxembourg_\n",
       ":   NULL\n",
       "$Malta_\n",
       ":   NULL\n",
       "$Netherlands_\n",
       ":   NULL\n",
       "$Poland_\n",
       ":   NULL\n",
       "$Portugal_\n",
       ":   NULL\n",
       "$Romania_\n",
       ":   NULL\n",
       "$Slovakia_\n",
       ":   NULL\n",
       "$Slovenia_\n",
       ":   NULL\n",
       "$Spain_\n",
       ":   NULL\n",
       "$Sweden_\n",
       ":   NULL\n",
       "\n",
       "\n"
      ],
      "text/plain": [
       "$Austria_\n",
       "NULL\n",
       "\n",
       "$Belgium_\n",
       "NULL\n",
       "\n",
       "$Bulgaria_\n",
       "NULL\n",
       "\n",
       "$Croatia_\n",
       "NULL\n",
       "\n",
       "$Cyprus_\n",
       "NULL\n",
       "\n",
       "$Czechia_\n",
       "NULL\n",
       "\n",
       "$Denmark_\n",
       "NULL\n",
       "\n",
       "$Estonia_\n",
       "NULL\n",
       "\n",
       "$Finland_\n",
       "NULL\n",
       "\n",
       "$Germany_\n",
       "NULL\n",
       "\n",
       "$Greece_\n",
       "NULL\n",
       "\n",
       "$Hungary_\n",
       "NULL\n",
       "\n",
       "$Ireland_\n",
       "NULL\n",
       "\n",
       "$Italy_\n",
       "NULL\n",
       "\n",
       "$Latvia_\n",
       "NULL\n",
       "\n",
       "$Lithuania_\n",
       "NULL\n",
       "\n",
       "$Luxembourg_\n",
       "NULL\n",
       "\n",
       "$Malta_\n",
       "NULL\n",
       "\n",
       "$Netherlands_\n",
       "NULL\n",
       "\n",
       "$Poland_\n",
       "NULL\n",
       "\n",
       "$Portugal_\n",
       "NULL\n",
       "\n",
       "$Romania_\n",
       "NULL\n",
       "\n",
       "$Slovakia_\n",
       "NULL\n",
       "\n",
       "$Slovenia_\n",
       "NULL\n",
       "\n",
       "$Spain_\n",
       "NULL\n",
       "\n",
       "$Sweden_\n",
       "NULL\n"
      ]
     },
     "metadata": {},
     "output_type": "display_data"
    },
    {
     "data": {
      "image/png": "[encoded data removed]",
      "text/plain": [
       "plot without title"
      ]
     },
     "metadata": {
      "image/png": {
       "height": 420,
       "width": 420
      },
      "text/plain": {
       "height": 420,
       "width": 420
      }
     },
     "output_type": "display_data"
    }
   ],
   "source": [
    "lapply(confirmed_gr_ts.cpt,plot)"
   ]
  },
  {
   "cell_type": "code",
   "execution_count": 129,
   "metadata": {
    "ExecuteTime": {
     "end_time": "2020-03-29T17:16:55.496264Z",
     "start_time": "2020-03-29T17:16:55.455Z"
    },
    "scrolled": true
   },
   "outputs": [
    {
     "data": {
      "text/html": [
       "<dl>\n",
       "\t<dt>$Austria_</dt>\n",
       "\t\t<dd><style>\n",
       ".list-inline {list-style: none; margin:0; padding: 0}\n",
       ".list-inline>li {display: inline-block}\n",
       ".list-inline>li:not(:last-child)::after {content: \"\\00b7\"; padding: 0 .5ex}\n",
       "</style>\n",
       "<ol class=list-inline><li>'2020-03-01'</li><li>'2020-03-15'</li></ol>\n",
       "</dd>\n",
       "\t<dt>$Belgium_</dt>\n",
       "\t\t<dd><style>\n",
       ".list-inline {list-style: none; margin:0; padding: 0}\n",
       ".list-inline>li {display: inline-block}\n",
       ".list-inline>li:not(:last-child)::after {content: \"\\00b7\"; padding: 0 .5ex}\n",
       "</style>\n",
       "<ol class=list-inline><li>'2020-03-04'</li><li>'2020-03-06'</li><li>'2020-03-13'</li></ol>\n",
       "</dd>\n",
       "\t<dt>$Bulgaria_</dt>\n",
       "\t\t<dd><style>\n",
       ".list-inline {list-style: none; margin:0; padding: 0}\n",
       ".list-inline>li {display: inline-block}\n",
       ".list-inline>li:not(:last-child)::after {content: \"\\00b7\"; padding: 0 .5ex}\n",
       "</style>\n",
       "<ol class=list-inline><li>'2020-03-10'</li><li>'2020-03-14'</li><li>'2020-03-21'</li></ol>\n",
       "</dd>\n",
       "\t<dt>$Croatia_</dt>\n",
       "\t\t<dd><style>\n",
       ".list-inline {list-style: none; margin:0; padding: 0}\n",
       ".list-inline>li {display: inline-block}\n",
       ".list-inline>li:not(:last-child)::after {content: \"\\00b7\"; padding: 0 .5ex}\n",
       "</style>\n",
       "<ol class=list-inline><li>'2020-03-21'</li><li>'2020-03-24'</li></ol>\n",
       "</dd>\n",
       "\t<dt>$Cyprus_</dt>\n",
       "\t\t<dd><style>\n",
       ".list-inline {list-style: none; margin:0; padding: 0}\n",
       ".list-inline>li {display: inline-block}\n",
       ".list-inline>li:not(:last-child)::after {content: \"\\00b7\"; padding: 0 .5ex}\n",
       "</style>\n",
       "<ol class=list-inline><li>'2020-03-10'</li><li>'2020-03-14'</li><li>'2020-03-23'</li><li>'2020-03-25'</li></ol>\n",
       "</dd>\n",
       "\t<dt>$Czechia_</dt>\n",
       "\t\t<dd><style>\n",
       ".list-inline {list-style: none; margin:0; padding: 0}\n",
       ".list-inline>li {display: inline-block}\n",
       ".list-inline>li:not(:last-child)::after {content: \"\\00b7\"; padding: 0 .5ex}\n",
       "</style>\n",
       "<ol class=list-inline><li>'2020-03-02'</li><li>'2020-03-19'</li></ol>\n",
       "</dd>\n",
       "\t<dt>$Denmark_</dt>\n",
       "\t\t<dd><style>\n",
       ".list-inline {list-style: none; margin:0; padding: 0}\n",
       ".list-inline>li {display: inline-block}\n",
       ".list-inline>li:not(:last-child)::after {content: \"\\00b7\"; padding: 0 .5ex}\n",
       "</style>\n",
       "<ol class=list-inline><li>'2020-03-13'</li><li>'2020-03-25'</li></ol>\n",
       "</dd>\n",
       "\t<dt>$Estonia_</dt>\n",
       "\t\t<dd><style>\n",
       ".list-inline {list-style: none; margin:0; padding: 0}\n",
       ".list-inline>li {display: inline-block}\n",
       ".list-inline>li:not(:last-child)::after {content: \"\\00b7\"; padding: 0 .5ex}\n",
       "</style>\n",
       "<ol class=list-inline><li>'2020-03-02'</li><li>'2020-03-13'</li><li>'2020-03-15'</li></ol>\n",
       "</dd>\n",
       "\t<dt>$Finland_</dt>\n",
       "\t\t<dd><style>\n",
       ".list-inline {list-style: none; margin:0; padding: 0}\n",
       ".list-inline>li {display: inline-block}\n",
       ".list-inline>li:not(:last-child)::after {content: \"\\00b7\"; padding: 0 .5ex}\n",
       "</style>\n",
       "<ol class=list-inline><li>'2020-03-14'</li><li>'2020-03-25'</li></ol>\n",
       "</dd>\n",
       "\t<dt>$Germany_</dt>\n",
       "\t\t<dd><style>\n",
       ".list-inline {list-style: none; margin:0; padding: 0}\n",
       ".list-inline>li {display: inline-block}\n",
       ".list-inline>li:not(:last-child)::after {content: \"\\00b7\"; padding: 0 .5ex}\n",
       "</style>\n",
       "<ol class=list-inline><li>'2020-03-13'</li><li>'2020-03-20'</li></ol>\n",
       "</dd>\n",
       "\t<dt>$Greece_</dt>\n",
       "\t\t<dd><style>\n",
       ".list-inline {list-style: none; margin:0; padding: 0}\n",
       ".list-inline>li {display: inline-block}\n",
       ".list-inline>li:not(:last-child)::after {content: \"\\00b7\"; padding: 0 .5ex}\n",
       "</style>\n",
       "<ol class=list-inline><li>'2020-03-15'</li><li>'2020-03-25'</li></ol>\n",
       "</dd>\n",
       "\t<dt>$Hungary_</dt>\n",
       "\t\t<dd><style>\n",
       ".list-inline {list-style: none; margin:0; padding: 0}\n",
       ".list-inline>li {display: inline-block}\n",
       ".list-inline>li:not(:last-child)::after {content: \"\\00b7\"; padding: 0 .5ex}\n",
       "</style>\n",
       "<ol class=list-inline><li>'2020-03-06'</li><li>'2020-03-15'</li><li>'2020-03-25'</li></ol>\n",
       "</dd>\n",
       "\t<dt>$Ireland_</dt>\n",
       "\t\t<dd><style>\n",
       ".list-inline {list-style: none; margin:0; padding: 0}\n",
       ".list-inline>li {display: inline-block}\n",
       ".list-inline>li:not(:last-child)::after {content: \"\\00b7\"; padding: 0 .5ex}\n",
       "</style>\n",
       "<ol class=list-inline><li>'2020-03-02'</li><li>'2020-03-06'</li><li>'2020-03-09'</li><li>'2020-03-19'</li><li>'2020-03-25'</li></ol>\n",
       "</dd>\n",
       "\t<dt>$Italy_</dt>\n",
       "\t\t<dd><style>\n",
       ".list-inline {list-style: none; margin:0; padding: 0}\n",
       ".list-inline>li {display: inline-block}\n",
       ".list-inline>li:not(:last-child)::after {content: \"\\00b7\"; padding: 0 .5ex}\n",
       "</style>\n",
       "<ol class=list-inline><li>'2020-03-15'</li><li>'2020-03-22'</li></ol>\n",
       "</dd>\n",
       "\t<dt>$Latvia_</dt>\n",
       "\t\t<dd><style>\n",
       ".list-inline {list-style: none; margin:0; padding: 0}\n",
       ".list-inline>li {display: inline-block}\n",
       ".list-inline>li:not(:last-child)::after {content: \"\\00b7\"; padding: 0 .5ex}\n",
       "</style>\n",
       "<ol class=list-inline><li>'2020-03-07'</li><li>'2020-03-14'</li><li>'2020-03-23'</li></ol>\n",
       "</dd>\n",
       "\t<dt>$Lithuania_</dt>\n",
       "\t\t<dd><style>\n",
       ".list-inline {list-style: none; margin:0; padding: 0}\n",
       ".list-inline>li {display: inline-block}\n",
       ".list-inline>li:not(:last-child)::after {content: \"\\00b7\"; padding: 0 .5ex}\n",
       "</style>\n",
       "<ol class=list-inline><li>'2020-03-10'</li><li>'2020-03-13'</li><li>'2020-03-20'</li><li>'2020-03-22'</li></ol>\n",
       "</dd>\n",
       "\t<dt>$Luxembourg_</dt>\n",
       "\t\t<dd><style>\n",
       ".list-inline {list-style: none; margin:0; padding: 0}\n",
       ".list-inline>li {display: inline-block}\n",
       ".list-inline>li:not(:last-child)::after {content: \"\\00b7\"; padding: 0 .5ex}\n",
       "</style>\n",
       "<ol class=list-inline><li>'2020-03-05'</li><li>'2020-03-21'</li><li>'2020-03-25'</li></ol>\n",
       "</dd>\n",
       "\t<dt>$Malta_</dt>\n",
       "\t\t<dd><style>\n",
       ".list-inline {list-style: none; margin:0; padding: 0}\n",
       ".list-inline>li {display: inline-block}\n",
       ".list-inline>li:not(:last-child)::after {content: \"\\00b7\"; padding: 0 .5ex}\n",
       "</style>\n",
       "<ol class=list-inline><li>'2020-03-09'</li><li>'2020-03-19'</li><li>'2020-03-25'</li></ol>\n",
       "</dd>\n",
       "\t<dt>$Netherlands_</dt>\n",
       "\t\t<dd><style>\n",
       ".list-inline {list-style: none; margin:0; padding: 0}\n",
       ".list-inline>li {display: inline-block}\n",
       ".list-inline>li:not(:last-child)::after {content: \"\\00b7\"; padding: 0 .5ex}\n",
       "</style>\n",
       "<ol class=list-inline><li>'2020-03-01'</li><li>'2020-03-13'</li><li>'2020-03-21'</li><li>'2020-03-25'</li></ol>\n",
       "</dd>\n",
       "\t<dt>$Poland_</dt>\n",
       "\t\t<dd><style>\n",
       ".list-inline {list-style: none; margin:0; padding: 0}\n",
       ".list-inline>li {display: inline-block}\n",
       ".list-inline>li:not(:last-child)::after {content: \"\\00b7\"; padding: 0 .5ex}\n",
       "</style>\n",
       "<ol class=list-inline><li>'2020-03-05'</li><li>'2020-03-08'</li><li>'2020-03-21'</li></ol>\n",
       "</dd>\n",
       "\t<dt>$Portugal_</dt>\n",
       "\t\t<dd><style>\n",
       ".list-inline {list-style: none; margin:0; padding: 0}\n",
       ".list-inline>li {display: inline-block}\n",
       ".list-inline>li:not(:last-child)::after {content: \"\\00b7\"; padding: 0 .5ex}\n",
       "</style>\n",
       "<ol class=list-inline><li>'2020-03-03'</li><li>'2020-03-19'</li></ol>\n",
       "</dd>\n",
       "\t<dt>$Romania_</dt>\n",
       "\t\t<dd>'2020-03-13'</dd>\n",
       "\t<dt>$Slovakia_</dt>\n",
       "\t\t<dd><style>\n",
       ".list-inline {list-style: none; margin:0; padding: 0}\n",
       ".list-inline>li {display: inline-block}\n",
       ".list-inline>li:not(:last-child)::after {content: \"\\00b7\"; padding: 0 .5ex}\n",
       "</style>\n",
       "<ol class=list-inline><li>'2020-03-07'</li><li>'2020-03-13'</li></ol>\n",
       "</dd>\n",
       "\t<dt>$Slovenia_</dt>\n",
       "\t\t<dd><style>\n",
       ".list-inline {list-style: none; margin:0; padding: 0}\n",
       ".list-inline>li {display: inline-block}\n",
       ".list-inline>li:not(:last-child)::after {content: \"\\00b7\"; padding: 0 .5ex}\n",
       "</style>\n",
       "<ol class=list-inline><li>'2020-03-06'</li><li>'2020-03-14'</li></ol>\n",
       "</dd>\n",
       "\t<dt>$Spain_</dt>\n",
       "\t\t<dd>'2020-03-13'</dd>\n",
       "\t<dt>$Sweden_</dt>\n",
       "\t\t<dd><style>\n",
       ".list-inline {list-style: none; margin:0; padding: 0}\n",
       ".list-inline>li {display: inline-block}\n",
       ".list-inline>li:not(:last-child)::after {content: \"\\00b7\"; padding: 0 .5ex}\n",
       "</style>\n",
       "<ol class=list-inline><li>'2020-03-07'</li><li>'2020-03-14'</li><li>'2020-03-18'</li></ol>\n",
       "</dd>\n",
       "</dl>\n"
      ],
      "text/latex": [
       "\\begin{description}\n",
       "\\item[\\$Austria\\_] \\begin{enumerate*}\n",
       "\\item '2020-03-01'\n",
       "\\item '2020-03-15'\n",
       "\\end{enumerate*}\n",
       "\n",
       "\\item[\\$Belgium\\_] \\begin{enumerate*}\n",
       "\\item '2020-03-04'\n",
       "\\item '2020-03-06'\n",
       "\\item '2020-03-13'\n",
       "\\end{enumerate*}\n",
       "\n",
       "\\item[\\$Bulgaria\\_] \\begin{enumerate*}\n",
       "\\item '2020-03-10'\n",
       "\\item '2020-03-14'\n",
       "\\item '2020-03-21'\n",
       "\\end{enumerate*}\n",
       "\n",
       "\\item[\\$Croatia\\_] \\begin{enumerate*}\n",
       "\\item '2020-03-21'\n",
       "\\item '2020-03-24'\n",
       "\\end{enumerate*}\n",
       "\n",
       "\\item[\\$Cyprus\\_] \\begin{enumerate*}\n",
       "\\item '2020-03-10'\n",
       "\\item '2020-03-14'\n",
       "\\item '2020-03-23'\n",
       "\\item '2020-03-25'\n",
       "\\end{enumerate*}\n",
       "\n",
       "\\item[\\$Czechia\\_] \\begin{enumerate*}\n",
       "\\item '2020-03-02'\n",
       "\\item '2020-03-19'\n",
       "\\end{enumerate*}\n",
       "\n",
       "\\item[\\$Denmark\\_] \\begin{enumerate*}\n",
       "\\item '2020-03-13'\n",
       "\\item '2020-03-25'\n",
       "\\end{enumerate*}\n",
       "\n",
       "\\item[\\$Estonia\\_] \\begin{enumerate*}\n",
       "\\item '2020-03-02'\n",
       "\\item '2020-03-13'\n",
       "\\item '2020-03-15'\n",
       "\\end{enumerate*}\n",
       "\n",
       "\\item[\\$Finland\\_] \\begin{enumerate*}\n",
       "\\item '2020-03-14'\n",
       "\\item '2020-03-25'\n",
       "\\end{enumerate*}\n",
       "\n",
       "\\item[\\$Germany\\_] \\begin{enumerate*}\n",
       "\\item '2020-03-13'\n",
       "\\item '2020-03-20'\n",
       "\\end{enumerate*}\n",
       "\n",
       "\\item[\\$Greece\\_] \\begin{enumerate*}\n",
       "\\item '2020-03-15'\n",
       "\\item '2020-03-25'\n",
       "\\end{enumerate*}\n",
       "\n",
       "\\item[\\$Hungary\\_] \\begin{enumerate*}\n",
       "\\item '2020-03-06'\n",
       "\\item '2020-03-15'\n",
       "\\item '2020-03-25'\n",
       "\\end{enumerate*}\n",
       "\n",
       "\\item[\\$Ireland\\_] \\begin{enumerate*}\n",
       "\\item '2020-03-02'\n",
       "\\item '2020-03-06'\n",
       "\\item '2020-03-09'\n",
       "\\item '2020-03-19'\n",
       "\\item '2020-03-25'\n",
       "\\end{enumerate*}\n",
       "\n",
       "\\item[\\$Italy\\_] \\begin{enumerate*}\n",
       "\\item '2020-03-15'\n",
       "\\item '2020-03-22'\n",
       "\\end{enumerate*}\n",
       "\n",
       "\\item[\\$Latvia\\_] \\begin{enumerate*}\n",
       "\\item '2020-03-07'\n",
       "\\item '2020-03-14'\n",
       "\\item '2020-03-23'\n",
       "\\end{enumerate*}\n",
       "\n",
       "\\item[\\$Lithuania\\_] \\begin{enumerate*}\n",
       "\\item '2020-03-10'\n",
       "\\item '2020-03-13'\n",
       "\\item '2020-03-20'\n",
       "\\item '2020-03-22'\n",
       "\\end{enumerate*}\n",
       "\n",
       "\\item[\\$Luxembourg\\_] \\begin{enumerate*}\n",
       "\\item '2020-03-05'\n",
       "\\item '2020-03-21'\n",
       "\\item '2020-03-25'\n",
       "\\end{enumerate*}\n",
       "\n",
       "\\item[\\$Malta\\_] \\begin{enumerate*}\n",
       "\\item '2020-03-09'\n",
       "\\item '2020-03-19'\n",
       "\\item '2020-03-25'\n",
       "\\end{enumerate*}\n",
       "\n",
       "\\item[\\$Netherlands\\_] \\begin{enumerate*}\n",
       "\\item '2020-03-01'\n",
       "\\item '2020-03-13'\n",
       "\\item '2020-03-21'\n",
       "\\item '2020-03-25'\n",
       "\\end{enumerate*}\n",
       "\n",
       "\\item[\\$Poland\\_] \\begin{enumerate*}\n",
       "\\item '2020-03-05'\n",
       "\\item '2020-03-08'\n",
       "\\item '2020-03-21'\n",
       "\\end{enumerate*}\n",
       "\n",
       "\\item[\\$Portugal\\_] \\begin{enumerate*}\n",
       "\\item '2020-03-03'\n",
       "\\item '2020-03-19'\n",
       "\\end{enumerate*}\n",
       "\n",
       "\\item[\\$Romania\\_] '2020-03-13'\n",
       "\\item[\\$Slovakia\\_] \\begin{enumerate*}\n",
       "\\item '2020-03-07'\n",
       "\\item '2020-03-13'\n",
       "\\end{enumerate*}\n",
       "\n",
       "\\item[\\$Slovenia\\_] \\begin{enumerate*}\n",
       "\\item '2020-03-06'\n",
       "\\item '2020-03-14'\n",
       "\\end{enumerate*}\n",
       "\n",
       "\\item[\\$Spain\\_] '2020-03-13'\n",
       "\\item[\\$Sweden\\_] \\begin{enumerate*}\n",
       "\\item '2020-03-07'\n",
       "\\item '2020-03-14'\n",
       "\\item '2020-03-18'\n",
       "\\end{enumerate*}\n",
       "\n",
       "\\end{description}\n"
      ],
      "text/markdown": [
       "$Austria_\n",
       ":   1. '2020-03-01'\n",
       "2. '2020-03-15'\n",
       "\n",
       "\n",
       "\n",
       "$Belgium_\n",
       ":   1. '2020-03-04'\n",
       "2. '2020-03-06'\n",
       "3. '2020-03-13'\n",
       "\n",
       "\n",
       "\n",
       "$Bulgaria_\n",
       ":   1. '2020-03-10'\n",
       "2. '2020-03-14'\n",
       "3. '2020-03-21'\n",
       "\n",
       "\n",
       "\n",
       "$Croatia_\n",
       ":   1. '2020-03-21'\n",
       "2. '2020-03-24'\n",
       "\n",
       "\n",
       "\n",
       "$Cyprus_\n",
       ":   1. '2020-03-10'\n",
       "2. '2020-03-14'\n",
       "3. '2020-03-23'\n",
       "4. '2020-03-25'\n",
       "\n",
       "\n",
       "\n",
       "$Czechia_\n",
       ":   1. '2020-03-02'\n",
       "2. '2020-03-19'\n",
       "\n",
       "\n",
       "\n",
       "$Denmark_\n",
       ":   1. '2020-03-13'\n",
       "2. '2020-03-25'\n",
       "\n",
       "\n",
       "\n",
       "$Estonia_\n",
       ":   1. '2020-03-02'\n",
       "2. '2020-03-13'\n",
       "3. '2020-03-15'\n",
       "\n",
       "\n",
       "\n",
       "$Finland_\n",
       ":   1. '2020-03-14'\n",
       "2. '2020-03-25'\n",
       "\n",
       "\n",
       "\n",
       "$Germany_\n",
       ":   1. '2020-03-13'\n",
       "2. '2020-03-20'\n",
       "\n",
       "\n",
       "\n",
       "$Greece_\n",
       ":   1. '2020-03-15'\n",
       "2. '2020-03-25'\n",
       "\n",
       "\n",
       "\n",
       "$Hungary_\n",
       ":   1. '2020-03-06'\n",
       "2. '2020-03-15'\n",
       "3. '2020-03-25'\n",
       "\n",
       "\n",
       "\n",
       "$Ireland_\n",
       ":   1. '2020-03-02'\n",
       "2. '2020-03-06'\n",
       "3. '2020-03-09'\n",
       "4. '2020-03-19'\n",
       "5. '2020-03-25'\n",
       "\n",
       "\n",
       "\n",
       "$Italy_\n",
       ":   1. '2020-03-15'\n",
       "2. '2020-03-22'\n",
       "\n",
       "\n",
       "\n",
       "$Latvia_\n",
       ":   1. '2020-03-07'\n",
       "2. '2020-03-14'\n",
       "3. '2020-03-23'\n",
       "\n",
       "\n",
       "\n",
       "$Lithuania_\n",
       ":   1. '2020-03-10'\n",
       "2. '2020-03-13'\n",
       "3. '2020-03-20'\n",
       "4. '2020-03-22'\n",
       "\n",
       "\n",
       "\n",
       "$Luxembourg_\n",
       ":   1. '2020-03-05'\n",
       "2. '2020-03-21'\n",
       "3. '2020-03-25'\n",
       "\n",
       "\n",
       "\n",
       "$Malta_\n",
       ":   1. '2020-03-09'\n",
       "2. '2020-03-19'\n",
       "3. '2020-03-25'\n",
       "\n",
       "\n",
       "\n",
       "$Netherlands_\n",
       ":   1. '2020-03-01'\n",
       "2. '2020-03-13'\n",
       "3. '2020-03-21'\n",
       "4. '2020-03-25'\n",
       "\n",
       "\n",
       "\n",
       "$Poland_\n",
       ":   1. '2020-03-05'\n",
       "2. '2020-03-08'\n",
       "3. '2020-03-21'\n",
       "\n",
       "\n",
       "\n",
       "$Portugal_\n",
       ":   1. '2020-03-03'\n",
       "2. '2020-03-19'\n",
       "\n",
       "\n",
       "\n",
       "$Romania_\n",
       ":   '2020-03-13'\n",
       "$Slovakia_\n",
       ":   1. '2020-03-07'\n",
       "2. '2020-03-13'\n",
       "\n",
       "\n",
       "\n",
       "$Slovenia_\n",
       ":   1. '2020-03-06'\n",
       "2. '2020-03-14'\n",
       "\n",
       "\n",
       "\n",
       "$Spain_\n",
       ":   '2020-03-13'\n",
       "$Sweden_\n",
       ":   1. '2020-03-07'\n",
       "2. '2020-03-14'\n",
       "3. '2020-03-18'\n",
       "\n",
       "\n",
       "\n",
       "\n",
       "\n"
      ],
      "text/plain": [
       "$Austria_\n",
       "[1] \"2020-03-01\" \"2020-03-15\"\n",
       "\n",
       "$Belgium_\n",
       "[1] \"2020-03-04\" \"2020-03-06\" \"2020-03-13\"\n",
       "\n",
       "$Bulgaria_\n",
       "[1] \"2020-03-10\" \"2020-03-14\" \"2020-03-21\"\n",
       "\n",
       "$Croatia_\n",
       "[1] \"2020-03-21\" \"2020-03-24\"\n",
       "\n",
       "$Cyprus_\n",
       "[1] \"2020-03-10\" \"2020-03-14\" \"2020-03-23\" \"2020-03-25\"\n",
       "\n",
       "$Czechia_\n",
       "[1] \"2020-03-02\" \"2020-03-19\"\n",
       "\n",
       "$Denmark_\n",
       "[1] \"2020-03-13\" \"2020-03-25\"\n",
       "\n",
       "$Estonia_\n",
       "[1] \"2020-03-02\" \"2020-03-13\" \"2020-03-15\"\n",
       "\n",
       "$Finland_\n",
       "[1] \"2020-03-14\" \"2020-03-25\"\n",
       "\n",
       "$Germany_\n",
       "[1] \"2020-03-13\" \"2020-03-20\"\n",
       "\n",
       "$Greece_\n",
       "[1] \"2020-03-15\" \"2020-03-25\"\n",
       "\n",
       "$Hungary_\n",
       "[1] \"2020-03-06\" \"2020-03-15\" \"2020-03-25\"\n",
       "\n",
       "$Ireland_\n",
       "[1] \"2020-03-02\" \"2020-03-06\" \"2020-03-09\" \"2020-03-19\" \"2020-03-25\"\n",
       "\n",
       "$Italy_\n",
       "[1] \"2020-03-15\" \"2020-03-22\"\n",
       "\n",
       "$Latvia_\n",
       "[1] \"2020-03-07\" \"2020-03-14\" \"2020-03-23\"\n",
       "\n",
       "$Lithuania_\n",
       "[1] \"2020-03-10\" \"2020-03-13\" \"2020-03-20\" \"2020-03-22\"\n",
       "\n",
       "$Luxembourg_\n",
       "[1] \"2020-03-05\" \"2020-03-21\" \"2020-03-25\"\n",
       "\n",
       "$Malta_\n",
       "[1] \"2020-03-09\" \"2020-03-19\" \"2020-03-25\"\n",
       "\n",
       "$Netherlands_\n",
       "[1] \"2020-03-01\" \"2020-03-13\" \"2020-03-21\" \"2020-03-25\"\n",
       "\n",
       "$Poland_\n",
       "[1] \"2020-03-05\" \"2020-03-08\" \"2020-03-21\"\n",
       "\n",
       "$Portugal_\n",
       "[1] \"2020-03-03\" \"2020-03-19\"\n",
       "\n",
       "$Romania_\n",
       "[1] \"2020-03-13\"\n",
       "\n",
       "$Slovakia_\n",
       "[1] \"2020-03-07\" \"2020-03-13\"\n",
       "\n",
       "$Slovenia_\n",
       "[1] \"2020-03-06\" \"2020-03-14\"\n",
       "\n",
       "$Spain_\n",
       "[1] \"2020-03-13\"\n",
       "\n",
       "$Sweden_\n",
       "[1] \"2020-03-07\" \"2020-03-14\" \"2020-03-18\"\n"
      ]
     },
     "metadata": {},
     "output_type": "display_data"
    }
   ],
   "source": [
    "lapply(confirmed_gr_ts.cpt,function(cpt){rownames(selected_multivariate_ts.zoo)[cpts(cpt)]})"
   ]
  }
 ],
 "metadata": {
  "kernelspec": {
   "display_name": "R",
   "language": "R",
   "name": "ir"
  },
  "language_info": {
   "codemirror_mode": "r",
   "file_extension": ".r",
   "mimetype": "text/x-r-source",
   "name": "R",
   "pygments_lexer": "r",
   "version": "3.6.2"
  },
  "latex_envs": {
   "LaTeX_envs_menu_present": true,
   "autoclose": false,
   "autocomplete": true,
   "bibliofile": "biblio.bib",
   "cite_by": "apalike",
   "current_citInitial": 1,
   "eqLabelWithNumbers": true,
   "eqNumInitial": 1,
   "hotkeys": {
    "equation": "Ctrl-E",
    "itemize": "Ctrl-I"
   },
   "labels_anchors": false,
   "latex_user_defs": false,
   "report_style_numbering": false,
   "user_envs_cfg": false
  },
  "toc": {
   "base_numbering": 1,
   "nav_menu": {},
   "number_sections": true,
   "sideBar": true,
   "skip_h1_title": false,
   "title_cell": "Table of Contents",
   "title_sidebar": "Contents",
   "toc_cell": false,
   "toc_position": {},
   "toc_section_display": true,
   "toc_window_display": false
  },
  "varInspector": {
   "cols": {
    "lenName": 16,
    "lenType": 16,
    "lenVar": 40
   },
   "kernels_config": {
    "python": {
     "delete_cmd_postfix": "",
     "delete_cmd_prefix": "del ",
     "library": "var_list.py",
     "varRefreshCmd": "print(var_dic_list())"
    },
    "r": {
     "delete_cmd_postfix": ") ",
     "delete_cmd_prefix": "rm(",
     "library": "var_list.r",
     "varRefreshCmd": "cat(var_dic_list()) "
    }
   },
   "types_to_exclude": [
    "module",
    "function",
    "builtin_function_or_method",
    "instance",
    "_Feature"
   ],
   "window_display": false
  }
 },
 "nbformat": 4,
 "nbformat_minor": 2
}
