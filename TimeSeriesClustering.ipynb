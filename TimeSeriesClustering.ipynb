{
 "cells": [
  {
   "cell_type": "markdown",
   "metadata": {},
   "source": [
    "# Time Series Clustering"
   ]
  },
  {
   "cell_type": "code",
   "execution_count": 71,
   "metadata": {
    "ExecuteTime": {
     "end_time": "2020-03-29T15:47:22.168254Z",
     "start_time": "2020-03-29T15:47:22.099Z"
    }
   },
   "outputs": [],
   "source": [
    "library(zoo)\n",
    "library(imputeTS)\n",
    "library(TSclust)\n",
    "library(ggplot2)\n",
    "library(reshape)\n",
    "library(gridExtra)\n",
    "library(scales)"
   ]
  },
  {
   "cell_type": "code",
   "execution_count": 2,
   "metadata": {
    "ExecuteTime": {
     "end_time": "2020-03-29T14:57:49.603294Z",
     "start_time": "2020-03-29T14:57:49.532Z"
    }
   },
   "outputs": [],
   "source": [
    "CLUSTERING_DISTANCES <- c(\"euclidean\", \"maximum\", \"manhattan\", \"canberra\", \"binary\", \"minkowski\")\n",
    "\n",
    "RAWDATA_BASED <- c(\"DTWARP\", \"FRECHET\", \"EUCL\")\n",
    "AUTOCORRELATION_BASED <- c(\"ACF\", \"PACF\")\n",
    "CORRELATION_BASED <- c(\"COR\")\n",
    "PROXIMITYVALUE_BASED <- c(\"CORT\")\n",
    "PERIODOGRAM_BASED <- c(\"PER\", \"INT.PER\")\n",
    "SPECTRAL_BASED <- c(\"SPEC.LLR\", \"SPEC.GLK\", \"SPEC.ISD\")\n",
    "MODEL_BASED <- c(\"AR.MAH\", \"AR.PIC\", \"AR.LPC.CEPS\")\n",
    "COMPLEXITY_BASED <- c(\"PDC\",\"CDM\",\"CID\", \"NCD\")\n",
    "SYMBOLIC_BASED <- c(\"MINDIST.SAX\")\n",
    "PREDICTION_BASED <- c(\"PRED\")\n",
    "WAVELET_BASED <- c(\"DWT\")\n",
    "TS_CLUST_DISTANCES <- c(RAWDATA_BASED,\n",
    "                        AUTOCORRELATION_BASED,\n",
    "                        CORRELATION_BASED,\n",
    "                        PROXIMITYVALUE_BASED,\n",
    "                        PERIODOGRAM_BASED,\n",
    "                        SPECTRAL_BASED,\n",
    "                        MODEL_BASED,\n",
    "                        COMPLEXITY_BASED,\n",
    "                        SYMBOLIC_BASED,\n",
    "                        PREDICTION_BASED,\n",
    "                        WAVELET_BASED)\n"
   ]
  },
  {
   "cell_type": "markdown",
   "metadata": {},
   "source": [
    "## Auxiliary functions"
   ]
  },
  {
   "cell_type": "markdown",
   "metadata": {},
   "source": [
    "Basic growth rate $r(t) = \\frac{x(t+1)}{x(t)}$"
   ]
  },
  {
   "cell_type": "code",
   "execution_count": null,
   "metadata": {
    "ExecuteTime": {
     "end_time": "2020-03-28T16:54:04.199830Z",
     "start_time": "2020-03-28T16:54:04.174Z"
    }
   },
   "outputs": [],
   "source": [
    "growthRate <- function(ts){\n",
    "    # x(t) = head(x,-1)\n",
    "    # x(t+1) = tail(x,-1)\n",
    "    return(c(NaN,tail(ts,-1)/head(ts,-1)))\n",
    "}"
   ]
  },
  {
   "cell_type": "markdown",
   "metadata": {},
   "source": [
    "Normalized growth rate $r_N(t) = \\frac{x(t+1)-x(t)}{x(t)}$"
   ]
  },
  {
   "cell_type": "code",
   "execution_count": null,
   "metadata": {
    "ExecuteTime": {
     "end_time": "2020-03-28T16:54:04.228756Z",
     "start_time": "2020-03-28T16:54:04.203Z"
    }
   },
   "outputs": [],
   "source": [
    "growthRateNormalized <- function(ts){\n",
    "    # x(t) = head(x,-1)\n",
    "    # x(t+1) = tail(x,-1)\n",
    "    return(c(NaN,(tail(ts,-1)-head(ts,-1))/head(ts,-1)))\n",
    "}\n"
   ]
  },
  {
   "cell_type": "code",
   "execution_count": 6,
   "metadata": {
    "ExecuteTime": {
     "end_time": "2020-03-29T14:58:03.222196Z",
     "start_time": "2020-03-29T14:58:03.198Z"
    }
   },
   "outputs": [],
   "source": [
    "splitData <- function(province_country_pair,data.df){\n",
    "    data.df[data.df$Country.Region == province_country_pair[1]&\n",
    "            data.df$Province.State == province_country_pair[2] \n",
    "            ,]\n",
    "}\n",
    "\n",
    "computeGrowthRate <- function(country.df,growth_rate_function){\n",
    "    country.df$ConfirmedGrowthRate <- growth_rate_function(country.df$Confirmed)\n",
    "    country.df$RecoveredGrowthRate <- growth_rate_function(country.df$Recovered)\n",
    "    country.df$DeathsGrowthRate <- growth_rate_function(country.df$Deaths)\n",
    "    return(country.df)\n",
    "}\n"
   ]
  },
  {
   "cell_type": "code",
   "execution_count": null,
   "metadata": {},
   "outputs": [],
   "source": [
    "compareClusteringDistances <- function(data,true_data_clusters){\n",
    "    true_clusters <- length(levels(true_data_clusters))\n",
    "    results_df <- data.frame(Distance=character(),Concordance=numeric(),Time=numeric())\n",
    "    \n",
    "    for(distance in CLUSTERING_DISTANCES){\n",
    "        print(paste(\"[INFO] - Testing\",distance))\n",
    "        ptm <- proc.time()\n",
    "        distance_matrix <- dist(data, method = distance) # distance matrix\n",
    "        time_cluster <- proc.time() - ptm\n",
    "        fit <- hclust(distance_matrix, method=\"ward\")\n",
    "        groups <- cutree(fit, k=true_clusters)\n",
    "        results_df <- bind_rows(results_df,\n",
    "                                   data.frame(Distance=distance,\n",
    "                                              Concordance=sum(as.numeric(true_data_cluster) == groups)/N),\n",
    "                                              Time=time_cluster[3])\n",
    "    }\n",
    "    return(results_df)\n",
    "}\n",
    "\n",
    "computeTSClusteringDistances <- function(data,distances_vector,dataset_name){\n",
    "  results_df <- data.frame(Distance=character(),Columns=numeric(),Time=numeric())\n",
    "  \n",
    "  for(distance in distances_vector){\n",
    "    print(paste(\"[INFO] - Computing\",distance))\n",
    "    ptm <- proc.time()\n",
    "    distance_matrix <- diss(data.frame(data),distance) # distance matrix\n",
    "    time_cluster <- proc.time() - ptm\n",
    "    print(paste(\"[INFO] - Distance matrix shape:\",dim(distance_matrix)))\n",
    "    saveRDS(distance_matrix,paste(\"DFML_\",dataset_name,distance,\"dm.Rdata\",sep=\"_\"))\n",
    "    results_df <- bind_rows(results_df,\n",
    "                            data.frame(Distance=distance,\n",
    "                                       Columns=ncol(data),\n",
    "                                       Time=time_cluster[3]))\n",
    "    \n",
    "  }\n",
    "  return(results_df)\n",
    "}\n"
   ]
  },
  {
   "cell_type": "markdown",
   "metadata": {},
   "source": [
    "## Read data in"
   ]
  },
  {
   "cell_type": "code",
   "execution_count": 3,
   "metadata": {
    "ExecuteTime": {
     "end_time": "2020-03-29T14:57:54.796544Z",
     "start_time": "2020-03-29T14:57:54.768Z"
    }
   },
   "outputs": [],
   "source": [
    "data.df <- readRDS(\"data/COVID19_Global_Italy_wGrowth.Rdata\")"
   ]
  },
  {
   "cell_type": "code",
   "execution_count": null,
   "metadata": {
    "ExecuteTime": {
     "end_time": "2020-03-28T20:28:44.464212Z",
     "start_time": "2020-03-28T20:28:44.411Z"
    }
   },
   "outputs": [],
   "source": [
    "head(data.df)"
   ]
  },
  {
   "cell_type": "markdown",
   "metadata": {},
   "source": [
    "## Split data accoring to unique Country-Province Pair"
   ]
  },
  {
   "cell_type": "code",
   "execution_count": 7,
   "metadata": {
    "ExecuteTime": {
     "end_time": "2020-03-29T14:58:06.969317Z",
     "start_time": "2020-03-29T14:58:06.939Z"
    }
   },
   "outputs": [],
   "source": [
    "unique_pairs.df <- unique(data.df[,c(\"Country.Region\",\"Province.State\")])\n",
    "unique_pairs.list <- mapply(c,unique_pairs.df$Country.Region,as.character(unique_pairs.df$Province.State), SIMPLIFY = FALSE)"
   ]
  },
  {
   "cell_type": "code",
   "execution_count": 8,
   "metadata": {
    "ExecuteTime": {
     "end_time": "2020-03-29T14:58:08.129386Z",
     "start_time": "2020-03-29T14:58:07.865Z"
    }
   },
   "outputs": [],
   "source": [
    "split_data.list <- lapply(unique_pairs.list,splitData,data.df)"
   ]
  },
  {
   "cell_type": "code",
   "execution_count": 8,
   "metadata": {
    "ExecuteTime": {
     "end_time": "2020-03-28T20:31:34.283268Z",
     "start_time": "2020-03-28T20:31:29.952Z"
    },
    "scrolled": true
   },
   "outputs": [
    {
     "data": {
      "text/html": [
       "<table>\n",
       "<caption>A data.frame: 6 × 22</caption>\n",
       "<thead>\n",
       "\t<tr><th></th><th scope=col>Province.State</th><th scope=col>Country.Region</th><th scope=col>Lat</th><th scope=col>Long</th><th scope=col>Date</th><th scope=col>Confirmed</th><th scope=col>Recovered</th><th scope=col>Deaths</th><th scope=col>HospitalizedWSymptoms</th><th scope=col>ICU</th><th scope=col>...</th><th scope=col>DailyConfirmed</th><th scope=col>Total</th><th scope=col>Tests</th><th scope=col>Lat.x</th><th scope=col>Long.x</th><th scope=col>Lat.y</th><th scope=col>Long.y</th><th scope=col>ConfirmedGrowthRate</th><th scope=col>RecoveredGrowthRate</th><th scope=col>DeathsGrowthRate</th></tr>\n",
       "\t<tr><th></th><th scope=col>&lt;chr&gt;</th><th scope=col>&lt;chr&gt;</th><th scope=col>&lt;dbl&gt;</th><th scope=col>&lt;dbl&gt;</th><th scope=col>&lt;date&gt;</th><th scope=col>&lt;int&gt;</th><th scope=col>&lt;int&gt;</th><th scope=col>&lt;int&gt;</th><th scope=col>&lt;int&gt;</th><th scope=col>&lt;int&gt;</th><th scope=col>...</th><th scope=col>&lt;int&gt;</th><th scope=col>&lt;int&gt;</th><th scope=col>&lt;int&gt;</th><th scope=col>&lt;dbl&gt;</th><th scope=col>&lt;dbl&gt;</th><th scope=col>&lt;dbl&gt;</th><th scope=col>&lt;dbl&gt;</th><th scope=col>&lt;dbl&gt;</th><th scope=col>&lt;dbl&gt;</th><th scope=col>&lt;dbl&gt;</th></tr>\n",
       "</thead>\n",
       "<tbody>\n",
       "\t<tr><th scope=row>22</th><td></td><td>Afghanistan</td><td>33</td><td>65</td><td>2020-01-22</td><td>0</td><td>0</td><td>0</td><td>NA</td><td>NA</td><td>...</td><td>NA</td><td>NA</td><td>NA</td><td>33</td><td>65</td><td>33</td><td>65</td><td>NaN</td><td>NaN</td><td>NaN</td></tr>\n",
       "\t<tr><th scope=row>23</th><td></td><td>Afghanistan</td><td>33</td><td>65</td><td>2020-01-23</td><td>0</td><td>0</td><td>0</td><td>NA</td><td>NA</td><td>...</td><td>NA</td><td>NA</td><td>NA</td><td>33</td><td>65</td><td>33</td><td>65</td><td>NaN</td><td>NaN</td><td>NaN</td></tr>\n",
       "\t<tr><th scope=row>24</th><td></td><td>Afghanistan</td><td>33</td><td>65</td><td>2020-01-24</td><td>0</td><td>0</td><td>0</td><td>NA</td><td>NA</td><td>...</td><td>NA</td><td>NA</td><td>NA</td><td>33</td><td>65</td><td>33</td><td>65</td><td>NaN</td><td>NaN</td><td>NaN</td></tr>\n",
       "\t<tr><th scope=row>25</th><td></td><td>Afghanistan</td><td>33</td><td>65</td><td>2020-01-25</td><td>0</td><td>0</td><td>0</td><td>NA</td><td>NA</td><td>...</td><td>NA</td><td>NA</td><td>NA</td><td>33</td><td>65</td><td>33</td><td>65</td><td>NaN</td><td>NaN</td><td>NaN</td></tr>\n",
       "\t<tr><th scope=row>26</th><td></td><td>Afghanistan</td><td>33</td><td>65</td><td>2020-01-26</td><td>0</td><td>0</td><td>0</td><td>NA</td><td>NA</td><td>...</td><td>NA</td><td>NA</td><td>NA</td><td>33</td><td>65</td><td>33</td><td>65</td><td>NaN</td><td>NaN</td><td>NaN</td></tr>\n",
       "\t<tr><th scope=row>27</th><td></td><td>Afghanistan</td><td>33</td><td>65</td><td>2020-01-27</td><td>0</td><td>0</td><td>0</td><td>NA</td><td>NA</td><td>...</td><td>NA</td><td>NA</td><td>NA</td><td>33</td><td>65</td><td>33</td><td>65</td><td>NaN</td><td>NaN</td><td>NaN</td></tr>\n",
       "</tbody>\n",
       "</table>\n"
      ],
      "text/latex": [
       "A data.frame: 6 × 22\n",
       "\\begin{tabular}{r|lllllllllllllllllllll}\n",
       "  & Province.State & Country.Region & Lat & Long & Date & Confirmed & Recovered & Deaths & HospitalizedWSymptoms & ICU & ... & DailyConfirmed & Total & Tests & Lat.x & Long.x & Lat.y & Long.y & ConfirmedGrowthRate & RecoveredGrowthRate & DeathsGrowthRate\\\\\n",
       "  & <chr> & <chr> & <dbl> & <dbl> & <date> & <int> & <int> & <int> & <int> & <int> & ... & <int> & <int> & <int> & <dbl> & <dbl> & <dbl> & <dbl> & <dbl> & <dbl> & <dbl>\\\\\n",
       "\\hline\n",
       "\t22 &  & Afghanistan & 33 & 65 & 2020-01-22 & 0 & 0 & 0 & NA & NA & ... & NA & NA & NA & 33 & 65 & 33 & 65 & NaN & NaN & NaN\\\\\n",
       "\t23 &  & Afghanistan & 33 & 65 & 2020-01-23 & 0 & 0 & 0 & NA & NA & ... & NA & NA & NA & 33 & 65 & 33 & 65 & NaN & NaN & NaN\\\\\n",
       "\t24 &  & Afghanistan & 33 & 65 & 2020-01-24 & 0 & 0 & 0 & NA & NA & ... & NA & NA & NA & 33 & 65 & 33 & 65 & NaN & NaN & NaN\\\\\n",
       "\t25 &  & Afghanistan & 33 & 65 & 2020-01-25 & 0 & 0 & 0 & NA & NA & ... & NA & NA & NA & 33 & 65 & 33 & 65 & NaN & NaN & NaN\\\\\n",
       "\t26 &  & Afghanistan & 33 & 65 & 2020-01-26 & 0 & 0 & 0 & NA & NA & ... & NA & NA & NA & 33 & 65 & 33 & 65 & NaN & NaN & NaN\\\\\n",
       "\t27 &  & Afghanistan & 33 & 65 & 2020-01-27 & 0 & 0 & 0 & NA & NA & ... & NA & NA & NA & 33 & 65 & 33 & 65 & NaN & NaN & NaN\\\\\n",
       "\\end{tabular}\n"
      ],
      "text/markdown": [
       "\n",
       "A data.frame: 6 × 22\n",
       "\n",
       "| <!--/--> | Province.State &lt;chr&gt; | Country.Region &lt;chr&gt; | Lat &lt;dbl&gt; | Long &lt;dbl&gt; | Date &lt;date&gt; | Confirmed &lt;int&gt; | Recovered &lt;int&gt; | Deaths &lt;int&gt; | HospitalizedWSymptoms &lt;int&gt; | ICU &lt;int&gt; | ... ... | DailyConfirmed &lt;int&gt; | Total &lt;int&gt; | Tests &lt;int&gt; | Lat.x &lt;dbl&gt; | Long.x &lt;dbl&gt; | Lat.y &lt;dbl&gt; | Long.y &lt;dbl&gt; | ConfirmedGrowthRate &lt;dbl&gt; | RecoveredGrowthRate &lt;dbl&gt; | DeathsGrowthRate &lt;dbl&gt; |\n",
       "|---|---|---|---|---|---|---|---|---|---|---|---|---|---|---|---|---|---|---|---|---|---|\n",
       "| 22 | <!----> | Afghanistan | 33 | 65 | 2020-01-22 | 0 | 0 | 0 | NA | NA | ... | NA | NA | NA | 33 | 65 | 33 | 65 | NaN | NaN | NaN |\n",
       "| 23 | <!----> | Afghanistan | 33 | 65 | 2020-01-23 | 0 | 0 | 0 | NA | NA | ... | NA | NA | NA | 33 | 65 | 33 | 65 | NaN | NaN | NaN |\n",
       "| 24 | <!----> | Afghanistan | 33 | 65 | 2020-01-24 | 0 | 0 | 0 | NA | NA | ... | NA | NA | NA | 33 | 65 | 33 | 65 | NaN | NaN | NaN |\n",
       "| 25 | <!----> | Afghanistan | 33 | 65 | 2020-01-25 | 0 | 0 | 0 | NA | NA | ... | NA | NA | NA | 33 | 65 | 33 | 65 | NaN | NaN | NaN |\n",
       "| 26 | <!----> | Afghanistan | 33 | 65 | 2020-01-26 | 0 | 0 | 0 | NA | NA | ... | NA | NA | NA | 33 | 65 | 33 | 65 | NaN | NaN | NaN |\n",
       "| 27 | <!----> | Afghanistan | 33 | 65 | 2020-01-27 | 0 | 0 | 0 | NA | NA | ... | NA | NA | NA | 33 | 65 | 33 | 65 | NaN | NaN | NaN |\n",
       "\n"
      ],
      "text/plain": [
       "   Province.State Country.Region Lat Long Date       Confirmed Recovered Deaths\n",
       "22                Afghanistan    33  65   2020-01-22 0         0         0     \n",
       "23                Afghanistan    33  65   2020-01-23 0         0         0     \n",
       "24                Afghanistan    33  65   2020-01-24 0         0         0     \n",
       "25                Afghanistan    33  65   2020-01-25 0         0         0     \n",
       "26                Afghanistan    33  65   2020-01-26 0         0         0     \n",
       "27                Afghanistan    33  65   2020-01-27 0         0         0     \n",
       "   HospitalizedWSymptoms ICU ... DailyConfirmed Total Tests Lat.x Long.x Lat.y\n",
       "22 NA                    NA  ... NA             NA    NA    33    65     33   \n",
       "23 NA                    NA  ... NA             NA    NA    33    65     33   \n",
       "24 NA                    NA  ... NA             NA    NA    33    65     33   \n",
       "25 NA                    NA  ... NA             NA    NA    33    65     33   \n",
       "26 NA                    NA  ... NA             NA    NA    33    65     33   \n",
       "27 NA                    NA  ... NA             NA    NA    33    65     33   \n",
       "   Long.y ConfirmedGrowthRate RecoveredGrowthRate DeathsGrowthRate\n",
       "22 65     NaN                 NaN                 NaN             \n",
       "23 65     NaN                 NaN                 NaN             \n",
       "24 65     NaN                 NaN                 NaN             \n",
       "25 65     NaN                 NaN                 NaN             \n",
       "26 65     NaN                 NaN                 NaN             \n",
       "27 65     NaN                 NaN                 NaN             "
      ]
     },
     "metadata": {},
     "output_type": "display_data"
    }
   ],
   "source": [
    "head(split_data.list[[1]])"
   ]
  },
  {
   "cell_type": "markdown",
   "metadata": {},
   "source": [
    "## Create multivariate time series datasets"
   ]
  },
  {
   "cell_type": "markdown",
   "metadata": {},
   "source": [
    "### Confirmed (raw and growth rate)"
   ]
  },
  {
   "cell_type": "code",
   "execution_count": 107,
   "metadata": {
    "ExecuteTime": {
     "end_time": "2020-03-29T16:29:24.717930Z",
     "start_time": "2020-03-29T16:29:24.117Z"
    }
   },
   "outputs": [],
   "source": [
    "confirmed_ts.list <- lapply(split_data.list,function(data.df){zoo(data.df[,c(\"Confirmed\")],order.by=as.Date(data.df$Date))})\n",
    "confirmed_ts.zoo <- Reduce(merge,confirmed_ts.list)\n",
    "colnames(confirmed_ts.zoo) <- lapply(unique_pairs.list,paste,collapse=\"_\")"
   ]
  },
  {
   "cell_type": "code",
   "execution_count": 111,
   "metadata": {
    "ExecuteTime": {
     "end_time": "2020-03-29T16:37:40.718280Z",
     "start_time": "2020-03-29T16:37:37.397Z"
    }
   },
   "outputs": [],
   "source": [
    "confirmed_gr_ts.list <- lapply(split_data.list,function(data.df){zoo(data.df[,c(\"ConfirmedGrowthRate\")],order.by=as.Date(data.df$Date))})\n",
    "confirmed_gr_ts.zoo <- Reduce(merge,confirmed_gr_ts.list)\n",
    "colnames(confirmed_gr_ts.zoo) <- lapply(unique_pairs.list,paste,collapse=\"_\")"
   ]
  },
  {
   "cell_type": "markdown",
   "metadata": {},
   "source": [
    "### Deaths (raw and growth rate)"
   ]
  },
  {
   "cell_type": "code",
   "execution_count": 108,
   "metadata": {
    "ExecuteTime": {
     "end_time": "2020-03-29T16:34:32.177841Z",
     "start_time": "2020-03-29T16:34:31.444Z"
    }
   },
   "outputs": [],
   "source": [
    "deaths_ts.list <- lapply(split_data.list,function(data.df){zoo(data.df[,c(\"Deaths\")],order.by=as.Date(data.df$Date))})\n",
    "deaths_ts.zoo <- Reduce(merge,deaths_ts.list)\n",
    "colnames(deaths_ts.zoo) <- lapply(unique_pairs.list,paste,collapse=\"_\")"
   ]
  },
  {
   "cell_type": "code",
   "execution_count": 110,
   "metadata": {
    "ExecuteTime": {
     "end_time": "2020-03-29T16:37:34.692741Z",
     "start_time": "2020-03-29T16:37:31.669Z"
    }
   },
   "outputs": [],
   "source": [
    "deaths_gr_ts.list <- lapply(split_data.list,function(data.df){zoo(data.df[,c(\"DeathsGrowthRate\")],order.by=as.Date(data.df$Date))})\n",
    "deaths_gr_ts.zoo <- Reduce(merge,deaths_gr_ts.list)\n",
    "colnames(deaths_gr_ts.zoo) <- lapply(unique_pairs.list,paste,collapse=\"_\")"
   ]
  },
  {
   "cell_type": "markdown",
   "metadata": {},
   "source": [
    "### Recovered (raw and growth rate)"
   ]
  },
  {
   "cell_type": "code",
   "execution_count": 109,
   "metadata": {
    "ExecuteTime": {
     "end_time": "2020-03-29T16:37:28.380809Z",
     "start_time": "2020-03-29T16:37:27.714Z"
    }
   },
   "outputs": [],
   "source": [
    "recovered_ts.list <- lapply(split_data.list,function(data.df){zoo(data.df[,c(\"RecoveredGrowthRate\")],order.by=as.Date(data.df$Date))})\n",
    "recovered_ts.zoo <- Reduce(merge,recovered_ts.list)\n",
    "colnames(recovered_ts.zoo) <- lapply(unique_pairs.list,paste,collapse=\"_\")"
   ]
  },
  {
   "cell_type": "code",
   "execution_count": 106,
   "metadata": {
    "ExecuteTime": {
     "end_time": "2020-03-29T16:27:25.262266Z",
     "start_time": "2020-03-29T16:27:22.156Z"
    }
   },
   "outputs": [],
   "source": [
    "recovered_gr_ts.list <- lapply(split_data.list,function(data.df){zoo(data.df[,c(\"RecoveredGrowthRate\")],order.by=as.Date(data.df$Date))})\n",
    "recovered_gr_ts.zoo <- Reduce(merge,recovered_gr_ts.list)\n",
    "colnames(recovered_gr_ts.zoo) <- lapply(unique_pairs.list,paste,collapse=\"_\")"
   ]
  },
  {
   "cell_type": "markdown",
   "metadata": {},
   "source": [
    "## Clustering all the variables"
   ]
  },
  {
   "cell_type": "code",
   "execution_count": 33,
   "metadata": {
    "ExecuteTime": {
     "end_time": "2020-03-29T15:23:11.003156Z",
     "start_time": "2020-03-29T15:23:10.977Z"
    }
   },
   "outputs": [],
   "source": [
    "distance <- \"ACF\"\n",
    "nations_with_missing_values <- which( apply(is.na(confirmed_gr_ts.zoo),2,sum) > 33, arr.ind = T)\n",
    "european_countries <- c(\"Austria\",\"Belgium\",\"Bulgaria\",\"Croatia\",\"Cyprus\",\"Czechia\",\n",
    "                        \"Denmark\",\"Estonia\",\"Finland\",\"Germany\",\"Greece\",\n",
    "                        \"Hungary\",\"Ireland\",\"Italy\",\"Latvia\",\"Lithuania\",\"Luxembourg\",\"Malta\",\n",
    "                        \"Netherlands\",\"Poland\",\"Portugal\",\"Romania\",\"Slovakia\",\"Slovenia\",\"Spain\",\"Sweden\")\n",
    "selected_countries <- c(european_countries)"
   ]
  },
  {
   "cell_type": "markdown",
   "metadata": {},
   "source": [
    "### Imputing missing values"
   ]
  },
  {
   "cell_type": "code",
   "execution_count": 14,
   "metadata": {
    "ExecuteTime": {
     "end_time": "2020-03-29T15:06:46.892045Z",
     "start_time": "2020-03-29T15:06:46.539Z"
    }
   },
   "outputs": [
    {
     "name": "stderr",
     "output_type": "stream",
     "text": [
      "Warning message:\n",
      "\"na.interpolation will replaced by na_interpolation.\n",
      "           Functionality stays the same.\n",
      "           The new function name better fits modern R code style guidelines.\n",
      "           Please adjust your code accordingly.\"\n",
      "Warning message:\n",
      "\"na.interpolation will replaced by na_interpolation.\n",
      "           Functionality stays the same.\n",
      "           The new function name better fits modern R code style guidelines.\n",
      "           Please adjust your code accordingly.\"\n",
      "Warning message:\n",
      "\"na.interpolation will replaced by na_interpolation.\n",
      "           Functionality stays the same.\n",
      "           The new function name better fits modern R code style guidelines.\n",
      "           Please adjust your code accordingly.\"\n",
      "Warning message:\n",
      "\"na.interpolation will replaced by na_interpolation.\n",
      "           Functionality stays the same.\n",
      "           The new function name better fits modern R code style guidelines.\n",
      "           Please adjust your code accordingly.\"\n",
      "Warning message:\n",
      "\"na.interpolation will replaced by na_interpolation.\n",
      "           Functionality stays the same.\n",
      "           The new function name better fits modern R code style guidelines.\n",
      "           Please adjust your code accordingly.\"\n",
      "Warning message:\n",
      "\"na.interpolation will replaced by na_interpolation.\n",
      "           Functionality stays the same.\n",
      "           The new function name better fits modern R code style guidelines.\n",
      "           Please adjust your code accordingly.\"\n",
      "Warning message:\n",
      "\"na.interpolation will replaced by na_interpolation.\n",
      "           Functionality stays the same.\n",
      "           The new function name better fits modern R code style guidelines.\n",
      "           Please adjust your code accordingly.\"\n",
      "Warning message:\n",
      "\"na.interpolation will replaced by na_interpolation.\n",
      "           Functionality stays the same.\n",
      "           The new function name better fits modern R code style guidelines.\n",
      "           Please adjust your code accordingly.\"\n",
      "Warning message:\n",
      "\"na.interpolation will replaced by na_interpolation.\n",
      "           Functionality stays the same.\n",
      "           The new function name better fits modern R code style guidelines.\n",
      "           Please adjust your code accordingly.\"\n",
      "Warning message:\n",
      "\"na.interpolation will replaced by na_interpolation.\n",
      "           Functionality stays the same.\n",
      "           The new function name better fits modern R code style guidelines.\n",
      "           Please adjust your code accordingly.\"\n",
      "Warning message:\n",
      "\"na.interpolation will replaced by na_interpolation.\n",
      "           Functionality stays the same.\n",
      "           The new function name better fits modern R code style guidelines.\n",
      "           Please adjust your code accordingly.\"\n",
      "Warning message:\n",
      "\"na.interpolation will replaced by na_interpolation.\n",
      "           Functionality stays the same.\n",
      "           The new function name better fits modern R code style guidelines.\n",
      "           Please adjust your code accordingly.\"\n",
      "Warning message:\n",
      "\"na.interpolation will replaced by na_interpolation.\n",
      "           Functionality stays the same.\n",
      "           The new function name better fits modern R code style guidelines.\n",
      "           Please adjust your code accordingly.\"\n",
      "Warning message:\n",
      "\"na.interpolation will replaced by na_interpolation.\n",
      "           Functionality stays the same.\n",
      "           The new function name better fits modern R code style guidelines.\n",
      "           Please adjust your code accordingly.\"\n",
      "Warning message:\n",
      "\"na.interpolation will replaced by na_interpolation.\n",
      "           Functionality stays the same.\n",
      "           The new function name better fits modern R code style guidelines.\n",
      "           Please adjust your code accordingly.\"\n",
      "Warning message:\n",
      "\"na.interpolation will replaced by na_interpolation.\n",
      "           Functionality stays the same.\n",
      "           The new function name better fits modern R code style guidelines.\n",
      "           Please adjust your code accordingly.\"\n",
      "Warning message:\n",
      "\"na.interpolation will replaced by na_interpolation.\n",
      "           Functionality stays the same.\n",
      "           The new function name better fits modern R code style guidelines.\n",
      "           Please adjust your code accordingly.\"\n",
      "Warning message:\n",
      "\"na.interpolation will replaced by na_interpolation.\n",
      "           Functionality stays the same.\n",
      "           The new function name better fits modern R code style guidelines.\n",
      "           Please adjust your code accordingly.\"\n",
      "Warning message:\n",
      "\"na.interpolation will replaced by na_interpolation.\n",
      "           Functionality stays the same.\n",
      "           The new function name better fits modern R code style guidelines.\n",
      "           Please adjust your code accordingly.\"\n",
      "Warning message:\n",
      "\"na.interpolation will replaced by na_interpolation.\n",
      "           Functionality stays the same.\n",
      "           The new function name better fits modern R code style guidelines.\n",
      "           Please adjust your code accordingly.\"\n",
      "Warning message:\n",
      "\"na.interpolation will replaced by na_interpolation.\n",
      "           Functionality stays the same.\n",
      "           The new function name better fits modern R code style guidelines.\n",
      "           Please adjust your code accordingly.\"\n",
      "Warning message:\n",
      "\"na.interpolation will replaced by na_interpolation.\n",
      "           Functionality stays the same.\n",
      "           The new function name better fits modern R code style guidelines.\n",
      "           Please adjust your code accordingly.\"\n",
      "Warning message:\n",
      "\"na.interpolation will replaced by na_interpolation.\n",
      "           Functionality stays the same.\n",
      "           The new function name better fits modern R code style guidelines.\n",
      "           Please adjust your code accordingly.\"\n",
      "Warning message:\n",
      "\"na.interpolation will replaced by na_interpolation.\n",
      "           Functionality stays the same.\n",
      "           The new function name better fits modern R code style guidelines.\n",
      "           Please adjust your code accordingly.\"\n",
      "Warning message:\n",
      "\"na.interpolation will replaced by na_interpolation.\n",
      "           Functionality stays the same.\n",
      "           The new function name better fits modern R code style guidelines.\n",
      "           Please adjust your code accordingly.\"\n",
      "Warning message:\n",
      "\"na.interpolation will replaced by na_interpolation.\n",
      "           Functionality stays the same.\n",
      "           The new function name better fits modern R code style guidelines.\n",
      "           Please adjust your code accordingly.\"\n",
      "Warning message:\n",
      "\"na.interpolation will replaced by na_interpolation.\n",
      "           Functionality stays the same.\n",
      "           The new function name better fits modern R code style guidelines.\n",
      "           Please adjust your code accordingly.\"\n",
      "Warning message:\n",
      "\"na.interpolation will replaced by na_interpolation.\n",
      "           Functionality stays the same.\n",
      "           The new function name better fits modern R code style guidelines.\n",
      "           Please adjust your code accordingly.\"\n",
      "Warning message:\n",
      "\"na.interpolation will replaced by na_interpolation.\n",
      "           Functionality stays the same.\n",
      "           The new function name better fits modern R code style guidelines.\n",
      "           Please adjust your code accordingly.\"\n",
      "Warning message:\n",
      "\"na.interpolation will replaced by na_interpolation.\n",
      "           Functionality stays the same.\n",
      "           The new function name better fits modern R code style guidelines.\n",
      "           Please adjust your code accordingly.\"\n",
      "Warning message:\n",
      "\"na.interpolation will replaced by na_interpolation.\n",
      "           Functionality stays the same.\n",
      "           The new function name better fits modern R code style guidelines.\n",
      "           Please adjust your code accordingly.\"\n",
      "Warning message:\n",
      "\"na.interpolation will replaced by na_interpolation.\n",
      "           Functionality stays the same.\n",
      "           The new function name better fits modern R code style guidelines.\n",
      "           Please adjust your code accordingly.\"\n",
      "Warning message:\n",
      "\"na.interpolation will replaced by na_interpolation.\n",
      "           Functionality stays the same.\n",
      "           The new function name better fits modern R code style guidelines.\n",
      "           Please adjust your code accordingly.\"\n",
      "Warning message:\n",
      "\"na.interpolation will replaced by na_interpolation.\n",
      "           Functionality stays the same.\n",
      "           The new function name better fits modern R code style guidelines.\n",
      "           Please adjust your code accordingly.\"\n",
      "Warning message:\n",
      "\"na.interpolation will replaced by na_interpolation.\n",
      "           Functionality stays the same.\n",
      "           The new function name better fits modern R code style guidelines.\n",
      "           Please adjust your code accordingly.\"\n"
     ]
    },
    {
     "name": "stderr",
     "output_type": "stream",
     "text": [
      "Warning message:\n",
      "\"na.interpolation will replaced by na_interpolation.\n",
      "           Functionality stays the same.\n",
      "           The new function name better fits modern R code style guidelines.\n",
      "           Please adjust your code accordingly.\"\n",
      "Warning message:\n",
      "\"na.interpolation will replaced by na_interpolation.\n",
      "           Functionality stays the same.\n",
      "           The new function name better fits modern R code style guidelines.\n",
      "           Please adjust your code accordingly.\"\n",
      "Warning message:\n",
      "\"na.interpolation will replaced by na_interpolation.\n",
      "           Functionality stays the same.\n",
      "           The new function name better fits modern R code style guidelines.\n",
      "           Please adjust your code accordingly.\"\n",
      "Warning message:\n",
      "\"na.interpolation will replaced by na_interpolation.\n",
      "           Functionality stays the same.\n",
      "           The new function name better fits modern R code style guidelines.\n",
      "           Please adjust your code accordingly.\"\n",
      "Warning message:\n",
      "\"na.interpolation will replaced by na_interpolation.\n",
      "           Functionality stays the same.\n",
      "           The new function name better fits modern R code style guidelines.\n",
      "           Please adjust your code accordingly.\"\n",
      "Warning message:\n",
      "\"na.interpolation will replaced by na_interpolation.\n",
      "           Functionality stays the same.\n",
      "           The new function name better fits modern R code style guidelines.\n",
      "           Please adjust your code accordingly.\"\n",
      "Warning message:\n",
      "\"na.interpolation will replaced by na_interpolation.\n",
      "           Functionality stays the same.\n",
      "           The new function name better fits modern R code style guidelines.\n",
      "           Please adjust your code accordingly.\"\n",
      "Warning message:\n",
      "\"na.interpolation will replaced by na_interpolation.\n",
      "           Functionality stays the same.\n",
      "           The new function name better fits modern R code style guidelines.\n",
      "           Please adjust your code accordingly.\"\n",
      "Warning message:\n",
      "\"na.interpolation will replaced by na_interpolation.\n",
      "           Functionality stays the same.\n",
      "           The new function name better fits modern R code style guidelines.\n",
      "           Please adjust your code accordingly.\"\n",
      "Warning message:\n",
      "\"na.interpolation will replaced by na_interpolation.\n",
      "           Functionality stays the same.\n",
      "           The new function name better fits modern R code style guidelines.\n",
      "           Please adjust your code accordingly.\"\n",
      "Warning message:\n",
      "\"na.interpolation will replaced by na_interpolation.\n",
      "           Functionality stays the same.\n",
      "           The new function name better fits modern R code style guidelines.\n",
      "           Please adjust your code accordingly.\"\n",
      "Warning message:\n",
      "\"na.interpolation will replaced by na_interpolation.\n",
      "           Functionality stays the same.\n",
      "           The new function name better fits modern R code style guidelines.\n",
      "           Please adjust your code accordingly.\"\n",
      "Warning message:\n",
      "\"na.interpolation will replaced by na_interpolation.\n",
      "           Functionality stays the same.\n",
      "           The new function name better fits modern R code style guidelines.\n",
      "           Please adjust your code accordingly.\"\n",
      "Warning message:\n",
      "\"na.interpolation will replaced by na_interpolation.\n",
      "           Functionality stays the same.\n",
      "           The new function name better fits modern R code style guidelines.\n",
      "           Please adjust your code accordingly.\"\n",
      "Warning message:\n",
      "\"na.interpolation will replaced by na_interpolation.\n",
      "           Functionality stays the same.\n",
      "           The new function name better fits modern R code style guidelines.\n",
      "           Please adjust your code accordingly.\"\n",
      "Warning message:\n",
      "\"na.interpolation will replaced by na_interpolation.\n",
      "           Functionality stays the same.\n",
      "           The new function name better fits modern R code style guidelines.\n",
      "           Please adjust your code accordingly.\"\n",
      "Warning message:\n",
      "\"na.interpolation will replaced by na_interpolation.\n",
      "           Functionality stays the same.\n",
      "           The new function name better fits modern R code style guidelines.\n",
      "           Please adjust your code accordingly.\"\n",
      "Warning message:\n",
      "\"na.interpolation will replaced by na_interpolation.\n",
      "           Functionality stays the same.\n",
      "           The new function name better fits modern R code style guidelines.\n",
      "           Please adjust your code accordingly.\"\n",
      "Warning message:\n",
      "\"na.interpolation will replaced by na_interpolation.\n",
      "           Functionality stays the same.\n",
      "           The new function name better fits modern R code style guidelines.\n",
      "           Please adjust your code accordingly.\"\n",
      "Warning message:\n",
      "\"na.interpolation will replaced by na_interpolation.\n",
      "           Functionality stays the same.\n",
      "           The new function name better fits modern R code style guidelines.\n",
      "           Please adjust your code accordingly.\"\n",
      "Warning message:\n",
      "\"na.interpolation will replaced by na_interpolation.\n",
      "           Functionality stays the same.\n",
      "           The new function name better fits modern R code style guidelines.\n",
      "           Please adjust your code accordingly.\"\n",
      "Warning message:\n",
      "\"na.interpolation will replaced by na_interpolation.\n",
      "           Functionality stays the same.\n",
      "           The new function name better fits modern R code style guidelines.\n",
      "           Please adjust your code accordingly.\"\n",
      "Warning message:\n",
      "\"na.interpolation will replaced by na_interpolation.\n",
      "           Functionality stays the same.\n",
      "           The new function name better fits modern R code style guidelines.\n",
      "           Please adjust your code accordingly.\"\n",
      "Warning message:\n",
      "\"na.interpolation will replaced by na_interpolation.\n",
      "           Functionality stays the same.\n",
      "           The new function name better fits modern R code style guidelines.\n",
      "           Please adjust your code accordingly.\"\n",
      "Warning message:\n",
      "\"na.interpolation will replaced by na_interpolation.\n",
      "           Functionality stays the same.\n",
      "           The new function name better fits modern R code style guidelines.\n",
      "           Please adjust your code accordingly.\"\n",
      "Warning message:\n",
      "\"na.interpolation will replaced by na_interpolation.\n",
      "           Functionality stays the same.\n",
      "           The new function name better fits modern R code style guidelines.\n",
      "           Please adjust your code accordingly.\"\n",
      "Warning message:\n",
      "\"na.interpolation will replaced by na_interpolation.\n",
      "           Functionality stays the same.\n",
      "           The new function name better fits modern R code style guidelines.\n",
      "           Please adjust your code accordingly.\"\n",
      "Warning message:\n",
      "\"na.interpolation will replaced by na_interpolation.\n",
      "           Functionality stays the same.\n",
      "           The new function name better fits modern R code style guidelines.\n",
      "           Please adjust your code accordingly.\"\n",
      "Warning message:\n",
      "\"na.interpolation will replaced by na_interpolation.\n",
      "           Functionality stays the same.\n",
      "           The new function name better fits modern R code style guidelines.\n",
      "           Please adjust your code accordingly.\"\n",
      "Warning message:\n",
      "\"na.interpolation will replaced by na_interpolation.\n",
      "           Functionality stays the same.\n",
      "           The new function name better fits modern R code style guidelines.\n",
      "           Please adjust your code accordingly.\"\n"
     ]
    }
   ],
   "source": [
    "confirmed_gr_ts_imputed.zoo <- apply(confirmed_gr_ts.zoo[,-c(nations_with_missing_values)],2,na.interpolation)"
   ]
  },
  {
   "cell_type": "markdown",
   "metadata": {},
   "source": [
    "### Computing distance matrix"
   ]
  },
  {
   "cell_type": "code",
   "execution_count": 104,
   "metadata": {
    "ExecuteTime": {
     "end_time": "2020-03-29T16:20:37.403118Z",
     "start_time": "2020-03-29T16:20:35.771Z"
    }
   },
   "outputs": [
    {
     "data": {
      "image/png": "[encoded data removed]",
      "text/plain": [
       "plot without title"
      ]
     },
     "metadata": {
      "image/png": {
       "height": 420,
       "width": 420
      },
      "text/plain": {
       "height": 420,
       "width": 420
      }
     },
     "output_type": "display_data"
    }
   ],
   "source": [
    "confirmed_gr_distance_matrix <- diss(data.frame(confirmed_gr_ts_imputed.zoo),distance) # distance matrix\n",
    "confirmed_gr_distance_matrix[is.na(confirmed_gr_distance_matrix)] <- max(confirmed_gr_distance_matrix,na.rm = T) + 1\n",
    "\n",
    "ggplot(melt(as.matrix(confirmed_gr_distance_matrix))) +\n",
    "    geom_tile(aes(x=X1,y=X2,fill=value)) +\n",
    "    theme(legend.position = 'bottom',\n",
    "         axis.text.x = element_text(angle=45))"
   ]
  },
  {
   "cell_type": "markdown",
   "metadata": {},
   "source": [
    "### Performing hierarchical clustering"
   ]
  },
  {
   "cell_type": "code",
   "execution_count": 58,
   "metadata": {
    "ExecuteTime": {
     "end_time": "2020-03-28T21:07:18.101480Z",
     "start_time": "2020-03-28T21:07:17.780Z"
    }
   },
   "outputs": [
    {
     "data": {
      "image/png": "[encoded data removed]",
      "text/plain": [
       "Plot with title \"Cluster Dendrogram\""
      ]
     },
     "metadata": {
      "image/png": {
       "height": 420,
       "width": 420
      },
      "text/plain": {
       "height": 420,
       "width": 420
      }
     },
     "output_type": "display_data"
    }
   ],
   "source": [
    "confirmed_hclust <- hclust(confirmed_distance_matrix, method=\"ward.D\")\n",
    "plot(confirmed_hclust)"
   ]
  },
  {
   "cell_type": "markdown",
   "metadata": {},
   "source": [
    "## Clustering only selected variables and pre-post analysis"
   ]
  },
  {
   "cell_type": "markdown",
   "metadata": {},
   "source": [
    "### Filter only required columns"
   ]
  },
  {
   "cell_type": "code",
   "execution_count": 121,
   "metadata": {
    "ExecuteTime": {
     "end_time": "2020-03-29T16:44:50.367664Z",
     "start_time": "2020-03-29T16:44:50.338Z"
    }
   },
   "outputs": [],
   "source": [
    "selected_multivariate_ts.zoo <- confirmed_ts.zoo[,grepl(paste0(european_countries,sep=\"_$\",collapse=\"|\"),\n",
    "                                                              colnames(confirmed_gr_ts.zoo))]"
   ]
  },
  {
   "cell_type": "code",
   "execution_count": 122,
   "metadata": {
    "ExecuteTime": {
     "end_time": "2020-03-29T16:44:57.277934Z",
     "start_time": "2020-03-29T16:44:51.636Z"
    }
   },
   "outputs": [
    {
     "name": "stderr",
     "output_type": "stream",
     "text": [
      "Warning message:\n",
      "\"Removed 26 row(s) containing missing values (geom_path).\"\n"
     ]
    },
    {
     "data": {
      "image/png": "[encoded data removed]",
      "text/plain": [
       "plot without title"
      ]
     },
     "metadata": {
      "image/png": {
       "height": 420,
       "width": 420
      },
      "text/plain": {
       "height": 420,
       "width": 420
      }
     },
     "output_type": "display_data"
    }
   ],
   "source": [
    "ggplot(fortify(selected_multivariate_ts.zoo,melt=T),aes(x=Index,y=Value,color=Series)) +\n",
    "    geom_line() +\n",
    "    scale_x_date(labels = date_format(\"%m/%d\"),\n",
    "                 breaks=date_breaks(\"days\")) +\n",
    "    labs(y=\"Confirmed Growth Rate\",x=\"Time\",title=\"European Countries\") + \n",
    "    theme(legend.position = 'bottom',\n",
    "         axis.text.x = element_text(angle=45))"
   ]
  },
  {
   "cell_type": "markdown",
   "metadata": {},
   "source": [
    "### Remove meaningless rows"
   ]
  },
  {
   "cell_type": "code",
   "execution_count": 123,
   "metadata": {
    "ExecuteTime": {
     "end_time": "2020-03-29T16:45:02.739026Z",
     "start_time": "2020-03-29T16:44:59.232Z"
    }
   },
   "outputs": [],
   "source": [
    "splitting_index <- which(index(selected_multivariate_ts.zoo) == as.Date(\"2020-02-29\"),arr.ind=T)\n",
    "selected_multivariate_ts.zoo <- selected_multivariate_ts.zoo[splitting_index:nrow(selected_multivariate_ts.zoo),]"
   ]
  },
  {
   "cell_type": "code",
   "execution_count": 125,
   "metadata": {
    "ExecuteTime": {
     "end_time": "2020-03-29T16:45:21.478078Z",
     "start_time": "2020-03-29T16:45:21.457Z"
    }
   },
   "outputs": [],
   "source": [
    "selected_multivariate_ts.zoo[which(!is.finite(selected_multivariate_ts.zoo))] <- 0"
   ]
  },
  {
   "cell_type": "code",
   "execution_count": 126,
   "metadata": {
    "ExecuteTime": {
     "end_time": "2020-03-29T16:45:27.837647Z",
     "start_time": "2020-03-29T16:45:22.814Z"
    }
   },
   "outputs": [
    {
     "data": {
      "image/png": "[encoded data removed]",
      "text/plain": [
       "plot without title"
      ]
     },
     "metadata": {
      "image/png": {
       "height": 420,
       "width": 420
      },
      "text/plain": {
       "height": 420,
       "width": 420
      }
     },
     "output_type": "display_data"
    }
   ],
   "source": [
    "ggplot(fortify(selected_multivariate_ts.zoo,melt=T),aes(x=Index,y=Value,color=Series)) +\n",
    "    geom_line() +\n",
    "    scale_x_date(labels = date_format(\"%m/%d\"),\n",
    "                 breaks=date_breaks(\"days\")) +\n",
    "    labs(y=\"Confirmed Growth Rate\",x=\"Time\",title=\"European Countries\") + \n",
    "    theme(legend.position = 'bottom',\n",
    "         axis.text.x = element_text(angle=45))"
   ]
  },
  {
   "cell_type": "markdown",
   "metadata": {},
   "source": [
    "### Impute missing data"
   ]
  },
  {
   "cell_type": "code",
   "execution_count": 127,
   "metadata": {
    "ExecuteTime": {
     "end_time": "2020-03-29T16:45:41.137720Z",
     "start_time": "2020-03-29T16:45:41.114Z"
    }
   },
   "outputs": [],
   "source": [
    "selected_multivariate_imputed_ts.zoo <- apply(selected_multivariate_ts.zoo,2,na_interpolation)"
   ]
  },
  {
   "cell_type": "markdown",
   "metadata": {},
   "source": [
    "### Compute distance matrix"
   ]
  },
  {
   "cell_type": "code",
   "execution_count": 129,
   "metadata": {
    "ExecuteTime": {
     "end_time": "2020-03-29T16:46:00.438023Z",
     "start_time": "2020-03-29T16:45:59.874Z"
    }
   },
   "outputs": [
    {
     "data": {
      "image/png": "[encoded data removed]",
      "text/plain": [
       "plot without title"
      ]
     },
     "metadata": {
      "image/png": {
       "height": 420,
       "width": 420
      },
      "text/plain": {
       "height": 420,
       "width": 420
      }
     },
     "output_type": "display_data"
    }
   ],
   "source": [
    "selected_multivariate_ts_dm <- diss(data.frame(selected_multivariate_imputed_ts.zoo),\"ACF\") # distance matrix\n",
    "selected_multivariate_ts_dm[is.na(selected_multivariate_ts_dm)] <- max(selected_multivariate_ts_dm,na.rm = T) + 1\n",
    "\n",
    "ggplot(melt(as.matrix(selected_multivariate_ts_dm))) +\n",
    "    geom_tile(aes(x=X1,y=X2,fill=value)) +\n",
    "    scale_fill_gradient(low=\"green\", high=\"red\") +\n",
    "    theme(legend.position = 'bottom',\n",
    "         axis.text.x = element_text(angle=45))"
   ]
  },
  {
   "cell_type": "code",
   "execution_count": 130,
   "metadata": {
    "ExecuteTime": {
     "end_time": "2020-03-29T16:46:06.637974Z",
     "start_time": "2020-03-29T16:46:02.389Z"
    }
   },
   "outputs": [
    {
     "data": {
      "image/png": "[encoded data removed]",
      "text/plain": [
       "Plot with title \"Cluster Dendrogram\""
      ]
     },
     "metadata": {
      "image/png": {
       "height": 420,
       "width": 420
      },
      "text/plain": {
       "height": 420,
       "width": 420
      }
     },
     "output_type": "display_data"
    }
   ],
   "source": [
    "selected_multivariate_ts <- hclust(selected_multivariate_ts_dm, method=\"ward.D\")\n",
    "plot(selected_multivariate_ts)"
   ]
  },
  {
   "cell_type": "markdown",
   "metadata": {},
   "source": [
    "### Split data into pre-lockdown and post lockdown"
   ]
  },
  {
   "cell_type": "code",
   "execution_count": 99,
   "metadata": {
    "ExecuteTime": {
     "end_time": "2020-03-28T21:47:52.799753Z",
     "start_time": "2020-03-28T21:47:52.769Z"
    }
   },
   "outputs": [],
   "source": [
    "splitting_index <- which(rownames(selected_confirmed_ts_imputed.zoo) == as.Date(\"2020-03-10\"),arr.ind=T)"
   ]
  },
  {
   "cell_type": "code",
   "execution_count": 101,
   "metadata": {
    "ExecuteTime": {
     "end_time": "2020-03-28T21:49:28.651615Z",
     "start_time": "2020-03-28T21:49:28.622Z"
    }
   },
   "outputs": [],
   "source": [
    "pre_lockdown_imputed.zoo <- selected_confirmed_ts_imputed.zoo[1:splitting_index,]\n",
    "post_lockdown_imputed.zoo <- selected_confirmed_ts_imputed.zoo[splitting_index:nrow(selected_confirmed_ts_imputed.zoo),]"
   ]
  },
  {
   "cell_type": "markdown",
   "metadata": {
    "ExecuteTime": {
     "end_time": "2020-03-28T21:49:52.540730Z",
     "start_time": "2020-03-28T21:49:52.510Z"
    }
   },
   "source": [
    "### Computing distance matrices"
   ]
  },
  {
   "cell_type": "code",
   "execution_count": 106,
   "metadata": {
    "ExecuteTime": {
     "end_time": "2020-03-28T21:53:17.346366Z",
     "start_time": "2020-03-28T21:53:17.152Z"
    }
   },
   "outputs": [],
   "source": [
    "pre_lockdown_dm <- diss(data.frame(pre_lockdown_imputed.zoo),distance) # distance matrix\n",
    "pre_lockdown_dm[is.na(pre_lockdown_dm)] <- max(pre_lockdown_dm,na.rm = T) + 1"
   ]
  },
  {
   "cell_type": "code",
   "execution_count": 107,
   "metadata": {
    "ExecuteTime": {
     "end_time": "2020-03-28T21:53:26.045634Z",
     "start_time": "2020-03-28T21:53:18.846Z"
    }
   },
   "outputs": [],
   "source": [
    "post_lockdown_dm <- diss(data.frame(post_lockdown_imputed.zoo),distance) # distance matrix\n",
    "post_lockdown_dm[is.na(post_lockdown_dm)] <- max(post_lockdown_dm,na.rm = T) + 1"
   ]
  },
  {
   "cell_type": "code",
   "execution_count": 108,
   "metadata": {
    "ExecuteTime": {
     "end_time": "2020-03-28T21:54:29.791491Z",
     "start_time": "2020-03-28T21:54:28.985Z"
    }
   },
   "outputs": [
    {
     "data": {
      "image/png": "[encoded data removed]",
      "text/plain": [
       "plot without title"
      ]
     },
     "metadata": {
      "image/png": {
       "height": 420,
       "width": 420
      },
      "text/plain": {
       "height": 420,
       "width": 420
      }
     },
     "output_type": "display_data"
    }
   ],
   "source": [
    "pre_dm.plot <- ggplot(melt(as.matrix(pre_lockdown_dm),value.name = value)) +\n",
    "    geom_tile(aes(x=X1,y=X2,color=value))\n",
    "post_dm.plot <- ggplot(melt(as.matrix(post_lockdown_dm),value.name = value)) +\n",
    "    geom_tile(aes(x=X1,y=X2,color=value))\n",
    "grid.arrange(pre_dm.plot, post_dm.plot, ncol=2)\n"
   ]
  },
  {
   "cell_type": "code",
   "execution_count": 110,
   "metadata": {
    "ExecuteTime": {
     "end_time": "2020-03-28T21:57:28.606823Z",
     "start_time": "2020-03-28T21:57:23.338Z"
    }
   },
   "outputs": [],
   "source": [
    "pre_hclust <- hclust(pre_lockdown_dm, method=\"ward.D\")"
   ]
  },
  {
   "cell_type": "code",
   "execution_count": 111,
   "metadata": {
    "ExecuteTime": {
     "end_time": "2020-03-28T21:57:36.453839Z",
     "start_time": "2020-03-28T21:57:33.516Z"
    }
   },
   "outputs": [],
   "source": [
    "post_hclust <- hclust(post_lockdown_dm, method=\"ward.D\")"
   ]
  },
  {
   "cell_type": "code",
   "execution_count": 113,
   "metadata": {
    "ExecuteTime": {
     "end_time": "2020-03-28T21:59:45.989531Z",
     "start_time": "2020-03-28T21:59:45.530Z"
    }
   },
   "outputs": [
    {
     "data": {
      "image/png": "[encoded data removed]",
      "text/plain": [
       "Plot with title \"Cluster Dendrogram\""
      ]
     },
     "metadata": {
      "image/png": {
       "height": 420,
       "width": 420
      },
      "text/plain": {
       "height": 420,
       "width": 420
      }
     },
     "output_type": "display_data"
    }
   ],
   "source": [
    "par(mfrow=c(1,2))\n",
    "plot(pre_hclust)\n",
    "plot(post_hclust)"
   ]
  },
  {
   "cell_type": "markdown",
   "metadata": {},
   "source": [
    "## Sanity checks"
   ]
  },
  {
   "cell_type": "markdown",
   "metadata": {},
   "source": [
    "## Save data"
   ]
  }
 ],
 "metadata": {
  "kernelspec": {
   "display_name": "R",
   "language": "R",
   "name": "ir"
  },
  "language_info": {
   "codemirror_mode": "r",
   "file_extension": ".r",
   "mimetype": "text/x-r-source",
   "name": "R",
   "pygments_lexer": "r",
   "version": "3.6.2"
  },
  "latex_envs": {
   "LaTeX_envs_menu_present": true,
   "autoclose": false,
   "autocomplete": true,
   "bibliofile": "biblio.bib",
   "cite_by": "apalike",
   "current_citInitial": 1,
   "eqLabelWithNumbers": true,
   "eqNumInitial": 1,
   "hotkeys": {
    "equation": "Ctrl-E",
    "itemize": "Ctrl-I"
   },
   "labels_anchors": false,
   "latex_user_defs": false,
   "report_style_numbering": false,
   "user_envs_cfg": false
  },
  "toc": {
   "base_numbering": 1,
   "nav_menu": {},
   "number_sections": true,
   "sideBar": true,
   "skip_h1_title": false,
   "title_cell": "Table of Contents",
   "title_sidebar": "Contents",
   "toc_cell": false,
   "toc_position": {},
   "toc_section_display": true,
   "toc_window_display": false
  },
  "varInspector": {
   "cols": {
    "lenName": 16,
    "lenType": 16,
    "lenVar": 40
   },
   "kernels_config": {
    "python": {
     "delete_cmd_postfix": "",
     "delete_cmd_prefix": "del ",
     "library": "var_list.py",
     "varRefreshCmd": "print(var_dic_list())"
    },
    "r": {
     "delete_cmd_postfix": ") ",
     "delete_cmd_prefix": "rm(",
     "library": "var_list.r",
     "varRefreshCmd": "cat(var_dic_list()) "
    }
   },
   "types_to_exclude": [
    "module",
    "function",
    "builtin_function_or_method",
    "instance",
    "_Feature"
   ],
   "window_display": false
  }
 },
 "nbformat": 4,
 "nbformat_minor": 2
}
