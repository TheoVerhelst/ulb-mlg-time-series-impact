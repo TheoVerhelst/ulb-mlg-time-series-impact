{
 "cells": [
  {
   "cell_type": "markdown",
   "metadata": {},
   "source": [
    "# Preprocess Raw Data"
   ]
  },
  {
   "cell_type": "code",
   "execution_count": 1,
   "metadata": {
    "ExecuteTime": {
     "end_time": "2020-03-28T20:40:50.406905Z",
     "start_time": "2020-03-28T20:40:50.379Z"
    }
   },
   "outputs": [
    {
     "name": "stderr",
     "output_type": "stream",
     "text": [
      "\n",
      "Attaching package: ‘plyr’\n",
      "\n",
      "\n",
      "The following objects are masked from ‘package:reshape’:\n",
      "\n",
      "    rename, round_any\n",
      "\n",
      "\n"
     ]
    }
   ],
   "source": [
    "library(reshape)\n",
    "library(plyr)"
   ]
  },
  {
   "cell_type": "code",
   "execution_count": 2,
   "metadata": {
    "ExecuteTime": {
     "end_time": "2020-03-28T20:40:50.437817Z",
     "start_time": "2020-03-28T20:40:50.385Z"
    }
   },
   "outputs": [],
   "source": [
    "horizontaldf2verticaldf <- function(horizontal.df,value_column_name){\n",
    "    colnames(horizontal.df) <- c(c(\"Province.State\",\"Country.Region\",\"Lat\",\"Long\"),seq(as.Date(\"2020-01-22\"), length = ncol(global_recovered.df)-4, by = \"days\"))\n",
    "    vertical.df <- melt(horizontal.df,\n",
    "             id=c(\"Province.State\",\"Country.Region\",\"Lat\",\"Long\"))\n",
    "    colnames(vertical.df) <- c(c(\"Province.State\",\"Country.Region\",\"Lat\",\"Long\"),\"Date\",value_column_name)\n",
    "    vertical.df$Date <- as.Date(as.integer(vertical.df$Date),origin=\"21/01/2020\", format=\"%d/%m/%Y\")\n",
    "    return(vertical.df)\n",
    "}"
   ]
  },
  {
   "cell_type": "code",
   "execution_count": 3,
   "metadata": {
    "ExecuteTime": {
     "end_time": "2020-03-28T20:40:50.466739Z",
     "start_time": "2020-03-28T20:40:50.389Z"
    }
   },
   "outputs": [],
   "source": [
    "# Given a dataframe df of data and a list of country / province pairs,\n",
    "# this functions adds a row to df for each element of pairs not present in df.\n",
    "# This is used because we have regional data for deaths and confirmed cases,\n",
    "# but not for recovery in some countries, and thus the merge discard these countries\n",
    "add_missing_rows <- function(df, pairs, value_column_name) {\n",
    "    for (i in nrow(pairs)) {\n",
    "        confirmed_row <- df[(df$Country.Region == pairs[i, \"Country.Region\"]) &\n",
    "                            (df$Province.State == pairs[i, \"Province.State\"]),]\n",
    "        if (nrow(confirmed_row) == 0) {\n",
    "            new_row <- df[df$Country.Region == pairs[i, \"Country.Region\"],][1,]\n",
    "            new_row[,value_column_name] <- NA\n",
    "            new_row[,\"Province.State\"] <- pairs[i, \"Province.State\"]\n",
    "            df <- rbind(df, new_row)\n",
    "        }\n",
    "    }\n",
    "    return(df)\n",
    "}"
   ]
  },
  {
   "cell_type": "markdown",
   "metadata": {},
   "source": [
    "## Read data"
   ]
  },
  {
   "cell_type": "code",
   "execution_count": 36,
   "metadata": {
    "ExecuteTime": {
     "end_time": "2020-03-28T20:40:50.500653Z",
     "start_time": "2020-03-28T20:40:50.444Z"
    }
   },
   "outputs": [],
   "source": [
    "italy.df <- read.csv(\"data/Italy/dpc-covid19-ita-regioni.csv\")"
   ]
  },
  {
   "cell_type": "code",
   "execution_count": 37,
   "metadata": {
    "ExecuteTime": {
     "end_time": "2020-03-28T20:40:50.565474Z",
     "start_time": "2020-03-28T20:40:50.449Z"
    }
   },
   "outputs": [],
   "source": [
    "global_confirmed.df <- read.csv(\"data/Global_JohnsHopkins/time_series_covid19_confirmed_global.csv\")\n",
    "global_deaths.df <- read.csv(\"data/Global_JohnsHopkins/time_series_covid19_deaths_global.csv\")\n",
    "global_recovered.df <- read.csv(\"data/Global_JohnsHopkins/time_series_covid19_recovered_global.csv\")"
   ]
  },
  {
   "cell_type": "markdown",
   "metadata": {},
   "source": [
    "## Check data structure"
   ]
  },
  {
   "cell_type": "code",
   "execution_count": 38,
   "metadata": {
    "ExecuteTime": {
     "end_time": "2020-03-28T20:40:50.616351Z",
     "start_time": "2020-03-28T20:40:50.507Z"
    }
   },
   "outputs": [
    {
     "data": {
      "text/html": [
       "<table>\n",
       "<caption>A data.frame: 6 × 18</caption>\n",
       "<thead>\n",
       "\t<tr><th></th><th scope=col>data</th><th scope=col>stato</th><th scope=col>codice_regione</th><th scope=col>denominazione_regione</th><th scope=col>lat</th><th scope=col>long</th><th scope=col>ricoverati_con_sintomi</th><th scope=col>terapia_intensiva</th><th scope=col>totale_ospedalizzati</th><th scope=col>isolamento_domiciliare</th><th scope=col>totale_attualmente_positivi</th><th scope=col>nuovi_attualmente_positivi</th><th scope=col>dimessi_guariti</th><th scope=col>deceduti</th><th scope=col>totale_casi</th><th scope=col>tamponi</th><th scope=col>note_it</th><th scope=col>note_en</th></tr>\n",
       "\t<tr><th></th><th scope=col>&lt;fct&gt;</th><th scope=col>&lt;fct&gt;</th><th scope=col>&lt;int&gt;</th><th scope=col>&lt;fct&gt;</th><th scope=col>&lt;dbl&gt;</th><th scope=col>&lt;dbl&gt;</th><th scope=col>&lt;int&gt;</th><th scope=col>&lt;int&gt;</th><th scope=col>&lt;int&gt;</th><th scope=col>&lt;int&gt;</th><th scope=col>&lt;int&gt;</th><th scope=col>&lt;int&gt;</th><th scope=col>&lt;int&gt;</th><th scope=col>&lt;int&gt;</th><th scope=col>&lt;int&gt;</th><th scope=col>&lt;int&gt;</th><th scope=col>&lt;fct&gt;</th><th scope=col>&lt;fct&gt;</th></tr>\n",
       "</thead>\n",
       "<tbody>\n",
       "\t<tr><th scope=row>1</th><td>2020-02-24T18:00:00</td><td>ITA</td><td>13</td><td>Abruzzo       </td><td>42.35122</td><td>13.39844</td><td> 0</td><td>0</td><td> 0</td><td>0</td><td> 0</td><td> 0</td><td>0</td><td>0</td><td> 0</td><td>  5</td><td></td><td></td></tr>\n",
       "\t<tr><th scope=row>2</th><td>2020-02-24T18:00:00</td><td>ITA</td><td>17</td><td>Basilicata    </td><td>40.63947</td><td>15.80515</td><td> 0</td><td>0</td><td> 0</td><td>0</td><td> 0</td><td> 0</td><td>0</td><td>0</td><td> 0</td><td>  0</td><td></td><td></td></tr>\n",
       "\t<tr><th scope=row>3</th><td>2020-02-24T18:00:00</td><td>ITA</td><td> 4</td><td>P.A. Bolzano  </td><td>46.49933</td><td>11.35662</td><td> 0</td><td>0</td><td> 0</td><td>0</td><td> 0</td><td> 0</td><td>0</td><td>0</td><td> 0</td><td>  1</td><td></td><td></td></tr>\n",
       "\t<tr><th scope=row>4</th><td>2020-02-24T18:00:00</td><td>ITA</td><td>18</td><td>Calabria      </td><td>38.90598</td><td>16.59440</td><td> 0</td><td>0</td><td> 0</td><td>0</td><td> 0</td><td> 0</td><td>0</td><td>0</td><td> 0</td><td>  1</td><td></td><td></td></tr>\n",
       "\t<tr><th scope=row>5</th><td>2020-02-24T18:00:00</td><td>ITA</td><td>15</td><td>Campania      </td><td>40.83957</td><td>14.25085</td><td> 0</td><td>0</td><td> 0</td><td>0</td><td> 0</td><td> 0</td><td>0</td><td>0</td><td> 0</td><td> 10</td><td></td><td></td></tr>\n",
       "\t<tr><th scope=row>6</th><td>2020-02-24T18:00:00</td><td>ITA</td><td> 8</td><td>Emilia Romagna</td><td>44.49437</td><td>11.34172</td><td>10</td><td>2</td><td>12</td><td>6</td><td>18</td><td>18</td><td>0</td><td>0</td><td>18</td><td>148</td><td></td><td></td></tr>\n",
       "</tbody>\n",
       "</table>\n"
      ],
      "text/latex": [
       "A data.frame: 6 × 18\n",
       "\\begin{tabular}{r|llllllllllllllllll}\n",
       "  & data & stato & codice\\_regione & denominazione\\_regione & lat & long & ricoverati\\_con\\_sintomi & terapia\\_intensiva & totale\\_ospedalizzati & isolamento\\_domiciliare & totale\\_attualmente\\_positivi & nuovi\\_attualmente\\_positivi & dimessi\\_guariti & deceduti & totale\\_casi & tamponi & note\\_it & note\\_en\\\\\n",
       "  & <fct> & <fct> & <int> & <fct> & <dbl> & <dbl> & <int> & <int> & <int> & <int> & <int> & <int> & <int> & <int> & <int> & <int> & <fct> & <fct>\\\\\n",
       "\\hline\n",
       "\t1 & 2020-02-24T18:00:00 & ITA & 13 & Abruzzo        & 42.35122 & 13.39844 &  0 & 0 &  0 & 0 &  0 &  0 & 0 & 0 &  0 &   5 &  & \\\\\n",
       "\t2 & 2020-02-24T18:00:00 & ITA & 17 & Basilicata     & 40.63947 & 15.80515 &  0 & 0 &  0 & 0 &  0 &  0 & 0 & 0 &  0 &   0 &  & \\\\\n",
       "\t3 & 2020-02-24T18:00:00 & ITA &  4 & P.A. Bolzano   & 46.49933 & 11.35662 &  0 & 0 &  0 & 0 &  0 &  0 & 0 & 0 &  0 &   1 &  & \\\\\n",
       "\t4 & 2020-02-24T18:00:00 & ITA & 18 & Calabria       & 38.90598 & 16.59440 &  0 & 0 &  0 & 0 &  0 &  0 & 0 & 0 &  0 &   1 &  & \\\\\n",
       "\t5 & 2020-02-24T18:00:00 & ITA & 15 & Campania       & 40.83957 & 14.25085 &  0 & 0 &  0 & 0 &  0 &  0 & 0 & 0 &  0 &  10 &  & \\\\\n",
       "\t6 & 2020-02-24T18:00:00 & ITA &  8 & Emilia Romagna & 44.49437 & 11.34172 & 10 & 2 & 12 & 6 & 18 & 18 & 0 & 0 & 18 & 148 &  & \\\\\n",
       "\\end{tabular}\n"
      ],
      "text/markdown": [
       "\n",
       "A data.frame: 6 × 18\n",
       "\n",
       "| <!--/--> | data &lt;fct&gt; | stato &lt;fct&gt; | codice_regione &lt;int&gt; | denominazione_regione &lt;fct&gt; | lat &lt;dbl&gt; | long &lt;dbl&gt; | ricoverati_con_sintomi &lt;int&gt; | terapia_intensiva &lt;int&gt; | totale_ospedalizzati &lt;int&gt; | isolamento_domiciliare &lt;int&gt; | totale_attualmente_positivi &lt;int&gt; | nuovi_attualmente_positivi &lt;int&gt; | dimessi_guariti &lt;int&gt; | deceduti &lt;int&gt; | totale_casi &lt;int&gt; | tamponi &lt;int&gt; | note_it &lt;fct&gt; | note_en &lt;fct&gt; |\n",
       "|---|---|---|---|---|---|---|---|---|---|---|---|---|---|---|---|---|---|---|\n",
       "| 1 | 2020-02-24T18:00:00 | ITA | 13 | Abruzzo        | 42.35122 | 13.39844 |  0 | 0 |  0 | 0 |  0 |  0 | 0 | 0 |  0 |   5 | <!----> | <!----> |\n",
       "| 2 | 2020-02-24T18:00:00 | ITA | 17 | Basilicata     | 40.63947 | 15.80515 |  0 | 0 |  0 | 0 |  0 |  0 | 0 | 0 |  0 |   0 | <!----> | <!----> |\n",
       "| 3 | 2020-02-24T18:00:00 | ITA |  4 | P.A. Bolzano   | 46.49933 | 11.35662 |  0 | 0 |  0 | 0 |  0 |  0 | 0 | 0 |  0 |   1 | <!----> | <!----> |\n",
       "| 4 | 2020-02-24T18:00:00 | ITA | 18 | Calabria       | 38.90598 | 16.59440 |  0 | 0 |  0 | 0 |  0 |  0 | 0 | 0 |  0 |   1 | <!----> | <!----> |\n",
       "| 5 | 2020-02-24T18:00:00 | ITA | 15 | Campania       | 40.83957 | 14.25085 |  0 | 0 |  0 | 0 |  0 |  0 | 0 | 0 |  0 |  10 | <!----> | <!----> |\n",
       "| 6 | 2020-02-24T18:00:00 | ITA |  8 | Emilia Romagna | 44.49437 | 11.34172 | 10 | 2 | 12 | 6 | 18 | 18 | 0 | 0 | 18 | 148 | <!----> | <!----> |\n",
       "\n"
      ],
      "text/plain": [
       "  data                stato codice_regione denominazione_regione lat     \n",
       "1 2020-02-24T18:00:00 ITA   13             Abruzzo               42.35122\n",
       "2 2020-02-24T18:00:00 ITA   17             Basilicata            40.63947\n",
       "3 2020-02-24T18:00:00 ITA    4             P.A. Bolzano          46.49933\n",
       "4 2020-02-24T18:00:00 ITA   18             Calabria              38.90598\n",
       "5 2020-02-24T18:00:00 ITA   15             Campania              40.83957\n",
       "6 2020-02-24T18:00:00 ITA    8             Emilia Romagna        44.49437\n",
       "  long     ricoverati_con_sintomi terapia_intensiva totale_ospedalizzati\n",
       "1 13.39844  0                     0                  0                  \n",
       "2 15.80515  0                     0                  0                  \n",
       "3 11.35662  0                     0                  0                  \n",
       "4 16.59440  0                     0                  0                  \n",
       "5 14.25085  0                     0                  0                  \n",
       "6 11.34172 10                     2                 12                  \n",
       "  isolamento_domiciliare totale_attualmente_positivi nuovi_attualmente_positivi\n",
       "1 0                       0                           0                        \n",
       "2 0                       0                           0                        \n",
       "3 0                       0                           0                        \n",
       "4 0                       0                           0                        \n",
       "5 0                       0                           0                        \n",
       "6 6                      18                          18                        \n",
       "  dimessi_guariti deceduti totale_casi tamponi note_it note_en\n",
       "1 0               0         0            5                    \n",
       "2 0               0         0            0                    \n",
       "3 0               0         0            1                    \n",
       "4 0               0         0            1                    \n",
       "5 0               0         0           10                    \n",
       "6 0               0        18          148                    "
      ]
     },
     "metadata": {},
     "output_type": "display_data"
    }
   ],
   "source": [
    "head(italy.df)"
   ]
  },
  {
   "cell_type": "code",
   "execution_count": 39,
   "metadata": {
    "ExecuteTime": {
     "end_time": "2020-03-28T20:40:50.672192Z",
     "start_time": "2020-03-28T20:40:50.517Z"
    }
   },
   "outputs": [
    {
     "data": {
      "text/html": [
       "<table>\n",
       "<caption>A data.frame: 6 × 70</caption>\n",
       "<thead>\n",
       "\t<tr><th></th><th scope=col>Province.State</th><th scope=col>Country.Region</th><th scope=col>Lat</th><th scope=col>Long</th><th scope=col>X1.22.20</th><th scope=col>X1.23.20</th><th scope=col>X1.24.20</th><th scope=col>X1.25.20</th><th scope=col>X1.26.20</th><th scope=col>X1.27.20</th><th scope=col>...</th><th scope=col>X3.18.20</th><th scope=col>X3.19.20</th><th scope=col>X3.20.20</th><th scope=col>X3.21.20</th><th scope=col>X3.22.20</th><th scope=col>X3.23.20</th><th scope=col>X3.24.20</th><th scope=col>X3.25.20</th><th scope=col>X3.26.20</th><th scope=col>X3.27.20</th></tr>\n",
       "\t<tr><th></th><th scope=col>&lt;fct&gt;</th><th scope=col>&lt;fct&gt;</th><th scope=col>&lt;dbl&gt;</th><th scope=col>&lt;dbl&gt;</th><th scope=col>&lt;int&gt;</th><th scope=col>&lt;int&gt;</th><th scope=col>&lt;int&gt;</th><th scope=col>&lt;int&gt;</th><th scope=col>&lt;int&gt;</th><th scope=col>&lt;int&gt;</th><th scope=col>...</th><th scope=col>&lt;int&gt;</th><th scope=col>&lt;int&gt;</th><th scope=col>&lt;int&gt;</th><th scope=col>&lt;int&gt;</th><th scope=col>&lt;int&gt;</th><th scope=col>&lt;int&gt;</th><th scope=col>&lt;int&gt;</th><th scope=col>&lt;int&gt;</th><th scope=col>&lt;int&gt;</th><th scope=col>&lt;int&gt;</th></tr>\n",
       "</thead>\n",
       "<tbody>\n",
       "\t<tr><th scope=row>1</th><td></td><td>Afghanistan        </td><td> 33.0000</td><td> 65.0000</td><td>0</td><td>0</td><td>0</td><td>0</td><td>0</td><td>0</td><td>...</td><td>22</td><td>22</td><td>24</td><td> 24</td><td> 40</td><td> 40</td><td> 74</td><td> 84</td><td> 94</td><td>110</td></tr>\n",
       "\t<tr><th scope=row>2</th><td></td><td>Albania            </td><td> 41.1533</td><td> 20.1683</td><td>0</td><td>0</td><td>0</td><td>0</td><td>0</td><td>0</td><td>...</td><td>59</td><td>64</td><td>70</td><td> 76</td><td> 89</td><td>104</td><td>123</td><td>146</td><td>174</td><td>186</td></tr>\n",
       "\t<tr><th scope=row>3</th><td></td><td>Algeria            </td><td> 28.0339</td><td>  1.6596</td><td>0</td><td>0</td><td>0</td><td>0</td><td>0</td><td>0</td><td>...</td><td>74</td><td>87</td><td>90</td><td>139</td><td>201</td><td>230</td><td>264</td><td>302</td><td>367</td><td>409</td></tr>\n",
       "\t<tr><th scope=row>4</th><td></td><td>Andorra            </td><td> 42.5063</td><td>  1.5218</td><td>0</td><td>0</td><td>0</td><td>0</td><td>0</td><td>0</td><td>...</td><td>39</td><td>53</td><td>75</td><td> 88</td><td>113</td><td>133</td><td>164</td><td>188</td><td>224</td><td>267</td></tr>\n",
       "\t<tr><th scope=row>5</th><td></td><td>Angola             </td><td>-11.2027</td><td> 17.8739</td><td>0</td><td>0</td><td>0</td><td>0</td><td>0</td><td>0</td><td>...</td><td> 0</td><td> 0</td><td> 1</td><td>  2</td><td>  2</td><td>  3</td><td>  3</td><td>  3</td><td>  4</td><td>  4</td></tr>\n",
       "\t<tr><th scope=row>6</th><td></td><td>Antigua and Barbuda</td><td> 17.0608</td><td>-61.7964</td><td>0</td><td>0</td><td>0</td><td>0</td><td>0</td><td>0</td><td>...</td><td> 1</td><td> 1</td><td> 1</td><td>  1</td><td>  1</td><td>  3</td><td>  3</td><td>  3</td><td>  7</td><td>  7</td></tr>\n",
       "</tbody>\n",
       "</table>\n"
      ],
      "text/latex": [
       "A data.frame: 6 × 70\n",
       "\\begin{tabular}{r|lllllllllllllllllllll}\n",
       "  & Province.State & Country.Region & Lat & Long & X1.22.20 & X1.23.20 & X1.24.20 & X1.25.20 & X1.26.20 & X1.27.20 & ... & X3.18.20 & X3.19.20 & X3.20.20 & X3.21.20 & X3.22.20 & X3.23.20 & X3.24.20 & X3.25.20 & X3.26.20 & X3.27.20\\\\\n",
       "  & <fct> & <fct> & <dbl> & <dbl> & <int> & <int> & <int> & <int> & <int> & <int> & ... & <int> & <int> & <int> & <int> & <int> & <int> & <int> & <int> & <int> & <int>\\\\\n",
       "\\hline\n",
       "\t1 &  & Afghanistan         &  33.0000 &  65.0000 & 0 & 0 & 0 & 0 & 0 & 0 & ... & 22 & 22 & 24 &  24 &  40 &  40 &  74 &  84 &  94 & 110\\\\\n",
       "\t2 &  & Albania             &  41.1533 &  20.1683 & 0 & 0 & 0 & 0 & 0 & 0 & ... & 59 & 64 & 70 &  76 &  89 & 104 & 123 & 146 & 174 & 186\\\\\n",
       "\t3 &  & Algeria             &  28.0339 &   1.6596 & 0 & 0 & 0 & 0 & 0 & 0 & ... & 74 & 87 & 90 & 139 & 201 & 230 & 264 & 302 & 367 & 409\\\\\n",
       "\t4 &  & Andorra             &  42.5063 &   1.5218 & 0 & 0 & 0 & 0 & 0 & 0 & ... & 39 & 53 & 75 &  88 & 113 & 133 & 164 & 188 & 224 & 267\\\\\n",
       "\t5 &  & Angola              & -11.2027 &  17.8739 & 0 & 0 & 0 & 0 & 0 & 0 & ... &  0 &  0 &  1 &   2 &   2 &   3 &   3 &   3 &   4 &   4\\\\\n",
       "\t6 &  & Antigua and Barbuda &  17.0608 & -61.7964 & 0 & 0 & 0 & 0 & 0 & 0 & ... &  1 &  1 &  1 &   1 &   1 &   3 &   3 &   3 &   7 &   7\\\\\n",
       "\\end{tabular}\n"
      ],
      "text/markdown": [
       "\n",
       "A data.frame: 6 × 70\n",
       "\n",
       "| <!--/--> | Province.State &lt;fct&gt; | Country.Region &lt;fct&gt; | Lat &lt;dbl&gt; | Long &lt;dbl&gt; | X1.22.20 &lt;int&gt; | X1.23.20 &lt;int&gt; | X1.24.20 &lt;int&gt; | X1.25.20 &lt;int&gt; | X1.26.20 &lt;int&gt; | X1.27.20 &lt;int&gt; | ... ... | X3.18.20 &lt;int&gt; | X3.19.20 &lt;int&gt; | X3.20.20 &lt;int&gt; | X3.21.20 &lt;int&gt; | X3.22.20 &lt;int&gt; | X3.23.20 &lt;int&gt; | X3.24.20 &lt;int&gt; | X3.25.20 &lt;int&gt; | X3.26.20 &lt;int&gt; | X3.27.20 &lt;int&gt; |\n",
       "|---|---|---|---|---|---|---|---|---|---|---|---|---|---|---|---|---|---|---|---|---|---|\n",
       "| 1 | <!----> | Afghanistan         |  33.0000 |  65.0000 | 0 | 0 | 0 | 0 | 0 | 0 | ... | 22 | 22 | 24 |  24 |  40 |  40 |  74 |  84 |  94 | 110 |\n",
       "| 2 | <!----> | Albania             |  41.1533 |  20.1683 | 0 | 0 | 0 | 0 | 0 | 0 | ... | 59 | 64 | 70 |  76 |  89 | 104 | 123 | 146 | 174 | 186 |\n",
       "| 3 | <!----> | Algeria             |  28.0339 |   1.6596 | 0 | 0 | 0 | 0 | 0 | 0 | ... | 74 | 87 | 90 | 139 | 201 | 230 | 264 | 302 | 367 | 409 |\n",
       "| 4 | <!----> | Andorra             |  42.5063 |   1.5218 | 0 | 0 | 0 | 0 | 0 | 0 | ... | 39 | 53 | 75 |  88 | 113 | 133 | 164 | 188 | 224 | 267 |\n",
       "| 5 | <!----> | Angola              | -11.2027 |  17.8739 | 0 | 0 | 0 | 0 | 0 | 0 | ... |  0 |  0 |  1 |   2 |   2 |   3 |   3 |   3 |   4 |   4 |\n",
       "| 6 | <!----> | Antigua and Barbuda |  17.0608 | -61.7964 | 0 | 0 | 0 | 0 | 0 | 0 | ... |  1 |  1 |  1 |   1 |   1 |   3 |   3 |   3 |   7 |   7 |\n",
       "\n"
      ],
      "text/plain": [
       "  Province.State Country.Region      Lat      Long     X1.22.20 X1.23.20\n",
       "1                Afghanistan          33.0000  65.0000 0        0       \n",
       "2                Albania              41.1533  20.1683 0        0       \n",
       "3                Algeria              28.0339   1.6596 0        0       \n",
       "4                Andorra              42.5063   1.5218 0        0       \n",
       "5                Angola              -11.2027  17.8739 0        0       \n",
       "6                Antigua and Barbuda  17.0608 -61.7964 0        0       \n",
       "  X1.24.20 X1.25.20 X1.26.20 X1.27.20 ... X3.18.20 X3.19.20 X3.20.20 X3.21.20\n",
       "1 0        0        0        0        ... 22       22       24        24     \n",
       "2 0        0        0        0        ... 59       64       70        76     \n",
       "3 0        0        0        0        ... 74       87       90       139     \n",
       "4 0        0        0        0        ... 39       53       75        88     \n",
       "5 0        0        0        0        ...  0        0        1         2     \n",
       "6 0        0        0        0        ...  1        1        1         1     \n",
       "  X3.22.20 X3.23.20 X3.24.20 X3.25.20 X3.26.20 X3.27.20\n",
       "1  40       40       74       84       94      110     \n",
       "2  89      104      123      146      174      186     \n",
       "3 201      230      264      302      367      409     \n",
       "4 113      133      164      188      224      267     \n",
       "5   2        3        3        3        4        4     \n",
       "6   1        3        3        3        7        7     "
      ]
     },
     "metadata": {},
     "output_type": "display_data"
    }
   ],
   "source": [
    "head(global_confirmed.df)"
   ]
  },
  {
   "cell_type": "code",
   "execution_count": 40,
   "metadata": {
    "ExecuteTime": {
     "end_time": "2020-03-28T20:40:50.734059Z",
     "start_time": "2020-03-28T20:40:50.526Z"
    }
   },
   "outputs": [
    {
     "data": {
      "text/html": [
       "<table>\n",
       "<caption>A data.frame: 6 × 70</caption>\n",
       "<thead>\n",
       "\t<tr><th></th><th scope=col>Province.State</th><th scope=col>Country.Region</th><th scope=col>Lat</th><th scope=col>Long</th><th scope=col>X1.22.20</th><th scope=col>X1.23.20</th><th scope=col>X1.24.20</th><th scope=col>X1.25.20</th><th scope=col>X1.26.20</th><th scope=col>X1.27.20</th><th scope=col>...</th><th scope=col>X3.18.20</th><th scope=col>X3.19.20</th><th scope=col>X3.20.20</th><th scope=col>X3.21.20</th><th scope=col>X3.22.20</th><th scope=col>X3.23.20</th><th scope=col>X3.24.20</th><th scope=col>X3.25.20</th><th scope=col>X3.26.20</th><th scope=col>X3.27.20</th></tr>\n",
       "\t<tr><th></th><th scope=col>&lt;fct&gt;</th><th scope=col>&lt;fct&gt;</th><th scope=col>&lt;dbl&gt;</th><th scope=col>&lt;dbl&gt;</th><th scope=col>&lt;int&gt;</th><th scope=col>&lt;int&gt;</th><th scope=col>&lt;int&gt;</th><th scope=col>&lt;int&gt;</th><th scope=col>&lt;int&gt;</th><th scope=col>&lt;int&gt;</th><th scope=col>...</th><th scope=col>&lt;int&gt;</th><th scope=col>&lt;int&gt;</th><th scope=col>&lt;int&gt;</th><th scope=col>&lt;int&gt;</th><th scope=col>&lt;int&gt;</th><th scope=col>&lt;int&gt;</th><th scope=col>&lt;int&gt;</th><th scope=col>&lt;int&gt;</th><th scope=col>&lt;int&gt;</th><th scope=col>&lt;int&gt;</th></tr>\n",
       "</thead>\n",
       "<tbody>\n",
       "\t<tr><th scope=row>1</th><td></td><td>Afghanistan        </td><td> 33.0000</td><td> 65.0000</td><td>0</td><td>0</td><td>0</td><td>0</td><td>0</td><td>0</td><td>...</td><td>0</td><td>0</td><td> 0</td><td> 0</td><td> 1</td><td> 1</td><td> 1</td><td> 2</td><td> 4</td><td> 4</td></tr>\n",
       "\t<tr><th scope=row>2</th><td></td><td>Albania            </td><td> 41.1533</td><td> 20.1683</td><td>0</td><td>0</td><td>0</td><td>0</td><td>0</td><td>0</td><td>...</td><td>2</td><td>2</td><td> 2</td><td> 2</td><td> 2</td><td> 4</td><td> 5</td><td> 5</td><td> 6</td><td> 8</td></tr>\n",
       "\t<tr><th scope=row>3</th><td></td><td>Algeria            </td><td> 28.0339</td><td>  1.6596</td><td>0</td><td>0</td><td>0</td><td>0</td><td>0</td><td>0</td><td>...</td><td>7</td><td>9</td><td>11</td><td>15</td><td>17</td><td>17</td><td>19</td><td>21</td><td>25</td><td>26</td></tr>\n",
       "\t<tr><th scope=row>4</th><td></td><td>Andorra            </td><td> 42.5063</td><td>  1.5218</td><td>0</td><td>0</td><td>0</td><td>0</td><td>0</td><td>0</td><td>...</td><td>0</td><td>0</td><td> 0</td><td> 0</td><td> 1</td><td> 1</td><td> 1</td><td> 1</td><td> 3</td><td> 3</td></tr>\n",
       "\t<tr><th scope=row>5</th><td></td><td>Angola             </td><td>-11.2027</td><td> 17.8739</td><td>0</td><td>0</td><td>0</td><td>0</td><td>0</td><td>0</td><td>...</td><td>0</td><td>0</td><td> 0</td><td> 0</td><td> 0</td><td> 0</td><td> 0</td><td> 0</td><td> 0</td><td> 0</td></tr>\n",
       "\t<tr><th scope=row>6</th><td></td><td>Antigua and Barbuda</td><td> 17.0608</td><td>-61.7964</td><td>0</td><td>0</td><td>0</td><td>0</td><td>0</td><td>0</td><td>...</td><td>0</td><td>0</td><td> 0</td><td> 0</td><td> 0</td><td> 0</td><td> 0</td><td> 0</td><td> 0</td><td> 0</td></tr>\n",
       "</tbody>\n",
       "</table>\n"
      ],
      "text/latex": [
       "A data.frame: 6 × 70\n",
       "\\begin{tabular}{r|lllllllllllllllllllll}\n",
       "  & Province.State & Country.Region & Lat & Long & X1.22.20 & X1.23.20 & X1.24.20 & X1.25.20 & X1.26.20 & X1.27.20 & ... & X3.18.20 & X3.19.20 & X3.20.20 & X3.21.20 & X3.22.20 & X3.23.20 & X3.24.20 & X3.25.20 & X3.26.20 & X3.27.20\\\\\n",
       "  & <fct> & <fct> & <dbl> & <dbl> & <int> & <int> & <int> & <int> & <int> & <int> & ... & <int> & <int> & <int> & <int> & <int> & <int> & <int> & <int> & <int> & <int>\\\\\n",
       "\\hline\n",
       "\t1 &  & Afghanistan         &  33.0000 &  65.0000 & 0 & 0 & 0 & 0 & 0 & 0 & ... & 0 & 0 &  0 &  0 &  1 &  1 &  1 &  2 &  4 &  4\\\\\n",
       "\t2 &  & Albania             &  41.1533 &  20.1683 & 0 & 0 & 0 & 0 & 0 & 0 & ... & 2 & 2 &  2 &  2 &  2 &  4 &  5 &  5 &  6 &  8\\\\\n",
       "\t3 &  & Algeria             &  28.0339 &   1.6596 & 0 & 0 & 0 & 0 & 0 & 0 & ... & 7 & 9 & 11 & 15 & 17 & 17 & 19 & 21 & 25 & 26\\\\\n",
       "\t4 &  & Andorra             &  42.5063 &   1.5218 & 0 & 0 & 0 & 0 & 0 & 0 & ... & 0 & 0 &  0 &  0 &  1 &  1 &  1 &  1 &  3 &  3\\\\\n",
       "\t5 &  & Angola              & -11.2027 &  17.8739 & 0 & 0 & 0 & 0 & 0 & 0 & ... & 0 & 0 &  0 &  0 &  0 &  0 &  0 &  0 &  0 &  0\\\\\n",
       "\t6 &  & Antigua and Barbuda &  17.0608 & -61.7964 & 0 & 0 & 0 & 0 & 0 & 0 & ... & 0 & 0 &  0 &  0 &  0 &  0 &  0 &  0 &  0 &  0\\\\\n",
       "\\end{tabular}\n"
      ],
      "text/markdown": [
       "\n",
       "A data.frame: 6 × 70\n",
       "\n",
       "| <!--/--> | Province.State &lt;fct&gt; | Country.Region &lt;fct&gt; | Lat &lt;dbl&gt; | Long &lt;dbl&gt; | X1.22.20 &lt;int&gt; | X1.23.20 &lt;int&gt; | X1.24.20 &lt;int&gt; | X1.25.20 &lt;int&gt; | X1.26.20 &lt;int&gt; | X1.27.20 &lt;int&gt; | ... ... | X3.18.20 &lt;int&gt; | X3.19.20 &lt;int&gt; | X3.20.20 &lt;int&gt; | X3.21.20 &lt;int&gt; | X3.22.20 &lt;int&gt; | X3.23.20 &lt;int&gt; | X3.24.20 &lt;int&gt; | X3.25.20 &lt;int&gt; | X3.26.20 &lt;int&gt; | X3.27.20 &lt;int&gt; |\n",
       "|---|---|---|---|---|---|---|---|---|---|---|---|---|---|---|---|---|---|---|---|---|---|\n",
       "| 1 | <!----> | Afghanistan         |  33.0000 |  65.0000 | 0 | 0 | 0 | 0 | 0 | 0 | ... | 0 | 0 |  0 |  0 |  1 |  1 |  1 |  2 |  4 |  4 |\n",
       "| 2 | <!----> | Albania             |  41.1533 |  20.1683 | 0 | 0 | 0 | 0 | 0 | 0 | ... | 2 | 2 |  2 |  2 |  2 |  4 |  5 |  5 |  6 |  8 |\n",
       "| 3 | <!----> | Algeria             |  28.0339 |   1.6596 | 0 | 0 | 0 | 0 | 0 | 0 | ... | 7 | 9 | 11 | 15 | 17 | 17 | 19 | 21 | 25 | 26 |\n",
       "| 4 | <!----> | Andorra             |  42.5063 |   1.5218 | 0 | 0 | 0 | 0 | 0 | 0 | ... | 0 | 0 |  0 |  0 |  1 |  1 |  1 |  1 |  3 |  3 |\n",
       "| 5 | <!----> | Angola              | -11.2027 |  17.8739 | 0 | 0 | 0 | 0 | 0 | 0 | ... | 0 | 0 |  0 |  0 |  0 |  0 |  0 |  0 |  0 |  0 |\n",
       "| 6 | <!----> | Antigua and Barbuda |  17.0608 | -61.7964 | 0 | 0 | 0 | 0 | 0 | 0 | ... | 0 | 0 |  0 |  0 |  0 |  0 |  0 |  0 |  0 |  0 |\n",
       "\n"
      ],
      "text/plain": [
       "  Province.State Country.Region      Lat      Long     X1.22.20 X1.23.20\n",
       "1                Afghanistan          33.0000  65.0000 0        0       \n",
       "2                Albania              41.1533  20.1683 0        0       \n",
       "3                Algeria              28.0339   1.6596 0        0       \n",
       "4                Andorra              42.5063   1.5218 0        0       \n",
       "5                Angola              -11.2027  17.8739 0        0       \n",
       "6                Antigua and Barbuda  17.0608 -61.7964 0        0       \n",
       "  X1.24.20 X1.25.20 X1.26.20 X1.27.20 ... X3.18.20 X3.19.20 X3.20.20 X3.21.20\n",
       "1 0        0        0        0        ... 0        0         0        0      \n",
       "2 0        0        0        0        ... 2        2         2        2      \n",
       "3 0        0        0        0        ... 7        9        11       15      \n",
       "4 0        0        0        0        ... 0        0         0        0      \n",
       "5 0        0        0        0        ... 0        0         0        0      \n",
       "6 0        0        0        0        ... 0        0         0        0      \n",
       "  X3.22.20 X3.23.20 X3.24.20 X3.25.20 X3.26.20 X3.27.20\n",
       "1  1        1        1        2        4        4      \n",
       "2  2        4        5        5        6        8      \n",
       "3 17       17       19       21       25       26      \n",
       "4  1        1        1        1        3        3      \n",
       "5  0        0        0        0        0        0      \n",
       "6  0        0        0        0        0        0      "
      ]
     },
     "metadata": {},
     "output_type": "display_data"
    }
   ],
   "source": [
    "head(global_deaths.df)"
   ]
  },
  {
   "cell_type": "code",
   "execution_count": 41,
   "metadata": {
    "ExecuteTime": {
     "end_time": "2020-03-28T20:40:50.786883Z",
     "start_time": "2020-03-28T20:40:50.533Z"
    }
   },
   "outputs": [
    {
     "data": {
      "text/html": [
       "<table>\n",
       "<caption>A data.frame: 6 × 70</caption>\n",
       "<thead>\n",
       "\t<tr><th></th><th scope=col>Province.State</th><th scope=col>Country.Region</th><th scope=col>Lat</th><th scope=col>Long</th><th scope=col>X1.22.20</th><th scope=col>X1.23.20</th><th scope=col>X1.24.20</th><th scope=col>X1.25.20</th><th scope=col>X1.26.20</th><th scope=col>X1.27.20</th><th scope=col>...</th><th scope=col>X3.18.20</th><th scope=col>X3.19.20</th><th scope=col>X3.20.20</th><th scope=col>X3.21.20</th><th scope=col>X3.22.20</th><th scope=col>X3.23.20</th><th scope=col>X3.24.20</th><th scope=col>X3.25.20</th><th scope=col>X3.26.20</th><th scope=col>X3.27.20</th></tr>\n",
       "\t<tr><th></th><th scope=col>&lt;fct&gt;</th><th scope=col>&lt;fct&gt;</th><th scope=col>&lt;dbl&gt;</th><th scope=col>&lt;dbl&gt;</th><th scope=col>&lt;int&gt;</th><th scope=col>&lt;int&gt;</th><th scope=col>&lt;int&gt;</th><th scope=col>&lt;int&gt;</th><th scope=col>&lt;int&gt;</th><th scope=col>&lt;int&gt;</th><th scope=col>...</th><th scope=col>&lt;int&gt;</th><th scope=col>&lt;int&gt;</th><th scope=col>&lt;int&gt;</th><th scope=col>&lt;int&gt;</th><th scope=col>&lt;int&gt;</th><th scope=col>&lt;int&gt;</th><th scope=col>&lt;int&gt;</th><th scope=col>&lt;int&gt;</th><th scope=col>&lt;int&gt;</th><th scope=col>&lt;int&gt;</th></tr>\n",
       "</thead>\n",
       "<tbody>\n",
       "\t<tr><th scope=row>1</th><td></td><td>Afghanistan        </td><td> 33.0000</td><td> 65.0000</td><td>0</td><td>0</td><td>0</td><td>0</td><td>0</td><td>0</td><td>...</td><td> 1</td><td> 1</td><td> 1</td><td> 1</td><td> 1</td><td> 1</td><td> 1</td><td> 2</td><td> 2</td><td> 2</td></tr>\n",
       "\t<tr><th scope=row>2</th><td></td><td>Albania            </td><td> 41.1533</td><td> 20.1683</td><td>0</td><td>0</td><td>0</td><td>0</td><td>0</td><td>0</td><td>...</td><td> 0</td><td> 0</td><td> 0</td><td> 2</td><td> 2</td><td> 2</td><td>10</td><td>17</td><td>17</td><td>31</td></tr>\n",
       "\t<tr><th scope=row>3</th><td></td><td>Algeria            </td><td> 28.0339</td><td>  1.6596</td><td>0</td><td>0</td><td>0</td><td>0</td><td>0</td><td>0</td><td>...</td><td>12</td><td>32</td><td>32</td><td>32</td><td>65</td><td>65</td><td>24</td><td>65</td><td>29</td><td>29</td></tr>\n",
       "\t<tr><th scope=row>4</th><td></td><td>Andorra            </td><td> 42.5063</td><td>  1.5218</td><td>0</td><td>0</td><td>0</td><td>0</td><td>0</td><td>0</td><td>...</td><td> 1</td><td> 1</td><td> 1</td><td> 1</td><td> 1</td><td> 1</td><td> 1</td><td> 1</td><td> 1</td><td> 1</td></tr>\n",
       "\t<tr><th scope=row>5</th><td></td><td>Angola             </td><td>-11.2027</td><td> 17.8739</td><td>0</td><td>0</td><td>0</td><td>0</td><td>0</td><td>0</td><td>...</td><td> 0</td><td> 0</td><td> 0</td><td> 0</td><td> 0</td><td> 0</td><td> 0</td><td> 0</td><td> 0</td><td> 0</td></tr>\n",
       "\t<tr><th scope=row>6</th><td></td><td>Antigua and Barbuda</td><td> 17.0608</td><td>-61.7964</td><td>0</td><td>0</td><td>0</td><td>0</td><td>0</td><td>0</td><td>...</td><td> 0</td><td> 0</td><td> 0</td><td> 0</td><td> 0</td><td> 0</td><td> 0</td><td> 0</td><td> 0</td><td> 0</td></tr>\n",
       "</tbody>\n",
       "</table>\n"
      ],
      "text/latex": [
       "A data.frame: 6 × 70\n",
       "\\begin{tabular}{r|lllllllllllllllllllll}\n",
       "  & Province.State & Country.Region & Lat & Long & X1.22.20 & X1.23.20 & X1.24.20 & X1.25.20 & X1.26.20 & X1.27.20 & ... & X3.18.20 & X3.19.20 & X3.20.20 & X3.21.20 & X3.22.20 & X3.23.20 & X3.24.20 & X3.25.20 & X3.26.20 & X3.27.20\\\\\n",
       "  & <fct> & <fct> & <dbl> & <dbl> & <int> & <int> & <int> & <int> & <int> & <int> & ... & <int> & <int> & <int> & <int> & <int> & <int> & <int> & <int> & <int> & <int>\\\\\n",
       "\\hline\n",
       "\t1 &  & Afghanistan         &  33.0000 &  65.0000 & 0 & 0 & 0 & 0 & 0 & 0 & ... &  1 &  1 &  1 &  1 &  1 &  1 &  1 &  2 &  2 &  2\\\\\n",
       "\t2 &  & Albania             &  41.1533 &  20.1683 & 0 & 0 & 0 & 0 & 0 & 0 & ... &  0 &  0 &  0 &  2 &  2 &  2 & 10 & 17 & 17 & 31\\\\\n",
       "\t3 &  & Algeria             &  28.0339 &   1.6596 & 0 & 0 & 0 & 0 & 0 & 0 & ... & 12 & 32 & 32 & 32 & 65 & 65 & 24 & 65 & 29 & 29\\\\\n",
       "\t4 &  & Andorra             &  42.5063 &   1.5218 & 0 & 0 & 0 & 0 & 0 & 0 & ... &  1 &  1 &  1 &  1 &  1 &  1 &  1 &  1 &  1 &  1\\\\\n",
       "\t5 &  & Angola              & -11.2027 &  17.8739 & 0 & 0 & 0 & 0 & 0 & 0 & ... &  0 &  0 &  0 &  0 &  0 &  0 &  0 &  0 &  0 &  0\\\\\n",
       "\t6 &  & Antigua and Barbuda &  17.0608 & -61.7964 & 0 & 0 & 0 & 0 & 0 & 0 & ... &  0 &  0 &  0 &  0 &  0 &  0 &  0 &  0 &  0 &  0\\\\\n",
       "\\end{tabular}\n"
      ],
      "text/markdown": [
       "\n",
       "A data.frame: 6 × 70\n",
       "\n",
       "| <!--/--> | Province.State &lt;fct&gt; | Country.Region &lt;fct&gt; | Lat &lt;dbl&gt; | Long &lt;dbl&gt; | X1.22.20 &lt;int&gt; | X1.23.20 &lt;int&gt; | X1.24.20 &lt;int&gt; | X1.25.20 &lt;int&gt; | X1.26.20 &lt;int&gt; | X1.27.20 &lt;int&gt; | ... ... | X3.18.20 &lt;int&gt; | X3.19.20 &lt;int&gt; | X3.20.20 &lt;int&gt; | X3.21.20 &lt;int&gt; | X3.22.20 &lt;int&gt; | X3.23.20 &lt;int&gt; | X3.24.20 &lt;int&gt; | X3.25.20 &lt;int&gt; | X3.26.20 &lt;int&gt; | X3.27.20 &lt;int&gt; |\n",
       "|---|---|---|---|---|---|---|---|---|---|---|---|---|---|---|---|---|---|---|---|---|---|\n",
       "| 1 | <!----> | Afghanistan         |  33.0000 |  65.0000 | 0 | 0 | 0 | 0 | 0 | 0 | ... |  1 |  1 |  1 |  1 |  1 |  1 |  1 |  2 |  2 |  2 |\n",
       "| 2 | <!----> | Albania             |  41.1533 |  20.1683 | 0 | 0 | 0 | 0 | 0 | 0 | ... |  0 |  0 |  0 |  2 |  2 |  2 | 10 | 17 | 17 | 31 |\n",
       "| 3 | <!----> | Algeria             |  28.0339 |   1.6596 | 0 | 0 | 0 | 0 | 0 | 0 | ... | 12 | 32 | 32 | 32 | 65 | 65 | 24 | 65 | 29 | 29 |\n",
       "| 4 | <!----> | Andorra             |  42.5063 |   1.5218 | 0 | 0 | 0 | 0 | 0 | 0 | ... |  1 |  1 |  1 |  1 |  1 |  1 |  1 |  1 |  1 |  1 |\n",
       "| 5 | <!----> | Angola              | -11.2027 |  17.8739 | 0 | 0 | 0 | 0 | 0 | 0 | ... |  0 |  0 |  0 |  0 |  0 |  0 |  0 |  0 |  0 |  0 |\n",
       "| 6 | <!----> | Antigua and Barbuda |  17.0608 | -61.7964 | 0 | 0 | 0 | 0 | 0 | 0 | ... |  0 |  0 |  0 |  0 |  0 |  0 |  0 |  0 |  0 |  0 |\n",
       "\n"
      ],
      "text/plain": [
       "  Province.State Country.Region      Lat      Long     X1.22.20 X1.23.20\n",
       "1                Afghanistan          33.0000  65.0000 0        0       \n",
       "2                Albania              41.1533  20.1683 0        0       \n",
       "3                Algeria              28.0339   1.6596 0        0       \n",
       "4                Andorra              42.5063   1.5218 0        0       \n",
       "5                Angola              -11.2027  17.8739 0        0       \n",
       "6                Antigua and Barbuda  17.0608 -61.7964 0        0       \n",
       "  X1.24.20 X1.25.20 X1.26.20 X1.27.20 ... X3.18.20 X3.19.20 X3.20.20 X3.21.20\n",
       "1 0        0        0        0        ...  1        1        1        1      \n",
       "2 0        0        0        0        ...  0        0        0        2      \n",
       "3 0        0        0        0        ... 12       32       32       32      \n",
       "4 0        0        0        0        ...  1        1        1        1      \n",
       "5 0        0        0        0        ...  0        0        0        0      \n",
       "6 0        0        0        0        ...  0        0        0        0      \n",
       "  X3.22.20 X3.23.20 X3.24.20 X3.25.20 X3.26.20 X3.27.20\n",
       "1  1        1        1        2        2        2      \n",
       "2  2        2       10       17       17       31      \n",
       "3 65       65       24       65       29       29      \n",
       "4  1        1        1        1        1        1      \n",
       "5  0        0        0        0        0        0      \n",
       "6  0        0        0        0        0        0      "
      ]
     },
     "metadata": {},
     "output_type": "display_data"
    }
   ],
   "source": [
    "head(global_recovered.df)"
   ]
  },
  {
   "cell_type": "markdown",
   "metadata": {},
   "source": [
    "## Global\n",
    "### Transform horizontal to vertical"
   ]
  },
  {
   "cell_type": "code",
   "execution_count": 42,
   "metadata": {
    "ExecuteTime": {
     "end_time": "2020-03-28T20:40:51.004301Z",
     "start_time": "2020-03-28T20:40:50.580Z"
    }
   },
   "outputs": [],
   "source": [
    "global_confirmed_vertical.df <- horizontaldf2verticaldf(global_confirmed.df,\"Confirmed\")\n",
    "global_deaths_vertical.df <- horizontaldf2verticaldf(global_deaths.df,\"Deaths\")\n",
    "global_recovered_vertical.df <- horizontaldf2verticaldf(global_recovered.df,\"Recovered\")"
   ]
  },
  {
   "cell_type": "code",
   "execution_count": 43,
   "metadata": {
    "ExecuteTime": {
     "end_time": "2020-03-28T20:40:51.050179Z",
     "start_time": "2020-03-28T20:40:50.589Z"
    }
   },
   "outputs": [
    {
     "data": {
      "text/html": [
       "<table>\n",
       "<caption>A data.frame: 6 × 6</caption>\n",
       "<thead>\n",
       "\t<tr><th></th><th scope=col>Province.State</th><th scope=col>Country.Region</th><th scope=col>Lat</th><th scope=col>Long</th><th scope=col>Date</th><th scope=col>Confirmed</th></tr>\n",
       "\t<tr><th></th><th scope=col>&lt;fct&gt;</th><th scope=col>&lt;fct&gt;</th><th scope=col>&lt;dbl&gt;</th><th scope=col>&lt;dbl&gt;</th><th scope=col>&lt;date&gt;</th><th scope=col>&lt;int&gt;</th></tr>\n",
       "</thead>\n",
       "<tbody>\n",
       "\t<tr><th scope=row>1</th><td></td><td>Afghanistan        </td><td> 33.0000</td><td> 65.0000</td><td>2020-01-22</td><td>0</td></tr>\n",
       "\t<tr><th scope=row>2</th><td></td><td>Albania            </td><td> 41.1533</td><td> 20.1683</td><td>2020-01-22</td><td>0</td></tr>\n",
       "\t<tr><th scope=row>3</th><td></td><td>Algeria            </td><td> 28.0339</td><td>  1.6596</td><td>2020-01-22</td><td>0</td></tr>\n",
       "\t<tr><th scope=row>4</th><td></td><td>Andorra            </td><td> 42.5063</td><td>  1.5218</td><td>2020-01-22</td><td>0</td></tr>\n",
       "\t<tr><th scope=row>5</th><td></td><td>Angola             </td><td>-11.2027</td><td> 17.8739</td><td>2020-01-22</td><td>0</td></tr>\n",
       "\t<tr><th scope=row>6</th><td></td><td>Antigua and Barbuda</td><td> 17.0608</td><td>-61.7964</td><td>2020-01-22</td><td>0</td></tr>\n",
       "</tbody>\n",
       "</table>\n"
      ],
      "text/latex": [
       "A data.frame: 6 × 6\n",
       "\\begin{tabular}{r|llllll}\n",
       "  & Province.State & Country.Region & Lat & Long & Date & Confirmed\\\\\n",
       "  & <fct> & <fct> & <dbl> & <dbl> & <date> & <int>\\\\\n",
       "\\hline\n",
       "\t1 &  & Afghanistan         &  33.0000 &  65.0000 & 2020-01-22 & 0\\\\\n",
       "\t2 &  & Albania             &  41.1533 &  20.1683 & 2020-01-22 & 0\\\\\n",
       "\t3 &  & Algeria             &  28.0339 &   1.6596 & 2020-01-22 & 0\\\\\n",
       "\t4 &  & Andorra             &  42.5063 &   1.5218 & 2020-01-22 & 0\\\\\n",
       "\t5 &  & Angola              & -11.2027 &  17.8739 & 2020-01-22 & 0\\\\\n",
       "\t6 &  & Antigua and Barbuda &  17.0608 & -61.7964 & 2020-01-22 & 0\\\\\n",
       "\\end{tabular}\n"
      ],
      "text/markdown": [
       "\n",
       "A data.frame: 6 × 6\n",
       "\n",
       "| <!--/--> | Province.State &lt;fct&gt; | Country.Region &lt;fct&gt; | Lat &lt;dbl&gt; | Long &lt;dbl&gt; | Date &lt;date&gt; | Confirmed &lt;int&gt; |\n",
       "|---|---|---|---|---|---|---|\n",
       "| 1 | <!----> | Afghanistan         |  33.0000 |  65.0000 | 2020-01-22 | 0 |\n",
       "| 2 | <!----> | Albania             |  41.1533 |  20.1683 | 2020-01-22 | 0 |\n",
       "| 3 | <!----> | Algeria             |  28.0339 |   1.6596 | 2020-01-22 | 0 |\n",
       "| 4 | <!----> | Andorra             |  42.5063 |   1.5218 | 2020-01-22 | 0 |\n",
       "| 5 | <!----> | Angola              | -11.2027 |  17.8739 | 2020-01-22 | 0 |\n",
       "| 6 | <!----> | Antigua and Barbuda |  17.0608 | -61.7964 | 2020-01-22 | 0 |\n",
       "\n"
      ],
      "text/plain": [
       "  Province.State Country.Region      Lat      Long     Date       Confirmed\n",
       "1                Afghanistan          33.0000  65.0000 2020-01-22 0        \n",
       "2                Albania              41.1533  20.1683 2020-01-22 0        \n",
       "3                Algeria              28.0339   1.6596 2020-01-22 0        \n",
       "4                Andorra              42.5063   1.5218 2020-01-22 0        \n",
       "5                Angola              -11.2027  17.8739 2020-01-22 0        \n",
       "6                Antigua and Barbuda  17.0608 -61.7964 2020-01-22 0        "
      ]
     },
     "metadata": {},
     "output_type": "display_data"
    }
   ],
   "source": [
    "head(global_confirmed_vertical.df)"
   ]
  },
  {
   "cell_type": "code",
   "execution_count": 44,
   "metadata": {
    "ExecuteTime": {
     "end_time": "2020-03-28T20:40:51.094095Z",
     "start_time": "2020-03-28T20:40:50.595Z"
    }
   },
   "outputs": [
    {
     "data": {
      "text/html": [
       "<table>\n",
       "<caption>A data.frame: 6 × 6</caption>\n",
       "<thead>\n",
       "\t<tr><th></th><th scope=col>Province.State</th><th scope=col>Country.Region</th><th scope=col>Lat</th><th scope=col>Long</th><th scope=col>Date</th><th scope=col>Recovered</th></tr>\n",
       "\t<tr><th></th><th scope=col>&lt;fct&gt;</th><th scope=col>&lt;fct&gt;</th><th scope=col>&lt;dbl&gt;</th><th scope=col>&lt;dbl&gt;</th><th scope=col>&lt;date&gt;</th><th scope=col>&lt;int&gt;</th></tr>\n",
       "</thead>\n",
       "<tbody>\n",
       "\t<tr><th scope=row>1</th><td></td><td>Afghanistan        </td><td> 33.0000</td><td> 65.0000</td><td>2020-01-22</td><td>0</td></tr>\n",
       "\t<tr><th scope=row>2</th><td></td><td>Albania            </td><td> 41.1533</td><td> 20.1683</td><td>2020-01-22</td><td>0</td></tr>\n",
       "\t<tr><th scope=row>3</th><td></td><td>Algeria            </td><td> 28.0339</td><td>  1.6596</td><td>2020-01-22</td><td>0</td></tr>\n",
       "\t<tr><th scope=row>4</th><td></td><td>Andorra            </td><td> 42.5063</td><td>  1.5218</td><td>2020-01-22</td><td>0</td></tr>\n",
       "\t<tr><th scope=row>5</th><td></td><td>Angola             </td><td>-11.2027</td><td> 17.8739</td><td>2020-01-22</td><td>0</td></tr>\n",
       "\t<tr><th scope=row>6</th><td></td><td>Antigua and Barbuda</td><td> 17.0608</td><td>-61.7964</td><td>2020-01-22</td><td>0</td></tr>\n",
       "</tbody>\n",
       "</table>\n"
      ],
      "text/latex": [
       "A data.frame: 6 × 6\n",
       "\\begin{tabular}{r|llllll}\n",
       "  & Province.State & Country.Region & Lat & Long & Date & Recovered\\\\\n",
       "  & <fct> & <fct> & <dbl> & <dbl> & <date> & <int>\\\\\n",
       "\\hline\n",
       "\t1 &  & Afghanistan         &  33.0000 &  65.0000 & 2020-01-22 & 0\\\\\n",
       "\t2 &  & Albania             &  41.1533 &  20.1683 & 2020-01-22 & 0\\\\\n",
       "\t3 &  & Algeria             &  28.0339 &   1.6596 & 2020-01-22 & 0\\\\\n",
       "\t4 &  & Andorra             &  42.5063 &   1.5218 & 2020-01-22 & 0\\\\\n",
       "\t5 &  & Angola              & -11.2027 &  17.8739 & 2020-01-22 & 0\\\\\n",
       "\t6 &  & Antigua and Barbuda &  17.0608 & -61.7964 & 2020-01-22 & 0\\\\\n",
       "\\end{tabular}\n"
      ],
      "text/markdown": [
       "\n",
       "A data.frame: 6 × 6\n",
       "\n",
       "| <!--/--> | Province.State &lt;fct&gt; | Country.Region &lt;fct&gt; | Lat &lt;dbl&gt; | Long &lt;dbl&gt; | Date &lt;date&gt; | Recovered &lt;int&gt; |\n",
       "|---|---|---|---|---|---|---|\n",
       "| 1 | <!----> | Afghanistan         |  33.0000 |  65.0000 | 2020-01-22 | 0 |\n",
       "| 2 | <!----> | Albania             |  41.1533 |  20.1683 | 2020-01-22 | 0 |\n",
       "| 3 | <!----> | Algeria             |  28.0339 |   1.6596 | 2020-01-22 | 0 |\n",
       "| 4 | <!----> | Andorra             |  42.5063 |   1.5218 | 2020-01-22 | 0 |\n",
       "| 5 | <!----> | Angola              | -11.2027 |  17.8739 | 2020-01-22 | 0 |\n",
       "| 6 | <!----> | Antigua and Barbuda |  17.0608 | -61.7964 | 2020-01-22 | 0 |\n",
       "\n"
      ],
      "text/plain": [
       "  Province.State Country.Region      Lat      Long     Date       Recovered\n",
       "1                Afghanistan          33.0000  65.0000 2020-01-22 0        \n",
       "2                Albania              41.1533  20.1683 2020-01-22 0        \n",
       "3                Algeria              28.0339   1.6596 2020-01-22 0        \n",
       "4                Andorra              42.5063   1.5218 2020-01-22 0        \n",
       "5                Angola              -11.2027  17.8739 2020-01-22 0        \n",
       "6                Antigua and Barbuda  17.0608 -61.7964 2020-01-22 0        "
      ]
     },
     "metadata": {},
     "output_type": "display_data"
    }
   ],
   "source": [
    "head(global_recovered_vertical.df)"
   ]
  },
  {
   "cell_type": "code",
   "execution_count": 45,
   "metadata": {
    "ExecuteTime": {
     "end_time": "2020-03-28T20:40:51.136958Z",
     "start_time": "2020-03-28T20:40:50.600Z"
    }
   },
   "outputs": [
    {
     "data": {
      "text/html": [
       "<table>\n",
       "<caption>A data.frame: 6 × 6</caption>\n",
       "<thead>\n",
       "\t<tr><th></th><th scope=col>Province.State</th><th scope=col>Country.Region</th><th scope=col>Lat</th><th scope=col>Long</th><th scope=col>Date</th><th scope=col>Deaths</th></tr>\n",
       "\t<tr><th></th><th scope=col>&lt;fct&gt;</th><th scope=col>&lt;fct&gt;</th><th scope=col>&lt;dbl&gt;</th><th scope=col>&lt;dbl&gt;</th><th scope=col>&lt;date&gt;</th><th scope=col>&lt;int&gt;</th></tr>\n",
       "</thead>\n",
       "<tbody>\n",
       "\t<tr><th scope=row>1</th><td></td><td>Afghanistan        </td><td> 33.0000</td><td> 65.0000</td><td>2020-01-22</td><td>0</td></tr>\n",
       "\t<tr><th scope=row>2</th><td></td><td>Albania            </td><td> 41.1533</td><td> 20.1683</td><td>2020-01-22</td><td>0</td></tr>\n",
       "\t<tr><th scope=row>3</th><td></td><td>Algeria            </td><td> 28.0339</td><td>  1.6596</td><td>2020-01-22</td><td>0</td></tr>\n",
       "\t<tr><th scope=row>4</th><td></td><td>Andorra            </td><td> 42.5063</td><td>  1.5218</td><td>2020-01-22</td><td>0</td></tr>\n",
       "\t<tr><th scope=row>5</th><td></td><td>Angola             </td><td>-11.2027</td><td> 17.8739</td><td>2020-01-22</td><td>0</td></tr>\n",
       "\t<tr><th scope=row>6</th><td></td><td>Antigua and Barbuda</td><td> 17.0608</td><td>-61.7964</td><td>2020-01-22</td><td>0</td></tr>\n",
       "</tbody>\n",
       "</table>\n"
      ],
      "text/latex": [
       "A data.frame: 6 × 6\n",
       "\\begin{tabular}{r|llllll}\n",
       "  & Province.State & Country.Region & Lat & Long & Date & Deaths\\\\\n",
       "  & <fct> & <fct> & <dbl> & <dbl> & <date> & <int>\\\\\n",
       "\\hline\n",
       "\t1 &  & Afghanistan         &  33.0000 &  65.0000 & 2020-01-22 & 0\\\\\n",
       "\t2 &  & Albania             &  41.1533 &  20.1683 & 2020-01-22 & 0\\\\\n",
       "\t3 &  & Algeria             &  28.0339 &   1.6596 & 2020-01-22 & 0\\\\\n",
       "\t4 &  & Andorra             &  42.5063 &   1.5218 & 2020-01-22 & 0\\\\\n",
       "\t5 &  & Angola              & -11.2027 &  17.8739 & 2020-01-22 & 0\\\\\n",
       "\t6 &  & Antigua and Barbuda &  17.0608 & -61.7964 & 2020-01-22 & 0\\\\\n",
       "\\end{tabular}\n"
      ],
      "text/markdown": [
       "\n",
       "A data.frame: 6 × 6\n",
       "\n",
       "| <!--/--> | Province.State &lt;fct&gt; | Country.Region &lt;fct&gt; | Lat &lt;dbl&gt; | Long &lt;dbl&gt; | Date &lt;date&gt; | Deaths &lt;int&gt; |\n",
       "|---|---|---|---|---|---|---|\n",
       "| 1 | <!----> | Afghanistan         |  33.0000 |  65.0000 | 2020-01-22 | 0 |\n",
       "| 2 | <!----> | Albania             |  41.1533 |  20.1683 | 2020-01-22 | 0 |\n",
       "| 3 | <!----> | Algeria             |  28.0339 |   1.6596 | 2020-01-22 | 0 |\n",
       "| 4 | <!----> | Andorra             |  42.5063 |   1.5218 | 2020-01-22 | 0 |\n",
       "| 5 | <!----> | Angola              | -11.2027 |  17.8739 | 2020-01-22 | 0 |\n",
       "| 6 | <!----> | Antigua and Barbuda |  17.0608 | -61.7964 | 2020-01-22 | 0 |\n",
       "\n"
      ],
      "text/plain": [
       "  Province.State Country.Region      Lat      Long     Date       Deaths\n",
       "1                Afghanistan          33.0000  65.0000 2020-01-22 0     \n",
       "2                Albania              41.1533  20.1683 2020-01-22 0     \n",
       "3                Algeria              28.0339   1.6596 2020-01-22 0     \n",
       "4                Andorra              42.5063   1.5218 2020-01-22 0     \n",
       "5                Angola              -11.2027  17.8739 2020-01-22 0     \n",
       "6                Antigua and Barbuda  17.0608 -61.7964 2020-01-22 0     "
      ]
     },
     "metadata": {},
     "output_type": "display_data"
    }
   ],
   "source": [
    "head(global_deaths_vertical.df)"
   ]
  },
  {
   "cell_type": "markdown",
   "metadata": {},
   "source": [
    "### Merge data"
   ]
  },
  {
   "cell_type": "code",
   "execution_count": 46,
   "metadata": {
    "ExecuteTime": {
     "end_time": "2020-03-28T20:40:51.180829Z",
     "start_time": "2020-03-28T20:40:50.648Z"
    }
   },
   "outputs": [],
   "source": [
    "global_confirmed_vertical.df[,\"Country.Region\"] <- as.character(global_confirmed_vertical.df[,\"Country.Region\"])\n",
    "global_confirmed_vertical.df[,\"Province.State\"] <- as.character(global_confirmed_vertical.df[,\"Province.State\"])\n",
    "global_deaths_vertical.df[,\"Country.Region\"] <- as.character(global_deaths_vertical.df[,\"Country.Region\"])\n",
    "global_deaths_vertical.df[,\"Province.State\"] <- as.character(global_deaths_vertical.df[,\"Province.State\"])\n",
    "global_recovered_vertical.df[,\"Country.Region\"] <- as.character(global_recovered_vertical.df[,\"Country.Region\"])\n",
    "global_recovered_vertical.df[,\"Province.State\"] <- as.character(global_recovered_vertical.df[,\"Province.State\"])"
   ]
  },
  {
   "cell_type": "code",
   "execution_count": 47,
   "metadata": {
    "ExecuteTime": {
     "end_time": "2020-03-28T20:40:51.364338Z",
     "start_time": "2020-03-28T20:40:50.651Z"
    }
   },
   "outputs": [],
   "source": [
    "# Get the list of all country / province pairs in all global dataframes (not necessarily present in all of them)\n",
    "pairs <- unique(rbind(\n",
    "        global_confirmed_vertical.df[,c(\"Country.Region\", \"Province.State\")],\n",
    "        global_deaths_vertical.df[,c(\"Country.Region\", \"Province.State\")],\n",
    "        global_recovered_vertical.df[,c(\"Country.Region\", \"Province.State\")]))\n",
    "\n",
    "global_confirmed_vertical.df <- add_missing_rows(global_confirmed_vertical.df, pairs, \"Confirmed\")\n",
    "global_deaths_vertical.df <- add_missing_rows(global_deaths_vertical.df, pairs, \"Deaths\")\n",
    "global_recovered_vertical.df <- add_missing_rows(global_recovered_vertical.df, pairs, \"Recovered\")"
   ]
  },
  {
   "cell_type": "code",
   "execution_count": 48,
   "metadata": {
    "ExecuteTime": {
     "end_time": "2020-03-28T20:40:52.444476Z",
     "start_time": "2020-03-28T20:40:50.655Z"
    }
   },
   "outputs": [],
   "source": [
    "global_merged.df <- merge(global_confirmed_vertical.df,\n",
    "      merge(global_recovered_vertical.df,global_deaths_vertical.df,\n",
    "      by=c(\"Province.State\",\"Country.Region\",\"Date\")),\n",
    "      by=c(\"Province.State\",\"Country.Region\",\"Date\"))"
   ]
  },
  {
   "cell_type": "code",
   "execution_count": 49,
   "metadata": {
    "ExecuteTime": {
     "end_time": "2020-03-28T20:40:52.478363Z",
     "start_time": "2020-03-28T20:40:50.659Z"
    }
   },
   "outputs": [
    {
     "data": {
      "text/html": [
       "TRUE"
      ],
      "text/latex": [
       "TRUE"
      ],
      "text/markdown": [
       "TRUE"
      ],
      "text/plain": [
       "[1] TRUE"
      ]
     },
     "metadata": {},
     "output_type": "display_data"
    }
   ],
   "source": [
    "\"Canada\" %in% global_merged.df$Country.Region"
   ]
  },
  {
   "cell_type": "markdown",
   "metadata": {},
   "source": [
    "## Italy\n",
    "\n",
    "### Translate columns"
   ]
  },
  {
   "cell_type": "code",
   "execution_count": 50,
   "metadata": {
    "ExecuteTime": {
     "end_time": "2020-03-28T20:40:52.567122Z",
     "start_time": "2020-03-28T20:40:50.712Z"
    }
   },
   "outputs": [
    {
     "data": {
      "text/html": [
       "<table>\n",
       "<caption>A data.frame: 6 × 18</caption>\n",
       "<thead>\n",
       "\t<tr><th></th><th scope=col>Date</th><th scope=col>Country.Region</th><th scope=col>RegionCode</th><th scope=col>Province.State</th><th scope=col>Lat</th><th scope=col>Long</th><th scope=col>HospitalizedWSymptoms</th><th scope=col>ICU</th><th scope=col>TotalHospitalized</th><th scope=col>HomeIsolation</th><th scope=col>Confirmed</th><th scope=col>DailyConfirmed</th><th scope=col>Recovered</th><th scope=col>Deaths</th><th scope=col>Total</th><th scope=col>Tests</th><th scope=col>NA</th><th scope=col>NA</th></tr>\n",
       "\t<tr><th></th><th scope=col>&lt;date&gt;</th><th scope=col>&lt;chr&gt;</th><th scope=col>&lt;int&gt;</th><th scope=col>&lt;fct&gt;</th><th scope=col>&lt;dbl&gt;</th><th scope=col>&lt;dbl&gt;</th><th scope=col>&lt;int&gt;</th><th scope=col>&lt;int&gt;</th><th scope=col>&lt;int&gt;</th><th scope=col>&lt;int&gt;</th><th scope=col>&lt;int&gt;</th><th scope=col>&lt;int&gt;</th><th scope=col>&lt;int&gt;</th><th scope=col>&lt;int&gt;</th><th scope=col>&lt;int&gt;</th><th scope=col>&lt;int&gt;</th><th scope=col>&lt;fct&gt;</th><th scope=col>&lt;fct&gt;</th></tr>\n",
       "</thead>\n",
       "<tbody>\n",
       "\t<tr><th scope=row>1</th><td>2020-02-24</td><td>Italy</td><td>13</td><td>Abruzzo       </td><td>42.35122</td><td>13.39844</td><td> 0</td><td>0</td><td> 0</td><td>0</td><td> 0</td><td> 0</td><td>0</td><td>0</td><td> 0</td><td>  5</td><td></td><td></td></tr>\n",
       "\t<tr><th scope=row>2</th><td>2020-02-24</td><td>Italy</td><td>17</td><td>Basilicata    </td><td>40.63947</td><td>15.80515</td><td> 0</td><td>0</td><td> 0</td><td>0</td><td> 0</td><td> 0</td><td>0</td><td>0</td><td> 0</td><td>  0</td><td></td><td></td></tr>\n",
       "\t<tr><th scope=row>3</th><td>2020-02-24</td><td>Italy</td><td> 4</td><td>P.A. Bolzano  </td><td>46.49933</td><td>11.35662</td><td> 0</td><td>0</td><td> 0</td><td>0</td><td> 0</td><td> 0</td><td>0</td><td>0</td><td> 0</td><td>  1</td><td></td><td></td></tr>\n",
       "\t<tr><th scope=row>4</th><td>2020-02-24</td><td>Italy</td><td>18</td><td>Calabria      </td><td>38.90598</td><td>16.59440</td><td> 0</td><td>0</td><td> 0</td><td>0</td><td> 0</td><td> 0</td><td>0</td><td>0</td><td> 0</td><td>  1</td><td></td><td></td></tr>\n",
       "\t<tr><th scope=row>5</th><td>2020-02-24</td><td>Italy</td><td>15</td><td>Campania      </td><td>40.83957</td><td>14.25085</td><td> 0</td><td>0</td><td> 0</td><td>0</td><td> 0</td><td> 0</td><td>0</td><td>0</td><td> 0</td><td> 10</td><td></td><td></td></tr>\n",
       "\t<tr><th scope=row>6</th><td>2020-02-24</td><td>Italy</td><td> 8</td><td>Emilia Romagna</td><td>44.49437</td><td>11.34172</td><td>10</td><td>2</td><td>12</td><td>6</td><td>18</td><td>18</td><td>0</td><td>0</td><td>18</td><td>148</td><td></td><td></td></tr>\n",
       "</tbody>\n",
       "</table>\n"
      ],
      "text/latex": [
       "A data.frame: 6 × 18\n",
       "\\begin{tabular}{r|llllllllllllllllll}\n",
       "  & Date & Country.Region & RegionCode & Province.State & Lat & Long & HospitalizedWSymptoms & ICU & TotalHospitalized & HomeIsolation & Confirmed & DailyConfirmed & Recovered & Deaths & Total & Tests & NA & NA\\\\\n",
       "  & <date> & <chr> & <int> & <fct> & <dbl> & <dbl> & <int> & <int> & <int> & <int> & <int> & <int> & <int> & <int> & <int> & <int> & <fct> & <fct>\\\\\n",
       "\\hline\n",
       "\t1 & 2020-02-24 & Italy & 13 & Abruzzo        & 42.35122 & 13.39844 &  0 & 0 &  0 & 0 &  0 &  0 & 0 & 0 &  0 &   5 &  & \\\\\n",
       "\t2 & 2020-02-24 & Italy & 17 & Basilicata     & 40.63947 & 15.80515 &  0 & 0 &  0 & 0 &  0 &  0 & 0 & 0 &  0 &   0 &  & \\\\\n",
       "\t3 & 2020-02-24 & Italy &  4 & P.A. Bolzano   & 46.49933 & 11.35662 &  0 & 0 &  0 & 0 &  0 &  0 & 0 & 0 &  0 &   1 &  & \\\\\n",
       "\t4 & 2020-02-24 & Italy & 18 & Calabria       & 38.90598 & 16.59440 &  0 & 0 &  0 & 0 &  0 &  0 & 0 & 0 &  0 &   1 &  & \\\\\n",
       "\t5 & 2020-02-24 & Italy & 15 & Campania       & 40.83957 & 14.25085 &  0 & 0 &  0 & 0 &  0 &  0 & 0 & 0 &  0 &  10 &  & \\\\\n",
       "\t6 & 2020-02-24 & Italy &  8 & Emilia Romagna & 44.49437 & 11.34172 & 10 & 2 & 12 & 6 & 18 & 18 & 0 & 0 & 18 & 148 &  & \\\\\n",
       "\\end{tabular}\n"
      ],
      "text/markdown": [
       "\n",
       "A data.frame: 6 × 18\n",
       "\n",
       "| <!--/--> | Date &lt;date&gt; | Country.Region &lt;chr&gt; | RegionCode &lt;int&gt; | Province.State &lt;fct&gt; | Lat &lt;dbl&gt; | Long &lt;dbl&gt; | HospitalizedWSymptoms &lt;int&gt; | ICU &lt;int&gt; | TotalHospitalized &lt;int&gt; | HomeIsolation &lt;int&gt; | Confirmed &lt;int&gt; | DailyConfirmed &lt;int&gt; | Recovered &lt;int&gt; | Deaths &lt;int&gt; | Total &lt;int&gt; | Tests &lt;int&gt; | NA &lt;fct&gt; | NA &lt;fct&gt; |\n",
       "|---|---|---|---|---|---|---|---|---|---|---|---|---|---|---|---|---|---|---|\n",
       "| 1 | 2020-02-24 | Italy | 13 | Abruzzo        | 42.35122 | 13.39844 |  0 | 0 |  0 | 0 |  0 |  0 | 0 | 0 |  0 |   5 | <!----> | <!----> |\n",
       "| 2 | 2020-02-24 | Italy | 17 | Basilicata     | 40.63947 | 15.80515 |  0 | 0 |  0 | 0 |  0 |  0 | 0 | 0 |  0 |   0 | <!----> | <!----> |\n",
       "| 3 | 2020-02-24 | Italy |  4 | P.A. Bolzano   | 46.49933 | 11.35662 |  0 | 0 |  0 | 0 |  0 |  0 | 0 | 0 |  0 |   1 | <!----> | <!----> |\n",
       "| 4 | 2020-02-24 | Italy | 18 | Calabria       | 38.90598 | 16.59440 |  0 | 0 |  0 | 0 |  0 |  0 | 0 | 0 |  0 |   1 | <!----> | <!----> |\n",
       "| 5 | 2020-02-24 | Italy | 15 | Campania       | 40.83957 | 14.25085 |  0 | 0 |  0 | 0 |  0 |  0 | 0 | 0 |  0 |  10 | <!----> | <!----> |\n",
       "| 6 | 2020-02-24 | Italy |  8 | Emilia Romagna | 44.49437 | 11.34172 | 10 | 2 | 12 | 6 | 18 | 18 | 0 | 0 | 18 | 148 | <!----> | <!----> |\n",
       "\n"
      ],
      "text/plain": [
       "  Date       Country.Region RegionCode Province.State Lat      Long    \n",
       "1 2020-02-24 Italy          13         Abruzzo        42.35122 13.39844\n",
       "2 2020-02-24 Italy          17         Basilicata     40.63947 15.80515\n",
       "3 2020-02-24 Italy           4         P.A. Bolzano   46.49933 11.35662\n",
       "4 2020-02-24 Italy          18         Calabria       38.90598 16.59440\n",
       "5 2020-02-24 Italy          15         Campania       40.83957 14.25085\n",
       "6 2020-02-24 Italy           8         Emilia Romagna 44.49437 11.34172\n",
       "  HospitalizedWSymptoms ICU TotalHospitalized HomeIsolation Confirmed\n",
       "1  0                    0    0                0              0       \n",
       "2  0                    0    0                0              0       \n",
       "3  0                    0    0                0              0       \n",
       "4  0                    0    0                0              0       \n",
       "5  0                    0    0                0              0       \n",
       "6 10                    2   12                6             18       \n",
       "  DailyConfirmed Recovered Deaths Total Tests <NA> <NA>\n",
       "1  0             0         0       0      5            \n",
       "2  0             0         0       0      0            \n",
       "3  0             0         0       0      1            \n",
       "4  0             0         0       0      1            \n",
       "5  0             0         0       0     10            \n",
       "6 18             0         0      18    148            "
      ]
     },
     "metadata": {},
     "output_type": "display_data"
    }
   ],
   "source": [
    "colnames(italy.df) <- c(\"Date\",\"Country.Region\",\"RegionCode\",\"Province.State\",\"Lat\",\"Long\",\"HospitalizedWSymptoms\",\"ICU\",\"TotalHospitalized\",\"HomeIsolation\",\"Confirmed\",\"DailyConfirmed\",\"Recovered\",\"Deaths\",\"Total\",\"Tests\")\n",
    "italy.df$Country.Region <- \"Italy\"\n",
    "italy.df$Date <- as.Date(italy.df$Date)\n",
    "head(italy.df)"
   ]
  },
  {
   "cell_type": "markdown",
   "metadata": {},
   "source": [
    "### Rearrange columns and drop useless columns"
   ]
  },
  {
   "cell_type": "code",
   "execution_count": 51,
   "metadata": {
    "ExecuteTime": {
     "end_time": "2020-03-28T20:40:52.596046Z",
     "start_time": "2020-03-28T20:40:50.763Z"
    }
   },
   "outputs": [],
   "source": [
    "italy.df <- italy.df[,c(4,2,5,6,1,11,13,14,7,8,9,10,12,15,16)]"
   ]
  },
  {
   "cell_type": "markdown",
   "metadata": {},
   "source": [
    "### Merge with global dataset and fill with NA"
   ]
  },
  {
   "cell_type": "code",
   "execution_count": 52,
   "metadata": {
    "ExecuteTime": {
     "end_time": "2020-03-28T20:40:52.637933Z",
     "start_time": "2020-03-28T20:40:50.808Z"
    }
   },
   "outputs": [],
   "source": [
    "output.df <- rbind.fill(italy.df,global_merged.df)"
   ]
  },
  {
   "cell_type": "markdown",
   "metadata": {},
   "source": [
    "### Sort data by date and then by country in alphabetic order"
   ]
  },
  {
   "cell_type": "code",
   "execution_count": 53,
   "metadata": {
    "ExecuteTime": {
     "end_time": "2020-03-28T20:40:52.767586Z",
     "start_time": "2020-03-28T20:40:50.860Z"
    }
   },
   "outputs": [
    {
     "data": {
      "text/html": [
       "<table>\n",
       "<caption>A data.frame: 6 × 19</caption>\n",
       "<thead>\n",
       "\t<tr><th></th><th scope=col>Province.State</th><th scope=col>Country.Region</th><th scope=col>Lat</th><th scope=col>Long</th><th scope=col>Date</th><th scope=col>Confirmed</th><th scope=col>Recovered</th><th scope=col>Deaths</th><th scope=col>HospitalizedWSymptoms</th><th scope=col>ICU</th><th scope=col>TotalHospitalized</th><th scope=col>HomeIsolation</th><th scope=col>DailyConfirmed</th><th scope=col>Total</th><th scope=col>Tests</th><th scope=col>Lat.x</th><th scope=col>Long.x</th><th scope=col>Lat.y</th><th scope=col>Long.y</th></tr>\n",
       "\t<tr><th></th><th scope=col>&lt;chr&gt;</th><th scope=col>&lt;chr&gt;</th><th scope=col>&lt;dbl&gt;</th><th scope=col>&lt;dbl&gt;</th><th scope=col>&lt;date&gt;</th><th scope=col>&lt;int&gt;</th><th scope=col>&lt;int&gt;</th><th scope=col>&lt;int&gt;</th><th scope=col>&lt;int&gt;</th><th scope=col>&lt;int&gt;</th><th scope=col>&lt;int&gt;</th><th scope=col>&lt;int&gt;</th><th scope=col>&lt;int&gt;</th><th scope=col>&lt;int&gt;</th><th scope=col>&lt;int&gt;</th><th scope=col>&lt;dbl&gt;</th><th scope=col>&lt;dbl&gt;</th><th scope=col>&lt;dbl&gt;</th><th scope=col>&lt;dbl&gt;</th></tr>\n",
       "</thead>\n",
       "<tbody>\n",
       "\t<tr><th scope=row>715</th><td></td><td>Afghanistan</td><td>33</td><td>65</td><td>2020-01-22</td><td>0</td><td>0</td><td>0</td><td>NA</td><td>NA</td><td>NA</td><td>NA</td><td>NA</td><td>NA</td><td>NA</td><td>33</td><td>65</td><td>33</td><td>65</td></tr>\n",
       "\t<tr><th scope=row>716</th><td></td><td>Afghanistan</td><td>33</td><td>65</td><td>2020-01-23</td><td>0</td><td>0</td><td>0</td><td>NA</td><td>NA</td><td>NA</td><td>NA</td><td>NA</td><td>NA</td><td>NA</td><td>33</td><td>65</td><td>33</td><td>65</td></tr>\n",
       "\t<tr><th scope=row>717</th><td></td><td>Afghanistan</td><td>33</td><td>65</td><td>2020-01-24</td><td>0</td><td>0</td><td>0</td><td>NA</td><td>NA</td><td>NA</td><td>NA</td><td>NA</td><td>NA</td><td>NA</td><td>33</td><td>65</td><td>33</td><td>65</td></tr>\n",
       "\t<tr><th scope=row>718</th><td></td><td>Afghanistan</td><td>33</td><td>65</td><td>2020-01-25</td><td>0</td><td>0</td><td>0</td><td>NA</td><td>NA</td><td>NA</td><td>NA</td><td>NA</td><td>NA</td><td>NA</td><td>33</td><td>65</td><td>33</td><td>65</td></tr>\n",
       "\t<tr><th scope=row>719</th><td></td><td>Afghanistan</td><td>33</td><td>65</td><td>2020-01-26</td><td>0</td><td>0</td><td>0</td><td>NA</td><td>NA</td><td>NA</td><td>NA</td><td>NA</td><td>NA</td><td>NA</td><td>33</td><td>65</td><td>33</td><td>65</td></tr>\n",
       "\t<tr><th scope=row>720</th><td></td><td>Afghanistan</td><td>33</td><td>65</td><td>2020-01-27</td><td>0</td><td>0</td><td>0</td><td>NA</td><td>NA</td><td>NA</td><td>NA</td><td>NA</td><td>NA</td><td>NA</td><td>33</td><td>65</td><td>33</td><td>65</td></tr>\n",
       "</tbody>\n",
       "</table>\n"
      ],
      "text/latex": [
       "A data.frame: 6 × 19\n",
       "\\begin{tabular}{r|lllllllllllllllllll}\n",
       "  & Province.State & Country.Region & Lat & Long & Date & Confirmed & Recovered & Deaths & HospitalizedWSymptoms & ICU & TotalHospitalized & HomeIsolation & DailyConfirmed & Total & Tests & Lat.x & Long.x & Lat.y & Long.y\\\\\n",
       "  & <chr> & <chr> & <dbl> & <dbl> & <date> & <int> & <int> & <int> & <int> & <int> & <int> & <int> & <int> & <int> & <int> & <dbl> & <dbl> & <dbl> & <dbl>\\\\\n",
       "\\hline\n",
       "\t715 &  & Afghanistan & 33 & 65 & 2020-01-22 & 0 & 0 & 0 & NA & NA & NA & NA & NA & NA & NA & 33 & 65 & 33 & 65\\\\\n",
       "\t716 &  & Afghanistan & 33 & 65 & 2020-01-23 & 0 & 0 & 0 & NA & NA & NA & NA & NA & NA & NA & 33 & 65 & 33 & 65\\\\\n",
       "\t717 &  & Afghanistan & 33 & 65 & 2020-01-24 & 0 & 0 & 0 & NA & NA & NA & NA & NA & NA & NA & 33 & 65 & 33 & 65\\\\\n",
       "\t718 &  & Afghanistan & 33 & 65 & 2020-01-25 & 0 & 0 & 0 & NA & NA & NA & NA & NA & NA & NA & 33 & 65 & 33 & 65\\\\\n",
       "\t719 &  & Afghanistan & 33 & 65 & 2020-01-26 & 0 & 0 & 0 & NA & NA & NA & NA & NA & NA & NA & 33 & 65 & 33 & 65\\\\\n",
       "\t720 &  & Afghanistan & 33 & 65 & 2020-01-27 & 0 & 0 & 0 & NA & NA & NA & NA & NA & NA & NA & 33 & 65 & 33 & 65\\\\\n",
       "\\end{tabular}\n"
      ],
      "text/markdown": [
       "\n",
       "A data.frame: 6 × 19\n",
       "\n",
       "| <!--/--> | Province.State &lt;chr&gt; | Country.Region &lt;chr&gt; | Lat &lt;dbl&gt; | Long &lt;dbl&gt; | Date &lt;date&gt; | Confirmed &lt;int&gt; | Recovered &lt;int&gt; | Deaths &lt;int&gt; | HospitalizedWSymptoms &lt;int&gt; | ICU &lt;int&gt; | TotalHospitalized &lt;int&gt; | HomeIsolation &lt;int&gt; | DailyConfirmed &lt;int&gt; | Total &lt;int&gt; | Tests &lt;int&gt; | Lat.x &lt;dbl&gt; | Long.x &lt;dbl&gt; | Lat.y &lt;dbl&gt; | Long.y &lt;dbl&gt; |\n",
       "|---|---|---|---|---|---|---|---|---|---|---|---|---|---|---|---|---|---|---|---|\n",
       "| 715 | <!----> | Afghanistan | 33 | 65 | 2020-01-22 | 0 | 0 | 0 | NA | NA | NA | NA | NA | NA | NA | 33 | 65 | 33 | 65 |\n",
       "| 716 | <!----> | Afghanistan | 33 | 65 | 2020-01-23 | 0 | 0 | 0 | NA | NA | NA | NA | NA | NA | NA | 33 | 65 | 33 | 65 |\n",
       "| 717 | <!----> | Afghanistan | 33 | 65 | 2020-01-24 | 0 | 0 | 0 | NA | NA | NA | NA | NA | NA | NA | 33 | 65 | 33 | 65 |\n",
       "| 718 | <!----> | Afghanistan | 33 | 65 | 2020-01-25 | 0 | 0 | 0 | NA | NA | NA | NA | NA | NA | NA | 33 | 65 | 33 | 65 |\n",
       "| 719 | <!----> | Afghanistan | 33 | 65 | 2020-01-26 | 0 | 0 | 0 | NA | NA | NA | NA | NA | NA | NA | 33 | 65 | 33 | 65 |\n",
       "| 720 | <!----> | Afghanistan | 33 | 65 | 2020-01-27 | 0 | 0 | 0 | NA | NA | NA | NA | NA | NA | NA | 33 | 65 | 33 | 65 |\n",
       "\n"
      ],
      "text/plain": [
       "    Province.State Country.Region Lat Long Date       Confirmed Recovered\n",
       "715                Afghanistan    33  65   2020-01-22 0         0        \n",
       "716                Afghanistan    33  65   2020-01-23 0         0        \n",
       "717                Afghanistan    33  65   2020-01-24 0         0        \n",
       "718                Afghanistan    33  65   2020-01-25 0         0        \n",
       "719                Afghanistan    33  65   2020-01-26 0         0        \n",
       "720                Afghanistan    33  65   2020-01-27 0         0        \n",
       "    Deaths HospitalizedWSymptoms ICU TotalHospitalized HomeIsolation\n",
       "715 0      NA                    NA  NA                NA           \n",
       "716 0      NA                    NA  NA                NA           \n",
       "717 0      NA                    NA  NA                NA           \n",
       "718 0      NA                    NA  NA                NA           \n",
       "719 0      NA                    NA  NA                NA           \n",
       "720 0      NA                    NA  NA                NA           \n",
       "    DailyConfirmed Total Tests Lat.x Long.x Lat.y Long.y\n",
       "715 NA             NA    NA    33    65     33    65    \n",
       "716 NA             NA    NA    33    65     33    65    \n",
       "717 NA             NA    NA    33    65     33    65    \n",
       "718 NA             NA    NA    33    65     33    65    \n",
       "719 NA             NA    NA    33    65     33    65    \n",
       "720 NA             NA    NA    33    65     33    65    "
      ]
     },
     "metadata": {},
     "output_type": "display_data"
    }
   ],
   "source": [
    "output.df <- output.df[order(output.df$Country.Region, output.df$Date),]\n",
    "head(output.df)"
   ]
  },
  {
   "cell_type": "code",
   "execution_count": 54,
   "metadata": {
    "ExecuteTime": {
     "end_time": "2020-03-28T20:40:52.860338Z",
     "start_time": "2020-03-28T20:40:50.864Z"
    }
   },
   "outputs": [],
   "source": [
    "saveRDS(output.df, \"data/COVID19_Global_Italy.Rdata\", version = 2)"
   ]
  },
  {
   "cell_type": "markdown",
   "metadata": {},
   "source": [
    "## Preprocess extra country data"
   ]
  },
  {
   "cell_type": "code",
   "execution_count": 2,
   "metadata": {
    "ExecuteTime": {
     "end_time": "2020-03-28T20:40:52.911203Z",
     "start_time": "2020-03-28T20:40:50.905Z"
    }
   },
   "outputs": [],
   "source": [
    "restrictions.df <- read.csv(\"data/Kaggle_CountryInfo/restrictions_columnwise_updated.csv\")\n",
    "countryinfo.df <- read.csv(\"data/Kaggle_CountryInfo/covid19countryinfo.csv\")"
   ]
  },
  {
   "cell_type": "code",
   "execution_count": 3,
   "metadata": {
    "ExecuteTime": {
     "end_time": "2020-03-28T20:40:52.966055Z",
     "start_time": "2020-03-28T20:40:50.909Z"
    }
   },
   "outputs": [
    {
     "data": {
      "text/html": [
       "<table>\n",
       "<caption>A data.frame: 6 × 12</caption>\n",
       "<thead>\n",
       "\t<tr><th></th><th scope=col>Country.Continent</th><th scope=col>Country.Region</th><th scope=col>Province.State</th><th scope=col>Date.Schools</th><th scope=col>Date.Public.Places</th><th scope=col>Date.Gatherings</th><th scope=col>Date.Stay.at.Home</th><th scope=col>Date.Lockdown</th><th scope=col>Date.Non.essential</th><th scope=col>Gatherings.limit</th><th scope=col>mandatory</th><th scope=col>notes</th></tr>\n",
       "\t<tr><th></th><th scope=col>&lt;fct&gt;</th><th scope=col>&lt;fct&gt;</th><th scope=col>&lt;fct&gt;</th><th scope=col>&lt;fct&gt;</th><th scope=col>&lt;fct&gt;</th><th scope=col>&lt;fct&gt;</th><th scope=col>&lt;fct&gt;</th><th scope=col>&lt;fct&gt;</th><th scope=col>&lt;fct&gt;</th><th scope=col>&lt;int&gt;</th><th scope=col>&lt;fct&gt;</th><th scope=col>&lt;fct&gt;</th></tr>\n",
       "</thead>\n",
       "<tbody>\n",
       "\t<tr><th scope=row>1</th><td></td><td>Wyoming      </td><td>Wyoming      </td><td>2020-03-15T00:00:00.000000000</td><td>2020-03-19T00:00:00.000000000</td><td>                             </td><td>                             </td><td></td><td>                             </td><td> 0</td><td>Yes,Yes        </td><td>,                                                                                 </td></tr>\n",
       "\t<tr><th scope=row>2</th><td></td><td>Wisconsin    </td><td>Wisconsin    </td><td>2020-03-18T00:00:00.000000000</td><td>2020-03-17T00:00:00.000000000</td><td>2020-03-20T00:00:00.000000000</td><td>                             </td><td></td><td>2020-03-24T00:00:00.000000000</td><td>10</td><td>Yes,Yes,Yes,Yes</td><td>Restriction strengthened to order closure of all non-essential business on 3/24,,,</td></tr>\n",
       "\t<tr><th scope=row>3</th><td></td><td>West Virginia</td><td>West Virginia</td><td>2020-03-17T00:00:00.000000000</td><td>2020-03-17T00:00:00.000000000</td><td>                             </td><td>2020-03-24T00:00:00.000000000</td><td></td><td>                             </td><td> 0</td><td>Yes,Yes,Yes    </td><td>,,                                                                                </td></tr>\n",
       "\t<tr><th scope=row>4</th><td></td><td>Washington DC</td><td>Washington DC</td><td>2020-03-16T00:00:00.000000000</td><td>2020-03-15T00:00:00.000000000</td><td>                             </td><td>                             </td><td></td><td>                             </td><td> 0</td><td>Yes,Yes        </td><td>,                                                                                 </td></tr>\n",
       "\t<tr><th scope=row>5</th><td></td><td>Washington   </td><td>Washington   </td><td>2020-03-15T00:00:00.000000000</td><td>2020-03-15T00:00:00.000000000</td><td>                             </td><td>2020-03-23T00:00:00.000000000</td><td></td><td>                             </td><td> 0</td><td>Yes,Yes,Yes    </td><td>,,                                                                                </td></tr>\n",
       "\t<tr><th scope=row>6</th><td></td><td>Virginia     </td><td>Virginia     </td><td>2020-03-13T00:00:00.000000000</td><td>2020-03-17T00:00:00.000000000</td><td>2020-03-24T00:00:00.000000000</td><td>                             </td><td></td><td>2020-03-24T00:00:00.000000000</td><td>10</td><td>Yes,Yes,Yes,Yes</td><td>,Restriction on bars and restaurants not toal, limits to 10 patrons,,             </td></tr>\n",
       "</tbody>\n",
       "</table>\n"
      ],
      "text/latex": [
       "A data.frame: 6 × 12\n",
       "\\begin{tabular}{r|llllllllllll}\n",
       "  & Country.Continent & Country.Region & Province.State & Date.Schools & Date.Public.Places & Date.Gatherings & Date.Stay.at.Home & Date.Lockdown & Date.Non.essential & Gatherings.limit & mandatory & notes\\\\\n",
       "  & <fct> & <fct> & <fct> & <fct> & <fct> & <fct> & <fct> & <fct> & <fct> & <int> & <fct> & <fct>\\\\\n",
       "\\hline\n",
       "\t1 &  & Wyoming       & Wyoming       & 2020-03-15T00:00:00.000000000 & 2020-03-19T00:00:00.000000000 &                               &                               &  &                               &  0 & Yes,Yes         & ,                                                                                 \\\\\n",
       "\t2 &  & Wisconsin     & Wisconsin     & 2020-03-18T00:00:00.000000000 & 2020-03-17T00:00:00.000000000 & 2020-03-20T00:00:00.000000000 &                               &  & 2020-03-24T00:00:00.000000000 & 10 & Yes,Yes,Yes,Yes & Restriction strengthened to order closure of all non-essential business on 3/24,,,\\\\\n",
       "\t3 &  & West Virginia & West Virginia & 2020-03-17T00:00:00.000000000 & 2020-03-17T00:00:00.000000000 &                               & 2020-03-24T00:00:00.000000000 &  &                               &  0 & Yes,Yes,Yes     & ,,                                                                                \\\\\n",
       "\t4 &  & Washington DC & Washington DC & 2020-03-16T00:00:00.000000000 & 2020-03-15T00:00:00.000000000 &                               &                               &  &                               &  0 & Yes,Yes         & ,                                                                                 \\\\\n",
       "\t5 &  & Washington    & Washington    & 2020-03-15T00:00:00.000000000 & 2020-03-15T00:00:00.000000000 &                               & 2020-03-23T00:00:00.000000000 &  &                               &  0 & Yes,Yes,Yes     & ,,                                                                                \\\\\n",
       "\t6 &  & Virginia      & Virginia      & 2020-03-13T00:00:00.000000000 & 2020-03-17T00:00:00.000000000 & 2020-03-24T00:00:00.000000000 &                               &  & 2020-03-24T00:00:00.000000000 & 10 & Yes,Yes,Yes,Yes & ,Restriction on bars and restaurants not toal, limits to 10 patrons,,             \\\\\n",
       "\\end{tabular}\n"
      ],
      "text/markdown": [
       "\n",
       "A data.frame: 6 × 12\n",
       "\n",
       "| <!--/--> | Country.Continent &lt;fct&gt; | Country.Region &lt;fct&gt; | Province.State &lt;fct&gt; | Date.Schools &lt;fct&gt; | Date.Public.Places &lt;fct&gt; | Date.Gatherings &lt;fct&gt; | Date.Stay.at.Home &lt;fct&gt; | Date.Lockdown &lt;fct&gt; | Date.Non.essential &lt;fct&gt; | Gatherings.limit &lt;int&gt; | mandatory &lt;fct&gt; | notes &lt;fct&gt; |\n",
       "|---|---|---|---|---|---|---|---|---|---|---|---|---|\n",
       "| 1 | <!----> | Wyoming       | Wyoming       | 2020-03-15T00:00:00.000000000 | 2020-03-19T00:00:00.000000000 | <!----> | <!----> | <!----> | <!----> |  0 | Yes,Yes         | ,                                                                                  |\n",
       "| 2 | <!----> | Wisconsin     | Wisconsin     | 2020-03-18T00:00:00.000000000 | 2020-03-17T00:00:00.000000000 | 2020-03-20T00:00:00.000000000 | <!----> | <!----> | 2020-03-24T00:00:00.000000000 | 10 | Yes,Yes,Yes,Yes | Restriction strengthened to order closure of all non-essential business on 3/24,,, |\n",
       "| 3 | <!----> | West Virginia | West Virginia | 2020-03-17T00:00:00.000000000 | 2020-03-17T00:00:00.000000000 | <!----> | 2020-03-24T00:00:00.000000000 | <!----> | <!----> |  0 | Yes,Yes,Yes     | ,,                                                                                 |\n",
       "| 4 | <!----> | Washington DC | Washington DC | 2020-03-16T00:00:00.000000000 | 2020-03-15T00:00:00.000000000 | <!----> | <!----> | <!----> | <!----> |  0 | Yes,Yes         | ,                                                                                  |\n",
       "| 5 | <!----> | Washington    | Washington    | 2020-03-15T00:00:00.000000000 | 2020-03-15T00:00:00.000000000 | <!----> | 2020-03-23T00:00:00.000000000 | <!----> | <!----> |  0 | Yes,Yes,Yes     | ,,                                                                                 |\n",
       "| 6 | <!----> | Virginia      | Virginia      | 2020-03-13T00:00:00.000000000 | 2020-03-17T00:00:00.000000000 | 2020-03-24T00:00:00.000000000 | <!----> | <!----> | 2020-03-24T00:00:00.000000000 | 10 | Yes,Yes,Yes,Yes | ,Restriction on bars and restaurants not toal, limits to 10 patrons,,              |\n",
       "\n"
      ],
      "text/plain": [
       "  Country.Continent Country.Region Province.State Date.Schools                 \n",
       "1                   Wyoming        Wyoming        2020-03-15T00:00:00.000000000\n",
       "2                   Wisconsin      Wisconsin      2020-03-18T00:00:00.000000000\n",
       "3                   West Virginia  West Virginia  2020-03-17T00:00:00.000000000\n",
       "4                   Washington DC  Washington DC  2020-03-16T00:00:00.000000000\n",
       "5                   Washington     Washington     2020-03-15T00:00:00.000000000\n",
       "6                   Virginia       Virginia       2020-03-13T00:00:00.000000000\n",
       "  Date.Public.Places            Date.Gatherings              \n",
       "1 2020-03-19T00:00:00.000000000                              \n",
       "2 2020-03-17T00:00:00.000000000 2020-03-20T00:00:00.000000000\n",
       "3 2020-03-17T00:00:00.000000000                              \n",
       "4 2020-03-15T00:00:00.000000000                              \n",
       "5 2020-03-15T00:00:00.000000000                              \n",
       "6 2020-03-17T00:00:00.000000000 2020-03-24T00:00:00.000000000\n",
       "  Date.Stay.at.Home             Date.Lockdown Date.Non.essential           \n",
       "1                                                                          \n",
       "2                                             2020-03-24T00:00:00.000000000\n",
       "3 2020-03-24T00:00:00.000000000                                            \n",
       "4                                                                          \n",
       "5 2020-03-23T00:00:00.000000000                                            \n",
       "6                                             2020-03-24T00:00:00.000000000\n",
       "  Gatherings.limit mandatory      \n",
       "1  0               Yes,Yes        \n",
       "2 10               Yes,Yes,Yes,Yes\n",
       "3  0               Yes,Yes,Yes    \n",
       "4  0               Yes,Yes        \n",
       "5  0               Yes,Yes,Yes    \n",
       "6 10               Yes,Yes,Yes,Yes\n",
       "  notes                                                                             \n",
       "1 ,                                                                                 \n",
       "2 Restriction strengthened to order closure of all non-essential business on 3/24,,,\n",
       "3 ,,                                                                                \n",
       "4 ,                                                                                 \n",
       "5 ,,                                                                                \n",
       "6 ,Restriction on bars and restaurants not toal, limits to 10 patrons,,             "
      ]
     },
     "metadata": {},
     "output_type": "display_data"
    }
   ],
   "source": [
    "head(restrictions.df)"
   ]
  },
  {
   "cell_type": "code",
   "execution_count": 4,
   "metadata": {
    "ExecuteTime": {
     "end_time": "2020-03-28T20:40:53.029920Z",
     "start_time": "2020-03-28T20:40:50.915Z"
    }
   },
   "outputs": [
    {
     "data": {
      "text/html": [
       "<table>\n",
       "<caption>A data.frame: 6 × 22</caption>\n",
       "<thead>\n",
       "\t<tr><th></th><th scope=col>country</th><th scope=col>pop</th><th scope=col>tests</th><th scope=col>testpop</th><th scope=col>density</th><th scope=col>medianage</th><th scope=col>urbanpop</th><th scope=col>quarantine</th><th scope=col>schools</th><th scope=col>restrictions</th><th scope=col>⋯</th><th scope=col>sex0</th><th scope=col>sex14</th><th scope=col>sex25</th><th scope=col>sex54</th><th scope=col>sex64</th><th scope=col>sex65plus</th><th scope=col>sexratio</th><th scope=col>lung</th><th scope=col>femalelung</th><th scope=col>malelung</th></tr>\n",
       "\t<tr><th></th><th scope=col>&lt;fct&gt;</th><th scope=col>&lt;fct&gt;</th><th scope=col>&lt;int&gt;</th><th scope=col>&lt;dbl&gt;</th><th scope=col>&lt;int&gt;</th><th scope=col>&lt;int&gt;</th><th scope=col>&lt;int&gt;</th><th scope=col>&lt;fct&gt;</th><th scope=col>&lt;fct&gt;</th><th scope=col>&lt;fct&gt;</th><th scope=col>⋯</th><th scope=col>&lt;dbl&gt;</th><th scope=col>&lt;dbl&gt;</th><th scope=col>&lt;dbl&gt;</th><th scope=col>&lt;dbl&gt;</th><th scope=col>&lt;dbl&gt;</th><th scope=col>&lt;dbl&gt;</th><th scope=col>&lt;dbl&gt;</th><th scope=col>&lt;dbl&gt;</th><th scope=col>&lt;dbl&gt;</th><th scope=col>&lt;dbl&gt;</th></tr>\n",
       "</thead>\n",
       "<tbody>\n",
       "\t<tr><th scope=row>1</th><td>Afghanistan        </td><td>38,928,346</td><td>NA</td><td>NA</td><td> 60</td><td>18</td><td>25</td><td>         </td><td></td><td></td><td>⋯</td><td>1.05</td><td>1.03</td><td>1.03</td><td>1.03</td><td>0.97</td><td>0.85</td><td>1.03</td><td>37.62</td><td>36.31</td><td>39.33</td></tr>\n",
       "\t<tr><th scope=row>2</th><td>Albania            </td><td>2,877,797 </td><td>NA</td><td>NA</td><td>105</td><td>36</td><td>63</td><td>         </td><td></td><td></td><td>⋯</td><td>1.08</td><td>1.11</td><td>1.09</td><td>0.93</td><td>0.95</td><td>0.87</td><td>0.98</td><td>11.67</td><td> 7.02</td><td>17.04</td></tr>\n",
       "\t<tr><th scope=row>3</th><td>Algeria            </td><td>43,851,044</td><td>NA</td><td>NA</td><td> 18</td><td>29</td><td>73</td><td>         </td><td></td><td></td><td>⋯</td><td>1.05</td><td>1.05</td><td>1.05</td><td>1.03</td><td>1.01</td><td>0.89</td><td>1.03</td><td> 8.77</td><td> 5.03</td><td>12.81</td></tr>\n",
       "\t<tr><th scope=row>4</th><td>Andorra            </td><td>77,265    </td><td>NA</td><td>NA</td><td>164</td><td>45</td><td>88</td><td>         </td><td></td><td></td><td>⋯</td><td>1.07</td><td>1.05</td><td>1.08</td><td>1.05</td><td>1.15</td><td>1.02</td><td>1.06</td><td>   NA</td><td>   NA</td><td>   NA</td></tr>\n",
       "\t<tr><th scope=row>5</th><td>Antigua and Barbuda</td><td>97,929    </td><td>NA</td><td>NA</td><td>223</td><td>34</td><td>26</td><td>         </td><td></td><td></td><td>⋯</td><td>1.05</td><td>1.03</td><td>0.99</td><td>0.84</td><td>0.82</td><td>0.76</td><td>0.90</td><td>11.76</td><td> 7.67</td><td>18.78</td></tr>\n",
       "\t<tr><th scope=row>6</th><td>Argentina          </td><td>45,195,774</td><td>NA</td><td>NA</td><td> 17</td><td>32</td><td>93</td><td>3/20/2020</td><td></td><td></td><td>⋯</td><td>1.05</td><td>1.06</td><td>1.05</td><td>1.00</td><td>0.94</td><td>0.71</td><td>0.98</td><td>29.27</td><td>20.16</td><td>42.59</td></tr>\n",
       "</tbody>\n",
       "</table>\n"
      ],
      "text/latex": [
       "A data.frame: 6 × 22\n",
       "\\begin{tabular}{r|lllllllllllllllllllll}\n",
       "  & country & pop & tests & testpop & density & medianage & urbanpop & quarantine & schools & restrictions & ⋯ & sex0 & sex14 & sex25 & sex54 & sex64 & sex65plus & sexratio & lung & femalelung & malelung\\\\\n",
       "  & <fct> & <fct> & <int> & <dbl> & <int> & <int> & <int> & <fct> & <fct> & <fct> & ⋯ & <dbl> & <dbl> & <dbl> & <dbl> & <dbl> & <dbl> & <dbl> & <dbl> & <dbl> & <dbl>\\\\\n",
       "\\hline\n",
       "\t1 & Afghanistan         & 38,928,346 & NA & NA &  60 & 18 & 25 &           &  &  & ⋯ & 1.05 & 1.03 & 1.03 & 1.03 & 0.97 & 0.85 & 1.03 & 37.62 & 36.31 & 39.33\\\\\n",
       "\t2 & Albania             & 2,877,797  & NA & NA & 105 & 36 & 63 &           &  &  & ⋯ & 1.08 & 1.11 & 1.09 & 0.93 & 0.95 & 0.87 & 0.98 & 11.67 &  7.02 & 17.04\\\\\n",
       "\t3 & Algeria             & 43,851,044 & NA & NA &  18 & 29 & 73 &           &  &  & ⋯ & 1.05 & 1.05 & 1.05 & 1.03 & 1.01 & 0.89 & 1.03 &  8.77 &  5.03 & 12.81\\\\\n",
       "\t4 & Andorra             & 77,265     & NA & NA & 164 & 45 & 88 &           &  &  & ⋯ & 1.07 & 1.05 & 1.08 & 1.05 & 1.15 & 1.02 & 1.06 &    NA &    NA &    NA\\\\\n",
       "\t5 & Antigua and Barbuda & 97,929     & NA & NA & 223 & 34 & 26 &           &  &  & ⋯ & 1.05 & 1.03 & 0.99 & 0.84 & 0.82 & 0.76 & 0.90 & 11.76 &  7.67 & 18.78\\\\\n",
       "\t6 & Argentina           & 45,195,774 & NA & NA &  17 & 32 & 93 & 3/20/2020 &  &  & ⋯ & 1.05 & 1.06 & 1.05 & 1.00 & 0.94 & 0.71 & 0.98 & 29.27 & 20.16 & 42.59\\\\\n",
       "\\end{tabular}\n"
      ],
      "text/markdown": [
       "\n",
       "A data.frame: 6 × 22\n",
       "\n",
       "| <!--/--> | country &lt;fct&gt; | pop &lt;fct&gt; | tests &lt;int&gt; | testpop &lt;dbl&gt; | density &lt;int&gt; | medianage &lt;int&gt; | urbanpop &lt;int&gt; | quarantine &lt;fct&gt; | schools &lt;fct&gt; | restrictions &lt;fct&gt; | ⋯ ⋯ | sex0 &lt;dbl&gt; | sex14 &lt;dbl&gt; | sex25 &lt;dbl&gt; | sex54 &lt;dbl&gt; | sex64 &lt;dbl&gt; | sex65plus &lt;dbl&gt; | sexratio &lt;dbl&gt; | lung &lt;dbl&gt; | femalelung &lt;dbl&gt; | malelung &lt;dbl&gt; |\n",
       "|---|---|---|---|---|---|---|---|---|---|---|---|---|---|---|---|---|---|---|---|---|---|\n",
       "| 1 | Afghanistan         | 38,928,346 | NA | NA |  60 | 18 | 25 | <!----> | <!----> | <!----> | ⋯ | 1.05 | 1.03 | 1.03 | 1.03 | 0.97 | 0.85 | 1.03 | 37.62 | 36.31 | 39.33 |\n",
       "| 2 | Albania             | 2,877,797  | NA | NA | 105 | 36 | 63 | <!----> | <!----> | <!----> | ⋯ | 1.08 | 1.11 | 1.09 | 0.93 | 0.95 | 0.87 | 0.98 | 11.67 |  7.02 | 17.04 |\n",
       "| 3 | Algeria             | 43,851,044 | NA | NA |  18 | 29 | 73 | <!----> | <!----> | <!----> | ⋯ | 1.05 | 1.05 | 1.05 | 1.03 | 1.01 | 0.89 | 1.03 |  8.77 |  5.03 | 12.81 |\n",
       "| 4 | Andorra             | 77,265     | NA | NA | 164 | 45 | 88 | <!----> | <!----> | <!----> | ⋯ | 1.07 | 1.05 | 1.08 | 1.05 | 1.15 | 1.02 | 1.06 |    NA |    NA |    NA |\n",
       "| 5 | Antigua and Barbuda | 97,929     | NA | NA | 223 | 34 | 26 | <!----> | <!----> | <!----> | ⋯ | 1.05 | 1.03 | 0.99 | 0.84 | 0.82 | 0.76 | 0.90 | 11.76 |  7.67 | 18.78 |\n",
       "| 6 | Argentina           | 45,195,774 | NA | NA |  17 | 32 | 93 | 3/20/2020 | <!----> | <!----> | ⋯ | 1.05 | 1.06 | 1.05 | 1.00 | 0.94 | 0.71 | 0.98 | 29.27 | 20.16 | 42.59 |\n",
       "\n"
      ],
      "text/plain": [
       "  country             pop        tests testpop density medianage urbanpop\n",
       "1 Afghanistan         38,928,346 NA    NA       60     18        25      \n",
       "2 Albania             2,877,797  NA    NA      105     36        63      \n",
       "3 Algeria             43,851,044 NA    NA       18     29        73      \n",
       "4 Andorra             77,265     NA    NA      164     45        88      \n",
       "5 Antigua and Barbuda 97,929     NA    NA      223     34        26      \n",
       "6 Argentina           45,195,774 NA    NA       17     32        93      \n",
       "  quarantine schools restrictions ⋯ sex0 sex14 sex25 sex54 sex64 sex65plus\n",
       "1                                 ⋯ 1.05 1.03  1.03  1.03  0.97  0.85     \n",
       "2                                 ⋯ 1.08 1.11  1.09  0.93  0.95  0.87     \n",
       "3                                 ⋯ 1.05 1.05  1.05  1.03  1.01  0.89     \n",
       "4                                 ⋯ 1.07 1.05  1.08  1.05  1.15  1.02     \n",
       "5                                 ⋯ 1.05 1.03  0.99  0.84  0.82  0.76     \n",
       "6 3/20/2020                       ⋯ 1.05 1.06  1.05  1.00  0.94  0.71     \n",
       "  sexratio lung  femalelung malelung\n",
       "1 1.03     37.62 36.31      39.33   \n",
       "2 0.98     11.67  7.02      17.04   \n",
       "3 1.03      8.77  5.03      12.81   \n",
       "4 1.06        NA    NA         NA   \n",
       "5 0.90     11.76  7.67      18.78   \n",
       "6 0.98     29.27 20.16      42.59   "
      ]
     },
     "metadata": {},
     "output_type": "display_data"
    }
   ],
   "source": [
    "head(countryinfo.df)"
   ]
  },
  {
   "cell_type": "markdown",
   "metadata": {},
   "source": [
    "### Rename columns for consistency"
   ]
  },
  {
   "cell_type": "code",
   "execution_count": 5,
   "metadata": {
    "ExecuteTime": {
     "end_time": "2020-03-28T20:40:53.086760Z",
     "start_time": "2020-03-28T20:40:50.964Z"
    }
   },
   "outputs": [],
   "source": [
    "names(restrictions.df)[names(restrictions.df) == \"Date.Public.Places\"] <- \"Date.Public Places\"\n",
    "names(restrictions.df)[names(restrictions.df) == \"Date.Stay.at.Home\"] <- \"Date.Stay at Home\"\n",
    "names(restrictions.df)[names(restrictions.df) == \"Date.Non.essential\"] <- \"Date.Non-essential\"\n",
    "names(restrictions.df)[names(restrictions.df) == \"notes\"] <- \"Notes\"\n",
    "names(countryinfo.df)[names(countryinfo.df) == \"country\"] <- \"Country.Region\""
   ]
  },
  {
   "cell_type": "markdown",
   "metadata": {},
   "source": [
    "### Remove unused columns\n",
    "We will have this data after we merge it with restrictions.df"
   ]
  },
  {
   "cell_type": "code",
   "execution_count": 6,
   "metadata": {
    "ExecuteTime": {
     "end_time": "2020-03-28T20:40:53.129627Z",
     "start_time": "2020-03-28T20:40:51.015Z"
    }
   },
   "outputs": [],
   "source": [
    "countryinfo.df[c(\"quarantine\", \"schools\", \"restrictions\")] <- NULL\n",
    "restrictions.df[c(\"Notes\", \"Gatherings.limit\")] <- NULL"
   ]
  },
  {
   "cell_type": "markdown",
   "metadata": {},
   "source": [
    "### Convert all date column to proper R date type"
   ]
  },
  {
   "cell_type": "code",
   "execution_count": 7,
   "metadata": {},
   "outputs": [],
   "source": [
    "for (colname in c(\"Date.Schools\", \"Date.Public Places\", \"Date.Gatherings\", \"Date.Stay at Home\", \"Date.Lockdown\", \"Date.Non-essential\")) {\n",
    "    dates <- as.character(restrictions.df[,colname])\n",
    "    dates[dates == \"\"] <- NA\n",
    "    restrictions.df[,colname] <- as.Date(dates)\n",
    "}"
   ]
  },
  {
   "cell_type": "markdown",
   "metadata": {},
   "source": [
    "### Merge country extra data and lockdown dates"
   ]
  },
  {
   "cell_type": "markdown",
   "metadata": {},
   "source": [
    "We have two sources of data for stay at home / lockdown dates, we will keep in priority the ones from the online dataset."
   ]
  },
  {
   "cell_type": "code",
   "execution_count": 8,
   "metadata": {},
   "outputs": [],
   "source": [
    "restrictions.df[is.na(restrictions.df[,\"Date.Stay at Home\"]), \"Date.Stay at Home\"] <- restrictions.df[is.na(restrictions.df[,\"Date.Stay at Home\"]), \"Date.Lockdown\"]\n",
    "restrictions.df[,\"Date.Lockdown\"] <- NULL"
   ]
  },
  {
   "cell_type": "code",
   "execution_count": 9,
   "metadata": {
    "ExecuteTime": {
     "end_time": "2020-03-28T20:40:53.217731Z",
     "start_time": "2020-03-28T20:40:51.119Z"
    }
   },
   "outputs": [],
   "source": [
    "country_info_output.df <- merge(restrictions.df, countryinfo.df, by=c(\"Country.Region\"))"
   ]
  },
  {
   "cell_type": "code",
   "execution_count": 10,
   "metadata": {},
   "outputs": [
    {
     "data": {
      "text/html": [
       "<table>\n",
       "<caption>A data.frame: 109 × 9</caption>\n",
       "<thead>\n",
       "\t<tr><th scope=col>Country.Continent</th><th scope=col>Country.Region</th><th scope=col>Province.State</th><th scope=col>Date.Schools</th><th scope=col>Date.Public Places</th><th scope=col>Date.Gatherings</th><th scope=col>Date.Stay at Home</th><th scope=col>Date.Non-essential</th><th scope=col>mandatory</th></tr>\n",
       "\t<tr><th scope=col>&lt;fct&gt;</th><th scope=col>&lt;fct&gt;</th><th scope=col>&lt;fct&gt;</th><th scope=col>&lt;date&gt;</th><th scope=col>&lt;date&gt;</th><th scope=col>&lt;date&gt;</th><th scope=col>&lt;date&gt;</th><th scope=col>&lt;date&gt;</th><th scope=col>&lt;fct&gt;</th></tr>\n",
       "</thead>\n",
       "<tbody>\n",
       "\t<tr><td>             </td><td>Wyoming       </td><td>Wyoming       </td><td>2020-03-15</td><td>2020-03-19</td><td>NA</td><td>NA</td><td>NA</td><td>Yes,Yes          </td></tr>\n",
       "\t<tr><td>             </td><td>Wisconsin     </td><td>Wisconsin     </td><td>2020-03-18</td><td>2020-03-17</td><td>2020-03-20</td><td>NA</td><td>2020-03-24</td><td>Yes,Yes,Yes,Yes  </td></tr>\n",
       "\t<tr><td>             </td><td>West Virginia </td><td>West Virginia </td><td>2020-03-17</td><td>2020-03-17</td><td>NA</td><td>2020-03-24</td><td>NA</td><td>Yes,Yes,Yes      </td></tr>\n",
       "\t<tr><td>             </td><td>Washington DC </td><td>Washington DC </td><td>2020-03-16</td><td>2020-03-15</td><td>NA</td><td>NA</td><td>NA</td><td>Yes,Yes          </td></tr>\n",
       "\t<tr><td>             </td><td>Washington    </td><td>Washington    </td><td>2020-03-15</td><td>2020-03-15</td><td>NA</td><td>2020-03-23</td><td>NA</td><td>Yes,Yes,Yes      </td></tr>\n",
       "\t<tr><td>             </td><td>Virginia      </td><td>Virginia      </td><td>2020-03-13</td><td>2020-03-17</td><td>2020-03-24</td><td>NA</td><td>2020-03-24</td><td>Yes,Yes,Yes,Yes  </td></tr>\n",
       "\t<tr><td>             </td><td>Vietnam       </td><td>Vietnam       </td><td>2020-02-12</td><td>NA</td><td>NA</td><td>2020-02-13</td><td>NA</td><td>Yes,Yes          </td></tr>\n",
       "\t<tr><td>             </td><td>Vermont       </td><td>Vermont       </td><td>2020-03-18</td><td>2020-03-16</td><td>NA</td><td>2020-03-24</td><td>NA</td><td>Yes,Yes,Yes      </td></tr>\n",
       "\t<tr><td>South America</td><td>Venezuela     </td><td>Venezuela     </td><td>NA</td><td>NA</td><td>NA</td><td>2020-03-17</td><td>NA</td><td>Yes              </td></tr>\n",
       "\t<tr><td>             </td><td>Utah          </td><td>Utah          </td><td>2020-03-16</td><td>2020-03-18</td><td>2020-03-18</td><td>NA</td><td>NA</td><td>Yes,Yes,Yes      </td></tr>\n",
       "\t<tr><td>Europe       </td><td>United Kingdom</td><td>United Kingdom</td><td>2020-03-20</td><td>2020-03-20</td><td>NA</td><td>2020-03-23</td><td>NA</td><td>Yes,Yes,Yes      </td></tr>\n",
       "\t<tr><td>             </td><td>Turkey        </td><td>Turkey        </td><td>2020-03-16</td><td>2020-03-16</td><td>NA</td><td>NA</td><td>NA</td><td>Yes,Yes          </td></tr>\n",
       "\t<tr><td>Africa       </td><td>Tunisia       </td><td>Tunisia       </td><td>NA</td><td>NA</td><td>NA</td><td>2020-03-22</td><td>NA</td><td>                 </td></tr>\n",
       "\t<tr><td>             </td><td>Texas         </td><td>Texas         </td><td>2020-03-20</td><td>2020-03-20</td><td>2020-03-20</td><td>NA</td><td>NA</td><td>Yes,Yes,Yes      </td></tr>\n",
       "\t<tr><td>             </td><td>Tennessee     </td><td>Tennessee     </td><td>2020-03-16</td><td>2020-03-23</td><td>2020-03-23</td><td>NA</td><td>NA</td><td>Yes,Yes,Yes      </td></tr>\n",
       "\t<tr><td>             </td><td>Taiwan        </td><td>Taiwan        </td><td>2020-02-02</td><td>NA</td><td>NA</td><td>NA</td><td>NA</td><td>Yes              </td></tr>\n",
       "\t<tr><td>Europe       </td><td>Switzerland   </td><td>Switzerland   </td><td>2020-03-13</td><td>NA</td><td>2020-03-20</td><td>2020-03-24</td><td>2020-03-16</td><td>Yes,Yes,Yes      </td></tr>\n",
       "\t<tr><td>             </td><td>Sweden        </td><td>Sweden        </td><td>2020-03-17</td><td>NA</td><td>2020-03-11</td><td>NA</td><td>NA</td><td>Yes,No           </td></tr>\n",
       "\t<tr><td>Europe       </td><td>Spain         </td><td>Spain         </td><td>2020-03-12</td><td>NA</td><td>NA</td><td>2020-03-15</td><td>NA</td><td>Yes,Yes          </td></tr>\n",
       "\t<tr><td>             </td><td>South Dakota  </td><td>South Dakota  </td><td>2020-03-13</td><td>NA</td><td>2020-03-24</td><td>NA</td><td>NA</td><td>Yes,No           </td></tr>\n",
       "\t<tr><td>             </td><td>South Carolina</td><td>South Carolina</td><td>2020-03-14</td><td>2020-03-18</td><td>2020-03-23</td><td>NA</td><td>NA</td><td>Yes,Yes,No       </td></tr>\n",
       "\t<tr><td>Africa       </td><td>South Africa  </td><td>South Africa  </td><td>NA</td><td>NA</td><td>NA</td><td>2020-03-26</td><td>NA</td><td>Yes              </td></tr>\n",
       "\t<tr><td>South America</td><td>Brazil        </td><td>Sao Paulo     </td><td>NA</td><td>NA</td><td>NA</td><td>2020-03-24</td><td>NA</td><td>Yes              </td></tr>\n",
       "\t<tr><td>             </td><td>San Francisco </td><td>San Francisco </td><td>NA</td><td>NA</td><td>NA</td><td>2020-03-17</td><td>NA</td><td>Yes              </td></tr>\n",
       "\t<tr><td>             </td><td>Rwanda        </td><td>Rwanda        </td><td>NA</td><td>NA</td><td>NA</td><td>2020-03-21</td><td>NA</td><td>Yes              </td></tr>\n",
       "\t<tr><td>             </td><td>Rhode Island  </td><td>Rhode Island  </td><td>2020-03-17</td><td>2020-03-17</td><td>NA</td><td>NA</td><td>2020-03-23</td><td>Yes,Yes,Yes,No,No</td></tr>\n",
       "\t<tr><td>             </td><td>Puerto Rico   </td><td>Puerto Rico   </td><td>2020-03-16</td><td>NA</td><td>NA</td><td>2020-03-16</td><td>NA</td><td>Yes,Yes          </td></tr>\n",
       "\t<tr><td>Europe       </td><td>Portugal      </td><td>Portugal      </td><td>2020-03-19</td><td>2020-03-19</td><td>NA</td><td>2020-03-18</td><td>NA</td><td>Yes,Yes          </td></tr>\n",
       "\t<tr><td>             </td><td>Poland        </td><td>Poland        </td><td>2020-03-12</td><td>2020-03-12</td><td>NA</td><td>NA</td><td>NA</td><td>Yes,Yes          </td></tr>\n",
       "\t<tr><td>             </td><td>Peru          </td><td>Peru          </td><td>NA</td><td>NA</td><td>NA</td><td>2020-03-15</td><td>NA</td><td>Yes              </td></tr>\n",
       "\t<tr><td>⋮</td><td>⋮</td><td>⋮</td><td>⋮</td><td>⋮</td><td>⋮</td><td>⋮</td><td>⋮</td><td>⋮</td></tr>\n",
       "\t<tr><td>Europe       </td><td>Hungary       </td><td>Hungary      </td><td>NA</td><td>NA</td><td>NA</td><td>2020-03-27</td><td>NA</td><td>Yes            </td></tr>\n",
       "\t<tr><td>             </td><td>Hawaii        </td><td>Hawaii       </td><td>2020-03-13</td><td>2020-03-17</td><td>NA</td><td>2020-03-25</td><td>NA</td><td>Yes,Yes,Yes    </td></tr>\n",
       "\t<tr><td>Europe       </td><td>Greece        </td><td>Greece       </td><td>NA</td><td>NA</td><td>NA</td><td>2020-03-23</td><td>NA</td><td>               </td></tr>\n",
       "\t<tr><td>Europe       </td><td>Germany       </td><td>Germany      </td><td>2020-03-13</td><td>NA</td><td>NA</td><td>2020-03-21</td><td>NA</td><td>No,Yes         </td></tr>\n",
       "\t<tr><td>             </td><td>Georgia       </td><td>Georgia      </td><td>2020-03-18</td><td>2020-03-24</td><td>2020-03-24</td><td>NA</td><td>NA</td><td>Yes,Yes,Yes    </td></tr>\n",
       "\t<tr><td>Europe       </td><td>France        </td><td>France       </td><td>2020-03-16</td><td>NA</td><td>2020-03-13</td><td>2020-03-17</td><td>2020-03-15</td><td>Yes,Yes,Yes,Yes</td></tr>\n",
       "\t<tr><td>             </td><td>Florida       </td><td>Florida      </td><td>2020-03-16</td><td>2020-03-17</td><td>NA</td><td>NA</td><td>NA</td><td>Yes,Yes        </td></tr>\n",
       "\t<tr><td>             </td><td>El Salvador   </td><td>El Salvador  </td><td>NA</td><td>NA</td><td>NA</td><td>2020-03-12</td><td>NA</td><td>Yes            </td></tr>\n",
       "\t<tr><td>Europe       </td><td>Denmark       </td><td>Denmark      </td><td>2020-03-16</td><td>NA</td><td>NA</td><td>2020-03-16</td><td>NA</td><td>Yes,Yes        </td></tr>\n",
       "\t<tr><td>             </td><td>Delaware      </td><td>Delaware     </td><td>2020-03-16</td><td>2020-03-16</td><td>NA</td><td>2020-03-23</td><td>NA</td><td>Yes,Yes,Yes    </td></tr>\n",
       "\t<tr><td>Europe       </td><td>Czech Republic</td><td>Czech        </td><td>2020-03-13</td><td>2020-03-13</td><td>NA</td><td>2020-03-17</td><td>NA</td><td>Yes,Yes,Yes    </td></tr>\n",
       "\t<tr><td>             </td><td>Connecticut   </td><td>Connecticut  </td><td>2020-03-15</td><td>2020-03-16</td><td>NA</td><td>NA</td><td>2020-03-20</td><td>Yes,Yes,Yes    </td></tr>\n",
       "\t<tr><td>             </td><td>Colorado      </td><td>Colorado     </td><td>2020-03-18</td><td>2020-03-01</td><td>2020-03-18</td><td>NA</td><td>NA</td><td>Yes,Yes,Yes    </td></tr>\n",
       "\t<tr><td>South America</td><td>Colombia      </td><td>Colombia     </td><td>NA</td><td>NA</td><td>NA</td><td>2020-03-25</td><td>NA</td><td>Yes            </td></tr>\n",
       "\t<tr><td>Asia         </td><td>China         </td><td>China (Wuhan)</td><td>NA</td><td>NA</td><td>NA</td><td>2020-01-23</td><td>NA</td><td>Yes            </td></tr>\n",
       "\t<tr><td>Asia         </td><td>China         </td><td>China (Hubei)</td><td>NA</td><td>NA</td><td>NA</td><td>2020-01-24</td><td>2020-02-13</td><td>Yes            </td></tr>\n",
       "\t<tr><td>Asia         </td><td>China         </td><td>China        </td><td>2020-01-26</td><td>2020-01-26</td><td>NA</td><td>NA</td><td>NA</td><td>Yes,Yes        </td></tr>\n",
       "\t<tr><td>             </td><td>Canada        </td><td>Canada       </td><td>2020-03-15</td><td>2020-03-20</td><td>NA</td><td>NA</td><td>NA</td><td>Yes,Yes        </td></tr>\n",
       "\t<tr><td>North America</td><td>US            </td><td>California   </td><td>2020-03-12</td><td>2020-03-17</td><td>NA</td><td>2020-03-19</td><td>NA</td><td>Yes,Yes,Yes    </td></tr>\n",
       "\t<tr><td>Europe       </td><td>Bulgaria      </td><td>Bulgaria     </td><td>NA</td><td>NA</td><td>NA</td><td>2020-03-19</td><td>NA</td><td>               </td></tr>\n",
       "\t<tr><td>Europe       </td><td>Belgium       </td><td>Belgium      </td><td>NA</td><td>NA</td><td>NA</td><td>2020-03-18</td><td>NA</td><td>Yes            </td></tr>\n",
       "\t<tr><td>Europe       </td><td>Austria       </td><td>Austria      </td><td>NA</td><td>NA</td><td>NA</td><td>2020-03-16</td><td>NA</td><td>Yes            </td></tr>\n",
       "\t<tr><td>             </td><td>Australia     </td><td>Australia    </td><td>NA</td><td>2020-03-23</td><td>NA</td><td>NA</td><td>NA</td><td>Yes            </td></tr>\n",
       "\t<tr><td>             </td><td>Atlanta       </td><td>Atlanta      </td><td>NA</td><td>2020-03-19</td><td>NA</td><td>NA</td><td>NA</td><td>Yes            </td></tr>\n",
       "\t<tr><td>             </td><td>Arkansas      </td><td>Arkansas     </td><td>2020-03-17</td><td>NA</td><td>NA</td><td>NA</td><td>NA</td><td>Yes            </td></tr>\n",
       "\t<tr><td>             </td><td>Arizona       </td><td>Arizona      </td><td>2020-03-16</td><td>2020-03-20</td><td>NA</td><td>NA</td><td>NA</td><td>Yes,Yes        </td></tr>\n",
       "\t<tr><td>South America</td><td>Argentina     </td><td>Argentina    </td><td>NA</td><td>NA</td><td>NA</td><td>2020-03-20</td><td>NA</td><td>Yes            </td></tr>\n",
       "\t<tr><td>Africa       </td><td>Algeria       </td><td>Algeria      </td><td>NA</td><td>NA</td><td>NA</td><td>2020-03-28</td><td>NA</td><td>               </td></tr>\n",
       "\t<tr><td>             </td><td>Alaska        </td><td>Alaska       </td><td>2020-03-16</td><td>2020-03-18</td><td>2020-03-24</td><td>NA</td><td>NA</td><td>Yes,Yes,Yes    </td></tr>\n",
       "\t<tr><td>             </td><td>Alabama       </td><td>Alabama      </td><td>2020-03-18</td><td>2020-03-20</td><td>NA</td><td>NA</td><td>NA</td><td>Yes,Yes        </td></tr>\n",
       "</tbody>\n",
       "</table>\n"
      ],
      "text/latex": [
       "A data.frame: 109 × 9\n",
       "\\begin{tabular}{lllllllll}\n",
       " Country.Continent & Country.Region & Province.State & Date.Schools & Date.Public Places & Date.Gatherings & Date.Stay at Home & Date.Non-essential & mandatory\\\\\n",
       " <fct> & <fct> & <fct> & <date> & <date> & <date> & <date> & <date> & <fct>\\\\\n",
       "\\hline\n",
       "\t               & Wyoming        & Wyoming        & 2020-03-15 & 2020-03-19 & NA & NA & NA & Yes,Yes          \\\\\n",
       "\t               & Wisconsin      & Wisconsin      & 2020-03-18 & 2020-03-17 & 2020-03-20 & NA & 2020-03-24 & Yes,Yes,Yes,Yes  \\\\\n",
       "\t               & West Virginia  & West Virginia  & 2020-03-17 & 2020-03-17 & NA & 2020-03-24 & NA & Yes,Yes,Yes      \\\\\n",
       "\t               & Washington DC  & Washington DC  & 2020-03-16 & 2020-03-15 & NA & NA & NA & Yes,Yes          \\\\\n",
       "\t               & Washington     & Washington     & 2020-03-15 & 2020-03-15 & NA & 2020-03-23 & NA & Yes,Yes,Yes      \\\\\n",
       "\t               & Virginia       & Virginia       & 2020-03-13 & 2020-03-17 & 2020-03-24 & NA & 2020-03-24 & Yes,Yes,Yes,Yes  \\\\\n",
       "\t               & Vietnam        & Vietnam        & 2020-02-12 & NA & NA & 2020-02-13 & NA & Yes,Yes          \\\\\n",
       "\t               & Vermont        & Vermont        & 2020-03-18 & 2020-03-16 & NA & 2020-03-24 & NA & Yes,Yes,Yes      \\\\\n",
       "\t South America & Venezuela      & Venezuela      & NA & NA & NA & 2020-03-17 & NA & Yes              \\\\\n",
       "\t               & Utah           & Utah           & 2020-03-16 & 2020-03-18 & 2020-03-18 & NA & NA & Yes,Yes,Yes      \\\\\n",
       "\t Europe        & United Kingdom & United Kingdom & 2020-03-20 & 2020-03-20 & NA & 2020-03-23 & NA & Yes,Yes,Yes      \\\\\n",
       "\t               & Turkey         & Turkey         & 2020-03-16 & 2020-03-16 & NA & NA & NA & Yes,Yes          \\\\\n",
       "\t Africa        & Tunisia        & Tunisia        & NA & NA & NA & 2020-03-22 & NA &                  \\\\\n",
       "\t               & Texas          & Texas          & 2020-03-20 & 2020-03-20 & 2020-03-20 & NA & NA & Yes,Yes,Yes      \\\\\n",
       "\t               & Tennessee      & Tennessee      & 2020-03-16 & 2020-03-23 & 2020-03-23 & NA & NA & Yes,Yes,Yes      \\\\\n",
       "\t               & Taiwan         & Taiwan         & 2020-02-02 & NA & NA & NA & NA & Yes              \\\\\n",
       "\t Europe        & Switzerland    & Switzerland    & 2020-03-13 & NA & 2020-03-20 & 2020-03-24 & 2020-03-16 & Yes,Yes,Yes      \\\\\n",
       "\t               & Sweden         & Sweden         & 2020-03-17 & NA & 2020-03-11 & NA & NA & Yes,No           \\\\\n",
       "\t Europe        & Spain          & Spain          & 2020-03-12 & NA & NA & 2020-03-15 & NA & Yes,Yes          \\\\\n",
       "\t               & South Dakota   & South Dakota   & 2020-03-13 & NA & 2020-03-24 & NA & NA & Yes,No           \\\\\n",
       "\t               & South Carolina & South Carolina & 2020-03-14 & 2020-03-18 & 2020-03-23 & NA & NA & Yes,Yes,No       \\\\\n",
       "\t Africa        & South Africa   & South Africa   & NA & NA & NA & 2020-03-26 & NA & Yes              \\\\\n",
       "\t South America & Brazil         & Sao Paulo      & NA & NA & NA & 2020-03-24 & NA & Yes              \\\\\n",
       "\t               & San Francisco  & San Francisco  & NA & NA & NA & 2020-03-17 & NA & Yes              \\\\\n",
       "\t               & Rwanda         & Rwanda         & NA & NA & NA & 2020-03-21 & NA & Yes              \\\\\n",
       "\t               & Rhode Island   & Rhode Island   & 2020-03-17 & 2020-03-17 & NA & NA & 2020-03-23 & Yes,Yes,Yes,No,No\\\\\n",
       "\t               & Puerto Rico    & Puerto Rico    & 2020-03-16 & NA & NA & 2020-03-16 & NA & Yes,Yes          \\\\\n",
       "\t Europe        & Portugal       & Portugal       & 2020-03-19 & 2020-03-19 & NA & 2020-03-18 & NA & Yes,Yes          \\\\\n",
       "\t               & Poland         & Poland         & 2020-03-12 & 2020-03-12 & NA & NA & NA & Yes,Yes          \\\\\n",
       "\t               & Peru           & Peru           & NA & NA & NA & 2020-03-15 & NA & Yes              \\\\\n",
       "\t ⋮ & ⋮ & ⋮ & ⋮ & ⋮ & ⋮ & ⋮ & ⋮ & ⋮\\\\\n",
       "\t Europe        & Hungary        & Hungary       & NA & NA & NA & 2020-03-27 & NA & Yes            \\\\\n",
       "\t               & Hawaii         & Hawaii        & 2020-03-13 & 2020-03-17 & NA & 2020-03-25 & NA & Yes,Yes,Yes    \\\\\n",
       "\t Europe        & Greece         & Greece        & NA & NA & NA & 2020-03-23 & NA &                \\\\\n",
       "\t Europe        & Germany        & Germany       & 2020-03-13 & NA & NA & 2020-03-21 & NA & No,Yes         \\\\\n",
       "\t               & Georgia        & Georgia       & 2020-03-18 & 2020-03-24 & 2020-03-24 & NA & NA & Yes,Yes,Yes    \\\\\n",
       "\t Europe        & France         & France        & 2020-03-16 & NA & 2020-03-13 & 2020-03-17 & 2020-03-15 & Yes,Yes,Yes,Yes\\\\\n",
       "\t               & Florida        & Florida       & 2020-03-16 & 2020-03-17 & NA & NA & NA & Yes,Yes        \\\\\n",
       "\t               & El Salvador    & El Salvador   & NA & NA & NA & 2020-03-12 & NA & Yes            \\\\\n",
       "\t Europe        & Denmark        & Denmark       & 2020-03-16 & NA & NA & 2020-03-16 & NA & Yes,Yes        \\\\\n",
       "\t               & Delaware       & Delaware      & 2020-03-16 & 2020-03-16 & NA & 2020-03-23 & NA & Yes,Yes,Yes    \\\\\n",
       "\t Europe        & Czech Republic & Czech         & 2020-03-13 & 2020-03-13 & NA & 2020-03-17 & NA & Yes,Yes,Yes    \\\\\n",
       "\t               & Connecticut    & Connecticut   & 2020-03-15 & 2020-03-16 & NA & NA & 2020-03-20 & Yes,Yes,Yes    \\\\\n",
       "\t               & Colorado       & Colorado      & 2020-03-18 & 2020-03-01 & 2020-03-18 & NA & NA & Yes,Yes,Yes    \\\\\n",
       "\t South America & Colombia       & Colombia      & NA & NA & NA & 2020-03-25 & NA & Yes            \\\\\n",
       "\t Asia          & China          & China (Wuhan) & NA & NA & NA & 2020-01-23 & NA & Yes            \\\\\n",
       "\t Asia          & China          & China (Hubei) & NA & NA & NA & 2020-01-24 & 2020-02-13 & Yes            \\\\\n",
       "\t Asia          & China          & China         & 2020-01-26 & 2020-01-26 & NA & NA & NA & Yes,Yes        \\\\\n",
       "\t               & Canada         & Canada        & 2020-03-15 & 2020-03-20 & NA & NA & NA & Yes,Yes        \\\\\n",
       "\t North America & US             & California    & 2020-03-12 & 2020-03-17 & NA & 2020-03-19 & NA & Yes,Yes,Yes    \\\\\n",
       "\t Europe        & Bulgaria       & Bulgaria      & NA & NA & NA & 2020-03-19 & NA &                \\\\\n",
       "\t Europe        & Belgium        & Belgium       & NA & NA & NA & 2020-03-18 & NA & Yes            \\\\\n",
       "\t Europe        & Austria        & Austria       & NA & NA & NA & 2020-03-16 & NA & Yes            \\\\\n",
       "\t               & Australia      & Australia     & NA & 2020-03-23 & NA & NA & NA & Yes            \\\\\n",
       "\t               & Atlanta        & Atlanta       & NA & 2020-03-19 & NA & NA & NA & Yes            \\\\\n",
       "\t               & Arkansas       & Arkansas      & 2020-03-17 & NA & NA & NA & NA & Yes            \\\\\n",
       "\t               & Arizona        & Arizona       & 2020-03-16 & 2020-03-20 & NA & NA & NA & Yes,Yes        \\\\\n",
       "\t South America & Argentina      & Argentina     & NA & NA & NA & 2020-03-20 & NA & Yes            \\\\\n",
       "\t Africa        & Algeria        & Algeria       & NA & NA & NA & 2020-03-28 & NA &                \\\\\n",
       "\t               & Alaska         & Alaska        & 2020-03-16 & 2020-03-18 & 2020-03-24 & NA & NA & Yes,Yes,Yes    \\\\\n",
       "\t               & Alabama        & Alabama       & 2020-03-18 & 2020-03-20 & NA & NA & NA & Yes,Yes        \\\\\n",
       "\\end{tabular}\n"
      ],
      "text/markdown": [
       "\n",
       "A data.frame: 109 × 9\n",
       "\n",
       "| Country.Continent &lt;fct&gt; | Country.Region &lt;fct&gt; | Province.State &lt;fct&gt; | Date.Schools &lt;date&gt; | Date.Public Places &lt;date&gt; | Date.Gatherings &lt;date&gt; | Date.Stay at Home &lt;date&gt; | Date.Non-essential &lt;date&gt; | mandatory &lt;fct&gt; |\n",
       "|---|---|---|---|---|---|---|---|---|\n",
       "| <!----> | Wyoming        | Wyoming        | 2020-03-15 | 2020-03-19 | NA | NA | NA | Yes,Yes           |\n",
       "| <!----> | Wisconsin      | Wisconsin      | 2020-03-18 | 2020-03-17 | 2020-03-20 | NA | 2020-03-24 | Yes,Yes,Yes,Yes   |\n",
       "| <!----> | West Virginia  | West Virginia  | 2020-03-17 | 2020-03-17 | NA | 2020-03-24 | NA | Yes,Yes,Yes       |\n",
       "| <!----> | Washington DC  | Washington DC  | 2020-03-16 | 2020-03-15 | NA | NA | NA | Yes,Yes           |\n",
       "| <!----> | Washington     | Washington     | 2020-03-15 | 2020-03-15 | NA | 2020-03-23 | NA | Yes,Yes,Yes       |\n",
       "| <!----> | Virginia       | Virginia       | 2020-03-13 | 2020-03-17 | 2020-03-24 | NA | 2020-03-24 | Yes,Yes,Yes,Yes   |\n",
       "| <!----> | Vietnam        | Vietnam        | 2020-02-12 | NA | NA | 2020-02-13 | NA | Yes,Yes           |\n",
       "| <!----> | Vermont        | Vermont        | 2020-03-18 | 2020-03-16 | NA | 2020-03-24 | NA | Yes,Yes,Yes       |\n",
       "| South America | Venezuela      | Venezuela      | NA | NA | NA | 2020-03-17 | NA | Yes               |\n",
       "| <!----> | Utah           | Utah           | 2020-03-16 | 2020-03-18 | 2020-03-18 | NA | NA | Yes,Yes,Yes       |\n",
       "| Europe        | United Kingdom | United Kingdom | 2020-03-20 | 2020-03-20 | NA | 2020-03-23 | NA | Yes,Yes,Yes       |\n",
       "| <!----> | Turkey         | Turkey         | 2020-03-16 | 2020-03-16 | NA | NA | NA | Yes,Yes           |\n",
       "| Africa        | Tunisia        | Tunisia        | NA | NA | NA | 2020-03-22 | NA | <!----> |\n",
       "| <!----> | Texas          | Texas          | 2020-03-20 | 2020-03-20 | 2020-03-20 | NA | NA | Yes,Yes,Yes       |\n",
       "| <!----> | Tennessee      | Tennessee      | 2020-03-16 | 2020-03-23 | 2020-03-23 | NA | NA | Yes,Yes,Yes       |\n",
       "| <!----> | Taiwan         | Taiwan         | 2020-02-02 | NA | NA | NA | NA | Yes               |\n",
       "| Europe        | Switzerland    | Switzerland    | 2020-03-13 | NA | 2020-03-20 | 2020-03-24 | 2020-03-16 | Yes,Yes,Yes       |\n",
       "| <!----> | Sweden         | Sweden         | 2020-03-17 | NA | 2020-03-11 | NA | NA | Yes,No            |\n",
       "| Europe        | Spain          | Spain          | 2020-03-12 | NA | NA | 2020-03-15 | NA | Yes,Yes           |\n",
       "| <!----> | South Dakota   | South Dakota   | 2020-03-13 | NA | 2020-03-24 | NA | NA | Yes,No            |\n",
       "| <!----> | South Carolina | South Carolina | 2020-03-14 | 2020-03-18 | 2020-03-23 | NA | NA | Yes,Yes,No        |\n",
       "| Africa        | South Africa   | South Africa   | NA | NA | NA | 2020-03-26 | NA | Yes               |\n",
       "| South America | Brazil         | Sao Paulo      | NA | NA | NA | 2020-03-24 | NA | Yes               |\n",
       "| <!----> | San Francisco  | San Francisco  | NA | NA | NA | 2020-03-17 | NA | Yes               |\n",
       "| <!----> | Rwanda         | Rwanda         | NA | NA | NA | 2020-03-21 | NA | Yes               |\n",
       "| <!----> | Rhode Island   | Rhode Island   | 2020-03-17 | 2020-03-17 | NA | NA | 2020-03-23 | Yes,Yes,Yes,No,No |\n",
       "| <!----> | Puerto Rico    | Puerto Rico    | 2020-03-16 | NA | NA | 2020-03-16 | NA | Yes,Yes           |\n",
       "| Europe        | Portugal       | Portugal       | 2020-03-19 | 2020-03-19 | NA | 2020-03-18 | NA | Yes,Yes           |\n",
       "| <!----> | Poland         | Poland         | 2020-03-12 | 2020-03-12 | NA | NA | NA | Yes,Yes           |\n",
       "| <!----> | Peru           | Peru           | NA | NA | NA | 2020-03-15 | NA | Yes               |\n",
       "| ⋮ | ⋮ | ⋮ | ⋮ | ⋮ | ⋮ | ⋮ | ⋮ | ⋮ |\n",
       "| Europe        | Hungary        | Hungary       | NA | NA | NA | 2020-03-27 | NA | Yes             |\n",
       "| <!----> | Hawaii         | Hawaii        | 2020-03-13 | 2020-03-17 | NA | 2020-03-25 | NA | Yes,Yes,Yes     |\n",
       "| Europe        | Greece         | Greece        | NA | NA | NA | 2020-03-23 | NA | <!----> |\n",
       "| Europe        | Germany        | Germany       | 2020-03-13 | NA | NA | 2020-03-21 | NA | No,Yes          |\n",
       "| <!----> | Georgia        | Georgia       | 2020-03-18 | 2020-03-24 | 2020-03-24 | NA | NA | Yes,Yes,Yes     |\n",
       "| Europe        | France         | France        | 2020-03-16 | NA | 2020-03-13 | 2020-03-17 | 2020-03-15 | Yes,Yes,Yes,Yes |\n",
       "| <!----> | Florida        | Florida       | 2020-03-16 | 2020-03-17 | NA | NA | NA | Yes,Yes         |\n",
       "| <!----> | El Salvador    | El Salvador   | NA | NA | NA | 2020-03-12 | NA | Yes             |\n",
       "| Europe        | Denmark        | Denmark       | 2020-03-16 | NA | NA | 2020-03-16 | NA | Yes,Yes         |\n",
       "| <!----> | Delaware       | Delaware      | 2020-03-16 | 2020-03-16 | NA | 2020-03-23 | NA | Yes,Yes,Yes     |\n",
       "| Europe        | Czech Republic | Czech         | 2020-03-13 | 2020-03-13 | NA | 2020-03-17 | NA | Yes,Yes,Yes     |\n",
       "| <!----> | Connecticut    | Connecticut   | 2020-03-15 | 2020-03-16 | NA | NA | 2020-03-20 | Yes,Yes,Yes     |\n",
       "| <!----> | Colorado       | Colorado      | 2020-03-18 | 2020-03-01 | 2020-03-18 | NA | NA | Yes,Yes,Yes     |\n",
       "| South America | Colombia       | Colombia      | NA | NA | NA | 2020-03-25 | NA | Yes             |\n",
       "| Asia          | China          | China (Wuhan) | NA | NA | NA | 2020-01-23 | NA | Yes             |\n",
       "| Asia          | China          | China (Hubei) | NA | NA | NA | 2020-01-24 | 2020-02-13 | Yes             |\n",
       "| Asia          | China          | China         | 2020-01-26 | 2020-01-26 | NA | NA | NA | Yes,Yes         |\n",
       "| <!----> | Canada         | Canada        | 2020-03-15 | 2020-03-20 | NA | NA | NA | Yes,Yes         |\n",
       "| North America | US             | California    | 2020-03-12 | 2020-03-17 | NA | 2020-03-19 | NA | Yes,Yes,Yes     |\n",
       "| Europe        | Bulgaria       | Bulgaria      | NA | NA | NA | 2020-03-19 | NA | <!----> |\n",
       "| Europe        | Belgium        | Belgium       | NA | NA | NA | 2020-03-18 | NA | Yes             |\n",
       "| Europe        | Austria        | Austria       | NA | NA | NA | 2020-03-16 | NA | Yes             |\n",
       "| <!----> | Australia      | Australia     | NA | 2020-03-23 | NA | NA | NA | Yes             |\n",
       "| <!----> | Atlanta        | Atlanta       | NA | 2020-03-19 | NA | NA | NA | Yes             |\n",
       "| <!----> | Arkansas       | Arkansas      | 2020-03-17 | NA | NA | NA | NA | Yes             |\n",
       "| <!----> | Arizona        | Arizona       | 2020-03-16 | 2020-03-20 | NA | NA | NA | Yes,Yes         |\n",
       "| South America | Argentina      | Argentina     | NA | NA | NA | 2020-03-20 | NA | Yes             |\n",
       "| Africa        | Algeria        | Algeria       | NA | NA | NA | 2020-03-28 | NA | <!----> |\n",
       "| <!----> | Alaska         | Alaska        | 2020-03-16 | 2020-03-18 | 2020-03-24 | NA | NA | Yes,Yes,Yes     |\n",
       "| <!----> | Alabama        | Alabama       | 2020-03-18 | 2020-03-20 | NA | NA | NA | Yes,Yes         |\n",
       "\n"
      ],
      "text/plain": [
       "    Country.Continent Country.Region Province.State Date.Schools\n",
       "1                     Wyoming        Wyoming        2020-03-15  \n",
       "2                     Wisconsin      Wisconsin      2020-03-18  \n",
       "3                     West Virginia  West Virginia  2020-03-17  \n",
       "4                     Washington DC  Washington DC  2020-03-16  \n",
       "5                     Washington     Washington     2020-03-15  \n",
       "6                     Virginia       Virginia       2020-03-13  \n",
       "7                     Vietnam        Vietnam        2020-02-12  \n",
       "8                     Vermont        Vermont        2020-03-18  \n",
       "9   South America     Venezuela      Venezuela      <NA>        \n",
       "10                    Utah           Utah           2020-03-16  \n",
       "11  Europe            United Kingdom United Kingdom 2020-03-20  \n",
       "12                    Turkey         Turkey         2020-03-16  \n",
       "13  Africa            Tunisia        Tunisia        <NA>        \n",
       "14                    Texas          Texas          2020-03-20  \n",
       "15                    Tennessee      Tennessee      2020-03-16  \n",
       "16                    Taiwan         Taiwan         2020-02-02  \n",
       "17  Europe            Switzerland    Switzerland    2020-03-13  \n",
       "18                    Sweden         Sweden         2020-03-17  \n",
       "19  Europe            Spain          Spain          2020-03-12  \n",
       "20                    South Dakota   South Dakota   2020-03-13  \n",
       "21                    South Carolina South Carolina 2020-03-14  \n",
       "22  Africa            South Africa   South Africa   <NA>        \n",
       "23  South America     Brazil         Sao Paulo      <NA>        \n",
       "24                    San Francisco  San Francisco  <NA>        \n",
       "25                    Rwanda         Rwanda         <NA>        \n",
       "26                    Rhode Island   Rhode Island   2020-03-17  \n",
       "27                    Puerto Rico    Puerto Rico    2020-03-16  \n",
       "28  Europe            Portugal       Portugal       2020-03-19  \n",
       "29                    Poland         Poland         2020-03-12  \n",
       "30                    Peru           Peru           <NA>        \n",
       "⋮   ⋮                 ⋮              ⋮              ⋮           \n",
       "80  Europe            Hungary        Hungary        <NA>        \n",
       "81                    Hawaii         Hawaii         2020-03-13  \n",
       "82  Europe            Greece         Greece         <NA>        \n",
       "83  Europe            Germany        Germany        2020-03-13  \n",
       "84                    Georgia        Georgia        2020-03-18  \n",
       "85  Europe            France         France         2020-03-16  \n",
       "86                    Florida        Florida        2020-03-16  \n",
       "87                    El Salvador    El Salvador    <NA>        \n",
       "88  Europe            Denmark        Denmark        2020-03-16  \n",
       "89                    Delaware       Delaware       2020-03-16  \n",
       "90  Europe            Czech Republic Czech          2020-03-13  \n",
       "91                    Connecticut    Connecticut    2020-03-15  \n",
       "92                    Colorado       Colorado       2020-03-18  \n",
       "93  South America     Colombia       Colombia       <NA>        \n",
       "94  Asia              China          China (Wuhan)  <NA>        \n",
       "95  Asia              China          China (Hubei)  <NA>        \n",
       "96  Asia              China          China          2020-01-26  \n",
       "97                    Canada         Canada         2020-03-15  \n",
       "98  North America     US             California     2020-03-12  \n",
       "99  Europe            Bulgaria       Bulgaria       <NA>        \n",
       "100 Europe            Belgium        Belgium        <NA>        \n",
       "101 Europe            Austria        Austria        <NA>        \n",
       "102                   Australia      Australia      <NA>        \n",
       "103                   Atlanta        Atlanta        <NA>        \n",
       "104                   Arkansas       Arkansas       2020-03-17  \n",
       "105                   Arizona        Arizona        2020-03-16  \n",
       "106 South America     Argentina      Argentina      <NA>        \n",
       "107 Africa            Algeria        Algeria        <NA>        \n",
       "108                   Alaska         Alaska         2020-03-16  \n",
       "109                   Alabama        Alabama        2020-03-18  \n",
       "    Date.Public Places Date.Gatherings Date.Stay at Home Date.Non-essential\n",
       "1   2020-03-19         <NA>            <NA>              <NA>              \n",
       "2   2020-03-17         2020-03-20      <NA>              2020-03-24        \n",
       "3   2020-03-17         <NA>            2020-03-24        <NA>              \n",
       "4   2020-03-15         <NA>            <NA>              <NA>              \n",
       "5   2020-03-15         <NA>            2020-03-23        <NA>              \n",
       "6   2020-03-17         2020-03-24      <NA>              2020-03-24        \n",
       "7   <NA>               <NA>            2020-02-13        <NA>              \n",
       "8   2020-03-16         <NA>            2020-03-24        <NA>              \n",
       "9   <NA>               <NA>            2020-03-17        <NA>              \n",
       "10  2020-03-18         2020-03-18      <NA>              <NA>              \n",
       "11  2020-03-20         <NA>            2020-03-23        <NA>              \n",
       "12  2020-03-16         <NA>            <NA>              <NA>              \n",
       "13  <NA>               <NA>            2020-03-22        <NA>              \n",
       "14  2020-03-20         2020-03-20      <NA>              <NA>              \n",
       "15  2020-03-23         2020-03-23      <NA>              <NA>              \n",
       "16  <NA>               <NA>            <NA>              <NA>              \n",
       "17  <NA>               2020-03-20      2020-03-24        2020-03-16        \n",
       "18  <NA>               2020-03-11      <NA>              <NA>              \n",
       "19  <NA>               <NA>            2020-03-15        <NA>              \n",
       "20  <NA>               2020-03-24      <NA>              <NA>              \n",
       "21  2020-03-18         2020-03-23      <NA>              <NA>              \n",
       "22  <NA>               <NA>            2020-03-26        <NA>              \n",
       "23  <NA>               <NA>            2020-03-24        <NA>              \n",
       "24  <NA>               <NA>            2020-03-17        <NA>              \n",
       "25  <NA>               <NA>            2020-03-21        <NA>              \n",
       "26  2020-03-17         <NA>            <NA>              2020-03-23        \n",
       "27  <NA>               <NA>            2020-03-16        <NA>              \n",
       "28  2020-03-19         <NA>            2020-03-18        <NA>              \n",
       "29  2020-03-12         <NA>            <NA>              <NA>              \n",
       "30  <NA>               <NA>            2020-03-15        <NA>              \n",
       "⋮   ⋮                  ⋮               ⋮                 ⋮                 \n",
       "80  <NA>               <NA>            2020-03-27        <NA>              \n",
       "81  2020-03-17         <NA>            2020-03-25        <NA>              \n",
       "82  <NA>               <NA>            2020-03-23        <NA>              \n",
       "83  <NA>               <NA>            2020-03-21        <NA>              \n",
       "84  2020-03-24         2020-03-24      <NA>              <NA>              \n",
       "85  <NA>               2020-03-13      2020-03-17        2020-03-15        \n",
       "86  2020-03-17         <NA>            <NA>              <NA>              \n",
       "87  <NA>               <NA>            2020-03-12        <NA>              \n",
       "88  <NA>               <NA>            2020-03-16        <NA>              \n",
       "89  2020-03-16         <NA>            2020-03-23        <NA>              \n",
       "90  2020-03-13         <NA>            2020-03-17        <NA>              \n",
       "91  2020-03-16         <NA>            <NA>              2020-03-20        \n",
       "92  2020-03-01         2020-03-18      <NA>              <NA>              \n",
       "93  <NA>               <NA>            2020-03-25        <NA>              \n",
       "94  <NA>               <NA>            2020-01-23        <NA>              \n",
       "95  <NA>               <NA>            2020-01-24        2020-02-13        \n",
       "96  2020-01-26         <NA>            <NA>              <NA>              \n",
       "97  2020-03-20         <NA>            <NA>              <NA>              \n",
       "98  2020-03-17         <NA>            2020-03-19        <NA>              \n",
       "99  <NA>               <NA>            2020-03-19        <NA>              \n",
       "100 <NA>               <NA>            2020-03-18        <NA>              \n",
       "101 <NA>               <NA>            2020-03-16        <NA>              \n",
       "102 2020-03-23         <NA>            <NA>              <NA>              \n",
       "103 2020-03-19         <NA>            <NA>              <NA>              \n",
       "104 <NA>               <NA>            <NA>              <NA>              \n",
       "105 2020-03-20         <NA>            <NA>              <NA>              \n",
       "106 <NA>               <NA>            2020-03-20        <NA>              \n",
       "107 <NA>               <NA>            2020-03-28        <NA>              \n",
       "108 2020-03-18         2020-03-24      <NA>              <NA>              \n",
       "109 2020-03-20         <NA>            <NA>              <NA>              \n",
       "    mandatory        \n",
       "1   Yes,Yes          \n",
       "2   Yes,Yes,Yes,Yes  \n",
       "3   Yes,Yes,Yes      \n",
       "4   Yes,Yes          \n",
       "5   Yes,Yes,Yes      \n",
       "6   Yes,Yes,Yes,Yes  \n",
       "7   Yes,Yes          \n",
       "8   Yes,Yes,Yes      \n",
       "9   Yes              \n",
       "10  Yes,Yes,Yes      \n",
       "11  Yes,Yes,Yes      \n",
       "12  Yes,Yes          \n",
       "13                   \n",
       "14  Yes,Yes,Yes      \n",
       "15  Yes,Yes,Yes      \n",
       "16  Yes              \n",
       "17  Yes,Yes,Yes      \n",
       "18  Yes,No           \n",
       "19  Yes,Yes          \n",
       "20  Yes,No           \n",
       "21  Yes,Yes,No       \n",
       "22  Yes              \n",
       "23  Yes              \n",
       "24  Yes              \n",
       "25  Yes              \n",
       "26  Yes,Yes,Yes,No,No\n",
       "27  Yes,Yes          \n",
       "28  Yes,Yes          \n",
       "29  Yes,Yes          \n",
       "30  Yes              \n",
       "⋮   ⋮                \n",
       "80  Yes              \n",
       "81  Yes,Yes,Yes      \n",
       "82                   \n",
       "83  No,Yes           \n",
       "84  Yes,Yes,Yes      \n",
       "85  Yes,Yes,Yes,Yes  \n",
       "86  Yes,Yes          \n",
       "87  Yes              \n",
       "88  Yes,Yes          \n",
       "89  Yes,Yes,Yes      \n",
       "90  Yes,Yes,Yes      \n",
       "91  Yes,Yes,Yes      \n",
       "92  Yes,Yes,Yes      \n",
       "93  Yes              \n",
       "94  Yes              \n",
       "95  Yes              \n",
       "96  Yes,Yes          \n",
       "97  Yes,Yes          \n",
       "98  Yes,Yes,Yes      \n",
       "99                   \n",
       "100 Yes              \n",
       "101 Yes              \n",
       "102 Yes              \n",
       "103 Yes              \n",
       "104 Yes              \n",
       "105 Yes,Yes          \n",
       "106 Yes              \n",
       "107                  \n",
       "108 Yes,Yes,Yes      \n",
       "109 Yes,Yes          "
      ]
     },
     "metadata": {},
     "output_type": "display_data"
    }
   ],
   "source": [
    "restrictions.df"
   ]
  },
  {
   "cell_type": "code",
   "execution_count": 11,
   "metadata": {
    "ExecuteTime": {
     "end_time": "2020-03-28T20:40:53.276574Z",
     "start_time": "2020-03-28T20:40:51.122Z"
    }
   },
   "outputs": [],
   "source": [
    "saveRDS(country_info_output.df, \"data/COVID19_Country_Info.Rdata\", version = 2)"
   ]
  },
  {
   "cell_type": "code",
   "execution_count": null,
   "metadata": {},
   "outputs": [],
   "source": []
  }
 ],
 "metadata": {
  "kernelspec": {
   "display_name": "R",
   "language": "R",
   "name": "ir"
  },
  "language_info": {
   "codemirror_mode": "r",
   "file_extension": ".r",
   "mimetype": "text/x-r-source",
   "name": "R",
   "pygments_lexer": "r",
   "version": "3.6.3"
  },
  "latex_envs": {
   "LaTeX_envs_menu_present": true,
   "autoclose": false,
   "autocomplete": true,
   "bibliofile": "biblio.bib",
   "cite_by": "apalike",
   "current_citInitial": 1,
   "eqLabelWithNumbers": true,
   "eqNumInitial": 1,
   "hotkeys": {
    "equation": "Ctrl-E",
    "itemize": "Ctrl-I"
   },
   "labels_anchors": false,
   "latex_user_defs": false,
   "report_style_numbering": false,
   "user_envs_cfg": false
  },
  "toc": {
   "base_numbering": 1,
   "nav_menu": {},
   "number_sections": true,
   "sideBar": true,
   "skip_h1_title": false,
   "title_cell": "Table of Contents",
   "title_sidebar": "Contents",
   "toc_cell": false,
   "toc_position": {},
   "toc_section_display": true,
   "toc_window_display": false
  },
  "varInspector": {
   "cols": {
    "lenName": 16,
    "lenType": 16,
    "lenVar": 40
   },
   "kernels_config": {
    "python": {
     "delete_cmd_postfix": "",
     "delete_cmd_prefix": "del ",
     "library": "var_list.py",
     "varRefreshCmd": "print(var_dic_list())"
    },
    "r": {
     "delete_cmd_postfix": ") ",
     "delete_cmd_prefix": "rm(",
     "library": "var_list.r",
     "varRefreshCmd": "cat(var_dic_list()) "
    }
   },
   "types_to_exclude": [
    "module",
    "function",
    "builtin_function_or_method",
    "instance",
    "_Feature"
   ],
   "window_display": false
  }
 },
 "nbformat": 4,
 "nbformat_minor": 2
}
