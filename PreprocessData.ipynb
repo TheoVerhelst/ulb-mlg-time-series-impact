{
 "cells": [
  {
   "cell_type": "markdown",
   "metadata": {},
   "source": [
    "# Preprocess Raw Data"
   ]
  },
  {
   "cell_type": "code",
   "execution_count": 21,
   "metadata": {
    "ExecuteTime": {
     "end_time": "2020-03-27T21:04:45.788051Z",
     "start_time": "2020-03-27T21:04:45.704Z"
    }
   },
   "outputs": [],
   "source": [
    "library(reshape)\n",
    "library(plyr)"
   ]
  },
  {
   "cell_type": "code",
   "execution_count": 22,
   "metadata": {
    "ExecuteTime": {
     "end_time": "2020-03-27T20:48:13.534048Z",
     "start_time": "2020-03-27T20:48:13.504Z"
    }
   },
   "outputs": [],
   "source": [
    "horizontaldf2verticaldf <- function(horizontal.df,value_column_name){\n",
    "    colnames(horizontal.df) <- c(c(\"Province.State\",\"Country.Region\",\"Lat\",\"Long\"),seq(as.Date(\"2020-01-22\"), length = ncol(global_recovered.df)-4, by = \"days\"))\n",
    "    vertical.df <- melt(horizontal.df,\n",
    "             id=c(\"Province.State\",\"Country.Region\",\"Lat\",\"Long\"))\n",
    "    colnames(vertical.df) <- c(c(\"Province.State\",\"Country.Region\",\"Lat\",\"Long\"),\"Date\",value_column_name)\n",
    "    vertical.df$Date <- as.Date(as.integer(vertical.df$Date),origin=\"21/01/2020\", format=\"%d/%m/%Y\")\n",
    "    return(vertical.df)\n",
    "}"
   ]
  },
  {
   "cell_type": "code",
   "execution_count": 119,
   "metadata": {},
   "outputs": [],
   "source": [
    "# Given a dataframe df of data and a list of country / province pairs,\n",
    "# this functions adds a row to df for each element of pairs not present in df.\n",
    "# This is used because we have regional data for deaths and confirmed cases,\n",
    "# but not for recovery in some countries, and thus the merge discard these countries\n",
    "add_missing_rows <- function(df, pairs, value_column_name) {\n",
    "    for (i in nrow(pairs)) {\n",
    "        confirmed_row <- df[(df$Country.Region == pairs[i, \"Country.Region\"]) &\n",
    "                            (df$Province.State == pairs[i, \"Province.State\"]),]\n",
    "        if (nrow(confirmed_row) == 0) {\n",
    "            new_row <- df[df$Country.Region == pairs[i, \"Country.Region\"],][1,]\n",
    "            new_row[,value_column_name] <- NA\n",
    "            new_row[,\"Province.State\"] <- pairs[i, \"Province.State\"]\n",
    "            df <- rbind(df, new_row)\n",
    "        }\n",
    "    }\n",
    "    return(df)\n",
    "}"
   ]
  },
  {
   "cell_type": "markdown",
   "metadata": {},
   "source": [
    "## Read data"
   ]
  },
  {
   "cell_type": "code",
   "execution_count": 23,
   "metadata": {
    "ExecuteTime": {
     "end_time": "2020-03-27T21:22:39.958209Z",
     "start_time": "2020-03-27T21:22:39.935Z"
    }
   },
   "outputs": [],
   "source": [
    "italy.df <- read.csv(\"data/Italy/dpc-covid19-ita-regioni-latest.csv\")"
   ]
  },
  {
   "cell_type": "code",
   "execution_count": 24,
   "metadata": {
    "ExecuteTime": {
     "end_time": "2020-03-27T20:46:23.526081Z",
     "start_time": "2020-03-27T20:46:23.476Z"
    }
   },
   "outputs": [],
   "source": [
    "global_confirmed.df <- read.csv(\"data/Global_JohnsHopkins/time_series_covid19_confirmed_global.csv\")\n",
    "global_deaths.df <- read.csv(\"data/Global_JohnsHopkins/time_series_covid19_deaths_global.csv\")\n",
    "global_recovered.df <- read.csv(\"data/Global_JohnsHopkins/time_series_covid19_recovered_global.csv\")"
   ]
  },
  {
   "cell_type": "markdown",
   "metadata": {},
   "source": [
    "## Check data structure"
   ]
  },
  {
   "cell_type": "code",
   "execution_count": 25,
   "metadata": {
    "ExecuteTime": {
     "end_time": "2020-03-27T19:57:37.843867Z",
     "start_time": "2020-03-27T19:57:37.771Z"
    },
    "collapsed": true
   },
   "outputs": [
    {
     "data": {
      "text/html": [
       "<table>\n",
       "<caption>A data.frame: 6 × 18</caption>\n",
       "<thead>\n",
       "\t<tr><th></th><th scope=col>data</th><th scope=col>stato</th><th scope=col>codice_regione</th><th scope=col>denominazione_regione</th><th scope=col>lat</th><th scope=col>long</th><th scope=col>ricoverati_con_sintomi</th><th scope=col>terapia_intensiva</th><th scope=col>totale_ospedalizzati</th><th scope=col>isolamento_domiciliare</th><th scope=col>totale_attualmente_positivi</th><th scope=col>nuovi_attualmente_positivi</th><th scope=col>dimessi_guariti</th><th scope=col>deceduti</th><th scope=col>totale_casi</th><th scope=col>tamponi</th><th scope=col>note_it</th><th scope=col>note_en</th></tr>\n",
       "\t<tr><th></th><th scope=col>&lt;fct&gt;</th><th scope=col>&lt;fct&gt;</th><th scope=col>&lt;int&gt;</th><th scope=col>&lt;fct&gt;</th><th scope=col>&lt;dbl&gt;</th><th scope=col>&lt;dbl&gt;</th><th scope=col>&lt;int&gt;</th><th scope=col>&lt;int&gt;</th><th scope=col>&lt;int&gt;</th><th scope=col>&lt;int&gt;</th><th scope=col>&lt;int&gt;</th><th scope=col>&lt;int&gt;</th><th scope=col>&lt;int&gt;</th><th scope=col>&lt;int&gt;</th><th scope=col>&lt;int&gt;</th><th scope=col>&lt;int&gt;</th><th scope=col>&lt;lgl&gt;</th><th scope=col>&lt;lgl&gt;</th></tr>\n",
       "</thead>\n",
       "<tbody>\n",
       "\t<tr><th scope=row>1</th><td>2020-03-27T17:00:00</td><td>ITA</td><td>13</td><td>Abruzzo       </td><td>42.35122</td><td>13.39844</td><td> 289</td><td> 71</td><td> 360</td><td> 565</td><td> 925</td><td> 65</td><td> 24</td><td>  68</td><td> 1017</td><td> 6109</td><td>NA</td><td>NA</td></tr>\n",
       "\t<tr><th scope=row>2</th><td>2020-03-27T17:00:00</td><td>ITA</td><td>17</td><td>Basilicata    </td><td>40.63947</td><td>15.80515</td><td>  22</td><td> 15</td><td>  37</td><td> 110</td><td> 147</td><td> 14</td><td>  1</td><td>   3</td><td>  151</td><td> 1254</td><td>NA</td><td>NA</td></tr>\n",
       "\t<tr><th scope=row>3</th><td>2020-03-27T17:00:00</td><td>ITA</td><td> 4</td><td>P.A. Bolzano  </td><td>46.49933</td><td>11.35662</td><td> 249</td><td> 45</td><td> 294</td><td> 539</td><td> 833</td><td> 42</td><td>110</td><td>  60</td><td> 1003</td><td> 8520</td><td>NA</td><td>NA</td></tr>\n",
       "\t<tr><th scope=row>4</th><td>2020-03-27T17:00:00</td><td>ITA</td><td>18</td><td>Calabria      </td><td>38.90598</td><td>16.59440</td><td> 103</td><td> 22</td><td> 125</td><td> 344</td><td> 469</td><td> 97</td><td>  7</td><td>  18</td><td>  494</td><td> 6901</td><td>NA</td><td>NA</td></tr>\n",
       "\t<tr><th scope=row>5</th><td>2020-03-27T17:00:00</td><td>ITA</td><td>15</td><td>Campania      </td><td>40.83957</td><td>14.25085</td><td> 456</td><td>113</td><td> 569</td><td> 723</td><td>1292</td><td>123</td><td> 64</td><td>  98</td><td> 1454</td><td> 9613</td><td>NA</td><td>NA</td></tr>\n",
       "\t<tr><th scope=row>6</th><td>2020-03-27T17:00:00</td><td>ITA</td><td> 8</td><td>Emilia Romagna</td><td>44.49437</td><td>11.34172</td><td>3461</td><td>308</td><td>3769</td><td>5592</td><td>9361</td><td>511</td><td>960</td><td>1267</td><td>11588</td><td>47798</td><td>NA</td><td>NA</td></tr>\n",
       "</tbody>\n",
       "</table>\n"
      ],
      "text/latex": [
       "A data.frame: 6 × 18\n",
       "\\begin{tabular}{r|llllllllllllllllll}\n",
       "  & data & stato & codice\\_regione & denominazione\\_regione & lat & long & ricoverati\\_con\\_sintomi & terapia\\_intensiva & totale\\_ospedalizzati & isolamento\\_domiciliare & totale\\_attualmente\\_positivi & nuovi\\_attualmente\\_positivi & dimessi\\_guariti & deceduti & totale\\_casi & tamponi & note\\_it & note\\_en\\\\\n",
       "  & <fct> & <fct> & <int> & <fct> & <dbl> & <dbl> & <int> & <int> & <int> & <int> & <int> & <int> & <int> & <int> & <int> & <int> & <lgl> & <lgl>\\\\\n",
       "\\hline\n",
       "\t1 & 2020-03-27T17:00:00 & ITA & 13 & Abruzzo        & 42.35122 & 13.39844 &  289 &  71 &  360 &  565 &  925 &  65 &  24 &   68 &  1017 &  6109 & NA & NA\\\\\n",
       "\t2 & 2020-03-27T17:00:00 & ITA & 17 & Basilicata     & 40.63947 & 15.80515 &   22 &  15 &   37 &  110 &  147 &  14 &   1 &    3 &   151 &  1254 & NA & NA\\\\\n",
       "\t3 & 2020-03-27T17:00:00 & ITA &  4 & P.A. Bolzano   & 46.49933 & 11.35662 &  249 &  45 &  294 &  539 &  833 &  42 & 110 &   60 &  1003 &  8520 & NA & NA\\\\\n",
       "\t4 & 2020-03-27T17:00:00 & ITA & 18 & Calabria       & 38.90598 & 16.59440 &  103 &  22 &  125 &  344 &  469 &  97 &   7 &   18 &   494 &  6901 & NA & NA\\\\\n",
       "\t5 & 2020-03-27T17:00:00 & ITA & 15 & Campania       & 40.83957 & 14.25085 &  456 & 113 &  569 &  723 & 1292 & 123 &  64 &   98 &  1454 &  9613 & NA & NA\\\\\n",
       "\t6 & 2020-03-27T17:00:00 & ITA &  8 & Emilia Romagna & 44.49437 & 11.34172 & 3461 & 308 & 3769 & 5592 & 9361 & 511 & 960 & 1267 & 11588 & 47798 & NA & NA\\\\\n",
       "\\end{tabular}\n"
      ],
      "text/markdown": [
       "\n",
       "A data.frame: 6 × 18\n",
       "\n",
       "| <!--/--> | data &lt;fct&gt; | stato &lt;fct&gt; | codice_regione &lt;int&gt; | denominazione_regione &lt;fct&gt; | lat &lt;dbl&gt; | long &lt;dbl&gt; | ricoverati_con_sintomi &lt;int&gt; | terapia_intensiva &lt;int&gt; | totale_ospedalizzati &lt;int&gt; | isolamento_domiciliare &lt;int&gt; | totale_attualmente_positivi &lt;int&gt; | nuovi_attualmente_positivi &lt;int&gt; | dimessi_guariti &lt;int&gt; | deceduti &lt;int&gt; | totale_casi &lt;int&gt; | tamponi &lt;int&gt; | note_it &lt;lgl&gt; | note_en &lt;lgl&gt; |\n",
       "|---|---|---|---|---|---|---|---|---|---|---|---|---|---|---|---|---|---|---|\n",
       "| 1 | 2020-03-27T17:00:00 | ITA | 13 | Abruzzo        | 42.35122 | 13.39844 |  289 |  71 |  360 |  565 |  925 |  65 |  24 |   68 |  1017 |  6109 | NA | NA |\n",
       "| 2 | 2020-03-27T17:00:00 | ITA | 17 | Basilicata     | 40.63947 | 15.80515 |   22 |  15 |   37 |  110 |  147 |  14 |   1 |    3 |   151 |  1254 | NA | NA |\n",
       "| 3 | 2020-03-27T17:00:00 | ITA |  4 | P.A. Bolzano   | 46.49933 | 11.35662 |  249 |  45 |  294 |  539 |  833 |  42 | 110 |   60 |  1003 |  8520 | NA | NA |\n",
       "| 4 | 2020-03-27T17:00:00 | ITA | 18 | Calabria       | 38.90598 | 16.59440 |  103 |  22 |  125 |  344 |  469 |  97 |   7 |   18 |   494 |  6901 | NA | NA |\n",
       "| 5 | 2020-03-27T17:00:00 | ITA | 15 | Campania       | 40.83957 | 14.25085 |  456 | 113 |  569 |  723 | 1292 | 123 |  64 |   98 |  1454 |  9613 | NA | NA |\n",
       "| 6 | 2020-03-27T17:00:00 | ITA |  8 | Emilia Romagna | 44.49437 | 11.34172 | 3461 | 308 | 3769 | 5592 | 9361 | 511 | 960 | 1267 | 11588 | 47798 | NA | NA |\n",
       "\n"
      ],
      "text/plain": [
       "  data                stato codice_regione denominazione_regione lat     \n",
       "1 2020-03-27T17:00:00 ITA   13             Abruzzo               42.35122\n",
       "2 2020-03-27T17:00:00 ITA   17             Basilicata            40.63947\n",
       "3 2020-03-27T17:00:00 ITA    4             P.A. Bolzano          46.49933\n",
       "4 2020-03-27T17:00:00 ITA   18             Calabria              38.90598\n",
       "5 2020-03-27T17:00:00 ITA   15             Campania              40.83957\n",
       "6 2020-03-27T17:00:00 ITA    8             Emilia Romagna        44.49437\n",
       "  long     ricoverati_con_sintomi terapia_intensiva totale_ospedalizzati\n",
       "1 13.39844  289                    71                360                \n",
       "2 15.80515   22                    15                 37                \n",
       "3 11.35662  249                    45                294                \n",
       "4 16.59440  103                    22                125                \n",
       "5 14.25085  456                   113                569                \n",
       "6 11.34172 3461                   308               3769                \n",
       "  isolamento_domiciliare totale_attualmente_positivi nuovi_attualmente_positivi\n",
       "1  565                    925                         65                       \n",
       "2  110                    147                         14                       \n",
       "3  539                    833                         42                       \n",
       "4  344                    469                         97                       \n",
       "5  723                   1292                        123                       \n",
       "6 5592                   9361                        511                       \n",
       "  dimessi_guariti deceduti totale_casi tamponi note_it note_en\n",
       "1  24               68      1017        6109   NA      NA     \n",
       "2   1                3       151        1254   NA      NA     \n",
       "3 110               60      1003        8520   NA      NA     \n",
       "4   7               18       494        6901   NA      NA     \n",
       "5  64               98      1454        9613   NA      NA     \n",
       "6 960             1267     11588       47798   NA      NA     "
      ]
     },
     "metadata": {},
     "output_type": "display_data"
    }
   ],
   "source": [
    "head(italy.df)"
   ]
  },
  {
   "cell_type": "code",
   "execution_count": 26,
   "metadata": {
    "ExecuteTime": {
     "end_time": "2020-03-27T19:57:56.795267Z",
     "start_time": "2020-03-27T19:57:56.732Z"
    },
    "collapsed": true
   },
   "outputs": [
    {
     "data": {
      "text/html": [
       "<table>\n",
       "<caption>A data.frame: 6 × 69</caption>\n",
       "<thead>\n",
       "\t<tr><th></th><th scope=col>Province.State</th><th scope=col>Country.Region</th><th scope=col>Lat</th><th scope=col>Long</th><th scope=col>X1.22.20</th><th scope=col>X1.23.20</th><th scope=col>X1.24.20</th><th scope=col>X1.25.20</th><th scope=col>X1.26.20</th><th scope=col>X1.27.20</th><th scope=col>⋯</th><th scope=col>X3.17.20</th><th scope=col>X3.18.20</th><th scope=col>X3.19.20</th><th scope=col>X3.20.20</th><th scope=col>X3.21.20</th><th scope=col>X3.22.20</th><th scope=col>X3.23.20</th><th scope=col>X3.24.20</th><th scope=col>X3.25.20</th><th scope=col>X3.26.20</th></tr>\n",
       "\t<tr><th></th><th scope=col>&lt;fct&gt;</th><th scope=col>&lt;fct&gt;</th><th scope=col>&lt;dbl&gt;</th><th scope=col>&lt;dbl&gt;</th><th scope=col>&lt;int&gt;</th><th scope=col>&lt;int&gt;</th><th scope=col>&lt;int&gt;</th><th scope=col>&lt;int&gt;</th><th scope=col>&lt;int&gt;</th><th scope=col>&lt;int&gt;</th><th scope=col>⋯</th><th scope=col>&lt;int&gt;</th><th scope=col>&lt;int&gt;</th><th scope=col>&lt;int&gt;</th><th scope=col>&lt;int&gt;</th><th scope=col>&lt;int&gt;</th><th scope=col>&lt;int&gt;</th><th scope=col>&lt;int&gt;</th><th scope=col>&lt;int&gt;</th><th scope=col>&lt;int&gt;</th><th scope=col>&lt;int&gt;</th></tr>\n",
       "</thead>\n",
       "<tbody>\n",
       "\t<tr><th scope=row>1</th><td></td><td>Afghanistan        </td><td> 33.0000</td><td> 65.0000</td><td>0</td><td>0</td><td>0</td><td>0</td><td>0</td><td>0</td><td>⋯</td><td>22</td><td>22</td><td>22</td><td>24</td><td> 24</td><td> 40</td><td> 40</td><td> 74</td><td> 84</td><td> 94</td></tr>\n",
       "\t<tr><th scope=row>2</th><td></td><td>Albania            </td><td> 41.1533</td><td> 20.1683</td><td>0</td><td>0</td><td>0</td><td>0</td><td>0</td><td>0</td><td>⋯</td><td>55</td><td>59</td><td>64</td><td>70</td><td> 76</td><td> 89</td><td>104</td><td>123</td><td>146</td><td>174</td></tr>\n",
       "\t<tr><th scope=row>3</th><td></td><td>Algeria            </td><td> 28.0339</td><td>  1.6596</td><td>0</td><td>0</td><td>0</td><td>0</td><td>0</td><td>0</td><td>⋯</td><td>60</td><td>74</td><td>87</td><td>90</td><td>139</td><td>201</td><td>230</td><td>264</td><td>302</td><td>367</td></tr>\n",
       "\t<tr><th scope=row>4</th><td></td><td>Andorra            </td><td> 42.5063</td><td>  1.5218</td><td>0</td><td>0</td><td>0</td><td>0</td><td>0</td><td>0</td><td>⋯</td><td>39</td><td>39</td><td>53</td><td>75</td><td> 88</td><td>113</td><td>133</td><td>164</td><td>188</td><td>224</td></tr>\n",
       "\t<tr><th scope=row>5</th><td></td><td>Angola             </td><td>-11.2027</td><td> 17.8739</td><td>0</td><td>0</td><td>0</td><td>0</td><td>0</td><td>0</td><td>⋯</td><td> 0</td><td> 0</td><td> 0</td><td> 1</td><td>  2</td><td>  2</td><td>  3</td><td>  3</td><td>  3</td><td>  4</td></tr>\n",
       "\t<tr><th scope=row>6</th><td></td><td>Antigua and Barbuda</td><td> 17.0608</td><td>-61.7964</td><td>0</td><td>0</td><td>0</td><td>0</td><td>0</td><td>0</td><td>⋯</td><td> 1</td><td> 1</td><td> 1</td><td> 1</td><td>  1</td><td>  1</td><td>  3</td><td>  3</td><td>  3</td><td>  7</td></tr>\n",
       "</tbody>\n",
       "</table>\n"
      ],
      "text/latex": [
       "A data.frame: 6 × 69\n",
       "\\begin{tabular}{r|lllllllllllllllllllll}\n",
       "  & Province.State & Country.Region & Lat & Long & X1.22.20 & X1.23.20 & X1.24.20 & X1.25.20 & X1.26.20 & X1.27.20 & ⋯ & X3.17.20 & X3.18.20 & X3.19.20 & X3.20.20 & X3.21.20 & X3.22.20 & X3.23.20 & X3.24.20 & X3.25.20 & X3.26.20\\\\\n",
       "  & <fct> & <fct> & <dbl> & <dbl> & <int> & <int> & <int> & <int> & <int> & <int> & ⋯ & <int> & <int> & <int> & <int> & <int> & <int> & <int> & <int> & <int> & <int>\\\\\n",
       "\\hline\n",
       "\t1 &  & Afghanistan         &  33.0000 &  65.0000 & 0 & 0 & 0 & 0 & 0 & 0 & ⋯ & 22 & 22 & 22 & 24 &  24 &  40 &  40 &  74 &  84 &  94\\\\\n",
       "\t2 &  & Albania             &  41.1533 &  20.1683 & 0 & 0 & 0 & 0 & 0 & 0 & ⋯ & 55 & 59 & 64 & 70 &  76 &  89 & 104 & 123 & 146 & 174\\\\\n",
       "\t3 &  & Algeria             &  28.0339 &   1.6596 & 0 & 0 & 0 & 0 & 0 & 0 & ⋯ & 60 & 74 & 87 & 90 & 139 & 201 & 230 & 264 & 302 & 367\\\\\n",
       "\t4 &  & Andorra             &  42.5063 &   1.5218 & 0 & 0 & 0 & 0 & 0 & 0 & ⋯ & 39 & 39 & 53 & 75 &  88 & 113 & 133 & 164 & 188 & 224\\\\\n",
       "\t5 &  & Angola              & -11.2027 &  17.8739 & 0 & 0 & 0 & 0 & 0 & 0 & ⋯ &  0 &  0 &  0 &  1 &   2 &   2 &   3 &   3 &   3 &   4\\\\\n",
       "\t6 &  & Antigua and Barbuda &  17.0608 & -61.7964 & 0 & 0 & 0 & 0 & 0 & 0 & ⋯ &  1 &  1 &  1 &  1 &   1 &   1 &   3 &   3 &   3 &   7\\\\\n",
       "\\end{tabular}\n"
      ],
      "text/markdown": [
       "\n",
       "A data.frame: 6 × 69\n",
       "\n",
       "| <!--/--> | Province.State &lt;fct&gt; | Country.Region &lt;fct&gt; | Lat &lt;dbl&gt; | Long &lt;dbl&gt; | X1.22.20 &lt;int&gt; | X1.23.20 &lt;int&gt; | X1.24.20 &lt;int&gt; | X1.25.20 &lt;int&gt; | X1.26.20 &lt;int&gt; | X1.27.20 &lt;int&gt; | ⋯ ⋯ | X3.17.20 &lt;int&gt; | X3.18.20 &lt;int&gt; | X3.19.20 &lt;int&gt; | X3.20.20 &lt;int&gt; | X3.21.20 &lt;int&gt; | X3.22.20 &lt;int&gt; | X3.23.20 &lt;int&gt; | X3.24.20 &lt;int&gt; | X3.25.20 &lt;int&gt; | X3.26.20 &lt;int&gt; |\n",
       "|---|---|---|---|---|---|---|---|---|---|---|---|---|---|---|---|---|---|---|---|---|---|\n",
       "| 1 | <!----> | Afghanistan         |  33.0000 |  65.0000 | 0 | 0 | 0 | 0 | 0 | 0 | ⋯ | 22 | 22 | 22 | 24 |  24 |  40 |  40 |  74 |  84 |  94 |\n",
       "| 2 | <!----> | Albania             |  41.1533 |  20.1683 | 0 | 0 | 0 | 0 | 0 | 0 | ⋯ | 55 | 59 | 64 | 70 |  76 |  89 | 104 | 123 | 146 | 174 |\n",
       "| 3 | <!----> | Algeria             |  28.0339 |   1.6596 | 0 | 0 | 0 | 0 | 0 | 0 | ⋯ | 60 | 74 | 87 | 90 | 139 | 201 | 230 | 264 | 302 | 367 |\n",
       "| 4 | <!----> | Andorra             |  42.5063 |   1.5218 | 0 | 0 | 0 | 0 | 0 | 0 | ⋯ | 39 | 39 | 53 | 75 |  88 | 113 | 133 | 164 | 188 | 224 |\n",
       "| 5 | <!----> | Angola              | -11.2027 |  17.8739 | 0 | 0 | 0 | 0 | 0 | 0 | ⋯ |  0 |  0 |  0 |  1 |   2 |   2 |   3 |   3 |   3 |   4 |\n",
       "| 6 | <!----> | Antigua and Barbuda |  17.0608 | -61.7964 | 0 | 0 | 0 | 0 | 0 | 0 | ⋯ |  1 |  1 |  1 |  1 |   1 |   1 |   3 |   3 |   3 |   7 |\n",
       "\n"
      ],
      "text/plain": [
       "  Province.State Country.Region      Lat      Long     X1.22.20 X1.23.20\n",
       "1                Afghanistan          33.0000  65.0000 0        0       \n",
       "2                Albania              41.1533  20.1683 0        0       \n",
       "3                Algeria              28.0339   1.6596 0        0       \n",
       "4                Andorra              42.5063   1.5218 0        0       \n",
       "5                Angola              -11.2027  17.8739 0        0       \n",
       "6                Antigua and Barbuda  17.0608 -61.7964 0        0       \n",
       "  X1.24.20 X1.25.20 X1.26.20 X1.27.20 ⋯ X3.17.20 X3.18.20 X3.19.20 X3.20.20\n",
       "1 0        0        0        0        ⋯ 22       22       22       24      \n",
       "2 0        0        0        0        ⋯ 55       59       64       70      \n",
       "3 0        0        0        0        ⋯ 60       74       87       90      \n",
       "4 0        0        0        0        ⋯ 39       39       53       75      \n",
       "5 0        0        0        0        ⋯  0        0        0        1      \n",
       "6 0        0        0        0        ⋯  1        1        1        1      \n",
       "  X3.21.20 X3.22.20 X3.23.20 X3.24.20 X3.25.20 X3.26.20\n",
       "1  24       40       40       74       84       94     \n",
       "2  76       89      104      123      146      174     \n",
       "3 139      201      230      264      302      367     \n",
       "4  88      113      133      164      188      224     \n",
       "5   2        2        3        3        3        4     \n",
       "6   1        1        3        3        3        7     "
      ]
     },
     "metadata": {},
     "output_type": "display_data"
    }
   ],
   "source": [
    "head(global_confirmed.df)"
   ]
  },
  {
   "cell_type": "code",
   "execution_count": 27,
   "metadata": {
    "ExecuteTime": {
     "end_time": "2020-03-27T19:58:44.110768Z",
     "start_time": "2020-03-27T19:58:44.047Z"
    },
    "collapsed": true
   },
   "outputs": [
    {
     "data": {
      "text/html": [
       "<table>\n",
       "<caption>A data.frame: 6 × 69</caption>\n",
       "<thead>\n",
       "\t<tr><th></th><th scope=col>Province.State</th><th scope=col>Country.Region</th><th scope=col>Lat</th><th scope=col>Long</th><th scope=col>X1.22.20</th><th scope=col>X1.23.20</th><th scope=col>X1.24.20</th><th scope=col>X1.25.20</th><th scope=col>X1.26.20</th><th scope=col>X1.27.20</th><th scope=col>⋯</th><th scope=col>X3.17.20</th><th scope=col>X3.18.20</th><th scope=col>X3.19.20</th><th scope=col>X3.20.20</th><th scope=col>X3.21.20</th><th scope=col>X3.22.20</th><th scope=col>X3.23.20</th><th scope=col>X3.24.20</th><th scope=col>X3.25.20</th><th scope=col>X3.26.20</th></tr>\n",
       "\t<tr><th></th><th scope=col>&lt;fct&gt;</th><th scope=col>&lt;fct&gt;</th><th scope=col>&lt;dbl&gt;</th><th scope=col>&lt;dbl&gt;</th><th scope=col>&lt;int&gt;</th><th scope=col>&lt;int&gt;</th><th scope=col>&lt;int&gt;</th><th scope=col>&lt;int&gt;</th><th scope=col>&lt;int&gt;</th><th scope=col>&lt;int&gt;</th><th scope=col>⋯</th><th scope=col>&lt;int&gt;</th><th scope=col>&lt;int&gt;</th><th scope=col>&lt;int&gt;</th><th scope=col>&lt;int&gt;</th><th scope=col>&lt;int&gt;</th><th scope=col>&lt;int&gt;</th><th scope=col>&lt;int&gt;</th><th scope=col>&lt;int&gt;</th><th scope=col>&lt;int&gt;</th><th scope=col>&lt;int&gt;</th></tr>\n",
       "</thead>\n",
       "<tbody>\n",
       "\t<tr><th scope=row>1</th><td></td><td>Afghanistan        </td><td> 33.0000</td><td> 65.0000</td><td>0</td><td>0</td><td>0</td><td>0</td><td>0</td><td>0</td><td>⋯</td><td>0</td><td>0</td><td>0</td><td> 0</td><td> 0</td><td> 1</td><td> 1</td><td> 1</td><td> 2</td><td> 4</td></tr>\n",
       "\t<tr><th scope=row>2</th><td></td><td>Albania            </td><td> 41.1533</td><td> 20.1683</td><td>0</td><td>0</td><td>0</td><td>0</td><td>0</td><td>0</td><td>⋯</td><td>1</td><td>2</td><td>2</td><td> 2</td><td> 2</td><td> 2</td><td> 4</td><td> 5</td><td> 5</td><td> 6</td></tr>\n",
       "\t<tr><th scope=row>3</th><td></td><td>Algeria            </td><td> 28.0339</td><td>  1.6596</td><td>0</td><td>0</td><td>0</td><td>0</td><td>0</td><td>0</td><td>⋯</td><td>4</td><td>7</td><td>9</td><td>11</td><td>15</td><td>17</td><td>17</td><td>19</td><td>21</td><td>25</td></tr>\n",
       "\t<tr><th scope=row>4</th><td></td><td>Andorra            </td><td> 42.5063</td><td>  1.5218</td><td>0</td><td>0</td><td>0</td><td>0</td><td>0</td><td>0</td><td>⋯</td><td>0</td><td>0</td><td>0</td><td> 0</td><td> 0</td><td> 1</td><td> 1</td><td> 1</td><td> 1</td><td> 3</td></tr>\n",
       "\t<tr><th scope=row>5</th><td></td><td>Angola             </td><td>-11.2027</td><td> 17.8739</td><td>0</td><td>0</td><td>0</td><td>0</td><td>0</td><td>0</td><td>⋯</td><td>0</td><td>0</td><td>0</td><td> 0</td><td> 0</td><td> 0</td><td> 0</td><td> 0</td><td> 0</td><td> 0</td></tr>\n",
       "\t<tr><th scope=row>6</th><td></td><td>Antigua and Barbuda</td><td> 17.0608</td><td>-61.7964</td><td>0</td><td>0</td><td>0</td><td>0</td><td>0</td><td>0</td><td>⋯</td><td>0</td><td>0</td><td>0</td><td> 0</td><td> 0</td><td> 0</td><td> 0</td><td> 0</td><td> 0</td><td> 0</td></tr>\n",
       "</tbody>\n",
       "</table>\n"
      ],
      "text/latex": [
       "A data.frame: 6 × 69\n",
       "\\begin{tabular}{r|lllllllllllllllllllll}\n",
       "  & Province.State & Country.Region & Lat & Long & X1.22.20 & X1.23.20 & X1.24.20 & X1.25.20 & X1.26.20 & X1.27.20 & ⋯ & X3.17.20 & X3.18.20 & X3.19.20 & X3.20.20 & X3.21.20 & X3.22.20 & X3.23.20 & X3.24.20 & X3.25.20 & X3.26.20\\\\\n",
       "  & <fct> & <fct> & <dbl> & <dbl> & <int> & <int> & <int> & <int> & <int> & <int> & ⋯ & <int> & <int> & <int> & <int> & <int> & <int> & <int> & <int> & <int> & <int>\\\\\n",
       "\\hline\n",
       "\t1 &  & Afghanistan         &  33.0000 &  65.0000 & 0 & 0 & 0 & 0 & 0 & 0 & ⋯ & 0 & 0 & 0 &  0 &  0 &  1 &  1 &  1 &  2 &  4\\\\\n",
       "\t2 &  & Albania             &  41.1533 &  20.1683 & 0 & 0 & 0 & 0 & 0 & 0 & ⋯ & 1 & 2 & 2 &  2 &  2 &  2 &  4 &  5 &  5 &  6\\\\\n",
       "\t3 &  & Algeria             &  28.0339 &   1.6596 & 0 & 0 & 0 & 0 & 0 & 0 & ⋯ & 4 & 7 & 9 & 11 & 15 & 17 & 17 & 19 & 21 & 25\\\\\n",
       "\t4 &  & Andorra             &  42.5063 &   1.5218 & 0 & 0 & 0 & 0 & 0 & 0 & ⋯ & 0 & 0 & 0 &  0 &  0 &  1 &  1 &  1 &  1 &  3\\\\\n",
       "\t5 &  & Angola              & -11.2027 &  17.8739 & 0 & 0 & 0 & 0 & 0 & 0 & ⋯ & 0 & 0 & 0 &  0 &  0 &  0 &  0 &  0 &  0 &  0\\\\\n",
       "\t6 &  & Antigua and Barbuda &  17.0608 & -61.7964 & 0 & 0 & 0 & 0 & 0 & 0 & ⋯ & 0 & 0 & 0 &  0 &  0 &  0 &  0 &  0 &  0 &  0\\\\\n",
       "\\end{tabular}\n"
      ],
      "text/markdown": [
       "\n",
       "A data.frame: 6 × 69\n",
       "\n",
       "| <!--/--> | Province.State &lt;fct&gt; | Country.Region &lt;fct&gt; | Lat &lt;dbl&gt; | Long &lt;dbl&gt; | X1.22.20 &lt;int&gt; | X1.23.20 &lt;int&gt; | X1.24.20 &lt;int&gt; | X1.25.20 &lt;int&gt; | X1.26.20 &lt;int&gt; | X1.27.20 &lt;int&gt; | ⋯ ⋯ | X3.17.20 &lt;int&gt; | X3.18.20 &lt;int&gt; | X3.19.20 &lt;int&gt; | X3.20.20 &lt;int&gt; | X3.21.20 &lt;int&gt; | X3.22.20 &lt;int&gt; | X3.23.20 &lt;int&gt; | X3.24.20 &lt;int&gt; | X3.25.20 &lt;int&gt; | X3.26.20 &lt;int&gt; |\n",
       "|---|---|---|---|---|---|---|---|---|---|---|---|---|---|---|---|---|---|---|---|---|---|\n",
       "| 1 | <!----> | Afghanistan         |  33.0000 |  65.0000 | 0 | 0 | 0 | 0 | 0 | 0 | ⋯ | 0 | 0 | 0 |  0 |  0 |  1 |  1 |  1 |  2 |  4 |\n",
       "| 2 | <!----> | Albania             |  41.1533 |  20.1683 | 0 | 0 | 0 | 0 | 0 | 0 | ⋯ | 1 | 2 | 2 |  2 |  2 |  2 |  4 |  5 |  5 |  6 |\n",
       "| 3 | <!----> | Algeria             |  28.0339 |   1.6596 | 0 | 0 | 0 | 0 | 0 | 0 | ⋯ | 4 | 7 | 9 | 11 | 15 | 17 | 17 | 19 | 21 | 25 |\n",
       "| 4 | <!----> | Andorra             |  42.5063 |   1.5218 | 0 | 0 | 0 | 0 | 0 | 0 | ⋯ | 0 | 0 | 0 |  0 |  0 |  1 |  1 |  1 |  1 |  3 |\n",
       "| 5 | <!----> | Angola              | -11.2027 |  17.8739 | 0 | 0 | 0 | 0 | 0 | 0 | ⋯ | 0 | 0 | 0 |  0 |  0 |  0 |  0 |  0 |  0 |  0 |\n",
       "| 6 | <!----> | Antigua and Barbuda |  17.0608 | -61.7964 | 0 | 0 | 0 | 0 | 0 | 0 | ⋯ | 0 | 0 | 0 |  0 |  0 |  0 |  0 |  0 |  0 |  0 |\n",
       "\n"
      ],
      "text/plain": [
       "  Province.State Country.Region      Lat      Long     X1.22.20 X1.23.20\n",
       "1                Afghanistan          33.0000  65.0000 0        0       \n",
       "2                Albania              41.1533  20.1683 0        0       \n",
       "3                Algeria              28.0339   1.6596 0        0       \n",
       "4                Andorra              42.5063   1.5218 0        0       \n",
       "5                Angola              -11.2027  17.8739 0        0       \n",
       "6                Antigua and Barbuda  17.0608 -61.7964 0        0       \n",
       "  X1.24.20 X1.25.20 X1.26.20 X1.27.20 ⋯ X3.17.20 X3.18.20 X3.19.20 X3.20.20\n",
       "1 0        0        0        0        ⋯ 0        0        0         0      \n",
       "2 0        0        0        0        ⋯ 1        2        2         2      \n",
       "3 0        0        0        0        ⋯ 4        7        9        11      \n",
       "4 0        0        0        0        ⋯ 0        0        0         0      \n",
       "5 0        0        0        0        ⋯ 0        0        0         0      \n",
       "6 0        0        0        0        ⋯ 0        0        0         0      \n",
       "  X3.21.20 X3.22.20 X3.23.20 X3.24.20 X3.25.20 X3.26.20\n",
       "1  0        1        1        1        2        4      \n",
       "2  2        2        4        5        5        6      \n",
       "3 15       17       17       19       21       25      \n",
       "4  0        1        1        1        1        3      \n",
       "5  0        0        0        0        0        0      \n",
       "6  0        0        0        0        0        0      "
      ]
     },
     "metadata": {},
     "output_type": "display_data"
    }
   ],
   "source": [
    "head(global_deaths.df)"
   ]
  },
  {
   "cell_type": "code",
   "execution_count": 28,
   "metadata": {
    "ExecuteTime": {
     "end_time": "2020-03-27T19:58:42.343227Z",
     "start_time": "2020-03-27T19:58:42.301Z"
    },
    "collapsed": true
   },
   "outputs": [
    {
     "data": {
      "text/html": [
       "<table>\n",
       "<caption>A data.frame: 6 × 69</caption>\n",
       "<thead>\n",
       "\t<tr><th></th><th scope=col>Province.State</th><th scope=col>Country.Region</th><th scope=col>Lat</th><th scope=col>Long</th><th scope=col>X1.22.20</th><th scope=col>X1.23.20</th><th scope=col>X1.24.20</th><th scope=col>X1.25.20</th><th scope=col>X1.26.20</th><th scope=col>X1.27.20</th><th scope=col>⋯</th><th scope=col>X3.17.20</th><th scope=col>X3.18.20</th><th scope=col>X3.19.20</th><th scope=col>X3.20.20</th><th scope=col>X3.21.20</th><th scope=col>X3.22.20</th><th scope=col>X3.23.20</th><th scope=col>X3.24.20</th><th scope=col>X3.25.20</th><th scope=col>X3.26.20</th></tr>\n",
       "\t<tr><th></th><th scope=col>&lt;fct&gt;</th><th scope=col>&lt;fct&gt;</th><th scope=col>&lt;dbl&gt;</th><th scope=col>&lt;dbl&gt;</th><th scope=col>&lt;int&gt;</th><th scope=col>&lt;int&gt;</th><th scope=col>&lt;int&gt;</th><th scope=col>&lt;int&gt;</th><th scope=col>&lt;int&gt;</th><th scope=col>&lt;int&gt;</th><th scope=col>⋯</th><th scope=col>&lt;int&gt;</th><th scope=col>&lt;int&gt;</th><th scope=col>&lt;int&gt;</th><th scope=col>&lt;int&gt;</th><th scope=col>&lt;int&gt;</th><th scope=col>&lt;int&gt;</th><th scope=col>&lt;int&gt;</th><th scope=col>&lt;int&gt;</th><th scope=col>&lt;int&gt;</th><th scope=col>&lt;int&gt;</th></tr>\n",
       "</thead>\n",
       "<tbody>\n",
       "\t<tr><th scope=row>1</th><td></td><td>Afghanistan        </td><td> 33.0000</td><td> 65.0000</td><td>0</td><td>0</td><td>0</td><td>0</td><td>0</td><td>0</td><td>⋯</td><td> 1</td><td> 1</td><td> 1</td><td> 1</td><td> 1</td><td> 1</td><td> 1</td><td> 1</td><td> 2</td><td> 2</td></tr>\n",
       "\t<tr><th scope=row>2</th><td></td><td>Albania            </td><td> 41.1533</td><td> 20.1683</td><td>0</td><td>0</td><td>0</td><td>0</td><td>0</td><td>0</td><td>⋯</td><td> 0</td><td> 0</td><td> 0</td><td> 0</td><td> 2</td><td> 2</td><td> 2</td><td>10</td><td>17</td><td>17</td></tr>\n",
       "\t<tr><th scope=row>3</th><td></td><td>Algeria            </td><td> 28.0339</td><td>  1.6596</td><td>0</td><td>0</td><td>0</td><td>0</td><td>0</td><td>0</td><td>⋯</td><td>12</td><td>12</td><td>32</td><td>32</td><td>32</td><td>65</td><td>65</td><td>24</td><td>65</td><td>29</td></tr>\n",
       "\t<tr><th scope=row>4</th><td></td><td>Andorra            </td><td> 42.5063</td><td>  1.5218</td><td>0</td><td>0</td><td>0</td><td>0</td><td>0</td><td>0</td><td>⋯</td><td> 1</td><td> 1</td><td> 1</td><td> 1</td><td> 1</td><td> 1</td><td> 1</td><td> 1</td><td> 1</td><td> 1</td></tr>\n",
       "\t<tr><th scope=row>5</th><td></td><td>Angola             </td><td>-11.2027</td><td> 17.8739</td><td>0</td><td>0</td><td>0</td><td>0</td><td>0</td><td>0</td><td>⋯</td><td> 0</td><td> 0</td><td> 0</td><td> 0</td><td> 0</td><td> 0</td><td> 0</td><td> 0</td><td> 0</td><td> 0</td></tr>\n",
       "\t<tr><th scope=row>6</th><td></td><td>Antigua and Barbuda</td><td> 17.0608</td><td>-61.7964</td><td>0</td><td>0</td><td>0</td><td>0</td><td>0</td><td>0</td><td>⋯</td><td> 0</td><td> 0</td><td> 0</td><td> 0</td><td> 0</td><td> 0</td><td> 0</td><td> 0</td><td> 0</td><td> 0</td></tr>\n",
       "</tbody>\n",
       "</table>\n"
      ],
      "text/latex": [
       "A data.frame: 6 × 69\n",
       "\\begin{tabular}{r|lllllllllllllllllllll}\n",
       "  & Province.State & Country.Region & Lat & Long & X1.22.20 & X1.23.20 & X1.24.20 & X1.25.20 & X1.26.20 & X1.27.20 & ⋯ & X3.17.20 & X3.18.20 & X3.19.20 & X3.20.20 & X3.21.20 & X3.22.20 & X3.23.20 & X3.24.20 & X3.25.20 & X3.26.20\\\\\n",
       "  & <fct> & <fct> & <dbl> & <dbl> & <int> & <int> & <int> & <int> & <int> & <int> & ⋯ & <int> & <int> & <int> & <int> & <int> & <int> & <int> & <int> & <int> & <int>\\\\\n",
       "\\hline\n",
       "\t1 &  & Afghanistan         &  33.0000 &  65.0000 & 0 & 0 & 0 & 0 & 0 & 0 & ⋯ &  1 &  1 &  1 &  1 &  1 &  1 &  1 &  1 &  2 &  2\\\\\n",
       "\t2 &  & Albania             &  41.1533 &  20.1683 & 0 & 0 & 0 & 0 & 0 & 0 & ⋯ &  0 &  0 &  0 &  0 &  2 &  2 &  2 & 10 & 17 & 17\\\\\n",
       "\t3 &  & Algeria             &  28.0339 &   1.6596 & 0 & 0 & 0 & 0 & 0 & 0 & ⋯ & 12 & 12 & 32 & 32 & 32 & 65 & 65 & 24 & 65 & 29\\\\\n",
       "\t4 &  & Andorra             &  42.5063 &   1.5218 & 0 & 0 & 0 & 0 & 0 & 0 & ⋯ &  1 &  1 &  1 &  1 &  1 &  1 &  1 &  1 &  1 &  1\\\\\n",
       "\t5 &  & Angola              & -11.2027 &  17.8739 & 0 & 0 & 0 & 0 & 0 & 0 & ⋯ &  0 &  0 &  0 &  0 &  0 &  0 &  0 &  0 &  0 &  0\\\\\n",
       "\t6 &  & Antigua and Barbuda &  17.0608 & -61.7964 & 0 & 0 & 0 & 0 & 0 & 0 & ⋯ &  0 &  0 &  0 &  0 &  0 &  0 &  0 &  0 &  0 &  0\\\\\n",
       "\\end{tabular}\n"
      ],
      "text/markdown": [
       "\n",
       "A data.frame: 6 × 69\n",
       "\n",
       "| <!--/--> | Province.State &lt;fct&gt; | Country.Region &lt;fct&gt; | Lat &lt;dbl&gt; | Long &lt;dbl&gt; | X1.22.20 &lt;int&gt; | X1.23.20 &lt;int&gt; | X1.24.20 &lt;int&gt; | X1.25.20 &lt;int&gt; | X1.26.20 &lt;int&gt; | X1.27.20 &lt;int&gt; | ⋯ ⋯ | X3.17.20 &lt;int&gt; | X3.18.20 &lt;int&gt; | X3.19.20 &lt;int&gt; | X3.20.20 &lt;int&gt; | X3.21.20 &lt;int&gt; | X3.22.20 &lt;int&gt; | X3.23.20 &lt;int&gt; | X3.24.20 &lt;int&gt; | X3.25.20 &lt;int&gt; | X3.26.20 &lt;int&gt; |\n",
       "|---|---|---|---|---|---|---|---|---|---|---|---|---|---|---|---|---|---|---|---|---|---|\n",
       "| 1 | <!----> | Afghanistan         |  33.0000 |  65.0000 | 0 | 0 | 0 | 0 | 0 | 0 | ⋯ |  1 |  1 |  1 |  1 |  1 |  1 |  1 |  1 |  2 |  2 |\n",
       "| 2 | <!----> | Albania             |  41.1533 |  20.1683 | 0 | 0 | 0 | 0 | 0 | 0 | ⋯ |  0 |  0 |  0 |  0 |  2 |  2 |  2 | 10 | 17 | 17 |\n",
       "| 3 | <!----> | Algeria             |  28.0339 |   1.6596 | 0 | 0 | 0 | 0 | 0 | 0 | ⋯ | 12 | 12 | 32 | 32 | 32 | 65 | 65 | 24 | 65 | 29 |\n",
       "| 4 | <!----> | Andorra             |  42.5063 |   1.5218 | 0 | 0 | 0 | 0 | 0 | 0 | ⋯ |  1 |  1 |  1 |  1 |  1 |  1 |  1 |  1 |  1 |  1 |\n",
       "| 5 | <!----> | Angola              | -11.2027 |  17.8739 | 0 | 0 | 0 | 0 | 0 | 0 | ⋯ |  0 |  0 |  0 |  0 |  0 |  0 |  0 |  0 |  0 |  0 |\n",
       "| 6 | <!----> | Antigua and Barbuda |  17.0608 | -61.7964 | 0 | 0 | 0 | 0 | 0 | 0 | ⋯ |  0 |  0 |  0 |  0 |  0 |  0 |  0 |  0 |  0 |  0 |\n",
       "\n"
      ],
      "text/plain": [
       "  Province.State Country.Region      Lat      Long     X1.22.20 X1.23.20\n",
       "1                Afghanistan          33.0000  65.0000 0        0       \n",
       "2                Albania              41.1533  20.1683 0        0       \n",
       "3                Algeria              28.0339   1.6596 0        0       \n",
       "4                Andorra              42.5063   1.5218 0        0       \n",
       "5                Angola              -11.2027  17.8739 0        0       \n",
       "6                Antigua and Barbuda  17.0608 -61.7964 0        0       \n",
       "  X1.24.20 X1.25.20 X1.26.20 X1.27.20 ⋯ X3.17.20 X3.18.20 X3.19.20 X3.20.20\n",
       "1 0        0        0        0        ⋯  1        1        1        1      \n",
       "2 0        0        0        0        ⋯  0        0        0        0      \n",
       "3 0        0        0        0        ⋯ 12       12       32       32      \n",
       "4 0        0        0        0        ⋯  1        1        1        1      \n",
       "5 0        0        0        0        ⋯  0        0        0        0      \n",
       "6 0        0        0        0        ⋯  0        0        0        0      \n",
       "  X3.21.20 X3.22.20 X3.23.20 X3.24.20 X3.25.20 X3.26.20\n",
       "1  1        1        1        1        2        2      \n",
       "2  2        2        2       10       17       17      \n",
       "3 32       65       65       24       65       29      \n",
       "4  1        1        1        1        1        1      \n",
       "5  0        0        0        0        0        0      \n",
       "6  0        0        0        0        0        0      "
      ]
     },
     "metadata": {},
     "output_type": "display_data"
    }
   ],
   "source": [
    "head(global_recovered.df)"
   ]
  },
  {
   "cell_type": "markdown",
   "metadata": {},
   "source": [
    "## Global\n",
    "### Transform horizontal to vertical"
   ]
  },
  {
   "cell_type": "code",
   "execution_count": 128,
   "metadata": {
    "ExecuteTime": {
     "end_time": "2020-03-27T20:48:30.083739Z",
     "start_time": "2020-03-27T20:48:29.919Z"
    }
   },
   "outputs": [],
   "source": [
    "global_confirmed_vertical.df <- horizontaldf2verticaldf(global_confirmed.df,\"Confirmed\")\n",
    "global_deaths_vertical.df <- horizontaldf2verticaldf(global_deaths.df,\"Deaths\")\n",
    "global_recovered_vertical.df <- horizontaldf2verticaldf(global_recovered.df,\"Recovered\")"
   ]
  },
  {
   "cell_type": "code",
   "execution_count": 30,
   "metadata": {
    "ExecuteTime": {
     "end_time": "2020-03-27T20:48:36.422150Z",
     "start_time": "2020-03-27T20:48:36.383Z"
    },
    "collapsed": true
   },
   "outputs": [
    {
     "data": {
      "text/html": [
       "<table>\n",
       "<caption>A data.frame: 6 × 6</caption>\n",
       "<thead>\n",
       "\t<tr><th></th><th scope=col>Province.State</th><th scope=col>Country.Region</th><th scope=col>Lat</th><th scope=col>Long</th><th scope=col>Date</th><th scope=col>Confirmed</th></tr>\n",
       "\t<tr><th></th><th scope=col>&lt;fct&gt;</th><th scope=col>&lt;fct&gt;</th><th scope=col>&lt;dbl&gt;</th><th scope=col>&lt;dbl&gt;</th><th scope=col>&lt;date&gt;</th><th scope=col>&lt;int&gt;</th></tr>\n",
       "</thead>\n",
       "<tbody>\n",
       "\t<tr><th scope=row>1</th><td></td><td>Afghanistan        </td><td> 33.0000</td><td> 65.0000</td><td>2020-01-22</td><td>0</td></tr>\n",
       "\t<tr><th scope=row>2</th><td></td><td>Albania            </td><td> 41.1533</td><td> 20.1683</td><td>2020-01-22</td><td>0</td></tr>\n",
       "\t<tr><th scope=row>3</th><td></td><td>Algeria            </td><td> 28.0339</td><td>  1.6596</td><td>2020-01-22</td><td>0</td></tr>\n",
       "\t<tr><th scope=row>4</th><td></td><td>Andorra            </td><td> 42.5063</td><td>  1.5218</td><td>2020-01-22</td><td>0</td></tr>\n",
       "\t<tr><th scope=row>5</th><td></td><td>Angola             </td><td>-11.2027</td><td> 17.8739</td><td>2020-01-22</td><td>0</td></tr>\n",
       "\t<tr><th scope=row>6</th><td></td><td>Antigua and Barbuda</td><td> 17.0608</td><td>-61.7964</td><td>2020-01-22</td><td>0</td></tr>\n",
       "</tbody>\n",
       "</table>\n"
      ],
      "text/latex": [
       "A data.frame: 6 × 6\n",
       "\\begin{tabular}{r|llllll}\n",
       "  & Province.State & Country.Region & Lat & Long & Date & Confirmed\\\\\n",
       "  & <fct> & <fct> & <dbl> & <dbl> & <date> & <int>\\\\\n",
       "\\hline\n",
       "\t1 &  & Afghanistan         &  33.0000 &  65.0000 & 2020-01-22 & 0\\\\\n",
       "\t2 &  & Albania             &  41.1533 &  20.1683 & 2020-01-22 & 0\\\\\n",
       "\t3 &  & Algeria             &  28.0339 &   1.6596 & 2020-01-22 & 0\\\\\n",
       "\t4 &  & Andorra             &  42.5063 &   1.5218 & 2020-01-22 & 0\\\\\n",
       "\t5 &  & Angola              & -11.2027 &  17.8739 & 2020-01-22 & 0\\\\\n",
       "\t6 &  & Antigua and Barbuda &  17.0608 & -61.7964 & 2020-01-22 & 0\\\\\n",
       "\\end{tabular}\n"
      ],
      "text/markdown": [
       "\n",
       "A data.frame: 6 × 6\n",
       "\n",
       "| <!--/--> | Province.State &lt;fct&gt; | Country.Region &lt;fct&gt; | Lat &lt;dbl&gt; | Long &lt;dbl&gt; | Date &lt;date&gt; | Confirmed &lt;int&gt; |\n",
       "|---|---|---|---|---|---|---|\n",
       "| 1 | <!----> | Afghanistan         |  33.0000 |  65.0000 | 2020-01-22 | 0 |\n",
       "| 2 | <!----> | Albania             |  41.1533 |  20.1683 | 2020-01-22 | 0 |\n",
       "| 3 | <!----> | Algeria             |  28.0339 |   1.6596 | 2020-01-22 | 0 |\n",
       "| 4 | <!----> | Andorra             |  42.5063 |   1.5218 | 2020-01-22 | 0 |\n",
       "| 5 | <!----> | Angola              | -11.2027 |  17.8739 | 2020-01-22 | 0 |\n",
       "| 6 | <!----> | Antigua and Barbuda |  17.0608 | -61.7964 | 2020-01-22 | 0 |\n",
       "\n"
      ],
      "text/plain": [
       "  Province.State Country.Region      Lat      Long     Date       Confirmed\n",
       "1                Afghanistan          33.0000  65.0000 2020-01-22 0        \n",
       "2                Albania              41.1533  20.1683 2020-01-22 0        \n",
       "3                Algeria              28.0339   1.6596 2020-01-22 0        \n",
       "4                Andorra              42.5063   1.5218 2020-01-22 0        \n",
       "5                Angola              -11.2027  17.8739 2020-01-22 0        \n",
       "6                Antigua and Barbuda  17.0608 -61.7964 2020-01-22 0        "
      ]
     },
     "metadata": {},
     "output_type": "display_data"
    }
   ],
   "source": [
    "head(global_confirmed_vertical.df)"
   ]
  },
  {
   "cell_type": "code",
   "execution_count": 31,
   "metadata": {
    "ExecuteTime": {
     "end_time": "2020-03-27T20:48:39.123432Z",
     "start_time": "2020-03-27T20:48:38.047Z"
    },
    "collapsed": true
   },
   "outputs": [
    {
     "data": {
      "text/html": [
       "<table>\n",
       "<caption>A data.frame: 6 × 6</caption>\n",
       "<thead>\n",
       "\t<tr><th></th><th scope=col>Province.State</th><th scope=col>Country.Region</th><th scope=col>Lat</th><th scope=col>Long</th><th scope=col>Date</th><th scope=col>Recovered</th></tr>\n",
       "\t<tr><th></th><th scope=col>&lt;fct&gt;</th><th scope=col>&lt;fct&gt;</th><th scope=col>&lt;dbl&gt;</th><th scope=col>&lt;dbl&gt;</th><th scope=col>&lt;date&gt;</th><th scope=col>&lt;int&gt;</th></tr>\n",
       "</thead>\n",
       "<tbody>\n",
       "\t<tr><th scope=row>1</th><td></td><td>Afghanistan        </td><td> 33.0000</td><td> 65.0000</td><td>2020-01-22</td><td>0</td></tr>\n",
       "\t<tr><th scope=row>2</th><td></td><td>Albania            </td><td> 41.1533</td><td> 20.1683</td><td>2020-01-22</td><td>0</td></tr>\n",
       "\t<tr><th scope=row>3</th><td></td><td>Algeria            </td><td> 28.0339</td><td>  1.6596</td><td>2020-01-22</td><td>0</td></tr>\n",
       "\t<tr><th scope=row>4</th><td></td><td>Andorra            </td><td> 42.5063</td><td>  1.5218</td><td>2020-01-22</td><td>0</td></tr>\n",
       "\t<tr><th scope=row>5</th><td></td><td>Angola             </td><td>-11.2027</td><td> 17.8739</td><td>2020-01-22</td><td>0</td></tr>\n",
       "\t<tr><th scope=row>6</th><td></td><td>Antigua and Barbuda</td><td> 17.0608</td><td>-61.7964</td><td>2020-01-22</td><td>0</td></tr>\n",
       "</tbody>\n",
       "</table>\n"
      ],
      "text/latex": [
       "A data.frame: 6 × 6\n",
       "\\begin{tabular}{r|llllll}\n",
       "  & Province.State & Country.Region & Lat & Long & Date & Recovered\\\\\n",
       "  & <fct> & <fct> & <dbl> & <dbl> & <date> & <int>\\\\\n",
       "\\hline\n",
       "\t1 &  & Afghanistan         &  33.0000 &  65.0000 & 2020-01-22 & 0\\\\\n",
       "\t2 &  & Albania             &  41.1533 &  20.1683 & 2020-01-22 & 0\\\\\n",
       "\t3 &  & Algeria             &  28.0339 &   1.6596 & 2020-01-22 & 0\\\\\n",
       "\t4 &  & Andorra             &  42.5063 &   1.5218 & 2020-01-22 & 0\\\\\n",
       "\t5 &  & Angola              & -11.2027 &  17.8739 & 2020-01-22 & 0\\\\\n",
       "\t6 &  & Antigua and Barbuda &  17.0608 & -61.7964 & 2020-01-22 & 0\\\\\n",
       "\\end{tabular}\n"
      ],
      "text/markdown": [
       "\n",
       "A data.frame: 6 × 6\n",
       "\n",
       "| <!--/--> | Province.State &lt;fct&gt; | Country.Region &lt;fct&gt; | Lat &lt;dbl&gt; | Long &lt;dbl&gt; | Date &lt;date&gt; | Recovered &lt;int&gt; |\n",
       "|---|---|---|---|---|---|---|\n",
       "| 1 | <!----> | Afghanistan         |  33.0000 |  65.0000 | 2020-01-22 | 0 |\n",
       "| 2 | <!----> | Albania             |  41.1533 |  20.1683 | 2020-01-22 | 0 |\n",
       "| 3 | <!----> | Algeria             |  28.0339 |   1.6596 | 2020-01-22 | 0 |\n",
       "| 4 | <!----> | Andorra             |  42.5063 |   1.5218 | 2020-01-22 | 0 |\n",
       "| 5 | <!----> | Angola              | -11.2027 |  17.8739 | 2020-01-22 | 0 |\n",
       "| 6 | <!----> | Antigua and Barbuda |  17.0608 | -61.7964 | 2020-01-22 | 0 |\n",
       "\n"
      ],
      "text/plain": [
       "  Province.State Country.Region      Lat      Long     Date       Recovered\n",
       "1                Afghanistan          33.0000  65.0000 2020-01-22 0        \n",
       "2                Albania              41.1533  20.1683 2020-01-22 0        \n",
       "3                Algeria              28.0339   1.6596 2020-01-22 0        \n",
       "4                Andorra              42.5063   1.5218 2020-01-22 0        \n",
       "5                Angola              -11.2027  17.8739 2020-01-22 0        \n",
       "6                Antigua and Barbuda  17.0608 -61.7964 2020-01-22 0        "
      ]
     },
     "metadata": {},
     "output_type": "display_data"
    }
   ],
   "source": [
    "head(global_recovered_vertical.df)"
   ]
  },
  {
   "cell_type": "code",
   "execution_count": 105,
   "metadata": {
    "collapsed": true
   },
   "outputs": [
    {
     "data": {
      "text/html": [
       "<table>\n",
       "<caption>A data.frame: 455 × 6</caption>\n",
       "<thead>\n",
       "\t<tr><th></th><th scope=col>Province.State</th><th scope=col>Country.Region</th><th scope=col>Lat</th><th scope=col>Long</th><th scope=col>Date</th><th scope=col>Deaths</th></tr>\n",
       "\t<tr><th></th><th scope=col>&lt;fct&gt;</th><th scope=col>&lt;fct&gt;</th><th scope=col>&lt;dbl&gt;</th><th scope=col>&lt;dbl&gt;</th><th scope=col>&lt;date&gt;</th><th scope=col>&lt;int&gt;</th></tr>\n",
       "</thead>\n",
       "<tbody>\n",
       "\t<tr><th scope=row>218</th><td>Bermuda        </td><td>United Kingdom</td><td>32.3078</td><td>-64.7505</td><td>2020-01-22</td><td>0</td></tr>\n",
       "\t<tr><th scope=row>219</th><td>Cayman Islands </td><td>United Kingdom</td><td>19.3133</td><td>-81.2546</td><td>2020-01-22</td><td>0</td></tr>\n",
       "\t<tr><th scope=row>220</th><td>Channel Islands</td><td>United Kingdom</td><td>49.3723</td><td> -2.3644</td><td>2020-01-22</td><td>0</td></tr>\n",
       "\t<tr><th scope=row>221</th><td>Gibraltar      </td><td>United Kingdom</td><td>36.1408</td><td> -5.3536</td><td>2020-01-22</td><td>0</td></tr>\n",
       "\t<tr><th scope=row>222</th><td>Isle of Man    </td><td>United Kingdom</td><td>54.2361</td><td> -4.5481</td><td>2020-01-22</td><td>0</td></tr>\n",
       "\t<tr><th scope=row>223</th><td>Montserrat     </td><td>United Kingdom</td><td>16.7425</td><td>-62.1874</td><td>2020-01-22</td><td>0</td></tr>\n",
       "\t<tr><th scope=row>224</th><td>               </td><td>United Kingdom</td><td>55.3781</td><td> -3.4360</td><td>2020-01-22</td><td>0</td></tr>\n",
       "\t<tr><th scope=row>466</th><td>Bermuda        </td><td>United Kingdom</td><td>32.3078</td><td>-64.7505</td><td>2020-01-23</td><td>0</td></tr>\n",
       "\t<tr><th scope=row>467</th><td>Cayman Islands </td><td>United Kingdom</td><td>19.3133</td><td>-81.2546</td><td>2020-01-23</td><td>0</td></tr>\n",
       "\t<tr><th scope=row>468</th><td>Channel Islands</td><td>United Kingdom</td><td>49.3723</td><td> -2.3644</td><td>2020-01-23</td><td>0</td></tr>\n",
       "\t<tr><th scope=row>469</th><td>Gibraltar      </td><td>United Kingdom</td><td>36.1408</td><td> -5.3536</td><td>2020-01-23</td><td>0</td></tr>\n",
       "\t<tr><th scope=row>470</th><td>Isle of Man    </td><td>United Kingdom</td><td>54.2361</td><td> -4.5481</td><td>2020-01-23</td><td>0</td></tr>\n",
       "\t<tr><th scope=row>471</th><td>Montserrat     </td><td>United Kingdom</td><td>16.7425</td><td>-62.1874</td><td>2020-01-23</td><td>0</td></tr>\n",
       "\t<tr><th scope=row>472</th><td>               </td><td>United Kingdom</td><td>55.3781</td><td> -3.4360</td><td>2020-01-23</td><td>0</td></tr>\n",
       "\t<tr><th scope=row>714</th><td>Bermuda        </td><td>United Kingdom</td><td>32.3078</td><td>-64.7505</td><td>2020-01-24</td><td>0</td></tr>\n",
       "\t<tr><th scope=row>715</th><td>Cayman Islands </td><td>United Kingdom</td><td>19.3133</td><td>-81.2546</td><td>2020-01-24</td><td>0</td></tr>\n",
       "\t<tr><th scope=row>716</th><td>Channel Islands</td><td>United Kingdom</td><td>49.3723</td><td> -2.3644</td><td>2020-01-24</td><td>0</td></tr>\n",
       "\t<tr><th scope=row>717</th><td>Gibraltar      </td><td>United Kingdom</td><td>36.1408</td><td> -5.3536</td><td>2020-01-24</td><td>0</td></tr>\n",
       "\t<tr><th scope=row>718</th><td>Isle of Man    </td><td>United Kingdom</td><td>54.2361</td><td> -4.5481</td><td>2020-01-24</td><td>0</td></tr>\n",
       "\t<tr><th scope=row>719</th><td>Montserrat     </td><td>United Kingdom</td><td>16.7425</td><td>-62.1874</td><td>2020-01-24</td><td>0</td></tr>\n",
       "\t<tr><th scope=row>720</th><td>               </td><td>United Kingdom</td><td>55.3781</td><td> -3.4360</td><td>2020-01-24</td><td>0</td></tr>\n",
       "\t<tr><th scope=row>962</th><td>Bermuda        </td><td>United Kingdom</td><td>32.3078</td><td>-64.7505</td><td>2020-01-25</td><td>0</td></tr>\n",
       "\t<tr><th scope=row>963</th><td>Cayman Islands </td><td>United Kingdom</td><td>19.3133</td><td>-81.2546</td><td>2020-01-25</td><td>0</td></tr>\n",
       "\t<tr><th scope=row>964</th><td>Channel Islands</td><td>United Kingdom</td><td>49.3723</td><td> -2.3644</td><td>2020-01-25</td><td>0</td></tr>\n",
       "\t<tr><th scope=row>965</th><td>Gibraltar      </td><td>United Kingdom</td><td>36.1408</td><td> -5.3536</td><td>2020-01-25</td><td>0</td></tr>\n",
       "\t<tr><th scope=row>966</th><td>Isle of Man    </td><td>United Kingdom</td><td>54.2361</td><td> -4.5481</td><td>2020-01-25</td><td>0</td></tr>\n",
       "\t<tr><th scope=row>967</th><td>Montserrat     </td><td>United Kingdom</td><td>16.7425</td><td>-62.1874</td><td>2020-01-25</td><td>0</td></tr>\n",
       "\t<tr><th scope=row>968</th><td>               </td><td>United Kingdom</td><td>55.3781</td><td> -3.4360</td><td>2020-01-25</td><td>0</td></tr>\n",
       "\t<tr><th scope=row>1210</th><td>Bermuda        </td><td>United Kingdom</td><td>32.3078</td><td>-64.7505</td><td>2020-01-26</td><td>0</td></tr>\n",
       "\t<tr><th scope=row>1211</th><td>Cayman Islands </td><td>United Kingdom</td><td>19.3133</td><td>-81.2546</td><td>2020-01-26</td><td>0</td></tr>\n",
       "\t<tr><th scope=row>⋮</th><td>⋮</td><td>⋮</td><td>⋮</td><td>⋮</td><td>⋮</td><td>⋮</td></tr>\n",
       "\t<tr><th scope=row>15103</th><td>Montserrat     </td><td>United Kingdom</td><td>16.7425</td><td>-62.1874</td><td>2020-03-22</td><td>  0</td></tr>\n",
       "\t<tr><th scope=row>15104</th><td>               </td><td>United Kingdom</td><td>55.3781</td><td> -3.4360</td><td>2020-03-22</td><td>281</td></tr>\n",
       "\t<tr><th scope=row>15346</th><td>Bermuda        </td><td>United Kingdom</td><td>32.3078</td><td>-64.7505</td><td>2020-03-23</td><td>  0</td></tr>\n",
       "\t<tr><th scope=row>15347</th><td>Cayman Islands </td><td>United Kingdom</td><td>19.3133</td><td>-81.2546</td><td>2020-03-23</td><td>  1</td></tr>\n",
       "\t<tr><th scope=row>15348</th><td>Channel Islands</td><td>United Kingdom</td><td>49.3723</td><td> -2.3644</td><td>2020-03-23</td><td>  0</td></tr>\n",
       "\t<tr><th scope=row>15349</th><td>Gibraltar      </td><td>United Kingdom</td><td>36.1408</td><td> -5.3536</td><td>2020-03-23</td><td>  0</td></tr>\n",
       "\t<tr><th scope=row>15350</th><td>Isle of Man    </td><td>United Kingdom</td><td>54.2361</td><td> -4.5481</td><td>2020-03-23</td><td>  0</td></tr>\n",
       "\t<tr><th scope=row>15351</th><td>Montserrat     </td><td>United Kingdom</td><td>16.7425</td><td>-62.1874</td><td>2020-03-23</td><td>  0</td></tr>\n",
       "\t<tr><th scope=row>15352</th><td>               </td><td>United Kingdom</td><td>55.3781</td><td> -3.4360</td><td>2020-03-23</td><td>335</td></tr>\n",
       "\t<tr><th scope=row>15594</th><td>Bermuda        </td><td>United Kingdom</td><td>32.3078</td><td>-64.7505</td><td>2020-03-24</td><td>  0</td></tr>\n",
       "\t<tr><th scope=row>15595</th><td>Cayman Islands </td><td>United Kingdom</td><td>19.3133</td><td>-81.2546</td><td>2020-03-24</td><td>  1</td></tr>\n",
       "\t<tr><th scope=row>15596</th><td>Channel Islands</td><td>United Kingdom</td><td>49.3723</td><td> -2.3644</td><td>2020-03-24</td><td>  0</td></tr>\n",
       "\t<tr><th scope=row>15597</th><td>Gibraltar      </td><td>United Kingdom</td><td>36.1408</td><td> -5.3536</td><td>2020-03-24</td><td>  0</td></tr>\n",
       "\t<tr><th scope=row>15598</th><td>Isle of Man    </td><td>United Kingdom</td><td>54.2361</td><td> -4.5481</td><td>2020-03-24</td><td>  0</td></tr>\n",
       "\t<tr><th scope=row>15599</th><td>Montserrat     </td><td>United Kingdom</td><td>16.7425</td><td>-62.1874</td><td>2020-03-24</td><td>  0</td></tr>\n",
       "\t<tr><th scope=row>15600</th><td>               </td><td>United Kingdom</td><td>55.3781</td><td> -3.4360</td><td>2020-03-24</td><td>422</td></tr>\n",
       "\t<tr><th scope=row>15842</th><td>Bermuda        </td><td>United Kingdom</td><td>32.3078</td><td>-64.7505</td><td>2020-03-25</td><td>  0</td></tr>\n",
       "\t<tr><th scope=row>15843</th><td>Cayman Islands </td><td>United Kingdom</td><td>19.3133</td><td>-81.2546</td><td>2020-03-25</td><td>  1</td></tr>\n",
       "\t<tr><th scope=row>15844</th><td>Channel Islands</td><td>United Kingdom</td><td>49.3723</td><td> -2.3644</td><td>2020-03-25</td><td>  0</td></tr>\n",
       "\t<tr><th scope=row>15845</th><td>Gibraltar      </td><td>United Kingdom</td><td>36.1408</td><td> -5.3536</td><td>2020-03-25</td><td>  0</td></tr>\n",
       "\t<tr><th scope=row>15846</th><td>Isle of Man    </td><td>United Kingdom</td><td>54.2361</td><td> -4.5481</td><td>2020-03-25</td><td>  0</td></tr>\n",
       "\t<tr><th scope=row>15847</th><td>Montserrat     </td><td>United Kingdom</td><td>16.7425</td><td>-62.1874</td><td>2020-03-25</td><td>  0</td></tr>\n",
       "\t<tr><th scope=row>15848</th><td>               </td><td>United Kingdom</td><td>55.3781</td><td> -3.4360</td><td>2020-03-25</td><td>465</td></tr>\n",
       "\t<tr><th scope=row>16090</th><td>Bermuda        </td><td>United Kingdom</td><td>32.3078</td><td>-64.7505</td><td>2020-03-26</td><td>  0</td></tr>\n",
       "\t<tr><th scope=row>16091</th><td>Cayman Islands </td><td>United Kingdom</td><td>19.3133</td><td>-81.2546</td><td>2020-03-26</td><td>  1</td></tr>\n",
       "\t<tr><th scope=row>16092</th><td>Channel Islands</td><td>United Kingdom</td><td>49.3723</td><td> -2.3644</td><td>2020-03-26</td><td>  1</td></tr>\n",
       "\t<tr><th scope=row>16093</th><td>Gibraltar      </td><td>United Kingdom</td><td>36.1408</td><td> -5.3536</td><td>2020-03-26</td><td>  0</td></tr>\n",
       "\t<tr><th scope=row>16094</th><td>Isle of Man    </td><td>United Kingdom</td><td>54.2361</td><td> -4.5481</td><td>2020-03-26</td><td>  0</td></tr>\n",
       "\t<tr><th scope=row>16095</th><td>Montserrat     </td><td>United Kingdom</td><td>16.7425</td><td>-62.1874</td><td>2020-03-26</td><td>  0</td></tr>\n",
       "\t<tr><th scope=row>16096</th><td>               </td><td>United Kingdom</td><td>55.3781</td><td> -3.4360</td><td>2020-03-26</td><td>578</td></tr>\n",
       "</tbody>\n",
       "</table>\n"
      ],
      "text/latex": [
       "A data.frame: 455 × 6\n",
       "\\begin{tabular}{r|llllll}\n",
       "  & Province.State & Country.Region & Lat & Long & Date & Deaths\\\\\n",
       "  & <fct> & <fct> & <dbl> & <dbl> & <date> & <int>\\\\\n",
       "\\hline\n",
       "\t218 & Bermuda         & United Kingdom & 32.3078 & -64.7505 & 2020-01-22 & 0\\\\\n",
       "\t219 & Cayman Islands  & United Kingdom & 19.3133 & -81.2546 & 2020-01-22 & 0\\\\\n",
       "\t220 & Channel Islands & United Kingdom & 49.3723 &  -2.3644 & 2020-01-22 & 0\\\\\n",
       "\t221 & Gibraltar       & United Kingdom & 36.1408 &  -5.3536 & 2020-01-22 & 0\\\\\n",
       "\t222 & Isle of Man     & United Kingdom & 54.2361 &  -4.5481 & 2020-01-22 & 0\\\\\n",
       "\t223 & Montserrat      & United Kingdom & 16.7425 & -62.1874 & 2020-01-22 & 0\\\\\n",
       "\t224 &                 & United Kingdom & 55.3781 &  -3.4360 & 2020-01-22 & 0\\\\\n",
       "\t466 & Bermuda         & United Kingdom & 32.3078 & -64.7505 & 2020-01-23 & 0\\\\\n",
       "\t467 & Cayman Islands  & United Kingdom & 19.3133 & -81.2546 & 2020-01-23 & 0\\\\\n",
       "\t468 & Channel Islands & United Kingdom & 49.3723 &  -2.3644 & 2020-01-23 & 0\\\\\n",
       "\t469 & Gibraltar       & United Kingdom & 36.1408 &  -5.3536 & 2020-01-23 & 0\\\\\n",
       "\t470 & Isle of Man     & United Kingdom & 54.2361 &  -4.5481 & 2020-01-23 & 0\\\\\n",
       "\t471 & Montserrat      & United Kingdom & 16.7425 & -62.1874 & 2020-01-23 & 0\\\\\n",
       "\t472 &                 & United Kingdom & 55.3781 &  -3.4360 & 2020-01-23 & 0\\\\\n",
       "\t714 & Bermuda         & United Kingdom & 32.3078 & -64.7505 & 2020-01-24 & 0\\\\\n",
       "\t715 & Cayman Islands  & United Kingdom & 19.3133 & -81.2546 & 2020-01-24 & 0\\\\\n",
       "\t716 & Channel Islands & United Kingdom & 49.3723 &  -2.3644 & 2020-01-24 & 0\\\\\n",
       "\t717 & Gibraltar       & United Kingdom & 36.1408 &  -5.3536 & 2020-01-24 & 0\\\\\n",
       "\t718 & Isle of Man     & United Kingdom & 54.2361 &  -4.5481 & 2020-01-24 & 0\\\\\n",
       "\t719 & Montserrat      & United Kingdom & 16.7425 & -62.1874 & 2020-01-24 & 0\\\\\n",
       "\t720 &                 & United Kingdom & 55.3781 &  -3.4360 & 2020-01-24 & 0\\\\\n",
       "\t962 & Bermuda         & United Kingdom & 32.3078 & -64.7505 & 2020-01-25 & 0\\\\\n",
       "\t963 & Cayman Islands  & United Kingdom & 19.3133 & -81.2546 & 2020-01-25 & 0\\\\\n",
       "\t964 & Channel Islands & United Kingdom & 49.3723 &  -2.3644 & 2020-01-25 & 0\\\\\n",
       "\t965 & Gibraltar       & United Kingdom & 36.1408 &  -5.3536 & 2020-01-25 & 0\\\\\n",
       "\t966 & Isle of Man     & United Kingdom & 54.2361 &  -4.5481 & 2020-01-25 & 0\\\\\n",
       "\t967 & Montserrat      & United Kingdom & 16.7425 & -62.1874 & 2020-01-25 & 0\\\\\n",
       "\t968 &                 & United Kingdom & 55.3781 &  -3.4360 & 2020-01-25 & 0\\\\\n",
       "\t1210 & Bermuda         & United Kingdom & 32.3078 & -64.7505 & 2020-01-26 & 0\\\\\n",
       "\t1211 & Cayman Islands  & United Kingdom & 19.3133 & -81.2546 & 2020-01-26 & 0\\\\\n",
       "\t⋮ & ⋮ & ⋮ & ⋮ & ⋮ & ⋮ & ⋮\\\\\n",
       "\t15103 & Montserrat      & United Kingdom & 16.7425 & -62.1874 & 2020-03-22 &   0\\\\\n",
       "\t15104 &                 & United Kingdom & 55.3781 &  -3.4360 & 2020-03-22 & 281\\\\\n",
       "\t15346 & Bermuda         & United Kingdom & 32.3078 & -64.7505 & 2020-03-23 &   0\\\\\n",
       "\t15347 & Cayman Islands  & United Kingdom & 19.3133 & -81.2546 & 2020-03-23 &   1\\\\\n",
       "\t15348 & Channel Islands & United Kingdom & 49.3723 &  -2.3644 & 2020-03-23 &   0\\\\\n",
       "\t15349 & Gibraltar       & United Kingdom & 36.1408 &  -5.3536 & 2020-03-23 &   0\\\\\n",
       "\t15350 & Isle of Man     & United Kingdom & 54.2361 &  -4.5481 & 2020-03-23 &   0\\\\\n",
       "\t15351 & Montserrat      & United Kingdom & 16.7425 & -62.1874 & 2020-03-23 &   0\\\\\n",
       "\t15352 &                 & United Kingdom & 55.3781 &  -3.4360 & 2020-03-23 & 335\\\\\n",
       "\t15594 & Bermuda         & United Kingdom & 32.3078 & -64.7505 & 2020-03-24 &   0\\\\\n",
       "\t15595 & Cayman Islands  & United Kingdom & 19.3133 & -81.2546 & 2020-03-24 &   1\\\\\n",
       "\t15596 & Channel Islands & United Kingdom & 49.3723 &  -2.3644 & 2020-03-24 &   0\\\\\n",
       "\t15597 & Gibraltar       & United Kingdom & 36.1408 &  -5.3536 & 2020-03-24 &   0\\\\\n",
       "\t15598 & Isle of Man     & United Kingdom & 54.2361 &  -4.5481 & 2020-03-24 &   0\\\\\n",
       "\t15599 & Montserrat      & United Kingdom & 16.7425 & -62.1874 & 2020-03-24 &   0\\\\\n",
       "\t15600 &                 & United Kingdom & 55.3781 &  -3.4360 & 2020-03-24 & 422\\\\\n",
       "\t15842 & Bermuda         & United Kingdom & 32.3078 & -64.7505 & 2020-03-25 &   0\\\\\n",
       "\t15843 & Cayman Islands  & United Kingdom & 19.3133 & -81.2546 & 2020-03-25 &   1\\\\\n",
       "\t15844 & Channel Islands & United Kingdom & 49.3723 &  -2.3644 & 2020-03-25 &   0\\\\\n",
       "\t15845 & Gibraltar       & United Kingdom & 36.1408 &  -5.3536 & 2020-03-25 &   0\\\\\n",
       "\t15846 & Isle of Man     & United Kingdom & 54.2361 &  -4.5481 & 2020-03-25 &   0\\\\\n",
       "\t15847 & Montserrat      & United Kingdom & 16.7425 & -62.1874 & 2020-03-25 &   0\\\\\n",
       "\t15848 &                 & United Kingdom & 55.3781 &  -3.4360 & 2020-03-25 & 465\\\\\n",
       "\t16090 & Bermuda         & United Kingdom & 32.3078 & -64.7505 & 2020-03-26 &   0\\\\\n",
       "\t16091 & Cayman Islands  & United Kingdom & 19.3133 & -81.2546 & 2020-03-26 &   1\\\\\n",
       "\t16092 & Channel Islands & United Kingdom & 49.3723 &  -2.3644 & 2020-03-26 &   1\\\\\n",
       "\t16093 & Gibraltar       & United Kingdom & 36.1408 &  -5.3536 & 2020-03-26 &   0\\\\\n",
       "\t16094 & Isle of Man     & United Kingdom & 54.2361 &  -4.5481 & 2020-03-26 &   0\\\\\n",
       "\t16095 & Montserrat      & United Kingdom & 16.7425 & -62.1874 & 2020-03-26 &   0\\\\\n",
       "\t16096 &                 & United Kingdom & 55.3781 &  -3.4360 & 2020-03-26 & 578\\\\\n",
       "\\end{tabular}\n"
      ],
      "text/markdown": [
       "\n",
       "A data.frame: 455 × 6\n",
       "\n",
       "| <!--/--> | Province.State &lt;fct&gt; | Country.Region &lt;fct&gt; | Lat &lt;dbl&gt; | Long &lt;dbl&gt; | Date &lt;date&gt; | Deaths &lt;int&gt; |\n",
       "|---|---|---|---|---|---|---|\n",
       "| 218 | Bermuda         | United Kingdom | 32.3078 | -64.7505 | 2020-01-22 | 0 |\n",
       "| 219 | Cayman Islands  | United Kingdom | 19.3133 | -81.2546 | 2020-01-22 | 0 |\n",
       "| 220 | Channel Islands | United Kingdom | 49.3723 |  -2.3644 | 2020-01-22 | 0 |\n",
       "| 221 | Gibraltar       | United Kingdom | 36.1408 |  -5.3536 | 2020-01-22 | 0 |\n",
       "| 222 | Isle of Man     | United Kingdom | 54.2361 |  -4.5481 | 2020-01-22 | 0 |\n",
       "| 223 | Montserrat      | United Kingdom | 16.7425 | -62.1874 | 2020-01-22 | 0 |\n",
       "| 224 | <!----> | United Kingdom | 55.3781 |  -3.4360 | 2020-01-22 | 0 |\n",
       "| 466 | Bermuda         | United Kingdom | 32.3078 | -64.7505 | 2020-01-23 | 0 |\n",
       "| 467 | Cayman Islands  | United Kingdom | 19.3133 | -81.2546 | 2020-01-23 | 0 |\n",
       "| 468 | Channel Islands | United Kingdom | 49.3723 |  -2.3644 | 2020-01-23 | 0 |\n",
       "| 469 | Gibraltar       | United Kingdom | 36.1408 |  -5.3536 | 2020-01-23 | 0 |\n",
       "| 470 | Isle of Man     | United Kingdom | 54.2361 |  -4.5481 | 2020-01-23 | 0 |\n",
       "| 471 | Montserrat      | United Kingdom | 16.7425 | -62.1874 | 2020-01-23 | 0 |\n",
       "| 472 | <!----> | United Kingdom | 55.3781 |  -3.4360 | 2020-01-23 | 0 |\n",
       "| 714 | Bermuda         | United Kingdom | 32.3078 | -64.7505 | 2020-01-24 | 0 |\n",
       "| 715 | Cayman Islands  | United Kingdom | 19.3133 | -81.2546 | 2020-01-24 | 0 |\n",
       "| 716 | Channel Islands | United Kingdom | 49.3723 |  -2.3644 | 2020-01-24 | 0 |\n",
       "| 717 | Gibraltar       | United Kingdom | 36.1408 |  -5.3536 | 2020-01-24 | 0 |\n",
       "| 718 | Isle of Man     | United Kingdom | 54.2361 |  -4.5481 | 2020-01-24 | 0 |\n",
       "| 719 | Montserrat      | United Kingdom | 16.7425 | -62.1874 | 2020-01-24 | 0 |\n",
       "| 720 | <!----> | United Kingdom | 55.3781 |  -3.4360 | 2020-01-24 | 0 |\n",
       "| 962 | Bermuda         | United Kingdom | 32.3078 | -64.7505 | 2020-01-25 | 0 |\n",
       "| 963 | Cayman Islands  | United Kingdom | 19.3133 | -81.2546 | 2020-01-25 | 0 |\n",
       "| 964 | Channel Islands | United Kingdom | 49.3723 |  -2.3644 | 2020-01-25 | 0 |\n",
       "| 965 | Gibraltar       | United Kingdom | 36.1408 |  -5.3536 | 2020-01-25 | 0 |\n",
       "| 966 | Isle of Man     | United Kingdom | 54.2361 |  -4.5481 | 2020-01-25 | 0 |\n",
       "| 967 | Montserrat      | United Kingdom | 16.7425 | -62.1874 | 2020-01-25 | 0 |\n",
       "| 968 | <!----> | United Kingdom | 55.3781 |  -3.4360 | 2020-01-25 | 0 |\n",
       "| 1210 | Bermuda         | United Kingdom | 32.3078 | -64.7505 | 2020-01-26 | 0 |\n",
       "| 1211 | Cayman Islands  | United Kingdom | 19.3133 | -81.2546 | 2020-01-26 | 0 |\n",
       "| ⋮ | ⋮ | ⋮ | ⋮ | ⋮ | ⋮ | ⋮ |\n",
       "| 15103 | Montserrat      | United Kingdom | 16.7425 | -62.1874 | 2020-03-22 |   0 |\n",
       "| 15104 | <!----> | United Kingdom | 55.3781 |  -3.4360 | 2020-03-22 | 281 |\n",
       "| 15346 | Bermuda         | United Kingdom | 32.3078 | -64.7505 | 2020-03-23 |   0 |\n",
       "| 15347 | Cayman Islands  | United Kingdom | 19.3133 | -81.2546 | 2020-03-23 |   1 |\n",
       "| 15348 | Channel Islands | United Kingdom | 49.3723 |  -2.3644 | 2020-03-23 |   0 |\n",
       "| 15349 | Gibraltar       | United Kingdom | 36.1408 |  -5.3536 | 2020-03-23 |   0 |\n",
       "| 15350 | Isle of Man     | United Kingdom | 54.2361 |  -4.5481 | 2020-03-23 |   0 |\n",
       "| 15351 | Montserrat      | United Kingdom | 16.7425 | -62.1874 | 2020-03-23 |   0 |\n",
       "| 15352 | <!----> | United Kingdom | 55.3781 |  -3.4360 | 2020-03-23 | 335 |\n",
       "| 15594 | Bermuda         | United Kingdom | 32.3078 | -64.7505 | 2020-03-24 |   0 |\n",
       "| 15595 | Cayman Islands  | United Kingdom | 19.3133 | -81.2546 | 2020-03-24 |   1 |\n",
       "| 15596 | Channel Islands | United Kingdom | 49.3723 |  -2.3644 | 2020-03-24 |   0 |\n",
       "| 15597 | Gibraltar       | United Kingdom | 36.1408 |  -5.3536 | 2020-03-24 |   0 |\n",
       "| 15598 | Isle of Man     | United Kingdom | 54.2361 |  -4.5481 | 2020-03-24 |   0 |\n",
       "| 15599 | Montserrat      | United Kingdom | 16.7425 | -62.1874 | 2020-03-24 |   0 |\n",
       "| 15600 | <!----> | United Kingdom | 55.3781 |  -3.4360 | 2020-03-24 | 422 |\n",
       "| 15842 | Bermuda         | United Kingdom | 32.3078 | -64.7505 | 2020-03-25 |   0 |\n",
       "| 15843 | Cayman Islands  | United Kingdom | 19.3133 | -81.2546 | 2020-03-25 |   1 |\n",
       "| 15844 | Channel Islands | United Kingdom | 49.3723 |  -2.3644 | 2020-03-25 |   0 |\n",
       "| 15845 | Gibraltar       | United Kingdom | 36.1408 |  -5.3536 | 2020-03-25 |   0 |\n",
       "| 15846 | Isle of Man     | United Kingdom | 54.2361 |  -4.5481 | 2020-03-25 |   0 |\n",
       "| 15847 | Montserrat      | United Kingdom | 16.7425 | -62.1874 | 2020-03-25 |   0 |\n",
       "| 15848 | <!----> | United Kingdom | 55.3781 |  -3.4360 | 2020-03-25 | 465 |\n",
       "| 16090 | Bermuda         | United Kingdom | 32.3078 | -64.7505 | 2020-03-26 |   0 |\n",
       "| 16091 | Cayman Islands  | United Kingdom | 19.3133 | -81.2546 | 2020-03-26 |   1 |\n",
       "| 16092 | Channel Islands | United Kingdom | 49.3723 |  -2.3644 | 2020-03-26 |   1 |\n",
       "| 16093 | Gibraltar       | United Kingdom | 36.1408 |  -5.3536 | 2020-03-26 |   0 |\n",
       "| 16094 | Isle of Man     | United Kingdom | 54.2361 |  -4.5481 | 2020-03-26 |   0 |\n",
       "| 16095 | Montserrat      | United Kingdom | 16.7425 | -62.1874 | 2020-03-26 |   0 |\n",
       "| 16096 | <!----> | United Kingdom | 55.3781 |  -3.4360 | 2020-03-26 | 578 |\n",
       "\n"
      ],
      "text/plain": [
       "      Province.State  Country.Region Lat     Long     Date       Deaths\n",
       "218   Bermuda         United Kingdom 32.3078 -64.7505 2020-01-22 0     \n",
       "219   Cayman Islands  United Kingdom 19.3133 -81.2546 2020-01-22 0     \n",
       "220   Channel Islands United Kingdom 49.3723  -2.3644 2020-01-22 0     \n",
       "221   Gibraltar       United Kingdom 36.1408  -5.3536 2020-01-22 0     \n",
       "222   Isle of Man     United Kingdom 54.2361  -4.5481 2020-01-22 0     \n",
       "223   Montserrat      United Kingdom 16.7425 -62.1874 2020-01-22 0     \n",
       "224                   United Kingdom 55.3781  -3.4360 2020-01-22 0     \n",
       "466   Bermuda         United Kingdom 32.3078 -64.7505 2020-01-23 0     \n",
       "467   Cayman Islands  United Kingdom 19.3133 -81.2546 2020-01-23 0     \n",
       "468   Channel Islands United Kingdom 49.3723  -2.3644 2020-01-23 0     \n",
       "469   Gibraltar       United Kingdom 36.1408  -5.3536 2020-01-23 0     \n",
       "470   Isle of Man     United Kingdom 54.2361  -4.5481 2020-01-23 0     \n",
       "471   Montserrat      United Kingdom 16.7425 -62.1874 2020-01-23 0     \n",
       "472                   United Kingdom 55.3781  -3.4360 2020-01-23 0     \n",
       "714   Bermuda         United Kingdom 32.3078 -64.7505 2020-01-24 0     \n",
       "715   Cayman Islands  United Kingdom 19.3133 -81.2546 2020-01-24 0     \n",
       "716   Channel Islands United Kingdom 49.3723  -2.3644 2020-01-24 0     \n",
       "717   Gibraltar       United Kingdom 36.1408  -5.3536 2020-01-24 0     \n",
       "718   Isle of Man     United Kingdom 54.2361  -4.5481 2020-01-24 0     \n",
       "719   Montserrat      United Kingdom 16.7425 -62.1874 2020-01-24 0     \n",
       "720                   United Kingdom 55.3781  -3.4360 2020-01-24 0     \n",
       "962   Bermuda         United Kingdom 32.3078 -64.7505 2020-01-25 0     \n",
       "963   Cayman Islands  United Kingdom 19.3133 -81.2546 2020-01-25 0     \n",
       "964   Channel Islands United Kingdom 49.3723  -2.3644 2020-01-25 0     \n",
       "965   Gibraltar       United Kingdom 36.1408  -5.3536 2020-01-25 0     \n",
       "966   Isle of Man     United Kingdom 54.2361  -4.5481 2020-01-25 0     \n",
       "967   Montserrat      United Kingdom 16.7425 -62.1874 2020-01-25 0     \n",
       "968                   United Kingdom 55.3781  -3.4360 2020-01-25 0     \n",
       "1210  Bermuda         United Kingdom 32.3078 -64.7505 2020-01-26 0     \n",
       "1211  Cayman Islands  United Kingdom 19.3133 -81.2546 2020-01-26 0     \n",
       "⋮     ⋮               ⋮              ⋮       ⋮        ⋮          ⋮     \n",
       "15103 Montserrat      United Kingdom 16.7425 -62.1874 2020-03-22   0   \n",
       "15104                 United Kingdom 55.3781  -3.4360 2020-03-22 281   \n",
       "15346 Bermuda         United Kingdom 32.3078 -64.7505 2020-03-23   0   \n",
       "15347 Cayman Islands  United Kingdom 19.3133 -81.2546 2020-03-23   1   \n",
       "15348 Channel Islands United Kingdom 49.3723  -2.3644 2020-03-23   0   \n",
       "15349 Gibraltar       United Kingdom 36.1408  -5.3536 2020-03-23   0   \n",
       "15350 Isle of Man     United Kingdom 54.2361  -4.5481 2020-03-23   0   \n",
       "15351 Montserrat      United Kingdom 16.7425 -62.1874 2020-03-23   0   \n",
       "15352                 United Kingdom 55.3781  -3.4360 2020-03-23 335   \n",
       "15594 Bermuda         United Kingdom 32.3078 -64.7505 2020-03-24   0   \n",
       "15595 Cayman Islands  United Kingdom 19.3133 -81.2546 2020-03-24   1   \n",
       "15596 Channel Islands United Kingdom 49.3723  -2.3644 2020-03-24   0   \n",
       "15597 Gibraltar       United Kingdom 36.1408  -5.3536 2020-03-24   0   \n",
       "15598 Isle of Man     United Kingdom 54.2361  -4.5481 2020-03-24   0   \n",
       "15599 Montserrat      United Kingdom 16.7425 -62.1874 2020-03-24   0   \n",
       "15600                 United Kingdom 55.3781  -3.4360 2020-03-24 422   \n",
       "15842 Bermuda         United Kingdom 32.3078 -64.7505 2020-03-25   0   \n",
       "15843 Cayman Islands  United Kingdom 19.3133 -81.2546 2020-03-25   1   \n",
       "15844 Channel Islands United Kingdom 49.3723  -2.3644 2020-03-25   0   \n",
       "15845 Gibraltar       United Kingdom 36.1408  -5.3536 2020-03-25   0   \n",
       "15846 Isle of Man     United Kingdom 54.2361  -4.5481 2020-03-25   0   \n",
       "15847 Montserrat      United Kingdom 16.7425 -62.1874 2020-03-25   0   \n",
       "15848                 United Kingdom 55.3781  -3.4360 2020-03-25 465   \n",
       "16090 Bermuda         United Kingdom 32.3078 -64.7505 2020-03-26   0   \n",
       "16091 Cayman Islands  United Kingdom 19.3133 -81.2546 2020-03-26   1   \n",
       "16092 Channel Islands United Kingdom 49.3723  -2.3644 2020-03-26   1   \n",
       "16093 Gibraltar       United Kingdom 36.1408  -5.3536 2020-03-26   0   \n",
       "16094 Isle of Man     United Kingdom 54.2361  -4.5481 2020-03-26   0   \n",
       "16095 Montserrat      United Kingdom 16.7425 -62.1874 2020-03-26   0   \n",
       "16096                 United Kingdom 55.3781  -3.4360 2020-03-26 578   "
      ]
     },
     "metadata": {},
     "output_type": "display_data"
    }
   ],
   "source": [
    "head(global_deaths_vertical.df)"
   ]
  },
  {
   "cell_type": "markdown",
   "metadata": {},
   "source": [
    "### Merge data"
   ]
  },
  {
   "cell_type": "code",
   "execution_count": 129,
   "metadata": {},
   "outputs": [],
   "source": [
    "global_confirmed_vertical.df[,\"Country.Region\"] <- as.character(global_confirmed_vertical.df[,\"Country.Region\"])\n",
    "global_confirmed_vertical.df[,\"Province.State\"] <- as.character(global_confirmed_vertical.df[,\"Province.State\"])\n",
    "global_deaths_vertical.df[,\"Country.Region\"] <- as.character(global_deaths_vertical.df[,\"Country.Region\"])\n",
    "global_deaths_vertical.df[,\"Province.State\"] <- as.character(global_deaths_vertical.df[,\"Province.State\"])\n",
    "global_recovered_vertical.df[,\"Country.Region\"] <- as.character(global_recovered_vertical.df[,\"Country.Region\"])\n",
    "global_recovered_vertical.df[,\"Province.State\"] <- as.character(global_recovered_vertical.df[,\"Province.State\"])"
   ]
  },
  {
   "cell_type": "code",
   "execution_count": 130,
   "metadata": {},
   "outputs": [],
   "source": [
    "# Get the list of all country / province pairs in all global dataframes (not necessarily present in all of them)\n",
    "pairs <- unique(rbind(\n",
    "        global_confirmed_vertical.df[,c(\"Country.Region\", \"Province.State\")],\n",
    "        global_deaths_vertical.df[,c(\"Country.Region\", \"Province.State\")],\n",
    "        global_recovered_vertical.df[,c(\"Country.Region\", \"Province.State\")]))\n",
    "\n",
    "global_confirmed_vertical.df <- add_missing_rows(global_confirmed_vertical.df, pairs, \"Confirmed\")\n",
    "global_deaths_vertical.df <- add_missing_rows(global_deaths_vertical.df, pairs, \"Deaths\")\n",
    "global_recovered_vertical.df <- add_missing_rows(global_recovered_vertical.df, pairs, \"Recovered\")"
   ]
  },
  {
   "cell_type": "code",
   "execution_count": 131,
   "metadata": {
    "ExecuteTime": {
     "end_time": "2020-03-27T20:53:53.635371Z",
     "start_time": "2020-03-27T20:53:52.499Z"
    }
   },
   "outputs": [],
   "source": [
    "global_merged.df <- merge(global_confirmed_vertical.df,\n",
    "      merge(global_recovered_vertical.df,global_deaths_vertical.df,\n",
    "      by=c(\"Province.State\",\"Country.Region\",\"Date\")),\n",
    "      by=c(\"Province.State\",\"Country.Region\",\"Date\"))"
   ]
  },
  {
   "cell_type": "code",
   "execution_count": 132,
   "metadata": {},
   "outputs": [
    {
     "data": {
      "text/html": [
       "TRUE"
      ],
      "text/latex": [
       "TRUE"
      ],
      "text/markdown": [
       "TRUE"
      ],
      "text/plain": [
       "[1] TRUE"
      ]
     },
     "metadata": {},
     "output_type": "display_data"
    }
   ],
   "source": [
    "\"Canada\" %in% global_merged.df$Country.Region"
   ]
  },
  {
   "cell_type": "markdown",
   "metadata": {},
   "source": [
    "## Italy\n",
    "\n",
    "### Translate columns"
   ]
  },
  {
   "cell_type": "code",
   "execution_count": 34,
   "metadata": {
    "ExecuteTime": {
     "end_time": "2020-03-27T21:22:46.833982Z",
     "start_time": "2020-03-27T21:22:46.784Z"
    }
   },
   "outputs": [
    {
     "data": {
      "text/html": [
       "<table>\n",
       "<caption>A data.frame: 6 × 18</caption>\n",
       "<thead>\n",
       "\t<tr><th></th><th scope=col>Date</th><th scope=col>Country.Region</th><th scope=col>RegionCode</th><th scope=col>Province.State</th><th scope=col>Lat</th><th scope=col>Long</th><th scope=col>HospitalizedWSymptoms</th><th scope=col>ICU</th><th scope=col>TotalHospitalized</th><th scope=col>HomeIsolation</th><th scope=col>Confirmed</th><th scope=col>DailyConfirmed</th><th scope=col>Recovered</th><th scope=col>Deaths</th><th scope=col>Total</th><th scope=col>Tests</th><th scope=col>NA</th><th scope=col>NA</th></tr>\n",
       "\t<tr><th></th><th scope=col>&lt;date&gt;</th><th scope=col>&lt;chr&gt;</th><th scope=col>&lt;int&gt;</th><th scope=col>&lt;fct&gt;</th><th scope=col>&lt;dbl&gt;</th><th scope=col>&lt;dbl&gt;</th><th scope=col>&lt;int&gt;</th><th scope=col>&lt;int&gt;</th><th scope=col>&lt;int&gt;</th><th scope=col>&lt;int&gt;</th><th scope=col>&lt;int&gt;</th><th scope=col>&lt;int&gt;</th><th scope=col>&lt;int&gt;</th><th scope=col>&lt;int&gt;</th><th scope=col>&lt;int&gt;</th><th scope=col>&lt;int&gt;</th><th scope=col>&lt;lgl&gt;</th><th scope=col>&lt;lgl&gt;</th></tr>\n",
       "</thead>\n",
       "<tbody>\n",
       "\t<tr><th scope=row>1</th><td>2020-03-27</td><td>Italy</td><td>13</td><td>Abruzzo       </td><td>42.35122</td><td>13.39844</td><td> 289</td><td> 71</td><td> 360</td><td> 565</td><td> 925</td><td> 65</td><td> 24</td><td>  68</td><td> 1017</td><td> 6109</td><td>NA</td><td>NA</td></tr>\n",
       "\t<tr><th scope=row>2</th><td>2020-03-27</td><td>Italy</td><td>17</td><td>Basilicata    </td><td>40.63947</td><td>15.80515</td><td>  22</td><td> 15</td><td>  37</td><td> 110</td><td> 147</td><td> 14</td><td>  1</td><td>   3</td><td>  151</td><td> 1254</td><td>NA</td><td>NA</td></tr>\n",
       "\t<tr><th scope=row>3</th><td>2020-03-27</td><td>Italy</td><td> 4</td><td>P.A. Bolzano  </td><td>46.49933</td><td>11.35662</td><td> 249</td><td> 45</td><td> 294</td><td> 539</td><td> 833</td><td> 42</td><td>110</td><td>  60</td><td> 1003</td><td> 8520</td><td>NA</td><td>NA</td></tr>\n",
       "\t<tr><th scope=row>4</th><td>2020-03-27</td><td>Italy</td><td>18</td><td>Calabria      </td><td>38.90598</td><td>16.59440</td><td> 103</td><td> 22</td><td> 125</td><td> 344</td><td> 469</td><td> 97</td><td>  7</td><td>  18</td><td>  494</td><td> 6901</td><td>NA</td><td>NA</td></tr>\n",
       "\t<tr><th scope=row>5</th><td>2020-03-27</td><td>Italy</td><td>15</td><td>Campania      </td><td>40.83957</td><td>14.25085</td><td> 456</td><td>113</td><td> 569</td><td> 723</td><td>1292</td><td>123</td><td> 64</td><td>  98</td><td> 1454</td><td> 9613</td><td>NA</td><td>NA</td></tr>\n",
       "\t<tr><th scope=row>6</th><td>2020-03-27</td><td>Italy</td><td> 8</td><td>Emilia Romagna</td><td>44.49437</td><td>11.34172</td><td>3461</td><td>308</td><td>3769</td><td>5592</td><td>9361</td><td>511</td><td>960</td><td>1267</td><td>11588</td><td>47798</td><td>NA</td><td>NA</td></tr>\n",
       "</tbody>\n",
       "</table>\n"
      ],
      "text/latex": [
       "A data.frame: 6 × 18\n",
       "\\begin{tabular}{r|llllllllllllllllll}\n",
       "  & Date & Country.Region & RegionCode & Province.State & Lat & Long & HospitalizedWSymptoms & ICU & TotalHospitalized & HomeIsolation & Confirmed & DailyConfirmed & Recovered & Deaths & Total & Tests & NA & NA\\\\\n",
       "  & <date> & <chr> & <int> & <fct> & <dbl> & <dbl> & <int> & <int> & <int> & <int> & <int> & <int> & <int> & <int> & <int> & <int> & <lgl> & <lgl>\\\\\n",
       "\\hline\n",
       "\t1 & 2020-03-27 & Italy & 13 & Abruzzo        & 42.35122 & 13.39844 &  289 &  71 &  360 &  565 &  925 &  65 &  24 &   68 &  1017 &  6109 & NA & NA\\\\\n",
       "\t2 & 2020-03-27 & Italy & 17 & Basilicata     & 40.63947 & 15.80515 &   22 &  15 &   37 &  110 &  147 &  14 &   1 &    3 &   151 &  1254 & NA & NA\\\\\n",
       "\t3 & 2020-03-27 & Italy &  4 & P.A. Bolzano   & 46.49933 & 11.35662 &  249 &  45 &  294 &  539 &  833 &  42 & 110 &   60 &  1003 &  8520 & NA & NA\\\\\n",
       "\t4 & 2020-03-27 & Italy & 18 & Calabria       & 38.90598 & 16.59440 &  103 &  22 &  125 &  344 &  469 &  97 &   7 &   18 &   494 &  6901 & NA & NA\\\\\n",
       "\t5 & 2020-03-27 & Italy & 15 & Campania       & 40.83957 & 14.25085 &  456 & 113 &  569 &  723 & 1292 & 123 &  64 &   98 &  1454 &  9613 & NA & NA\\\\\n",
       "\t6 & 2020-03-27 & Italy &  8 & Emilia Romagna & 44.49437 & 11.34172 & 3461 & 308 & 3769 & 5592 & 9361 & 511 & 960 & 1267 & 11588 & 47798 & NA & NA\\\\\n",
       "\\end{tabular}\n"
      ],
      "text/markdown": [
       "\n",
       "A data.frame: 6 × 18\n",
       "\n",
       "| <!--/--> | Date &lt;date&gt; | Country.Region &lt;chr&gt; | RegionCode &lt;int&gt; | Province.State &lt;fct&gt; | Lat &lt;dbl&gt; | Long &lt;dbl&gt; | HospitalizedWSymptoms &lt;int&gt; | ICU &lt;int&gt; | TotalHospitalized &lt;int&gt; | HomeIsolation &lt;int&gt; | Confirmed &lt;int&gt; | DailyConfirmed &lt;int&gt; | Recovered &lt;int&gt; | Deaths &lt;int&gt; | Total &lt;int&gt; | Tests &lt;int&gt; | NA &lt;lgl&gt; | NA &lt;lgl&gt; |\n",
       "|---|---|---|---|---|---|---|---|---|---|---|---|---|---|---|---|---|---|---|\n",
       "| 1 | 2020-03-27 | Italy | 13 | Abruzzo        | 42.35122 | 13.39844 |  289 |  71 |  360 |  565 |  925 |  65 |  24 |   68 |  1017 |  6109 | NA | NA |\n",
       "| 2 | 2020-03-27 | Italy | 17 | Basilicata     | 40.63947 | 15.80515 |   22 |  15 |   37 |  110 |  147 |  14 |   1 |    3 |   151 |  1254 | NA | NA |\n",
       "| 3 | 2020-03-27 | Italy |  4 | P.A. Bolzano   | 46.49933 | 11.35662 |  249 |  45 |  294 |  539 |  833 |  42 | 110 |   60 |  1003 |  8520 | NA | NA |\n",
       "| 4 | 2020-03-27 | Italy | 18 | Calabria       | 38.90598 | 16.59440 |  103 |  22 |  125 |  344 |  469 |  97 |   7 |   18 |   494 |  6901 | NA | NA |\n",
       "| 5 | 2020-03-27 | Italy | 15 | Campania       | 40.83957 | 14.25085 |  456 | 113 |  569 |  723 | 1292 | 123 |  64 |   98 |  1454 |  9613 | NA | NA |\n",
       "| 6 | 2020-03-27 | Italy |  8 | Emilia Romagna | 44.49437 | 11.34172 | 3461 | 308 | 3769 | 5592 | 9361 | 511 | 960 | 1267 | 11588 | 47798 | NA | NA |\n",
       "\n"
      ],
      "text/plain": [
       "  Date       Country.Region RegionCode Province.State Lat      Long    \n",
       "1 2020-03-27 Italy          13         Abruzzo        42.35122 13.39844\n",
       "2 2020-03-27 Italy          17         Basilicata     40.63947 15.80515\n",
       "3 2020-03-27 Italy           4         P.A. Bolzano   46.49933 11.35662\n",
       "4 2020-03-27 Italy          18         Calabria       38.90598 16.59440\n",
       "5 2020-03-27 Italy          15         Campania       40.83957 14.25085\n",
       "6 2020-03-27 Italy           8         Emilia Romagna 44.49437 11.34172\n",
       "  HospitalizedWSymptoms ICU TotalHospitalized HomeIsolation Confirmed\n",
       "1  289                   71  360               565           925     \n",
       "2   22                   15   37               110           147     \n",
       "3  249                   45  294               539           833     \n",
       "4  103                   22  125               344           469     \n",
       "5  456                  113  569               723          1292     \n",
       "6 3461                  308 3769              5592          9361     \n",
       "  DailyConfirmed Recovered Deaths Total Tests <NA> <NA>\n",
       "1  65             24         68    1017  6109 NA   NA  \n",
       "2  14              1          3     151  1254 NA   NA  \n",
       "3  42            110         60    1003  8520 NA   NA  \n",
       "4  97              7         18     494  6901 NA   NA  \n",
       "5 123             64         98    1454  9613 NA   NA  \n",
       "6 511            960       1267   11588 47798 NA   NA  "
      ]
     },
     "metadata": {},
     "output_type": "display_data"
    }
   ],
   "source": [
    "colnames(italy.df) <- c(\"Date\",\"Country.Region\",\"RegionCode\",\"Province.State\",\"Lat\",\"Long\",\"HospitalizedWSymptoms\",\"ICU\",\"TotalHospitalized\",\"HomeIsolation\",\"Confirmed\",\"DailyConfirmed\",\"Recovered\",\"Deaths\",\"Total\",\"Tests\")\n",
    "italy.df$Country.Region <- \"Italy\"\n",
    "italy.df$Date <- as.Date(italy.df$Date)\n",
    "head(italy.df)"
   ]
  },
  {
   "cell_type": "markdown",
   "metadata": {},
   "source": [
    "### Rearrange columns and drop useless columns"
   ]
  },
  {
   "cell_type": "code",
   "execution_count": 35,
   "metadata": {
    "ExecuteTime": {
     "end_time": "2020-03-27T21:22:50.293900Z",
     "start_time": "2020-03-27T21:22:49.616Z"
    }
   },
   "outputs": [],
   "source": [
    "italy.df <- italy.df[,c(4,2,5,6,1,11,13,14,7,8,9,10,12,15,16)]"
   ]
  },
  {
   "cell_type": "markdown",
   "metadata": {},
   "source": [
    "### Merge with global dataset and fill with NA"
   ]
  },
  {
   "cell_type": "code",
   "execution_count": 133,
   "metadata": {
    "ExecuteTime": {
     "end_time": "2020-03-27T21:23:03.611992Z",
     "start_time": "2020-03-27T21:23:03.575Z"
    }
   },
   "outputs": [],
   "source": [
    "output.df <- rbind.fill(italy.df,global_merged.df)"
   ]
  },
  {
   "cell_type": "markdown",
   "metadata": {},
   "source": [
    "### Sort data by date and then by country in alphabetic order"
   ]
  },
  {
   "cell_type": "code",
   "execution_count": 134,
   "metadata": {
    "ExecuteTime": {
     "end_time": "2020-03-27T21:24:42.486271Z",
     "start_time": "2020-03-27T21:24:42.366Z"
    }
   },
   "outputs": [
    {
     "data": {
      "text/html": [
       "<table>\n",
       "<caption>A data.frame: 6 × 19</caption>\n",
       "<thead>\n",
       "\t<tr><th></th><th scope=col>Province.State</th><th scope=col>Country.Region</th><th scope=col>Lat</th><th scope=col>Long</th><th scope=col>Date</th><th scope=col>Confirmed</th><th scope=col>Recovered</th><th scope=col>Deaths</th><th scope=col>HospitalizedWSymptoms</th><th scope=col>ICU</th><th scope=col>TotalHospitalized</th><th scope=col>HomeIsolation</th><th scope=col>DailyConfirmed</th><th scope=col>Total</th><th scope=col>Tests</th><th scope=col>Lat.x</th><th scope=col>Long.x</th><th scope=col>Lat.y</th><th scope=col>Long.y</th></tr>\n",
       "\t<tr><th></th><th scope=col>&lt;chr&gt;</th><th scope=col>&lt;chr&gt;</th><th scope=col>&lt;dbl&gt;</th><th scope=col>&lt;dbl&gt;</th><th scope=col>&lt;date&gt;</th><th scope=col>&lt;int&gt;</th><th scope=col>&lt;int&gt;</th><th scope=col>&lt;int&gt;</th><th scope=col>&lt;int&gt;</th><th scope=col>&lt;int&gt;</th><th scope=col>&lt;int&gt;</th><th scope=col>&lt;int&gt;</th><th scope=col>&lt;int&gt;</th><th scope=col>&lt;int&gt;</th><th scope=col>&lt;int&gt;</th><th scope=col>&lt;dbl&gt;</th><th scope=col>&lt;dbl&gt;</th><th scope=col>&lt;dbl&gt;</th><th scope=col>&lt;dbl&gt;</th></tr>\n",
       "</thead>\n",
       "<tbody>\n",
       "\t<tr><th scope=row>22</th><td></td><td>Afghanistan</td><td>33</td><td>65</td><td>2020-01-22</td><td>0</td><td>0</td><td>0</td><td>NA</td><td>NA</td><td>NA</td><td>NA</td><td>NA</td><td>NA</td><td>NA</td><td>33</td><td>65</td><td>33</td><td>65</td></tr>\n",
       "\t<tr><th scope=row>23</th><td></td><td>Afghanistan</td><td>33</td><td>65</td><td>2020-01-23</td><td>0</td><td>0</td><td>0</td><td>NA</td><td>NA</td><td>NA</td><td>NA</td><td>NA</td><td>NA</td><td>NA</td><td>33</td><td>65</td><td>33</td><td>65</td></tr>\n",
       "\t<tr><th scope=row>24</th><td></td><td>Afghanistan</td><td>33</td><td>65</td><td>2020-01-24</td><td>0</td><td>0</td><td>0</td><td>NA</td><td>NA</td><td>NA</td><td>NA</td><td>NA</td><td>NA</td><td>NA</td><td>33</td><td>65</td><td>33</td><td>65</td></tr>\n",
       "\t<tr><th scope=row>25</th><td></td><td>Afghanistan</td><td>33</td><td>65</td><td>2020-01-25</td><td>0</td><td>0</td><td>0</td><td>NA</td><td>NA</td><td>NA</td><td>NA</td><td>NA</td><td>NA</td><td>NA</td><td>33</td><td>65</td><td>33</td><td>65</td></tr>\n",
       "\t<tr><th scope=row>26</th><td></td><td>Afghanistan</td><td>33</td><td>65</td><td>2020-01-26</td><td>0</td><td>0</td><td>0</td><td>NA</td><td>NA</td><td>NA</td><td>NA</td><td>NA</td><td>NA</td><td>NA</td><td>33</td><td>65</td><td>33</td><td>65</td></tr>\n",
       "\t<tr><th scope=row>27</th><td></td><td>Afghanistan</td><td>33</td><td>65</td><td>2020-01-27</td><td>0</td><td>0</td><td>0</td><td>NA</td><td>NA</td><td>NA</td><td>NA</td><td>NA</td><td>NA</td><td>NA</td><td>33</td><td>65</td><td>33</td><td>65</td></tr>\n",
       "</tbody>\n",
       "</table>\n"
      ],
      "text/latex": [
       "A data.frame: 6 × 19\n",
       "\\begin{tabular}{r|lllllllllllllllllll}\n",
       "  & Province.State & Country.Region & Lat & Long & Date & Confirmed & Recovered & Deaths & HospitalizedWSymptoms & ICU & TotalHospitalized & HomeIsolation & DailyConfirmed & Total & Tests & Lat.x & Long.x & Lat.y & Long.y\\\\\n",
       "  & <chr> & <chr> & <dbl> & <dbl> & <date> & <int> & <int> & <int> & <int> & <int> & <int> & <int> & <int> & <int> & <int> & <dbl> & <dbl> & <dbl> & <dbl>\\\\\n",
       "\\hline\n",
       "\t22 &  & Afghanistan & 33 & 65 & 2020-01-22 & 0 & 0 & 0 & NA & NA & NA & NA & NA & NA & NA & 33 & 65 & 33 & 65\\\\\n",
       "\t23 &  & Afghanistan & 33 & 65 & 2020-01-23 & 0 & 0 & 0 & NA & NA & NA & NA & NA & NA & NA & 33 & 65 & 33 & 65\\\\\n",
       "\t24 &  & Afghanistan & 33 & 65 & 2020-01-24 & 0 & 0 & 0 & NA & NA & NA & NA & NA & NA & NA & 33 & 65 & 33 & 65\\\\\n",
       "\t25 &  & Afghanistan & 33 & 65 & 2020-01-25 & 0 & 0 & 0 & NA & NA & NA & NA & NA & NA & NA & 33 & 65 & 33 & 65\\\\\n",
       "\t26 &  & Afghanistan & 33 & 65 & 2020-01-26 & 0 & 0 & 0 & NA & NA & NA & NA & NA & NA & NA & 33 & 65 & 33 & 65\\\\\n",
       "\t27 &  & Afghanistan & 33 & 65 & 2020-01-27 & 0 & 0 & 0 & NA & NA & NA & NA & NA & NA & NA & 33 & 65 & 33 & 65\\\\\n",
       "\\end{tabular}\n"
      ],
      "text/markdown": [
       "\n",
       "A data.frame: 6 × 19\n",
       "\n",
       "| <!--/--> | Province.State &lt;chr&gt; | Country.Region &lt;chr&gt; | Lat &lt;dbl&gt; | Long &lt;dbl&gt; | Date &lt;date&gt; | Confirmed &lt;int&gt; | Recovered &lt;int&gt; | Deaths &lt;int&gt; | HospitalizedWSymptoms &lt;int&gt; | ICU &lt;int&gt; | TotalHospitalized &lt;int&gt; | HomeIsolation &lt;int&gt; | DailyConfirmed &lt;int&gt; | Total &lt;int&gt; | Tests &lt;int&gt; | Lat.x &lt;dbl&gt; | Long.x &lt;dbl&gt; | Lat.y &lt;dbl&gt; | Long.y &lt;dbl&gt; |\n",
       "|---|---|---|---|---|---|---|---|---|---|---|---|---|---|---|---|---|---|---|---|\n",
       "| 22 | <!----> | Afghanistan | 33 | 65 | 2020-01-22 | 0 | 0 | 0 | NA | NA | NA | NA | NA | NA | NA | 33 | 65 | 33 | 65 |\n",
       "| 23 | <!----> | Afghanistan | 33 | 65 | 2020-01-23 | 0 | 0 | 0 | NA | NA | NA | NA | NA | NA | NA | 33 | 65 | 33 | 65 |\n",
       "| 24 | <!----> | Afghanistan | 33 | 65 | 2020-01-24 | 0 | 0 | 0 | NA | NA | NA | NA | NA | NA | NA | 33 | 65 | 33 | 65 |\n",
       "| 25 | <!----> | Afghanistan | 33 | 65 | 2020-01-25 | 0 | 0 | 0 | NA | NA | NA | NA | NA | NA | NA | 33 | 65 | 33 | 65 |\n",
       "| 26 | <!----> | Afghanistan | 33 | 65 | 2020-01-26 | 0 | 0 | 0 | NA | NA | NA | NA | NA | NA | NA | 33 | 65 | 33 | 65 |\n",
       "| 27 | <!----> | Afghanistan | 33 | 65 | 2020-01-27 | 0 | 0 | 0 | NA | NA | NA | NA | NA | NA | NA | 33 | 65 | 33 | 65 |\n",
       "\n"
      ],
      "text/plain": [
       "   Province.State Country.Region Lat Long Date       Confirmed Recovered Deaths\n",
       "22                Afghanistan    33  65   2020-01-22 0         0         0     \n",
       "23                Afghanistan    33  65   2020-01-23 0         0         0     \n",
       "24                Afghanistan    33  65   2020-01-24 0         0         0     \n",
       "25                Afghanistan    33  65   2020-01-25 0         0         0     \n",
       "26                Afghanistan    33  65   2020-01-26 0         0         0     \n",
       "27                Afghanistan    33  65   2020-01-27 0         0         0     \n",
       "   HospitalizedWSymptoms ICU TotalHospitalized HomeIsolation DailyConfirmed\n",
       "22 NA                    NA  NA                NA            NA            \n",
       "23 NA                    NA  NA                NA            NA            \n",
       "24 NA                    NA  NA                NA            NA            \n",
       "25 NA                    NA  NA                NA            NA            \n",
       "26 NA                    NA  NA                NA            NA            \n",
       "27 NA                    NA  NA                NA            NA            \n",
       "   Total Tests Lat.x Long.x Lat.y Long.y\n",
       "22 NA    NA    33    65     33    65    \n",
       "23 NA    NA    33    65     33    65    \n",
       "24 NA    NA    33    65     33    65    \n",
       "25 NA    NA    33    65     33    65    \n",
       "26 NA    NA    33    65     33    65    \n",
       "27 NA    NA    33    65     33    65    "
      ]
     },
     "metadata": {},
     "output_type": "display_data"
    }
   ],
   "source": [
    "output.df <- output.df[order(output.df$Country.Region, output.df$Date),]\n",
    "head(output.df)"
   ]
  },
  {
   "cell_type": "code",
   "execution_count": 139,
   "metadata": {},
   "outputs": [],
   "source": [
    "saveRDS(output.df, \"COVID19_Global_Italy.Rdata\", version = 2)"
   ]
  },
  {
   "cell_type": "markdown",
   "metadata": {},
   "source": [
    "## Preprocess extra country data"
   ]
  },
  {
   "cell_type": "code",
   "execution_count": 205,
   "metadata": {},
   "outputs": [],
   "source": [
    "restrictions.df <- read.csv(\"data/Kaggle_CountryInfo/restrictions.csv\")\n",
    "countryinfo.df <- read.csv(\"data/Kaggle_CountryInfo/covid19countryinfo.csv\")"
   ]
  },
  {
   "cell_type": "code",
   "execution_count": 200,
   "metadata": {
    "collapsed": true
   },
   "outputs": [
    {
     "data": {
      "text/html": [
       "<table>\n",
       "<caption>A data.frame: 6 × 6</caption>\n",
       "<thead>\n",
       "\t<tr><th></th><th scope=col>country_region</th><th scope=col>date</th><th scope=col>type</th><th scope=col>limit</th><th scope=col>mandatory</th><th scope=col>notes</th></tr>\n",
       "\t<tr><th></th><th scope=col>&lt;fct&gt;</th><th scope=col>&lt;fct&gt;</th><th scope=col>&lt;fct&gt;</th><th scope=col>&lt;int&gt;</th><th scope=col>&lt;fct&gt;</th><th scope=col>&lt;fct&gt;</th></tr>\n",
       "</thead>\n",
       "<tbody>\n",
       "\t<tr><th scope=row>1</th><td>Alabama  </td><td>3/18/2020</td><td>Schools      </td><td> 0</td><td>Yes</td><td></td></tr>\n",
       "\t<tr><th scope=row>2</th><td>Alabama  </td><td>3/20/2020</td><td>Public Places</td><td> 0</td><td>Yes</td><td></td></tr>\n",
       "\t<tr><th scope=row>3</th><td>Alaska   </td><td>3/16/2020</td><td>Schools      </td><td> 0</td><td>Yes</td><td></td></tr>\n",
       "\t<tr><th scope=row>4</th><td>Alaska   </td><td>3/18/2020</td><td>Public Places</td><td> 0</td><td>Yes</td><td></td></tr>\n",
       "\t<tr><th scope=row>5</th><td>Alaska   </td><td>3/24/2020</td><td>Gatherings   </td><td>10</td><td>Yes</td><td></td></tr>\n",
       "\t<tr><th scope=row>6</th><td>Argentina</td><td>3/20/2020</td><td>Stay at Home </td><td> 0</td><td>Yes</td><td></td></tr>\n",
       "</tbody>\n",
       "</table>\n"
      ],
      "text/latex": [
       "A data.frame: 6 × 6\n",
       "\\begin{tabular}{r|llllll}\n",
       "  & country\\_region & date & type & limit & mandatory & notes\\\\\n",
       "  & <fct> & <fct> & <fct> & <int> & <fct> & <fct>\\\\\n",
       "\\hline\n",
       "\t1 & Alabama   & 3/18/2020 & Schools       &  0 & Yes & \\\\\n",
       "\t2 & Alabama   & 3/20/2020 & Public Places &  0 & Yes & \\\\\n",
       "\t3 & Alaska    & 3/16/2020 & Schools       &  0 & Yes & \\\\\n",
       "\t4 & Alaska    & 3/18/2020 & Public Places &  0 & Yes & \\\\\n",
       "\t5 & Alaska    & 3/24/2020 & Gatherings    & 10 & Yes & \\\\\n",
       "\t6 & Argentina & 3/20/2020 & Stay at Home  &  0 & Yes & \\\\\n",
       "\\end{tabular}\n"
      ],
      "text/markdown": [
       "\n",
       "A data.frame: 6 × 6\n",
       "\n",
       "| <!--/--> | country_region &lt;fct&gt; | date &lt;fct&gt; | type &lt;fct&gt; | limit &lt;int&gt; | mandatory &lt;fct&gt; | notes &lt;fct&gt; |\n",
       "|---|---|---|---|---|---|---|\n",
       "| 1 | Alabama   | 3/18/2020 | Schools       |  0 | Yes | <!----> |\n",
       "| 2 | Alabama   | 3/20/2020 | Public Places |  0 | Yes | <!----> |\n",
       "| 3 | Alaska    | 3/16/2020 | Schools       |  0 | Yes | <!----> |\n",
       "| 4 | Alaska    | 3/18/2020 | Public Places |  0 | Yes | <!----> |\n",
       "| 5 | Alaska    | 3/24/2020 | Gatherings    | 10 | Yes | <!----> |\n",
       "| 6 | Argentina | 3/20/2020 | Stay at Home  |  0 | Yes | <!----> |\n",
       "\n"
      ],
      "text/plain": [
       "  country_region date      type          limit mandatory notes\n",
       "1 Alabama        3/18/2020 Schools        0    Yes            \n",
       "2 Alabama        3/20/2020 Public Places  0    Yes            \n",
       "3 Alaska         3/16/2020 Schools        0    Yes            \n",
       "4 Alaska         3/18/2020 Public Places  0    Yes            \n",
       "5 Alaska         3/24/2020 Gatherings    10    Yes            \n",
       "6 Argentina      3/20/2020 Stay at Home   0    Yes            "
      ]
     },
     "metadata": {},
     "output_type": "display_data"
    }
   ],
   "source": [
    "head(restrictions.df)"
   ]
  },
  {
   "cell_type": "code",
   "execution_count": 201,
   "metadata": {
    "collapsed": true
   },
   "outputs": [
    {
     "data": {
      "text/html": [
       "<table>\n",
       "<caption>A data.frame: 6 × 22</caption>\n",
       "<thead>\n",
       "\t<tr><th></th><th scope=col>country</th><th scope=col>pop</th><th scope=col>tests</th><th scope=col>testpop</th><th scope=col>density</th><th scope=col>medianage</th><th scope=col>urbanpop</th><th scope=col>quarantine</th><th scope=col>schools</th><th scope=col>restrictions</th><th scope=col>⋯</th><th scope=col>sex0</th><th scope=col>sex14</th><th scope=col>sex25</th><th scope=col>sex54</th><th scope=col>sex64</th><th scope=col>sex65plus</th><th scope=col>sexratio</th><th scope=col>lung</th><th scope=col>femalelung</th><th scope=col>malelung</th></tr>\n",
       "\t<tr><th></th><th scope=col>&lt;fct&gt;</th><th scope=col>&lt;fct&gt;</th><th scope=col>&lt;int&gt;</th><th scope=col>&lt;dbl&gt;</th><th scope=col>&lt;int&gt;</th><th scope=col>&lt;int&gt;</th><th scope=col>&lt;int&gt;</th><th scope=col>&lt;fct&gt;</th><th scope=col>&lt;fct&gt;</th><th scope=col>&lt;fct&gt;</th><th scope=col>⋯</th><th scope=col>&lt;dbl&gt;</th><th scope=col>&lt;dbl&gt;</th><th scope=col>&lt;dbl&gt;</th><th scope=col>&lt;dbl&gt;</th><th scope=col>&lt;dbl&gt;</th><th scope=col>&lt;dbl&gt;</th><th scope=col>&lt;dbl&gt;</th><th scope=col>&lt;dbl&gt;</th><th scope=col>&lt;dbl&gt;</th><th scope=col>&lt;dbl&gt;</th></tr>\n",
       "</thead>\n",
       "<tbody>\n",
       "\t<tr><th scope=row>1</th><td>Afghanistan        </td><td>38,928,346</td><td>NA</td><td>NA</td><td> 60</td><td>18</td><td>25</td><td>         </td><td></td><td></td><td>⋯</td><td>1.05</td><td>1.03</td><td>1.03</td><td>1.03</td><td>0.97</td><td>0.85</td><td>1.03</td><td>37.62</td><td>36.31</td><td>39.33</td></tr>\n",
       "\t<tr><th scope=row>2</th><td>Albania            </td><td>2,877,797 </td><td>NA</td><td>NA</td><td>105</td><td>36</td><td>63</td><td>         </td><td></td><td></td><td>⋯</td><td>1.08</td><td>1.11</td><td>1.09</td><td>0.93</td><td>0.95</td><td>0.87</td><td>0.98</td><td>11.67</td><td> 7.02</td><td>17.04</td></tr>\n",
       "\t<tr><th scope=row>3</th><td>Algeria            </td><td>43,851,044</td><td>NA</td><td>NA</td><td> 18</td><td>29</td><td>73</td><td>         </td><td></td><td></td><td>⋯</td><td>1.05</td><td>1.05</td><td>1.05</td><td>1.03</td><td>1.01</td><td>0.89</td><td>1.03</td><td> 8.77</td><td> 5.03</td><td>12.81</td></tr>\n",
       "\t<tr><th scope=row>4</th><td>Andorra            </td><td>77,265    </td><td>NA</td><td>NA</td><td>164</td><td>45</td><td>88</td><td>         </td><td></td><td></td><td>⋯</td><td>1.07</td><td>1.05</td><td>1.08</td><td>1.05</td><td>1.15</td><td>1.02</td><td>1.06</td><td>   NA</td><td>   NA</td><td>   NA</td></tr>\n",
       "\t<tr><th scope=row>5</th><td>Antigua and Barbuda</td><td>97,929    </td><td>NA</td><td>NA</td><td>223</td><td>34</td><td>26</td><td>         </td><td></td><td></td><td>⋯</td><td>1.05</td><td>1.03</td><td>0.99</td><td>0.84</td><td>0.82</td><td>0.76</td><td>0.90</td><td>11.76</td><td> 7.67</td><td>18.78</td></tr>\n",
       "\t<tr><th scope=row>6</th><td>Argentina          </td><td>45,195,774</td><td>NA</td><td>NA</td><td> 17</td><td>32</td><td>93</td><td>3/20/2020</td><td></td><td></td><td>⋯</td><td>1.05</td><td>1.06</td><td>1.05</td><td>1.00</td><td>0.94</td><td>0.71</td><td>0.98</td><td>29.27</td><td>20.16</td><td>42.59</td></tr>\n",
       "</tbody>\n",
       "</table>\n"
      ],
      "text/latex": [
       "A data.frame: 6 × 22\n",
       "\\begin{tabular}{r|lllllllllllllllllllll}\n",
       "  & country & pop & tests & testpop & density & medianage & urbanpop & quarantine & schools & restrictions & ⋯ & sex0 & sex14 & sex25 & sex54 & sex64 & sex65plus & sexratio & lung & femalelung & malelung\\\\\n",
       "  & <fct> & <fct> & <int> & <dbl> & <int> & <int> & <int> & <fct> & <fct> & <fct> & ⋯ & <dbl> & <dbl> & <dbl> & <dbl> & <dbl> & <dbl> & <dbl> & <dbl> & <dbl> & <dbl>\\\\\n",
       "\\hline\n",
       "\t1 & Afghanistan         & 38,928,346 & NA & NA &  60 & 18 & 25 &           &  &  & ⋯ & 1.05 & 1.03 & 1.03 & 1.03 & 0.97 & 0.85 & 1.03 & 37.62 & 36.31 & 39.33\\\\\n",
       "\t2 & Albania             & 2,877,797  & NA & NA & 105 & 36 & 63 &           &  &  & ⋯ & 1.08 & 1.11 & 1.09 & 0.93 & 0.95 & 0.87 & 0.98 & 11.67 &  7.02 & 17.04\\\\\n",
       "\t3 & Algeria             & 43,851,044 & NA & NA &  18 & 29 & 73 &           &  &  & ⋯ & 1.05 & 1.05 & 1.05 & 1.03 & 1.01 & 0.89 & 1.03 &  8.77 &  5.03 & 12.81\\\\\n",
       "\t4 & Andorra             & 77,265     & NA & NA & 164 & 45 & 88 &           &  &  & ⋯ & 1.07 & 1.05 & 1.08 & 1.05 & 1.15 & 1.02 & 1.06 &    NA &    NA &    NA\\\\\n",
       "\t5 & Antigua and Barbuda & 97,929     & NA & NA & 223 & 34 & 26 &           &  &  & ⋯ & 1.05 & 1.03 & 0.99 & 0.84 & 0.82 & 0.76 & 0.90 & 11.76 &  7.67 & 18.78\\\\\n",
       "\t6 & Argentina           & 45,195,774 & NA & NA &  17 & 32 & 93 & 3/20/2020 &  &  & ⋯ & 1.05 & 1.06 & 1.05 & 1.00 & 0.94 & 0.71 & 0.98 & 29.27 & 20.16 & 42.59\\\\\n",
       "\\end{tabular}\n"
      ],
      "text/markdown": [
       "\n",
       "A data.frame: 6 × 22\n",
       "\n",
       "| <!--/--> | country &lt;fct&gt; | pop &lt;fct&gt; | tests &lt;int&gt; | testpop &lt;dbl&gt; | density &lt;int&gt; | medianage &lt;int&gt; | urbanpop &lt;int&gt; | quarantine &lt;fct&gt; | schools &lt;fct&gt; | restrictions &lt;fct&gt; | ⋯ ⋯ | sex0 &lt;dbl&gt; | sex14 &lt;dbl&gt; | sex25 &lt;dbl&gt; | sex54 &lt;dbl&gt; | sex64 &lt;dbl&gt; | sex65plus &lt;dbl&gt; | sexratio &lt;dbl&gt; | lung &lt;dbl&gt; | femalelung &lt;dbl&gt; | malelung &lt;dbl&gt; |\n",
       "|---|---|---|---|---|---|---|---|---|---|---|---|---|---|---|---|---|---|---|---|---|---|\n",
       "| 1 | Afghanistan         | 38,928,346 | NA | NA |  60 | 18 | 25 | <!----> | <!----> | <!----> | ⋯ | 1.05 | 1.03 | 1.03 | 1.03 | 0.97 | 0.85 | 1.03 | 37.62 | 36.31 | 39.33 |\n",
       "| 2 | Albania             | 2,877,797  | NA | NA | 105 | 36 | 63 | <!----> | <!----> | <!----> | ⋯ | 1.08 | 1.11 | 1.09 | 0.93 | 0.95 | 0.87 | 0.98 | 11.67 |  7.02 | 17.04 |\n",
       "| 3 | Algeria             | 43,851,044 | NA | NA |  18 | 29 | 73 | <!----> | <!----> | <!----> | ⋯ | 1.05 | 1.05 | 1.05 | 1.03 | 1.01 | 0.89 | 1.03 |  8.77 |  5.03 | 12.81 |\n",
       "| 4 | Andorra             | 77,265     | NA | NA | 164 | 45 | 88 | <!----> | <!----> | <!----> | ⋯ | 1.07 | 1.05 | 1.08 | 1.05 | 1.15 | 1.02 | 1.06 |    NA |    NA |    NA |\n",
       "| 5 | Antigua and Barbuda | 97,929     | NA | NA | 223 | 34 | 26 | <!----> | <!----> | <!----> | ⋯ | 1.05 | 1.03 | 0.99 | 0.84 | 0.82 | 0.76 | 0.90 | 11.76 |  7.67 | 18.78 |\n",
       "| 6 | Argentina           | 45,195,774 | NA | NA |  17 | 32 | 93 | 3/20/2020 | <!----> | <!----> | ⋯ | 1.05 | 1.06 | 1.05 | 1.00 | 0.94 | 0.71 | 0.98 | 29.27 | 20.16 | 42.59 |\n",
       "\n"
      ],
      "text/plain": [
       "  country             pop        tests testpop density medianage urbanpop\n",
       "1 Afghanistan         38,928,346 NA    NA       60     18        25      \n",
       "2 Albania             2,877,797  NA    NA      105     36        63      \n",
       "3 Algeria             43,851,044 NA    NA       18     29        73      \n",
       "4 Andorra             77,265     NA    NA      164     45        88      \n",
       "5 Antigua and Barbuda 97,929     NA    NA      223     34        26      \n",
       "6 Argentina           45,195,774 NA    NA       17     32        93      \n",
       "  quarantine schools restrictions ⋯ sex0 sex14 sex25 sex54 sex64 sex65plus\n",
       "1                                 ⋯ 1.05 1.03  1.03  1.03  0.97  0.85     \n",
       "2                                 ⋯ 1.08 1.11  1.09  0.93  0.95  0.87     \n",
       "3                                 ⋯ 1.05 1.05  1.05  1.03  1.01  0.89     \n",
       "4                                 ⋯ 1.07 1.05  1.08  1.05  1.15  1.02     \n",
       "5                                 ⋯ 1.05 1.03  0.99  0.84  0.82  0.76     \n",
       "6 3/20/2020                       ⋯ 1.05 1.06  1.05  1.00  0.94  0.71     \n",
       "  sexratio lung  femalelung malelung\n",
       "1 1.03     37.62 36.31      39.33   \n",
       "2 0.98     11.67  7.02      17.04   \n",
       "3 1.03      8.77  5.03      12.81   \n",
       "4 1.06        NA    NA         NA   \n",
       "5 0.90     11.76  7.67      18.78   \n",
       "6 0.98     29.27 20.16      42.59   "
      ]
     },
     "metadata": {},
     "output_type": "display_data"
    }
   ],
   "source": [
    "head(countryinfo.df)"
   ]
  },
  {
   "cell_type": "markdown",
   "metadata": {},
   "source": [
    "### Rename columns for consistency"
   ]
  },
  {
   "cell_type": "code",
   "execution_count": 206,
   "metadata": {},
   "outputs": [],
   "source": [
    "names(restrictions.df) <- c(\"Country.Region\", \"Date\", \"Type\", \"Limit\", \"Mandatory\", \"Notes\")\n",
    "names(countryinfo.df)[1] <- \"Country.Region\""
   ]
  },
  {
   "cell_type": "markdown",
   "metadata": {},
   "source": [
    "### Remove unused columns\n",
    "We will have this data after we merge it with restrictions.df"
   ]
  },
  {
   "cell_type": "code",
   "execution_count": 213,
   "metadata": {},
   "outputs": [],
   "source": [
    "countryinfo.df[c(\"quarantine\", \"schools\", \"restrictions\")] <- NULL\n",
    "restrictions.df[c(\"Mandatory\", \"Notes\", \"Limit\")] <- NULL"
   ]
  },
  {
   "cell_type": "markdown",
   "metadata": {},
   "source": [
    "### Reshape the restrictions to wide format\n",
    "We want one line per country"
   ]
  },
  {
   "cell_type": "code",
   "execution_count": 214,
   "metadata": {},
   "outputs": [
    {
     "name": "stderr",
     "output_type": "stream",
     "text": [
      "Warning message in reshapeWide(data, idvar = idvar, timevar = timevar, varying = varying, :\n",
      "“multiple rows match for Type=Gatherings: first taken”\n"
     ]
    }
   ],
   "source": [
    "restrictions_wide.df <- reshape(restrictions.df, idvar = c(\"Country.Region\"), timevar = \"Type\", direction = \"wide\")"
   ]
  },
  {
   "cell_type": "markdown",
   "metadata": {},
   "source": [
    "### Merge country extra data and lockdown dates"
   ]
  },
  {
   "cell_type": "code",
   "execution_count": 215,
   "metadata": {},
   "outputs": [
    {
     "data": {
      "text/html": [
       "<table>\n",
       "<caption>A data.frame: 86 × 25</caption>\n",
       "<thead>\n",
       "\t<tr><th scope=col>Country.Region</th><th scope=col>Date.Schools</th><th scope=col>Date.Public Places</th><th scope=col>Date.Gatherings</th><th scope=col>Date.Stay at Home</th><th scope=col>Date.Lockdown</th><th scope=col>Date.Non-essential</th><th scope=col>pop</th><th scope=col>tests</th><th scope=col>testpop</th><th scope=col>⋯</th><th scope=col>sex0</th><th scope=col>sex14</th><th scope=col>sex25</th><th scope=col>sex54</th><th scope=col>sex64</th><th scope=col>sex65plus</th><th scope=col>sexratio</th><th scope=col>lung</th><th scope=col>femalelung</th><th scope=col>malelung</th></tr>\n",
       "\t<tr><th scope=col>&lt;fct&gt;</th><th scope=col>&lt;fct&gt;</th><th scope=col>&lt;fct&gt;</th><th scope=col>&lt;fct&gt;</th><th scope=col>&lt;fct&gt;</th><th scope=col>&lt;fct&gt;</th><th scope=col>&lt;fct&gt;</th><th scope=col>&lt;fct&gt;</th><th scope=col>&lt;int&gt;</th><th scope=col>&lt;dbl&gt;</th><th scope=col>⋯</th><th scope=col>&lt;dbl&gt;</th><th scope=col>&lt;dbl&gt;</th><th scope=col>&lt;dbl&gt;</th><th scope=col>&lt;dbl&gt;</th><th scope=col>&lt;dbl&gt;</th><th scope=col>&lt;dbl&gt;</th><th scope=col>&lt;dbl&gt;</th><th scope=col>&lt;dbl&gt;</th><th scope=col>&lt;dbl&gt;</th><th scope=col>&lt;dbl&gt;</th></tr>\n",
       "</thead>\n",
       "<tbody>\n",
       "\t<tr><td>Alabama    </td><td>3/18/2020</td><td>3/20/2020</td><td>NA       </td><td>NA       </td><td>NA       </td><td>NA       </td><td>             </td><td>    NA</td><td>         NA</td><td>⋯</td><td>  NA</td><td>  NA</td><td>  NA</td><td>  NA</td><td>  NA</td><td>  NA</td><td>  NA</td><td>   NA</td><td>   NA</td><td>    NA</td></tr>\n",
       "\t<tr><td>Alaska     </td><td>3/16/2020</td><td>3/18/2020</td><td>3/24/2020</td><td>NA       </td><td>NA       </td><td>NA       </td><td>             </td><td>    NA</td><td>         NA</td><td>⋯</td><td>  NA</td><td>  NA</td><td>  NA</td><td>  NA</td><td>  NA</td><td>  NA</td><td>  NA</td><td>   NA</td><td>   NA</td><td>    NA</td></tr>\n",
       "\t<tr><td>Argentina  </td><td>NA       </td><td>NA       </td><td>NA       </td><td>3/20/2020</td><td>NA       </td><td>NA       </td><td>45,195,774   </td><td>    NA</td><td>         NA</td><td>⋯</td><td>1.05</td><td>1.06</td><td>1.05</td><td>1.00</td><td>0.94</td><td>0.71</td><td>0.98</td><td>29.27</td><td>20.16</td><td> 42.59</td></tr>\n",
       "\t<tr><td>Arizona    </td><td>3/16/2020</td><td>3/20/2020</td><td>NA       </td><td>NA       </td><td>NA       </td><td>NA       </td><td>             </td><td>    NA</td><td>         NA</td><td>⋯</td><td>  NA</td><td>  NA</td><td>  NA</td><td>  NA</td><td>  NA</td><td>  NA</td><td>  NA</td><td>   NA</td><td>   NA</td><td>    NA</td></tr>\n",
       "\t<tr><td>Arkansas   </td><td>3/17/2020</td><td>NA       </td><td>NA       </td><td>NA       </td><td>NA       </td><td>NA       </td><td>             </td><td>    NA</td><td>         NA</td><td>⋯</td><td>  NA</td><td>  NA</td><td>  NA</td><td>  NA</td><td>  NA</td><td>  NA</td><td>  NA</td><td>   NA</td><td>   NA</td><td>    NA</td></tr>\n",
       "\t<tr><td>Atlanta    </td><td>NA       </td><td>3/19/2020</td><td>NA       </td><td>NA       </td><td>NA       </td><td>NA       </td><td>             </td><td>    NA</td><td>         NA</td><td>⋯</td><td>  NA</td><td>  NA</td><td>  NA</td><td>  NA</td><td>  NA</td><td>  NA</td><td>  NA</td><td>   NA</td><td>   NA</td><td>    NA</td></tr>\n",
       "\t<tr><td>Australia  </td><td>NA       </td><td>3/23/2020</td><td>NA       </td><td>NA       </td><td>NA       </td><td>NA       </td><td>25,499,884   </td><td> 31635</td><td>   806.0656</td><td>⋯</td><td>1.06</td><td>1.06</td><td>1.09</td><td>0.99</td><td>0.93</td><td>0.86</td><td>0.99</td><td>18.79</td><td>15.90</td><td> 22.16</td></tr>\n",
       "\t<tr><td>Austria    </td><td>NA       </td><td>NA       </td><td>NA       </td><td>3/16/2020</td><td>NA       </td><td>NA       </td><td>9,006,398    </td><td> 10278</td><td>   876.2792</td><td>⋯</td><td>1.05</td><td>1.05</td><td>1.04</td><td>1.00</td><td>0.98</td><td>0.76</td><td>0.96</td><td>17.02</td><td>13.02</td><td> 22.14</td></tr>\n",
       "\t<tr><td>Belgium    </td><td>NA       </td><td>NA       </td><td>NA       </td><td>3/18/2020</td><td>NA       </td><td>NA       </td><td>11,589,623   </td><td>  4225</td><td>  2743.1060</td><td>⋯</td><td>1.05</td><td>1.05</td><td>1.04</td><td>1.02</td><td>0.98</td><td>0.76</td><td>0.97</td><td>27.11</td><td>21.20</td><td> 34.98</td></tr>\n",
       "\t<tr><td>California </td><td>3/12/2020</td><td>3/17/2020</td><td>NA       </td><td>3/19/2020</td><td>NA       </td><td>NA       </td><td>             </td><td>    NA</td><td>         NA</td><td>⋯</td><td>  NA</td><td>  NA</td><td>  NA</td><td>  NA</td><td>  NA</td><td>  NA</td><td>  NA</td><td>   NA</td><td>   NA</td><td>    NA</td></tr>\n",
       "\t<tr><td>Canada     </td><td>3/15/2020</td><td>3/20/2020</td><td>NA       </td><td>NA       </td><td>NA       </td><td>NA       </td><td>37,742,154   </td><td> 76964</td><td>   490.3871</td><td>⋯</td><td>1.06</td><td>1.05</td><td>1.06</td><td>1.03</td><td>0.98</td><td>0.80</td><td>0.98</td><td>19.01</td><td>16.95</td><td> 21.55</td></tr>\n",
       "\t<tr><td>China      </td><td>1/26/2020</td><td>1/26/2020</td><td>NA       </td><td>NA       </td><td>NA       </td><td>NA       </td><td>1,439,323,776</td><td>320000</td><td>  4497.8868</td><td>⋯</td><td>1.15</td><td>1.17</td><td>1.14</td><td>1.04</td><td>1.02</td><td>0.92</td><td>1.06</td><td>63.10</td><td>56.35</td><td> 70.52</td></tr>\n",
       "\t<tr><td>Colombia   </td><td>NA       </td><td>NA       </td><td>NA       </td><td>3/25/2020</td><td>NA       </td><td>NA       </td><td>50,882,891   </td><td>  2571</td><td> 19791.0895</td><td>⋯</td><td>1.06</td><td>1.05</td><td>1.04</td><td>0.98</td><td>0.88</td><td>0.72</td><td>0.98</td><td>36.30</td><td>31.33</td><td> 42.49</td></tr>\n",
       "\t<tr><td>Colorado   </td><td>3/18/2020</td><td>3/1/2020 </td><td>3/18/2020</td><td>NA       </td><td>NA       </td><td>NA       </td><td>             </td><td>    NA</td><td>         NA</td><td>⋯</td><td>  NA</td><td>  NA</td><td>  NA</td><td>  NA</td><td>  NA</td><td>  NA</td><td>  NA</td><td>   NA</td><td>   NA</td><td>    NA</td></tr>\n",
       "\t<tr><td>Connecticut</td><td>3/15/2020</td><td>3/16/2020</td><td>NA       </td><td>NA       </td><td>NA       </td><td>3/20/2020</td><td>             </td><td>    NA</td><td>         NA</td><td>⋯</td><td>  NA</td><td>  NA</td><td>  NA</td><td>  NA</td><td>  NA</td><td>  NA</td><td>  NA</td><td>   NA</td><td>   NA</td><td>    NA</td></tr>\n",
       "\t<tr><td>Delaware   </td><td>3/16/2020</td><td>3/16/2020</td><td>NA       </td><td>3/23/2020</td><td>NA       </td><td>NA       </td><td>             </td><td>    NA</td><td>         NA</td><td>⋯</td><td>  NA</td><td>  NA</td><td>  NA</td><td>  NA</td><td>  NA</td><td>  NA</td><td>  NA</td><td>   NA</td><td>   NA</td><td>    NA</td></tr>\n",
       "\t<tr><td>Denmark    </td><td>3/16/2020</td><td>NA       </td><td>NA       </td><td>3/16/2020</td><td>NA       </td><td>NA       </td><td>5,792,202    </td><td>  7620</td><td>   760.1315</td><td>⋯</td><td>1.06</td><td>1.05</td><td>1.04</td><td>0.99</td><td>0.99</td><td>0.81</td><td>0.97</td><td>31.99</td><td>31.31</td><td> 32.85</td></tr>\n",
       "\t<tr><td>Florida    </td><td>3/16/2020</td><td>3/17/2020</td><td>NA       </td><td>NA       </td><td>NA       </td><td>NA       </td><td>             </td><td>    NA</td><td>         NA</td><td>⋯</td><td>  NA</td><td>  NA</td><td>  NA</td><td>  NA</td><td>  NA</td><td>  NA</td><td>  NA</td><td>   NA</td><td>   NA</td><td>    NA</td></tr>\n",
       "\t<tr><td>France     </td><td>3/16/2020</td><td>NA       </td><td>3/13/2020</td><td>3/17/2020</td><td>NA       </td><td>3/15/2020</td><td>65,273,511   </td><td> 11071</td><td>  5895.9002</td><td>⋯</td><td>1.05</td><td>1.05</td><td>1.05</td><td>1.01</td><td>0.93</td><td>0.75</td><td>0.96</td><td>13.15</td><td> 9.64</td><td> 17.69</td></tr>\n",
       "\t<tr><td>Georgia    </td><td>3/18/2020</td><td>3/24/2020</td><td>3/24/2020</td><td>NA       </td><td>NA       </td><td>NA       </td><td>3,989,167    </td><td>    NA</td><td>         NA</td><td>⋯</td><td>1.08</td><td>1.11</td><td>1.11</td><td>0.95</td><td>0.81</td><td>0.64</td><td>0.92</td><td>23.26</td><td>15.96</td><td> 34.46</td></tr>\n",
       "\t<tr><td>Germany    </td><td>3/13/2020</td><td>NA       </td><td>NA       </td><td>3/21/2020</td><td>NA       </td><td>NA       </td><td>83,783,942   </td><td>    NA</td><td>         NA</td><td>⋯</td><td>1.06</td><td>1.05</td><td>1.04</td><td>1.02</td><td>0.98</td><td>0.78</td><td>0.97</td><td>20.01</td><td>16.32</td><td> 24.67</td></tr>\n",
       "\t<tr><td>Hawaii     </td><td>3/13/2020</td><td>3/17/2020</td><td>NA       </td><td>3/25/2020</td><td>NA       </td><td>NA       </td><td>             </td><td>    NA</td><td>         NA</td><td>⋯</td><td>  NA</td><td>  NA</td><td>  NA</td><td>  NA</td><td>  NA</td><td>  NA</td><td>  NA</td><td>   NA</td><td>   NA</td><td>    NA</td></tr>\n",
       "\t<tr><td>Idaho      </td><td>3/23/2020</td><td>3/18/2020</td><td>NA       </td><td>NA       </td><td>NA       </td><td>NA       </td><td>             </td><td>    NA</td><td>         NA</td><td>⋯</td><td>  NA</td><td>  NA</td><td>  NA</td><td>  NA</td><td>  NA</td><td>  NA</td><td>  NA</td><td>   NA</td><td>   NA</td><td>    NA</td></tr>\n",
       "\t<tr><td>Illinois   </td><td>3/13/2020</td><td>3/16/2020</td><td>NA       </td><td>3/21/2020</td><td>NA       </td><td>NA       </td><td>             </td><td>    NA</td><td>         NA</td><td>⋯</td><td>  NA</td><td>  NA</td><td>  NA</td><td>  NA</td><td>  NA</td><td>  NA</td><td>  NA</td><td>   NA</td><td>   NA</td><td>    NA</td></tr>\n",
       "\t<tr><td>India      </td><td>NA       </td><td>NA       </td><td>NA       </td><td>NA       </td><td>3/25/2020</td><td>NA       </td><td>1,380,004,385</td><td>  5900</td><td>233899.0483</td><td>⋯</td><td>1.12</td><td>1.13</td><td>1.13</td><td>1.06</td><td>1.01</td><td>0.90</td><td>1.08</td><td>96.92</td><td>87.54</td><td>106.89</td></tr>\n",
       "\t<tr><td>Indiana    </td><td>3/15/2020</td><td>3/16/2020</td><td>NA       </td><td>3/23/2020</td><td>NA       </td><td>NA       </td><td>             </td><td>    NA</td><td>         NA</td><td>⋯</td><td>  NA</td><td>  NA</td><td>  NA</td><td>  NA</td><td>  NA</td><td>  NA</td><td>  NA</td><td>   NA</td><td>   NA</td><td>    NA</td></tr>\n",
       "\t<tr><td>Iowa       </td><td>3/16/2020</td><td>3/17/2020</td><td>NA       </td><td>NA       </td><td>NA       </td><td>NA       </td><td>             </td><td>    NA</td><td>         NA</td><td>⋯</td><td>  NA</td><td>  NA</td><td>  NA</td><td>  NA</td><td>  NA</td><td>  NA</td><td>  NA</td><td>   NA</td><td>   NA</td><td>    NA</td></tr>\n",
       "\t<tr><td>Iran       </td><td>3/5/2020 </td><td>NA       </td><td>NA       </td><td>3/13/2020</td><td>NA       </td><td>NA       </td><td>83,992,949   </td><td>    NA</td><td>         NA</td><td>⋯</td><td>1.05</td><td>1.05</td><td>1.05</td><td>1.04</td><td>0.97</td><td>0.86</td><td>1.03</td><td>18.84</td><td>16.47</td><td> 20.99</td></tr>\n",
       "\t<tr><td>Ireland    </td><td>3/13/2020</td><td>NA       </td><td>3/13/2020</td><td>NA       </td><td>NA       </td><td>NA       </td><td>4,937,786    </td><td>  1784</td><td>  2767.8173</td><td>⋯</td><td>1.06</td><td>1.05</td><td>1.03</td><td>1.01</td><td>1.00</td><td>0.86</td><td>1.00</td><td>24.92</td><td>23.02</td><td> 27.25</td></tr>\n",
       "\t<tr><td>Israel     </td><td>3/12/2020</td><td>3/15/2020</td><td>NA       </td><td>3/19/2020</td><td>NA       </td><td>NA       </td><td>8,655,535    </td><td>  3872</td><td>  2235.4171</td><td>⋯</td><td>1.05</td><td>1.05</td><td>1.05</td><td>1.05</td><td>0.96</td><td>0.81</td><td>1.01</td><td>16.10</td><td>12.81</td><td> 20.23</td></tr>\n",
       "\t<tr><td>⋮</td><td>⋮</td><td>⋮</td><td>⋮</td><td>⋮</td><td>⋮</td><td>⋮</td><td>⋮</td><td>⋮</td><td>⋮</td><td>⋱</td><td>⋮</td><td>⋮</td><td>⋮</td><td>⋮</td><td>⋮</td><td>⋮</td><td>⋮</td><td>⋮</td><td>⋮</td><td>⋮</td></tr>\n",
       "\t<tr><td>Ohio          </td><td>3/15/2020</td><td>3/15/2020</td><td>NA       </td><td>3/24/2020</td><td>NA</td><td>NA       </td><td>          </td><td>   NA</td><td>        NA</td><td>⋯</td><td>  NA</td><td>  NA</td><td>  NA</td><td>  NA</td><td>  NA</td><td>  NA</td><td>  NA</td><td>   NA</td><td>   NA</td><td>   NA</td></tr>\n",
       "\t<tr><td>Oklahoma      </td><td>3/17/2020</td><td>NA       </td><td>3/24/2020</td><td>NA       </td><td>NA</td><td>3/25/2020</td><td>          </td><td>   NA</td><td>        NA</td><td>⋯</td><td>  NA</td><td>  NA</td><td>  NA</td><td>  NA</td><td>  NA</td><td>  NA</td><td>  NA</td><td>   NA</td><td>   NA</td><td>   NA</td></tr>\n",
       "\t<tr><td>Oregon        </td><td>3/15/2020</td><td>3/16/2020</td><td>NA       </td><td>3/24/2020</td><td>NA</td><td>NA       </td><td>          </td><td>   NA</td><td>        NA</td><td>⋯</td><td>  NA</td><td>  NA</td><td>  NA</td><td>  NA</td><td>  NA</td><td>  NA</td><td>  NA</td><td>   NA</td><td>   NA</td><td>   NA</td></tr>\n",
       "\t<tr><td>Paraguay      </td><td>3/10/2020</td><td>NA       </td><td>3/10/2020</td><td>NA       </td><td>NA</td><td>NA       </td><td>7,132,538 </td><td>   NA</td><td>        NA</td><td>⋯</td><td>1.05</td><td>1.04</td><td>1.01</td><td>1.00</td><td>1.04</td><td>0.88</td><td>1.01</td><td>19.10</td><td>12.70</td><td>26.11</td></tr>\n",
       "\t<tr><td>Pennsylvania  </td><td>3/16/2020</td><td>NA       </td><td>NA       </td><td>3/23/2020</td><td>NA</td><td>3/17/2020</td><td>          </td><td>   NA</td><td>        NA</td><td>⋯</td><td>  NA</td><td>  NA</td><td>  NA</td><td>  NA</td><td>  NA</td><td>  NA</td><td>  NA</td><td>   NA</td><td>   NA</td><td>   NA</td></tr>\n",
       "\t<tr><td>Peru          </td><td>NA       </td><td>NA       </td><td>NA       </td><td>3/15/2020</td><td>NA</td><td>NA       </td><td>32,971,854</td><td>   NA</td><td>        NA</td><td>⋯</td><td>1.05</td><td>1.04</td><td>1.00</td><td>0.92</td><td>0.94</td><td>0.90</td><td>0.97</td><td>17.69</td><td>14.94</td><td>20.96</td></tr>\n",
       "\t<tr><td>Poland        </td><td>3/12/2020</td><td>3/12/2020</td><td>NA       </td><td>NA       </td><td>NA</td><td>NA       </td><td>37,846,611</td><td> 7899</td><td> 4791.3167</td><td>⋯</td><td>1.06</td><td>1.06</td><td>1.05</td><td>1.02</td><td>0.90</td><td>0.64</td><td>0.94</td><td>16.16</td><td> 9.98</td><td>25.90</td></tr>\n",
       "\t<tr><td>Portugal      </td><td>3/19/2020</td><td>3/19/2020</td><td>NA       </td><td>NA       </td><td>NA</td><td>NA       </td><td>10,196,709</td><td>   NA</td><td>        NA</td><td>⋯</td><td>1.07</td><td>1.09</td><td>1.13</td><td>1.03</td><td>0.88</td><td>0.69</td><td>0.96</td><td>13.35</td><td> 9.14</td><td>19.18</td></tr>\n",
       "\t<tr><td>Puerto Rico   </td><td>3/16/2020</td><td>NA       </td><td>NA       </td><td>3/16/2020</td><td>NA</td><td>NA       </td><td>2,860,853 </td><td>   NA</td><td>        NA</td><td>⋯</td><td>1.02</td><td>1.04</td><td>1.05</td><td>0.92</td><td>0.83</td><td>0.76</td><td>0.91</td><td>   NA</td><td>   NA</td><td>   NA</td></tr>\n",
       "\t<tr><td>Rhode Island  </td><td>3/17/2020</td><td>3/17/2020</td><td>3/17/2020</td><td>NA       </td><td>NA</td><td>3/23/2020</td><td>          </td><td>   NA</td><td>        NA</td><td>⋯</td><td>  NA</td><td>  NA</td><td>  NA</td><td>  NA</td><td>  NA</td><td>  NA</td><td>  NA</td><td>   NA</td><td>   NA</td><td>   NA</td></tr>\n",
       "\t<tr><td>Rwanda        </td><td>NA       </td><td>NA       </td><td>NA       </td><td>3/21/2020</td><td>NA</td><td>NA       </td><td>12,952,218</td><td>   NA</td><td>        NA</td><td>⋯</td><td>1.03</td><td>1.02</td><td>1.00</td><td>1.00</td><td>0.88</td><td>0.70</td><td>1.00</td><td>25.79</td><td>17.88</td><td>37.30</td></tr>\n",
       "\t<tr><td>South Africa  </td><td>NA       </td><td>NA       </td><td>NA       </td><td>3/26/2020</td><td>NA</td><td>NA       </td><td>59,308,690</td><td>  645</td><td>91951.4574</td><td>⋯</td><td>1.02</td><td>1.01</td><td>0.98</td><td>1.02</td><td>0.87</td><td>0.73</td><td>0.98</td><td>44.30</td><td>28.03</td><td>75.32</td></tr>\n",
       "\t<tr><td>South Carolina</td><td>3/14/2020</td><td>3/18/2020</td><td>3/23/2020</td><td>NA       </td><td>NA</td><td>NA       </td><td>          </td><td>   NA</td><td>        NA</td><td>⋯</td><td>  NA</td><td>  NA</td><td>  NA</td><td>  NA</td><td>  NA</td><td>  NA</td><td>  NA</td><td>   NA</td><td>   NA</td><td>   NA</td></tr>\n",
       "\t<tr><td>South Dakota  </td><td>3/13/2020</td><td>NA       </td><td>3/24/2020</td><td>NA       </td><td>NA</td><td>NA       </td><td>          </td><td>   NA</td><td>        NA</td><td>⋯</td><td>  NA</td><td>  NA</td><td>  NA</td><td>  NA</td><td>  NA</td><td>  NA</td><td>  NA</td><td>   NA</td><td>   NA</td><td>   NA</td></tr>\n",
       "\t<tr><td>Spain         </td><td>3/12/2020</td><td>NA       </td><td>NA       </td><td>3/15/2020</td><td>NA</td><td>NA       </td><td>46,754,778</td><td>   NA</td><td>        NA</td><td>⋯</td><td>1.07</td><td>1.06</td><td>1.07</td><td>1.04</td><td>0.95</td><td>0.74</td><td>0.98</td><td>16.37</td><td> 8.22</td><td>27.49</td></tr>\n",
       "\t<tr><td>Sweden        </td><td>3/17/2020</td><td>NA       </td><td>3/11/2020</td><td>NA       </td><td>NA</td><td>NA       </td><td>10,099,265</td><td>14300</td><td>  706.2423</td><td>⋯</td><td>1.06</td><td>1.06</td><td>1.06</td><td>1.03</td><td>1.01</td><td>0.85</td><td>1.00</td><td>16.17</td><td>16.58</td><td>17.03</td></tr>\n",
       "\t<tr><td>Switzerland   </td><td>3/13/2020</td><td>NA       </td><td>3/20/2020</td><td>NA       </td><td>NA</td><td>3/16/2020</td><td>8,654,622 </td><td> 4000</td><td> 2163.6555</td><td>⋯</td><td>1.06</td><td>1.06</td><td>1.04</td><td>1.01</td><td>1.00</td><td>0.78</td><td>0.97</td><td>15.22</td><td>11.94</td><td>19.47</td></tr>\n",
       "\t<tr><td>Tennessee     </td><td>3/16/2020</td><td>3/23/2020</td><td>3/23/2020</td><td>NA       </td><td>NA</td><td>NA       </td><td>          </td><td>   NA</td><td>        NA</td><td>⋯</td><td>  NA</td><td>  NA</td><td>  NA</td><td>  NA</td><td>  NA</td><td>  NA</td><td>  NA</td><td>   NA</td><td>   NA</td><td>   NA</td></tr>\n",
       "\t<tr><td>Texas         </td><td>3/20/2020</td><td>3/20/2020</td><td>3/20/2020</td><td>NA       </td><td>NA</td><td>NA       </td><td>          </td><td>   NA</td><td>        NA</td><td>⋯</td><td>  NA</td><td>  NA</td><td>  NA</td><td>  NA</td><td>  NA</td><td>  NA</td><td>  NA</td><td>   NA</td><td>   NA</td><td>   NA</td></tr>\n",
       "\t<tr><td>Turkey        </td><td>3/16/2020</td><td>3/16/2020</td><td>NA       </td><td>NA       </td><td>NA</td><td>NA       </td><td>84,339,067</td><td>   NA</td><td>        NA</td><td>⋯</td><td>1.05</td><td>1.05</td><td>1.04</td><td>1.03</td><td>0.99</td><td>0.80</td><td>1.01</td><td>35.63</td><td>21.20</td><td>55.26</td></tr>\n",
       "\t<tr><td>United Kingdom</td><td>3/20/2020</td><td>3/20/2020</td><td>NA       </td><td>3/23/2020</td><td>NA</td><td>NA       </td><td>67,886,011</td><td>50442</td><td> 1345.8231</td><td>⋯</td><td>1.05</td><td>1.05</td><td>1.04</td><td>1.04</td><td>0.98</td><td>0.81</td><td>0.99</td><td>23.66</td><td>21.11</td><td>26.84</td></tr>\n",
       "\t<tr><td>Utah          </td><td>3/16/2020</td><td>3/18/2020</td><td>3/18/2020</td><td>NA       </td><td>NA</td><td>NA       </td><td>          </td><td>   NA</td><td>        NA</td><td>⋯</td><td>  NA</td><td>  NA</td><td>  NA</td><td>  NA</td><td>  NA</td><td>  NA</td><td>  NA</td><td>   NA</td><td>   NA</td><td>   NA</td></tr>\n",
       "\t<tr><td>Vermont       </td><td>3/18/2020</td><td>3/16/2020</td><td>NA       </td><td>3/24/2020</td><td>NA</td><td>NA       </td><td>          </td><td>   NA</td><td>        NA</td><td>⋯</td><td>  NA</td><td>  NA</td><td>  NA</td><td>  NA</td><td>  NA</td><td>  NA</td><td>  NA</td><td>   NA</td><td>   NA</td><td>   NA</td></tr>\n",
       "\t<tr><td>Vietnam       </td><td>2/12/2020</td><td>NA       </td><td>NA       </td><td>2/13/2020</td><td>NA</td><td>NA       </td><td>97,338,579</td><td> 9696</td><td>10039.0449</td><td>⋯</td><td>1.11</td><td>1.11</td><td>1.08</td><td>1.01</td><td>0.85</td><td>0.63</td><td>1.00</td><td>26.26</td><td>16.80</td><td>41.72</td></tr>\n",
       "\t<tr><td>Virginia      </td><td>3/13/2020</td><td>3/17/2020</td><td>3/24/2020</td><td>NA       </td><td>NA</td><td>3/24/2020</td><td>          </td><td>   NA</td><td>        NA</td><td>⋯</td><td>  NA</td><td>  NA</td><td>  NA</td><td>  NA</td><td>  NA</td><td>  NA</td><td>  NA</td><td>   NA</td><td>   NA</td><td>   NA</td></tr>\n",
       "\t<tr><td>Washington    </td><td>3/15/2020</td><td>3/15/2020</td><td>NA       </td><td>3/23/2020</td><td>NA</td><td>NA       </td><td>          </td><td>   NA</td><td>        NA</td><td>⋯</td><td>  NA</td><td>  NA</td><td>  NA</td><td>  NA</td><td>  NA</td><td>  NA</td><td>  NA</td><td>   NA</td><td>   NA</td><td>   NA</td></tr>\n",
       "\t<tr><td>Washington DC </td><td>3/16/2020</td><td>3/15/2020</td><td>NA       </td><td>NA       </td><td>NA</td><td>NA       </td><td>          </td><td>   NA</td><td>        NA</td><td>⋯</td><td>  NA</td><td>  NA</td><td>  NA</td><td>  NA</td><td>  NA</td><td>  NA</td><td>  NA</td><td>   NA</td><td>   NA</td><td>   NA</td></tr>\n",
       "\t<tr><td>West Virginia </td><td>3/17/2020</td><td>3/17/2020</td><td>NA       </td><td>3/24/2020</td><td>NA</td><td>NA       </td><td>          </td><td>   NA</td><td>        NA</td><td>⋯</td><td>  NA</td><td>  NA</td><td>  NA</td><td>  NA</td><td>  NA</td><td>  NA</td><td>  NA</td><td>   NA</td><td>   NA</td><td>   NA</td></tr>\n",
       "\t<tr><td>Wisconsin     </td><td>3/18/2020</td><td>3/17/2020</td><td>3/20/2020</td><td>NA       </td><td>NA</td><td>3/24/2020</td><td>          </td><td>   NA</td><td>        NA</td><td>⋯</td><td>  NA</td><td>  NA</td><td>  NA</td><td>  NA</td><td>  NA</td><td>  NA</td><td>  NA</td><td>   NA</td><td>   NA</td><td>   NA</td></tr>\n",
       "\t<tr><td>Wyoming       </td><td>3/15/2020</td><td>3/19/2020</td><td>NA       </td><td>NA       </td><td>NA</td><td>NA       </td><td>          </td><td>   NA</td><td>        NA</td><td>⋯</td><td>  NA</td><td>  NA</td><td>  NA</td><td>  NA</td><td>  NA</td><td>  NA</td><td>  NA</td><td>   NA</td><td>   NA</td><td>   NA</td></tr>\n",
       "</tbody>\n",
       "</table>\n"
      ],
      "text/latex": [
       "A data.frame: 86 × 25\n",
       "\\begin{tabular}{lllllllllllllllllllll}\n",
       " Country.Region & Date.Schools & Date.Public Places & Date.Gatherings & Date.Stay at Home & Date.Lockdown & Date.Non-essential & pop & tests & testpop & ⋯ & sex0 & sex14 & sex25 & sex54 & sex64 & sex65plus & sexratio & lung & femalelung & malelung\\\\\n",
       " <fct> & <fct> & <fct> & <fct> & <fct> & <fct> & <fct> & <fct> & <int> & <dbl> & ⋯ & <dbl> & <dbl> & <dbl> & <dbl> & <dbl> & <dbl> & <dbl> & <dbl> & <dbl> & <dbl>\\\\\n",
       "\\hline\n",
       "\t Alabama     & 3/18/2020 & 3/20/2020 & NA        & NA        & NA        & NA        &               &     NA &          NA & ⋯ &   NA &   NA &   NA &   NA &   NA &   NA &   NA &    NA &    NA &     NA\\\\\n",
       "\t Alaska      & 3/16/2020 & 3/18/2020 & 3/24/2020 & NA        & NA        & NA        &               &     NA &          NA & ⋯ &   NA &   NA &   NA &   NA &   NA &   NA &   NA &    NA &    NA &     NA\\\\\n",
       "\t Argentina   & NA        & NA        & NA        & 3/20/2020 & NA        & NA        & 45,195,774    &     NA &          NA & ⋯ & 1.05 & 1.06 & 1.05 & 1.00 & 0.94 & 0.71 & 0.98 & 29.27 & 20.16 &  42.59\\\\\n",
       "\t Arizona     & 3/16/2020 & 3/20/2020 & NA        & NA        & NA        & NA        &               &     NA &          NA & ⋯ &   NA &   NA &   NA &   NA &   NA &   NA &   NA &    NA &    NA &     NA\\\\\n",
       "\t Arkansas    & 3/17/2020 & NA        & NA        & NA        & NA        & NA        &               &     NA &          NA & ⋯ &   NA &   NA &   NA &   NA &   NA &   NA &   NA &    NA &    NA &     NA\\\\\n",
       "\t Atlanta     & NA        & 3/19/2020 & NA        & NA        & NA        & NA        &               &     NA &          NA & ⋯ &   NA &   NA &   NA &   NA &   NA &   NA &   NA &    NA &    NA &     NA\\\\\n",
       "\t Australia   & NA        & 3/23/2020 & NA        & NA        & NA        & NA        & 25,499,884    &  31635 &    806.0656 & ⋯ & 1.06 & 1.06 & 1.09 & 0.99 & 0.93 & 0.86 & 0.99 & 18.79 & 15.90 &  22.16\\\\\n",
       "\t Austria     & NA        & NA        & NA        & 3/16/2020 & NA        & NA        & 9,006,398     &  10278 &    876.2792 & ⋯ & 1.05 & 1.05 & 1.04 & 1.00 & 0.98 & 0.76 & 0.96 & 17.02 & 13.02 &  22.14\\\\\n",
       "\t Belgium     & NA        & NA        & NA        & 3/18/2020 & NA        & NA        & 11,589,623    &   4225 &   2743.1060 & ⋯ & 1.05 & 1.05 & 1.04 & 1.02 & 0.98 & 0.76 & 0.97 & 27.11 & 21.20 &  34.98\\\\\n",
       "\t California  & 3/12/2020 & 3/17/2020 & NA        & 3/19/2020 & NA        & NA        &               &     NA &          NA & ⋯ &   NA &   NA &   NA &   NA &   NA &   NA &   NA &    NA &    NA &     NA\\\\\n",
       "\t Canada      & 3/15/2020 & 3/20/2020 & NA        & NA        & NA        & NA        & 37,742,154    &  76964 &    490.3871 & ⋯ & 1.06 & 1.05 & 1.06 & 1.03 & 0.98 & 0.80 & 0.98 & 19.01 & 16.95 &  21.55\\\\\n",
       "\t China       & 1/26/2020 & 1/26/2020 & NA        & NA        & NA        & NA        & 1,439,323,776 & 320000 &   4497.8868 & ⋯ & 1.15 & 1.17 & 1.14 & 1.04 & 1.02 & 0.92 & 1.06 & 63.10 & 56.35 &  70.52\\\\\n",
       "\t Colombia    & NA        & NA        & NA        & 3/25/2020 & NA        & NA        & 50,882,891    &   2571 &  19791.0895 & ⋯ & 1.06 & 1.05 & 1.04 & 0.98 & 0.88 & 0.72 & 0.98 & 36.30 & 31.33 &  42.49\\\\\n",
       "\t Colorado    & 3/18/2020 & 3/1/2020  & 3/18/2020 & NA        & NA        & NA        &               &     NA &          NA & ⋯ &   NA &   NA &   NA &   NA &   NA &   NA &   NA &    NA &    NA &     NA\\\\\n",
       "\t Connecticut & 3/15/2020 & 3/16/2020 & NA        & NA        & NA        & 3/20/2020 &               &     NA &          NA & ⋯ &   NA &   NA &   NA &   NA &   NA &   NA &   NA &    NA &    NA &     NA\\\\\n",
       "\t Delaware    & 3/16/2020 & 3/16/2020 & NA        & 3/23/2020 & NA        & NA        &               &     NA &          NA & ⋯ &   NA &   NA &   NA &   NA &   NA &   NA &   NA &    NA &    NA &     NA\\\\\n",
       "\t Denmark     & 3/16/2020 & NA        & NA        & 3/16/2020 & NA        & NA        & 5,792,202     &   7620 &    760.1315 & ⋯ & 1.06 & 1.05 & 1.04 & 0.99 & 0.99 & 0.81 & 0.97 & 31.99 & 31.31 &  32.85\\\\\n",
       "\t Florida     & 3/16/2020 & 3/17/2020 & NA        & NA        & NA        & NA        &               &     NA &          NA & ⋯ &   NA &   NA &   NA &   NA &   NA &   NA &   NA &    NA &    NA &     NA\\\\\n",
       "\t France      & 3/16/2020 & NA        & 3/13/2020 & 3/17/2020 & NA        & 3/15/2020 & 65,273,511    &  11071 &   5895.9002 & ⋯ & 1.05 & 1.05 & 1.05 & 1.01 & 0.93 & 0.75 & 0.96 & 13.15 &  9.64 &  17.69\\\\\n",
       "\t Georgia     & 3/18/2020 & 3/24/2020 & 3/24/2020 & NA        & NA        & NA        & 3,989,167     &     NA &          NA & ⋯ & 1.08 & 1.11 & 1.11 & 0.95 & 0.81 & 0.64 & 0.92 & 23.26 & 15.96 &  34.46\\\\\n",
       "\t Germany     & 3/13/2020 & NA        & NA        & 3/21/2020 & NA        & NA        & 83,783,942    &     NA &          NA & ⋯ & 1.06 & 1.05 & 1.04 & 1.02 & 0.98 & 0.78 & 0.97 & 20.01 & 16.32 &  24.67\\\\\n",
       "\t Hawaii      & 3/13/2020 & 3/17/2020 & NA        & 3/25/2020 & NA        & NA        &               &     NA &          NA & ⋯ &   NA &   NA &   NA &   NA &   NA &   NA &   NA &    NA &    NA &     NA\\\\\n",
       "\t Idaho       & 3/23/2020 & 3/18/2020 & NA        & NA        & NA        & NA        &               &     NA &          NA & ⋯ &   NA &   NA &   NA &   NA &   NA &   NA &   NA &    NA &    NA &     NA\\\\\n",
       "\t Illinois    & 3/13/2020 & 3/16/2020 & NA        & 3/21/2020 & NA        & NA        &               &     NA &          NA & ⋯ &   NA &   NA &   NA &   NA &   NA &   NA &   NA &    NA &    NA &     NA\\\\\n",
       "\t India       & NA        & NA        & NA        & NA        & 3/25/2020 & NA        & 1,380,004,385 &   5900 & 233899.0483 & ⋯ & 1.12 & 1.13 & 1.13 & 1.06 & 1.01 & 0.90 & 1.08 & 96.92 & 87.54 & 106.89\\\\\n",
       "\t Indiana     & 3/15/2020 & 3/16/2020 & NA        & 3/23/2020 & NA        & NA        &               &     NA &          NA & ⋯ &   NA &   NA &   NA &   NA &   NA &   NA &   NA &    NA &    NA &     NA\\\\\n",
       "\t Iowa        & 3/16/2020 & 3/17/2020 & NA        & NA        & NA        & NA        &               &     NA &          NA & ⋯ &   NA &   NA &   NA &   NA &   NA &   NA &   NA &    NA &    NA &     NA\\\\\n",
       "\t Iran        & 3/5/2020  & NA        & NA        & 3/13/2020 & NA        & NA        & 83,992,949    &     NA &          NA & ⋯ & 1.05 & 1.05 & 1.05 & 1.04 & 0.97 & 0.86 & 1.03 & 18.84 & 16.47 &  20.99\\\\\n",
       "\t Ireland     & 3/13/2020 & NA        & 3/13/2020 & NA        & NA        & NA        & 4,937,786     &   1784 &   2767.8173 & ⋯ & 1.06 & 1.05 & 1.03 & 1.01 & 1.00 & 0.86 & 1.00 & 24.92 & 23.02 &  27.25\\\\\n",
       "\t Israel      & 3/12/2020 & 3/15/2020 & NA        & 3/19/2020 & NA        & NA        & 8,655,535     &   3872 &   2235.4171 & ⋯ & 1.05 & 1.05 & 1.05 & 1.05 & 0.96 & 0.81 & 1.01 & 16.10 & 12.81 &  20.23\\\\\n",
       "\t ⋮ & ⋮ & ⋮ & ⋮ & ⋮ & ⋮ & ⋮ & ⋮ & ⋮ & ⋮ & ⋱ & ⋮ & ⋮ & ⋮ & ⋮ & ⋮ & ⋮ & ⋮ & ⋮ & ⋮ & ⋮\\\\\n",
       "\t Ohio           & 3/15/2020 & 3/15/2020 & NA        & 3/24/2020 & NA & NA        &            &    NA &         NA & ⋯ &   NA &   NA &   NA &   NA &   NA &   NA &   NA &    NA &    NA &    NA\\\\\n",
       "\t Oklahoma       & 3/17/2020 & NA        & 3/24/2020 & NA        & NA & 3/25/2020 &            &    NA &         NA & ⋯ &   NA &   NA &   NA &   NA &   NA &   NA &   NA &    NA &    NA &    NA\\\\\n",
       "\t Oregon         & 3/15/2020 & 3/16/2020 & NA        & 3/24/2020 & NA & NA        &            &    NA &         NA & ⋯ &   NA &   NA &   NA &   NA &   NA &   NA &   NA &    NA &    NA &    NA\\\\\n",
       "\t Paraguay       & 3/10/2020 & NA        & 3/10/2020 & NA        & NA & NA        & 7,132,538  &    NA &         NA & ⋯ & 1.05 & 1.04 & 1.01 & 1.00 & 1.04 & 0.88 & 1.01 & 19.10 & 12.70 & 26.11\\\\\n",
       "\t Pennsylvania   & 3/16/2020 & NA        & NA        & 3/23/2020 & NA & 3/17/2020 &            &    NA &         NA & ⋯ &   NA &   NA &   NA &   NA &   NA &   NA &   NA &    NA &    NA &    NA\\\\\n",
       "\t Peru           & NA        & NA        & NA        & 3/15/2020 & NA & NA        & 32,971,854 &    NA &         NA & ⋯ & 1.05 & 1.04 & 1.00 & 0.92 & 0.94 & 0.90 & 0.97 & 17.69 & 14.94 & 20.96\\\\\n",
       "\t Poland         & 3/12/2020 & 3/12/2020 & NA        & NA        & NA & NA        & 37,846,611 &  7899 &  4791.3167 & ⋯ & 1.06 & 1.06 & 1.05 & 1.02 & 0.90 & 0.64 & 0.94 & 16.16 &  9.98 & 25.90\\\\\n",
       "\t Portugal       & 3/19/2020 & 3/19/2020 & NA        & NA        & NA & NA        & 10,196,709 &    NA &         NA & ⋯ & 1.07 & 1.09 & 1.13 & 1.03 & 0.88 & 0.69 & 0.96 & 13.35 &  9.14 & 19.18\\\\\n",
       "\t Puerto Rico    & 3/16/2020 & NA        & NA        & 3/16/2020 & NA & NA        & 2,860,853  &    NA &         NA & ⋯ & 1.02 & 1.04 & 1.05 & 0.92 & 0.83 & 0.76 & 0.91 &    NA &    NA &    NA\\\\\n",
       "\t Rhode Island   & 3/17/2020 & 3/17/2020 & 3/17/2020 & NA        & NA & 3/23/2020 &            &    NA &         NA & ⋯ &   NA &   NA &   NA &   NA &   NA &   NA &   NA &    NA &    NA &    NA\\\\\n",
       "\t Rwanda         & NA        & NA        & NA        & 3/21/2020 & NA & NA        & 12,952,218 &    NA &         NA & ⋯ & 1.03 & 1.02 & 1.00 & 1.00 & 0.88 & 0.70 & 1.00 & 25.79 & 17.88 & 37.30\\\\\n",
       "\t South Africa   & NA        & NA        & NA        & 3/26/2020 & NA & NA        & 59,308,690 &   645 & 91951.4574 & ⋯ & 1.02 & 1.01 & 0.98 & 1.02 & 0.87 & 0.73 & 0.98 & 44.30 & 28.03 & 75.32\\\\\n",
       "\t South Carolina & 3/14/2020 & 3/18/2020 & 3/23/2020 & NA        & NA & NA        &            &    NA &         NA & ⋯ &   NA &   NA &   NA &   NA &   NA &   NA &   NA &    NA &    NA &    NA\\\\\n",
       "\t South Dakota   & 3/13/2020 & NA        & 3/24/2020 & NA        & NA & NA        &            &    NA &         NA & ⋯ &   NA &   NA &   NA &   NA &   NA &   NA &   NA &    NA &    NA &    NA\\\\\n",
       "\t Spain          & 3/12/2020 & NA        & NA        & 3/15/2020 & NA & NA        & 46,754,778 &    NA &         NA & ⋯ & 1.07 & 1.06 & 1.07 & 1.04 & 0.95 & 0.74 & 0.98 & 16.37 &  8.22 & 27.49\\\\\n",
       "\t Sweden         & 3/17/2020 & NA        & 3/11/2020 & NA        & NA & NA        & 10,099,265 & 14300 &   706.2423 & ⋯ & 1.06 & 1.06 & 1.06 & 1.03 & 1.01 & 0.85 & 1.00 & 16.17 & 16.58 & 17.03\\\\\n",
       "\t Switzerland    & 3/13/2020 & NA        & 3/20/2020 & NA        & NA & 3/16/2020 & 8,654,622  &  4000 &  2163.6555 & ⋯ & 1.06 & 1.06 & 1.04 & 1.01 & 1.00 & 0.78 & 0.97 & 15.22 & 11.94 & 19.47\\\\\n",
       "\t Tennessee      & 3/16/2020 & 3/23/2020 & 3/23/2020 & NA        & NA & NA        &            &    NA &         NA & ⋯ &   NA &   NA &   NA &   NA &   NA &   NA &   NA &    NA &    NA &    NA\\\\\n",
       "\t Texas          & 3/20/2020 & 3/20/2020 & 3/20/2020 & NA        & NA & NA        &            &    NA &         NA & ⋯ &   NA &   NA &   NA &   NA &   NA &   NA &   NA &    NA &    NA &    NA\\\\\n",
       "\t Turkey         & 3/16/2020 & 3/16/2020 & NA        & NA        & NA & NA        & 84,339,067 &    NA &         NA & ⋯ & 1.05 & 1.05 & 1.04 & 1.03 & 0.99 & 0.80 & 1.01 & 35.63 & 21.20 & 55.26\\\\\n",
       "\t United Kingdom & 3/20/2020 & 3/20/2020 & NA        & 3/23/2020 & NA & NA        & 67,886,011 & 50442 &  1345.8231 & ⋯ & 1.05 & 1.05 & 1.04 & 1.04 & 0.98 & 0.81 & 0.99 & 23.66 & 21.11 & 26.84\\\\\n",
       "\t Utah           & 3/16/2020 & 3/18/2020 & 3/18/2020 & NA        & NA & NA        &            &    NA &         NA & ⋯ &   NA &   NA &   NA &   NA &   NA &   NA &   NA &    NA &    NA &    NA\\\\\n",
       "\t Vermont        & 3/18/2020 & 3/16/2020 & NA        & 3/24/2020 & NA & NA        &            &    NA &         NA & ⋯ &   NA &   NA &   NA &   NA &   NA &   NA &   NA &    NA &    NA &    NA\\\\\n",
       "\t Vietnam        & 2/12/2020 & NA        & NA        & 2/13/2020 & NA & NA        & 97,338,579 &  9696 & 10039.0449 & ⋯ & 1.11 & 1.11 & 1.08 & 1.01 & 0.85 & 0.63 & 1.00 & 26.26 & 16.80 & 41.72\\\\\n",
       "\t Virginia       & 3/13/2020 & 3/17/2020 & 3/24/2020 & NA        & NA & 3/24/2020 &            &    NA &         NA & ⋯ &   NA &   NA &   NA &   NA &   NA &   NA &   NA &    NA &    NA &    NA\\\\\n",
       "\t Washington     & 3/15/2020 & 3/15/2020 & NA        & 3/23/2020 & NA & NA        &            &    NA &         NA & ⋯ &   NA &   NA &   NA &   NA &   NA &   NA &   NA &    NA &    NA &    NA\\\\\n",
       "\t Washington DC  & 3/16/2020 & 3/15/2020 & NA        & NA        & NA & NA        &            &    NA &         NA & ⋯ &   NA &   NA &   NA &   NA &   NA &   NA &   NA &    NA &    NA &    NA\\\\\n",
       "\t West Virginia  & 3/17/2020 & 3/17/2020 & NA        & 3/24/2020 & NA & NA        &            &    NA &         NA & ⋯ &   NA &   NA &   NA &   NA &   NA &   NA &   NA &    NA &    NA &    NA\\\\\n",
       "\t Wisconsin      & 3/18/2020 & 3/17/2020 & 3/20/2020 & NA        & NA & 3/24/2020 &            &    NA &         NA & ⋯ &   NA &   NA &   NA &   NA &   NA &   NA &   NA &    NA &    NA &    NA\\\\\n",
       "\t Wyoming        & 3/15/2020 & 3/19/2020 & NA        & NA        & NA & NA        &            &    NA &         NA & ⋯ &   NA &   NA &   NA &   NA &   NA &   NA &   NA &    NA &    NA &    NA\\\\\n",
       "\\end{tabular}\n"
      ],
      "text/markdown": [
       "\n",
       "A data.frame: 86 × 25\n",
       "\n",
       "| Country.Region &lt;fct&gt; | Date.Schools &lt;fct&gt; | Date.Public Places &lt;fct&gt; | Date.Gatherings &lt;fct&gt; | Date.Stay at Home &lt;fct&gt; | Date.Lockdown &lt;fct&gt; | Date.Non-essential &lt;fct&gt; | pop &lt;fct&gt; | tests &lt;int&gt; | testpop &lt;dbl&gt; | ⋯ ⋯ | sex0 &lt;dbl&gt; | sex14 &lt;dbl&gt; | sex25 &lt;dbl&gt; | sex54 &lt;dbl&gt; | sex64 &lt;dbl&gt; | sex65plus &lt;dbl&gt; | sexratio &lt;dbl&gt; | lung &lt;dbl&gt; | femalelung &lt;dbl&gt; | malelung &lt;dbl&gt; |\n",
       "|---|---|---|---|---|---|---|---|---|---|---|---|---|---|---|---|---|---|---|---|---|\n",
       "| Alabama     | 3/18/2020 | 3/20/2020 | NA        | NA        | NA        | NA        | <!----> |     NA |          NA | ⋯ |   NA |   NA |   NA |   NA |   NA |   NA |   NA |    NA |    NA |     NA |\n",
       "| Alaska      | 3/16/2020 | 3/18/2020 | 3/24/2020 | NA        | NA        | NA        | <!----> |     NA |          NA | ⋯ |   NA |   NA |   NA |   NA |   NA |   NA |   NA |    NA |    NA |     NA |\n",
       "| Argentina   | NA        | NA        | NA        | 3/20/2020 | NA        | NA        | 45,195,774    |     NA |          NA | ⋯ | 1.05 | 1.06 | 1.05 | 1.00 | 0.94 | 0.71 | 0.98 | 29.27 | 20.16 |  42.59 |\n",
       "| Arizona     | 3/16/2020 | 3/20/2020 | NA        | NA        | NA        | NA        | <!----> |     NA |          NA | ⋯ |   NA |   NA |   NA |   NA |   NA |   NA |   NA |    NA |    NA |     NA |\n",
       "| Arkansas    | 3/17/2020 | NA        | NA        | NA        | NA        | NA        | <!----> |     NA |          NA | ⋯ |   NA |   NA |   NA |   NA |   NA |   NA |   NA |    NA |    NA |     NA |\n",
       "| Atlanta     | NA        | 3/19/2020 | NA        | NA        | NA        | NA        | <!----> |     NA |          NA | ⋯ |   NA |   NA |   NA |   NA |   NA |   NA |   NA |    NA |    NA |     NA |\n",
       "| Australia   | NA        | 3/23/2020 | NA        | NA        | NA        | NA        | 25,499,884    |  31635 |    806.0656 | ⋯ | 1.06 | 1.06 | 1.09 | 0.99 | 0.93 | 0.86 | 0.99 | 18.79 | 15.90 |  22.16 |\n",
       "| Austria     | NA        | NA        | NA        | 3/16/2020 | NA        | NA        | 9,006,398     |  10278 |    876.2792 | ⋯ | 1.05 | 1.05 | 1.04 | 1.00 | 0.98 | 0.76 | 0.96 | 17.02 | 13.02 |  22.14 |\n",
       "| Belgium     | NA        | NA        | NA        | 3/18/2020 | NA        | NA        | 11,589,623    |   4225 |   2743.1060 | ⋯ | 1.05 | 1.05 | 1.04 | 1.02 | 0.98 | 0.76 | 0.97 | 27.11 | 21.20 |  34.98 |\n",
       "| California  | 3/12/2020 | 3/17/2020 | NA        | 3/19/2020 | NA        | NA        | <!----> |     NA |          NA | ⋯ |   NA |   NA |   NA |   NA |   NA |   NA |   NA |    NA |    NA |     NA |\n",
       "| Canada      | 3/15/2020 | 3/20/2020 | NA        | NA        | NA        | NA        | 37,742,154    |  76964 |    490.3871 | ⋯ | 1.06 | 1.05 | 1.06 | 1.03 | 0.98 | 0.80 | 0.98 | 19.01 | 16.95 |  21.55 |\n",
       "| China       | 1/26/2020 | 1/26/2020 | NA        | NA        | NA        | NA        | 1,439,323,776 | 320000 |   4497.8868 | ⋯ | 1.15 | 1.17 | 1.14 | 1.04 | 1.02 | 0.92 | 1.06 | 63.10 | 56.35 |  70.52 |\n",
       "| Colombia    | NA        | NA        | NA        | 3/25/2020 | NA        | NA        | 50,882,891    |   2571 |  19791.0895 | ⋯ | 1.06 | 1.05 | 1.04 | 0.98 | 0.88 | 0.72 | 0.98 | 36.30 | 31.33 |  42.49 |\n",
       "| Colorado    | 3/18/2020 | 3/1/2020  | 3/18/2020 | NA        | NA        | NA        | <!----> |     NA |          NA | ⋯ |   NA |   NA |   NA |   NA |   NA |   NA |   NA |    NA |    NA |     NA |\n",
       "| Connecticut | 3/15/2020 | 3/16/2020 | NA        | NA        | NA        | 3/20/2020 | <!----> |     NA |          NA | ⋯ |   NA |   NA |   NA |   NA |   NA |   NA |   NA |    NA |    NA |     NA |\n",
       "| Delaware    | 3/16/2020 | 3/16/2020 | NA        | 3/23/2020 | NA        | NA        | <!----> |     NA |          NA | ⋯ |   NA |   NA |   NA |   NA |   NA |   NA |   NA |    NA |    NA |     NA |\n",
       "| Denmark     | 3/16/2020 | NA        | NA        | 3/16/2020 | NA        | NA        | 5,792,202     |   7620 |    760.1315 | ⋯ | 1.06 | 1.05 | 1.04 | 0.99 | 0.99 | 0.81 | 0.97 | 31.99 | 31.31 |  32.85 |\n",
       "| Florida     | 3/16/2020 | 3/17/2020 | NA        | NA        | NA        | NA        | <!----> |     NA |          NA | ⋯ |   NA |   NA |   NA |   NA |   NA |   NA |   NA |    NA |    NA |     NA |\n",
       "| France      | 3/16/2020 | NA        | 3/13/2020 | 3/17/2020 | NA        | 3/15/2020 | 65,273,511    |  11071 |   5895.9002 | ⋯ | 1.05 | 1.05 | 1.05 | 1.01 | 0.93 | 0.75 | 0.96 | 13.15 |  9.64 |  17.69 |\n",
       "| Georgia     | 3/18/2020 | 3/24/2020 | 3/24/2020 | NA        | NA        | NA        | 3,989,167     |     NA |          NA | ⋯ | 1.08 | 1.11 | 1.11 | 0.95 | 0.81 | 0.64 | 0.92 | 23.26 | 15.96 |  34.46 |\n",
       "| Germany     | 3/13/2020 | NA        | NA        | 3/21/2020 | NA        | NA        | 83,783,942    |     NA |          NA | ⋯ | 1.06 | 1.05 | 1.04 | 1.02 | 0.98 | 0.78 | 0.97 | 20.01 | 16.32 |  24.67 |\n",
       "| Hawaii      | 3/13/2020 | 3/17/2020 | NA        | 3/25/2020 | NA        | NA        | <!----> |     NA |          NA | ⋯ |   NA |   NA |   NA |   NA |   NA |   NA |   NA |    NA |    NA |     NA |\n",
       "| Idaho       | 3/23/2020 | 3/18/2020 | NA        | NA        | NA        | NA        | <!----> |     NA |          NA | ⋯ |   NA |   NA |   NA |   NA |   NA |   NA |   NA |    NA |    NA |     NA |\n",
       "| Illinois    | 3/13/2020 | 3/16/2020 | NA        | 3/21/2020 | NA        | NA        | <!----> |     NA |          NA | ⋯ |   NA |   NA |   NA |   NA |   NA |   NA |   NA |    NA |    NA |     NA |\n",
       "| India       | NA        | NA        | NA        | NA        | 3/25/2020 | NA        | 1,380,004,385 |   5900 | 233899.0483 | ⋯ | 1.12 | 1.13 | 1.13 | 1.06 | 1.01 | 0.90 | 1.08 | 96.92 | 87.54 | 106.89 |\n",
       "| Indiana     | 3/15/2020 | 3/16/2020 | NA        | 3/23/2020 | NA        | NA        | <!----> |     NA |          NA | ⋯ |   NA |   NA |   NA |   NA |   NA |   NA |   NA |    NA |    NA |     NA |\n",
       "| Iowa        | 3/16/2020 | 3/17/2020 | NA        | NA        | NA        | NA        | <!----> |     NA |          NA | ⋯ |   NA |   NA |   NA |   NA |   NA |   NA |   NA |    NA |    NA |     NA |\n",
       "| Iran        | 3/5/2020  | NA        | NA        | 3/13/2020 | NA        | NA        | 83,992,949    |     NA |          NA | ⋯ | 1.05 | 1.05 | 1.05 | 1.04 | 0.97 | 0.86 | 1.03 | 18.84 | 16.47 |  20.99 |\n",
       "| Ireland     | 3/13/2020 | NA        | 3/13/2020 | NA        | NA        | NA        | 4,937,786     |   1784 |   2767.8173 | ⋯ | 1.06 | 1.05 | 1.03 | 1.01 | 1.00 | 0.86 | 1.00 | 24.92 | 23.02 |  27.25 |\n",
       "| Israel      | 3/12/2020 | 3/15/2020 | NA        | 3/19/2020 | NA        | NA        | 8,655,535     |   3872 |   2235.4171 | ⋯ | 1.05 | 1.05 | 1.05 | 1.05 | 0.96 | 0.81 | 1.01 | 16.10 | 12.81 |  20.23 |\n",
       "| ⋮ | ⋮ | ⋮ | ⋮ | ⋮ | ⋮ | ⋮ | ⋮ | ⋮ | ⋮ | ⋱ | ⋮ | ⋮ | ⋮ | ⋮ | ⋮ | ⋮ | ⋮ | ⋮ | ⋮ | ⋮ |\n",
       "| Ohio           | 3/15/2020 | 3/15/2020 | NA        | 3/24/2020 | NA | NA        | <!----> |    NA |         NA | ⋯ |   NA |   NA |   NA |   NA |   NA |   NA |   NA |    NA |    NA |    NA |\n",
       "| Oklahoma       | 3/17/2020 | NA        | 3/24/2020 | NA        | NA | 3/25/2020 | <!----> |    NA |         NA | ⋯ |   NA |   NA |   NA |   NA |   NA |   NA |   NA |    NA |    NA |    NA |\n",
       "| Oregon         | 3/15/2020 | 3/16/2020 | NA        | 3/24/2020 | NA | NA        | <!----> |    NA |         NA | ⋯ |   NA |   NA |   NA |   NA |   NA |   NA |   NA |    NA |    NA |    NA |\n",
       "| Paraguay       | 3/10/2020 | NA        | 3/10/2020 | NA        | NA | NA        | 7,132,538  |    NA |         NA | ⋯ | 1.05 | 1.04 | 1.01 | 1.00 | 1.04 | 0.88 | 1.01 | 19.10 | 12.70 | 26.11 |\n",
       "| Pennsylvania   | 3/16/2020 | NA        | NA        | 3/23/2020 | NA | 3/17/2020 | <!----> |    NA |         NA | ⋯ |   NA |   NA |   NA |   NA |   NA |   NA |   NA |    NA |    NA |    NA |\n",
       "| Peru           | NA        | NA        | NA        | 3/15/2020 | NA | NA        | 32,971,854 |    NA |         NA | ⋯ | 1.05 | 1.04 | 1.00 | 0.92 | 0.94 | 0.90 | 0.97 | 17.69 | 14.94 | 20.96 |\n",
       "| Poland         | 3/12/2020 | 3/12/2020 | NA        | NA        | NA | NA        | 37,846,611 |  7899 |  4791.3167 | ⋯ | 1.06 | 1.06 | 1.05 | 1.02 | 0.90 | 0.64 | 0.94 | 16.16 |  9.98 | 25.90 |\n",
       "| Portugal       | 3/19/2020 | 3/19/2020 | NA        | NA        | NA | NA        | 10,196,709 |    NA |         NA | ⋯ | 1.07 | 1.09 | 1.13 | 1.03 | 0.88 | 0.69 | 0.96 | 13.35 |  9.14 | 19.18 |\n",
       "| Puerto Rico    | 3/16/2020 | NA        | NA        | 3/16/2020 | NA | NA        | 2,860,853  |    NA |         NA | ⋯ | 1.02 | 1.04 | 1.05 | 0.92 | 0.83 | 0.76 | 0.91 |    NA |    NA |    NA |\n",
       "| Rhode Island   | 3/17/2020 | 3/17/2020 | 3/17/2020 | NA        | NA | 3/23/2020 | <!----> |    NA |         NA | ⋯ |   NA |   NA |   NA |   NA |   NA |   NA |   NA |    NA |    NA |    NA |\n",
       "| Rwanda         | NA        | NA        | NA        | 3/21/2020 | NA | NA        | 12,952,218 |    NA |         NA | ⋯ | 1.03 | 1.02 | 1.00 | 1.00 | 0.88 | 0.70 | 1.00 | 25.79 | 17.88 | 37.30 |\n",
       "| South Africa   | NA        | NA        | NA        | 3/26/2020 | NA | NA        | 59,308,690 |   645 | 91951.4574 | ⋯ | 1.02 | 1.01 | 0.98 | 1.02 | 0.87 | 0.73 | 0.98 | 44.30 | 28.03 | 75.32 |\n",
       "| South Carolina | 3/14/2020 | 3/18/2020 | 3/23/2020 | NA        | NA | NA        | <!----> |    NA |         NA | ⋯ |   NA |   NA |   NA |   NA |   NA |   NA |   NA |    NA |    NA |    NA |\n",
       "| South Dakota   | 3/13/2020 | NA        | 3/24/2020 | NA        | NA | NA        | <!----> |    NA |         NA | ⋯ |   NA |   NA |   NA |   NA |   NA |   NA |   NA |    NA |    NA |    NA |\n",
       "| Spain          | 3/12/2020 | NA        | NA        | 3/15/2020 | NA | NA        | 46,754,778 |    NA |         NA | ⋯ | 1.07 | 1.06 | 1.07 | 1.04 | 0.95 | 0.74 | 0.98 | 16.37 |  8.22 | 27.49 |\n",
       "| Sweden         | 3/17/2020 | NA        | 3/11/2020 | NA        | NA | NA        | 10,099,265 | 14300 |   706.2423 | ⋯ | 1.06 | 1.06 | 1.06 | 1.03 | 1.01 | 0.85 | 1.00 | 16.17 | 16.58 | 17.03 |\n",
       "| Switzerland    | 3/13/2020 | NA        | 3/20/2020 | NA        | NA | 3/16/2020 | 8,654,622  |  4000 |  2163.6555 | ⋯ | 1.06 | 1.06 | 1.04 | 1.01 | 1.00 | 0.78 | 0.97 | 15.22 | 11.94 | 19.47 |\n",
       "| Tennessee      | 3/16/2020 | 3/23/2020 | 3/23/2020 | NA        | NA | NA        | <!----> |    NA |         NA | ⋯ |   NA |   NA |   NA |   NA |   NA |   NA |   NA |    NA |    NA |    NA |\n",
       "| Texas          | 3/20/2020 | 3/20/2020 | 3/20/2020 | NA        | NA | NA        | <!----> |    NA |         NA | ⋯ |   NA |   NA |   NA |   NA |   NA |   NA |   NA |    NA |    NA |    NA |\n",
       "| Turkey         | 3/16/2020 | 3/16/2020 | NA        | NA        | NA | NA        | 84,339,067 |    NA |         NA | ⋯ | 1.05 | 1.05 | 1.04 | 1.03 | 0.99 | 0.80 | 1.01 | 35.63 | 21.20 | 55.26 |\n",
       "| United Kingdom | 3/20/2020 | 3/20/2020 | NA        | 3/23/2020 | NA | NA        | 67,886,011 | 50442 |  1345.8231 | ⋯ | 1.05 | 1.05 | 1.04 | 1.04 | 0.98 | 0.81 | 0.99 | 23.66 | 21.11 | 26.84 |\n",
       "| Utah           | 3/16/2020 | 3/18/2020 | 3/18/2020 | NA        | NA | NA        | <!----> |    NA |         NA | ⋯ |   NA |   NA |   NA |   NA |   NA |   NA |   NA |    NA |    NA |    NA |\n",
       "| Vermont        | 3/18/2020 | 3/16/2020 | NA        | 3/24/2020 | NA | NA        | <!----> |    NA |         NA | ⋯ |   NA |   NA |   NA |   NA |   NA |   NA |   NA |    NA |    NA |    NA |\n",
       "| Vietnam        | 2/12/2020 | NA        | NA        | 2/13/2020 | NA | NA        | 97,338,579 |  9696 | 10039.0449 | ⋯ | 1.11 | 1.11 | 1.08 | 1.01 | 0.85 | 0.63 | 1.00 | 26.26 | 16.80 | 41.72 |\n",
       "| Virginia       | 3/13/2020 | 3/17/2020 | 3/24/2020 | NA        | NA | 3/24/2020 | <!----> |    NA |         NA | ⋯ |   NA |   NA |   NA |   NA |   NA |   NA |   NA |    NA |    NA |    NA |\n",
       "| Washington     | 3/15/2020 | 3/15/2020 | NA        | 3/23/2020 | NA | NA        | <!----> |    NA |         NA | ⋯ |   NA |   NA |   NA |   NA |   NA |   NA |   NA |    NA |    NA |    NA |\n",
       "| Washington DC  | 3/16/2020 | 3/15/2020 | NA        | NA        | NA | NA        | <!----> |    NA |         NA | ⋯ |   NA |   NA |   NA |   NA |   NA |   NA |   NA |    NA |    NA |    NA |\n",
       "| West Virginia  | 3/17/2020 | 3/17/2020 | NA        | 3/24/2020 | NA | NA        | <!----> |    NA |         NA | ⋯ |   NA |   NA |   NA |   NA |   NA |   NA |   NA |    NA |    NA |    NA |\n",
       "| Wisconsin      | 3/18/2020 | 3/17/2020 | 3/20/2020 | NA        | NA | 3/24/2020 | <!----> |    NA |         NA | ⋯ |   NA |   NA |   NA |   NA |   NA |   NA |   NA |    NA |    NA |    NA |\n",
       "| Wyoming        | 3/15/2020 | 3/19/2020 | NA        | NA        | NA | NA        | <!----> |    NA |         NA | ⋯ |   NA |   NA |   NA |   NA |   NA |   NA |   NA |    NA |    NA |    NA |\n",
       "\n"
      ],
      "text/plain": [
       "   Country.Region Date.Schools Date.Public Places Date.Gatherings\n",
       "1  Alabama        3/18/2020    3/20/2020          NA             \n",
       "2  Alaska         3/16/2020    3/18/2020          3/24/2020      \n",
       "3  Argentina      NA           NA                 NA             \n",
       "4  Arizona        3/16/2020    3/20/2020          NA             \n",
       "5  Arkansas       3/17/2020    NA                 NA             \n",
       "6  Atlanta        NA           3/19/2020          NA             \n",
       "7  Australia      NA           3/23/2020          NA             \n",
       "8  Austria        NA           NA                 NA             \n",
       "9  Belgium        NA           NA                 NA             \n",
       "10 California     3/12/2020    3/17/2020          NA             \n",
       "11 Canada         3/15/2020    3/20/2020          NA             \n",
       "12 China          1/26/2020    1/26/2020          NA             \n",
       "13 Colombia       NA           NA                 NA             \n",
       "14 Colorado       3/18/2020    3/1/2020           3/18/2020      \n",
       "15 Connecticut    3/15/2020    3/16/2020          NA             \n",
       "16 Delaware       3/16/2020    3/16/2020          NA             \n",
       "17 Denmark        3/16/2020    NA                 NA             \n",
       "18 Florida        3/16/2020    3/17/2020          NA             \n",
       "19 France         3/16/2020    NA                 3/13/2020      \n",
       "20 Georgia        3/18/2020    3/24/2020          3/24/2020      \n",
       "21 Germany        3/13/2020    NA                 NA             \n",
       "22 Hawaii         3/13/2020    3/17/2020          NA             \n",
       "23 Idaho          3/23/2020    3/18/2020          NA             \n",
       "24 Illinois       3/13/2020    3/16/2020          NA             \n",
       "25 India          NA           NA                 NA             \n",
       "26 Indiana        3/15/2020    3/16/2020          NA             \n",
       "27 Iowa           3/16/2020    3/17/2020          NA             \n",
       "28 Iran           3/5/2020     NA                 NA             \n",
       "29 Ireland        3/13/2020    NA                 3/13/2020      \n",
       "30 Israel         3/12/2020    3/15/2020          NA             \n",
       "⋮  ⋮              ⋮            ⋮                  ⋮              \n",
       "57 Ohio           3/15/2020    3/15/2020          NA             \n",
       "58 Oklahoma       3/17/2020    NA                 3/24/2020      \n",
       "59 Oregon         3/15/2020    3/16/2020          NA             \n",
       "60 Paraguay       3/10/2020    NA                 3/10/2020      \n",
       "61 Pennsylvania   3/16/2020    NA                 NA             \n",
       "62 Peru           NA           NA                 NA             \n",
       "63 Poland         3/12/2020    3/12/2020          NA             \n",
       "64 Portugal       3/19/2020    3/19/2020          NA             \n",
       "65 Puerto Rico    3/16/2020    NA                 NA             \n",
       "66 Rhode Island   3/17/2020    3/17/2020          3/17/2020      \n",
       "67 Rwanda         NA           NA                 NA             \n",
       "68 South Africa   NA           NA                 NA             \n",
       "69 South Carolina 3/14/2020    3/18/2020          3/23/2020      \n",
       "70 South Dakota   3/13/2020    NA                 3/24/2020      \n",
       "71 Spain          3/12/2020    NA                 NA             \n",
       "72 Sweden         3/17/2020    NA                 3/11/2020      \n",
       "73 Switzerland    3/13/2020    NA                 3/20/2020      \n",
       "74 Tennessee      3/16/2020    3/23/2020          3/23/2020      \n",
       "75 Texas          3/20/2020    3/20/2020          3/20/2020      \n",
       "76 Turkey         3/16/2020    3/16/2020          NA             \n",
       "77 United Kingdom 3/20/2020    3/20/2020          NA             \n",
       "78 Utah           3/16/2020    3/18/2020          3/18/2020      \n",
       "79 Vermont        3/18/2020    3/16/2020          NA             \n",
       "80 Vietnam        2/12/2020    NA                 NA             \n",
       "81 Virginia       3/13/2020    3/17/2020          3/24/2020      \n",
       "82 Washington     3/15/2020    3/15/2020          NA             \n",
       "83 Washington DC  3/16/2020    3/15/2020          NA             \n",
       "84 West Virginia  3/17/2020    3/17/2020          NA             \n",
       "85 Wisconsin      3/18/2020    3/17/2020          3/20/2020      \n",
       "86 Wyoming        3/15/2020    3/19/2020          NA             \n",
       "   Date.Stay at Home Date.Lockdown Date.Non-essential pop           tests \n",
       "1  NA                NA            NA                                   NA\n",
       "2  NA                NA            NA                                   NA\n",
       "3  3/20/2020         NA            NA                 45,195,774        NA\n",
       "4  NA                NA            NA                                   NA\n",
       "5  NA                NA            NA                                   NA\n",
       "6  NA                NA            NA                                   NA\n",
       "7  NA                NA            NA                 25,499,884     31635\n",
       "8  3/16/2020         NA            NA                 9,006,398      10278\n",
       "9  3/18/2020         NA            NA                 11,589,623      4225\n",
       "10 3/19/2020         NA            NA                                   NA\n",
       "11 NA                NA            NA                 37,742,154     76964\n",
       "12 NA                NA            NA                 1,439,323,776 320000\n",
       "13 3/25/2020         NA            NA                 50,882,891      2571\n",
       "14 NA                NA            NA                                   NA\n",
       "15 NA                NA            3/20/2020                            NA\n",
       "16 3/23/2020         NA            NA                                   NA\n",
       "17 3/16/2020         NA            NA                 5,792,202       7620\n",
       "18 NA                NA            NA                                   NA\n",
       "19 3/17/2020         NA            3/15/2020          65,273,511     11071\n",
       "20 NA                NA            NA                 3,989,167         NA\n",
       "21 3/21/2020         NA            NA                 83,783,942        NA\n",
       "22 3/25/2020         NA            NA                                   NA\n",
       "23 NA                NA            NA                                   NA\n",
       "24 3/21/2020         NA            NA                                   NA\n",
       "25 NA                3/25/2020     NA                 1,380,004,385   5900\n",
       "26 3/23/2020         NA            NA                                   NA\n",
       "27 NA                NA            NA                                   NA\n",
       "28 3/13/2020         NA            NA                 83,992,949        NA\n",
       "29 NA                NA            NA                 4,937,786       1784\n",
       "30 3/19/2020         NA            NA                 8,655,535       3872\n",
       "⋮  ⋮                 ⋮             ⋮                  ⋮             ⋮     \n",
       "57 3/24/2020         NA            NA                                  NA \n",
       "58 NA                NA            3/25/2020                           NA \n",
       "59 3/24/2020         NA            NA                                  NA \n",
       "60 NA                NA            NA                 7,132,538        NA \n",
       "61 3/23/2020         NA            3/17/2020                           NA \n",
       "62 3/15/2020         NA            NA                 32,971,854       NA \n",
       "63 NA                NA            NA                 37,846,611     7899 \n",
       "64 NA                NA            NA                 10,196,709       NA \n",
       "65 3/16/2020         NA            NA                 2,860,853        NA \n",
       "66 NA                NA            3/23/2020                           NA \n",
       "67 3/21/2020         NA            NA                 12,952,218       NA \n",
       "68 3/26/2020         NA            NA                 59,308,690      645 \n",
       "69 NA                NA            NA                                  NA \n",
       "70 NA                NA            NA                                  NA \n",
       "71 3/15/2020         NA            NA                 46,754,778       NA \n",
       "72 NA                NA            NA                 10,099,265    14300 \n",
       "73 NA                NA            3/16/2020          8,654,622      4000 \n",
       "74 NA                NA            NA                                  NA \n",
       "75 NA                NA            NA                                  NA \n",
       "76 NA                NA            NA                 84,339,067       NA \n",
       "77 3/23/2020         NA            NA                 67,886,011    50442 \n",
       "78 NA                NA            NA                                  NA \n",
       "79 3/24/2020         NA            NA                                  NA \n",
       "80 2/13/2020         NA            NA                 97,338,579     9696 \n",
       "81 NA                NA            3/24/2020                           NA \n",
       "82 3/23/2020         NA            NA                                  NA \n",
       "83 NA                NA            NA                                  NA \n",
       "84 3/24/2020         NA            NA                                  NA \n",
       "85 NA                NA            3/24/2020                           NA \n",
       "86 NA                NA            NA                                  NA \n",
       "   testpop     ⋯ sex0 sex14 sex25 sex54 sex64 sex65plus sexratio lung \n",
       "1           NA ⋯   NA   NA    NA    NA    NA    NA        NA        NA\n",
       "2           NA ⋯   NA   NA    NA    NA    NA    NA        NA        NA\n",
       "3           NA ⋯ 1.05 1.06  1.05  1.00  0.94  0.71      0.98     29.27\n",
       "4           NA ⋯   NA   NA    NA    NA    NA    NA        NA        NA\n",
       "5           NA ⋯   NA   NA    NA    NA    NA    NA        NA        NA\n",
       "6           NA ⋯   NA   NA    NA    NA    NA    NA        NA        NA\n",
       "7     806.0656 ⋯ 1.06 1.06  1.09  0.99  0.93  0.86      0.99     18.79\n",
       "8     876.2792 ⋯ 1.05 1.05  1.04  1.00  0.98  0.76      0.96     17.02\n",
       "9    2743.1060 ⋯ 1.05 1.05  1.04  1.02  0.98  0.76      0.97     27.11\n",
       "10          NA ⋯   NA   NA    NA    NA    NA    NA        NA        NA\n",
       "11    490.3871 ⋯ 1.06 1.05  1.06  1.03  0.98  0.80      0.98     19.01\n",
       "12   4497.8868 ⋯ 1.15 1.17  1.14  1.04  1.02  0.92      1.06     63.10\n",
       "13  19791.0895 ⋯ 1.06 1.05  1.04  0.98  0.88  0.72      0.98     36.30\n",
       "14          NA ⋯   NA   NA    NA    NA    NA    NA        NA        NA\n",
       "15          NA ⋯   NA   NA    NA    NA    NA    NA        NA        NA\n",
       "16          NA ⋯   NA   NA    NA    NA    NA    NA        NA        NA\n",
       "17    760.1315 ⋯ 1.06 1.05  1.04  0.99  0.99  0.81      0.97     31.99\n",
       "18          NA ⋯   NA   NA    NA    NA    NA    NA        NA        NA\n",
       "19   5895.9002 ⋯ 1.05 1.05  1.05  1.01  0.93  0.75      0.96     13.15\n",
       "20          NA ⋯ 1.08 1.11  1.11  0.95  0.81  0.64      0.92     23.26\n",
       "21          NA ⋯ 1.06 1.05  1.04  1.02  0.98  0.78      0.97     20.01\n",
       "22          NA ⋯   NA   NA    NA    NA    NA    NA        NA        NA\n",
       "23          NA ⋯   NA   NA    NA    NA    NA    NA        NA        NA\n",
       "24          NA ⋯   NA   NA    NA    NA    NA    NA        NA        NA\n",
       "25 233899.0483 ⋯ 1.12 1.13  1.13  1.06  1.01  0.90      1.08     96.92\n",
       "26          NA ⋯   NA   NA    NA    NA    NA    NA        NA        NA\n",
       "27          NA ⋯   NA   NA    NA    NA    NA    NA        NA        NA\n",
       "28          NA ⋯ 1.05 1.05  1.05  1.04  0.97  0.86      1.03     18.84\n",
       "29   2767.8173 ⋯ 1.06 1.05  1.03  1.01  1.00  0.86      1.00     24.92\n",
       "30   2235.4171 ⋯ 1.05 1.05  1.05  1.05  0.96  0.81      1.01     16.10\n",
       "⋮  ⋮           ⋱ ⋮    ⋮     ⋮     ⋮     ⋮     ⋮         ⋮        ⋮    \n",
       "57         NA  ⋯   NA   NA    NA    NA    NA    NA        NA        NA\n",
       "58         NA  ⋯   NA   NA    NA    NA    NA    NA        NA        NA\n",
       "59         NA  ⋯   NA   NA    NA    NA    NA    NA        NA        NA\n",
       "60         NA  ⋯ 1.05 1.04  1.01  1.00  1.04  0.88      1.01     19.10\n",
       "61         NA  ⋯   NA   NA    NA    NA    NA    NA        NA        NA\n",
       "62         NA  ⋯ 1.05 1.04  1.00  0.92  0.94  0.90      0.97     17.69\n",
       "63  4791.3167  ⋯ 1.06 1.06  1.05  1.02  0.90  0.64      0.94     16.16\n",
       "64         NA  ⋯ 1.07 1.09  1.13  1.03  0.88  0.69      0.96     13.35\n",
       "65         NA  ⋯ 1.02 1.04  1.05  0.92  0.83  0.76      0.91        NA\n",
       "66         NA  ⋯   NA   NA    NA    NA    NA    NA        NA        NA\n",
       "67         NA  ⋯ 1.03 1.02  1.00  1.00  0.88  0.70      1.00     25.79\n",
       "68 91951.4574  ⋯ 1.02 1.01  0.98  1.02  0.87  0.73      0.98     44.30\n",
       "69         NA  ⋯   NA   NA    NA    NA    NA    NA        NA        NA\n",
       "70         NA  ⋯   NA   NA    NA    NA    NA    NA        NA        NA\n",
       "71         NA  ⋯ 1.07 1.06  1.07  1.04  0.95  0.74      0.98     16.37\n",
       "72   706.2423  ⋯ 1.06 1.06  1.06  1.03  1.01  0.85      1.00     16.17\n",
       "73  2163.6555  ⋯ 1.06 1.06  1.04  1.01  1.00  0.78      0.97     15.22\n",
       "74         NA  ⋯   NA   NA    NA    NA    NA    NA        NA        NA\n",
       "75         NA  ⋯   NA   NA    NA    NA    NA    NA        NA        NA\n",
       "76         NA  ⋯ 1.05 1.05  1.04  1.03  0.99  0.80      1.01     35.63\n",
       "77  1345.8231  ⋯ 1.05 1.05  1.04  1.04  0.98  0.81      0.99     23.66\n",
       "78         NA  ⋯   NA   NA    NA    NA    NA    NA        NA        NA\n",
       "79         NA  ⋯   NA   NA    NA    NA    NA    NA        NA        NA\n",
       "80 10039.0449  ⋯ 1.11 1.11  1.08  1.01  0.85  0.63      1.00     26.26\n",
       "81         NA  ⋯   NA   NA    NA    NA    NA    NA        NA        NA\n",
       "82         NA  ⋯   NA   NA    NA    NA    NA    NA        NA        NA\n",
       "83         NA  ⋯   NA   NA    NA    NA    NA    NA        NA        NA\n",
       "84         NA  ⋯   NA   NA    NA    NA    NA    NA        NA        NA\n",
       "85         NA  ⋯   NA   NA    NA    NA    NA    NA        NA        NA\n",
       "86         NA  ⋯   NA   NA    NA    NA    NA    NA        NA        NA\n",
       "   femalelung malelung\n",
       "1     NA          NA  \n",
       "2     NA          NA  \n",
       "3  20.16       42.59  \n",
       "4     NA          NA  \n",
       "5     NA          NA  \n",
       "6     NA          NA  \n",
       "7  15.90       22.16  \n",
       "8  13.02       22.14  \n",
       "9  21.20       34.98  \n",
       "10    NA          NA  \n",
       "11 16.95       21.55  \n",
       "12 56.35       70.52  \n",
       "13 31.33       42.49  \n",
       "14    NA          NA  \n",
       "15    NA          NA  \n",
       "16    NA          NA  \n",
       "17 31.31       32.85  \n",
       "18    NA          NA  \n",
       "19  9.64       17.69  \n",
       "20 15.96       34.46  \n",
       "21 16.32       24.67  \n",
       "22    NA          NA  \n",
       "23    NA          NA  \n",
       "24    NA          NA  \n",
       "25 87.54      106.89  \n",
       "26    NA          NA  \n",
       "27    NA          NA  \n",
       "28 16.47       20.99  \n",
       "29 23.02       27.25  \n",
       "30 12.81       20.23  \n",
       "⋮  ⋮          ⋮       \n",
       "57    NA         NA   \n",
       "58    NA         NA   \n",
       "59    NA         NA   \n",
       "60 12.70      26.11   \n",
       "61    NA         NA   \n",
       "62 14.94      20.96   \n",
       "63  9.98      25.90   \n",
       "64  9.14      19.18   \n",
       "65    NA         NA   \n",
       "66    NA         NA   \n",
       "67 17.88      37.30   \n",
       "68 28.03      75.32   \n",
       "69    NA         NA   \n",
       "70    NA         NA   \n",
       "71  8.22      27.49   \n",
       "72 16.58      17.03   \n",
       "73 11.94      19.47   \n",
       "74    NA         NA   \n",
       "75    NA         NA   \n",
       "76 21.20      55.26   \n",
       "77 21.11      26.84   \n",
       "78    NA         NA   \n",
       "79    NA         NA   \n",
       "80 16.80      41.72   \n",
       "81    NA         NA   \n",
       "82    NA         NA   \n",
       "83    NA         NA   \n",
       "84    NA         NA   \n",
       "85    NA         NA   \n",
       "86    NA         NA   "
      ]
     },
     "metadata": {},
     "output_type": "display_data"
    }
   ],
   "source": [
    "country_info_output.df <- merge(restrictions_wide.df, countryinfo.df, by=c(\"Country.Region\"))"
   ]
  },
  {
   "cell_type": "code",
   "execution_count": null,
   "metadata": {},
   "outputs": [],
   "source": [
    "saveRDS(country_info_output.df, \"COVID19_Country_Info.Rdata\", version = 2)"
   ]
  }
 ],
 "metadata": {
  "kernelspec": {
   "display_name": "R",
   "language": "R",
   "name": "ir"
  },
  "language_info": {
   "codemirror_mode": "r",
   "file_extension": ".r",
   "mimetype": "text/x-r-source",
   "name": "R",
   "pygments_lexer": "r",
   "version": "3.6.3"
  },
  "latex_envs": {
   "LaTeX_envs_menu_present": true,
   "autoclose": false,
   "autocomplete": true,
   "bibliofile": "biblio.bib",
   "cite_by": "apalike",
   "current_citInitial": 1,
   "eqLabelWithNumbers": true,
   "eqNumInitial": 1,
   "hotkeys": {
    "equation": "Ctrl-E",
    "itemize": "Ctrl-I"
   },
   "labels_anchors": false,
   "latex_user_defs": false,
   "report_style_numbering": false,
   "user_envs_cfg": false
  },
  "toc": {
   "base_numbering": 1,
   "nav_menu": {},
   "number_sections": true,
   "sideBar": true,
   "skip_h1_title": false,
   "title_cell": "Table of Contents",
   "title_sidebar": "Contents",
   "toc_cell": false,
   "toc_position": {},
   "toc_section_display": true,
   "toc_window_display": false
  },
  "varInspector": {
   "cols": {
    "lenName": 16,
    "lenType": 16,
    "lenVar": 40
   },
   "kernels_config": {
    "python": {
     "delete_cmd_postfix": "",
     "delete_cmd_prefix": "del ",
     "library": "var_list.py",
     "varRefreshCmd": "print(var_dic_list())"
    },
    "r": {
     "delete_cmd_postfix": ") ",
     "delete_cmd_prefix": "rm(",
     "library": "var_list.r",
     "varRefreshCmd": "cat(var_dic_list()) "
    }
   },
   "types_to_exclude": [
    "module",
    "function",
    "builtin_function_or_method",
    "instance",
    "_Feature"
   ],
   "window_display": false
  }
 },
 "nbformat": 4,
 "nbformat_minor": 2
}
