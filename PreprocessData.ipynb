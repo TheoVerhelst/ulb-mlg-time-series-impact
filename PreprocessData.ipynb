{
 "cells": [
  {
   "cell_type": "markdown",
   "metadata": {},
   "source": [
    "# Preprocess Raw Data"
   ]
  },
  {
   "cell_type": "code",
   "execution_count": 1,
   "metadata": {
    "ExecuteTime": {
     "end_time": "2020-03-28T20:40:50.406905Z",
     "start_time": "2020-03-28T20:40:50.379Z"
    }
   },
   "outputs": [
    {
     "name": "stderr",
     "output_type": "stream",
     "text": [
      "\n",
      "Attaching package: ‘plyr’\n",
      "\n",
      "\n",
      "The following objects are masked from ‘package:reshape’:\n",
      "\n",
      "    rename, round_any\n",
      "\n",
      "\n"
     ]
    }
   ],
   "source": [
    "library(reshape)\n",
    "library(plyr)"
   ]
  },
  {
   "cell_type": "code",
   "execution_count": 2,
   "metadata": {
    "ExecuteTime": {
     "end_time": "2020-03-28T20:40:50.437817Z",
     "start_time": "2020-03-28T20:40:50.385Z"
    }
   },
   "outputs": [],
   "source": [
    "horizontaldf2verticaldf <- function(horizontal.df,value_column_name){\n",
    "    colnames(horizontal.df) <- c(c(\"Province.State\",\"Country.Region\",\"Lat\",\"Long\"),seq(as.Date(\"2020-01-22\"), length = ncol(global_recovered.df)-4, by = \"days\"))\n",
    "    vertical.df <- melt(horizontal.df,\n",
    "             id=c(\"Province.State\",\"Country.Region\",\"Lat\",\"Long\"))\n",
    "    colnames(vertical.df) <- c(c(\"Province.State\",\"Country.Region\",\"Lat\",\"Long\"),\"Date\",value_column_name)\n",
    "    vertical.df$Date <- as.Date(as.integer(vertical.df$Date),origin=\"21/01/2020\", format=\"%d/%m/%Y\")\n",
    "    return(vertical.df)\n",
    "}"
   ]
  },
  {
   "cell_type": "code",
   "execution_count": 3,
   "metadata": {
    "ExecuteTime": {
     "end_time": "2020-03-28T20:40:50.466739Z",
     "start_time": "2020-03-28T20:40:50.389Z"
    }
   },
   "outputs": [],
   "source": [
    "# Given a dataframe df of data and a list of country / province pairs,\n",
    "# this functions adds a row to df for each element of pairs not present in df.\n",
    "# This is used because we have regional data for deaths and confirmed cases,\n",
    "# but not for recovery in some countries, and thus the merge discard these countries\n",
    "add_missing_rows <- function(df, pairs, value_column_name) {\n",
    "    for (i in nrow(pairs)) {\n",
    "        confirmed_row <- df[(df$Country.Region == pairs[i, \"Country.Region\"]) &\n",
    "                            (df$Province.State == pairs[i, \"Province.State\"]),]\n",
    "        if (nrow(confirmed_row) == 0) {\n",
    "            new_row <- df[df$Country.Region == pairs[i, \"Country.Region\"],][1,]\n",
    "            new_row[,value_column_name] <- NA\n",
    "            new_row[,\"Province.State\"] <- pairs[i, \"Province.State\"]\n",
    "            df <- rbind(df, new_row)\n",
    "        }\n",
    "    }\n",
    "    return(df)\n",
    "}"
   ]
  },
  {
   "cell_type": "markdown",
   "metadata": {},
   "source": [
    "## Read data"
   ]
  },
  {
   "cell_type": "code",
   "execution_count": 36,
   "metadata": {
    "ExecuteTime": {
     "end_time": "2020-03-28T20:40:50.500653Z",
     "start_time": "2020-03-28T20:40:50.444Z"
    }
   },
   "outputs": [],
   "source": [
    "italy.df <- read.csv(\"data/Italy/dpc-covid19-ita-regioni.csv\")"
   ]
  },
  {
   "cell_type": "code",
   "execution_count": 37,
   "metadata": {
    "ExecuteTime": {
     "end_time": "2020-03-28T20:40:50.565474Z",
     "start_time": "2020-03-28T20:40:50.449Z"
    }
   },
   "outputs": [],
   "source": [
    "global_confirmed.df <- read.csv(\"data/Global_JohnsHopkins/time_series_covid19_confirmed_global.csv\")\n",
    "global_deaths.df <- read.csv(\"data/Global_JohnsHopkins/time_series_covid19_deaths_global.csv\")\n",
    "global_recovered.df <- read.csv(\"data/Global_JohnsHopkins/time_series_covid19_recovered_global.csv\")"
   ]
  },
  {
   "cell_type": "markdown",
   "metadata": {},
   "source": [
    "## Check data structure"
   ]
  },
  {
   "cell_type": "code",
   "execution_count": 38,
   "metadata": {
    "ExecuteTime": {
     "end_time": "2020-03-28T20:40:50.616351Z",
     "start_time": "2020-03-28T20:40:50.507Z"
    }
   },
   "outputs": [
    {
     "data": {
      "text/html": [
       "<table>\n",
       "<caption>A data.frame: 6 × 18</caption>\n",
       "<thead>\n",
       "\t<tr><th></th><th scope=col>data</th><th scope=col>stato</th><th scope=col>codice_regione</th><th scope=col>denominazione_regione</th><th scope=col>lat</th><th scope=col>long</th><th scope=col>ricoverati_con_sintomi</th><th scope=col>terapia_intensiva</th><th scope=col>totale_ospedalizzati</th><th scope=col>isolamento_domiciliare</th><th scope=col>totale_attualmente_positivi</th><th scope=col>nuovi_attualmente_positivi</th><th scope=col>dimessi_guariti</th><th scope=col>deceduti</th><th scope=col>totale_casi</th><th scope=col>tamponi</th><th scope=col>note_it</th><th scope=col>note_en</th></tr>\n",
       "\t<tr><th></th><th scope=col>&lt;fct&gt;</th><th scope=col>&lt;fct&gt;</th><th scope=col>&lt;int&gt;</th><th scope=col>&lt;fct&gt;</th><th scope=col>&lt;dbl&gt;</th><th scope=col>&lt;dbl&gt;</th><th scope=col>&lt;int&gt;</th><th scope=col>&lt;int&gt;</th><th scope=col>&lt;int&gt;</th><th scope=col>&lt;int&gt;</th><th scope=col>&lt;int&gt;</th><th scope=col>&lt;int&gt;</th><th scope=col>&lt;int&gt;</th><th scope=col>&lt;int&gt;</th><th scope=col>&lt;int&gt;</th><th scope=col>&lt;int&gt;</th><th scope=col>&lt;fct&gt;</th><th scope=col>&lt;fct&gt;</th></tr>\n",
       "</thead>\n",
       "<tbody>\n",
       "\t<tr><th scope=row>1</th><td>2020-02-24T18:00:00</td><td>ITA</td><td>13</td><td>Abruzzo       </td><td>42.35122</td><td>13.39844</td><td> 0</td><td>0</td><td> 0</td><td>0</td><td> 0</td><td> 0</td><td>0</td><td>0</td><td> 0</td><td>  5</td><td></td><td></td></tr>\n",
       "\t<tr><th scope=row>2</th><td>2020-02-24T18:00:00</td><td>ITA</td><td>17</td><td>Basilicata    </td><td>40.63947</td><td>15.80515</td><td> 0</td><td>0</td><td> 0</td><td>0</td><td> 0</td><td> 0</td><td>0</td><td>0</td><td> 0</td><td>  0</td><td></td><td></td></tr>\n",
       "\t<tr><th scope=row>3</th><td>2020-02-24T18:00:00</td><td>ITA</td><td> 4</td><td>P.A. Bolzano  </td><td>46.49933</td><td>11.35662</td><td> 0</td><td>0</td><td> 0</td><td>0</td><td> 0</td><td> 0</td><td>0</td><td>0</td><td> 0</td><td>  1</td><td></td><td></td></tr>\n",
       "\t<tr><th scope=row>4</th><td>2020-02-24T18:00:00</td><td>ITA</td><td>18</td><td>Calabria      </td><td>38.90598</td><td>16.59440</td><td> 0</td><td>0</td><td> 0</td><td>0</td><td> 0</td><td> 0</td><td>0</td><td>0</td><td> 0</td><td>  1</td><td></td><td></td></tr>\n",
       "\t<tr><th scope=row>5</th><td>2020-02-24T18:00:00</td><td>ITA</td><td>15</td><td>Campania      </td><td>40.83957</td><td>14.25085</td><td> 0</td><td>0</td><td> 0</td><td>0</td><td> 0</td><td> 0</td><td>0</td><td>0</td><td> 0</td><td> 10</td><td></td><td></td></tr>\n",
       "\t<tr><th scope=row>6</th><td>2020-02-24T18:00:00</td><td>ITA</td><td> 8</td><td>Emilia Romagna</td><td>44.49437</td><td>11.34172</td><td>10</td><td>2</td><td>12</td><td>6</td><td>18</td><td>18</td><td>0</td><td>0</td><td>18</td><td>148</td><td></td><td></td></tr>\n",
       "</tbody>\n",
       "</table>\n"
      ],
      "text/latex": [
       "A data.frame: 6 × 18\n",
       "\\begin{tabular}{r|llllllllllllllllll}\n",
       "  & data & stato & codice\\_regione & denominazione\\_regione & lat & long & ricoverati\\_con\\_sintomi & terapia\\_intensiva & totale\\_ospedalizzati & isolamento\\_domiciliare & totale\\_attualmente\\_positivi & nuovi\\_attualmente\\_positivi & dimessi\\_guariti & deceduti & totale\\_casi & tamponi & note\\_it & note\\_en\\\\\n",
       "  & <fct> & <fct> & <int> & <fct> & <dbl> & <dbl> & <int> & <int> & <int> & <int> & <int> & <int> & <int> & <int> & <int> & <int> & <fct> & <fct>\\\\\n",
       "\\hline\n",
       "\t1 & 2020-02-24T18:00:00 & ITA & 13 & Abruzzo        & 42.35122 & 13.39844 &  0 & 0 &  0 & 0 &  0 &  0 & 0 & 0 &  0 &   5 &  & \\\\\n",
       "\t2 & 2020-02-24T18:00:00 & ITA & 17 & Basilicata     & 40.63947 & 15.80515 &  0 & 0 &  0 & 0 &  0 &  0 & 0 & 0 &  0 &   0 &  & \\\\\n",
       "\t3 & 2020-02-24T18:00:00 & ITA &  4 & P.A. Bolzano   & 46.49933 & 11.35662 &  0 & 0 &  0 & 0 &  0 &  0 & 0 & 0 &  0 &   1 &  & \\\\\n",
       "\t4 & 2020-02-24T18:00:00 & ITA & 18 & Calabria       & 38.90598 & 16.59440 &  0 & 0 &  0 & 0 &  0 &  0 & 0 & 0 &  0 &   1 &  & \\\\\n",
       "\t5 & 2020-02-24T18:00:00 & ITA & 15 & Campania       & 40.83957 & 14.25085 &  0 & 0 &  0 & 0 &  0 &  0 & 0 & 0 &  0 &  10 &  & \\\\\n",
       "\t6 & 2020-02-24T18:00:00 & ITA &  8 & Emilia Romagna & 44.49437 & 11.34172 & 10 & 2 & 12 & 6 & 18 & 18 & 0 & 0 & 18 & 148 &  & \\\\\n",
       "\\end{tabular}\n"
      ],
      "text/markdown": [
       "\n",
       "A data.frame: 6 × 18\n",
       "\n",
       "| <!--/--> | data &lt;fct&gt; | stato &lt;fct&gt; | codice_regione &lt;int&gt; | denominazione_regione &lt;fct&gt; | lat &lt;dbl&gt; | long &lt;dbl&gt; | ricoverati_con_sintomi &lt;int&gt; | terapia_intensiva &lt;int&gt; | totale_ospedalizzati &lt;int&gt; | isolamento_domiciliare &lt;int&gt; | totale_attualmente_positivi &lt;int&gt; | nuovi_attualmente_positivi &lt;int&gt; | dimessi_guariti &lt;int&gt; | deceduti &lt;int&gt; | totale_casi &lt;int&gt; | tamponi &lt;int&gt; | note_it &lt;fct&gt; | note_en &lt;fct&gt; |\n",
       "|---|---|---|---|---|---|---|---|---|---|---|---|---|---|---|---|---|---|---|\n",
       "| 1 | 2020-02-24T18:00:00 | ITA | 13 | Abruzzo        | 42.35122 | 13.39844 |  0 | 0 |  0 | 0 |  0 |  0 | 0 | 0 |  0 |   5 | <!----> | <!----> |\n",
       "| 2 | 2020-02-24T18:00:00 | ITA | 17 | Basilicata     | 40.63947 | 15.80515 |  0 | 0 |  0 | 0 |  0 |  0 | 0 | 0 |  0 |   0 | <!----> | <!----> |\n",
       "| 3 | 2020-02-24T18:00:00 | ITA |  4 | P.A. Bolzano   | 46.49933 | 11.35662 |  0 | 0 |  0 | 0 |  0 |  0 | 0 | 0 |  0 |   1 | <!----> | <!----> |\n",
       "| 4 | 2020-02-24T18:00:00 | ITA | 18 | Calabria       | 38.90598 | 16.59440 |  0 | 0 |  0 | 0 |  0 |  0 | 0 | 0 |  0 |   1 | <!----> | <!----> |\n",
       "| 5 | 2020-02-24T18:00:00 | ITA | 15 | Campania       | 40.83957 | 14.25085 |  0 | 0 |  0 | 0 |  0 |  0 | 0 | 0 |  0 |  10 | <!----> | <!----> |\n",
       "| 6 | 2020-02-24T18:00:00 | ITA |  8 | Emilia Romagna | 44.49437 | 11.34172 | 10 | 2 | 12 | 6 | 18 | 18 | 0 | 0 | 18 | 148 | <!----> | <!----> |\n",
       "\n"
      ],
      "text/plain": [
       "  data                stato codice_regione denominazione_regione lat     \n",
       "1 2020-02-24T18:00:00 ITA   13             Abruzzo               42.35122\n",
       "2 2020-02-24T18:00:00 ITA   17             Basilicata            40.63947\n",
       "3 2020-02-24T18:00:00 ITA    4             P.A. Bolzano          46.49933\n",
       "4 2020-02-24T18:00:00 ITA   18             Calabria              38.90598\n",
       "5 2020-02-24T18:00:00 ITA   15             Campania              40.83957\n",
       "6 2020-02-24T18:00:00 ITA    8             Emilia Romagna        44.49437\n",
       "  long     ricoverati_con_sintomi terapia_intensiva totale_ospedalizzati\n",
       "1 13.39844  0                     0                  0                  \n",
       "2 15.80515  0                     0                  0                  \n",
       "3 11.35662  0                     0                  0                  \n",
       "4 16.59440  0                     0                  0                  \n",
       "5 14.25085  0                     0                  0                  \n",
       "6 11.34172 10                     2                 12                  \n",
       "  isolamento_domiciliare totale_attualmente_positivi nuovi_attualmente_positivi\n",
       "1 0                       0                           0                        \n",
       "2 0                       0                           0                        \n",
       "3 0                       0                           0                        \n",
       "4 0                       0                           0                        \n",
       "5 0                       0                           0                        \n",
       "6 6                      18                          18                        \n",
       "  dimessi_guariti deceduti totale_casi tamponi note_it note_en\n",
       "1 0               0         0            5                    \n",
       "2 0               0         0            0                    \n",
       "3 0               0         0            1                    \n",
       "4 0               0         0            1                    \n",
       "5 0               0         0           10                    \n",
       "6 0               0        18          148                    "
      ]
     },
     "metadata": {},
     "output_type": "display_data"
    }
   ],
   "source": [
    "head(italy.df)"
   ]
  },
  {
   "cell_type": "code",
   "execution_count": 39,
   "metadata": {
    "ExecuteTime": {
     "end_time": "2020-03-28T20:40:50.672192Z",
     "start_time": "2020-03-28T20:40:50.517Z"
    }
   },
   "outputs": [
    {
     "data": {
      "text/html": [
       "<table>\n",
       "<caption>A data.frame: 6 × 70</caption>\n",
       "<thead>\n",
       "\t<tr><th></th><th scope=col>Province.State</th><th scope=col>Country.Region</th><th scope=col>Lat</th><th scope=col>Long</th><th scope=col>X1.22.20</th><th scope=col>X1.23.20</th><th scope=col>X1.24.20</th><th scope=col>X1.25.20</th><th scope=col>X1.26.20</th><th scope=col>X1.27.20</th><th scope=col>...</th><th scope=col>X3.18.20</th><th scope=col>X3.19.20</th><th scope=col>X3.20.20</th><th scope=col>X3.21.20</th><th scope=col>X3.22.20</th><th scope=col>X3.23.20</th><th scope=col>X3.24.20</th><th scope=col>X3.25.20</th><th scope=col>X3.26.20</th><th scope=col>X3.27.20</th></tr>\n",
       "\t<tr><th></th><th scope=col>&lt;fct&gt;</th><th scope=col>&lt;fct&gt;</th><th scope=col>&lt;dbl&gt;</th><th scope=col>&lt;dbl&gt;</th><th scope=col>&lt;int&gt;</th><th scope=col>&lt;int&gt;</th><th scope=col>&lt;int&gt;</th><th scope=col>&lt;int&gt;</th><th scope=col>&lt;int&gt;</th><th scope=col>&lt;int&gt;</th><th scope=col>...</th><th scope=col>&lt;int&gt;</th><th scope=col>&lt;int&gt;</th><th scope=col>&lt;int&gt;</th><th scope=col>&lt;int&gt;</th><th scope=col>&lt;int&gt;</th><th scope=col>&lt;int&gt;</th><th scope=col>&lt;int&gt;</th><th scope=col>&lt;int&gt;</th><th scope=col>&lt;int&gt;</th><th scope=col>&lt;int&gt;</th></tr>\n",
       "</thead>\n",
       "<tbody>\n",
       "\t<tr><th scope=row>1</th><td></td><td>Afghanistan        </td><td> 33.0000</td><td> 65.0000</td><td>0</td><td>0</td><td>0</td><td>0</td><td>0</td><td>0</td><td>...</td><td>22</td><td>22</td><td>24</td><td> 24</td><td> 40</td><td> 40</td><td> 74</td><td> 84</td><td> 94</td><td>110</td></tr>\n",
       "\t<tr><th scope=row>2</th><td></td><td>Albania            </td><td> 41.1533</td><td> 20.1683</td><td>0</td><td>0</td><td>0</td><td>0</td><td>0</td><td>0</td><td>...</td><td>59</td><td>64</td><td>70</td><td> 76</td><td> 89</td><td>104</td><td>123</td><td>146</td><td>174</td><td>186</td></tr>\n",
       "\t<tr><th scope=row>3</th><td></td><td>Algeria            </td><td> 28.0339</td><td>  1.6596</td><td>0</td><td>0</td><td>0</td><td>0</td><td>0</td><td>0</td><td>...</td><td>74</td><td>87</td><td>90</td><td>139</td><td>201</td><td>230</td><td>264</td><td>302</td><td>367</td><td>409</td></tr>\n",
       "\t<tr><th scope=row>4</th><td></td><td>Andorra            </td><td> 42.5063</td><td>  1.5218</td><td>0</td><td>0</td><td>0</td><td>0</td><td>0</td><td>0</td><td>...</td><td>39</td><td>53</td><td>75</td><td> 88</td><td>113</td><td>133</td><td>164</td><td>188</td><td>224</td><td>267</td></tr>\n",
       "\t<tr><th scope=row>5</th><td></td><td>Angola             </td><td>-11.2027</td><td> 17.8739</td><td>0</td><td>0</td><td>0</td><td>0</td><td>0</td><td>0</td><td>...</td><td> 0</td><td> 0</td><td> 1</td><td>  2</td><td>  2</td><td>  3</td><td>  3</td><td>  3</td><td>  4</td><td>  4</td></tr>\n",
       "\t<tr><th scope=row>6</th><td></td><td>Antigua and Barbuda</td><td> 17.0608</td><td>-61.7964</td><td>0</td><td>0</td><td>0</td><td>0</td><td>0</td><td>0</td><td>...</td><td> 1</td><td> 1</td><td> 1</td><td>  1</td><td>  1</td><td>  3</td><td>  3</td><td>  3</td><td>  7</td><td>  7</td></tr>\n",
       "</tbody>\n",
       "</table>\n"
      ],
      "text/latex": [
       "A data.frame: 6 × 70\n",
       "\\begin{tabular}{r|lllllllllllllllllllll}\n",
       "  & Province.State & Country.Region & Lat & Long & X1.22.20 & X1.23.20 & X1.24.20 & X1.25.20 & X1.26.20 & X1.27.20 & ... & X3.18.20 & X3.19.20 & X3.20.20 & X3.21.20 & X3.22.20 & X3.23.20 & X3.24.20 & X3.25.20 & X3.26.20 & X3.27.20\\\\\n",
       "  & <fct> & <fct> & <dbl> & <dbl> & <int> & <int> & <int> & <int> & <int> & <int> & ... & <int> & <int> & <int> & <int> & <int> & <int> & <int> & <int> & <int> & <int>\\\\\n",
       "\\hline\n",
       "\t1 &  & Afghanistan         &  33.0000 &  65.0000 & 0 & 0 & 0 & 0 & 0 & 0 & ... & 22 & 22 & 24 &  24 &  40 &  40 &  74 &  84 &  94 & 110\\\\\n",
       "\t2 &  & Albania             &  41.1533 &  20.1683 & 0 & 0 & 0 & 0 & 0 & 0 & ... & 59 & 64 & 70 &  76 &  89 & 104 & 123 & 146 & 174 & 186\\\\\n",
       "\t3 &  & Algeria             &  28.0339 &   1.6596 & 0 & 0 & 0 & 0 & 0 & 0 & ... & 74 & 87 & 90 & 139 & 201 & 230 & 264 & 302 & 367 & 409\\\\\n",
       "\t4 &  & Andorra             &  42.5063 &   1.5218 & 0 & 0 & 0 & 0 & 0 & 0 & ... & 39 & 53 & 75 &  88 & 113 & 133 & 164 & 188 & 224 & 267\\\\\n",
       "\t5 &  & Angola              & -11.2027 &  17.8739 & 0 & 0 & 0 & 0 & 0 & 0 & ... &  0 &  0 &  1 &   2 &   2 &   3 &   3 &   3 &   4 &   4\\\\\n",
       "\t6 &  & Antigua and Barbuda &  17.0608 & -61.7964 & 0 & 0 & 0 & 0 & 0 & 0 & ... &  1 &  1 &  1 &   1 &   1 &   3 &   3 &   3 &   7 &   7\\\\\n",
       "\\end{tabular}\n"
      ],
      "text/markdown": [
       "\n",
       "A data.frame: 6 × 70\n",
       "\n",
       "| <!--/--> | Province.State &lt;fct&gt; | Country.Region &lt;fct&gt; | Lat &lt;dbl&gt; | Long &lt;dbl&gt; | X1.22.20 &lt;int&gt; | X1.23.20 &lt;int&gt; | X1.24.20 &lt;int&gt; | X1.25.20 &lt;int&gt; | X1.26.20 &lt;int&gt; | X1.27.20 &lt;int&gt; | ... ... | X3.18.20 &lt;int&gt; | X3.19.20 &lt;int&gt; | X3.20.20 &lt;int&gt; | X3.21.20 &lt;int&gt; | X3.22.20 &lt;int&gt; | X3.23.20 &lt;int&gt; | X3.24.20 &lt;int&gt; | X3.25.20 &lt;int&gt; | X3.26.20 &lt;int&gt; | X3.27.20 &lt;int&gt; |\n",
       "|---|---|---|---|---|---|---|---|---|---|---|---|---|---|---|---|---|---|---|---|---|---|\n",
       "| 1 | <!----> | Afghanistan         |  33.0000 |  65.0000 | 0 | 0 | 0 | 0 | 0 | 0 | ... | 22 | 22 | 24 |  24 |  40 |  40 |  74 |  84 |  94 | 110 |\n",
       "| 2 | <!----> | Albania             |  41.1533 |  20.1683 | 0 | 0 | 0 | 0 | 0 | 0 | ... | 59 | 64 | 70 |  76 |  89 | 104 | 123 | 146 | 174 | 186 |\n",
       "| 3 | <!----> | Algeria             |  28.0339 |   1.6596 | 0 | 0 | 0 | 0 | 0 | 0 | ... | 74 | 87 | 90 | 139 | 201 | 230 | 264 | 302 | 367 | 409 |\n",
       "| 4 | <!----> | Andorra             |  42.5063 |   1.5218 | 0 | 0 | 0 | 0 | 0 | 0 | ... | 39 | 53 | 75 |  88 | 113 | 133 | 164 | 188 | 224 | 267 |\n",
       "| 5 | <!----> | Angola              | -11.2027 |  17.8739 | 0 | 0 | 0 | 0 | 0 | 0 | ... |  0 |  0 |  1 |   2 |   2 |   3 |   3 |   3 |   4 |   4 |\n",
       "| 6 | <!----> | Antigua and Barbuda |  17.0608 | -61.7964 | 0 | 0 | 0 | 0 | 0 | 0 | ... |  1 |  1 |  1 |   1 |   1 |   3 |   3 |   3 |   7 |   7 |\n",
       "\n"
      ],
      "text/plain": [
       "  Province.State Country.Region      Lat      Long     X1.22.20 X1.23.20\n",
       "1                Afghanistan          33.0000  65.0000 0        0       \n",
       "2                Albania              41.1533  20.1683 0        0       \n",
       "3                Algeria              28.0339   1.6596 0        0       \n",
       "4                Andorra              42.5063   1.5218 0        0       \n",
       "5                Angola              -11.2027  17.8739 0        0       \n",
       "6                Antigua and Barbuda  17.0608 -61.7964 0        0       \n",
       "  X1.24.20 X1.25.20 X1.26.20 X1.27.20 ... X3.18.20 X3.19.20 X3.20.20 X3.21.20\n",
       "1 0        0        0        0        ... 22       22       24        24     \n",
       "2 0        0        0        0        ... 59       64       70        76     \n",
       "3 0        0        0        0        ... 74       87       90       139     \n",
       "4 0        0        0        0        ... 39       53       75        88     \n",
       "5 0        0        0        0        ...  0        0        1         2     \n",
       "6 0        0        0        0        ...  1        1        1         1     \n",
       "  X3.22.20 X3.23.20 X3.24.20 X3.25.20 X3.26.20 X3.27.20\n",
       "1  40       40       74       84       94      110     \n",
       "2  89      104      123      146      174      186     \n",
       "3 201      230      264      302      367      409     \n",
       "4 113      133      164      188      224      267     \n",
       "5   2        3        3        3        4        4     \n",
       "6   1        3        3        3        7        7     "
      ]
     },
     "metadata": {},
     "output_type": "display_data"
    }
   ],
   "source": [
    "head(global_confirmed.df)"
   ]
  },
  {
   "cell_type": "code",
   "execution_count": 40,
   "metadata": {
    "ExecuteTime": {
     "end_time": "2020-03-28T20:40:50.734059Z",
     "start_time": "2020-03-28T20:40:50.526Z"
    }
   },
   "outputs": [
    {
     "data": {
      "text/html": [
       "<table>\n",
       "<caption>A data.frame: 6 × 70</caption>\n",
       "<thead>\n",
       "\t<tr><th></th><th scope=col>Province.State</th><th scope=col>Country.Region</th><th scope=col>Lat</th><th scope=col>Long</th><th scope=col>X1.22.20</th><th scope=col>X1.23.20</th><th scope=col>X1.24.20</th><th scope=col>X1.25.20</th><th scope=col>X1.26.20</th><th scope=col>X1.27.20</th><th scope=col>...</th><th scope=col>X3.18.20</th><th scope=col>X3.19.20</th><th scope=col>X3.20.20</th><th scope=col>X3.21.20</th><th scope=col>X3.22.20</th><th scope=col>X3.23.20</th><th scope=col>X3.24.20</th><th scope=col>X3.25.20</th><th scope=col>X3.26.20</th><th scope=col>X3.27.20</th></tr>\n",
       "\t<tr><th></th><th scope=col>&lt;fct&gt;</th><th scope=col>&lt;fct&gt;</th><th scope=col>&lt;dbl&gt;</th><th scope=col>&lt;dbl&gt;</th><th scope=col>&lt;int&gt;</th><th scope=col>&lt;int&gt;</th><th scope=col>&lt;int&gt;</th><th scope=col>&lt;int&gt;</th><th scope=col>&lt;int&gt;</th><th scope=col>&lt;int&gt;</th><th scope=col>...</th><th scope=col>&lt;int&gt;</th><th scope=col>&lt;int&gt;</th><th scope=col>&lt;int&gt;</th><th scope=col>&lt;int&gt;</th><th scope=col>&lt;int&gt;</th><th scope=col>&lt;int&gt;</th><th scope=col>&lt;int&gt;</th><th scope=col>&lt;int&gt;</th><th scope=col>&lt;int&gt;</th><th scope=col>&lt;int&gt;</th></tr>\n",
       "</thead>\n",
       "<tbody>\n",
       "\t<tr><th scope=row>1</th><td></td><td>Afghanistan        </td><td> 33.0000</td><td> 65.0000</td><td>0</td><td>0</td><td>0</td><td>0</td><td>0</td><td>0</td><td>...</td><td>0</td><td>0</td><td> 0</td><td> 0</td><td> 1</td><td> 1</td><td> 1</td><td> 2</td><td> 4</td><td> 4</td></tr>\n",
       "\t<tr><th scope=row>2</th><td></td><td>Albania            </td><td> 41.1533</td><td> 20.1683</td><td>0</td><td>0</td><td>0</td><td>0</td><td>0</td><td>0</td><td>...</td><td>2</td><td>2</td><td> 2</td><td> 2</td><td> 2</td><td> 4</td><td> 5</td><td> 5</td><td> 6</td><td> 8</td></tr>\n",
       "\t<tr><th scope=row>3</th><td></td><td>Algeria            </td><td> 28.0339</td><td>  1.6596</td><td>0</td><td>0</td><td>0</td><td>0</td><td>0</td><td>0</td><td>...</td><td>7</td><td>9</td><td>11</td><td>15</td><td>17</td><td>17</td><td>19</td><td>21</td><td>25</td><td>26</td></tr>\n",
       "\t<tr><th scope=row>4</th><td></td><td>Andorra            </td><td> 42.5063</td><td>  1.5218</td><td>0</td><td>0</td><td>0</td><td>0</td><td>0</td><td>0</td><td>...</td><td>0</td><td>0</td><td> 0</td><td> 0</td><td> 1</td><td> 1</td><td> 1</td><td> 1</td><td> 3</td><td> 3</td></tr>\n",
       "\t<tr><th scope=row>5</th><td></td><td>Angola             </td><td>-11.2027</td><td> 17.8739</td><td>0</td><td>0</td><td>0</td><td>0</td><td>0</td><td>0</td><td>...</td><td>0</td><td>0</td><td> 0</td><td> 0</td><td> 0</td><td> 0</td><td> 0</td><td> 0</td><td> 0</td><td> 0</td></tr>\n",
       "\t<tr><th scope=row>6</th><td></td><td>Antigua and Barbuda</td><td> 17.0608</td><td>-61.7964</td><td>0</td><td>0</td><td>0</td><td>0</td><td>0</td><td>0</td><td>...</td><td>0</td><td>0</td><td> 0</td><td> 0</td><td> 0</td><td> 0</td><td> 0</td><td> 0</td><td> 0</td><td> 0</td></tr>\n",
       "</tbody>\n",
       "</table>\n"
      ],
      "text/latex": [
       "A data.frame: 6 × 70\n",
       "\\begin{tabular}{r|lllllllllllllllllllll}\n",
       "  & Province.State & Country.Region & Lat & Long & X1.22.20 & X1.23.20 & X1.24.20 & X1.25.20 & X1.26.20 & X1.27.20 & ... & X3.18.20 & X3.19.20 & X3.20.20 & X3.21.20 & X3.22.20 & X3.23.20 & X3.24.20 & X3.25.20 & X3.26.20 & X3.27.20\\\\\n",
       "  & <fct> & <fct> & <dbl> & <dbl> & <int> & <int> & <int> & <int> & <int> & <int> & ... & <int> & <int> & <int> & <int> & <int> & <int> & <int> & <int> & <int> & <int>\\\\\n",
       "\\hline\n",
       "\t1 &  & Afghanistan         &  33.0000 &  65.0000 & 0 & 0 & 0 & 0 & 0 & 0 & ... & 0 & 0 &  0 &  0 &  1 &  1 &  1 &  2 &  4 &  4\\\\\n",
       "\t2 &  & Albania             &  41.1533 &  20.1683 & 0 & 0 & 0 & 0 & 0 & 0 & ... & 2 & 2 &  2 &  2 &  2 &  4 &  5 &  5 &  6 &  8\\\\\n",
       "\t3 &  & Algeria             &  28.0339 &   1.6596 & 0 & 0 & 0 & 0 & 0 & 0 & ... & 7 & 9 & 11 & 15 & 17 & 17 & 19 & 21 & 25 & 26\\\\\n",
       "\t4 &  & Andorra             &  42.5063 &   1.5218 & 0 & 0 & 0 & 0 & 0 & 0 & ... & 0 & 0 &  0 &  0 &  1 &  1 &  1 &  1 &  3 &  3\\\\\n",
       "\t5 &  & Angola              & -11.2027 &  17.8739 & 0 & 0 & 0 & 0 & 0 & 0 & ... & 0 & 0 &  0 &  0 &  0 &  0 &  0 &  0 &  0 &  0\\\\\n",
       "\t6 &  & Antigua and Barbuda &  17.0608 & -61.7964 & 0 & 0 & 0 & 0 & 0 & 0 & ... & 0 & 0 &  0 &  0 &  0 &  0 &  0 &  0 &  0 &  0\\\\\n",
       "\\end{tabular}\n"
      ],
      "text/markdown": [
       "\n",
       "A data.frame: 6 × 70\n",
       "\n",
       "| <!--/--> | Province.State &lt;fct&gt; | Country.Region &lt;fct&gt; | Lat &lt;dbl&gt; | Long &lt;dbl&gt; | X1.22.20 &lt;int&gt; | X1.23.20 &lt;int&gt; | X1.24.20 &lt;int&gt; | X1.25.20 &lt;int&gt; | X1.26.20 &lt;int&gt; | X1.27.20 &lt;int&gt; | ... ... | X3.18.20 &lt;int&gt; | X3.19.20 &lt;int&gt; | X3.20.20 &lt;int&gt; | X3.21.20 &lt;int&gt; | X3.22.20 &lt;int&gt; | X3.23.20 &lt;int&gt; | X3.24.20 &lt;int&gt; | X3.25.20 &lt;int&gt; | X3.26.20 &lt;int&gt; | X3.27.20 &lt;int&gt; |\n",
       "|---|---|---|---|---|---|---|---|---|---|---|---|---|---|---|---|---|---|---|---|---|---|\n",
       "| 1 | <!----> | Afghanistan         |  33.0000 |  65.0000 | 0 | 0 | 0 | 0 | 0 | 0 | ... | 0 | 0 |  0 |  0 |  1 |  1 |  1 |  2 |  4 |  4 |\n",
       "| 2 | <!----> | Albania             |  41.1533 |  20.1683 | 0 | 0 | 0 | 0 | 0 | 0 | ... | 2 | 2 |  2 |  2 |  2 |  4 |  5 |  5 |  6 |  8 |\n",
       "| 3 | <!----> | Algeria             |  28.0339 |   1.6596 | 0 | 0 | 0 | 0 | 0 | 0 | ... | 7 | 9 | 11 | 15 | 17 | 17 | 19 | 21 | 25 | 26 |\n",
       "| 4 | <!----> | Andorra             |  42.5063 |   1.5218 | 0 | 0 | 0 | 0 | 0 | 0 | ... | 0 | 0 |  0 |  0 |  1 |  1 |  1 |  1 |  3 |  3 |\n",
       "| 5 | <!----> | Angola              | -11.2027 |  17.8739 | 0 | 0 | 0 | 0 | 0 | 0 | ... | 0 | 0 |  0 |  0 |  0 |  0 |  0 |  0 |  0 |  0 |\n",
       "| 6 | <!----> | Antigua and Barbuda |  17.0608 | -61.7964 | 0 | 0 | 0 | 0 | 0 | 0 | ... | 0 | 0 |  0 |  0 |  0 |  0 |  0 |  0 |  0 |  0 |\n",
       "\n"
      ],
      "text/plain": [
       "  Province.State Country.Region      Lat      Long     X1.22.20 X1.23.20\n",
       "1                Afghanistan          33.0000  65.0000 0        0       \n",
       "2                Albania              41.1533  20.1683 0        0       \n",
       "3                Algeria              28.0339   1.6596 0        0       \n",
       "4                Andorra              42.5063   1.5218 0        0       \n",
       "5                Angola              -11.2027  17.8739 0        0       \n",
       "6                Antigua and Barbuda  17.0608 -61.7964 0        0       \n",
       "  X1.24.20 X1.25.20 X1.26.20 X1.27.20 ... X3.18.20 X3.19.20 X3.20.20 X3.21.20\n",
       "1 0        0        0        0        ... 0        0         0        0      \n",
       "2 0        0        0        0        ... 2        2         2        2      \n",
       "3 0        0        0        0        ... 7        9        11       15      \n",
       "4 0        0        0        0        ... 0        0         0        0      \n",
       "5 0        0        0        0        ... 0        0         0        0      \n",
       "6 0        0        0        0        ... 0        0         0        0      \n",
       "  X3.22.20 X3.23.20 X3.24.20 X3.25.20 X3.26.20 X3.27.20\n",
       "1  1        1        1        2        4        4      \n",
       "2  2        4        5        5        6        8      \n",
       "3 17       17       19       21       25       26      \n",
       "4  1        1        1        1        3        3      \n",
       "5  0        0        0        0        0        0      \n",
       "6  0        0        0        0        0        0      "
      ]
     },
     "metadata": {},
     "output_type": "display_data"
    }
   ],
   "source": [
    "head(global_deaths.df)"
   ]
  },
  {
   "cell_type": "code",
   "execution_count": 41,
   "metadata": {
    "ExecuteTime": {
     "end_time": "2020-03-28T20:40:50.786883Z",
     "start_time": "2020-03-28T20:40:50.533Z"
    }
   },
   "outputs": [
    {
     "data": {
      "text/html": [
       "<table>\n",
       "<caption>A data.frame: 6 × 70</caption>\n",
       "<thead>\n",
       "\t<tr><th></th><th scope=col>Province.State</th><th scope=col>Country.Region</th><th scope=col>Lat</th><th scope=col>Long</th><th scope=col>X1.22.20</th><th scope=col>X1.23.20</th><th scope=col>X1.24.20</th><th scope=col>X1.25.20</th><th scope=col>X1.26.20</th><th scope=col>X1.27.20</th><th scope=col>...</th><th scope=col>X3.18.20</th><th scope=col>X3.19.20</th><th scope=col>X3.20.20</th><th scope=col>X3.21.20</th><th scope=col>X3.22.20</th><th scope=col>X3.23.20</th><th scope=col>X3.24.20</th><th scope=col>X3.25.20</th><th scope=col>X3.26.20</th><th scope=col>X3.27.20</th></tr>\n",
       "\t<tr><th></th><th scope=col>&lt;fct&gt;</th><th scope=col>&lt;fct&gt;</th><th scope=col>&lt;dbl&gt;</th><th scope=col>&lt;dbl&gt;</th><th scope=col>&lt;int&gt;</th><th scope=col>&lt;int&gt;</th><th scope=col>&lt;int&gt;</th><th scope=col>&lt;int&gt;</th><th scope=col>&lt;int&gt;</th><th scope=col>&lt;int&gt;</th><th scope=col>...</th><th scope=col>&lt;int&gt;</th><th scope=col>&lt;int&gt;</th><th scope=col>&lt;int&gt;</th><th scope=col>&lt;int&gt;</th><th scope=col>&lt;int&gt;</th><th scope=col>&lt;int&gt;</th><th scope=col>&lt;int&gt;</th><th scope=col>&lt;int&gt;</th><th scope=col>&lt;int&gt;</th><th scope=col>&lt;int&gt;</th></tr>\n",
       "</thead>\n",
       "<tbody>\n",
       "\t<tr><th scope=row>1</th><td></td><td>Afghanistan        </td><td> 33.0000</td><td> 65.0000</td><td>0</td><td>0</td><td>0</td><td>0</td><td>0</td><td>0</td><td>...</td><td> 1</td><td> 1</td><td> 1</td><td> 1</td><td> 1</td><td> 1</td><td> 1</td><td> 2</td><td> 2</td><td> 2</td></tr>\n",
       "\t<tr><th scope=row>2</th><td></td><td>Albania            </td><td> 41.1533</td><td> 20.1683</td><td>0</td><td>0</td><td>0</td><td>0</td><td>0</td><td>0</td><td>...</td><td> 0</td><td> 0</td><td> 0</td><td> 2</td><td> 2</td><td> 2</td><td>10</td><td>17</td><td>17</td><td>31</td></tr>\n",
       "\t<tr><th scope=row>3</th><td></td><td>Algeria            </td><td> 28.0339</td><td>  1.6596</td><td>0</td><td>0</td><td>0</td><td>0</td><td>0</td><td>0</td><td>...</td><td>12</td><td>32</td><td>32</td><td>32</td><td>65</td><td>65</td><td>24</td><td>65</td><td>29</td><td>29</td></tr>\n",
       "\t<tr><th scope=row>4</th><td></td><td>Andorra            </td><td> 42.5063</td><td>  1.5218</td><td>0</td><td>0</td><td>0</td><td>0</td><td>0</td><td>0</td><td>...</td><td> 1</td><td> 1</td><td> 1</td><td> 1</td><td> 1</td><td> 1</td><td> 1</td><td> 1</td><td> 1</td><td> 1</td></tr>\n",
       "\t<tr><th scope=row>5</th><td></td><td>Angola             </td><td>-11.2027</td><td> 17.8739</td><td>0</td><td>0</td><td>0</td><td>0</td><td>0</td><td>0</td><td>...</td><td> 0</td><td> 0</td><td> 0</td><td> 0</td><td> 0</td><td> 0</td><td> 0</td><td> 0</td><td> 0</td><td> 0</td></tr>\n",
       "\t<tr><th scope=row>6</th><td></td><td>Antigua and Barbuda</td><td> 17.0608</td><td>-61.7964</td><td>0</td><td>0</td><td>0</td><td>0</td><td>0</td><td>0</td><td>...</td><td> 0</td><td> 0</td><td> 0</td><td> 0</td><td> 0</td><td> 0</td><td> 0</td><td> 0</td><td> 0</td><td> 0</td></tr>\n",
       "</tbody>\n",
       "</table>\n"
      ],
      "text/latex": [
       "A data.frame: 6 × 70\n",
       "\\begin{tabular}{r|lllllllllllllllllllll}\n",
       "  & Province.State & Country.Region & Lat & Long & X1.22.20 & X1.23.20 & X1.24.20 & X1.25.20 & X1.26.20 & X1.27.20 & ... & X3.18.20 & X3.19.20 & X3.20.20 & X3.21.20 & X3.22.20 & X3.23.20 & X3.24.20 & X3.25.20 & X3.26.20 & X3.27.20\\\\\n",
       "  & <fct> & <fct> & <dbl> & <dbl> & <int> & <int> & <int> & <int> & <int> & <int> & ... & <int> & <int> & <int> & <int> & <int> & <int> & <int> & <int> & <int> & <int>\\\\\n",
       "\\hline\n",
       "\t1 &  & Afghanistan         &  33.0000 &  65.0000 & 0 & 0 & 0 & 0 & 0 & 0 & ... &  1 &  1 &  1 &  1 &  1 &  1 &  1 &  2 &  2 &  2\\\\\n",
       "\t2 &  & Albania             &  41.1533 &  20.1683 & 0 & 0 & 0 & 0 & 0 & 0 & ... &  0 &  0 &  0 &  2 &  2 &  2 & 10 & 17 & 17 & 31\\\\\n",
       "\t3 &  & Algeria             &  28.0339 &   1.6596 & 0 & 0 & 0 & 0 & 0 & 0 & ... & 12 & 32 & 32 & 32 & 65 & 65 & 24 & 65 & 29 & 29\\\\\n",
       "\t4 &  & Andorra             &  42.5063 &   1.5218 & 0 & 0 & 0 & 0 & 0 & 0 & ... &  1 &  1 &  1 &  1 &  1 &  1 &  1 &  1 &  1 &  1\\\\\n",
       "\t5 &  & Angola              & -11.2027 &  17.8739 & 0 & 0 & 0 & 0 & 0 & 0 & ... &  0 &  0 &  0 &  0 &  0 &  0 &  0 &  0 &  0 &  0\\\\\n",
       "\t6 &  & Antigua and Barbuda &  17.0608 & -61.7964 & 0 & 0 & 0 & 0 & 0 & 0 & ... &  0 &  0 &  0 &  0 &  0 &  0 &  0 &  0 &  0 &  0\\\\\n",
       "\\end{tabular}\n"
      ],
      "text/markdown": [
       "\n",
       "A data.frame: 6 × 70\n",
       "\n",
       "| <!--/--> | Province.State &lt;fct&gt; | Country.Region &lt;fct&gt; | Lat &lt;dbl&gt; | Long &lt;dbl&gt; | X1.22.20 &lt;int&gt; | X1.23.20 &lt;int&gt; | X1.24.20 &lt;int&gt; | X1.25.20 &lt;int&gt; | X1.26.20 &lt;int&gt; | X1.27.20 &lt;int&gt; | ... ... | X3.18.20 &lt;int&gt; | X3.19.20 &lt;int&gt; | X3.20.20 &lt;int&gt; | X3.21.20 &lt;int&gt; | X3.22.20 &lt;int&gt; | X3.23.20 &lt;int&gt; | X3.24.20 &lt;int&gt; | X3.25.20 &lt;int&gt; | X3.26.20 &lt;int&gt; | X3.27.20 &lt;int&gt; |\n",
       "|---|---|---|---|---|---|---|---|---|---|---|---|---|---|---|---|---|---|---|---|---|---|\n",
       "| 1 | <!----> | Afghanistan         |  33.0000 |  65.0000 | 0 | 0 | 0 | 0 | 0 | 0 | ... |  1 |  1 |  1 |  1 |  1 |  1 |  1 |  2 |  2 |  2 |\n",
       "| 2 | <!----> | Albania             |  41.1533 |  20.1683 | 0 | 0 | 0 | 0 | 0 | 0 | ... |  0 |  0 |  0 |  2 |  2 |  2 | 10 | 17 | 17 | 31 |\n",
       "| 3 | <!----> | Algeria             |  28.0339 |   1.6596 | 0 | 0 | 0 | 0 | 0 | 0 | ... | 12 | 32 | 32 | 32 | 65 | 65 | 24 | 65 | 29 | 29 |\n",
       "| 4 | <!----> | Andorra             |  42.5063 |   1.5218 | 0 | 0 | 0 | 0 | 0 | 0 | ... |  1 |  1 |  1 |  1 |  1 |  1 |  1 |  1 |  1 |  1 |\n",
       "| 5 | <!----> | Angola              | -11.2027 |  17.8739 | 0 | 0 | 0 | 0 | 0 | 0 | ... |  0 |  0 |  0 |  0 |  0 |  0 |  0 |  0 |  0 |  0 |\n",
       "| 6 | <!----> | Antigua and Barbuda |  17.0608 | -61.7964 | 0 | 0 | 0 | 0 | 0 | 0 | ... |  0 |  0 |  0 |  0 |  0 |  0 |  0 |  0 |  0 |  0 |\n",
       "\n"
      ],
      "text/plain": [
       "  Province.State Country.Region      Lat      Long     X1.22.20 X1.23.20\n",
       "1                Afghanistan          33.0000  65.0000 0        0       \n",
       "2                Albania              41.1533  20.1683 0        0       \n",
       "3                Algeria              28.0339   1.6596 0        0       \n",
       "4                Andorra              42.5063   1.5218 0        0       \n",
       "5                Angola              -11.2027  17.8739 0        0       \n",
       "6                Antigua and Barbuda  17.0608 -61.7964 0        0       \n",
       "  X1.24.20 X1.25.20 X1.26.20 X1.27.20 ... X3.18.20 X3.19.20 X3.20.20 X3.21.20\n",
       "1 0        0        0        0        ...  1        1        1        1      \n",
       "2 0        0        0        0        ...  0        0        0        2      \n",
       "3 0        0        0        0        ... 12       32       32       32      \n",
       "4 0        0        0        0        ...  1        1        1        1      \n",
       "5 0        0        0        0        ...  0        0        0        0      \n",
       "6 0        0        0        0        ...  0        0        0        0      \n",
       "  X3.22.20 X3.23.20 X3.24.20 X3.25.20 X3.26.20 X3.27.20\n",
       "1  1        1        1        2        2        2      \n",
       "2  2        2       10       17       17       31      \n",
       "3 65       65       24       65       29       29      \n",
       "4  1        1        1        1        1        1      \n",
       "5  0        0        0        0        0        0      \n",
       "6  0        0        0        0        0        0      "
      ]
     },
     "metadata": {},
     "output_type": "display_data"
    }
   ],
   "source": [
    "head(global_recovered.df)"
   ]
  },
  {
   "cell_type": "markdown",
   "metadata": {},
   "source": [
    "## Global\n",
    "### Transform horizontal to vertical"
   ]
  },
  {
   "cell_type": "code",
   "execution_count": 42,
   "metadata": {
    "ExecuteTime": {
     "end_time": "2020-03-28T20:40:51.004301Z",
     "start_time": "2020-03-28T20:40:50.580Z"
    }
   },
   "outputs": [],
   "source": [
    "global_confirmed_vertical.df <- horizontaldf2verticaldf(global_confirmed.df,\"Confirmed\")\n",
    "global_deaths_vertical.df <- horizontaldf2verticaldf(global_deaths.df,\"Deaths\")\n",
    "global_recovered_vertical.df <- horizontaldf2verticaldf(global_recovered.df,\"Recovered\")"
   ]
  },
  {
   "cell_type": "code",
   "execution_count": 43,
   "metadata": {
    "ExecuteTime": {
     "end_time": "2020-03-28T20:40:51.050179Z",
     "start_time": "2020-03-28T20:40:50.589Z"
    }
   },
   "outputs": [
    {
     "data": {
      "text/html": [
       "<table>\n",
       "<caption>A data.frame: 6 × 6</caption>\n",
       "<thead>\n",
       "\t<tr><th></th><th scope=col>Province.State</th><th scope=col>Country.Region</th><th scope=col>Lat</th><th scope=col>Long</th><th scope=col>Date</th><th scope=col>Confirmed</th></tr>\n",
       "\t<tr><th></th><th scope=col>&lt;fct&gt;</th><th scope=col>&lt;fct&gt;</th><th scope=col>&lt;dbl&gt;</th><th scope=col>&lt;dbl&gt;</th><th scope=col>&lt;date&gt;</th><th scope=col>&lt;int&gt;</th></tr>\n",
       "</thead>\n",
       "<tbody>\n",
       "\t<tr><th scope=row>1</th><td></td><td>Afghanistan        </td><td> 33.0000</td><td> 65.0000</td><td>2020-01-22</td><td>0</td></tr>\n",
       "\t<tr><th scope=row>2</th><td></td><td>Albania            </td><td> 41.1533</td><td> 20.1683</td><td>2020-01-22</td><td>0</td></tr>\n",
       "\t<tr><th scope=row>3</th><td></td><td>Algeria            </td><td> 28.0339</td><td>  1.6596</td><td>2020-01-22</td><td>0</td></tr>\n",
       "\t<tr><th scope=row>4</th><td></td><td>Andorra            </td><td> 42.5063</td><td>  1.5218</td><td>2020-01-22</td><td>0</td></tr>\n",
       "\t<tr><th scope=row>5</th><td></td><td>Angola             </td><td>-11.2027</td><td> 17.8739</td><td>2020-01-22</td><td>0</td></tr>\n",
       "\t<tr><th scope=row>6</th><td></td><td>Antigua and Barbuda</td><td> 17.0608</td><td>-61.7964</td><td>2020-01-22</td><td>0</td></tr>\n",
       "</tbody>\n",
       "</table>\n"
      ],
      "text/latex": [
       "A data.frame: 6 × 6\n",
       "\\begin{tabular}{r|llllll}\n",
       "  & Province.State & Country.Region & Lat & Long & Date & Confirmed\\\\\n",
       "  & <fct> & <fct> & <dbl> & <dbl> & <date> & <int>\\\\\n",
       "\\hline\n",
       "\t1 &  & Afghanistan         &  33.0000 &  65.0000 & 2020-01-22 & 0\\\\\n",
       "\t2 &  & Albania             &  41.1533 &  20.1683 & 2020-01-22 & 0\\\\\n",
       "\t3 &  & Algeria             &  28.0339 &   1.6596 & 2020-01-22 & 0\\\\\n",
       "\t4 &  & Andorra             &  42.5063 &   1.5218 & 2020-01-22 & 0\\\\\n",
       "\t5 &  & Angola              & -11.2027 &  17.8739 & 2020-01-22 & 0\\\\\n",
       "\t6 &  & Antigua and Barbuda &  17.0608 & -61.7964 & 2020-01-22 & 0\\\\\n",
       "\\end{tabular}\n"
      ],
      "text/markdown": [
       "\n",
       "A data.frame: 6 × 6\n",
       "\n",
       "| <!--/--> | Province.State &lt;fct&gt; | Country.Region &lt;fct&gt; | Lat &lt;dbl&gt; | Long &lt;dbl&gt; | Date &lt;date&gt; | Confirmed &lt;int&gt; |\n",
       "|---|---|---|---|---|---|---|\n",
       "| 1 | <!----> | Afghanistan         |  33.0000 |  65.0000 | 2020-01-22 | 0 |\n",
       "| 2 | <!----> | Albania             |  41.1533 |  20.1683 | 2020-01-22 | 0 |\n",
       "| 3 | <!----> | Algeria             |  28.0339 |   1.6596 | 2020-01-22 | 0 |\n",
       "| 4 | <!----> | Andorra             |  42.5063 |   1.5218 | 2020-01-22 | 0 |\n",
       "| 5 | <!----> | Angola              | -11.2027 |  17.8739 | 2020-01-22 | 0 |\n",
       "| 6 | <!----> | Antigua and Barbuda |  17.0608 | -61.7964 | 2020-01-22 | 0 |\n",
       "\n"
      ],
      "text/plain": [
       "  Province.State Country.Region      Lat      Long     Date       Confirmed\n",
       "1                Afghanistan          33.0000  65.0000 2020-01-22 0        \n",
       "2                Albania              41.1533  20.1683 2020-01-22 0        \n",
       "3                Algeria              28.0339   1.6596 2020-01-22 0        \n",
       "4                Andorra              42.5063   1.5218 2020-01-22 0        \n",
       "5                Angola              -11.2027  17.8739 2020-01-22 0        \n",
       "6                Antigua and Barbuda  17.0608 -61.7964 2020-01-22 0        "
      ]
     },
     "metadata": {},
     "output_type": "display_data"
    }
   ],
   "source": [
    "head(global_confirmed_vertical.df)"
   ]
  },
  {
   "cell_type": "code",
   "execution_count": 44,
   "metadata": {
    "ExecuteTime": {
     "end_time": "2020-03-28T20:40:51.094095Z",
     "start_time": "2020-03-28T20:40:50.595Z"
    }
   },
   "outputs": [
    {
     "data": {
      "text/html": [
       "<table>\n",
       "<caption>A data.frame: 6 × 6</caption>\n",
       "<thead>\n",
       "\t<tr><th></th><th scope=col>Province.State</th><th scope=col>Country.Region</th><th scope=col>Lat</th><th scope=col>Long</th><th scope=col>Date</th><th scope=col>Recovered</th></tr>\n",
       "\t<tr><th></th><th scope=col>&lt;fct&gt;</th><th scope=col>&lt;fct&gt;</th><th scope=col>&lt;dbl&gt;</th><th scope=col>&lt;dbl&gt;</th><th scope=col>&lt;date&gt;</th><th scope=col>&lt;int&gt;</th></tr>\n",
       "</thead>\n",
       "<tbody>\n",
       "\t<tr><th scope=row>1</th><td></td><td>Afghanistan        </td><td> 33.0000</td><td> 65.0000</td><td>2020-01-22</td><td>0</td></tr>\n",
       "\t<tr><th scope=row>2</th><td></td><td>Albania            </td><td> 41.1533</td><td> 20.1683</td><td>2020-01-22</td><td>0</td></tr>\n",
       "\t<tr><th scope=row>3</th><td></td><td>Algeria            </td><td> 28.0339</td><td>  1.6596</td><td>2020-01-22</td><td>0</td></tr>\n",
       "\t<tr><th scope=row>4</th><td></td><td>Andorra            </td><td> 42.5063</td><td>  1.5218</td><td>2020-01-22</td><td>0</td></tr>\n",
       "\t<tr><th scope=row>5</th><td></td><td>Angola             </td><td>-11.2027</td><td> 17.8739</td><td>2020-01-22</td><td>0</td></tr>\n",
       "\t<tr><th scope=row>6</th><td></td><td>Antigua and Barbuda</td><td> 17.0608</td><td>-61.7964</td><td>2020-01-22</td><td>0</td></tr>\n",
       "</tbody>\n",
       "</table>\n"
      ],
      "text/latex": [
       "A data.frame: 6 × 6\n",
       "\\begin{tabular}{r|llllll}\n",
       "  & Province.State & Country.Region & Lat & Long & Date & Recovered\\\\\n",
       "  & <fct> & <fct> & <dbl> & <dbl> & <date> & <int>\\\\\n",
       "\\hline\n",
       "\t1 &  & Afghanistan         &  33.0000 &  65.0000 & 2020-01-22 & 0\\\\\n",
       "\t2 &  & Albania             &  41.1533 &  20.1683 & 2020-01-22 & 0\\\\\n",
       "\t3 &  & Algeria             &  28.0339 &   1.6596 & 2020-01-22 & 0\\\\\n",
       "\t4 &  & Andorra             &  42.5063 &   1.5218 & 2020-01-22 & 0\\\\\n",
       "\t5 &  & Angola              & -11.2027 &  17.8739 & 2020-01-22 & 0\\\\\n",
       "\t6 &  & Antigua and Barbuda &  17.0608 & -61.7964 & 2020-01-22 & 0\\\\\n",
       "\\end{tabular}\n"
      ],
      "text/markdown": [
       "\n",
       "A data.frame: 6 × 6\n",
       "\n",
       "| <!--/--> | Province.State &lt;fct&gt; | Country.Region &lt;fct&gt; | Lat &lt;dbl&gt; | Long &lt;dbl&gt; | Date &lt;date&gt; | Recovered &lt;int&gt; |\n",
       "|---|---|---|---|---|---|---|\n",
       "| 1 | <!----> | Afghanistan         |  33.0000 |  65.0000 | 2020-01-22 | 0 |\n",
       "| 2 | <!----> | Albania             |  41.1533 |  20.1683 | 2020-01-22 | 0 |\n",
       "| 3 | <!----> | Algeria             |  28.0339 |   1.6596 | 2020-01-22 | 0 |\n",
       "| 4 | <!----> | Andorra             |  42.5063 |   1.5218 | 2020-01-22 | 0 |\n",
       "| 5 | <!----> | Angola              | -11.2027 |  17.8739 | 2020-01-22 | 0 |\n",
       "| 6 | <!----> | Antigua and Barbuda |  17.0608 | -61.7964 | 2020-01-22 | 0 |\n",
       "\n"
      ],
      "text/plain": [
       "  Province.State Country.Region      Lat      Long     Date       Recovered\n",
       "1                Afghanistan          33.0000  65.0000 2020-01-22 0        \n",
       "2                Albania              41.1533  20.1683 2020-01-22 0        \n",
       "3                Algeria              28.0339   1.6596 2020-01-22 0        \n",
       "4                Andorra              42.5063   1.5218 2020-01-22 0        \n",
       "5                Angola              -11.2027  17.8739 2020-01-22 0        \n",
       "6                Antigua and Barbuda  17.0608 -61.7964 2020-01-22 0        "
      ]
     },
     "metadata": {},
     "output_type": "display_data"
    }
   ],
   "source": [
    "head(global_recovered_vertical.df)"
   ]
  },
  {
   "cell_type": "code",
   "execution_count": 45,
   "metadata": {
    "ExecuteTime": {
     "end_time": "2020-03-28T20:40:51.136958Z",
     "start_time": "2020-03-28T20:40:50.600Z"
    }
   },
   "outputs": [
    {
     "data": {
      "text/html": [
       "<table>\n",
       "<caption>A data.frame: 6 × 6</caption>\n",
       "<thead>\n",
       "\t<tr><th></th><th scope=col>Province.State</th><th scope=col>Country.Region</th><th scope=col>Lat</th><th scope=col>Long</th><th scope=col>Date</th><th scope=col>Deaths</th></tr>\n",
       "\t<tr><th></th><th scope=col>&lt;fct&gt;</th><th scope=col>&lt;fct&gt;</th><th scope=col>&lt;dbl&gt;</th><th scope=col>&lt;dbl&gt;</th><th scope=col>&lt;date&gt;</th><th scope=col>&lt;int&gt;</th></tr>\n",
       "</thead>\n",
       "<tbody>\n",
       "\t<tr><th scope=row>1</th><td></td><td>Afghanistan        </td><td> 33.0000</td><td> 65.0000</td><td>2020-01-22</td><td>0</td></tr>\n",
       "\t<tr><th scope=row>2</th><td></td><td>Albania            </td><td> 41.1533</td><td> 20.1683</td><td>2020-01-22</td><td>0</td></tr>\n",
       "\t<tr><th scope=row>3</th><td></td><td>Algeria            </td><td> 28.0339</td><td>  1.6596</td><td>2020-01-22</td><td>0</td></tr>\n",
       "\t<tr><th scope=row>4</th><td></td><td>Andorra            </td><td> 42.5063</td><td>  1.5218</td><td>2020-01-22</td><td>0</td></tr>\n",
       "\t<tr><th scope=row>5</th><td></td><td>Angola             </td><td>-11.2027</td><td> 17.8739</td><td>2020-01-22</td><td>0</td></tr>\n",
       "\t<tr><th scope=row>6</th><td></td><td>Antigua and Barbuda</td><td> 17.0608</td><td>-61.7964</td><td>2020-01-22</td><td>0</td></tr>\n",
       "</tbody>\n",
       "</table>\n"
      ],
      "text/latex": [
       "A data.frame: 6 × 6\n",
       "\\begin{tabular}{r|llllll}\n",
       "  & Province.State & Country.Region & Lat & Long & Date & Deaths\\\\\n",
       "  & <fct> & <fct> & <dbl> & <dbl> & <date> & <int>\\\\\n",
       "\\hline\n",
       "\t1 &  & Afghanistan         &  33.0000 &  65.0000 & 2020-01-22 & 0\\\\\n",
       "\t2 &  & Albania             &  41.1533 &  20.1683 & 2020-01-22 & 0\\\\\n",
       "\t3 &  & Algeria             &  28.0339 &   1.6596 & 2020-01-22 & 0\\\\\n",
       "\t4 &  & Andorra             &  42.5063 &   1.5218 & 2020-01-22 & 0\\\\\n",
       "\t5 &  & Angola              & -11.2027 &  17.8739 & 2020-01-22 & 0\\\\\n",
       "\t6 &  & Antigua and Barbuda &  17.0608 & -61.7964 & 2020-01-22 & 0\\\\\n",
       "\\end{tabular}\n"
      ],
      "text/markdown": [
       "\n",
       "A data.frame: 6 × 6\n",
       "\n",
       "| <!--/--> | Province.State &lt;fct&gt; | Country.Region &lt;fct&gt; | Lat &lt;dbl&gt; | Long &lt;dbl&gt; | Date &lt;date&gt; | Deaths &lt;int&gt; |\n",
       "|---|---|---|---|---|---|---|\n",
       "| 1 | <!----> | Afghanistan         |  33.0000 |  65.0000 | 2020-01-22 | 0 |\n",
       "| 2 | <!----> | Albania             |  41.1533 |  20.1683 | 2020-01-22 | 0 |\n",
       "| 3 | <!----> | Algeria             |  28.0339 |   1.6596 | 2020-01-22 | 0 |\n",
       "| 4 | <!----> | Andorra             |  42.5063 |   1.5218 | 2020-01-22 | 0 |\n",
       "| 5 | <!----> | Angola              | -11.2027 |  17.8739 | 2020-01-22 | 0 |\n",
       "| 6 | <!----> | Antigua and Barbuda |  17.0608 | -61.7964 | 2020-01-22 | 0 |\n",
       "\n"
      ],
      "text/plain": [
       "  Province.State Country.Region      Lat      Long     Date       Deaths\n",
       "1                Afghanistan          33.0000  65.0000 2020-01-22 0     \n",
       "2                Albania              41.1533  20.1683 2020-01-22 0     \n",
       "3                Algeria              28.0339   1.6596 2020-01-22 0     \n",
       "4                Andorra              42.5063   1.5218 2020-01-22 0     \n",
       "5                Angola              -11.2027  17.8739 2020-01-22 0     \n",
       "6                Antigua and Barbuda  17.0608 -61.7964 2020-01-22 0     "
      ]
     },
     "metadata": {},
     "output_type": "display_data"
    }
   ],
   "source": [
    "head(global_deaths_vertical.df)"
   ]
  },
  {
   "cell_type": "markdown",
   "metadata": {},
   "source": [
    "### Merge data"
   ]
  },
  {
   "cell_type": "code",
   "execution_count": 46,
   "metadata": {
    "ExecuteTime": {
     "end_time": "2020-03-28T20:40:51.180829Z",
     "start_time": "2020-03-28T20:40:50.648Z"
    }
   },
   "outputs": [],
   "source": [
    "global_confirmed_vertical.df[,\"Country.Region\"] <- as.character(global_confirmed_vertical.df[,\"Country.Region\"])\n",
    "global_confirmed_vertical.df[,\"Province.State\"] <- as.character(global_confirmed_vertical.df[,\"Province.State\"])\n",
    "global_deaths_vertical.df[,\"Country.Region\"] <- as.character(global_deaths_vertical.df[,\"Country.Region\"])\n",
    "global_deaths_vertical.df[,\"Province.State\"] <- as.character(global_deaths_vertical.df[,\"Province.State\"])\n",
    "global_recovered_vertical.df[,\"Country.Region\"] <- as.character(global_recovered_vertical.df[,\"Country.Region\"])\n",
    "global_recovered_vertical.df[,\"Province.State\"] <- as.character(global_recovered_vertical.df[,\"Province.State\"])"
   ]
  },
  {
   "cell_type": "code",
   "execution_count": 47,
   "metadata": {
    "ExecuteTime": {
     "end_time": "2020-03-28T20:40:51.364338Z",
     "start_time": "2020-03-28T20:40:50.651Z"
    }
   },
   "outputs": [],
   "source": [
    "# Get the list of all country / province pairs in all global dataframes (not necessarily present in all of them)\n",
    "pairs <- unique(rbind(\n",
    "        global_confirmed_vertical.df[,c(\"Country.Region\", \"Province.State\")],\n",
    "        global_deaths_vertical.df[,c(\"Country.Region\", \"Province.State\")],\n",
    "        global_recovered_vertical.df[,c(\"Country.Region\", \"Province.State\")]))\n",
    "\n",
    "global_confirmed_vertical.df <- add_missing_rows(global_confirmed_vertical.df, pairs, \"Confirmed\")\n",
    "global_deaths_vertical.df <- add_missing_rows(global_deaths_vertical.df, pairs, \"Deaths\")\n",
    "global_recovered_vertical.df <- add_missing_rows(global_recovered_vertical.df, pairs, \"Recovered\")"
   ]
  },
  {
   "cell_type": "code",
   "execution_count": 48,
   "metadata": {
    "ExecuteTime": {
     "end_time": "2020-03-28T20:40:52.444476Z",
     "start_time": "2020-03-28T20:40:50.655Z"
    }
   },
   "outputs": [],
   "source": [
    "global_merged.df <- merge(global_confirmed_vertical.df,\n",
    "      merge(global_recovered_vertical.df,global_deaths_vertical.df,\n",
    "      by=c(\"Province.State\",\"Country.Region\",\"Date\")),\n",
    "      by=c(\"Province.State\",\"Country.Region\",\"Date\"))"
   ]
  },
  {
   "cell_type": "code",
   "execution_count": 49,
   "metadata": {
    "ExecuteTime": {
     "end_time": "2020-03-28T20:40:52.478363Z",
     "start_time": "2020-03-28T20:40:50.659Z"
    }
   },
   "outputs": [
    {
     "data": {
      "text/html": [
       "TRUE"
      ],
      "text/latex": [
       "TRUE"
      ],
      "text/markdown": [
       "TRUE"
      ],
      "text/plain": [
       "[1] TRUE"
      ]
     },
     "metadata": {},
     "output_type": "display_data"
    }
   ],
   "source": [
    "\"Canada\" %in% global_merged.df$Country.Region"
   ]
  },
  {
   "cell_type": "markdown",
   "metadata": {},
   "source": [
    "## Italy\n",
    "\n",
    "### Translate columns"
   ]
  },
  {
   "cell_type": "code",
   "execution_count": 50,
   "metadata": {
    "ExecuteTime": {
     "end_time": "2020-03-28T20:40:52.567122Z",
     "start_time": "2020-03-28T20:40:50.712Z"
    }
   },
   "outputs": [
    {
     "data": {
      "text/html": [
       "<table>\n",
       "<caption>A data.frame: 6 × 18</caption>\n",
       "<thead>\n",
       "\t<tr><th></th><th scope=col>Date</th><th scope=col>Country.Region</th><th scope=col>RegionCode</th><th scope=col>Province.State</th><th scope=col>Lat</th><th scope=col>Long</th><th scope=col>HospitalizedWSymptoms</th><th scope=col>ICU</th><th scope=col>TotalHospitalized</th><th scope=col>HomeIsolation</th><th scope=col>Confirmed</th><th scope=col>DailyConfirmed</th><th scope=col>Recovered</th><th scope=col>Deaths</th><th scope=col>Total</th><th scope=col>Tests</th><th scope=col>NA</th><th scope=col>NA</th></tr>\n",
       "\t<tr><th></th><th scope=col>&lt;date&gt;</th><th scope=col>&lt;chr&gt;</th><th scope=col>&lt;int&gt;</th><th scope=col>&lt;fct&gt;</th><th scope=col>&lt;dbl&gt;</th><th scope=col>&lt;dbl&gt;</th><th scope=col>&lt;int&gt;</th><th scope=col>&lt;int&gt;</th><th scope=col>&lt;int&gt;</th><th scope=col>&lt;int&gt;</th><th scope=col>&lt;int&gt;</th><th scope=col>&lt;int&gt;</th><th scope=col>&lt;int&gt;</th><th scope=col>&lt;int&gt;</th><th scope=col>&lt;int&gt;</th><th scope=col>&lt;int&gt;</th><th scope=col>&lt;fct&gt;</th><th scope=col>&lt;fct&gt;</th></tr>\n",
       "</thead>\n",
       "<tbody>\n",
       "\t<tr><th scope=row>1</th><td>2020-02-24</td><td>Italy</td><td>13</td><td>Abruzzo       </td><td>42.35122</td><td>13.39844</td><td> 0</td><td>0</td><td> 0</td><td>0</td><td> 0</td><td> 0</td><td>0</td><td>0</td><td> 0</td><td>  5</td><td></td><td></td></tr>\n",
       "\t<tr><th scope=row>2</th><td>2020-02-24</td><td>Italy</td><td>17</td><td>Basilicata    </td><td>40.63947</td><td>15.80515</td><td> 0</td><td>0</td><td> 0</td><td>0</td><td> 0</td><td> 0</td><td>0</td><td>0</td><td> 0</td><td>  0</td><td></td><td></td></tr>\n",
       "\t<tr><th scope=row>3</th><td>2020-02-24</td><td>Italy</td><td> 4</td><td>P.A. Bolzano  </td><td>46.49933</td><td>11.35662</td><td> 0</td><td>0</td><td> 0</td><td>0</td><td> 0</td><td> 0</td><td>0</td><td>0</td><td> 0</td><td>  1</td><td></td><td></td></tr>\n",
       "\t<tr><th scope=row>4</th><td>2020-02-24</td><td>Italy</td><td>18</td><td>Calabria      </td><td>38.90598</td><td>16.59440</td><td> 0</td><td>0</td><td> 0</td><td>0</td><td> 0</td><td> 0</td><td>0</td><td>0</td><td> 0</td><td>  1</td><td></td><td></td></tr>\n",
       "\t<tr><th scope=row>5</th><td>2020-02-24</td><td>Italy</td><td>15</td><td>Campania      </td><td>40.83957</td><td>14.25085</td><td> 0</td><td>0</td><td> 0</td><td>0</td><td> 0</td><td> 0</td><td>0</td><td>0</td><td> 0</td><td> 10</td><td></td><td></td></tr>\n",
       "\t<tr><th scope=row>6</th><td>2020-02-24</td><td>Italy</td><td> 8</td><td>Emilia Romagna</td><td>44.49437</td><td>11.34172</td><td>10</td><td>2</td><td>12</td><td>6</td><td>18</td><td>18</td><td>0</td><td>0</td><td>18</td><td>148</td><td></td><td></td></tr>\n",
       "</tbody>\n",
       "</table>\n"
      ],
      "text/latex": [
       "A data.frame: 6 × 18\n",
       "\\begin{tabular}{r|llllllllllllllllll}\n",
       "  & Date & Country.Region & RegionCode & Province.State & Lat & Long & HospitalizedWSymptoms & ICU & TotalHospitalized & HomeIsolation & Confirmed & DailyConfirmed & Recovered & Deaths & Total & Tests & NA & NA\\\\\n",
       "  & <date> & <chr> & <int> & <fct> & <dbl> & <dbl> & <int> & <int> & <int> & <int> & <int> & <int> & <int> & <int> & <int> & <int> & <fct> & <fct>\\\\\n",
       "\\hline\n",
       "\t1 & 2020-02-24 & Italy & 13 & Abruzzo        & 42.35122 & 13.39844 &  0 & 0 &  0 & 0 &  0 &  0 & 0 & 0 &  0 &   5 &  & \\\\\n",
       "\t2 & 2020-02-24 & Italy & 17 & Basilicata     & 40.63947 & 15.80515 &  0 & 0 &  0 & 0 &  0 &  0 & 0 & 0 &  0 &   0 &  & \\\\\n",
       "\t3 & 2020-02-24 & Italy &  4 & P.A. Bolzano   & 46.49933 & 11.35662 &  0 & 0 &  0 & 0 &  0 &  0 & 0 & 0 &  0 &   1 &  & \\\\\n",
       "\t4 & 2020-02-24 & Italy & 18 & Calabria       & 38.90598 & 16.59440 &  0 & 0 &  0 & 0 &  0 &  0 & 0 & 0 &  0 &   1 &  & \\\\\n",
       "\t5 & 2020-02-24 & Italy & 15 & Campania       & 40.83957 & 14.25085 &  0 & 0 &  0 & 0 &  0 &  0 & 0 & 0 &  0 &  10 &  & \\\\\n",
       "\t6 & 2020-02-24 & Italy &  8 & Emilia Romagna & 44.49437 & 11.34172 & 10 & 2 & 12 & 6 & 18 & 18 & 0 & 0 & 18 & 148 &  & \\\\\n",
       "\\end{tabular}\n"
      ],
      "text/markdown": [
       "\n",
       "A data.frame: 6 × 18\n",
       "\n",
       "| <!--/--> | Date &lt;date&gt; | Country.Region &lt;chr&gt; | RegionCode &lt;int&gt; | Province.State &lt;fct&gt; | Lat &lt;dbl&gt; | Long &lt;dbl&gt; | HospitalizedWSymptoms &lt;int&gt; | ICU &lt;int&gt; | TotalHospitalized &lt;int&gt; | HomeIsolation &lt;int&gt; | Confirmed &lt;int&gt; | DailyConfirmed &lt;int&gt; | Recovered &lt;int&gt; | Deaths &lt;int&gt; | Total &lt;int&gt; | Tests &lt;int&gt; | NA &lt;fct&gt; | NA &lt;fct&gt; |\n",
       "|---|---|---|---|---|---|---|---|---|---|---|---|---|---|---|---|---|---|---|\n",
       "| 1 | 2020-02-24 | Italy | 13 | Abruzzo        | 42.35122 | 13.39844 |  0 | 0 |  0 | 0 |  0 |  0 | 0 | 0 |  0 |   5 | <!----> | <!----> |\n",
       "| 2 | 2020-02-24 | Italy | 17 | Basilicata     | 40.63947 | 15.80515 |  0 | 0 |  0 | 0 |  0 |  0 | 0 | 0 |  0 |   0 | <!----> | <!----> |\n",
       "| 3 | 2020-02-24 | Italy |  4 | P.A. Bolzano   | 46.49933 | 11.35662 |  0 | 0 |  0 | 0 |  0 |  0 | 0 | 0 |  0 |   1 | <!----> | <!----> |\n",
       "| 4 | 2020-02-24 | Italy | 18 | Calabria       | 38.90598 | 16.59440 |  0 | 0 |  0 | 0 |  0 |  0 | 0 | 0 |  0 |   1 | <!----> | <!----> |\n",
       "| 5 | 2020-02-24 | Italy | 15 | Campania       | 40.83957 | 14.25085 |  0 | 0 |  0 | 0 |  0 |  0 | 0 | 0 |  0 |  10 | <!----> | <!----> |\n",
       "| 6 | 2020-02-24 | Italy |  8 | Emilia Romagna | 44.49437 | 11.34172 | 10 | 2 | 12 | 6 | 18 | 18 | 0 | 0 | 18 | 148 | <!----> | <!----> |\n",
       "\n"
      ],
      "text/plain": [
       "  Date       Country.Region RegionCode Province.State Lat      Long    \n",
       "1 2020-02-24 Italy          13         Abruzzo        42.35122 13.39844\n",
       "2 2020-02-24 Italy          17         Basilicata     40.63947 15.80515\n",
       "3 2020-02-24 Italy           4         P.A. Bolzano   46.49933 11.35662\n",
       "4 2020-02-24 Italy          18         Calabria       38.90598 16.59440\n",
       "5 2020-02-24 Italy          15         Campania       40.83957 14.25085\n",
       "6 2020-02-24 Italy           8         Emilia Romagna 44.49437 11.34172\n",
       "  HospitalizedWSymptoms ICU TotalHospitalized HomeIsolation Confirmed\n",
       "1  0                    0    0                0              0       \n",
       "2  0                    0    0                0              0       \n",
       "3  0                    0    0                0              0       \n",
       "4  0                    0    0                0              0       \n",
       "5  0                    0    0                0              0       \n",
       "6 10                    2   12                6             18       \n",
       "  DailyConfirmed Recovered Deaths Total Tests <NA> <NA>\n",
       "1  0             0         0       0      5            \n",
       "2  0             0         0       0      0            \n",
       "3  0             0         0       0      1            \n",
       "4  0             0         0       0      1            \n",
       "5  0             0         0       0     10            \n",
       "6 18             0         0      18    148            "
      ]
     },
     "metadata": {},
     "output_type": "display_data"
    }
   ],
   "source": [
    "colnames(italy.df) <- c(\"Date\",\"Country.Region\",\"RegionCode\",\"Province.State\",\"Lat\",\"Long\",\"HospitalizedWSymptoms\",\"ICU\",\"TotalHospitalized\",\"HomeIsolation\",\"Confirmed\",\"DailyConfirmed\",\"Recovered\",\"Deaths\",\"Total\",\"Tests\")\n",
    "italy.df$Country.Region <- \"Italy\"\n",
    "italy.df$Date <- as.Date(italy.df$Date)\n",
    "head(italy.df)"
   ]
  },
  {
   "cell_type": "markdown",
   "metadata": {},
   "source": [
    "### Rearrange columns and drop useless columns"
   ]
  },
  {
   "cell_type": "code",
   "execution_count": 51,
   "metadata": {
    "ExecuteTime": {
     "end_time": "2020-03-28T20:40:52.596046Z",
     "start_time": "2020-03-28T20:40:50.763Z"
    }
   },
   "outputs": [],
   "source": [
    "italy.df <- italy.df[,c(4,2,5,6,1,11,13,14,7,8,9,10,12,15,16)]"
   ]
  },
  {
   "cell_type": "markdown",
   "metadata": {},
   "source": [
    "### Merge with global dataset and fill with NA"
   ]
  },
  {
   "cell_type": "code",
   "execution_count": 52,
   "metadata": {
    "ExecuteTime": {
     "end_time": "2020-03-28T20:40:52.637933Z",
     "start_time": "2020-03-28T20:40:50.808Z"
    }
   },
   "outputs": [],
   "source": [
    "output.df <- rbind.fill(italy.df,global_merged.df)"
   ]
  },
  {
   "cell_type": "markdown",
   "metadata": {},
   "source": [
    "### Sort data by date and then by country in alphabetic order"
   ]
  },
  {
   "cell_type": "code",
   "execution_count": 53,
   "metadata": {
    "ExecuteTime": {
     "end_time": "2020-03-28T20:40:52.767586Z",
     "start_time": "2020-03-28T20:40:50.860Z"
    }
   },
   "outputs": [
    {
     "data": {
      "text/html": [
       "<table>\n",
       "<caption>A data.frame: 6 × 19</caption>\n",
       "<thead>\n",
       "\t<tr><th></th><th scope=col>Province.State</th><th scope=col>Country.Region</th><th scope=col>Lat</th><th scope=col>Long</th><th scope=col>Date</th><th scope=col>Confirmed</th><th scope=col>Recovered</th><th scope=col>Deaths</th><th scope=col>HospitalizedWSymptoms</th><th scope=col>ICU</th><th scope=col>TotalHospitalized</th><th scope=col>HomeIsolation</th><th scope=col>DailyConfirmed</th><th scope=col>Total</th><th scope=col>Tests</th><th scope=col>Lat.x</th><th scope=col>Long.x</th><th scope=col>Lat.y</th><th scope=col>Long.y</th></tr>\n",
       "\t<tr><th></th><th scope=col>&lt;chr&gt;</th><th scope=col>&lt;chr&gt;</th><th scope=col>&lt;dbl&gt;</th><th scope=col>&lt;dbl&gt;</th><th scope=col>&lt;date&gt;</th><th scope=col>&lt;int&gt;</th><th scope=col>&lt;int&gt;</th><th scope=col>&lt;int&gt;</th><th scope=col>&lt;int&gt;</th><th scope=col>&lt;int&gt;</th><th scope=col>&lt;int&gt;</th><th scope=col>&lt;int&gt;</th><th scope=col>&lt;int&gt;</th><th scope=col>&lt;int&gt;</th><th scope=col>&lt;int&gt;</th><th scope=col>&lt;dbl&gt;</th><th scope=col>&lt;dbl&gt;</th><th scope=col>&lt;dbl&gt;</th><th scope=col>&lt;dbl&gt;</th></tr>\n",
       "</thead>\n",
       "<tbody>\n",
       "\t<tr><th scope=row>715</th><td></td><td>Afghanistan</td><td>33</td><td>65</td><td>2020-01-22</td><td>0</td><td>0</td><td>0</td><td>NA</td><td>NA</td><td>NA</td><td>NA</td><td>NA</td><td>NA</td><td>NA</td><td>33</td><td>65</td><td>33</td><td>65</td></tr>\n",
       "\t<tr><th scope=row>716</th><td></td><td>Afghanistan</td><td>33</td><td>65</td><td>2020-01-23</td><td>0</td><td>0</td><td>0</td><td>NA</td><td>NA</td><td>NA</td><td>NA</td><td>NA</td><td>NA</td><td>NA</td><td>33</td><td>65</td><td>33</td><td>65</td></tr>\n",
       "\t<tr><th scope=row>717</th><td></td><td>Afghanistan</td><td>33</td><td>65</td><td>2020-01-24</td><td>0</td><td>0</td><td>0</td><td>NA</td><td>NA</td><td>NA</td><td>NA</td><td>NA</td><td>NA</td><td>NA</td><td>33</td><td>65</td><td>33</td><td>65</td></tr>\n",
       "\t<tr><th scope=row>718</th><td></td><td>Afghanistan</td><td>33</td><td>65</td><td>2020-01-25</td><td>0</td><td>0</td><td>0</td><td>NA</td><td>NA</td><td>NA</td><td>NA</td><td>NA</td><td>NA</td><td>NA</td><td>33</td><td>65</td><td>33</td><td>65</td></tr>\n",
       "\t<tr><th scope=row>719</th><td></td><td>Afghanistan</td><td>33</td><td>65</td><td>2020-01-26</td><td>0</td><td>0</td><td>0</td><td>NA</td><td>NA</td><td>NA</td><td>NA</td><td>NA</td><td>NA</td><td>NA</td><td>33</td><td>65</td><td>33</td><td>65</td></tr>\n",
       "\t<tr><th scope=row>720</th><td></td><td>Afghanistan</td><td>33</td><td>65</td><td>2020-01-27</td><td>0</td><td>0</td><td>0</td><td>NA</td><td>NA</td><td>NA</td><td>NA</td><td>NA</td><td>NA</td><td>NA</td><td>33</td><td>65</td><td>33</td><td>65</td></tr>\n",
       "</tbody>\n",
       "</table>\n"
      ],
      "text/latex": [
       "A data.frame: 6 × 19\n",
       "\\begin{tabular}{r|lllllllllllllllllll}\n",
       "  & Province.State & Country.Region & Lat & Long & Date & Confirmed & Recovered & Deaths & HospitalizedWSymptoms & ICU & TotalHospitalized & HomeIsolation & DailyConfirmed & Total & Tests & Lat.x & Long.x & Lat.y & Long.y\\\\\n",
       "  & <chr> & <chr> & <dbl> & <dbl> & <date> & <int> & <int> & <int> & <int> & <int> & <int> & <int> & <int> & <int> & <int> & <dbl> & <dbl> & <dbl> & <dbl>\\\\\n",
       "\\hline\n",
       "\t715 &  & Afghanistan & 33 & 65 & 2020-01-22 & 0 & 0 & 0 & NA & NA & NA & NA & NA & NA & NA & 33 & 65 & 33 & 65\\\\\n",
       "\t716 &  & Afghanistan & 33 & 65 & 2020-01-23 & 0 & 0 & 0 & NA & NA & NA & NA & NA & NA & NA & 33 & 65 & 33 & 65\\\\\n",
       "\t717 &  & Afghanistan & 33 & 65 & 2020-01-24 & 0 & 0 & 0 & NA & NA & NA & NA & NA & NA & NA & 33 & 65 & 33 & 65\\\\\n",
       "\t718 &  & Afghanistan & 33 & 65 & 2020-01-25 & 0 & 0 & 0 & NA & NA & NA & NA & NA & NA & NA & 33 & 65 & 33 & 65\\\\\n",
       "\t719 &  & Afghanistan & 33 & 65 & 2020-01-26 & 0 & 0 & 0 & NA & NA & NA & NA & NA & NA & NA & 33 & 65 & 33 & 65\\\\\n",
       "\t720 &  & Afghanistan & 33 & 65 & 2020-01-27 & 0 & 0 & 0 & NA & NA & NA & NA & NA & NA & NA & 33 & 65 & 33 & 65\\\\\n",
       "\\end{tabular}\n"
      ],
      "text/markdown": [
       "\n",
       "A data.frame: 6 × 19\n",
       "\n",
       "| <!--/--> | Province.State &lt;chr&gt; | Country.Region &lt;chr&gt; | Lat &lt;dbl&gt; | Long &lt;dbl&gt; | Date &lt;date&gt; | Confirmed &lt;int&gt; | Recovered &lt;int&gt; | Deaths &lt;int&gt; | HospitalizedWSymptoms &lt;int&gt; | ICU &lt;int&gt; | TotalHospitalized &lt;int&gt; | HomeIsolation &lt;int&gt; | DailyConfirmed &lt;int&gt; | Total &lt;int&gt; | Tests &lt;int&gt; | Lat.x &lt;dbl&gt; | Long.x &lt;dbl&gt; | Lat.y &lt;dbl&gt; | Long.y &lt;dbl&gt; |\n",
       "|---|---|---|---|---|---|---|---|---|---|---|---|---|---|---|---|---|---|---|---|\n",
       "| 715 | <!----> | Afghanistan | 33 | 65 | 2020-01-22 | 0 | 0 | 0 | NA | NA | NA | NA | NA | NA | NA | 33 | 65 | 33 | 65 |\n",
       "| 716 | <!----> | Afghanistan | 33 | 65 | 2020-01-23 | 0 | 0 | 0 | NA | NA | NA | NA | NA | NA | NA | 33 | 65 | 33 | 65 |\n",
       "| 717 | <!----> | Afghanistan | 33 | 65 | 2020-01-24 | 0 | 0 | 0 | NA | NA | NA | NA | NA | NA | NA | 33 | 65 | 33 | 65 |\n",
       "| 718 | <!----> | Afghanistan | 33 | 65 | 2020-01-25 | 0 | 0 | 0 | NA | NA | NA | NA | NA | NA | NA | 33 | 65 | 33 | 65 |\n",
       "| 719 | <!----> | Afghanistan | 33 | 65 | 2020-01-26 | 0 | 0 | 0 | NA | NA | NA | NA | NA | NA | NA | 33 | 65 | 33 | 65 |\n",
       "| 720 | <!----> | Afghanistan | 33 | 65 | 2020-01-27 | 0 | 0 | 0 | NA | NA | NA | NA | NA | NA | NA | 33 | 65 | 33 | 65 |\n",
       "\n"
      ],
      "text/plain": [
       "    Province.State Country.Region Lat Long Date       Confirmed Recovered\n",
       "715                Afghanistan    33  65   2020-01-22 0         0        \n",
       "716                Afghanistan    33  65   2020-01-23 0         0        \n",
       "717                Afghanistan    33  65   2020-01-24 0         0        \n",
       "718                Afghanistan    33  65   2020-01-25 0         0        \n",
       "719                Afghanistan    33  65   2020-01-26 0         0        \n",
       "720                Afghanistan    33  65   2020-01-27 0         0        \n",
       "    Deaths HospitalizedWSymptoms ICU TotalHospitalized HomeIsolation\n",
       "715 0      NA                    NA  NA                NA           \n",
       "716 0      NA                    NA  NA                NA           \n",
       "717 0      NA                    NA  NA                NA           \n",
       "718 0      NA                    NA  NA                NA           \n",
       "719 0      NA                    NA  NA                NA           \n",
       "720 0      NA                    NA  NA                NA           \n",
       "    DailyConfirmed Total Tests Lat.x Long.x Lat.y Long.y\n",
       "715 NA             NA    NA    33    65     33    65    \n",
       "716 NA             NA    NA    33    65     33    65    \n",
       "717 NA             NA    NA    33    65     33    65    \n",
       "718 NA             NA    NA    33    65     33    65    \n",
       "719 NA             NA    NA    33    65     33    65    \n",
       "720 NA             NA    NA    33    65     33    65    "
      ]
     },
     "metadata": {},
     "output_type": "display_data"
    }
   ],
   "source": [
    "output.df <- output.df[order(output.df$Country.Region, output.df$Date),]\n",
    "head(output.df)"
   ]
  },
  {
   "cell_type": "code",
   "execution_count": 54,
   "metadata": {
    "ExecuteTime": {
     "end_time": "2020-03-28T20:40:52.860338Z",
     "start_time": "2020-03-28T20:40:50.864Z"
    }
   },
   "outputs": [],
   "source": [
    "saveRDS(output.df, \"data/COVID19_Global_Italy.Rdata\", version = 2)"
   ]
  },
  {
   "cell_type": "markdown",
   "metadata": {},
   "source": [
    "## Preprocess extra country data"
   ]
  },
  {
   "cell_type": "code",
   "execution_count": 20,
   "metadata": {
    "ExecuteTime": {
     "end_time": "2020-03-28T20:40:52.911203Z",
     "start_time": "2020-03-28T20:40:50.905Z"
    }
   },
   "outputs": [],
   "source": [
    "restrictions.df <- read.csv(\"data/Kaggle_CountryInfo/restrictions_columnwise_updated.csv\")\n",
    "countryinfo.df <- read.csv(\"data/Kaggle_CountryInfo/covid19countryinfo.csv\")"
   ]
  },
  {
   "cell_type": "markdown",
   "metadata": {},
   "source": [
    "### Rename columns for consistency"
   ]
  },
  {
   "cell_type": "code",
   "execution_count": 21,
   "metadata": {
    "ExecuteTime": {
     "end_time": "2020-03-28T20:40:53.086760Z",
     "start_time": "2020-03-28T20:40:50.964Z"
    }
   },
   "outputs": [],
   "source": [
    "names(restrictions.df)[names(restrictions.df) == \"Date.Public.Places\"] <- \"Date.Public Places\"\n",
    "names(restrictions.df)[names(restrictions.df) == \"Date.Stay.at.Home\"] <- \"Date.Stay at Home\"\n",
    "names(restrictions.df)[names(restrictions.df) == \"Date.Non.essential\"] <- \"Date.Non-essential\"\n",
    "names(restrictions.df)[names(restrictions.df) == \"notes\"] <- \"Notes\"\n",
    "names(countryinfo.df)[names(countryinfo.df) == \"country\"] <- \"Country.Region\""
   ]
  },
  {
   "cell_type": "markdown",
   "metadata": {},
   "source": [
    "### Remove unused columns\n",
    "We will have this data after we merge it with restrictions.df"
   ]
  },
  {
   "cell_type": "code",
   "execution_count": 22,
   "metadata": {
    "ExecuteTime": {
     "end_time": "2020-03-28T20:40:53.129627Z",
     "start_time": "2020-03-28T20:40:51.015Z"
    }
   },
   "outputs": [],
   "source": [
    "countryinfo.df[c(\"quarantine\", \"schools\", \"restrictions\")] <- NULL\n",
    "restrictions.df[c(\"Notes\", \"Gatherings.limit\")] <- NULL"
   ]
  },
  {
   "cell_type": "markdown",
   "metadata": {},
   "source": [
    "### Convert all date column to proper R date type"
   ]
  },
  {
   "cell_type": "code",
   "execution_count": 23,
   "metadata": {},
   "outputs": [],
   "source": [
    "for (colname in c(\"Date.Schools\", \"Date.Public Places\", \"Date.Gatherings\", \"Date.Stay at Home\", \"Date.Lockdown\", \"Date.Non-essential\")) {\n",
    "    dates <- as.character(restrictions.df[,colname])\n",
    "    dates[dates == \"\"] <- NA\n",
    "    restrictions.df[,colname] <- as.Date(dates)\n",
    "}"
   ]
  },
  {
   "cell_type": "markdown",
   "metadata": {},
   "source": [
    "### Various other small fixes"
   ]
  },
  {
   "cell_type": "code",
   "execution_count": 24,
   "metadata": {},
   "outputs": [],
   "source": [
    "for (col in names(restrictions.df)) {\n",
    "  if (is.factor(restrictions.df[,col]))\n",
    "    restrictions.df[,col] <- as.character(restrictions.df[,col])\n",
    "}\n",
    "countryinfo.df$pop <- as.numeric(countryinfo.df$pop)\n",
    "\n",
    "restrictions.df[restrictions.df$Country.Region == restrictions.df$Province.State, \"Province.State\"] <- \"\""
   ]
  },
  {
   "cell_type": "markdown",
   "metadata": {},
   "source": [
    "### Merge country extra data and lockdown dates"
   ]
  },
  {
   "cell_type": "markdown",
   "metadata": {},
   "source": [
    "We have two sources of data for stay at home / lockdown dates, we will keep in priority the ones from the online dataset."
   ]
  },
  {
   "cell_type": "code",
   "execution_count": 25,
   "metadata": {},
   "outputs": [],
   "source": [
    "restrictions.df[is.na(restrictions.df[,\"Date.Stay at Home\"]), \"Date.Stay at Home\"] <- restrictions.df[is.na(restrictions.df[,\"Date.Stay at Home\"]), \"Date.Lockdown\"]\n",
    "restrictions.df[,\"Date.Lockdown\"] <- NULL"
   ]
  },
  {
   "cell_type": "code",
   "execution_count": 26,
   "metadata": {
    "ExecuteTime": {
     "end_time": "2020-03-28T20:40:53.217731Z",
     "start_time": "2020-03-28T20:40:51.119Z"
    }
   },
   "outputs": [],
   "source": [
    "country_info_output.df <- merge(restrictions.df, countryinfo.df, by=c(\"Country.Region\"))"
   ]
  },
  {
   "cell_type": "code",
   "execution_count": 27,
   "metadata": {
    "ExecuteTime": {
     "end_time": "2020-03-28T20:40:53.276574Z",
     "start_time": "2020-03-28T20:40:51.122Z"
    }
   },
   "outputs": [],
   "source": [
    "saveRDS(country_info_output.df, \"data/COVID19_Country_Info.Rdata\", version = 2)"
   ]
  },
  {
   "cell_type": "code",
   "execution_count": null,
   "metadata": {},
   "outputs": [],
   "source": []
  }
 ],
 "metadata": {
  "kernelspec": {
   "display_name": "R",
   "language": "R",
   "name": "ir"
  },
  "language_info": {
   "codemirror_mode": "r",
   "file_extension": ".r",
   "mimetype": "text/x-r-source",
   "name": "R",
   "pygments_lexer": "r",
   "version": "3.6.3"
  },
  "latex_envs": {
   "LaTeX_envs_menu_present": true,
   "autoclose": false,
   "autocomplete": true,
   "bibliofile": "biblio.bib",
   "cite_by": "apalike",
   "current_citInitial": 1,
   "eqLabelWithNumbers": true,
   "eqNumInitial": 1,
   "hotkeys": {
    "equation": "Ctrl-E",
    "itemize": "Ctrl-I"
   },
   "labels_anchors": false,
   "latex_user_defs": false,
   "report_style_numbering": false,
   "user_envs_cfg": false
  },
  "toc": {
   "base_numbering": 1,
   "nav_menu": {},
   "number_sections": true,
   "sideBar": true,
   "skip_h1_title": false,
   "title_cell": "Table of Contents",
   "title_sidebar": "Contents",
   "toc_cell": false,
   "toc_position": {},
   "toc_section_display": true,
   "toc_window_display": false
  },
  "varInspector": {
   "cols": {
    "lenName": 16,
    "lenType": 16,
    "lenVar": 40
   },
   "kernels_config": {
    "python": {
     "delete_cmd_postfix": "",
     "delete_cmd_prefix": "del ",
     "library": "var_list.py",
     "varRefreshCmd": "print(var_dic_list())"
    },
    "r": {
     "delete_cmd_postfix": ") ",
     "delete_cmd_prefix": "rm(",
     "library": "var_list.r",
     "varRefreshCmd": "cat(var_dic_list()) "
    }
   },
   "types_to_exclude": [
    "module",
    "function",
    "builtin_function_or_method",
    "instance",
    "_Feature"
   ],
   "window_display": false
  }
 },
 "nbformat": 4,
 "nbformat_minor": 2
}
