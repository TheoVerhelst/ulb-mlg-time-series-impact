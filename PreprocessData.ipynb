{
 "cells": [
  {
   "cell_type": "markdown",
   "metadata": {},
   "source": [
    "# Preprocess Raw Data"
   ]
  },
  {
   "cell_type": "code",
   "execution_count": 93,
   "metadata": {
    "ExecuteTime": {
     "end_time": "2020-03-27T21:04:45.788051Z",
     "start_time": "2020-03-27T21:04:45.704Z"
    }
   },
   "outputs": [
    {
     "name": "stderr",
     "output_type": "stream",
     "text": [
      "------------------------------------------------------------------------------\n",
      "\n",
      "You have loaded plyr after dplyr - this is likely to cause problems.\n",
      "If you need functions from both plyr and dplyr, please load plyr first, then dplyr:\n",
      "library(plyr); library(dplyr)\n",
      "\n",
      "------------------------------------------------------------------------------\n",
      "\n",
      "\n",
      "Attaching package: 'plyr'\n",
      "\n",
      "\n",
      "The following objects are masked from 'package:dplyr':\n",
      "\n",
      "    arrange, count, desc, failwith, id, mutate, rename, summarise,\n",
      "    summarize\n",
      "\n",
      "\n",
      "The following objects are masked from 'package:reshape':\n",
      "\n",
      "    rename, round_any\n",
      "\n",
      "\n"
     ]
    }
   ],
   "source": [
    "library(reshape)\n",
    "library(plyr)"
   ]
  },
  {
   "cell_type": "code",
   "execution_count": 76,
   "metadata": {
    "ExecuteTime": {
     "end_time": "2020-03-27T20:48:13.534048Z",
     "start_time": "2020-03-27T20:48:13.504Z"
    }
   },
   "outputs": [],
   "source": [
    "horizontaldf2verticaldf <- function(horizontal.df,value_column_name){\n",
    "    colnames(horizontal.df) <- c(c(\"Province.State\",\"Country.Region\",\"Lat\",\"Long\"),seq(as.Date(\"2020-01-22\"), length = ncol(global_recovered.df)-4, by = \"days\"))\n",
    "    vertical.df <- melt(horizontal.df,\n",
    "             id=c(\"Province.State\",\"Country.Region\",\"Lat\",\"Long\"))\n",
    "    colnames(vertical.df) <- c(c(\"Province.State\",\"Country.Region\",\"Lat\",\"Long\"),\"Date\",value_column_name)\n",
    "    vertical.df$Date <- as.Date(as.integer(vertical.df$Date),origin=\"21/01/2020\", format=\"%d/%m/%Y\")\n",
    "    return(vertical.df)\n",
    "}"
   ]
  },
  {
   "cell_type": "markdown",
   "metadata": {},
   "source": [
    "## Read data"
   ]
  },
  {
   "cell_type": "code",
   "execution_count": 114,
   "metadata": {
    "ExecuteTime": {
     "end_time": "2020-03-27T21:22:39.958209Z",
     "start_time": "2020-03-27T21:22:39.935Z"
    }
   },
   "outputs": [],
   "source": [
    "italy.df <- read.csv(\"data/Italy/dpc-covid19-ita-regioni-latest.csv\")"
   ]
  },
  {
   "cell_type": "code",
   "execution_count": 71,
   "metadata": {
    "ExecuteTime": {
     "end_time": "2020-03-27T20:46:23.526081Z",
     "start_time": "2020-03-27T20:46:23.476Z"
    }
   },
   "outputs": [],
   "source": [
    "global_confirmed.df <- read.csv(\"data/Global_JohnsHopkins/time_series_covid19_confirmed_global.csv\")\n",
    "global_deaths.df <- read.csv(\"data/Global_JohnsHopkins/time_series_covid19_deaths_global.csv\")\n",
    "global_recovered.df <- read.csv(\"data/Global_JohnsHopkins/time_series_covid19_recovered_global.csv\")"
   ]
  },
  {
   "cell_type": "markdown",
   "metadata": {},
   "source": [
    "## Check data structure"
   ]
  },
  {
   "cell_type": "code",
   "execution_count": 3,
   "metadata": {
    "ExecuteTime": {
     "end_time": "2020-03-27T19:57:37.843867Z",
     "start_time": "2020-03-27T19:57:37.771Z"
    }
   },
   "outputs": [
    {
     "data": {
      "text/html": [
       "<table>\n",
       "<caption>A data.frame: 6 × 18</caption>\n",
       "<thead>\n",
       "\t<tr><th></th><th scope=col>data</th><th scope=col>stato</th><th scope=col>codice_regione</th><th scope=col>denominazione_regione</th><th scope=col>lat</th><th scope=col>long</th><th scope=col>ricoverati_con_sintomi</th><th scope=col>terapia_intensiva</th><th scope=col>totale_ospedalizzati</th><th scope=col>isolamento_domiciliare</th><th scope=col>totale_attualmente_positivi</th><th scope=col>nuovi_attualmente_positivi</th><th scope=col>dimessi_guariti</th><th scope=col>deceduti</th><th scope=col>totale_casi</th><th scope=col>tamponi</th><th scope=col>note_it</th><th scope=col>note_en</th></tr>\n",
       "\t<tr><th></th><th scope=col>&lt;fct&gt;</th><th scope=col>&lt;fct&gt;</th><th scope=col>&lt;int&gt;</th><th scope=col>&lt;fct&gt;</th><th scope=col>&lt;dbl&gt;</th><th scope=col>&lt;dbl&gt;</th><th scope=col>&lt;int&gt;</th><th scope=col>&lt;int&gt;</th><th scope=col>&lt;int&gt;</th><th scope=col>&lt;int&gt;</th><th scope=col>&lt;int&gt;</th><th scope=col>&lt;int&gt;</th><th scope=col>&lt;int&gt;</th><th scope=col>&lt;int&gt;</th><th scope=col>&lt;int&gt;</th><th scope=col>&lt;int&gt;</th><th scope=col>&lt;lgl&gt;</th><th scope=col>&lt;lgl&gt;</th></tr>\n",
       "</thead>\n",
       "<tbody>\n",
       "\t<tr><th scope=row>1</th><td>2020-03-27T17:00:00</td><td>ITA</td><td>13</td><td>Abruzzo       </td><td>42.35122</td><td>13.39844</td><td> 289</td><td> 71</td><td> 360</td><td> 565</td><td> 925</td><td> 65</td><td> 24</td><td>  68</td><td> 1017</td><td> 6109</td><td>NA</td><td>NA</td></tr>\n",
       "\t<tr><th scope=row>2</th><td>2020-03-27T17:00:00</td><td>ITA</td><td>17</td><td>Basilicata    </td><td>40.63947</td><td>15.80515</td><td>  22</td><td> 15</td><td>  37</td><td> 110</td><td> 147</td><td> 14</td><td>  1</td><td>   3</td><td>  151</td><td> 1254</td><td>NA</td><td>NA</td></tr>\n",
       "\t<tr><th scope=row>3</th><td>2020-03-27T17:00:00</td><td>ITA</td><td> 4</td><td>P.A. Bolzano  </td><td>46.49933</td><td>11.35662</td><td> 249</td><td> 45</td><td> 294</td><td> 539</td><td> 833</td><td> 42</td><td>110</td><td>  60</td><td> 1003</td><td> 8520</td><td>NA</td><td>NA</td></tr>\n",
       "\t<tr><th scope=row>4</th><td>2020-03-27T17:00:00</td><td>ITA</td><td>18</td><td>Calabria      </td><td>38.90598</td><td>16.59440</td><td> 103</td><td> 22</td><td> 125</td><td> 344</td><td> 469</td><td> 97</td><td>  7</td><td>  18</td><td>  494</td><td> 6901</td><td>NA</td><td>NA</td></tr>\n",
       "\t<tr><th scope=row>5</th><td>2020-03-27T17:00:00</td><td>ITA</td><td>15</td><td>Campania      </td><td>40.83957</td><td>14.25085</td><td> 456</td><td>113</td><td> 569</td><td> 723</td><td>1292</td><td>123</td><td> 64</td><td>  98</td><td> 1454</td><td> 9613</td><td>NA</td><td>NA</td></tr>\n",
       "\t<tr><th scope=row>6</th><td>2020-03-27T17:00:00</td><td>ITA</td><td> 8</td><td>Emilia Romagna</td><td>44.49437</td><td>11.34172</td><td>3461</td><td>308</td><td>3769</td><td>5592</td><td>9361</td><td>511</td><td>960</td><td>1267</td><td>11588</td><td>47798</td><td>NA</td><td>NA</td></tr>\n",
       "</tbody>\n",
       "</table>\n"
      ],
      "text/latex": [
       "A data.frame: 6 × 18\n",
       "\\begin{tabular}{r|llllllllllllllllll}\n",
       "  & data & stato & codice\\_regione & denominazione\\_regione & lat & long & ricoverati\\_con\\_sintomi & terapia\\_intensiva & totale\\_ospedalizzati & isolamento\\_domiciliare & totale\\_attualmente\\_positivi & nuovi\\_attualmente\\_positivi & dimessi\\_guariti & deceduti & totale\\_casi & tamponi & note\\_it & note\\_en\\\\\n",
       "  & <fct> & <fct> & <int> & <fct> & <dbl> & <dbl> & <int> & <int> & <int> & <int> & <int> & <int> & <int> & <int> & <int> & <int> & <lgl> & <lgl>\\\\\n",
       "\\hline\n",
       "\t1 & 2020-03-27T17:00:00 & ITA & 13 & Abruzzo        & 42.35122 & 13.39844 &  289 &  71 &  360 &  565 &  925 &  65 &  24 &   68 &  1017 &  6109 & NA & NA\\\\\n",
       "\t2 & 2020-03-27T17:00:00 & ITA & 17 & Basilicata     & 40.63947 & 15.80515 &   22 &  15 &   37 &  110 &  147 &  14 &   1 &    3 &   151 &  1254 & NA & NA\\\\\n",
       "\t3 & 2020-03-27T17:00:00 & ITA &  4 & P.A. Bolzano   & 46.49933 & 11.35662 &  249 &  45 &  294 &  539 &  833 &  42 & 110 &   60 &  1003 &  8520 & NA & NA\\\\\n",
       "\t4 & 2020-03-27T17:00:00 & ITA & 18 & Calabria       & 38.90598 & 16.59440 &  103 &  22 &  125 &  344 &  469 &  97 &   7 &   18 &   494 &  6901 & NA & NA\\\\\n",
       "\t5 & 2020-03-27T17:00:00 & ITA & 15 & Campania       & 40.83957 & 14.25085 &  456 & 113 &  569 &  723 & 1292 & 123 &  64 &   98 &  1454 &  9613 & NA & NA\\\\\n",
       "\t6 & 2020-03-27T17:00:00 & ITA &  8 & Emilia Romagna & 44.49437 & 11.34172 & 3461 & 308 & 3769 & 5592 & 9361 & 511 & 960 & 1267 & 11588 & 47798 & NA & NA\\\\\n",
       "\\end{tabular}\n"
      ],
      "text/markdown": [
       "\n",
       "A data.frame: 6 × 18\n",
       "\n",
       "| <!--/--> | data &lt;fct&gt; | stato &lt;fct&gt; | codice_regione &lt;int&gt; | denominazione_regione &lt;fct&gt; | lat &lt;dbl&gt; | long &lt;dbl&gt; | ricoverati_con_sintomi &lt;int&gt; | terapia_intensiva &lt;int&gt; | totale_ospedalizzati &lt;int&gt; | isolamento_domiciliare &lt;int&gt; | totale_attualmente_positivi &lt;int&gt; | nuovi_attualmente_positivi &lt;int&gt; | dimessi_guariti &lt;int&gt; | deceduti &lt;int&gt; | totale_casi &lt;int&gt; | tamponi &lt;int&gt; | note_it &lt;lgl&gt; | note_en &lt;lgl&gt; |\n",
       "|---|---|---|---|---|---|---|---|---|---|---|---|---|---|---|---|---|---|---|\n",
       "| 1 | 2020-03-27T17:00:00 | ITA | 13 | Abruzzo        | 42.35122 | 13.39844 |  289 |  71 |  360 |  565 |  925 |  65 |  24 |   68 |  1017 |  6109 | NA | NA |\n",
       "| 2 | 2020-03-27T17:00:00 | ITA | 17 | Basilicata     | 40.63947 | 15.80515 |   22 |  15 |   37 |  110 |  147 |  14 |   1 |    3 |   151 |  1254 | NA | NA |\n",
       "| 3 | 2020-03-27T17:00:00 | ITA |  4 | P.A. Bolzano   | 46.49933 | 11.35662 |  249 |  45 |  294 |  539 |  833 |  42 | 110 |   60 |  1003 |  8520 | NA | NA |\n",
       "| 4 | 2020-03-27T17:00:00 | ITA | 18 | Calabria       | 38.90598 | 16.59440 |  103 |  22 |  125 |  344 |  469 |  97 |   7 |   18 |   494 |  6901 | NA | NA |\n",
       "| 5 | 2020-03-27T17:00:00 | ITA | 15 | Campania       | 40.83957 | 14.25085 |  456 | 113 |  569 |  723 | 1292 | 123 |  64 |   98 |  1454 |  9613 | NA | NA |\n",
       "| 6 | 2020-03-27T17:00:00 | ITA |  8 | Emilia Romagna | 44.49437 | 11.34172 | 3461 | 308 | 3769 | 5592 | 9361 | 511 | 960 | 1267 | 11588 | 47798 | NA | NA |\n",
       "\n"
      ],
      "text/plain": [
       "  data                stato codice_regione denominazione_regione lat     \n",
       "1 2020-03-27T17:00:00 ITA   13             Abruzzo               42.35122\n",
       "2 2020-03-27T17:00:00 ITA   17             Basilicata            40.63947\n",
       "3 2020-03-27T17:00:00 ITA    4             P.A. Bolzano          46.49933\n",
       "4 2020-03-27T17:00:00 ITA   18             Calabria              38.90598\n",
       "5 2020-03-27T17:00:00 ITA   15             Campania              40.83957\n",
       "6 2020-03-27T17:00:00 ITA    8             Emilia Romagna        44.49437\n",
       "  long     ricoverati_con_sintomi terapia_intensiva totale_ospedalizzati\n",
       "1 13.39844  289                    71                360                \n",
       "2 15.80515   22                    15                 37                \n",
       "3 11.35662  249                    45                294                \n",
       "4 16.59440  103                    22                125                \n",
       "5 14.25085  456                   113                569                \n",
       "6 11.34172 3461                   308               3769                \n",
       "  isolamento_domiciliare totale_attualmente_positivi nuovi_attualmente_positivi\n",
       "1  565                    925                         65                       \n",
       "2  110                    147                         14                       \n",
       "3  539                    833                         42                       \n",
       "4  344                    469                         97                       \n",
       "5  723                   1292                        123                       \n",
       "6 5592                   9361                        511                       \n",
       "  dimessi_guariti deceduti totale_casi tamponi note_it note_en\n",
       "1  24               68      1017        6109   NA      NA     \n",
       "2   1                3       151        1254   NA      NA     \n",
       "3 110               60      1003        8520   NA      NA     \n",
       "4   7               18       494        6901   NA      NA     \n",
       "5  64               98      1454        9613   NA      NA     \n",
       "6 960             1267     11588       47798   NA      NA     "
      ]
     },
     "metadata": {},
     "output_type": "display_data"
    }
   ],
   "source": [
    "head(italy.df)"
   ]
  },
  {
   "cell_type": "code",
   "execution_count": 4,
   "metadata": {
    "ExecuteTime": {
     "end_time": "2020-03-27T19:57:56.795267Z",
     "start_time": "2020-03-27T19:57:56.732Z"
    }
   },
   "outputs": [
    {
     "data": {
      "text/html": [
       "<table>\n",
       "<caption>A data.frame: 6 × 69</caption>\n",
       "<thead>\n",
       "\t<tr><th></th><th scope=col>Province.State</th><th scope=col>Country.Region</th><th scope=col>Lat</th><th scope=col>Long</th><th scope=col>X1.22.20</th><th scope=col>X1.23.20</th><th scope=col>X1.24.20</th><th scope=col>X1.25.20</th><th scope=col>X1.26.20</th><th scope=col>X1.27.20</th><th scope=col>...</th><th scope=col>X3.17.20</th><th scope=col>X3.18.20</th><th scope=col>X3.19.20</th><th scope=col>X3.20.20</th><th scope=col>X3.21.20</th><th scope=col>X3.22.20</th><th scope=col>X3.23.20</th><th scope=col>X3.24.20</th><th scope=col>X3.25.20</th><th scope=col>X3.26.20</th></tr>\n",
       "\t<tr><th></th><th scope=col>&lt;fct&gt;</th><th scope=col>&lt;fct&gt;</th><th scope=col>&lt;dbl&gt;</th><th scope=col>&lt;dbl&gt;</th><th scope=col>&lt;int&gt;</th><th scope=col>&lt;int&gt;</th><th scope=col>&lt;int&gt;</th><th scope=col>&lt;int&gt;</th><th scope=col>&lt;int&gt;</th><th scope=col>&lt;int&gt;</th><th scope=col>...</th><th scope=col>&lt;int&gt;</th><th scope=col>&lt;int&gt;</th><th scope=col>&lt;int&gt;</th><th scope=col>&lt;int&gt;</th><th scope=col>&lt;int&gt;</th><th scope=col>&lt;int&gt;</th><th scope=col>&lt;int&gt;</th><th scope=col>&lt;int&gt;</th><th scope=col>&lt;int&gt;</th><th scope=col>&lt;int&gt;</th></tr>\n",
       "</thead>\n",
       "<tbody>\n",
       "\t<tr><th scope=row>1</th><td></td><td>Afghanistan        </td><td> 33.0000</td><td> 65.0000</td><td>0</td><td>0</td><td>0</td><td>0</td><td>0</td><td>0</td><td>...</td><td>22</td><td>22</td><td>22</td><td>24</td><td> 24</td><td> 40</td><td> 40</td><td> 74</td><td> 84</td><td> 94</td></tr>\n",
       "\t<tr><th scope=row>2</th><td></td><td>Albania            </td><td> 41.1533</td><td> 20.1683</td><td>0</td><td>0</td><td>0</td><td>0</td><td>0</td><td>0</td><td>...</td><td>55</td><td>59</td><td>64</td><td>70</td><td> 76</td><td> 89</td><td>104</td><td>123</td><td>146</td><td>174</td></tr>\n",
       "\t<tr><th scope=row>3</th><td></td><td>Algeria            </td><td> 28.0339</td><td>  1.6596</td><td>0</td><td>0</td><td>0</td><td>0</td><td>0</td><td>0</td><td>...</td><td>60</td><td>74</td><td>87</td><td>90</td><td>139</td><td>201</td><td>230</td><td>264</td><td>302</td><td>367</td></tr>\n",
       "\t<tr><th scope=row>4</th><td></td><td>Andorra            </td><td> 42.5063</td><td>  1.5218</td><td>0</td><td>0</td><td>0</td><td>0</td><td>0</td><td>0</td><td>...</td><td>39</td><td>39</td><td>53</td><td>75</td><td> 88</td><td>113</td><td>133</td><td>164</td><td>188</td><td>224</td></tr>\n",
       "\t<tr><th scope=row>5</th><td></td><td>Angola             </td><td>-11.2027</td><td> 17.8739</td><td>0</td><td>0</td><td>0</td><td>0</td><td>0</td><td>0</td><td>...</td><td> 0</td><td> 0</td><td> 0</td><td> 1</td><td>  2</td><td>  2</td><td>  3</td><td>  3</td><td>  3</td><td>  4</td></tr>\n",
       "\t<tr><th scope=row>6</th><td></td><td>Antigua and Barbuda</td><td> 17.0608</td><td>-61.7964</td><td>0</td><td>0</td><td>0</td><td>0</td><td>0</td><td>0</td><td>...</td><td> 1</td><td> 1</td><td> 1</td><td> 1</td><td>  1</td><td>  1</td><td>  3</td><td>  3</td><td>  3</td><td>  7</td></tr>\n",
       "</tbody>\n",
       "</table>\n"
      ],
      "text/latex": [
       "A data.frame: 6 × 69\n",
       "\\begin{tabular}{r|lllllllllllllllllllll}\n",
       "  & Province.State & Country.Region & Lat & Long & X1.22.20 & X1.23.20 & X1.24.20 & X1.25.20 & X1.26.20 & X1.27.20 & ... & X3.17.20 & X3.18.20 & X3.19.20 & X3.20.20 & X3.21.20 & X3.22.20 & X3.23.20 & X3.24.20 & X3.25.20 & X3.26.20\\\\\n",
       "  & <fct> & <fct> & <dbl> & <dbl> & <int> & <int> & <int> & <int> & <int> & <int> & ... & <int> & <int> & <int> & <int> & <int> & <int> & <int> & <int> & <int> & <int>\\\\\n",
       "\\hline\n",
       "\t1 &  & Afghanistan         &  33.0000 &  65.0000 & 0 & 0 & 0 & 0 & 0 & 0 & ... & 22 & 22 & 22 & 24 &  24 &  40 &  40 &  74 &  84 &  94\\\\\n",
       "\t2 &  & Albania             &  41.1533 &  20.1683 & 0 & 0 & 0 & 0 & 0 & 0 & ... & 55 & 59 & 64 & 70 &  76 &  89 & 104 & 123 & 146 & 174\\\\\n",
       "\t3 &  & Algeria             &  28.0339 &   1.6596 & 0 & 0 & 0 & 0 & 0 & 0 & ... & 60 & 74 & 87 & 90 & 139 & 201 & 230 & 264 & 302 & 367\\\\\n",
       "\t4 &  & Andorra             &  42.5063 &   1.5218 & 0 & 0 & 0 & 0 & 0 & 0 & ... & 39 & 39 & 53 & 75 &  88 & 113 & 133 & 164 & 188 & 224\\\\\n",
       "\t5 &  & Angola              & -11.2027 &  17.8739 & 0 & 0 & 0 & 0 & 0 & 0 & ... &  0 &  0 &  0 &  1 &   2 &   2 &   3 &   3 &   3 &   4\\\\\n",
       "\t6 &  & Antigua and Barbuda &  17.0608 & -61.7964 & 0 & 0 & 0 & 0 & 0 & 0 & ... &  1 &  1 &  1 &  1 &   1 &   1 &   3 &   3 &   3 &   7\\\\\n",
       "\\end{tabular}\n"
      ],
      "text/markdown": [
       "\n",
       "A data.frame: 6 × 69\n",
       "\n",
       "| <!--/--> | Province.State &lt;fct&gt; | Country.Region &lt;fct&gt; | Lat &lt;dbl&gt; | Long &lt;dbl&gt; | X1.22.20 &lt;int&gt; | X1.23.20 &lt;int&gt; | X1.24.20 &lt;int&gt; | X1.25.20 &lt;int&gt; | X1.26.20 &lt;int&gt; | X1.27.20 &lt;int&gt; | ... ... | X3.17.20 &lt;int&gt; | X3.18.20 &lt;int&gt; | X3.19.20 &lt;int&gt; | X3.20.20 &lt;int&gt; | X3.21.20 &lt;int&gt; | X3.22.20 &lt;int&gt; | X3.23.20 &lt;int&gt; | X3.24.20 &lt;int&gt; | X3.25.20 &lt;int&gt; | X3.26.20 &lt;int&gt; |\n",
       "|---|---|---|---|---|---|---|---|---|---|---|---|---|---|---|---|---|---|---|---|---|---|\n",
       "| 1 | <!----> | Afghanistan         |  33.0000 |  65.0000 | 0 | 0 | 0 | 0 | 0 | 0 | ... | 22 | 22 | 22 | 24 |  24 |  40 |  40 |  74 |  84 |  94 |\n",
       "| 2 | <!----> | Albania             |  41.1533 |  20.1683 | 0 | 0 | 0 | 0 | 0 | 0 | ... | 55 | 59 | 64 | 70 |  76 |  89 | 104 | 123 | 146 | 174 |\n",
       "| 3 | <!----> | Algeria             |  28.0339 |   1.6596 | 0 | 0 | 0 | 0 | 0 | 0 | ... | 60 | 74 | 87 | 90 | 139 | 201 | 230 | 264 | 302 | 367 |\n",
       "| 4 | <!----> | Andorra             |  42.5063 |   1.5218 | 0 | 0 | 0 | 0 | 0 | 0 | ... | 39 | 39 | 53 | 75 |  88 | 113 | 133 | 164 | 188 | 224 |\n",
       "| 5 | <!----> | Angola              | -11.2027 |  17.8739 | 0 | 0 | 0 | 0 | 0 | 0 | ... |  0 |  0 |  0 |  1 |   2 |   2 |   3 |   3 |   3 |   4 |\n",
       "| 6 | <!----> | Antigua and Barbuda |  17.0608 | -61.7964 | 0 | 0 | 0 | 0 | 0 | 0 | ... |  1 |  1 |  1 |  1 |   1 |   1 |   3 |   3 |   3 |   7 |\n",
       "\n"
      ],
      "text/plain": [
       "  Province.State Country.Region      Lat      Long     X1.22.20 X1.23.20\n",
       "1                Afghanistan          33.0000  65.0000 0        0       \n",
       "2                Albania              41.1533  20.1683 0        0       \n",
       "3                Algeria              28.0339   1.6596 0        0       \n",
       "4                Andorra              42.5063   1.5218 0        0       \n",
       "5                Angola              -11.2027  17.8739 0        0       \n",
       "6                Antigua and Barbuda  17.0608 -61.7964 0        0       \n",
       "  X1.24.20 X1.25.20 X1.26.20 X1.27.20 ... X3.17.20 X3.18.20 X3.19.20 X3.20.20\n",
       "1 0        0        0        0        ... 22       22       22       24      \n",
       "2 0        0        0        0        ... 55       59       64       70      \n",
       "3 0        0        0        0        ... 60       74       87       90      \n",
       "4 0        0        0        0        ... 39       39       53       75      \n",
       "5 0        0        0        0        ...  0        0        0        1      \n",
       "6 0        0        0        0        ...  1        1        1        1      \n",
       "  X3.21.20 X3.22.20 X3.23.20 X3.24.20 X3.25.20 X3.26.20\n",
       "1  24       40       40       74       84       94     \n",
       "2  76       89      104      123      146      174     \n",
       "3 139      201      230      264      302      367     \n",
       "4  88      113      133      164      188      224     \n",
       "5   2        2        3        3        3        4     \n",
       "6   1        1        3        3        3        7     "
      ]
     },
     "metadata": {},
     "output_type": "display_data"
    }
   ],
   "source": [
    "head(global_confirmed.df)"
   ]
  },
  {
   "cell_type": "code",
   "execution_count": 6,
   "metadata": {
    "ExecuteTime": {
     "end_time": "2020-03-27T19:58:44.110768Z",
     "start_time": "2020-03-27T19:58:44.047Z"
    }
   },
   "outputs": [
    {
     "data": {
      "text/html": [
       "<table>\n",
       "<caption>A data.frame: 6 × 69</caption>\n",
       "<thead>\n",
       "\t<tr><th></th><th scope=col>Province.State</th><th scope=col>Country.Region</th><th scope=col>Lat</th><th scope=col>Long</th><th scope=col>X1.22.20</th><th scope=col>X1.23.20</th><th scope=col>X1.24.20</th><th scope=col>X1.25.20</th><th scope=col>X1.26.20</th><th scope=col>X1.27.20</th><th scope=col>...</th><th scope=col>X3.17.20</th><th scope=col>X3.18.20</th><th scope=col>X3.19.20</th><th scope=col>X3.20.20</th><th scope=col>X3.21.20</th><th scope=col>X3.22.20</th><th scope=col>X3.23.20</th><th scope=col>X3.24.20</th><th scope=col>X3.25.20</th><th scope=col>X3.26.20</th></tr>\n",
       "\t<tr><th></th><th scope=col>&lt;fct&gt;</th><th scope=col>&lt;fct&gt;</th><th scope=col>&lt;dbl&gt;</th><th scope=col>&lt;dbl&gt;</th><th scope=col>&lt;int&gt;</th><th scope=col>&lt;int&gt;</th><th scope=col>&lt;int&gt;</th><th scope=col>&lt;int&gt;</th><th scope=col>&lt;int&gt;</th><th scope=col>&lt;int&gt;</th><th scope=col>...</th><th scope=col>&lt;int&gt;</th><th scope=col>&lt;int&gt;</th><th scope=col>&lt;int&gt;</th><th scope=col>&lt;int&gt;</th><th scope=col>&lt;int&gt;</th><th scope=col>&lt;int&gt;</th><th scope=col>&lt;int&gt;</th><th scope=col>&lt;int&gt;</th><th scope=col>&lt;int&gt;</th><th scope=col>&lt;int&gt;</th></tr>\n",
       "</thead>\n",
       "<tbody>\n",
       "\t<tr><th scope=row>1</th><td></td><td>Afghanistan        </td><td> 33.0000</td><td> 65.0000</td><td>0</td><td>0</td><td>0</td><td>0</td><td>0</td><td>0</td><td>...</td><td>0</td><td>0</td><td>0</td><td> 0</td><td> 0</td><td> 1</td><td> 1</td><td> 1</td><td> 2</td><td> 4</td></tr>\n",
       "\t<tr><th scope=row>2</th><td></td><td>Albania            </td><td> 41.1533</td><td> 20.1683</td><td>0</td><td>0</td><td>0</td><td>0</td><td>0</td><td>0</td><td>...</td><td>1</td><td>2</td><td>2</td><td> 2</td><td> 2</td><td> 2</td><td> 4</td><td> 5</td><td> 5</td><td> 6</td></tr>\n",
       "\t<tr><th scope=row>3</th><td></td><td>Algeria            </td><td> 28.0339</td><td>  1.6596</td><td>0</td><td>0</td><td>0</td><td>0</td><td>0</td><td>0</td><td>...</td><td>4</td><td>7</td><td>9</td><td>11</td><td>15</td><td>17</td><td>17</td><td>19</td><td>21</td><td>25</td></tr>\n",
       "\t<tr><th scope=row>4</th><td></td><td>Andorra            </td><td> 42.5063</td><td>  1.5218</td><td>0</td><td>0</td><td>0</td><td>0</td><td>0</td><td>0</td><td>...</td><td>0</td><td>0</td><td>0</td><td> 0</td><td> 0</td><td> 1</td><td> 1</td><td> 1</td><td> 1</td><td> 3</td></tr>\n",
       "\t<tr><th scope=row>5</th><td></td><td>Angola             </td><td>-11.2027</td><td> 17.8739</td><td>0</td><td>0</td><td>0</td><td>0</td><td>0</td><td>0</td><td>...</td><td>0</td><td>0</td><td>0</td><td> 0</td><td> 0</td><td> 0</td><td> 0</td><td> 0</td><td> 0</td><td> 0</td></tr>\n",
       "\t<tr><th scope=row>6</th><td></td><td>Antigua and Barbuda</td><td> 17.0608</td><td>-61.7964</td><td>0</td><td>0</td><td>0</td><td>0</td><td>0</td><td>0</td><td>...</td><td>0</td><td>0</td><td>0</td><td> 0</td><td> 0</td><td> 0</td><td> 0</td><td> 0</td><td> 0</td><td> 0</td></tr>\n",
       "</tbody>\n",
       "</table>\n"
      ],
      "text/latex": [
       "A data.frame: 6 × 69\n",
       "\\begin{tabular}{r|lllllllllllllllllllll}\n",
       "  & Province.State & Country.Region & Lat & Long & X1.22.20 & X1.23.20 & X1.24.20 & X1.25.20 & X1.26.20 & X1.27.20 & ... & X3.17.20 & X3.18.20 & X3.19.20 & X3.20.20 & X3.21.20 & X3.22.20 & X3.23.20 & X3.24.20 & X3.25.20 & X3.26.20\\\\\n",
       "  & <fct> & <fct> & <dbl> & <dbl> & <int> & <int> & <int> & <int> & <int> & <int> & ... & <int> & <int> & <int> & <int> & <int> & <int> & <int> & <int> & <int> & <int>\\\\\n",
       "\\hline\n",
       "\t1 &  & Afghanistan         &  33.0000 &  65.0000 & 0 & 0 & 0 & 0 & 0 & 0 & ... & 0 & 0 & 0 &  0 &  0 &  1 &  1 &  1 &  2 &  4\\\\\n",
       "\t2 &  & Albania             &  41.1533 &  20.1683 & 0 & 0 & 0 & 0 & 0 & 0 & ... & 1 & 2 & 2 &  2 &  2 &  2 &  4 &  5 &  5 &  6\\\\\n",
       "\t3 &  & Algeria             &  28.0339 &   1.6596 & 0 & 0 & 0 & 0 & 0 & 0 & ... & 4 & 7 & 9 & 11 & 15 & 17 & 17 & 19 & 21 & 25\\\\\n",
       "\t4 &  & Andorra             &  42.5063 &   1.5218 & 0 & 0 & 0 & 0 & 0 & 0 & ... & 0 & 0 & 0 &  0 &  0 &  1 &  1 &  1 &  1 &  3\\\\\n",
       "\t5 &  & Angola              & -11.2027 &  17.8739 & 0 & 0 & 0 & 0 & 0 & 0 & ... & 0 & 0 & 0 &  0 &  0 &  0 &  0 &  0 &  0 &  0\\\\\n",
       "\t6 &  & Antigua and Barbuda &  17.0608 & -61.7964 & 0 & 0 & 0 & 0 & 0 & 0 & ... & 0 & 0 & 0 &  0 &  0 &  0 &  0 &  0 &  0 &  0\\\\\n",
       "\\end{tabular}\n"
      ],
      "text/markdown": [
       "\n",
       "A data.frame: 6 × 69\n",
       "\n",
       "| <!--/--> | Province.State &lt;fct&gt; | Country.Region &lt;fct&gt; | Lat &lt;dbl&gt; | Long &lt;dbl&gt; | X1.22.20 &lt;int&gt; | X1.23.20 &lt;int&gt; | X1.24.20 &lt;int&gt; | X1.25.20 &lt;int&gt; | X1.26.20 &lt;int&gt; | X1.27.20 &lt;int&gt; | ... ... | X3.17.20 &lt;int&gt; | X3.18.20 &lt;int&gt; | X3.19.20 &lt;int&gt; | X3.20.20 &lt;int&gt; | X3.21.20 &lt;int&gt; | X3.22.20 &lt;int&gt; | X3.23.20 &lt;int&gt; | X3.24.20 &lt;int&gt; | X3.25.20 &lt;int&gt; | X3.26.20 &lt;int&gt; |\n",
       "|---|---|---|---|---|---|---|---|---|---|---|---|---|---|---|---|---|---|---|---|---|---|\n",
       "| 1 | <!----> | Afghanistan         |  33.0000 |  65.0000 | 0 | 0 | 0 | 0 | 0 | 0 | ... | 0 | 0 | 0 |  0 |  0 |  1 |  1 |  1 |  2 |  4 |\n",
       "| 2 | <!----> | Albania             |  41.1533 |  20.1683 | 0 | 0 | 0 | 0 | 0 | 0 | ... | 1 | 2 | 2 |  2 |  2 |  2 |  4 |  5 |  5 |  6 |\n",
       "| 3 | <!----> | Algeria             |  28.0339 |   1.6596 | 0 | 0 | 0 | 0 | 0 | 0 | ... | 4 | 7 | 9 | 11 | 15 | 17 | 17 | 19 | 21 | 25 |\n",
       "| 4 | <!----> | Andorra             |  42.5063 |   1.5218 | 0 | 0 | 0 | 0 | 0 | 0 | ... | 0 | 0 | 0 |  0 |  0 |  1 |  1 |  1 |  1 |  3 |\n",
       "| 5 | <!----> | Angola              | -11.2027 |  17.8739 | 0 | 0 | 0 | 0 | 0 | 0 | ... | 0 | 0 | 0 |  0 |  0 |  0 |  0 |  0 |  0 |  0 |\n",
       "| 6 | <!----> | Antigua and Barbuda |  17.0608 | -61.7964 | 0 | 0 | 0 | 0 | 0 | 0 | ... | 0 | 0 | 0 |  0 |  0 |  0 |  0 |  0 |  0 |  0 |\n",
       "\n"
      ],
      "text/plain": [
       "  Province.State Country.Region      Lat      Long     X1.22.20 X1.23.20\n",
       "1                Afghanistan          33.0000  65.0000 0        0       \n",
       "2                Albania              41.1533  20.1683 0        0       \n",
       "3                Algeria              28.0339   1.6596 0        0       \n",
       "4                Andorra              42.5063   1.5218 0        0       \n",
       "5                Angola              -11.2027  17.8739 0        0       \n",
       "6                Antigua and Barbuda  17.0608 -61.7964 0        0       \n",
       "  X1.24.20 X1.25.20 X1.26.20 X1.27.20 ... X3.17.20 X3.18.20 X3.19.20 X3.20.20\n",
       "1 0        0        0        0        ... 0        0        0         0      \n",
       "2 0        0        0        0        ... 1        2        2         2      \n",
       "3 0        0        0        0        ... 4        7        9        11      \n",
       "4 0        0        0        0        ... 0        0        0         0      \n",
       "5 0        0        0        0        ... 0        0        0         0      \n",
       "6 0        0        0        0        ... 0        0        0         0      \n",
       "  X3.21.20 X3.22.20 X3.23.20 X3.24.20 X3.25.20 X3.26.20\n",
       "1  0        1        1        1        2        4      \n",
       "2  2        2        4        5        5        6      \n",
       "3 15       17       17       19       21       25      \n",
       "4  0        1        1        1        1        3      \n",
       "5  0        0        0        0        0        0      \n",
       "6  0        0        0        0        0        0      "
      ]
     },
     "metadata": {},
     "output_type": "display_data"
    }
   ],
   "source": [
    "head(global_deaths.df)"
   ]
  },
  {
   "cell_type": "code",
   "execution_count": 5,
   "metadata": {
    "ExecuteTime": {
     "end_time": "2020-03-27T19:58:42.343227Z",
     "start_time": "2020-03-27T19:58:42.301Z"
    }
   },
   "outputs": [
    {
     "data": {
      "text/html": [
       "<table>\n",
       "<caption>A data.frame: 6 × 69</caption>\n",
       "<thead>\n",
       "\t<tr><th></th><th scope=col>Province.State</th><th scope=col>Country.Region</th><th scope=col>Lat</th><th scope=col>Long</th><th scope=col>X1.22.20</th><th scope=col>X1.23.20</th><th scope=col>X1.24.20</th><th scope=col>X1.25.20</th><th scope=col>X1.26.20</th><th scope=col>X1.27.20</th><th scope=col>...</th><th scope=col>X3.17.20</th><th scope=col>X3.18.20</th><th scope=col>X3.19.20</th><th scope=col>X3.20.20</th><th scope=col>X3.21.20</th><th scope=col>X3.22.20</th><th scope=col>X3.23.20</th><th scope=col>X3.24.20</th><th scope=col>X3.25.20</th><th scope=col>X3.26.20</th></tr>\n",
       "\t<tr><th></th><th scope=col>&lt;fct&gt;</th><th scope=col>&lt;fct&gt;</th><th scope=col>&lt;dbl&gt;</th><th scope=col>&lt;dbl&gt;</th><th scope=col>&lt;int&gt;</th><th scope=col>&lt;int&gt;</th><th scope=col>&lt;int&gt;</th><th scope=col>&lt;int&gt;</th><th scope=col>&lt;int&gt;</th><th scope=col>&lt;int&gt;</th><th scope=col>...</th><th scope=col>&lt;int&gt;</th><th scope=col>&lt;int&gt;</th><th scope=col>&lt;int&gt;</th><th scope=col>&lt;int&gt;</th><th scope=col>&lt;int&gt;</th><th scope=col>&lt;int&gt;</th><th scope=col>&lt;int&gt;</th><th scope=col>&lt;int&gt;</th><th scope=col>&lt;int&gt;</th><th scope=col>&lt;int&gt;</th></tr>\n",
       "</thead>\n",
       "<tbody>\n",
       "\t<tr><th scope=row>1</th><td></td><td>Afghanistan        </td><td> 33.0000</td><td> 65.0000</td><td>0</td><td>0</td><td>0</td><td>0</td><td>0</td><td>0</td><td>...</td><td> 1</td><td> 1</td><td> 1</td><td> 1</td><td> 1</td><td> 1</td><td> 1</td><td> 1</td><td> 2</td><td> 2</td></tr>\n",
       "\t<tr><th scope=row>2</th><td></td><td>Albania            </td><td> 41.1533</td><td> 20.1683</td><td>0</td><td>0</td><td>0</td><td>0</td><td>0</td><td>0</td><td>...</td><td> 0</td><td> 0</td><td> 0</td><td> 0</td><td> 2</td><td> 2</td><td> 2</td><td>10</td><td>17</td><td>17</td></tr>\n",
       "\t<tr><th scope=row>3</th><td></td><td>Algeria            </td><td> 28.0339</td><td>  1.6596</td><td>0</td><td>0</td><td>0</td><td>0</td><td>0</td><td>0</td><td>...</td><td>12</td><td>12</td><td>32</td><td>32</td><td>32</td><td>65</td><td>65</td><td>24</td><td>65</td><td>29</td></tr>\n",
       "\t<tr><th scope=row>4</th><td></td><td>Andorra            </td><td> 42.5063</td><td>  1.5218</td><td>0</td><td>0</td><td>0</td><td>0</td><td>0</td><td>0</td><td>...</td><td> 1</td><td> 1</td><td> 1</td><td> 1</td><td> 1</td><td> 1</td><td> 1</td><td> 1</td><td> 1</td><td> 1</td></tr>\n",
       "\t<tr><th scope=row>5</th><td></td><td>Angola             </td><td>-11.2027</td><td> 17.8739</td><td>0</td><td>0</td><td>0</td><td>0</td><td>0</td><td>0</td><td>...</td><td> 0</td><td> 0</td><td> 0</td><td> 0</td><td> 0</td><td> 0</td><td> 0</td><td> 0</td><td> 0</td><td> 0</td></tr>\n",
       "\t<tr><th scope=row>6</th><td></td><td>Antigua and Barbuda</td><td> 17.0608</td><td>-61.7964</td><td>0</td><td>0</td><td>0</td><td>0</td><td>0</td><td>0</td><td>...</td><td> 0</td><td> 0</td><td> 0</td><td> 0</td><td> 0</td><td> 0</td><td> 0</td><td> 0</td><td> 0</td><td> 0</td></tr>\n",
       "</tbody>\n",
       "</table>\n"
      ],
      "text/latex": [
       "A data.frame: 6 × 69\n",
       "\\begin{tabular}{r|lllllllllllllllllllll}\n",
       "  & Province.State & Country.Region & Lat & Long & X1.22.20 & X1.23.20 & X1.24.20 & X1.25.20 & X1.26.20 & X1.27.20 & ... & X3.17.20 & X3.18.20 & X3.19.20 & X3.20.20 & X3.21.20 & X3.22.20 & X3.23.20 & X3.24.20 & X3.25.20 & X3.26.20\\\\\n",
       "  & <fct> & <fct> & <dbl> & <dbl> & <int> & <int> & <int> & <int> & <int> & <int> & ... & <int> & <int> & <int> & <int> & <int> & <int> & <int> & <int> & <int> & <int>\\\\\n",
       "\\hline\n",
       "\t1 &  & Afghanistan         &  33.0000 &  65.0000 & 0 & 0 & 0 & 0 & 0 & 0 & ... &  1 &  1 &  1 &  1 &  1 &  1 &  1 &  1 &  2 &  2\\\\\n",
       "\t2 &  & Albania             &  41.1533 &  20.1683 & 0 & 0 & 0 & 0 & 0 & 0 & ... &  0 &  0 &  0 &  0 &  2 &  2 &  2 & 10 & 17 & 17\\\\\n",
       "\t3 &  & Algeria             &  28.0339 &   1.6596 & 0 & 0 & 0 & 0 & 0 & 0 & ... & 12 & 12 & 32 & 32 & 32 & 65 & 65 & 24 & 65 & 29\\\\\n",
       "\t4 &  & Andorra             &  42.5063 &   1.5218 & 0 & 0 & 0 & 0 & 0 & 0 & ... &  1 &  1 &  1 &  1 &  1 &  1 &  1 &  1 &  1 &  1\\\\\n",
       "\t5 &  & Angola              & -11.2027 &  17.8739 & 0 & 0 & 0 & 0 & 0 & 0 & ... &  0 &  0 &  0 &  0 &  0 &  0 &  0 &  0 &  0 &  0\\\\\n",
       "\t6 &  & Antigua and Barbuda &  17.0608 & -61.7964 & 0 & 0 & 0 & 0 & 0 & 0 & ... &  0 &  0 &  0 &  0 &  0 &  0 &  0 &  0 &  0 &  0\\\\\n",
       "\\end{tabular}\n"
      ],
      "text/markdown": [
       "\n",
       "A data.frame: 6 × 69\n",
       "\n",
       "| <!--/--> | Province.State &lt;fct&gt; | Country.Region &lt;fct&gt; | Lat &lt;dbl&gt; | Long &lt;dbl&gt; | X1.22.20 &lt;int&gt; | X1.23.20 &lt;int&gt; | X1.24.20 &lt;int&gt; | X1.25.20 &lt;int&gt; | X1.26.20 &lt;int&gt; | X1.27.20 &lt;int&gt; | ... ... | X3.17.20 &lt;int&gt; | X3.18.20 &lt;int&gt; | X3.19.20 &lt;int&gt; | X3.20.20 &lt;int&gt; | X3.21.20 &lt;int&gt; | X3.22.20 &lt;int&gt; | X3.23.20 &lt;int&gt; | X3.24.20 &lt;int&gt; | X3.25.20 &lt;int&gt; | X3.26.20 &lt;int&gt; |\n",
       "|---|---|---|---|---|---|---|---|---|---|---|---|---|---|---|---|---|---|---|---|---|---|\n",
       "| 1 | <!----> | Afghanistan         |  33.0000 |  65.0000 | 0 | 0 | 0 | 0 | 0 | 0 | ... |  1 |  1 |  1 |  1 |  1 |  1 |  1 |  1 |  2 |  2 |\n",
       "| 2 | <!----> | Albania             |  41.1533 |  20.1683 | 0 | 0 | 0 | 0 | 0 | 0 | ... |  0 |  0 |  0 |  0 |  2 |  2 |  2 | 10 | 17 | 17 |\n",
       "| 3 | <!----> | Algeria             |  28.0339 |   1.6596 | 0 | 0 | 0 | 0 | 0 | 0 | ... | 12 | 12 | 32 | 32 | 32 | 65 | 65 | 24 | 65 | 29 |\n",
       "| 4 | <!----> | Andorra             |  42.5063 |   1.5218 | 0 | 0 | 0 | 0 | 0 | 0 | ... |  1 |  1 |  1 |  1 |  1 |  1 |  1 |  1 |  1 |  1 |\n",
       "| 5 | <!----> | Angola              | -11.2027 |  17.8739 | 0 | 0 | 0 | 0 | 0 | 0 | ... |  0 |  0 |  0 |  0 |  0 |  0 |  0 |  0 |  0 |  0 |\n",
       "| 6 | <!----> | Antigua and Barbuda |  17.0608 | -61.7964 | 0 | 0 | 0 | 0 | 0 | 0 | ... |  0 |  0 |  0 |  0 |  0 |  0 |  0 |  0 |  0 |  0 |\n",
       "\n"
      ],
      "text/plain": [
       "  Province.State Country.Region      Lat      Long     X1.22.20 X1.23.20\n",
       "1                Afghanistan          33.0000  65.0000 0        0       \n",
       "2                Albania              41.1533  20.1683 0        0       \n",
       "3                Algeria              28.0339   1.6596 0        0       \n",
       "4                Andorra              42.5063   1.5218 0        0       \n",
       "5                Angola              -11.2027  17.8739 0        0       \n",
       "6                Antigua and Barbuda  17.0608 -61.7964 0        0       \n",
       "  X1.24.20 X1.25.20 X1.26.20 X1.27.20 ... X3.17.20 X3.18.20 X3.19.20 X3.20.20\n",
       "1 0        0        0        0        ...  1        1        1        1      \n",
       "2 0        0        0        0        ...  0        0        0        0      \n",
       "3 0        0        0        0        ... 12       12       32       32      \n",
       "4 0        0        0        0        ...  1        1        1        1      \n",
       "5 0        0        0        0        ...  0        0        0        0      \n",
       "6 0        0        0        0        ...  0        0        0        0      \n",
       "  X3.21.20 X3.22.20 X3.23.20 X3.24.20 X3.25.20 X3.26.20\n",
       "1  1        1        1        1        2        2      \n",
       "2  2        2        2       10       17       17      \n",
       "3 32       65       65       24       65       29      \n",
       "4  1        1        1        1        1        1      \n",
       "5  0        0        0        0        0        0      \n",
       "6  0        0        0        0        0        0      "
      ]
     },
     "metadata": {},
     "output_type": "display_data"
    }
   ],
   "source": [
    "head(global_recovered.df)"
   ]
  },
  {
   "cell_type": "markdown",
   "metadata": {},
   "source": [
    "## Global\n",
    "### Transform horizontal to vertical"
   ]
  },
  {
   "cell_type": "code",
   "execution_count": 77,
   "metadata": {
    "ExecuteTime": {
     "end_time": "2020-03-27T20:48:30.083739Z",
     "start_time": "2020-03-27T20:48:29.919Z"
    }
   },
   "outputs": [],
   "source": [
    "global_confirmed_vertical.df <- horizontaldf2verticaldf(global_confirmed.df,\"Confirmed\")\n",
    "global_deaths_vertical.df <- horizontaldf2verticaldf(global_deaths.df,\"Deaths\")\n",
    "global_recovered_vertical.df <- horizontaldf2verticaldf(global_recovered.df,\"Recovered\")"
   ]
  },
  {
   "cell_type": "code",
   "execution_count": 78,
   "metadata": {
    "ExecuteTime": {
     "end_time": "2020-03-27T20:48:36.422150Z",
     "start_time": "2020-03-27T20:48:36.383Z"
    }
   },
   "outputs": [
    {
     "data": {
      "text/html": [
       "<table>\n",
       "<caption>A data.frame: 6 × 6</caption>\n",
       "<thead>\n",
       "\t<tr><th></th><th scope=col>Province.State</th><th scope=col>Country.Region</th><th scope=col>Lat</th><th scope=col>Long</th><th scope=col>Date</th><th scope=col>Confirmed</th></tr>\n",
       "\t<tr><th></th><th scope=col>&lt;fct&gt;</th><th scope=col>&lt;fct&gt;</th><th scope=col>&lt;dbl&gt;</th><th scope=col>&lt;dbl&gt;</th><th scope=col>&lt;date&gt;</th><th scope=col>&lt;int&gt;</th></tr>\n",
       "</thead>\n",
       "<tbody>\n",
       "\t<tr><th scope=row>1</th><td></td><td>Afghanistan        </td><td> 33.0000</td><td> 65.0000</td><td>2020-01-22</td><td>0</td></tr>\n",
       "\t<tr><th scope=row>2</th><td></td><td>Albania            </td><td> 41.1533</td><td> 20.1683</td><td>2020-01-22</td><td>0</td></tr>\n",
       "\t<tr><th scope=row>3</th><td></td><td>Algeria            </td><td> 28.0339</td><td>  1.6596</td><td>2020-01-22</td><td>0</td></tr>\n",
       "\t<tr><th scope=row>4</th><td></td><td>Andorra            </td><td> 42.5063</td><td>  1.5218</td><td>2020-01-22</td><td>0</td></tr>\n",
       "\t<tr><th scope=row>5</th><td></td><td>Angola             </td><td>-11.2027</td><td> 17.8739</td><td>2020-01-22</td><td>0</td></tr>\n",
       "\t<tr><th scope=row>6</th><td></td><td>Antigua and Barbuda</td><td> 17.0608</td><td>-61.7964</td><td>2020-01-22</td><td>0</td></tr>\n",
       "</tbody>\n",
       "</table>\n"
      ],
      "text/latex": [
       "A data.frame: 6 × 6\n",
       "\\begin{tabular}{r|llllll}\n",
       "  & Province.State & Country.Region & Lat & Long & Date & Confirmed\\\\\n",
       "  & <fct> & <fct> & <dbl> & <dbl> & <date> & <int>\\\\\n",
       "\\hline\n",
       "\t1 &  & Afghanistan         &  33.0000 &  65.0000 & 2020-01-22 & 0\\\\\n",
       "\t2 &  & Albania             &  41.1533 &  20.1683 & 2020-01-22 & 0\\\\\n",
       "\t3 &  & Algeria             &  28.0339 &   1.6596 & 2020-01-22 & 0\\\\\n",
       "\t4 &  & Andorra             &  42.5063 &   1.5218 & 2020-01-22 & 0\\\\\n",
       "\t5 &  & Angola              & -11.2027 &  17.8739 & 2020-01-22 & 0\\\\\n",
       "\t6 &  & Antigua and Barbuda &  17.0608 & -61.7964 & 2020-01-22 & 0\\\\\n",
       "\\end{tabular}\n"
      ],
      "text/markdown": [
       "\n",
       "A data.frame: 6 × 6\n",
       "\n",
       "| <!--/--> | Province.State &lt;fct&gt; | Country.Region &lt;fct&gt; | Lat &lt;dbl&gt; | Long &lt;dbl&gt; | Date &lt;date&gt; | Confirmed &lt;int&gt; |\n",
       "|---|---|---|---|---|---|---|\n",
       "| 1 | <!----> | Afghanistan         |  33.0000 |  65.0000 | 2020-01-22 | 0 |\n",
       "| 2 | <!----> | Albania             |  41.1533 |  20.1683 | 2020-01-22 | 0 |\n",
       "| 3 | <!----> | Algeria             |  28.0339 |   1.6596 | 2020-01-22 | 0 |\n",
       "| 4 | <!----> | Andorra             |  42.5063 |   1.5218 | 2020-01-22 | 0 |\n",
       "| 5 | <!----> | Angola              | -11.2027 |  17.8739 | 2020-01-22 | 0 |\n",
       "| 6 | <!----> | Antigua and Barbuda |  17.0608 | -61.7964 | 2020-01-22 | 0 |\n",
       "\n"
      ],
      "text/plain": [
       "  Province.State Country.Region      Lat      Long     Date       Confirmed\n",
       "1                Afghanistan          33.0000  65.0000 2020-01-22 0        \n",
       "2                Albania              41.1533  20.1683 2020-01-22 0        \n",
       "3                Algeria              28.0339   1.6596 2020-01-22 0        \n",
       "4                Andorra              42.5063   1.5218 2020-01-22 0        \n",
       "5                Angola              -11.2027  17.8739 2020-01-22 0        \n",
       "6                Antigua and Barbuda  17.0608 -61.7964 2020-01-22 0        "
      ]
     },
     "metadata": {},
     "output_type": "display_data"
    }
   ],
   "source": [
    "head(global_confirmed_vertical.df)"
   ]
  },
  {
   "cell_type": "code",
   "execution_count": 79,
   "metadata": {
    "ExecuteTime": {
     "end_time": "2020-03-27T20:48:39.123432Z",
     "start_time": "2020-03-27T20:48:38.047Z"
    }
   },
   "outputs": [
    {
     "data": {
      "text/html": [
       "<table>\n",
       "<caption>A data.frame: 6 × 6</caption>\n",
       "<thead>\n",
       "\t<tr><th></th><th scope=col>Province.State</th><th scope=col>Country.Region</th><th scope=col>Lat</th><th scope=col>Long</th><th scope=col>Date</th><th scope=col>Recovered</th></tr>\n",
       "\t<tr><th></th><th scope=col>&lt;fct&gt;</th><th scope=col>&lt;fct&gt;</th><th scope=col>&lt;dbl&gt;</th><th scope=col>&lt;dbl&gt;</th><th scope=col>&lt;date&gt;</th><th scope=col>&lt;int&gt;</th></tr>\n",
       "</thead>\n",
       "<tbody>\n",
       "\t<tr><th scope=row>1</th><td></td><td>Afghanistan        </td><td> 33.0000</td><td> 65.0000</td><td>2020-01-22</td><td>0</td></tr>\n",
       "\t<tr><th scope=row>2</th><td></td><td>Albania            </td><td> 41.1533</td><td> 20.1683</td><td>2020-01-22</td><td>0</td></tr>\n",
       "\t<tr><th scope=row>3</th><td></td><td>Algeria            </td><td> 28.0339</td><td>  1.6596</td><td>2020-01-22</td><td>0</td></tr>\n",
       "\t<tr><th scope=row>4</th><td></td><td>Andorra            </td><td> 42.5063</td><td>  1.5218</td><td>2020-01-22</td><td>0</td></tr>\n",
       "\t<tr><th scope=row>5</th><td></td><td>Angola             </td><td>-11.2027</td><td> 17.8739</td><td>2020-01-22</td><td>0</td></tr>\n",
       "\t<tr><th scope=row>6</th><td></td><td>Antigua and Barbuda</td><td> 17.0608</td><td>-61.7964</td><td>2020-01-22</td><td>0</td></tr>\n",
       "</tbody>\n",
       "</table>\n"
      ],
      "text/latex": [
       "A data.frame: 6 × 6\n",
       "\\begin{tabular}{r|llllll}\n",
       "  & Province.State & Country.Region & Lat & Long & Date & Recovered\\\\\n",
       "  & <fct> & <fct> & <dbl> & <dbl> & <date> & <int>\\\\\n",
       "\\hline\n",
       "\t1 &  & Afghanistan         &  33.0000 &  65.0000 & 2020-01-22 & 0\\\\\n",
       "\t2 &  & Albania             &  41.1533 &  20.1683 & 2020-01-22 & 0\\\\\n",
       "\t3 &  & Algeria             &  28.0339 &   1.6596 & 2020-01-22 & 0\\\\\n",
       "\t4 &  & Andorra             &  42.5063 &   1.5218 & 2020-01-22 & 0\\\\\n",
       "\t5 &  & Angola              & -11.2027 &  17.8739 & 2020-01-22 & 0\\\\\n",
       "\t6 &  & Antigua and Barbuda &  17.0608 & -61.7964 & 2020-01-22 & 0\\\\\n",
       "\\end{tabular}\n"
      ],
      "text/markdown": [
       "\n",
       "A data.frame: 6 × 6\n",
       "\n",
       "| <!--/--> | Province.State &lt;fct&gt; | Country.Region &lt;fct&gt; | Lat &lt;dbl&gt; | Long &lt;dbl&gt; | Date &lt;date&gt; | Recovered &lt;int&gt; |\n",
       "|---|---|---|---|---|---|---|\n",
       "| 1 | <!----> | Afghanistan         |  33.0000 |  65.0000 | 2020-01-22 | 0 |\n",
       "| 2 | <!----> | Albania             |  41.1533 |  20.1683 | 2020-01-22 | 0 |\n",
       "| 3 | <!----> | Algeria             |  28.0339 |   1.6596 | 2020-01-22 | 0 |\n",
       "| 4 | <!----> | Andorra             |  42.5063 |   1.5218 | 2020-01-22 | 0 |\n",
       "| 5 | <!----> | Angola              | -11.2027 |  17.8739 | 2020-01-22 | 0 |\n",
       "| 6 | <!----> | Antigua and Barbuda |  17.0608 | -61.7964 | 2020-01-22 | 0 |\n",
       "\n"
      ],
      "text/plain": [
       "  Province.State Country.Region      Lat      Long     Date       Recovered\n",
       "1                Afghanistan          33.0000  65.0000 2020-01-22 0        \n",
       "2                Albania              41.1533  20.1683 2020-01-22 0        \n",
       "3                Algeria              28.0339   1.6596 2020-01-22 0        \n",
       "4                Andorra              42.5063   1.5218 2020-01-22 0        \n",
       "5                Angola              -11.2027  17.8739 2020-01-22 0        \n",
       "6                Antigua and Barbuda  17.0608 -61.7964 2020-01-22 0        "
      ]
     },
     "metadata": {},
     "output_type": "display_data"
    }
   ],
   "source": [
    "head(global_recovered_vertical.df)"
   ]
  },
  {
   "cell_type": "code",
   "execution_count": 80,
   "metadata": {
    "ExecuteTime": {
     "end_time": "2020-03-27T20:48:43.841765Z",
     "start_time": "2020-03-27T20:48:43.797Z"
    }
   },
   "outputs": [
    {
     "data": {
      "text/html": [
       "<table>\n",
       "<caption>A data.frame: 6 × 6</caption>\n",
       "<thead>\n",
       "\t<tr><th></th><th scope=col>Province.State</th><th scope=col>Country.Region</th><th scope=col>Lat</th><th scope=col>Long</th><th scope=col>Date</th><th scope=col>Deaths</th></tr>\n",
       "\t<tr><th></th><th scope=col>&lt;fct&gt;</th><th scope=col>&lt;fct&gt;</th><th scope=col>&lt;dbl&gt;</th><th scope=col>&lt;dbl&gt;</th><th scope=col>&lt;date&gt;</th><th scope=col>&lt;int&gt;</th></tr>\n",
       "</thead>\n",
       "<tbody>\n",
       "\t<tr><th scope=row>1</th><td></td><td>Afghanistan        </td><td> 33.0000</td><td> 65.0000</td><td>2020-01-22</td><td>0</td></tr>\n",
       "\t<tr><th scope=row>2</th><td></td><td>Albania            </td><td> 41.1533</td><td> 20.1683</td><td>2020-01-22</td><td>0</td></tr>\n",
       "\t<tr><th scope=row>3</th><td></td><td>Algeria            </td><td> 28.0339</td><td>  1.6596</td><td>2020-01-22</td><td>0</td></tr>\n",
       "\t<tr><th scope=row>4</th><td></td><td>Andorra            </td><td> 42.5063</td><td>  1.5218</td><td>2020-01-22</td><td>0</td></tr>\n",
       "\t<tr><th scope=row>5</th><td></td><td>Angola             </td><td>-11.2027</td><td> 17.8739</td><td>2020-01-22</td><td>0</td></tr>\n",
       "\t<tr><th scope=row>6</th><td></td><td>Antigua and Barbuda</td><td> 17.0608</td><td>-61.7964</td><td>2020-01-22</td><td>0</td></tr>\n",
       "</tbody>\n",
       "</table>\n"
      ],
      "text/latex": [
       "A data.frame: 6 × 6\n",
       "\\begin{tabular}{r|llllll}\n",
       "  & Province.State & Country.Region & Lat & Long & Date & Deaths\\\\\n",
       "  & <fct> & <fct> & <dbl> & <dbl> & <date> & <int>\\\\\n",
       "\\hline\n",
       "\t1 &  & Afghanistan         &  33.0000 &  65.0000 & 2020-01-22 & 0\\\\\n",
       "\t2 &  & Albania             &  41.1533 &  20.1683 & 2020-01-22 & 0\\\\\n",
       "\t3 &  & Algeria             &  28.0339 &   1.6596 & 2020-01-22 & 0\\\\\n",
       "\t4 &  & Andorra             &  42.5063 &   1.5218 & 2020-01-22 & 0\\\\\n",
       "\t5 &  & Angola              & -11.2027 &  17.8739 & 2020-01-22 & 0\\\\\n",
       "\t6 &  & Antigua and Barbuda &  17.0608 & -61.7964 & 2020-01-22 & 0\\\\\n",
       "\\end{tabular}\n"
      ],
      "text/markdown": [
       "\n",
       "A data.frame: 6 × 6\n",
       "\n",
       "| <!--/--> | Province.State &lt;fct&gt; | Country.Region &lt;fct&gt; | Lat &lt;dbl&gt; | Long &lt;dbl&gt; | Date &lt;date&gt; | Deaths &lt;int&gt; |\n",
       "|---|---|---|---|---|---|---|\n",
       "| 1 | <!----> | Afghanistan         |  33.0000 |  65.0000 | 2020-01-22 | 0 |\n",
       "| 2 | <!----> | Albania             |  41.1533 |  20.1683 | 2020-01-22 | 0 |\n",
       "| 3 | <!----> | Algeria             |  28.0339 |   1.6596 | 2020-01-22 | 0 |\n",
       "| 4 | <!----> | Andorra             |  42.5063 |   1.5218 | 2020-01-22 | 0 |\n",
       "| 5 | <!----> | Angola              | -11.2027 |  17.8739 | 2020-01-22 | 0 |\n",
       "| 6 | <!----> | Antigua and Barbuda |  17.0608 | -61.7964 | 2020-01-22 | 0 |\n",
       "\n"
      ],
      "text/plain": [
       "  Province.State Country.Region      Lat      Long     Date       Deaths\n",
       "1                Afghanistan          33.0000  65.0000 2020-01-22 0     \n",
       "2                Albania              41.1533  20.1683 2020-01-22 0     \n",
       "3                Algeria              28.0339   1.6596 2020-01-22 0     \n",
       "4                Andorra              42.5063   1.5218 2020-01-22 0     \n",
       "5                Angola              -11.2027  17.8739 2020-01-22 0     \n",
       "6                Antigua and Barbuda  17.0608 -61.7964 2020-01-22 0     "
      ]
     },
     "metadata": {},
     "output_type": "display_data"
    }
   ],
   "source": [
    "head(global_deaths_vertical.df)"
   ]
  },
  {
   "cell_type": "markdown",
   "metadata": {},
   "source": [
    "### Merge data"
   ]
  },
  {
   "cell_type": "code",
   "execution_count": 86,
   "metadata": {
    "ExecuteTime": {
     "end_time": "2020-03-27T20:53:53.635371Z",
     "start_time": "2020-03-27T20:53:52.499Z"
    }
   },
   "outputs": [],
   "source": [
    "global_merged.df <- merge(global_confirmed_vertical.df,\n",
    "      merge(global_recovered_vertical.df,global_deaths_vertical.df,\n",
    "      by=c(\"Province.State\",\"Country.Region\",\"Lat\",\"Long\",\"Date\")),\n",
    "      by=c(\"Province.State\",\"Country.Region\",\"Lat\",\"Long\",\"Date\"))"
   ]
  },
  {
   "cell_type": "markdown",
   "metadata": {},
   "source": [
    "## Italy\n",
    "\n",
    "### Translate columns"
   ]
  },
  {
   "cell_type": "code",
   "execution_count": 115,
   "metadata": {
    "ExecuteTime": {
     "end_time": "2020-03-27T21:22:46.833982Z",
     "start_time": "2020-03-27T21:22:46.784Z"
    }
   },
   "outputs": [
    {
     "data": {
      "text/html": [
       "<table>\n",
       "<caption>A data.frame: 6 × 18</caption>\n",
       "<thead>\n",
       "\t<tr><th></th><th scope=col>Date</th><th scope=col>Country.Region</th><th scope=col>RegionCode</th><th scope=col>Province.State</th><th scope=col>Lat</th><th scope=col>Long</th><th scope=col>HospitalizedWSymptoms</th><th scope=col>ICU</th><th scope=col>TotalHospitalized</th><th scope=col>HomeIsolation</th><th scope=col>Confirmed</th><th scope=col>DailyConfirmed</th><th scope=col>Recovered</th><th scope=col>Deaths</th><th scope=col>Total</th><th scope=col>Tests</th><th scope=col>NA</th><th scope=col>NA</th></tr>\n",
       "\t<tr><th></th><th scope=col>&lt;date&gt;</th><th scope=col>&lt;chr&gt;</th><th scope=col>&lt;int&gt;</th><th scope=col>&lt;fct&gt;</th><th scope=col>&lt;dbl&gt;</th><th scope=col>&lt;dbl&gt;</th><th scope=col>&lt;int&gt;</th><th scope=col>&lt;int&gt;</th><th scope=col>&lt;int&gt;</th><th scope=col>&lt;int&gt;</th><th scope=col>&lt;int&gt;</th><th scope=col>&lt;int&gt;</th><th scope=col>&lt;int&gt;</th><th scope=col>&lt;int&gt;</th><th scope=col>&lt;int&gt;</th><th scope=col>&lt;int&gt;</th><th scope=col>&lt;lgl&gt;</th><th scope=col>&lt;lgl&gt;</th></tr>\n",
       "</thead>\n",
       "<tbody>\n",
       "\t<tr><th scope=row>1</th><td>2020-03-27</td><td>Italy</td><td>13</td><td>Abruzzo       </td><td>42.35122</td><td>13.39844</td><td> 289</td><td> 71</td><td> 360</td><td> 565</td><td> 925</td><td> 65</td><td> 24</td><td>  68</td><td> 1017</td><td> 6109</td><td>NA</td><td>NA</td></tr>\n",
       "\t<tr><th scope=row>2</th><td>2020-03-27</td><td>Italy</td><td>17</td><td>Basilicata    </td><td>40.63947</td><td>15.80515</td><td>  22</td><td> 15</td><td>  37</td><td> 110</td><td> 147</td><td> 14</td><td>  1</td><td>   3</td><td>  151</td><td> 1254</td><td>NA</td><td>NA</td></tr>\n",
       "\t<tr><th scope=row>3</th><td>2020-03-27</td><td>Italy</td><td> 4</td><td>P.A. Bolzano  </td><td>46.49933</td><td>11.35662</td><td> 249</td><td> 45</td><td> 294</td><td> 539</td><td> 833</td><td> 42</td><td>110</td><td>  60</td><td> 1003</td><td> 8520</td><td>NA</td><td>NA</td></tr>\n",
       "\t<tr><th scope=row>4</th><td>2020-03-27</td><td>Italy</td><td>18</td><td>Calabria      </td><td>38.90598</td><td>16.59440</td><td> 103</td><td> 22</td><td> 125</td><td> 344</td><td> 469</td><td> 97</td><td>  7</td><td>  18</td><td>  494</td><td> 6901</td><td>NA</td><td>NA</td></tr>\n",
       "\t<tr><th scope=row>5</th><td>2020-03-27</td><td>Italy</td><td>15</td><td>Campania      </td><td>40.83957</td><td>14.25085</td><td> 456</td><td>113</td><td> 569</td><td> 723</td><td>1292</td><td>123</td><td> 64</td><td>  98</td><td> 1454</td><td> 9613</td><td>NA</td><td>NA</td></tr>\n",
       "\t<tr><th scope=row>6</th><td>2020-03-27</td><td>Italy</td><td> 8</td><td>Emilia Romagna</td><td>44.49437</td><td>11.34172</td><td>3461</td><td>308</td><td>3769</td><td>5592</td><td>9361</td><td>511</td><td>960</td><td>1267</td><td>11588</td><td>47798</td><td>NA</td><td>NA</td></tr>\n",
       "</tbody>\n",
       "</table>\n"
      ],
      "text/latex": [
       "A data.frame: 6 × 18\n",
       "\\begin{tabular}{r|llllllllllllllllll}\n",
       "  & Date & Country.Region & RegionCode & Province.State & Lat & Long & HospitalizedWSymptoms & ICU & TotalHospitalized & HomeIsolation & Confirmed & DailyConfirmed & Recovered & Deaths & Total & Tests & NA & NA\\\\\n",
       "  & <date> & <chr> & <int> & <fct> & <dbl> & <dbl> & <int> & <int> & <int> & <int> & <int> & <int> & <int> & <int> & <int> & <int> & <lgl> & <lgl>\\\\\n",
       "\\hline\n",
       "\t1 & 2020-03-27 & Italy & 13 & Abruzzo        & 42.35122 & 13.39844 &  289 &  71 &  360 &  565 &  925 &  65 &  24 &   68 &  1017 &  6109 & NA & NA\\\\\n",
       "\t2 & 2020-03-27 & Italy & 17 & Basilicata     & 40.63947 & 15.80515 &   22 &  15 &   37 &  110 &  147 &  14 &   1 &    3 &   151 &  1254 & NA & NA\\\\\n",
       "\t3 & 2020-03-27 & Italy &  4 & P.A. Bolzano   & 46.49933 & 11.35662 &  249 &  45 &  294 &  539 &  833 &  42 & 110 &   60 &  1003 &  8520 & NA & NA\\\\\n",
       "\t4 & 2020-03-27 & Italy & 18 & Calabria       & 38.90598 & 16.59440 &  103 &  22 &  125 &  344 &  469 &  97 &   7 &   18 &   494 &  6901 & NA & NA\\\\\n",
       "\t5 & 2020-03-27 & Italy & 15 & Campania       & 40.83957 & 14.25085 &  456 & 113 &  569 &  723 & 1292 & 123 &  64 &   98 &  1454 &  9613 & NA & NA\\\\\n",
       "\t6 & 2020-03-27 & Italy &  8 & Emilia Romagna & 44.49437 & 11.34172 & 3461 & 308 & 3769 & 5592 & 9361 & 511 & 960 & 1267 & 11588 & 47798 & NA & NA\\\\\n",
       "\\end{tabular}\n"
      ],
      "text/markdown": [
       "\n",
       "A data.frame: 6 × 18\n",
       "\n",
       "| <!--/--> | Date &lt;date&gt; | Country.Region &lt;chr&gt; | RegionCode &lt;int&gt; | Province.State &lt;fct&gt; | Lat &lt;dbl&gt; | Long &lt;dbl&gt; | HospitalizedWSymptoms &lt;int&gt; | ICU &lt;int&gt; | TotalHospitalized &lt;int&gt; | HomeIsolation &lt;int&gt; | Confirmed &lt;int&gt; | DailyConfirmed &lt;int&gt; | Recovered &lt;int&gt; | Deaths &lt;int&gt; | Total &lt;int&gt; | Tests &lt;int&gt; | NA &lt;lgl&gt; | NA &lt;lgl&gt; |\n",
       "|---|---|---|---|---|---|---|---|---|---|---|---|---|---|---|---|---|---|---|\n",
       "| 1 | 2020-03-27 | Italy | 13 | Abruzzo        | 42.35122 | 13.39844 |  289 |  71 |  360 |  565 |  925 |  65 |  24 |   68 |  1017 |  6109 | NA | NA |\n",
       "| 2 | 2020-03-27 | Italy | 17 | Basilicata     | 40.63947 | 15.80515 |   22 |  15 |   37 |  110 |  147 |  14 |   1 |    3 |   151 |  1254 | NA | NA |\n",
       "| 3 | 2020-03-27 | Italy |  4 | P.A. Bolzano   | 46.49933 | 11.35662 |  249 |  45 |  294 |  539 |  833 |  42 | 110 |   60 |  1003 |  8520 | NA | NA |\n",
       "| 4 | 2020-03-27 | Italy | 18 | Calabria       | 38.90598 | 16.59440 |  103 |  22 |  125 |  344 |  469 |  97 |   7 |   18 |   494 |  6901 | NA | NA |\n",
       "| 5 | 2020-03-27 | Italy | 15 | Campania       | 40.83957 | 14.25085 |  456 | 113 |  569 |  723 | 1292 | 123 |  64 |   98 |  1454 |  9613 | NA | NA |\n",
       "| 6 | 2020-03-27 | Italy |  8 | Emilia Romagna | 44.49437 | 11.34172 | 3461 | 308 | 3769 | 5592 | 9361 | 511 | 960 | 1267 | 11588 | 47798 | NA | NA |\n",
       "\n"
      ],
      "text/plain": [
       "  Date       Country.Region RegionCode Province.State Lat      Long    \n",
       "1 2020-03-27 Italy          13         Abruzzo        42.35122 13.39844\n",
       "2 2020-03-27 Italy          17         Basilicata     40.63947 15.80515\n",
       "3 2020-03-27 Italy           4         P.A. Bolzano   46.49933 11.35662\n",
       "4 2020-03-27 Italy          18         Calabria       38.90598 16.59440\n",
       "5 2020-03-27 Italy          15         Campania       40.83957 14.25085\n",
       "6 2020-03-27 Italy           8         Emilia Romagna 44.49437 11.34172\n",
       "  HospitalizedWSymptoms ICU TotalHospitalized HomeIsolation Confirmed\n",
       "1  289                   71  360               565           925     \n",
       "2   22                   15   37               110           147     \n",
       "3  249                   45  294               539           833     \n",
       "4  103                   22  125               344           469     \n",
       "5  456                  113  569               723          1292     \n",
       "6 3461                  308 3769              5592          9361     \n",
       "  DailyConfirmed Recovered Deaths Total Tests <NA> <NA>\n",
       "1  65             24         68    1017  6109 NA   NA  \n",
       "2  14              1          3     151  1254 NA   NA  \n",
       "3  42            110         60    1003  8520 NA   NA  \n",
       "4  97              7         18     494  6901 NA   NA  \n",
       "5 123             64         98    1454  9613 NA   NA  \n",
       "6 511            960       1267   11588 47798 NA   NA  "
      ]
     },
     "metadata": {},
     "output_type": "display_data"
    }
   ],
   "source": [
    "colnames(italy.df) <- c(\"Date\",\"Country.Region\",\"RegionCode\",\"Province.State\",\"Lat\",\"Long\",\"HospitalizedWSymptoms\",\"ICU\",\"TotalHospitalized\",\"HomeIsolation\",\"Confirmed\",\"DailyConfirmed\",\"Recovered\",\"Deaths\",\"Total\",\"Tests\")\n",
    "italy.df$Country.Region <- \"Italy\"\n",
    "italy.df$Date <- as.Date(italy.df$Date)\n",
    "head(italy.df)"
   ]
  },
  {
   "cell_type": "markdown",
   "metadata": {},
   "source": [
    "### Rearrange columns and drop useless columns"
   ]
  },
  {
   "cell_type": "code",
   "execution_count": 116,
   "metadata": {
    "ExecuteTime": {
     "end_time": "2020-03-27T21:22:50.293900Z",
     "start_time": "2020-03-27T21:22:49.616Z"
    }
   },
   "outputs": [],
   "source": [
    "italy.df <- italy.df[,c(4,2,5,6,1,11,13,14,7,8,9,10,12,15,16)]"
   ]
  },
  {
   "cell_type": "markdown",
   "metadata": {},
   "source": [
    "### Merge with global dataset and fill with NA"
   ]
  },
  {
   "cell_type": "code",
   "execution_count": 118,
   "metadata": {
    "ExecuteTime": {
     "end_time": "2020-03-27T21:23:03.611992Z",
     "start_time": "2020-03-27T21:23:03.575Z"
    }
   },
   "outputs": [],
   "source": [
    "output.df <- rbind.fill(italy.df,global_merged.df)"
   ]
  },
  {
   "cell_type": "markdown",
   "metadata": {},
   "source": [
    "### Sort data by date and then by country in alphabetic order"
   ]
  },
  {
   "cell_type": "code",
   "execution_count": 121,
   "metadata": {
    "ExecuteTime": {
     "end_time": "2020-03-27T21:24:42.486271Z",
     "start_time": "2020-03-27T21:24:42.366Z"
    }
   },
   "outputs": [
    {
     "data": {
      "text/html": [
       "<table>\n",
       "<caption>A data.frame: 6 × 15</caption>\n",
       "<thead>\n",
       "\t<tr><th></th><th scope=col>Province.State</th><th scope=col>Country.Region</th><th scope=col>Lat</th><th scope=col>Long</th><th scope=col>Date</th><th scope=col>Confirmed</th><th scope=col>Recovered</th><th scope=col>Deaths</th><th scope=col>HospitalizedWSymptoms</th><th scope=col>ICU</th><th scope=col>TotalHospitalized</th><th scope=col>HomeIsolation</th><th scope=col>DailyConfirmed</th><th scope=col>Total</th><th scope=col>Tests</th></tr>\n",
       "\t<tr><th></th><th scope=col>&lt;fct&gt;</th><th scope=col>&lt;chr&gt;</th><th scope=col>&lt;dbl&gt;</th><th scope=col>&lt;dbl&gt;</th><th scope=col>&lt;date&gt;</th><th scope=col>&lt;int&gt;</th><th scope=col>&lt;int&gt;</th><th scope=col>&lt;int&gt;</th><th scope=col>&lt;int&gt;</th><th scope=col>&lt;int&gt;</th><th scope=col>&lt;int&gt;</th><th scope=col>&lt;int&gt;</th><th scope=col>&lt;int&gt;</th><th scope=col>&lt;int&gt;</th><th scope=col>&lt;int&gt;</th></tr>\n",
       "</thead>\n",
       "<tbody>\n",
       "\t<tr><th scope=row>22</th><td></td><td>Afghanistan        </td><td> 33.0000</td><td> 65.0000</td><td>2020-01-22</td><td>0</td><td>0</td><td>0</td><td>NA</td><td>NA</td><td>NA</td><td>NA</td><td>NA</td><td>NA</td><td>NA</td></tr>\n",
       "\t<tr><th scope=row>87</th><td></td><td>Albania            </td><td> 41.1533</td><td> 20.1683</td><td>2020-01-22</td><td>0</td><td>0</td><td>0</td><td>NA</td><td>NA</td><td>NA</td><td>NA</td><td>NA</td><td>NA</td><td>NA</td></tr>\n",
       "\t<tr><th scope=row>152</th><td></td><td>Algeria            </td><td> 28.0339</td><td>  1.6596</td><td>2020-01-22</td><td>0</td><td>0</td><td>0</td><td>NA</td><td>NA</td><td>NA</td><td>NA</td><td>NA</td><td>NA</td><td>NA</td></tr>\n",
       "\t<tr><th scope=row>217</th><td></td><td>Andorra            </td><td> 42.5063</td><td>  1.5218</td><td>2020-01-22</td><td>0</td><td>0</td><td>0</td><td>NA</td><td>NA</td><td>NA</td><td>NA</td><td>NA</td><td>NA</td><td>NA</td></tr>\n",
       "\t<tr><th scope=row>282</th><td></td><td>Angola             </td><td>-11.2027</td><td> 17.8739</td><td>2020-01-22</td><td>0</td><td>0</td><td>0</td><td>NA</td><td>NA</td><td>NA</td><td>NA</td><td>NA</td><td>NA</td><td>NA</td></tr>\n",
       "\t<tr><th scope=row>347</th><td></td><td>Antigua and Barbuda</td><td> 17.0608</td><td>-61.7964</td><td>2020-01-22</td><td>0</td><td>0</td><td>0</td><td>NA</td><td>NA</td><td>NA</td><td>NA</td><td>NA</td><td>NA</td><td>NA</td></tr>\n",
       "</tbody>\n",
       "</table>\n"
      ],
      "text/latex": [
       "A data.frame: 6 × 15\n",
       "\\begin{tabular}{r|lllllllllllllll}\n",
       "  & Province.State & Country.Region & Lat & Long & Date & Confirmed & Recovered & Deaths & HospitalizedWSymptoms & ICU & TotalHospitalized & HomeIsolation & DailyConfirmed & Total & Tests\\\\\n",
       "  & <fct> & <chr> & <dbl> & <dbl> & <date> & <int> & <int> & <int> & <int> & <int> & <int> & <int> & <int> & <int> & <int>\\\\\n",
       "\\hline\n",
       "\t22 &  & Afghanistan         &  33.0000 &  65.0000 & 2020-01-22 & 0 & 0 & 0 & NA & NA & NA & NA & NA & NA & NA\\\\\n",
       "\t87 &  & Albania             &  41.1533 &  20.1683 & 2020-01-22 & 0 & 0 & 0 & NA & NA & NA & NA & NA & NA & NA\\\\\n",
       "\t152 &  & Algeria             &  28.0339 &   1.6596 & 2020-01-22 & 0 & 0 & 0 & NA & NA & NA & NA & NA & NA & NA\\\\\n",
       "\t217 &  & Andorra             &  42.5063 &   1.5218 & 2020-01-22 & 0 & 0 & 0 & NA & NA & NA & NA & NA & NA & NA\\\\\n",
       "\t282 &  & Angola              & -11.2027 &  17.8739 & 2020-01-22 & 0 & 0 & 0 & NA & NA & NA & NA & NA & NA & NA\\\\\n",
       "\t347 &  & Antigua and Barbuda &  17.0608 & -61.7964 & 2020-01-22 & 0 & 0 & 0 & NA & NA & NA & NA & NA & NA & NA\\\\\n",
       "\\end{tabular}\n"
      ],
      "text/markdown": [
       "\n",
       "A data.frame: 6 × 15\n",
       "\n",
       "| <!--/--> | Province.State &lt;fct&gt; | Country.Region &lt;chr&gt; | Lat &lt;dbl&gt; | Long &lt;dbl&gt; | Date &lt;date&gt; | Confirmed &lt;int&gt; | Recovered &lt;int&gt; | Deaths &lt;int&gt; | HospitalizedWSymptoms &lt;int&gt; | ICU &lt;int&gt; | TotalHospitalized &lt;int&gt; | HomeIsolation &lt;int&gt; | DailyConfirmed &lt;int&gt; | Total &lt;int&gt; | Tests &lt;int&gt; |\n",
       "|---|---|---|---|---|---|---|---|---|---|---|---|---|---|---|---|\n",
       "| 22 | <!----> | Afghanistan         |  33.0000 |  65.0000 | 2020-01-22 | 0 | 0 | 0 | NA | NA | NA | NA | NA | NA | NA |\n",
       "| 87 | <!----> | Albania             |  41.1533 |  20.1683 | 2020-01-22 | 0 | 0 | 0 | NA | NA | NA | NA | NA | NA | NA |\n",
       "| 152 | <!----> | Algeria             |  28.0339 |   1.6596 | 2020-01-22 | 0 | 0 | 0 | NA | NA | NA | NA | NA | NA | NA |\n",
       "| 217 | <!----> | Andorra             |  42.5063 |   1.5218 | 2020-01-22 | 0 | 0 | 0 | NA | NA | NA | NA | NA | NA | NA |\n",
       "| 282 | <!----> | Angola              | -11.2027 |  17.8739 | 2020-01-22 | 0 | 0 | 0 | NA | NA | NA | NA | NA | NA | NA |\n",
       "| 347 | <!----> | Antigua and Barbuda |  17.0608 | -61.7964 | 2020-01-22 | 0 | 0 | 0 | NA | NA | NA | NA | NA | NA | NA |\n",
       "\n"
      ],
      "text/plain": [
       "    Province.State Country.Region      Lat      Long     Date       Confirmed\n",
       "22                 Afghanistan          33.0000  65.0000 2020-01-22 0        \n",
       "87                 Albania              41.1533  20.1683 2020-01-22 0        \n",
       "152                Algeria              28.0339   1.6596 2020-01-22 0        \n",
       "217                Andorra              42.5063   1.5218 2020-01-22 0        \n",
       "282                Angola              -11.2027  17.8739 2020-01-22 0        \n",
       "347                Antigua and Barbuda  17.0608 -61.7964 2020-01-22 0        \n",
       "    Recovered Deaths HospitalizedWSymptoms ICU TotalHospitalized HomeIsolation\n",
       "22  0         0      NA                    NA  NA                NA           \n",
       "87  0         0      NA                    NA  NA                NA           \n",
       "152 0         0      NA                    NA  NA                NA           \n",
       "217 0         0      NA                    NA  NA                NA           \n",
       "282 0         0      NA                    NA  NA                NA           \n",
       "347 0         0      NA                    NA  NA                NA           \n",
       "    DailyConfirmed Total Tests\n",
       "22  NA             NA    NA   \n",
       "87  NA             NA    NA   \n",
       "152 NA             NA    NA   \n",
       "217 NA             NA    NA   \n",
       "282 NA             NA    NA   \n",
       "347 NA             NA    NA   "
      ]
     },
     "metadata": {},
     "output_type": "display_data"
    }
   ],
   "source": [
    "output.df <- output.df[order(output.df$Date,output.df$Country.Region),]\n",
    "head(output.df)"
   ]
  },
  {
   "cell_type": "code",
   "execution_count": 122,
   "metadata": {
    "ExecuteTime": {
     "end_time": "2020-03-27T21:30:19.561286Z",
     "start_time": "2020-03-27T21:30:19.487Z"
    }
   },
   "outputs": [],
   "source": [
    "saveRDS(output.df,\"COVID19_Global_Italy.Rdata\",version = 2)"
   ]
  }
 ],
 "metadata": {
  "kernelspec": {
   "display_name": "R",
   "language": "R",
   "name": "ir"
  },
  "language_info": {
   "codemirror_mode": "r",
   "file_extension": ".r",
   "mimetype": "text/x-r-source",
   "name": "R",
   "pygments_lexer": "r",
   "version": "3.6.2"
  },
  "latex_envs": {
   "LaTeX_envs_menu_present": true,
   "autoclose": false,
   "autocomplete": true,
   "bibliofile": "biblio.bib",
   "cite_by": "apalike",
   "current_citInitial": 1,
   "eqLabelWithNumbers": true,
   "eqNumInitial": 1,
   "hotkeys": {
    "equation": "Ctrl-E",
    "itemize": "Ctrl-I"
   },
   "labels_anchors": false,
   "latex_user_defs": false,
   "report_style_numbering": false,
   "user_envs_cfg": false
  },
  "toc": {
   "base_numbering": 1,
   "nav_menu": {},
   "number_sections": true,
   "sideBar": true,
   "skip_h1_title": false,
   "title_cell": "Table of Contents",
   "title_sidebar": "Contents",
   "toc_cell": false,
   "toc_position": {},
   "toc_section_display": true,
   "toc_window_display": false
  },
  "varInspector": {
   "cols": {
    "lenName": 16,
    "lenType": 16,
    "lenVar": 40
   },
   "kernels_config": {
    "python": {
     "delete_cmd_postfix": "",
     "delete_cmd_prefix": "del ",
     "library": "var_list.py",
     "varRefreshCmd": "print(var_dic_list())"
    },
    "r": {
     "delete_cmd_postfix": ") ",
     "delete_cmd_prefix": "rm(",
     "library": "var_list.r",
     "varRefreshCmd": "cat(var_dic_list()) "
    }
   },
   "types_to_exclude": [
    "module",
    "function",
    "builtin_function_or_method",
    "instance",
    "_Feature"
   ],
   "window_display": false
  }
 },
 "nbformat": 4,
 "nbformat_minor": 2
}
