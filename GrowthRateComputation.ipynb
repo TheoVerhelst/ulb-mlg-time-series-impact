{
 "cells": [
  {
   "cell_type": "markdown",
   "metadata": {},
   "source": [
    "# Compute growth rate per country"
   ]
  },
  {
   "cell_type": "markdown",
   "metadata": {},
   "source": [
    "## Auxiliary functions"
   ]
  },
  {
   "cell_type": "markdown",
   "metadata": {},
   "source": [
    "Basic growth rate $r(t) = \\frac{x(t+1)}{x(t)}$"
   ]
  },
  {
   "cell_type": "code",
   "execution_count": 1,
   "metadata": {
    "ExecuteTime": {
     "end_time": "2020-03-28T16:54:04.199830Z",
     "start_time": "2020-03-28T16:54:04.174Z"
    }
   },
   "outputs": [],
   "source": [
    "growthRate <- function(ts){\n",
    "    # x(t) = head(x,-1)\n",
    "    # x(t+1) = tail(x,-1)\n",
    "    return(c(NaN,tail(ts,-1)/head(ts,-1)))\n",
    "}"
   ]
  },
  {
   "cell_type": "markdown",
   "metadata": {},
   "source": [
    "Normalized growth rate $r_N(t) = \\frac{x(t+1)-x(t)}{x(t)}$"
   ]
  },
  {
   "cell_type": "code",
   "execution_count": 2,
   "metadata": {
    "ExecuteTime": {
     "end_time": "2020-03-28T16:54:04.228756Z",
     "start_time": "2020-03-28T16:54:04.203Z"
    }
   },
   "outputs": [],
   "source": [
    "growthRateNormalized <- function(ts){\n",
    "    # x(t) = head(x,-1)\n",
    "    # x(t+1) = tail(x,-1)\n",
    "    return(c(NaN,(tail(ts,-1)-head(ts,-1))/head(ts,-1)))\n",
    "}\n"
   ]
  },
  {
   "cell_type": "code",
   "execution_count": 3,
   "metadata": {
    "ExecuteTime": {
     "end_time": "2020-03-28T16:54:04.261667Z",
     "start_time": "2020-03-28T16:54:04.207Z"
    }
   },
   "outputs": [],
   "source": [
    "splitData <- function(province_country_pair,data.df){\n",
    "    data.df[data.df$Province.State == province_country_pair[1] &\n",
    "            data.df$Country.Region == province_country_pair[2]\n",
    "            ,]\n",
    "}\n",
    "\n",
    "computeGrowthRate <- function(country.df,growth_rate_function){\n",
    "    country.df$ConfirmedGrowthRate <- growth_rate_function(country.df$Confirmed)\n",
    "    country.df$RecoveredGrowthRate <- growth_rate_function(country.df$Recovered)\n",
    "    country.df$DeathsGrowthRate <- growth_rate_function(country.df$Deaths)\n",
    "    return(country.df)\n",
    "}\n"
   ]
  },
  {
   "cell_type": "markdown",
   "metadata": {},
   "source": [
    "## Read data in"
   ]
  },
  {
   "cell_type": "code",
   "execution_count": 4,
   "metadata": {
    "ExecuteTime": {
     "end_time": "2020-03-28T16:54:04.301561Z",
     "start_time": "2020-03-28T16:54:04.236Z"
    }
   },
   "outputs": [],
   "source": [
    "data.df <- readRDS(\"data/COVID19_Global_Italy.Rdata\")"
   ]
  },
  {
   "cell_type": "code",
   "execution_count": 5,
   "metadata": {
    "ExecuteTime": {
     "end_time": "2020-03-28T16:54:04.386365Z",
     "start_time": "2020-03-28T16:54:04.242Z"
    }
   },
   "outputs": [
    {
     "data": {
      "text/html": [
       "<table>\n",
       "<caption>A data.frame: 6 × 15</caption>\n",
       "<thead>\n",
       "\t<tr><th></th><th scope=col>Province.State</th><th scope=col>Country.Region</th><th scope=col>Lat</th><th scope=col>Long</th><th scope=col>Date</th><th scope=col>Confirmed</th><th scope=col>Recovered</th><th scope=col>Deaths</th><th scope=col>HospitalizedWSymptoms</th><th scope=col>ICU</th><th scope=col>TotalHospitalized</th><th scope=col>HomeIsolation</th><th scope=col>DailyConfirmed</th><th scope=col>Total</th><th scope=col>Tests</th></tr>\n",
       "\t<tr><th></th><th scope=col>&lt;fct&gt;</th><th scope=col>&lt;chr&gt;</th><th scope=col>&lt;dbl&gt;</th><th scope=col>&lt;dbl&gt;</th><th scope=col>&lt;date&gt;</th><th scope=col>&lt;int&gt;</th><th scope=col>&lt;int&gt;</th><th scope=col>&lt;int&gt;</th><th scope=col>&lt;int&gt;</th><th scope=col>&lt;int&gt;</th><th scope=col>&lt;int&gt;</th><th scope=col>&lt;int&gt;</th><th scope=col>&lt;int&gt;</th><th scope=col>&lt;int&gt;</th><th scope=col>&lt;int&gt;</th></tr>\n",
       "</thead>\n",
       "<tbody>\n",
       "\t<tr><th scope=row>22</th><td></td><td>Afghanistan        </td><td> 33.0000</td><td> 65.0000</td><td>2020-01-22</td><td>0</td><td>0</td><td>0</td><td>NA</td><td>NA</td><td>NA</td><td>NA</td><td>NA</td><td>NA</td><td>NA</td></tr>\n",
       "\t<tr><th scope=row>87</th><td></td><td>Albania            </td><td> 41.1533</td><td> 20.1683</td><td>2020-01-22</td><td>0</td><td>0</td><td>0</td><td>NA</td><td>NA</td><td>NA</td><td>NA</td><td>NA</td><td>NA</td><td>NA</td></tr>\n",
       "\t<tr><th scope=row>152</th><td></td><td>Algeria            </td><td> 28.0339</td><td>  1.6596</td><td>2020-01-22</td><td>0</td><td>0</td><td>0</td><td>NA</td><td>NA</td><td>NA</td><td>NA</td><td>NA</td><td>NA</td><td>NA</td></tr>\n",
       "\t<tr><th scope=row>217</th><td></td><td>Andorra            </td><td> 42.5063</td><td>  1.5218</td><td>2020-01-22</td><td>0</td><td>0</td><td>0</td><td>NA</td><td>NA</td><td>NA</td><td>NA</td><td>NA</td><td>NA</td><td>NA</td></tr>\n",
       "\t<tr><th scope=row>282</th><td></td><td>Angola             </td><td>-11.2027</td><td> 17.8739</td><td>2020-01-22</td><td>0</td><td>0</td><td>0</td><td>NA</td><td>NA</td><td>NA</td><td>NA</td><td>NA</td><td>NA</td><td>NA</td></tr>\n",
       "\t<tr><th scope=row>347</th><td></td><td>Antigua and Barbuda</td><td> 17.0608</td><td>-61.7964</td><td>2020-01-22</td><td>0</td><td>0</td><td>0</td><td>NA</td><td>NA</td><td>NA</td><td>NA</td><td>NA</td><td>NA</td><td>NA</td></tr>\n",
       "</tbody>\n",
       "</table>\n"
      ],
      "text/latex": [
       "A data.frame: 6 × 15\n",
       "\\begin{tabular}{r|lllllllllllllll}\n",
       "  & Province.State & Country.Region & Lat & Long & Date & Confirmed & Recovered & Deaths & HospitalizedWSymptoms & ICU & TotalHospitalized & HomeIsolation & DailyConfirmed & Total & Tests\\\\\n",
       "  & <fct> & <chr> & <dbl> & <dbl> & <date> & <int> & <int> & <int> & <int> & <int> & <int> & <int> & <int> & <int> & <int>\\\\\n",
       "\\hline\n",
       "\t22 &  & Afghanistan         &  33.0000 &  65.0000 & 2020-01-22 & 0 & 0 & 0 & NA & NA & NA & NA & NA & NA & NA\\\\\n",
       "\t87 &  & Albania             &  41.1533 &  20.1683 & 2020-01-22 & 0 & 0 & 0 & NA & NA & NA & NA & NA & NA & NA\\\\\n",
       "\t152 &  & Algeria             &  28.0339 &   1.6596 & 2020-01-22 & 0 & 0 & 0 & NA & NA & NA & NA & NA & NA & NA\\\\\n",
       "\t217 &  & Andorra             &  42.5063 &   1.5218 & 2020-01-22 & 0 & 0 & 0 & NA & NA & NA & NA & NA & NA & NA\\\\\n",
       "\t282 &  & Angola              & -11.2027 &  17.8739 & 2020-01-22 & 0 & 0 & 0 & NA & NA & NA & NA & NA & NA & NA\\\\\n",
       "\t347 &  & Antigua and Barbuda &  17.0608 & -61.7964 & 2020-01-22 & 0 & 0 & 0 & NA & NA & NA & NA & NA & NA & NA\\\\\n",
       "\\end{tabular}\n"
      ],
      "text/markdown": [
       "\n",
       "A data.frame: 6 × 15\n",
       "\n",
       "| <!--/--> | Province.State &lt;fct&gt; | Country.Region &lt;chr&gt; | Lat &lt;dbl&gt; | Long &lt;dbl&gt; | Date &lt;date&gt; | Confirmed &lt;int&gt; | Recovered &lt;int&gt; | Deaths &lt;int&gt; | HospitalizedWSymptoms &lt;int&gt; | ICU &lt;int&gt; | TotalHospitalized &lt;int&gt; | HomeIsolation &lt;int&gt; | DailyConfirmed &lt;int&gt; | Total &lt;int&gt; | Tests &lt;int&gt; |\n",
       "|---|---|---|---|---|---|---|---|---|---|---|---|---|---|---|---|\n",
       "| 22 | <!----> | Afghanistan         |  33.0000 |  65.0000 | 2020-01-22 | 0 | 0 | 0 | NA | NA | NA | NA | NA | NA | NA |\n",
       "| 87 | <!----> | Albania             |  41.1533 |  20.1683 | 2020-01-22 | 0 | 0 | 0 | NA | NA | NA | NA | NA | NA | NA |\n",
       "| 152 | <!----> | Algeria             |  28.0339 |   1.6596 | 2020-01-22 | 0 | 0 | 0 | NA | NA | NA | NA | NA | NA | NA |\n",
       "| 217 | <!----> | Andorra             |  42.5063 |   1.5218 | 2020-01-22 | 0 | 0 | 0 | NA | NA | NA | NA | NA | NA | NA |\n",
       "| 282 | <!----> | Angola              | -11.2027 |  17.8739 | 2020-01-22 | 0 | 0 | 0 | NA | NA | NA | NA | NA | NA | NA |\n",
       "| 347 | <!----> | Antigua and Barbuda |  17.0608 | -61.7964 | 2020-01-22 | 0 | 0 | 0 | NA | NA | NA | NA | NA | NA | NA |\n",
       "\n"
      ],
      "text/plain": [
       "    Province.State Country.Region      Lat      Long     Date       Confirmed\n",
       "22                 Afghanistan          33.0000  65.0000 2020-01-22 0        \n",
       "87                 Albania              41.1533  20.1683 2020-01-22 0        \n",
       "152                Algeria              28.0339   1.6596 2020-01-22 0        \n",
       "217                Andorra              42.5063   1.5218 2020-01-22 0        \n",
       "282                Angola              -11.2027  17.8739 2020-01-22 0        \n",
       "347                Antigua and Barbuda  17.0608 -61.7964 2020-01-22 0        \n",
       "    Recovered Deaths HospitalizedWSymptoms ICU TotalHospitalized HomeIsolation\n",
       "22  0         0      NA                    NA  NA                NA           \n",
       "87  0         0      NA                    NA  NA                NA           \n",
       "152 0         0      NA                    NA  NA                NA           \n",
       "217 0         0      NA                    NA  NA                NA           \n",
       "282 0         0      NA                    NA  NA                NA           \n",
       "347 0         0      NA                    NA  NA                NA           \n",
       "    DailyConfirmed Total Tests\n",
       "22  NA             NA    NA   \n",
       "87  NA             NA    NA   \n",
       "152 NA             NA    NA   \n",
       "217 NA             NA    NA   \n",
       "282 NA             NA    NA   \n",
       "347 NA             NA    NA   "
      ]
     },
     "metadata": {},
     "output_type": "display_data"
    }
   ],
   "source": [
    "head(data.df)"
   ]
  },
  {
   "cell_type": "markdown",
   "metadata": {},
   "source": [
    "## Split data accoring to unique Country-Province Pair"
   ]
  },
  {
   "cell_type": "code",
   "execution_count": 6,
   "metadata": {
    "ExecuteTime": {
     "end_time": "2020-03-28T16:54:04.435202Z",
     "start_time": "2020-03-28T16:54:04.276Z"
    }
   },
   "outputs": [],
   "source": [
    "unique_pairs.df <- unique(data.df[,c(\"Province.State\",\"Country.Region\")])\n",
    "unique_pairs.list <- mapply(c, as.character(unique_pairs.df$Province.State), unique_pairs.df$Country.Region, SIMPLIFY = FALSE)"
   ]
  },
  {
   "cell_type": "code",
   "execution_count": 7,
   "metadata": {
    "ExecuteTime": {
     "end_time": "2020-03-28T16:54:04.715479Z",
     "start_time": "2020-03-28T16:54:04.281Z"
    }
   },
   "outputs": [],
   "source": [
    "split_data.list <- lapply(unique_pairs.list,splitData,data.df)"
   ]
  },
  {
   "cell_type": "code",
   "execution_count": 8,
   "metadata": {
    "ExecuteTime": {
     "end_time": "2020-03-28T16:54:04.772309Z",
     "start_time": "2020-03-28T16:54:04.286Z"
    },
    "scrolled": true
   },
   "outputs": [
    {
     "data": {
      "text/html": [
       "<table>\n",
       "<caption>A data.frame: 6 × 15</caption>\n",
       "<thead>\n",
       "\t<tr><th></th><th scope=col>Province.State</th><th scope=col>Country.Region</th><th scope=col>Lat</th><th scope=col>Long</th><th scope=col>Date</th><th scope=col>Confirmed</th><th scope=col>Recovered</th><th scope=col>Deaths</th><th scope=col>HospitalizedWSymptoms</th><th scope=col>ICU</th><th scope=col>TotalHospitalized</th><th scope=col>HomeIsolation</th><th scope=col>DailyConfirmed</th><th scope=col>Total</th><th scope=col>Tests</th></tr>\n",
       "\t<tr><th></th><th scope=col>&lt;fct&gt;</th><th scope=col>&lt;chr&gt;</th><th scope=col>&lt;dbl&gt;</th><th scope=col>&lt;dbl&gt;</th><th scope=col>&lt;date&gt;</th><th scope=col>&lt;int&gt;</th><th scope=col>&lt;int&gt;</th><th scope=col>&lt;int&gt;</th><th scope=col>&lt;int&gt;</th><th scope=col>&lt;int&gt;</th><th scope=col>&lt;int&gt;</th><th scope=col>&lt;int&gt;</th><th scope=col>&lt;int&gt;</th><th scope=col>&lt;int&gt;</th><th scope=col>&lt;int&gt;</th></tr>\n",
       "</thead>\n",
       "<tbody>\n",
       "\t<tr><th scope=row>22</th><td></td><td>Afghanistan</td><td>33</td><td>65</td><td>2020-01-22</td><td>0</td><td>0</td><td>0</td><td>NA</td><td>NA</td><td>NA</td><td>NA</td><td>NA</td><td>NA</td><td>NA</td></tr>\n",
       "\t<tr><th scope=row>23</th><td></td><td>Afghanistan</td><td>33</td><td>65</td><td>2020-01-23</td><td>0</td><td>0</td><td>0</td><td>NA</td><td>NA</td><td>NA</td><td>NA</td><td>NA</td><td>NA</td><td>NA</td></tr>\n",
       "\t<tr><th scope=row>24</th><td></td><td>Afghanistan</td><td>33</td><td>65</td><td>2020-01-24</td><td>0</td><td>0</td><td>0</td><td>NA</td><td>NA</td><td>NA</td><td>NA</td><td>NA</td><td>NA</td><td>NA</td></tr>\n",
       "\t<tr><th scope=row>25</th><td></td><td>Afghanistan</td><td>33</td><td>65</td><td>2020-01-25</td><td>0</td><td>0</td><td>0</td><td>NA</td><td>NA</td><td>NA</td><td>NA</td><td>NA</td><td>NA</td><td>NA</td></tr>\n",
       "\t<tr><th scope=row>26</th><td></td><td>Afghanistan</td><td>33</td><td>65</td><td>2020-01-26</td><td>0</td><td>0</td><td>0</td><td>NA</td><td>NA</td><td>NA</td><td>NA</td><td>NA</td><td>NA</td><td>NA</td></tr>\n",
       "\t<tr><th scope=row>27</th><td></td><td>Afghanistan</td><td>33</td><td>65</td><td>2020-01-27</td><td>0</td><td>0</td><td>0</td><td>NA</td><td>NA</td><td>NA</td><td>NA</td><td>NA</td><td>NA</td><td>NA</td></tr>\n",
       "</tbody>\n",
       "</table>\n"
      ],
      "text/latex": [
       "A data.frame: 6 × 15\n",
       "\\begin{tabular}{r|lllllllllllllll}\n",
       "  & Province.State & Country.Region & Lat & Long & Date & Confirmed & Recovered & Deaths & HospitalizedWSymptoms & ICU & TotalHospitalized & HomeIsolation & DailyConfirmed & Total & Tests\\\\\n",
       "  & <fct> & <chr> & <dbl> & <dbl> & <date> & <int> & <int> & <int> & <int> & <int> & <int> & <int> & <int> & <int> & <int>\\\\\n",
       "\\hline\n",
       "\t22 &  & Afghanistan & 33 & 65 & 2020-01-22 & 0 & 0 & 0 & NA & NA & NA & NA & NA & NA & NA\\\\\n",
       "\t23 &  & Afghanistan & 33 & 65 & 2020-01-23 & 0 & 0 & 0 & NA & NA & NA & NA & NA & NA & NA\\\\\n",
       "\t24 &  & Afghanistan & 33 & 65 & 2020-01-24 & 0 & 0 & 0 & NA & NA & NA & NA & NA & NA & NA\\\\\n",
       "\t25 &  & Afghanistan & 33 & 65 & 2020-01-25 & 0 & 0 & 0 & NA & NA & NA & NA & NA & NA & NA\\\\\n",
       "\t26 &  & Afghanistan & 33 & 65 & 2020-01-26 & 0 & 0 & 0 & NA & NA & NA & NA & NA & NA & NA\\\\\n",
       "\t27 &  & Afghanistan & 33 & 65 & 2020-01-27 & 0 & 0 & 0 & NA & NA & NA & NA & NA & NA & NA\\\\\n",
       "\\end{tabular}\n"
      ],
      "text/markdown": [
       "\n",
       "A data.frame: 6 × 15\n",
       "\n",
       "| <!--/--> | Province.State &lt;fct&gt; | Country.Region &lt;chr&gt; | Lat &lt;dbl&gt; | Long &lt;dbl&gt; | Date &lt;date&gt; | Confirmed &lt;int&gt; | Recovered &lt;int&gt; | Deaths &lt;int&gt; | HospitalizedWSymptoms &lt;int&gt; | ICU &lt;int&gt; | TotalHospitalized &lt;int&gt; | HomeIsolation &lt;int&gt; | DailyConfirmed &lt;int&gt; | Total &lt;int&gt; | Tests &lt;int&gt; |\n",
       "|---|---|---|---|---|---|---|---|---|---|---|---|---|---|---|---|\n",
       "| 22 | <!----> | Afghanistan | 33 | 65 | 2020-01-22 | 0 | 0 | 0 | NA | NA | NA | NA | NA | NA | NA |\n",
       "| 23 | <!----> | Afghanistan | 33 | 65 | 2020-01-23 | 0 | 0 | 0 | NA | NA | NA | NA | NA | NA | NA |\n",
       "| 24 | <!----> | Afghanistan | 33 | 65 | 2020-01-24 | 0 | 0 | 0 | NA | NA | NA | NA | NA | NA | NA |\n",
       "| 25 | <!----> | Afghanistan | 33 | 65 | 2020-01-25 | 0 | 0 | 0 | NA | NA | NA | NA | NA | NA | NA |\n",
       "| 26 | <!----> | Afghanistan | 33 | 65 | 2020-01-26 | 0 | 0 | 0 | NA | NA | NA | NA | NA | NA | NA |\n",
       "| 27 | <!----> | Afghanistan | 33 | 65 | 2020-01-27 | 0 | 0 | 0 | NA | NA | NA | NA | NA | NA | NA |\n",
       "\n"
      ],
      "text/plain": [
       "   Province.State Country.Region Lat Long Date       Confirmed Recovered Deaths\n",
       "22                Afghanistan    33  65   2020-01-22 0         0         0     \n",
       "23                Afghanistan    33  65   2020-01-23 0         0         0     \n",
       "24                Afghanistan    33  65   2020-01-24 0         0         0     \n",
       "25                Afghanistan    33  65   2020-01-25 0         0         0     \n",
       "26                Afghanistan    33  65   2020-01-26 0         0         0     \n",
       "27                Afghanistan    33  65   2020-01-27 0         0         0     \n",
       "   HospitalizedWSymptoms ICU TotalHospitalized HomeIsolation DailyConfirmed\n",
       "22 NA                    NA  NA                NA            NA            \n",
       "23 NA                    NA  NA                NA            NA            \n",
       "24 NA                    NA  NA                NA            NA            \n",
       "25 NA                    NA  NA                NA            NA            \n",
       "26 NA                    NA  NA                NA            NA            \n",
       "27 NA                    NA  NA                NA            NA            \n",
       "   Total Tests\n",
       "22 NA    NA   \n",
       "23 NA    NA   \n",
       "24 NA    NA   \n",
       "25 NA    NA   \n",
       "26 NA    NA   \n",
       "27 NA    NA   "
      ]
     },
     "metadata": {},
     "output_type": "display_data"
    }
   ],
   "source": [
    "head(split_data.list[[1]])"
   ]
  },
  {
   "cell_type": "markdown",
   "metadata": {},
   "source": [
    "## Compute actual growth rate"
   ]
  },
  {
   "cell_type": "code",
   "execution_count": 9,
   "metadata": {
    "ExecuteTime": {
     "end_time": "2020-03-28T16:54:04.874030Z",
     "start_time": "2020-03-28T16:54:04.320Z"
    }
   },
   "outputs": [],
   "source": [
    "augmented_data.list <- lapply(split_data.list,computeGrowthRate,growthRateNormalized)"
   ]
  },
  {
   "cell_type": "code",
   "execution_count": 10,
   "metadata": {
    "ExecuteTime": {
     "end_time": "2020-03-28T16:54:04.935864Z",
     "start_time": "2020-03-28T16:54:04.323Z"
    },
    "scrolled": true
   },
   "outputs": [
    {
     "data": {
      "text/html": [
       "<table>\n",
       "<caption>A data.frame: 6 × 18</caption>\n",
       "<thead>\n",
       "\t<tr><th></th><th scope=col>Province.State</th><th scope=col>Country.Region</th><th scope=col>Lat</th><th scope=col>Long</th><th scope=col>Date</th><th scope=col>Confirmed</th><th scope=col>Recovered</th><th scope=col>Deaths</th><th scope=col>HospitalizedWSymptoms</th><th scope=col>ICU</th><th scope=col>TotalHospitalized</th><th scope=col>HomeIsolation</th><th scope=col>DailyConfirmed</th><th scope=col>Total</th><th scope=col>Tests</th><th scope=col>ConfirmedGrowthRate</th><th scope=col>RecoveredGrowthRate</th><th scope=col>DeathsGrowthRate</th></tr>\n",
       "\t<tr><th></th><th scope=col>&lt;fct&gt;</th><th scope=col>&lt;chr&gt;</th><th scope=col>&lt;dbl&gt;</th><th scope=col>&lt;dbl&gt;</th><th scope=col>&lt;date&gt;</th><th scope=col>&lt;int&gt;</th><th scope=col>&lt;int&gt;</th><th scope=col>&lt;int&gt;</th><th scope=col>&lt;int&gt;</th><th scope=col>&lt;int&gt;</th><th scope=col>&lt;int&gt;</th><th scope=col>&lt;int&gt;</th><th scope=col>&lt;int&gt;</th><th scope=col>&lt;int&gt;</th><th scope=col>&lt;int&gt;</th><th scope=col>&lt;dbl&gt;</th><th scope=col>&lt;dbl&gt;</th><th scope=col>&lt;dbl&gt;</th></tr>\n",
       "</thead>\n",
       "<tbody>\n",
       "\t<tr><th scope=row>22</th><td></td><td>Afghanistan</td><td>33</td><td>65</td><td>2020-01-22</td><td>0</td><td>0</td><td>0</td><td>NA</td><td>NA</td><td>NA</td><td>NA</td><td>NA</td><td>NA</td><td>NA</td><td>NaN</td><td>NaN</td><td>NaN</td></tr>\n",
       "\t<tr><th scope=row>23</th><td></td><td>Afghanistan</td><td>33</td><td>65</td><td>2020-01-23</td><td>0</td><td>0</td><td>0</td><td>NA</td><td>NA</td><td>NA</td><td>NA</td><td>NA</td><td>NA</td><td>NA</td><td>NaN</td><td>NaN</td><td>NaN</td></tr>\n",
       "\t<tr><th scope=row>24</th><td></td><td>Afghanistan</td><td>33</td><td>65</td><td>2020-01-24</td><td>0</td><td>0</td><td>0</td><td>NA</td><td>NA</td><td>NA</td><td>NA</td><td>NA</td><td>NA</td><td>NA</td><td>NaN</td><td>NaN</td><td>NaN</td></tr>\n",
       "\t<tr><th scope=row>25</th><td></td><td>Afghanistan</td><td>33</td><td>65</td><td>2020-01-25</td><td>0</td><td>0</td><td>0</td><td>NA</td><td>NA</td><td>NA</td><td>NA</td><td>NA</td><td>NA</td><td>NA</td><td>NaN</td><td>NaN</td><td>NaN</td></tr>\n",
       "\t<tr><th scope=row>26</th><td></td><td>Afghanistan</td><td>33</td><td>65</td><td>2020-01-26</td><td>0</td><td>0</td><td>0</td><td>NA</td><td>NA</td><td>NA</td><td>NA</td><td>NA</td><td>NA</td><td>NA</td><td>NaN</td><td>NaN</td><td>NaN</td></tr>\n",
       "\t<tr><th scope=row>27</th><td></td><td>Afghanistan</td><td>33</td><td>65</td><td>2020-01-27</td><td>0</td><td>0</td><td>0</td><td>NA</td><td>NA</td><td>NA</td><td>NA</td><td>NA</td><td>NA</td><td>NA</td><td>NaN</td><td>NaN</td><td>NaN</td></tr>\n",
       "</tbody>\n",
       "</table>\n"
      ],
      "text/latex": [
       "A data.frame: 6 × 18\n",
       "\\begin{tabular}{r|llllllllllllllllll}\n",
       "  & Province.State & Country.Region & Lat & Long & Date & Confirmed & Recovered & Deaths & HospitalizedWSymptoms & ICU & TotalHospitalized & HomeIsolation & DailyConfirmed & Total & Tests & ConfirmedGrowthRate & RecoveredGrowthRate & DeathsGrowthRate\\\\\n",
       "  & <fct> & <chr> & <dbl> & <dbl> & <date> & <int> & <int> & <int> & <int> & <int> & <int> & <int> & <int> & <int> & <int> & <dbl> & <dbl> & <dbl>\\\\\n",
       "\\hline\n",
       "\t22 &  & Afghanistan & 33 & 65 & 2020-01-22 & 0 & 0 & 0 & NA & NA & NA & NA & NA & NA & NA & NaN & NaN & NaN\\\\\n",
       "\t23 &  & Afghanistan & 33 & 65 & 2020-01-23 & 0 & 0 & 0 & NA & NA & NA & NA & NA & NA & NA & NaN & NaN & NaN\\\\\n",
       "\t24 &  & Afghanistan & 33 & 65 & 2020-01-24 & 0 & 0 & 0 & NA & NA & NA & NA & NA & NA & NA & NaN & NaN & NaN\\\\\n",
       "\t25 &  & Afghanistan & 33 & 65 & 2020-01-25 & 0 & 0 & 0 & NA & NA & NA & NA & NA & NA & NA & NaN & NaN & NaN\\\\\n",
       "\t26 &  & Afghanistan & 33 & 65 & 2020-01-26 & 0 & 0 & 0 & NA & NA & NA & NA & NA & NA & NA & NaN & NaN & NaN\\\\\n",
       "\t27 &  & Afghanistan & 33 & 65 & 2020-01-27 & 0 & 0 & 0 & NA & NA & NA & NA & NA & NA & NA & NaN & NaN & NaN\\\\\n",
       "\\end{tabular}\n"
      ],
      "text/markdown": [
       "\n",
       "A data.frame: 6 × 18\n",
       "\n",
       "| <!--/--> | Province.State &lt;fct&gt; | Country.Region &lt;chr&gt; | Lat &lt;dbl&gt; | Long &lt;dbl&gt; | Date &lt;date&gt; | Confirmed &lt;int&gt; | Recovered &lt;int&gt; | Deaths &lt;int&gt; | HospitalizedWSymptoms &lt;int&gt; | ICU &lt;int&gt; | TotalHospitalized &lt;int&gt; | HomeIsolation &lt;int&gt; | DailyConfirmed &lt;int&gt; | Total &lt;int&gt; | Tests &lt;int&gt; | ConfirmedGrowthRate &lt;dbl&gt; | RecoveredGrowthRate &lt;dbl&gt; | DeathsGrowthRate &lt;dbl&gt; |\n",
       "|---|---|---|---|---|---|---|---|---|---|---|---|---|---|---|---|---|---|---|\n",
       "| 22 | <!----> | Afghanistan | 33 | 65 | 2020-01-22 | 0 | 0 | 0 | NA | NA | NA | NA | NA | NA | NA | NaN | NaN | NaN |\n",
       "| 23 | <!----> | Afghanistan | 33 | 65 | 2020-01-23 | 0 | 0 | 0 | NA | NA | NA | NA | NA | NA | NA | NaN | NaN | NaN |\n",
       "| 24 | <!----> | Afghanistan | 33 | 65 | 2020-01-24 | 0 | 0 | 0 | NA | NA | NA | NA | NA | NA | NA | NaN | NaN | NaN |\n",
       "| 25 | <!----> | Afghanistan | 33 | 65 | 2020-01-25 | 0 | 0 | 0 | NA | NA | NA | NA | NA | NA | NA | NaN | NaN | NaN |\n",
       "| 26 | <!----> | Afghanistan | 33 | 65 | 2020-01-26 | 0 | 0 | 0 | NA | NA | NA | NA | NA | NA | NA | NaN | NaN | NaN |\n",
       "| 27 | <!----> | Afghanistan | 33 | 65 | 2020-01-27 | 0 | 0 | 0 | NA | NA | NA | NA | NA | NA | NA | NaN | NaN | NaN |\n",
       "\n"
      ],
      "text/plain": [
       "   Province.State Country.Region Lat Long Date       Confirmed Recovered Deaths\n",
       "22                Afghanistan    33  65   2020-01-22 0         0         0     \n",
       "23                Afghanistan    33  65   2020-01-23 0         0         0     \n",
       "24                Afghanistan    33  65   2020-01-24 0         0         0     \n",
       "25                Afghanistan    33  65   2020-01-25 0         0         0     \n",
       "26                Afghanistan    33  65   2020-01-26 0         0         0     \n",
       "27                Afghanistan    33  65   2020-01-27 0         0         0     \n",
       "   HospitalizedWSymptoms ICU TotalHospitalized HomeIsolation DailyConfirmed\n",
       "22 NA                    NA  NA                NA            NA            \n",
       "23 NA                    NA  NA                NA            NA            \n",
       "24 NA                    NA  NA                NA            NA            \n",
       "25 NA                    NA  NA                NA            NA            \n",
       "26 NA                    NA  NA                NA            NA            \n",
       "27 NA                    NA  NA                NA            NA            \n",
       "   Total Tests ConfirmedGrowthRate RecoveredGrowthRate DeathsGrowthRate\n",
       "22 NA    NA    NaN                 NaN                 NaN             \n",
       "23 NA    NA    NaN                 NaN                 NaN             \n",
       "24 NA    NA    NaN                 NaN                 NaN             \n",
       "25 NA    NA    NaN                 NaN                 NaN             \n",
       "26 NA    NA    NaN                 NaN                 NaN             \n",
       "27 NA    NA    NaN                 NaN                 NaN             "
      ]
     },
     "metadata": {},
     "output_type": "display_data"
    }
   ],
   "source": [
    "head(augmented_data.list[[1]])"
   ]
  },
  {
   "cell_type": "markdown",
   "metadata": {},
   "source": [
    "## Merge data"
   ]
  },
  {
   "cell_type": "code",
   "execution_count": 11,
   "metadata": {
    "ExecuteTime": {
     "end_time": "2020-03-28T16:54:05.692866Z",
     "start_time": "2020-03-28T16:54:04.349Z"
    }
   },
   "outputs": [],
   "source": [
    "augmented_data.df <- Reduce(rbind,augmented_data.list)"
   ]
  },
  {
   "cell_type": "markdown",
   "metadata": {},
   "source": [
    "## Sanity check"
   ]
  },
  {
   "cell_type": "code",
   "execution_count": 12,
   "metadata": {
    "ExecuteTime": {
     "end_time": "2020-03-28T16:54:05.727750Z",
     "start_time": "2020-03-28T16:54:04.377Z"
    }
   },
   "outputs": [
    {
     "data": {
      "text/html": [
       "TRUE"
      ],
      "text/latex": [
       "TRUE"
      ],
      "text/markdown": [
       "TRUE"
      ],
      "text/plain": [
       "[1] TRUE"
      ]
     },
     "metadata": {},
     "output_type": "display_data"
    }
   ],
   "source": [
    "# Augmented and original datasets should have the same number of rows\n",
    "dim(augmented_data.df)[1] == dim(data.df)[1]"
   ]
  },
  {
   "cell_type": "markdown",
   "metadata": {},
   "source": [
    "## Save data"
   ]
  },
  {
   "cell_type": "code",
   "execution_count": 14,
   "metadata": {
    "ExecuteTime": {
     "end_time": "2020-03-28T16:54:18.228859Z",
     "start_time": "2020-03-28T16:54:18.054Z"
    }
   },
   "outputs": [],
   "source": [
    "saveRDS(augmented_data.df,\"data/COVID19_Global_Italy_wGrowth.Rdata\",version=2)"
   ]
  }
 ],
 "metadata": {
  "kernelspec": {
   "display_name": "R",
   "language": "R",
   "name": "ir"
  },
  "language_info": {
   "codemirror_mode": "r",
   "file_extension": ".r",
   "mimetype": "text/x-r-source",
   "name": "R",
   "pygments_lexer": "r",
   "version": "3.6.2"
  },
  "latex_envs": {
   "LaTeX_envs_menu_present": true,
   "autoclose": false,
   "autocomplete": true,
   "bibliofile": "biblio.bib",
   "cite_by": "apalike",
   "current_citInitial": 1,
   "eqLabelWithNumbers": true,
   "eqNumInitial": 1,
   "hotkeys": {
    "equation": "Ctrl-E",
    "itemize": "Ctrl-I"
   },
   "labels_anchors": false,
   "latex_user_defs": false,
   "report_style_numbering": false,
   "user_envs_cfg": false
  },
  "toc": {
   "base_numbering": 1,
   "nav_menu": {},
   "number_sections": true,
   "sideBar": true,
   "skip_h1_title": false,
   "title_cell": "Table of Contents",
   "title_sidebar": "Contents",
   "toc_cell": false,
   "toc_position": {},
   "toc_section_display": true,
   "toc_window_display": false
  },
  "varInspector": {
   "cols": {
    "lenName": 16,
    "lenType": 16,
    "lenVar": 40
   },
   "kernels_config": {
    "python": {
     "delete_cmd_postfix": "",
     "delete_cmd_prefix": "del ",
     "library": "var_list.py",
     "varRefreshCmd": "print(var_dic_list())"
    },
    "r": {
     "delete_cmd_postfix": ") ",
     "delete_cmd_prefix": "rm(",
     "library": "var_list.r",
     "varRefreshCmd": "cat(var_dic_list()) "
    }
   },
   "types_to_exclude": [
    "module",
    "function",
    "builtin_function_or_method",
    "instance",
    "_Feature"
   ],
   "window_display": false
  }
 },
 "nbformat": 4,
 "nbformat_minor": 2
}
